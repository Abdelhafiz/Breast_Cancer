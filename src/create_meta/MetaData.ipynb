{
 "cells": [
  {
   "cell_type": "markdown",
   "metadata": {},
   "source": [
    "<h1>Generate Meta Data Files</h1>\n",
    "<p>Jay Narhan</p>\n",
    "May 2017\n",
    "\n",
    "Parse text files that describe DDSM and MIAS datasets. We then augment and create three meta file: \n",
    "* meta_data_all.csv: one file represents meta info on all raw csv files forDDSM and MIAS (in long format), \n",
    "* meta_data_detection.csv: meta data for differenced images (goes from long to wide based on patient ID and view - MLO or CC) which can be used in detecting abnormality. \n",
    "* meta_data_diagnosis.csv: meta data for differenced images (goes from long to wide based on patient ID and view - MLO or CC) which can be used in detecting pathology. \n",
    "\n",
    "meta_data_all.csv will be of the following format:\n",
    "\n",
    "|Patient_ID | Image_Name | Orientation | View | Lesion_Type | Detection_Res |Pathology_Res|\n",
    "|-----------|------------|-------------|------|-------------|---------------|-------------|\n",
    "|-----------|------------|-------------|------|-------------|---------------|-------------|\n",
    "\n",
    "The other two CSVs will be of the following format:\n",
    "\n",
    "|Patient_ID | Image_Name | View |  Detection_Res |Pathology_Res|\n",
    "|-----------|------------|------| ---------------|-------------|\n",
    "|-----------|------------|------| ---------------|-------------|\n",
    "\n",
    "* Orientation refers to whether the image is of the left or right breast.\n",
    "* View refers to whether the image is Cranio-Caudal (Top looking down) or Medio-Lateral-Oblique()\n",
    "* Detection_Res serves to label with an abnormality exists in the mammogram\n",
    "* Pathology serves as the diagnostic classification objective (labels can include NORMAL, MALIGNANT, or  BENIGN)."
   ]
  },
  {
   "cell_type": "code",
   "execution_count": 1,
   "metadata": {
    "collapsed": true
   },
   "outputs": [],
   "source": [
    "__version__   = '0.1.0'\n",
    "__status__    = 'Development'\n",
    "__date__      = '2017-May-25'\n",
    "__author__    = 'Jay Narhan'"
   ]
  },
  {
   "cell_type": "code",
   "execution_count": 2,
   "metadata": {
    "collapsed": true
   },
   "outputs": [],
   "source": [
    "import os\n",
    "import pandas as pd\n",
    "import numpy as np\n",
    "\n",
    "from collections import Counter"
   ]
  },
  {
   "cell_type": "code",
   "execution_count": 3,
   "metadata": {
    "collapsed": true
   },
   "outputs": [],
   "source": [
    "META_ROOT = os.path.realpath('../../Meta_Data_Files') + '/'\n",
    "\n",
    "DDSM_META = META_ROOT + 'Ddsm_png.csv'\n",
    "MIAS_META = META_ROOT + 'MIAS.txt'"
   ]
  },
  {
   "cell_type": "markdown",
   "metadata": {},
   "source": [
    "<h2>Read DDSM Meta Data:</h2>"
   ]
  },
  {
   "cell_type": "code",
   "execution_count": 4,
   "metadata": {
    "collapsed": true
   },
   "outputs": [],
   "source": [
    "ddsm = pd.read_csv(DDSM_META, skiprows=[0,2])\n",
    "ddsm = ddsm.replace(np.NAN, \"None\")\n",
    "ddsm = ddsm.drop(['Type', 'AbType', 'Scanner', 'SubFolder'], axis=1)\n",
    "\n",
    "ddsm['Pathology'].replace('None', 'NORMAL', inplace=True)\n",
    "\n",
    "ddsm['Detection_Res'] = np.where( ddsm['Pathology'].str.match(r'NORMAL'), 'NORMAL', 'ABNORMAL' )\n",
    "ddsm['View']          = np.where( ddsm['Name'].str.contains(r'CC'), 'CC', 'MLO')\n",
    "ddsm['Patient_ID']    = ddsm['Name'].str.extract(r'^([^.]*)', expand=False)\n",
    "ddsm['Orientation']   = np.where( ddsm['Name'].str.contains(r'LEFT'), 'LEFT', 'RIGHT')"
   ]
  },
  {
   "cell_type": "code",
   "execution_count": 5,
   "metadata": {},
   "outputs": [
    {
     "name": "stdout",
     "output_type": "stream",
     "text": [
      "Length of DDSM meta information (not necessarily files available): 5492\n"
     ]
    }
   ],
   "source": [
    "ddsm  = ddsm.rename(columns= {'Name': 'Image_Name', 'LesionType': 'Lesion_Type', 'Pathology': 'Pathology_Res'})\n",
    "order = ['Patient_ID', 'Image_Name', 'Orientation', 'View', 'Lesion_Type', 'Detection_Res', 'Pathology_Res']\n",
    "\n",
    "ddsm = ddsm[order]\n",
    "\n",
    "print 'Length of DDSM meta information (not necessarily files available): {}'.format(len(ddsm))"
   ]
  },
  {
   "cell_type": "code",
   "execution_count": 6,
   "metadata": {},
   "outputs": [
    {
     "data": {
      "text/html": [
       "<div>\n",
       "<table border=\"1\" class=\"dataframe\">\n",
       "  <thead>\n",
       "    <tr style=\"text-align: right;\">\n",
       "      <th></th>\n",
       "      <th>Patient_ID</th>\n",
       "      <th>Image_Name</th>\n",
       "      <th>Orientation</th>\n",
       "      <th>View</th>\n",
       "      <th>Lesion_Type</th>\n",
       "      <th>Detection_Res</th>\n",
       "      <th>Pathology_Res</th>\n",
       "    </tr>\n",
       "  </thead>\n",
       "  <tbody>\n",
       "    <tr>\n",
       "      <th>0</th>\n",
       "      <td>C_0001_1</td>\n",
       "      <td>C_0001_1.LEFT_CC.LJPEG.png</td>\n",
       "      <td>LEFT</td>\n",
       "      <td>CC</td>\n",
       "      <td>None</td>\n",
       "      <td>NORMAL</td>\n",
       "      <td>NORMAL</td>\n",
       "    </tr>\n",
       "    <tr>\n",
       "      <th>1</th>\n",
       "      <td>C_0001_1</td>\n",
       "      <td>C_0001_1.LEFT_MLO.LJPEG.png</td>\n",
       "      <td>LEFT</td>\n",
       "      <td>MLO</td>\n",
       "      <td>None</td>\n",
       "      <td>NORMAL</td>\n",
       "      <td>NORMAL</td>\n",
       "    </tr>\n",
       "    <tr>\n",
       "      <th>2</th>\n",
       "      <td>C_0001_1</td>\n",
       "      <td>C_0001_1.RIGHT_CC.LJPEG.png</td>\n",
       "      <td>RIGHT</td>\n",
       "      <td>CC</td>\n",
       "      <td>MASS</td>\n",
       "      <td>ABNORMAL</td>\n",
       "      <td>MALIGNANT</td>\n",
       "    </tr>\n",
       "    <tr>\n",
       "      <th>3</th>\n",
       "      <td>C_0001_1</td>\n",
       "      <td>C_0001_1.RIGHT_MLO.LJPEG.png</td>\n",
       "      <td>RIGHT</td>\n",
       "      <td>MLO</td>\n",
       "      <td>MASS</td>\n",
       "      <td>ABNORMAL</td>\n",
       "      <td>MALIGNANT</td>\n",
       "    </tr>\n",
       "    <tr>\n",
       "      <th>4</th>\n",
       "      <td>C_0002_1</td>\n",
       "      <td>C_0002_1.LEFT_CC.LJPEG.png</td>\n",
       "      <td>LEFT</td>\n",
       "      <td>CC</td>\n",
       "      <td>CALCIFICATION</td>\n",
       "      <td>ABNORMAL</td>\n",
       "      <td>MALIGNANT</td>\n",
       "    </tr>\n",
       "    <tr>\n",
       "      <th>5</th>\n",
       "      <td>C_0002_1</td>\n",
       "      <td>C_0002_1.LEFT_MLO.LJPEG.png</td>\n",
       "      <td>LEFT</td>\n",
       "      <td>MLO</td>\n",
       "      <td>CALCIFICATION</td>\n",
       "      <td>ABNORMAL</td>\n",
       "      <td>MALIGNANT</td>\n",
       "    </tr>\n",
       "    <tr>\n",
       "      <th>6</th>\n",
       "      <td>C_0002_1</td>\n",
       "      <td>C_0002_1.RIGHT_CC.LJPEG.png</td>\n",
       "      <td>RIGHT</td>\n",
       "      <td>CC</td>\n",
       "      <td>None</td>\n",
       "      <td>NORMAL</td>\n",
       "      <td>NORMAL</td>\n",
       "    </tr>\n",
       "    <tr>\n",
       "      <th>7</th>\n",
       "      <td>C_0002_1</td>\n",
       "      <td>C_0002_1.RIGHT_MLO.LJPEG.png</td>\n",
       "      <td>RIGHT</td>\n",
       "      <td>MLO</td>\n",
       "      <td>None</td>\n",
       "      <td>NORMAL</td>\n",
       "      <td>NORMAL</td>\n",
       "    </tr>\n",
       "  </tbody>\n",
       "</table>\n",
       "</div>"
      ],
      "text/plain": [
       "  Patient_ID                    Image_Name Orientation View    Lesion_Type  \\\n",
       "0   C_0001_1    C_0001_1.LEFT_CC.LJPEG.png        LEFT   CC           None   \n",
       "1   C_0001_1   C_0001_1.LEFT_MLO.LJPEG.png        LEFT  MLO           None   \n",
       "2   C_0001_1   C_0001_1.RIGHT_CC.LJPEG.png       RIGHT   CC           MASS   \n",
       "3   C_0001_1  C_0001_1.RIGHT_MLO.LJPEG.png       RIGHT  MLO           MASS   \n",
       "4   C_0002_1    C_0002_1.LEFT_CC.LJPEG.png        LEFT   CC  CALCIFICATION   \n",
       "5   C_0002_1   C_0002_1.LEFT_MLO.LJPEG.png        LEFT  MLO  CALCIFICATION   \n",
       "6   C_0002_1   C_0002_1.RIGHT_CC.LJPEG.png       RIGHT   CC           None   \n",
       "7   C_0002_1  C_0002_1.RIGHT_MLO.LJPEG.png       RIGHT  MLO           None   \n",
       "\n",
       "  Detection_Res Pathology_Res  \n",
       "0        NORMAL        NORMAL  \n",
       "1        NORMAL        NORMAL  \n",
       "2      ABNORMAL     MALIGNANT  \n",
       "3      ABNORMAL     MALIGNANT  \n",
       "4      ABNORMAL     MALIGNANT  \n",
       "5      ABNORMAL     MALIGNANT  \n",
       "6        NORMAL        NORMAL  \n",
       "7        NORMAL        NORMAL  "
      ]
     },
     "execution_count": 6,
     "metadata": {},
     "output_type": "execute_result"
    }
   ],
   "source": [
    "ddsm.head(n=8)"
   ]
  },
  {
   "cell_type": "code",
   "execution_count": 7,
   "metadata": {
    "collapsed": true
   },
   "outputs": [],
   "source": [
    "pat_ids = [pat_id for pat_id in ddsm['Patient_ID']]\n",
    "\n",
    "if len(pat_ids) % 4 != 0: # this = number of images and should be divisible by 4!\n",
    "    print 'Missing DDSM data!'\n",
    "    print 'Number of patients: {}'.format(len(set(pat_ids)))\n",
    "    print 'Number of images: {}'.format(len(pat_ids))\n",
    "\n",
    "    # Missing data:\n",
    "    counts = Counter(pat_ids)\n",
    "    for k,v in counts.iteritems():\n",
    "        if v != 4:\n",
    "            print 'DDSM Patient: {0} only has {1} images'.format(k, v)"
   ]
  },
  {
   "cell_type": "markdown",
   "metadata": {},
   "source": [
    "<h2>Read in MIAS Meta Data:</h2>"
   ]
  },
  {
   "cell_type": "code",
   "execution_count": 8,
   "metadata": {
    "collapsed": true
   },
   "outputs": [],
   "source": [
    "with open(MIAS_META) as f:\n",
    "    content = f.readlines()"
   ]
  },
  {
   "cell_type": "code",
   "execution_count": 9,
   "metadata": {
    "collapsed": true
   },
   "outputs": [],
   "source": [
    "mias = pd.DataFrame(columns=order)"
   ]
  },
  {
   "cell_type": "code",
   "execution_count": 10,
   "metadata": {
    "collapsed": true
   },
   "outputs": [],
   "source": [
    "mias_patient = 0\n",
    "for i, row in enumerate(content):\n",
    "    line = row.split(' ')\n",
    "    \n",
    "    img_name = 'mdb' + str(i+1).zfill(3) + '.png' # text file has error in names i.e. line[0] - do not use\n",
    "    \n",
    "    lesion =  line[2] \n",
    "    if lesion == 'NORM':\n",
    "        lesion = 'None'\n",
    "    elif lesion == 'CALC':\n",
    "        lesion = 'CALCIFICATION'\n",
    "        \n",
    "    if line[3] != '\\n':\n",
    "        pathology = line[3]\n",
    "        if pathology == 'B':\n",
    "            pathology = 'BENIGN'\n",
    "        else:\n",
    "            pathology = 'MALIGNANT'\n",
    "    else:\n",
    "        pathology = 'NORMAL'\n",
    "    \n",
    "    if pathology == 'NORMAL':\n",
    "        detection = 'NORMAL'\n",
    "    else:\n",
    "        detection = 'ABNORMAL'\n",
    "        \n",
    "    patient_id = 'MIAS_' + str(mias_patient)\n",
    "    \n",
    "    if i%2 == 0:\n",
    "        mias.loc[i] = [patient_id, img_name, 'LEFT', 'MLO', lesion, detection, pathology]\n",
    "    else:\n",
    "        mias.loc[i] = [patient_id, img_name, 'RIGHT', 'MLO', lesion, detection, pathology]\n",
    "        mias_patient += 1"
   ]
  },
  {
   "cell_type": "code",
   "execution_count": 11,
   "metadata": {},
   "outputs": [
    {
     "data": {
      "text/html": [
       "<div>\n",
       "<table border=\"1\" class=\"dataframe\">\n",
       "  <thead>\n",
       "    <tr style=\"text-align: right;\">\n",
       "      <th></th>\n",
       "      <th>Patient_ID</th>\n",
       "      <th>Image_Name</th>\n",
       "      <th>Orientation</th>\n",
       "      <th>View</th>\n",
       "      <th>Lesion_Type</th>\n",
       "      <th>Detection_Res</th>\n",
       "      <th>Pathology_Res</th>\n",
       "    </tr>\n",
       "  </thead>\n",
       "  <tbody>\n",
       "    <tr>\n",
       "      <th>0</th>\n",
       "      <td>MIAS_0</td>\n",
       "      <td>mdb001.png</td>\n",
       "      <td>LEFT</td>\n",
       "      <td>MLO</td>\n",
       "      <td>CIRC</td>\n",
       "      <td>ABNORMAL</td>\n",
       "      <td>BENIGN</td>\n",
       "    </tr>\n",
       "    <tr>\n",
       "      <th>1</th>\n",
       "      <td>MIAS_0</td>\n",
       "      <td>mdb002.png</td>\n",
       "      <td>RIGHT</td>\n",
       "      <td>MLO</td>\n",
       "      <td>CIRC</td>\n",
       "      <td>ABNORMAL</td>\n",
       "      <td>BENIGN</td>\n",
       "    </tr>\n",
       "    <tr>\n",
       "      <th>2</th>\n",
       "      <td>MIAS_1</td>\n",
       "      <td>mdb003.png</td>\n",
       "      <td>LEFT</td>\n",
       "      <td>MLO</td>\n",
       "      <td>None</td>\n",
       "      <td>NORMAL</td>\n",
       "      <td>NORMAL</td>\n",
       "    </tr>\n",
       "    <tr>\n",
       "      <th>3</th>\n",
       "      <td>MIAS_1</td>\n",
       "      <td>mdb004.png</td>\n",
       "      <td>RIGHT</td>\n",
       "      <td>MLO</td>\n",
       "      <td>None</td>\n",
       "      <td>NORMAL</td>\n",
       "      <td>NORMAL</td>\n",
       "    </tr>\n",
       "    <tr>\n",
       "      <th>4</th>\n",
       "      <td>MIAS_2</td>\n",
       "      <td>mdb005.png</td>\n",
       "      <td>LEFT</td>\n",
       "      <td>MLO</td>\n",
       "      <td>CIRC</td>\n",
       "      <td>ABNORMAL</td>\n",
       "      <td>BENIGN</td>\n",
       "    </tr>\n",
       "    <tr>\n",
       "      <th>5</th>\n",
       "      <td>MIAS_2</td>\n",
       "      <td>mdb006.png</td>\n",
       "      <td>RIGHT</td>\n",
       "      <td>MLO</td>\n",
       "      <td>CIRC</td>\n",
       "      <td>ABNORMAL</td>\n",
       "      <td>BENIGN</td>\n",
       "    </tr>\n",
       "    <tr>\n",
       "      <th>6</th>\n",
       "      <td>MIAS_3</td>\n",
       "      <td>mdb007.png</td>\n",
       "      <td>LEFT</td>\n",
       "      <td>MLO</td>\n",
       "      <td>None</td>\n",
       "      <td>NORMAL</td>\n",
       "      <td>NORMAL</td>\n",
       "    </tr>\n",
       "    <tr>\n",
       "      <th>7</th>\n",
       "      <td>MIAS_3</td>\n",
       "      <td>mdb008.png</td>\n",
       "      <td>RIGHT</td>\n",
       "      <td>MLO</td>\n",
       "      <td>None</td>\n",
       "      <td>NORMAL</td>\n",
       "      <td>NORMAL</td>\n",
       "    </tr>\n",
       "  </tbody>\n",
       "</table>\n",
       "</div>"
      ],
      "text/plain": [
       "  Patient_ID  Image_Name Orientation View Lesion_Type Detection_Res  \\\n",
       "0     MIAS_0  mdb001.png        LEFT  MLO        CIRC      ABNORMAL   \n",
       "1     MIAS_0  mdb002.png       RIGHT  MLO        CIRC      ABNORMAL   \n",
       "2     MIAS_1  mdb003.png        LEFT  MLO        None        NORMAL   \n",
       "3     MIAS_1  mdb004.png       RIGHT  MLO        None        NORMAL   \n",
       "4     MIAS_2  mdb005.png        LEFT  MLO        CIRC      ABNORMAL   \n",
       "5     MIAS_2  mdb006.png       RIGHT  MLO        CIRC      ABNORMAL   \n",
       "6     MIAS_3  mdb007.png        LEFT  MLO        None        NORMAL   \n",
       "7     MIAS_3  mdb008.png       RIGHT  MLO        None        NORMAL   \n",
       "\n",
       "  Pathology_Res  \n",
       "0        BENIGN  \n",
       "1        BENIGN  \n",
       "2        NORMAL  \n",
       "3        NORMAL  \n",
       "4        BENIGN  \n",
       "5        BENIGN  \n",
       "6        NORMAL  \n",
       "7        NORMAL  "
      ]
     },
     "execution_count": 11,
     "metadata": {},
     "output_type": "execute_result"
    }
   ],
   "source": [
    "mias.head(n=8)"
   ]
  },
  {
   "cell_type": "code",
   "execution_count": 12,
   "metadata": {},
   "outputs": [
    {
     "name": "stdout",
     "output_type": "stream",
     "text": [
      "Length of MIAS meta information (not necessarily files): 330\n"
     ]
    }
   ],
   "source": [
    "print 'Length of MIAS meta information (not necessarily files): {}'.format(len(mias))"
   ]
  },
  {
   "cell_type": "markdown",
   "metadata": {},
   "source": [
    "<h3>Create meta_data_all.csv</h3>\n",
    "\n",
    "This is one file representing meta info on all raw csv files for DDSM and MIAS."
   ]
  },
  {
   "cell_type": "code",
   "execution_count": 13,
   "metadata": {
    "collapsed": true
   },
   "outputs": [],
   "source": [
    "all_data = pd.DataFrame(columns=order)\n",
    "all_data = all_data.append(ddsm)\n",
    "all_data = all_data.append(mias)"
   ]
  },
  {
   "cell_type": "code",
   "execution_count": 14,
   "metadata": {
    "collapsed": true
   },
   "outputs": [],
   "source": [
    "all_data.to_csv(path_or_buf=META_ROOT +'meta_data_all.csv', index=False)"
   ]
  },
  {
   "cell_type": "markdown",
   "metadata": {
    "collapsed": true
   },
   "source": [
    "---"
   ]
  },
  {
   "cell_type": "code",
   "execution_count": 15,
   "metadata": {},
   "outputs": [
    {
     "data": {
      "text/html": [
       "<div>\n",
       "<table border=\"1\" class=\"dataframe\">\n",
       "  <thead>\n",
       "    <tr style=\"text-align: right;\">\n",
       "      <th></th>\n",
       "      <th>Patient_ID</th>\n",
       "      <th>Image_Name</th>\n",
       "      <th>Orientation</th>\n",
       "      <th>View</th>\n",
       "      <th>Lesion_Type</th>\n",
       "      <th>Detection_Res</th>\n",
       "      <th>Pathology_Res</th>\n",
       "    </tr>\n",
       "  </thead>\n",
       "  <tbody>\n",
       "    <tr>\n",
       "      <th>0</th>\n",
       "      <td>C_0001_1</td>\n",
       "      <td>C_0001_1.LEFT_CC.LJPEG.png</td>\n",
       "      <td>LEFT</td>\n",
       "      <td>CC</td>\n",
       "      <td>None</td>\n",
       "      <td>NORMAL</td>\n",
       "      <td>NORMAL</td>\n",
       "    </tr>\n",
       "    <tr>\n",
       "      <th>1</th>\n",
       "      <td>C_0001_1</td>\n",
       "      <td>C_0001_1.LEFT_MLO.LJPEG.png</td>\n",
       "      <td>LEFT</td>\n",
       "      <td>MLO</td>\n",
       "      <td>None</td>\n",
       "      <td>NORMAL</td>\n",
       "      <td>NORMAL</td>\n",
       "    </tr>\n",
       "    <tr>\n",
       "      <th>2</th>\n",
       "      <td>C_0001_1</td>\n",
       "      <td>C_0001_1.RIGHT_CC.LJPEG.png</td>\n",
       "      <td>RIGHT</td>\n",
       "      <td>CC</td>\n",
       "      <td>MASS</td>\n",
       "      <td>ABNORMAL</td>\n",
       "      <td>MALIGNANT</td>\n",
       "    </tr>\n",
       "    <tr>\n",
       "      <th>3</th>\n",
       "      <td>C_0001_1</td>\n",
       "      <td>C_0001_1.RIGHT_MLO.LJPEG.png</td>\n",
       "      <td>RIGHT</td>\n",
       "      <td>MLO</td>\n",
       "      <td>MASS</td>\n",
       "      <td>ABNORMAL</td>\n",
       "      <td>MALIGNANT</td>\n",
       "    </tr>\n",
       "    <tr>\n",
       "      <th>4</th>\n",
       "      <td>C_0002_1</td>\n",
       "      <td>C_0002_1.LEFT_CC.LJPEG.png</td>\n",
       "      <td>LEFT</td>\n",
       "      <td>CC</td>\n",
       "      <td>CALCIFICATION</td>\n",
       "      <td>ABNORMAL</td>\n",
       "      <td>MALIGNANT</td>\n",
       "    </tr>\n",
       "  </tbody>\n",
       "</table>\n",
       "</div>"
      ],
      "text/plain": [
       "  Patient_ID                    Image_Name Orientation View    Lesion_Type  \\\n",
       "0   C_0001_1    C_0001_1.LEFT_CC.LJPEG.png        LEFT   CC           None   \n",
       "1   C_0001_1   C_0001_1.LEFT_MLO.LJPEG.png        LEFT  MLO           None   \n",
       "2   C_0001_1   C_0001_1.RIGHT_CC.LJPEG.png       RIGHT   CC           MASS   \n",
       "3   C_0001_1  C_0001_1.RIGHT_MLO.LJPEG.png       RIGHT  MLO           MASS   \n",
       "4   C_0002_1    C_0002_1.LEFT_CC.LJPEG.png        LEFT   CC  CALCIFICATION   \n",
       "\n",
       "  Detection_Res Pathology_Res  \n",
       "0        NORMAL        NORMAL  \n",
       "1        NORMAL        NORMAL  \n",
       "2      ABNORMAL     MALIGNANT  \n",
       "3      ABNORMAL     MALIGNANT  \n",
       "4      ABNORMAL     MALIGNANT  "
      ]
     },
     "execution_count": 15,
     "metadata": {},
     "output_type": "execute_result"
    }
   ],
   "source": [
    "all_data.head()"
   ]
  },
  {
   "cell_type": "markdown",
   "metadata": {},
   "source": [
    "<h2>Creating Meta Data for Differencing Use</h2>"
   ]
  },
  {
   "cell_type": "code",
   "execution_count": 16,
   "metadata": {},
   "outputs": [
    {
     "name": "stdout",
     "output_type": "stream",
     "text": [
      "Unique Detection_Res values: set(['ABNORMAL', 'NORMAL'])\n",
      "Unique Pathology_Res values: set(['BENIGN', 'BENIGN_WITHOUT_CALLBACK', 'UNPROVEN', 'MALIGNANT', 'NORMAL'])\n"
     ]
    }
   ],
   "source": [
    "print 'Unique Detection_Res values: {}'.format(set(all_data.Detection_Res))\n",
    "print 'Unique Pathology_Res values: {}'.format(set(all_data.Pathology_Res))"
   ]
  },
  {
   "cell_type": "code",
   "execution_count": 17,
   "metadata": {
    "collapsed": true
   },
   "outputs": [],
   "source": [
    "meta_left  = all_data.query('Orientation == \"LEFT\"')\n",
    "meta_right = all_data.query('Orientation == \"RIGHT\"')"
   ]
  },
  {
   "cell_type": "code",
   "execution_count": 18,
   "metadata": {},
   "outputs": [
    {
     "name": "stdout",
     "output_type": "stream",
     "text": [
      "Number of records in meta:       2909\n"
     ]
    }
   ],
   "source": [
    "meta = meta_left.merge(meta_right, how='inner', on=['Patient_ID', 'View']) # Long to wide on Patients and type of view\n",
    "del meta['Image_Name_x']\n",
    "del meta['Image_Name_y']\n",
    "\n",
    "meta['Image_Name'] = meta.Patient_ID + '_' + meta.View + '.png'\n",
    "\n",
    "print 'Number of records in meta: {:>10}'.format(meta['Patient_ID'].count())"
   ]
  },
  {
   "cell_type": "code",
   "execution_count": 19,
   "metadata": {},
   "outputs": [
    {
     "data": {
      "text/html": [
       "<div>\n",
       "<table border=\"1\" class=\"dataframe\">\n",
       "  <thead>\n",
       "    <tr style=\"text-align: right;\">\n",
       "      <th></th>\n",
       "      <th>Patient_ID</th>\n",
       "      <th>Orientation_x</th>\n",
       "      <th>View</th>\n",
       "      <th>Lesion_Type_x</th>\n",
       "      <th>Detection_Res_x</th>\n",
       "      <th>Pathology_Res_x</th>\n",
       "      <th>Orientation_y</th>\n",
       "      <th>Lesion_Type_y</th>\n",
       "      <th>Detection_Res_y</th>\n",
       "      <th>Pathology_Res_y</th>\n",
       "      <th>Image_Name</th>\n",
       "    </tr>\n",
       "  </thead>\n",
       "  <tbody>\n",
       "    <tr>\n",
       "      <th>0</th>\n",
       "      <td>C_0001_1</td>\n",
       "      <td>LEFT</td>\n",
       "      <td>CC</td>\n",
       "      <td>None</td>\n",
       "      <td>NORMAL</td>\n",
       "      <td>NORMAL</td>\n",
       "      <td>RIGHT</td>\n",
       "      <td>MASS</td>\n",
       "      <td>ABNORMAL</td>\n",
       "      <td>MALIGNANT</td>\n",
       "      <td>C_0001_1_CC.png</td>\n",
       "    </tr>\n",
       "    <tr>\n",
       "      <th>1</th>\n",
       "      <td>C_0001_1</td>\n",
       "      <td>LEFT</td>\n",
       "      <td>MLO</td>\n",
       "      <td>None</td>\n",
       "      <td>NORMAL</td>\n",
       "      <td>NORMAL</td>\n",
       "      <td>RIGHT</td>\n",
       "      <td>MASS</td>\n",
       "      <td>ABNORMAL</td>\n",
       "      <td>MALIGNANT</td>\n",
       "      <td>C_0001_1_MLO.png</td>\n",
       "    </tr>\n",
       "    <tr>\n",
       "      <th>2</th>\n",
       "      <td>C_0002_1</td>\n",
       "      <td>LEFT</td>\n",
       "      <td>CC</td>\n",
       "      <td>CALCIFICATION</td>\n",
       "      <td>ABNORMAL</td>\n",
       "      <td>MALIGNANT</td>\n",
       "      <td>RIGHT</td>\n",
       "      <td>None</td>\n",
       "      <td>NORMAL</td>\n",
       "      <td>NORMAL</td>\n",
       "      <td>C_0002_1_CC.png</td>\n",
       "    </tr>\n",
       "    <tr>\n",
       "      <th>3</th>\n",
       "      <td>C_0002_1</td>\n",
       "      <td>LEFT</td>\n",
       "      <td>MLO</td>\n",
       "      <td>CALCIFICATION</td>\n",
       "      <td>ABNORMAL</td>\n",
       "      <td>MALIGNANT</td>\n",
       "      <td>RIGHT</td>\n",
       "      <td>None</td>\n",
       "      <td>NORMAL</td>\n",
       "      <td>NORMAL</td>\n",
       "      <td>C_0002_1_MLO.png</td>\n",
       "    </tr>\n",
       "    <tr>\n",
       "      <th>4</th>\n",
       "      <td>C_0003_1</td>\n",
       "      <td>LEFT</td>\n",
       "      <td>CC</td>\n",
       "      <td>None</td>\n",
       "      <td>NORMAL</td>\n",
       "      <td>NORMAL</td>\n",
       "      <td>RIGHT</td>\n",
       "      <td>MASS</td>\n",
       "      <td>ABNORMAL</td>\n",
       "      <td>MALIGNANT</td>\n",
       "      <td>C_0003_1_CC.png</td>\n",
       "    </tr>\n",
       "  </tbody>\n",
       "</table>\n",
       "</div>"
      ],
      "text/plain": [
       "  Patient_ID Orientation_x View  Lesion_Type_x Detection_Res_x  \\\n",
       "0   C_0001_1          LEFT   CC           None          NORMAL   \n",
       "1   C_0001_1          LEFT  MLO           None          NORMAL   \n",
       "2   C_0002_1          LEFT   CC  CALCIFICATION        ABNORMAL   \n",
       "3   C_0002_1          LEFT  MLO  CALCIFICATION        ABNORMAL   \n",
       "4   C_0003_1          LEFT   CC           None          NORMAL   \n",
       "\n",
       "  Pathology_Res_x Orientation_y Lesion_Type_y Detection_Res_y Pathology_Res_y  \\\n",
       "0          NORMAL         RIGHT          MASS        ABNORMAL       MALIGNANT   \n",
       "1          NORMAL         RIGHT          MASS        ABNORMAL       MALIGNANT   \n",
       "2       MALIGNANT         RIGHT          None          NORMAL          NORMAL   \n",
       "3       MALIGNANT         RIGHT          None          NORMAL          NORMAL   \n",
       "4          NORMAL         RIGHT          MASS        ABNORMAL       MALIGNANT   \n",
       "\n",
       "         Image_Name  \n",
       "0   C_0001_1_CC.png  \n",
       "1  C_0001_1_MLO.png  \n",
       "2   C_0002_1_CC.png  \n",
       "3  C_0002_1_MLO.png  \n",
       "4   C_0003_1_CC.png  "
      ]
     },
     "execution_count": 19,
     "metadata": {},
     "output_type": "execute_result"
    }
   ],
   "source": [
    "meta.head()"
   ]
  },
  {
   "cell_type": "code",
   "execution_count": 20,
   "metadata": {},
   "outputs": [
    {
     "data": {
      "text/html": [
       "<div>\n",
       "<table border=\"1\" class=\"dataframe\">\n",
       "  <thead>\n",
       "    <tr style=\"text-align: right;\">\n",
       "      <th></th>\n",
       "      <th>Patient_ID</th>\n",
       "      <th>Image_Name</th>\n",
       "      <th>View</th>\n",
       "      <th>Orientation_x</th>\n",
       "      <th>Lesion_Type_x</th>\n",
       "      <th>Detection_Res_x</th>\n",
       "      <th>Pathology_Res_x</th>\n",
       "      <th>Orientation_y</th>\n",
       "      <th>Lesion_Type_y</th>\n",
       "      <th>Detection_Res_y</th>\n",
       "      <th>Pathology_Res_y</th>\n",
       "    </tr>\n",
       "  </thead>\n",
       "  <tbody>\n",
       "    <tr>\n",
       "      <th>0</th>\n",
       "      <td>C_0001_1</td>\n",
       "      <td>C_0001_1_CC.png</td>\n",
       "      <td>CC</td>\n",
       "      <td>LEFT</td>\n",
       "      <td>None</td>\n",
       "      <td>NORMAL</td>\n",
       "      <td>NORMAL</td>\n",
       "      <td>RIGHT</td>\n",
       "      <td>MASS</td>\n",
       "      <td>ABNORMAL</td>\n",
       "      <td>MALIGNANT</td>\n",
       "    </tr>\n",
       "    <tr>\n",
       "      <th>1</th>\n",
       "      <td>C_0001_1</td>\n",
       "      <td>C_0001_1_MLO.png</td>\n",
       "      <td>MLO</td>\n",
       "      <td>LEFT</td>\n",
       "      <td>None</td>\n",
       "      <td>NORMAL</td>\n",
       "      <td>NORMAL</td>\n",
       "      <td>RIGHT</td>\n",
       "      <td>MASS</td>\n",
       "      <td>ABNORMAL</td>\n",
       "      <td>MALIGNANT</td>\n",
       "    </tr>\n",
       "    <tr>\n",
       "      <th>2</th>\n",
       "      <td>C_0002_1</td>\n",
       "      <td>C_0002_1_CC.png</td>\n",
       "      <td>CC</td>\n",
       "      <td>LEFT</td>\n",
       "      <td>CALCIFICATION</td>\n",
       "      <td>ABNORMAL</td>\n",
       "      <td>MALIGNANT</td>\n",
       "      <td>RIGHT</td>\n",
       "      <td>None</td>\n",
       "      <td>NORMAL</td>\n",
       "      <td>NORMAL</td>\n",
       "    </tr>\n",
       "    <tr>\n",
       "      <th>3</th>\n",
       "      <td>C_0002_1</td>\n",
       "      <td>C_0002_1_MLO.png</td>\n",
       "      <td>MLO</td>\n",
       "      <td>LEFT</td>\n",
       "      <td>CALCIFICATION</td>\n",
       "      <td>ABNORMAL</td>\n",
       "      <td>MALIGNANT</td>\n",
       "      <td>RIGHT</td>\n",
       "      <td>None</td>\n",
       "      <td>NORMAL</td>\n",
       "      <td>NORMAL</td>\n",
       "    </tr>\n",
       "    <tr>\n",
       "      <th>4</th>\n",
       "      <td>C_0003_1</td>\n",
       "      <td>C_0003_1_CC.png</td>\n",
       "      <td>CC</td>\n",
       "      <td>LEFT</td>\n",
       "      <td>None</td>\n",
       "      <td>NORMAL</td>\n",
       "      <td>NORMAL</td>\n",
       "      <td>RIGHT</td>\n",
       "      <td>MASS</td>\n",
       "      <td>ABNORMAL</td>\n",
       "      <td>MALIGNANT</td>\n",
       "    </tr>\n",
       "  </tbody>\n",
       "</table>\n",
       "</div>"
      ],
      "text/plain": [
       "  Patient_ID        Image_Name View Orientation_x  Lesion_Type_x  \\\n",
       "0   C_0001_1   C_0001_1_CC.png   CC          LEFT           None   \n",
       "1   C_0001_1  C_0001_1_MLO.png  MLO          LEFT           None   \n",
       "2   C_0002_1   C_0002_1_CC.png   CC          LEFT  CALCIFICATION   \n",
       "3   C_0002_1  C_0002_1_MLO.png  MLO          LEFT  CALCIFICATION   \n",
       "4   C_0003_1   C_0003_1_CC.png   CC          LEFT           None   \n",
       "\n",
       "  Detection_Res_x Pathology_Res_x Orientation_y Lesion_Type_y Detection_Res_y  \\\n",
       "0          NORMAL          NORMAL         RIGHT          MASS        ABNORMAL   \n",
       "1          NORMAL          NORMAL         RIGHT          MASS        ABNORMAL   \n",
       "2        ABNORMAL       MALIGNANT         RIGHT          None          NORMAL   \n",
       "3        ABNORMAL       MALIGNANT         RIGHT          None          NORMAL   \n",
       "4          NORMAL          NORMAL         RIGHT          MASS        ABNORMAL   \n",
       "\n",
       "  Pathology_Res_y  \n",
       "0       MALIGNANT  \n",
       "1       MALIGNANT  \n",
       "2          NORMAL  \n",
       "3          NORMAL  \n",
       "4       MALIGNANT  "
      ]
     },
     "execution_count": 20,
     "metadata": {},
     "output_type": "execute_result"
    }
   ],
   "source": [
    "meta = pd.DataFrame(meta, columns=('Patient_ID', 'Image_Name', 'View', \n",
    "                                   'Orientation_x', 'Lesion_Type_x', 'Detection_Res_x', 'Pathology_Res_x', \n",
    "                                   'Orientation_y', 'Lesion_Type_y', 'Detection_Res_y', 'Pathology_Res_y'))\n",
    "meta.head()"
   ]
  },
  {
   "cell_type": "code",
   "execution_count": 21,
   "metadata": {
    "collapsed": true
   },
   "outputs": [],
   "source": [
    "malignants = np.where( ((meta['Pathology_Res_x'] == 'MALIGNANT') & (meta['Pathology_Res_y'] == 'MALIGNANT')) |\n",
    "                       ((meta['Pathology_Res_x'] == 'NORMAL') & (meta['Pathology_Res_y'] == 'MALIGNANT')) |\n",
    "                       ((meta['Pathology_Res_x'] == 'MALIGNANT') & (meta['Pathology_Res_y'] == 'NORMAL')) )\n",
    "\n",
    "benigns = np.where( ((meta['Pathology_Res_x'] == 'BENIGN') & (meta['Pathology_Res_y'] == 'BENIGN')) |\n",
    "                    ((meta['Pathology_Res_x'] == 'NORMAL') & (meta['Pathology_Res_y'] == 'BENIGN')) |\n",
    "                    ((meta['Pathology_Res_x'] == 'BENIGN') & (meta['Pathology_Res_y'] == 'NORMAL')) |\n",
    "                    ((meta['Pathology_Res_x'] == 'BENIGN_WITHOUT_CALLBACK') & (meta['Pathology_Res_y'] == 'BENIGN_WITHOUT_CALLBACK')) |\n",
    "                    ((meta['Pathology_Res_x'] == 'BENIGN_WITHOUT_CALLBACK') & (meta['Pathology_Res_y'] == 'NORMAL')) |\n",
    "                    ((meta['Pathology_Res_x'] == 'NORMAL') & (meta['Pathology_Res_y'] == 'BENIGN_WITHOUT_CALLBACK')) |\n",
    "                    ((meta['Pathology_Res_x'] == 'BENIGN') & (meta['Pathology_Res_y'] == 'BENIGN_WITHOUT_CALLBACK')) |\n",
    "                    ((meta['Pathology_Res_x'] == 'BENIGN_WITHOUT_CALLBACK') & (meta['Pathology_Res_y'] == 'BENIGN')) )\n",
    "            \n",
    "both = np.where( ((meta['Pathology_Res_x'] == 'BENIGN') & (meta['Pathology_Res_y'] == 'MALIGNANT')) |\n",
    "                 ((meta['Pathology_Res_x'] == 'MALIGNANT') & (meta['Pathology_Res_y'] == 'BENIGN')) |\n",
    "                 ((meta['Pathology_Res_x'] == 'BENIGN_WITHOUT_CALLBACK') & (meta['Pathology_Res_y'] == 'MALIGNANT')) |\n",
    "                 ((meta['Pathology_Res_x'] == 'MALIGNANT') & (meta['Pathology_Res_y'] == 'BENIGN_WITHOUT_CALLBACK')) )\n",
    "                \n",
    "\n",
    "normals = np.where( (meta['Pathology_Res_x'] == 'NORMAL') & (meta['Pathology_Res_y'] == 'NORMAL') )\n",
    "\n",
    "unproven = np.where( (meta['Pathology_Res_x'] == 'UNPROVEN') | (meta['Pathology_Res_y'] == 'UNPROVEN') )"
   ]
  },
  {
   "cell_type": "code",
   "execution_count": 22,
   "metadata": {
    "collapsed": true
   },
   "outputs": [],
   "source": [
    "def add_diagnosis(row_indxs, df, label):\n",
    "    for item in row_indxs:\n",
    "        df.loc[item, 'Pathology_Res'] = label\n",
    "    # Pass by reference, no return needed"
   ]
  },
  {
   "cell_type": "code",
   "execution_count": 23,
   "metadata": {
    "collapsed": true
   },
   "outputs": [],
   "source": [
    "add_diagnosis(malignants, meta, 'MALIGNANT')\n",
    "add_diagnosis(benigns, meta, 'BENIGN')\n",
    "add_diagnosis(both, meta, 'BENIGN+MALIGNANT')\n",
    "add_diagnosis(normals, meta, 'NORMAL')\n",
    "add_diagnosis(unproven, meta, 'UNPROVEN')"
   ]
  },
  {
   "cell_type": "code",
   "execution_count": 24,
   "metadata": {},
   "outputs": [
    {
     "data": {
      "text/html": [
       "<div>\n",
       "<table border=\"1\" class=\"dataframe\">\n",
       "  <thead>\n",
       "    <tr style=\"text-align: right;\">\n",
       "      <th></th>\n",
       "      <th>Patient_ID</th>\n",
       "      <th>Image_Name</th>\n",
       "      <th>View</th>\n",
       "      <th>Orientation_x</th>\n",
       "      <th>Lesion_Type_x</th>\n",
       "      <th>Detection_Res_x</th>\n",
       "      <th>Pathology_Res_x</th>\n",
       "      <th>Orientation_y</th>\n",
       "      <th>Lesion_Type_y</th>\n",
       "      <th>Detection_Res_y</th>\n",
       "      <th>Pathology_Res_y</th>\n",
       "      <th>Pathology_Res</th>\n",
       "    </tr>\n",
       "  </thead>\n",
       "  <tbody>\n",
       "    <tr>\n",
       "      <th>9</th>\n",
       "      <td>C_0006_1</td>\n",
       "      <td>C_0006_1_MLO.png</td>\n",
       "      <td>MLO</td>\n",
       "      <td>LEFT</td>\n",
       "      <td>MASS</td>\n",
       "      <td>ABNORMAL</td>\n",
       "      <td>MALIGNANT</td>\n",
       "      <td>RIGHT</td>\n",
       "      <td>MASS</td>\n",
       "      <td>ABNORMAL</td>\n",
       "      <td>MALIGNANT</td>\n",
       "      <td>MALIGNANT</td>\n",
       "    </tr>\n",
       "    <tr>\n",
       "      <th>10</th>\n",
       "      <td>C_0007_1</td>\n",
       "      <td>C_0007_1_CC.png</td>\n",
       "      <td>CC</td>\n",
       "      <td>LEFT</td>\n",
       "      <td>CALCIFICATION</td>\n",
       "      <td>ABNORMAL</td>\n",
       "      <td>MALIGNANT</td>\n",
       "      <td>RIGHT</td>\n",
       "      <td>CALCIFICATION</td>\n",
       "      <td>ABNORMAL</td>\n",
       "      <td>BENIGN</td>\n",
       "      <td>BENIGN+MALIGNANT</td>\n",
       "    </tr>\n",
       "    <tr>\n",
       "      <th>11</th>\n",
       "      <td>C_0007_1</td>\n",
       "      <td>C_0007_1_MLO.png</td>\n",
       "      <td>MLO</td>\n",
       "      <td>LEFT</td>\n",
       "      <td>CALCIFICATION</td>\n",
       "      <td>ABNORMAL</td>\n",
       "      <td>MALIGNANT</td>\n",
       "      <td>RIGHT</td>\n",
       "      <td>CALCIFICATION</td>\n",
       "      <td>ABNORMAL</td>\n",
       "      <td>BENIGN</td>\n",
       "      <td>BENIGN+MALIGNANT</td>\n",
       "    </tr>\n",
       "    <tr>\n",
       "      <th>12</th>\n",
       "      <td>C_0009_1</td>\n",
       "      <td>C_0009_1_CC.png</td>\n",
       "      <td>CC</td>\n",
       "      <td>LEFT</td>\n",
       "      <td>None</td>\n",
       "      <td>NORMAL</td>\n",
       "      <td>NORMAL</td>\n",
       "      <td>RIGHT</td>\n",
       "      <td>MASS</td>\n",
       "      <td>ABNORMAL</td>\n",
       "      <td>MALIGNANT</td>\n",
       "      <td>MALIGNANT</td>\n",
       "    </tr>\n",
       "    <tr>\n",
       "      <th>13</th>\n",
       "      <td>C_0009_1</td>\n",
       "      <td>C_0009_1_MLO.png</td>\n",
       "      <td>MLO</td>\n",
       "      <td>LEFT</td>\n",
       "      <td>None</td>\n",
       "      <td>NORMAL</td>\n",
       "      <td>NORMAL</td>\n",
       "      <td>RIGHT</td>\n",
       "      <td>MASS</td>\n",
       "      <td>ABNORMAL</td>\n",
       "      <td>MALIGNANT</td>\n",
       "      <td>MALIGNANT</td>\n",
       "    </tr>\n",
       "    <tr>\n",
       "      <th>14</th>\n",
       "      <td>C_0010_1</td>\n",
       "      <td>C_0010_1_CC.png</td>\n",
       "      <td>CC</td>\n",
       "      <td>LEFT</td>\n",
       "      <td>None</td>\n",
       "      <td>NORMAL</td>\n",
       "      <td>NORMAL</td>\n",
       "      <td>RIGHT</td>\n",
       "      <td>CALCIFICATION</td>\n",
       "      <td>ABNORMAL</td>\n",
       "      <td>MALIGNANT</td>\n",
       "      <td>MALIGNANT</td>\n",
       "    </tr>\n",
       "  </tbody>\n",
       "</table>\n",
       "</div>"
      ],
      "text/plain": [
       "   Patient_ID        Image_Name View Orientation_x  Lesion_Type_x  \\\n",
       "9    C_0006_1  C_0006_1_MLO.png  MLO          LEFT           MASS   \n",
       "10   C_0007_1   C_0007_1_CC.png   CC          LEFT  CALCIFICATION   \n",
       "11   C_0007_1  C_0007_1_MLO.png  MLO          LEFT  CALCIFICATION   \n",
       "12   C_0009_1   C_0009_1_CC.png   CC          LEFT           None   \n",
       "13   C_0009_1  C_0009_1_MLO.png  MLO          LEFT           None   \n",
       "14   C_0010_1   C_0010_1_CC.png   CC          LEFT           None   \n",
       "\n",
       "   Detection_Res_x Pathology_Res_x Orientation_y  Lesion_Type_y  \\\n",
       "9         ABNORMAL       MALIGNANT         RIGHT           MASS   \n",
       "10        ABNORMAL       MALIGNANT         RIGHT  CALCIFICATION   \n",
       "11        ABNORMAL       MALIGNANT         RIGHT  CALCIFICATION   \n",
       "12          NORMAL          NORMAL         RIGHT           MASS   \n",
       "13          NORMAL          NORMAL         RIGHT           MASS   \n",
       "14          NORMAL          NORMAL         RIGHT  CALCIFICATION   \n",
       "\n",
       "   Detection_Res_y Pathology_Res_y     Pathology_Res  \n",
       "9         ABNORMAL       MALIGNANT         MALIGNANT  \n",
       "10        ABNORMAL          BENIGN  BENIGN+MALIGNANT  \n",
       "11        ABNORMAL          BENIGN  BENIGN+MALIGNANT  \n",
       "12        ABNORMAL       MALIGNANT         MALIGNANT  \n",
       "13        ABNORMAL       MALIGNANT         MALIGNANT  \n",
       "14        ABNORMAL       MALIGNANT         MALIGNANT  "
      ]
     },
     "execution_count": 24,
     "metadata": {},
     "output_type": "execute_result"
    }
   ],
   "source": [
    "meta[9:15]"
   ]
  },
  {
   "cell_type": "code",
   "execution_count": 25,
   "metadata": {},
   "outputs": [
    {
     "data": {
      "text/plain": [
       "NORMAL              1142\n",
       "MALIGNANT           1026\n",
       "BENIGN               633\n",
       "BENIGN+MALIGNANT      92\n",
       "UNPROVEN              16\n",
       "Name: Pathology_Res, dtype: int64"
      ]
     },
     "execution_count": 25,
     "metadata": {},
     "output_type": "execute_result"
    }
   ],
   "source": [
    "meta['Pathology_Res'].value_counts()"
   ]
  },
  {
   "cell_type": "code",
   "execution_count": 26,
   "metadata": {},
   "outputs": [
    {
     "data": {
      "text/plain": [
       "ABNORMAL    1767\n",
       "NORMAL      1142\n",
       "Name: Detection_Res, dtype: int64"
      ]
     },
     "execution_count": 26,
     "metadata": {},
     "output_type": "execute_result"
    }
   ],
   "source": [
    "meta['Detection_Res'] = np.where(meta['Pathology_Res']=='NORMAL', 'NORMAL', 'ABNORMAL')\n",
    "meta['Detection_Res'].value_counts()"
   ]
  },
  {
   "cell_type": "code",
   "execution_count": 27,
   "metadata": {},
   "outputs": [
    {
     "data": {
      "text/plain": [
       "ABNORMAL    1751\n",
       "NORMAL      1142\n",
       "UNPROVEN      16\n",
       "Name: Detection_Res, dtype: int64"
      ]
     },
     "execution_count": 27,
     "metadata": {},
     "output_type": "execute_result"
    }
   ],
   "source": [
    "meta['Detection_Res'] = np.where(meta['Pathology_Res']=='UNPROVEN', 'UNPROVEN', meta['Detection_Res'])\n",
    "meta['Detection_Res'].value_counts()"
   ]
  },
  {
   "cell_type": "code",
   "execution_count": 28,
   "metadata": {},
   "outputs": [
    {
     "data": {
      "text/html": [
       "<div>\n",
       "<table border=\"1\" class=\"dataframe\">\n",
       "  <thead>\n",
       "    <tr style=\"text-align: right;\">\n",
       "      <th></th>\n",
       "      <th>Patient_ID</th>\n",
       "      <th>Image_Name</th>\n",
       "      <th>View</th>\n",
       "      <th>Orientation_x</th>\n",
       "      <th>Lesion_Type_x</th>\n",
       "      <th>Detection_Res_x</th>\n",
       "      <th>Pathology_Res_x</th>\n",
       "      <th>Orientation_y</th>\n",
       "      <th>Lesion_Type_y</th>\n",
       "      <th>Detection_Res_y</th>\n",
       "      <th>Pathology_Res_y</th>\n",
       "      <th>Pathology_Res</th>\n",
       "      <th>Detection_Res</th>\n",
       "    </tr>\n",
       "  </thead>\n",
       "  <tbody>\n",
       "    <tr>\n",
       "      <th>9</th>\n",
       "      <td>C_0006_1</td>\n",
       "      <td>C_0006_1_MLO.png</td>\n",
       "      <td>MLO</td>\n",
       "      <td>LEFT</td>\n",
       "      <td>MASS</td>\n",
       "      <td>ABNORMAL</td>\n",
       "      <td>MALIGNANT</td>\n",
       "      <td>RIGHT</td>\n",
       "      <td>MASS</td>\n",
       "      <td>ABNORMAL</td>\n",
       "      <td>MALIGNANT</td>\n",
       "      <td>MALIGNANT</td>\n",
       "      <td>ABNORMAL</td>\n",
       "    </tr>\n",
       "    <tr>\n",
       "      <th>10</th>\n",
       "      <td>C_0007_1</td>\n",
       "      <td>C_0007_1_CC.png</td>\n",
       "      <td>CC</td>\n",
       "      <td>LEFT</td>\n",
       "      <td>CALCIFICATION</td>\n",
       "      <td>ABNORMAL</td>\n",
       "      <td>MALIGNANT</td>\n",
       "      <td>RIGHT</td>\n",
       "      <td>CALCIFICATION</td>\n",
       "      <td>ABNORMAL</td>\n",
       "      <td>BENIGN</td>\n",
       "      <td>BENIGN+MALIGNANT</td>\n",
       "      <td>ABNORMAL</td>\n",
       "    </tr>\n",
       "    <tr>\n",
       "      <th>11</th>\n",
       "      <td>C_0007_1</td>\n",
       "      <td>C_0007_1_MLO.png</td>\n",
       "      <td>MLO</td>\n",
       "      <td>LEFT</td>\n",
       "      <td>CALCIFICATION</td>\n",
       "      <td>ABNORMAL</td>\n",
       "      <td>MALIGNANT</td>\n",
       "      <td>RIGHT</td>\n",
       "      <td>CALCIFICATION</td>\n",
       "      <td>ABNORMAL</td>\n",
       "      <td>BENIGN</td>\n",
       "      <td>BENIGN+MALIGNANT</td>\n",
       "      <td>ABNORMAL</td>\n",
       "    </tr>\n",
       "    <tr>\n",
       "      <th>12</th>\n",
       "      <td>C_0009_1</td>\n",
       "      <td>C_0009_1_CC.png</td>\n",
       "      <td>CC</td>\n",
       "      <td>LEFT</td>\n",
       "      <td>None</td>\n",
       "      <td>NORMAL</td>\n",
       "      <td>NORMAL</td>\n",
       "      <td>RIGHT</td>\n",
       "      <td>MASS</td>\n",
       "      <td>ABNORMAL</td>\n",
       "      <td>MALIGNANT</td>\n",
       "      <td>MALIGNANT</td>\n",
       "      <td>ABNORMAL</td>\n",
       "    </tr>\n",
       "    <tr>\n",
       "      <th>13</th>\n",
       "      <td>C_0009_1</td>\n",
       "      <td>C_0009_1_MLO.png</td>\n",
       "      <td>MLO</td>\n",
       "      <td>LEFT</td>\n",
       "      <td>None</td>\n",
       "      <td>NORMAL</td>\n",
       "      <td>NORMAL</td>\n",
       "      <td>RIGHT</td>\n",
       "      <td>MASS</td>\n",
       "      <td>ABNORMAL</td>\n",
       "      <td>MALIGNANT</td>\n",
       "      <td>MALIGNANT</td>\n",
       "      <td>ABNORMAL</td>\n",
       "    </tr>\n",
       "    <tr>\n",
       "      <th>14</th>\n",
       "      <td>C_0010_1</td>\n",
       "      <td>C_0010_1_CC.png</td>\n",
       "      <td>CC</td>\n",
       "      <td>LEFT</td>\n",
       "      <td>None</td>\n",
       "      <td>NORMAL</td>\n",
       "      <td>NORMAL</td>\n",
       "      <td>RIGHT</td>\n",
       "      <td>CALCIFICATION</td>\n",
       "      <td>ABNORMAL</td>\n",
       "      <td>MALIGNANT</td>\n",
       "      <td>MALIGNANT</td>\n",
       "      <td>ABNORMAL</td>\n",
       "    </tr>\n",
       "  </tbody>\n",
       "</table>\n",
       "</div>"
      ],
      "text/plain": [
       "   Patient_ID        Image_Name View Orientation_x  Lesion_Type_x  \\\n",
       "9    C_0006_1  C_0006_1_MLO.png  MLO          LEFT           MASS   \n",
       "10   C_0007_1   C_0007_1_CC.png   CC          LEFT  CALCIFICATION   \n",
       "11   C_0007_1  C_0007_1_MLO.png  MLO          LEFT  CALCIFICATION   \n",
       "12   C_0009_1   C_0009_1_CC.png   CC          LEFT           None   \n",
       "13   C_0009_1  C_0009_1_MLO.png  MLO          LEFT           None   \n",
       "14   C_0010_1   C_0010_1_CC.png   CC          LEFT           None   \n",
       "\n",
       "   Detection_Res_x Pathology_Res_x Orientation_y  Lesion_Type_y  \\\n",
       "9         ABNORMAL       MALIGNANT         RIGHT           MASS   \n",
       "10        ABNORMAL       MALIGNANT         RIGHT  CALCIFICATION   \n",
       "11        ABNORMAL       MALIGNANT         RIGHT  CALCIFICATION   \n",
       "12          NORMAL          NORMAL         RIGHT           MASS   \n",
       "13          NORMAL          NORMAL         RIGHT           MASS   \n",
       "14          NORMAL          NORMAL         RIGHT  CALCIFICATION   \n",
       "\n",
       "   Detection_Res_y Pathology_Res_y     Pathology_Res Detection_Res  \n",
       "9         ABNORMAL       MALIGNANT         MALIGNANT      ABNORMAL  \n",
       "10        ABNORMAL          BENIGN  BENIGN+MALIGNANT      ABNORMAL  \n",
       "11        ABNORMAL          BENIGN  BENIGN+MALIGNANT      ABNORMAL  \n",
       "12        ABNORMAL       MALIGNANT         MALIGNANT      ABNORMAL  \n",
       "13        ABNORMAL       MALIGNANT         MALIGNANT      ABNORMAL  \n",
       "14        ABNORMAL       MALIGNANT         MALIGNANT      ABNORMAL  "
      ]
     },
     "execution_count": 28,
     "metadata": {},
     "output_type": "execute_result"
    }
   ],
   "source": [
    "meta[9:15]"
   ]
  },
  {
   "cell_type": "code",
   "execution_count": 29,
   "metadata": {
    "collapsed": true
   },
   "outputs": [],
   "source": [
    "cols = ['Patient_ID', 'Image_Name', 'View', 'Detection_Res', 'Pathology_Res']\n",
    "meta = meta[cols]"
   ]
  },
  {
   "cell_type": "code",
   "execution_count": 30,
   "metadata": {},
   "outputs": [
    {
     "data": {
      "text/html": [
       "<div>\n",
       "<table border=\"1\" class=\"dataframe\">\n",
       "  <thead>\n",
       "    <tr style=\"text-align: right;\">\n",
       "      <th></th>\n",
       "      <th>Patient_ID</th>\n",
       "      <th>Image_Name</th>\n",
       "      <th>View</th>\n",
       "      <th>Detection_Res</th>\n",
       "      <th>Pathology_Res</th>\n",
       "    </tr>\n",
       "  </thead>\n",
       "  <tbody>\n",
       "    <tr>\n",
       "      <th>9</th>\n",
       "      <td>C_0006_1</td>\n",
       "      <td>C_0006_1_MLO.png</td>\n",
       "      <td>MLO</td>\n",
       "      <td>ABNORMAL</td>\n",
       "      <td>MALIGNANT</td>\n",
       "    </tr>\n",
       "    <tr>\n",
       "      <th>10</th>\n",
       "      <td>C_0007_1</td>\n",
       "      <td>C_0007_1_CC.png</td>\n",
       "      <td>CC</td>\n",
       "      <td>ABNORMAL</td>\n",
       "      <td>BENIGN+MALIGNANT</td>\n",
       "    </tr>\n",
       "    <tr>\n",
       "      <th>11</th>\n",
       "      <td>C_0007_1</td>\n",
       "      <td>C_0007_1_MLO.png</td>\n",
       "      <td>MLO</td>\n",
       "      <td>ABNORMAL</td>\n",
       "      <td>BENIGN+MALIGNANT</td>\n",
       "    </tr>\n",
       "    <tr>\n",
       "      <th>12</th>\n",
       "      <td>C_0009_1</td>\n",
       "      <td>C_0009_1_CC.png</td>\n",
       "      <td>CC</td>\n",
       "      <td>ABNORMAL</td>\n",
       "      <td>MALIGNANT</td>\n",
       "    </tr>\n",
       "    <tr>\n",
       "      <th>13</th>\n",
       "      <td>C_0009_1</td>\n",
       "      <td>C_0009_1_MLO.png</td>\n",
       "      <td>MLO</td>\n",
       "      <td>ABNORMAL</td>\n",
       "      <td>MALIGNANT</td>\n",
       "    </tr>\n",
       "    <tr>\n",
       "      <th>14</th>\n",
       "      <td>C_0010_1</td>\n",
       "      <td>C_0010_1_CC.png</td>\n",
       "      <td>CC</td>\n",
       "      <td>ABNORMAL</td>\n",
       "      <td>MALIGNANT</td>\n",
       "    </tr>\n",
       "  </tbody>\n",
       "</table>\n",
       "</div>"
      ],
      "text/plain": [
       "   Patient_ID        Image_Name View Detection_Res     Pathology_Res\n",
       "9    C_0006_1  C_0006_1_MLO.png  MLO      ABNORMAL         MALIGNANT\n",
       "10   C_0007_1   C_0007_1_CC.png   CC      ABNORMAL  BENIGN+MALIGNANT\n",
       "11   C_0007_1  C_0007_1_MLO.png  MLO      ABNORMAL  BENIGN+MALIGNANT\n",
       "12   C_0009_1   C_0009_1_CC.png   CC      ABNORMAL         MALIGNANT\n",
       "13   C_0009_1  C_0009_1_MLO.png  MLO      ABNORMAL         MALIGNANT\n",
       "14   C_0010_1   C_0010_1_CC.png   CC      ABNORMAL         MALIGNANT"
      ]
     },
     "execution_count": 30,
     "metadata": {},
     "output_type": "execute_result"
    }
   ],
   "source": [
    "meta[9:15]"
   ]
  },
  {
   "cell_type": "markdown",
   "metadata": {},
   "source": [
    "**Important:** Only keeping meta data on differenced images that we have."
   ]
  },
  {
   "cell_type": "code",
   "execution_count": 31,
   "metadata": {},
   "outputs": [
    {
     "name": "stdout",
     "output_type": "stream",
     "text": [
      "Number of records in meta:       2559\n"
     ]
    }
   ],
   "source": [
    "mask = []\n",
    "for f in meta.Image_Name:\n",
    "    mask.append(os.path.isfile('/Users/jnarhan/Projects/CUNY_698/Docker-Shared/Data_Diff_Images/ALL_IMGS/' + f))\n",
    "    \n",
    "meta = meta[mask]\n",
    "print 'Number of records in meta: {:>10}'.format(meta['Patient_ID'].count())"
   ]
  },
  {
   "cell_type": "markdown",
   "metadata": {},
   "source": [
    "**Detection Labels: Two-Case Abnormal and Normal **"
   ]
  },
  {
   "cell_type": "code",
   "execution_count": 32,
   "metadata": {},
   "outputs": [
    {
     "name": "stdout",
     "output_type": "stream",
     "text": [
      "Number of Abnormals: 1472\n",
      "Number of Normals:   1072\n",
      "Number of Unproven:    15\n",
      "Total:               2559\n"
     ]
    }
   ],
   "source": [
    "print 'Number of Abnormals: {:>4}'.format(sum((meta.Detection_Res == 'ABNORMAL')))\n",
    "print 'Number of Normals: {:>6}'.format(sum((meta.Detection_Res == 'NORMAL')))\n",
    "print 'Number of Unproven: {:>5}'.format(sum((meta.Detection_Res == 'UNPROVEN')))\n",
    "\n",
    "print 'Total: {:18}'.format(meta.Detection_Res.count())"
   ]
  },
  {
   "cell_type": "markdown",
   "metadata": {},
   "source": [
    "Drop unproven cases as uncertain as to whether an abnormality exists."
   ]
  },
  {
   "cell_type": "code",
   "execution_count": 33,
   "metadata": {},
   "outputs": [
    {
     "data": {
      "text/plain": [
       "{'ABNORMAL', 'NORMAL'}"
      ]
     },
     "execution_count": 33,
     "metadata": {},
     "output_type": "execute_result"
    }
   ],
   "source": [
    "mask = meta['Detection_Res'].isin(['ABNORMAL', 'NORMAL'])\n",
    "detect_meta = meta[mask]\n",
    "set(detect_meta.Detection_Res)"
   ]
  },
  {
   "cell_type": "code",
   "execution_count": 34,
   "metadata": {},
   "outputs": [
    {
     "name": "stdout",
     "output_type": "stream",
     "text": [
      "Number of Abnormals: 1472\n",
      "Number of Normals:   1072\n",
      "Number of Unproven:     0\n",
      "Total:               2544\n"
     ]
    }
   ],
   "source": [
    "print 'Number of Abnormals: {:>4}'.format(sum((detect_meta.Detection_Res == 'ABNORMAL')))\n",
    "print 'Number of Normals: {:>6}'.format(sum((detect_meta.Detection_Res == 'NORMAL')))\n",
    "print 'Number of Unproven: {:>5}'.format(sum((detect_meta.Pathology_Res == 'UNPROVEN')))\n",
    "\n",
    "print 'Total: {:18}'.format(detect_meta.Detection_Res.count())"
   ]
  },
  {
   "cell_type": "code",
   "execution_count": 35,
   "metadata": {
    "collapsed": true
   },
   "outputs": [],
   "source": [
    "detect_meta.to_csv(path_or_buf=META_ROOT +'meta_data_detection.csv', index=False)"
   ]
  },
  {
   "cell_type": "markdown",
   "metadata": {},
   "source": [
    "**Diagnosis Labels: Two-Case Benign and Malignant**"
   ]
  },
  {
   "cell_type": "code",
   "execution_count": 36,
   "metadata": {},
   "outputs": [
    {
     "name": "stdout",
     "output_type": "stream",
     "text": [
      "Number of Normals:   1072\n",
      "Number of B&Ms:        91\n",
      "Number of Bs:         569\n",
      "Number of Ms:         812\n",
      "Number of Unproven:    15\n",
      "Total:               2559\n"
     ]
    }
   ],
   "source": [
    "print 'Number of Normals: {:>6}'.format(sum((meta.Pathology_Res == 'NORMAL')))\n",
    "print 'Number of B&Ms: {:>9}'.format(sum((meta.Pathology_Res == 'BENIGN+MALIGNANT')))\n",
    "print 'Number of Bs: {:>11}'.format(sum((meta.Pathology_Res == 'BENIGN')))\n",
    "print 'Number of Ms: {:>11}'.format(sum((meta.Pathology_Res == 'MALIGNANT')))\n",
    "print 'Number of Unproven: {:>5}'.format(sum((meta.Pathology_Res == 'UNPROVEN')))\n",
    "\n",
    "print 'Total: {:18}'.format(meta.Pathology_Res.count())"
   ]
  },
  {
   "cell_type": "markdown",
   "metadata": {},
   "source": [
    "B&M's (92) and Unproven (16) will need to removed from the differencing analysis when it run, as the pathology cannot be proven in the latter case (in one or both of the breasts), and because handling B&M's through differencing is unclear."
   ]
  },
  {
   "cell_type": "code",
   "execution_count": 37,
   "metadata": {},
   "outputs": [
    {
     "data": {
      "text/plain": [
       "{'BENIGN', 'MALIGNANT'}"
      ]
     },
     "execution_count": 37,
     "metadata": {},
     "output_type": "execute_result"
    }
   ],
   "source": [
    "#mask = meta['Detection_Res'].isin(['BENIGN', 'MALIGNANT', 'NORMAL'])\n",
    "mask = meta['Pathology_Res'].isin(['BENIGN', 'MALIGNANT'])\n",
    "diagnosis_meta = meta[mask]\n",
    "set(diagnosis_meta.Pathology_Res)"
   ]
  },
  {
   "cell_type": "code",
   "execution_count": 38,
   "metadata": {},
   "outputs": [
    {
     "name": "stdout",
     "output_type": "stream",
     "text": [
      "Number of Benigns:     569\n",
      "Number of Malignants: 812\n",
      "Total:                1381\n"
     ]
    }
   ],
   "source": [
    "print 'Number of Benigns: {:>7}'.format(sum((diagnosis_meta.Pathology_Res == 'BENIGN')))\n",
    "print 'Number of Malignants: {:}'.format(sum((diagnosis_meta.Pathology_Res == 'MALIGNANT')))\n",
    "\n",
    "\n",
    "print 'Total: {:19}'.format(diagnosis_meta.Pathology_Res.count())"
   ]
  },
  {
   "cell_type": "code",
   "execution_count": 39,
   "metadata": {
    "collapsed": true
   },
   "outputs": [],
   "source": [
    "diagnosis_meta.to_csv(path_or_buf=META_ROOT +'meta_data_diagnosis.csv', index=False)"
   ]
  },
  {
   "cell_type": "code",
   "execution_count": null,
   "metadata": {
    "collapsed": true
   },
   "outputs": [],
   "source": []
  }
 ],
 "metadata": {
  "kernelspec": {
   "display_name": "Python 2",
   "language": "python",
   "name": "python2"
  },
  "language_info": {
   "codemirror_mode": {
    "name": "ipython",
    "version": 2
   },
   "file_extension": ".py",
   "mimetype": "text/x-python",
   "name": "python",
   "nbconvert_exporter": "python",
   "pygments_lexer": "ipython2",
   "version": "2.7.13"
  }
 },
 "nbformat": 4,
 "nbformat_minor": 1
}
