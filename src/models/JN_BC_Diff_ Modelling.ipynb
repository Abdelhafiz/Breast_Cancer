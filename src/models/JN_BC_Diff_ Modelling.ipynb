{
 "cells": [
  {
   "cell_type": "markdown",
   "metadata": {},
   "source": [
    "<hr>\n",
    "<h1>Predicting Abnormalities in Mammograms</h1>\n",
    "\n",
    "<p>Jay Narhan</p>\n",
    "April 2017\n",
    "\n",
    "Screening for breast cancer will often make use of mammography as the primary imaging modality for early detection efforts. However identifying abnormalities is a difficult problem due to large variability in the appearance of normal and abnormal tissue in mammograms and due to the subtlety associated with abnormal manifestations. Indeed, the interpretation of mammography imaging is still a manual process that is prone to human error. The application of automated classification of mammography is <a href=\"http://www.sciencedirect.com/science/article/pii/S0169260715300110\">described</a> as an unsolved problem. As such, this work aims to extend research into how machine learning technologies may supplement the diagnostic assessments of radiologists.\n",
    "\n",
    "Presented in this workbook are a number of models that have been developed to classify breast tissue imaging as either normal or abnormal (where abnormality contains benign and/or malignant lesions, masses or calcifications).\n",
    "\n",
    "A number of preprocessing steps have been performed before application of these models. These steps include thresholding and segmentation of artifacts from breast tissue. The preprocessing also includes the generation of difference images for every bilateral pairings of CC and MLO mammogram views for each patient in the data set.\n",
    "\n",
    "<hr>"
   ]
  },
  {
   "cell_type": "code",
   "execution_count": 1,
   "metadata": {},
   "outputs": [
    {
     "name": "stderr",
     "output_type": "stream",
     "text": [
      "Using Theano backend.\n"
     ]
    }
   ],
   "source": [
    "import os\n",
    "import sys\n",
    "import time\n",
    "import numpy as np\n",
    "\n",
    "import sklearn.metrics as skm\n",
    "from sklearn import metrics\n",
    "from sklearn.svm import SVC\n",
    "from sklearn.model_selection import train_test_split\n",
    "\n",
    "from skimage import color\n",
    "\n",
    "import keras.callbacks as cb\n",
    "import keras.utils.np_utils as np_utils\n",
    "from keras import applications\n",
    "from keras import regularizers\n",
    "from keras.models import Sequential\n",
    "from keras.constraints import maxnorm\n",
    "from keras.preprocessing.image import ImageDataGenerator\n",
    "from keras.layers.convolutional import Convolution2D, MaxPooling2D\n",
    "from keras.layers import Activation, Dense, Dropout, Flatten, GaussianNoise\n",
    "\n",
    "from matplotlib import pyplot as plt\n",
    "%matplotlib inline\n",
    "\n",
    "plt.rcParams['figure.figsize'] = (10,10)\n",
    "np.set_printoptions(precision=2)\n",
    "\n",
    "import jn_bc_helper as bc"
   ]
  },
  {
   "cell_type": "markdown",
   "metadata": {},
   "source": [
    "<h2>Reproducible Research</h2>"
   ]
  },
  {
   "cell_type": "code",
   "execution_count": 2,
   "metadata": {},
   "outputs": [
    {
     "name": "stdout",
     "output_type": "stream",
     "text": [
      "scipy:           0.19.0\n",
      "numpy:           1.12.1\n",
      "matplotlib:      2.0.0\n",
      "sklearn:         0.18.1\n",
      "skimage:         0.13.0\n",
      "theano:          0.9.0.dev-c697eeab84e5b8a74908da654b66ec9eca4f1291\n",
      "tensorflow:      0.10.0\n",
      "keras:           2.0.3\n"
     ]
    },
    {
     "name": "stderr",
     "output_type": "stream",
     "text": [
      "Python 2.7.13 :: Continuum Analytics, Inc.\n",
      "Using Theano backend.\n"
     ]
    }
   ],
   "source": [
    "%%python\n",
    "import os\n",
    "os.system('python -V')\n",
    "os.system('python ../../Package_Versions.py')"
   ]
  },
  {
   "cell_type": "code",
   "execution_count": 3,
   "metadata": {},
   "outputs": [
    {
     "name": "stderr",
     "output_type": "stream",
     "text": [
      "2it [00:00, 15.06it/s]"
     ]
    },
    {
     "name": "stdout",
     "output_type": "stream",
     "text": [
      "----------------\n",
      "Before Balancing\n",
      "----------------\n",
      "abnormal  : 1487\n",
      "normal    : 1072\n",
      "balanceViaRemoval.avgC: 1279\n",
      "balanceViaRemoval.theshold: 1279.0\n",
      "---------------\n",
      "After Balancing\n",
      "---------------\n",
      "abnormal  : 1175\n",
      "normal    : 1072\n",
      "-------------\n",
      "Loading data:\n",
      "-------------\n"
     ]
    },
    {
     "name": "stderr",
     "output_type": "stream",
     "text": [
      "2247it [01:30, 24.71it/s]\n"
     ]
    }
   ],
   "source": [
    "SEED = 7\n",
    "np.random.seed(SEED)\n",
    "\n",
    "DATA_DIR = '/Users/jnarhan/Projects/CUNY_698/Docker-Shared/Data_Diff_Images/ALL_IMGS/'\n",
    "meta_file = DATA_DIR + 'meta_data.csv'\n",
    "PATHO_INX = 3   # Column number of Pathology in meta_file\n",
    "FILE_INX = 1    # Column number of File name in meta_file\n",
    "\n",
    "meta_data, cls_cnts = bc.load_meta(meta_file, patho_idx=PATHO_INX, file_idx=FILE_INX,\n",
    "                                   balanceByRemoval=True, verbose=True)\n",
    "\n",
    "bc.pprint('Loading data:')\n",
    "cats = bc.bcNumerics()\n",
    "\n",
    "# For smaller images supply tuple argument for a parameter 'imgResize':\n",
    "X_data, Y_data = bc.load_data(meta_data, DATA_DIR, cats, imgResize=(150,150)) \n"
   ]
  },
  {
   "cell_type": "markdown",
   "metadata": {},
   "source": [
    "**Create the Training and Test Datasets**"
   ]
  },
  {
   "cell_type": "code",
   "execution_count": 4,
   "metadata": {},
   "outputs": [
    {
     "name": "stdout",
     "output_type": "stream",
     "text": [
      "Size of X_train:  1685\n",
      "Size of X_test:   562\n",
      "Size of Y_train:  1685\n",
      "Size of Y_test:   562\n",
      "(1685, 150, 150)\n",
      "(562, 150, 150)\n",
      "(1685, 1)\n",
      "(562, 1)\n"
     ]
    }
   ],
   "source": [
    "X_train, X_test, Y_train, Y_test = train_test_split(X_data, Y_data,\n",
    "                                                    test_size=0.25,\n",
    "                                                    random_state=SEED,\n",
    "                                                    stratify=zip(*Y_data)[0])\n",
    "\n",
    "print 'Size of X_train: {:>5}'.format(len(X_train))\n",
    "print 'Size of X_test: {:>5}'.format(len(X_test))\n",
    "print 'Size of Y_train: {:>5}'.format(len(Y_train))\n",
    "print 'Size of Y_test: {:>5}'.format(len(Y_test))\n",
    "\n",
    "print X_train.shape\n",
    "print X_test.shape\n",
    "print Y_train.shape\n",
    "print Y_test.shape\n",
    "\n",
    "data = [X_train, X_test, Y_train, Y_test]"
   ]
  },
  {
   "cell_type": "markdown",
   "metadata": {},
   "source": [
    "<h2>Support Vector Machine Model</h2>"
   ]
  },
  {
   "cell_type": "code",
   "execution_count": 5,
   "metadata": {
    "collapsed": true
   },
   "outputs": [],
   "source": [
    "X_train_svm = X_train.reshape( (X_train.shape[0], -1)) \n",
    "X_test_svm  = X_test.reshape( (X_test.shape[0], -1))"
   ]
  },
  {
   "cell_type": "code",
   "execution_count": 6,
   "metadata": {},
   "outputs": [
    {
     "name": "stderr",
     "output_type": "stream",
     "text": [
      "/Users/jnarhan/miniconda2/envs/bc_venv/lib/python2.7/site-packages/sklearn/utils/validation.py:526: DataConversionWarning: A column-vector y was passed when a 1d array was expected. Please change the shape of y to (n_samples, ), for example using ravel().\n",
      "  y = column_or_1d(y, warn=True)\n"
     ]
    },
    {
     "data": {
      "text/plain": [
       "SVC(C=1.0, cache_size=200, class_weight=None, coef0=0.0,\n",
       "  decision_function_shape=None, degree=3, gamma=0.001, kernel='rbf',\n",
       "  max_iter=-1, probability=False, random_state=None, shrinking=True,\n",
       "  tol=0.001, verbose=False)"
      ]
     },
     "execution_count": 6,
     "metadata": {},
     "output_type": "execute_result"
    }
   ],
   "source": [
    "SVM_model = SVC(gamma=0.001)\n",
    "SVM_model.fit( X_train_svm, Y_train)"
   ]
  },
  {
   "cell_type": "code",
   "execution_count": 7,
   "metadata": {},
   "outputs": [
    {
     "name": "stdout",
     "output_type": "stream",
     "text": [
      "SVM Accuracy:   83.81%\n",
      "SVM Error:      16.19%\n"
     ]
    }
   ],
   "source": [
    "predictOutput = SVM_model.predict(X_test_svm)\n",
    "svm_acc = metrics.accuracy_score(y_true=Y_test, y_pred=predictOutput)\n",
    "\n",
    "print 'SVM Accuracy: {: >7.2f}%'.format(svm_acc * 100)\n",
    "print 'SVM Error: {: >10.2f}%'.format(100 - svm_acc * 100)"
   ]
  },
  {
   "cell_type": "code",
   "execution_count": 8,
   "metadata": {},
   "outputs": [
    {
     "name": "stdout",
     "output_type": "stream",
     "text": [
      "Normalized confusion matrix\n",
      "[[ 0.83  0.17]\n",
      " [ 0.15  0.85]]\n"
     ]
    },
    {
     "data": {
      "image/png": "[encoded data removed]",
      "text/plain": [
       "<matplotlib.figure.Figure at 0x107a83d90>"
      ]
     },
     "metadata": {},
     "output_type": "display_data"
    }
   ],
   "source": [
    "svm_matrix = skm.confusion_matrix(y_true=Y_test, y_pred=predictOutput)\n",
    "numBC = bc.reverseDict(cats)\n",
    "class_names = numBC.values()\n",
    "\n",
    "plt.figure()\n",
    "bc.plot_confusion_matrix(svm_matrix, classes=class_names, normalize=True, \n",
    "                         title='Normalized Confusion Matrix \\n')\n",
    "plt.savefig('./cm_figures/SVM_CM_20170430.png')"
   ]
  },
  {
   "cell_type": "markdown",
   "metadata": {},
   "source": [
    "<h2>CNN Modelling Using VGG16 in Transfer Learning</h2>"
   ]
  },
  {
   "cell_type": "code",
   "execution_count": 9,
   "metadata": {
    "collapsed": true
   },
   "outputs": [],
   "source": [
    "def VGG_Prep(img_data):\n",
    "    \"\"\"\n",
    "    :param img_data: training or test images of shape [#images, height, width]\n",
    "    :return: the array transformed to the correct shape for the VGG network\n",
    "                shape = [#images, height, width, 3] transforms to rgb and reshapes\n",
    "    \"\"\"\n",
    "    images = np.zeros([len(img_data), img_data.shape[1], img_data.shape[2], 3])\n",
    "    for i in range(0, len(img_data)):\n",
    "        im = 255 - (img_data[i] * 255)  # Orginal imagnet images were not rescaled\n",
    "        im = color.gray2rgb(im)\n",
    "        images[i] = im\n",
    "    return(images)"
   ]
  },
  {
   "cell_type": "code",
   "execution_count": 10,
   "metadata": {
    "collapsed": true
   },
   "outputs": [],
   "source": [
    "def vgg16_bottleneck(data, modelPath, verbose = True, verboseFreq = 50):\n",
    "    # Loading data\n",
    "    X_train, X_test, Y_train, Y_test = data\n",
    "    \n",
    "    print('Preparing the Training Data for the VGG_16 Model.')\n",
    "    X_train = VGG_Prep(X_train)\n",
    "    print('Preparing the Test Data for the VGG_16 Model')\n",
    "    X_test = VGG_Prep(X_test)\n",
    "        \n",
    "    print('Loading the VGG_16 Model')\n",
    "    model = applications.VGG16(include_top=False, weights='imagenet')\n",
    "        \n",
    "    # Generating the bottleneck features for the training data\n",
    "    print('Evaluating the VGG_16 Model on the Training Data')\n",
    "    bottleneck_features_train = model.predict(X_train)\n",
    "    \n",
    "    # Saving the bottleneck features for the training data\n",
    "    featuresTrain = os.path.join(modelPath, 'bottleneck_features_train.npy')\n",
    "    labelsTrain = os.path.join(modelPath, 'labels_train.npy')\n",
    "    print('Saving the Training Data Bottleneck Features.')\n",
    "    np.save(open(featuresTrain, 'wb'), bottleneck_features_train)\n",
    "    np.save(open(labelsTrain, 'wb'), Y_train)\n",
    "\n",
    "    # Generating the bottleneck features for the test data\n",
    "    print('Evaluating the VGG_16 Model on the Test Data')\n",
    "    bottleneck_features_test = model.predict(X_test)\n",
    "    \n",
    "    # Saving the bottleneck features for the test data\n",
    "    featuresTest = os.path.join(modelPath, 'bottleneck_features_test.npy')\n",
    "    labelsTest = os.path.join(modelPath, 'labels_test.npy')\n",
    "    print('Saving the Test Data Bottleneck Feaures.')\n",
    "    np.save(open(featuresTest, 'wb'), bottleneck_features_test)\n",
    "    np.save(open(labelsTest, 'wb'), Y_test)"
   ]
  },
  {
   "cell_type": "code",
   "execution_count": 11,
   "metadata": {},
   "outputs": [
    {
     "name": "stdout",
     "output_type": "stream",
     "text": [
      "Preparing the Training Data for the VGG_16 Model.\n",
      "Preparing the Test Data for the VGG_16 Model\n",
      "Loading the VGG_16 Model\n",
      "Evaluating the VGG_16 Model on the Training Data\n",
      "Saving the Training Data Bottleneck Features.\n",
      "Evaluating the VGG_16 Model on the Test Data\n",
      "Saving the Test Data Bottleneck Feaures.\n"
     ]
    }
   ],
   "source": [
    "modelPath = os.getcwd()\n",
    "\n",
    "vgg16_bottleneck(data, modelPath)"
   ]
  },
  {
   "cell_type": "code",
   "execution_count": 12,
   "metadata": {
    "collapsed": true
   },
   "outputs": [],
   "source": [
    "def train_top_model(train_feats, train_lab, test_feats, test_lab, model_path, model_save, epoch = 50, batch = 64):\n",
    "    start_time = time.time()\n",
    "    \n",
    "    train_bottleneck = os.path.join(model_path, train_feats)\n",
    "    train_labels = os.path.join(model_path, train_lab)\n",
    "    test_bottleneck = os.path.join(model_path, test_feats)\n",
    "    test_labels = os.path.join(model_path, test_lab)\n",
    "    \n",
    "    history = bc.LossHistory()\n",
    "    \n",
    "    X_train = np.load(train_bottleneck)\n",
    "    Y_train = np.load(train_labels)\n",
    "    Y_train = np_utils.to_categorical(Y_train, num_classes=2)\n",
    "    \n",
    "    X_test = np.load(test_bottleneck)\n",
    "    Y_test = np.load(test_labels)\n",
    "    Y_test = np_utils.to_categorical(Y_test, num_classes=2)\n",
    "    \n",
    "    print X_train.shape\n",
    "    print X_test.shape\n",
    "    print Y_train.shape\n",
    "    print Y_test.shape\n",
    "    \n",
    "    print X_train.shape[1:]\n",
    "\n",
    "    model = Sequential()\n",
    "    model.add(Flatten(input_shape=X_train.shape[1:]))\n",
    "    model.add( Dropout(0.7))\n",
    "    \n",
    "    model.add(Dense(256))\n",
    "    model.add(Activation('relu'))\n",
    "    model.add( Dropout(0.5))\n",
    "    \n",
    "    # Softmax for probabilities for each class at the output layer\n",
    "    model.add( Dense(2, activation='softmax'))\n",
    "    \n",
    "    model.compile(optimizer='adadelta',\n",
    "                  loss='binary_crossentropy', \n",
    "                  metrics=['accuracy'])\n",
    "\n",
    "    model.fit(X_train, Y_train,\n",
    "              epochs=epoch,\n",
    "              batch_size=batch,\n",
    "              callbacks=[history],\n",
    "              validation_data=(X_test, Y_test),\n",
    "              verbose=2)\n",
    "    \n",
    "    print \"Training duration : {0}\".format(time.time() - start_time)\n",
    "    score = model.evaluate(X_test, Y_test, batch_size=16, verbose=2)\n",
    "\n",
    "    print \"Network's test score [loss, accuracy]: {0}\".format(score)\n",
    "    print 'CNN Error: {:.2f}%'.format(100 - score[1] * 100)\n",
    "    \n",
    "    bc.save_model(model_save, model, \"VGG16_top_weights.h5\")\n",
    "    \n",
    "    return model, history.losses, history.acc, score"
   ]
  },
  {
   "cell_type": "code",
   "execution_count": 13,
   "metadata": {
    "collapsed": true
   },
   "outputs": [],
   "source": [
    "# Locations for the bottleneck and labels files that we need\n",
    "train_bottleneck = 'bottleneck_features_train.npy'\n",
    "train_labels = 'labels_train.npy'\n",
    "test_bottleneck = 'bottleneck_features_test.npy'\n",
    "test_labels = 'labels_test.npy'\n",
    "\n",
    "top_model_weights_path = './weights/'"
   ]
  },
  {
   "cell_type": "code",
   "execution_count": 14,
   "metadata": {},
   "outputs": [
    {
     "name": "stdout",
     "output_type": "stream",
     "text": [
      "(1685, 4, 4, 512)\n",
      "(562, 4, 4, 512)\n",
      "(1685, 2)\n",
      "(562, 2)\n",
      "(4, 4, 512)\n",
      "Train on 1685 samples, validate on 562 samples\n",
      "Epoch 1/100\n",
      "1s - loss: 4.1671 - acc: 0.6866 - val_loss: 2.5882 - val_acc: 0.8327\n",
      "Epoch 2/100\n",
      "1s - loss: 2.7523 - acc: 0.8036 - val_loss: 2.5765 - val_acc: 0.8363\n",
      "Epoch 3/100\n",
      "1s - loss: 2.7383 - acc: 0.8083 - val_loss: 2.6611 - val_acc: 0.8327\n",
      "Epoch 4/100\n",
      "1s - loss: 2.7407 - acc: 0.8083 - val_loss: 2.5956 - val_acc: 0.8381\n",
      "Epoch 5/100\n",
      "1s - loss: 2.6635 - acc: 0.8184 - val_loss: 2.5873 - val_acc: 0.8363\n",
      "Epoch 6/100\n",
      "1s - loss: 2.6347 - acc: 0.8166 - val_loss: 2.5744 - val_acc: 0.8363\n",
      "Epoch 7/100\n",
      "1s - loss: 2.6193 - acc: 0.8226 - val_loss: 2.4202 - val_acc: 0.8416\n",
      "Epoch 8/100\n",
      "1s - loss: 2.6246 - acc: 0.8220 - val_loss: 2.5528 - val_acc: 0.8363\n",
      "Epoch 9/100\n",
      "1s - loss: 2.4430 - acc: 0.8309 - val_loss: 2.5023 - val_acc: 0.8399\n",
      "Epoch 10/100\n",
      "1s - loss: 2.4603 - acc: 0.8320 - val_loss: 2.5309 - val_acc: 0.8363\n",
      "Epoch 11/100\n",
      "1s - loss: 2.5823 - acc: 0.8243 - val_loss: 2.4856 - val_acc: 0.8416\n",
      "Epoch 12/100\n",
      "1s - loss: 2.6372 - acc: 0.8202 - val_loss: 2.4550 - val_acc: 0.8416\n",
      "Epoch 13/100\n",
      "1s - loss: 2.4918 - acc: 0.8291 - val_loss: 2.5070 - val_acc: 0.8363\n",
      "Epoch 14/100\n",
      "1s - loss: 2.6088 - acc: 0.8267 - val_loss: 2.3964 - val_acc: 0.8470\n",
      "Epoch 15/100\n",
      "1s - loss: 2.4830 - acc: 0.8243 - val_loss: 2.3879 - val_acc: 0.8470\n",
      "Epoch 16/100\n",
      "1s - loss: 2.4662 - acc: 0.8279 - val_loss: 2.4568 - val_acc: 0.8399\n",
      "Epoch 17/100\n",
      "1s - loss: 2.3935 - acc: 0.8273 - val_loss: 2.4018 - val_acc: 0.8434\n",
      "Epoch 18/100\n",
      "1s - loss: 2.4183 - acc: 0.8303 - val_loss: 2.3715 - val_acc: 0.8434\n",
      "Epoch 19/100\n",
      "1s - loss: 2.4977 - acc: 0.8231 - val_loss: 2.3328 - val_acc: 0.8434\n",
      "Epoch 20/100\n",
      "1s - loss: 2.2226 - acc: 0.8457 - val_loss: 2.3387 - val_acc: 0.8416\n",
      "Epoch 21/100\n",
      "1s - loss: 2.3827 - acc: 0.8285 - val_loss: 2.3158 - val_acc: 0.8452\n",
      "Epoch 22/100\n",
      "1s - loss: 2.2216 - acc: 0.8421 - val_loss: 2.2721 - val_acc: 0.8470\n",
      "Epoch 23/100\n",
      "1s - loss: 2.5200 - acc: 0.8226 - val_loss: 2.2634 - val_acc: 0.8505\n",
      "Epoch 24/100\n",
      "1s - loss: 2.2703 - acc: 0.8350 - val_loss: 2.2241 - val_acc: 0.8505\n",
      "Epoch 25/100\n",
      "1s - loss: 2.3485 - acc: 0.8249 - val_loss: 2.2839 - val_acc: 0.8523\n",
      "Epoch 26/100\n",
      "1s - loss: 2.2242 - acc: 0.8409 - val_loss: 2.1897 - val_acc: 0.8470\n",
      "Epoch 27/100\n",
      "1s - loss: 2.1440 - acc: 0.8457 - val_loss: 2.1523 - val_acc: 0.8559\n",
      "Epoch 28/100\n",
      "1s - loss: 2.2883 - acc: 0.8362 - val_loss: 2.1854 - val_acc: 0.8559\n",
      "Epoch 29/100\n",
      "1s - loss: 2.2723 - acc: 0.8350 - val_loss: 2.1338 - val_acc: 0.8594\n",
      "Epoch 30/100\n",
      "1s - loss: 2.2764 - acc: 0.8392 - val_loss: 2.1922 - val_acc: 0.8488\n",
      "Epoch 31/100\n",
      "1s - loss: 2.1754 - acc: 0.8409 - val_loss: 2.1323 - val_acc: 0.8594\n",
      "Epoch 32/100\n",
      "1s - loss: 2.1210 - acc: 0.8451 - val_loss: 2.1142 - val_acc: 0.8577\n",
      "Epoch 33/100\n",
      "1s - loss: 2.3228 - acc: 0.8332 - val_loss: 2.1535 - val_acc: 0.8559\n",
      "Epoch 34/100\n",
      "1s - loss: 2.0979 - acc: 0.8499 - val_loss: 2.0972 - val_acc: 0.8594\n",
      "Epoch 35/100\n",
      "1s - loss: 2.0760 - acc: 0.8499 - val_loss: 2.1028 - val_acc: 0.8612\n",
      "Epoch 36/100\n",
      "1s - loss: 2.0664 - acc: 0.8499 - val_loss: 2.1476 - val_acc: 0.8523\n",
      "Epoch 37/100\n",
      "1s - loss: 2.0854 - acc: 0.8510 - val_loss: 2.1044 - val_acc: 0.8559\n",
      "Epoch 38/100\n",
      "1s - loss: 1.9729 - acc: 0.8593 - val_loss: 2.1215 - val_acc: 0.8577\n",
      "Epoch 39/100\n",
      "1s - loss: 2.2015 - acc: 0.8380 - val_loss: 2.1127 - val_acc: 0.8523\n",
      "Epoch 40/100\n",
      "1s - loss: 1.8910 - acc: 0.8593 - val_loss: 2.1350 - val_acc: 0.8505\n",
      "Epoch 41/100\n",
      "1s - loss: 2.0385 - acc: 0.8499 - val_loss: 2.1582 - val_acc: 0.8523\n",
      "Epoch 42/100\n",
      "1s - loss: 2.1590 - acc: 0.8415 - val_loss: 2.0700 - val_acc: 0.8577\n",
      "Epoch 43/100\n",
      "1s - loss: 1.8865 - acc: 0.8605 - val_loss: 2.1020 - val_acc: 0.8505\n",
      "Epoch 44/100\n",
      "1s - loss: 1.9967 - acc: 0.8451 - val_loss: 2.0762 - val_acc: 0.8541\n",
      "Epoch 45/100\n",
      "1s - loss: 2.0526 - acc: 0.8451 - val_loss: 1.9728 - val_acc: 0.8559\n",
      "Epoch 46/100\n",
      "1s - loss: 2.1284 - acc: 0.8427 - val_loss: 2.0683 - val_acc: 0.8523\n",
      "Epoch 47/100\n",
      "1s - loss: 1.9649 - acc: 0.8493 - val_loss: 2.0080 - val_acc: 0.8577\n",
      "Epoch 48/100\n",
      "1s - loss: 2.0342 - acc: 0.8499 - val_loss: 2.0173 - val_acc: 0.8612\n",
      "Epoch 49/100\n",
      "1s - loss: 1.9574 - acc: 0.8564 - val_loss: 2.0797 - val_acc: 0.8541\n",
      "Epoch 50/100\n",
      "1s - loss: 2.0087 - acc: 0.8451 - val_loss: 2.0945 - val_acc: 0.8541\n",
      "Epoch 51/100\n",
      "1s - loss: 1.8401 - acc: 0.8546 - val_loss: 2.0021 - val_acc: 0.8559\n",
      "Epoch 52/100\n",
      "1s - loss: 1.7439 - acc: 0.8641 - val_loss: 2.0128 - val_acc: 0.8559\n",
      "Epoch 53/100\n",
      "1s - loss: 1.8766 - acc: 0.8516 - val_loss: 1.8729 - val_acc: 0.8594\n",
      "Epoch 54/100\n",
      "1s - loss: 1.8273 - acc: 0.8576 - val_loss: 1.8343 - val_acc: 0.8523\n",
      "Epoch 55/100\n",
      "1s - loss: 1.8371 - acc: 0.8546 - val_loss: 1.8741 - val_acc: 0.8577\n",
      "Epoch 56/100\n",
      "1s - loss: 1.8446 - acc: 0.8404 - val_loss: 1.7664 - val_acc: 0.8523\n",
      "Epoch 57/100\n",
      "1s - loss: 1.7383 - acc: 0.8599 - val_loss: 1.7644 - val_acc: 0.8541\n",
      "Epoch 58/100\n",
      "1s - loss: 1.6864 - acc: 0.8694 - val_loss: 1.6979 - val_acc: 0.8523\n",
      "Epoch 59/100\n",
      "1s - loss: 1.8297 - acc: 0.8433 - val_loss: 1.7222 - val_acc: 0.8541\n",
      "Epoch 60/100\n",
      "1s - loss: 1.6368 - acc: 0.8671 - val_loss: 1.6627 - val_acc: 0.8541\n",
      "Epoch 61/100\n",
      "1s - loss: 1.7873 - acc: 0.8528 - val_loss: 1.6108 - val_acc: 0.8630\n",
      "Epoch 62/100\n",
      "1s - loss: 1.5949 - acc: 0.8635 - val_loss: 1.5581 - val_acc: 0.8559\n",
      "Epoch 63/100\n",
      "1s - loss: 1.7063 - acc: 0.8540 - val_loss: 1.5085 - val_acc: 0.8577\n",
      "Epoch 64/100\n",
      "1s - loss: 1.6158 - acc: 0.8635 - val_loss: 1.5787 - val_acc: 0.8559\n",
      "Epoch 65/100\n",
      "1s - loss: 1.6007 - acc: 0.8623 - val_loss: 1.3937 - val_acc: 0.8505\n",
      "Epoch 66/100\n",
      "1s - loss: 1.5020 - acc: 0.8706 - val_loss: 1.4006 - val_acc: 0.8577\n",
      "Epoch 67/100\n",
      "1s - loss: 1.5343 - acc: 0.8469 - val_loss: 1.2930 - val_acc: 0.8541\n",
      "Epoch 68/100\n",
      "1s - loss: 1.2760 - acc: 0.8677 - val_loss: 1.1716 - val_acc: 0.8523\n",
      "Epoch 69/100\n",
      "1s - loss: 1.5124 - acc: 0.8481 - val_loss: 1.0768 - val_acc: 0.8577\n",
      "Epoch 70/100\n",
      "1s - loss: 1.4723 - acc: 0.8546 - val_loss: 1.0781 - val_acc: 0.8612\n",
      "Epoch 71/100\n",
      "1s - loss: 1.3621 - acc: 0.8641 - val_loss: 0.9886 - val_acc: 0.8434\n",
      "Epoch 72/100\n",
      "1s - loss: 1.4475 - acc: 0.8522 - val_loss: 0.9349 - val_acc: 0.8612\n",
      "Epoch 73/100\n",
      "1s - loss: 1.4726 - acc: 0.8475 - val_loss: 0.8136 - val_acc: 0.8559\n",
      "Epoch 74/100\n",
      "1s - loss: 1.3137 - acc: 0.8463 - val_loss: 0.7278 - val_acc: 0.8381\n",
      "Epoch 75/100\n",
      "1s - loss: 1.1928 - acc: 0.8588 - val_loss: 0.6775 - val_acc: 0.8523\n",
      "Epoch 76/100\n",
      "1s - loss: 1.2530 - acc: 0.8516 - val_loss: 0.6015 - val_acc: 0.8470\n",
      "Epoch 77/100\n",
      "1s - loss: 1.0790 - acc: 0.8647 - val_loss: 0.5435 - val_acc: 0.8523\n",
      "Epoch 78/100\n",
      "1s - loss: 1.0356 - acc: 0.8629 - val_loss: 0.5238 - val_acc: 0.8274\n",
      "Epoch 79/100\n",
      "1s - loss: 0.9410 - acc: 0.8552 - val_loss: 0.4978 - val_acc: 0.8167\n",
      "Epoch 80/100\n",
      "1s - loss: 0.9227 - acc: 0.8487 - val_loss: 0.4648 - val_acc: 0.8256\n",
      "Epoch 81/100\n",
      "1s - loss: 0.9163 - acc: 0.8534 - val_loss: 0.4523 - val_acc: 0.8363\n",
      "Epoch 82/100\n",
      "1s - loss: 0.8963 - acc: 0.8445 - val_loss: 0.4440 - val_acc: 0.8274\n",
      "Epoch 83/100\n",
      "1s - loss: 0.8117 - acc: 0.8439 - val_loss: 0.4385 - val_acc: 0.8256\n",
      "Epoch 84/100\n",
      "1s - loss: 0.7416 - acc: 0.8487 - val_loss: 0.4519 - val_acc: 0.8203\n",
      "Epoch 85/100\n",
      "1s - loss: 0.6646 - acc: 0.8528 - val_loss: 0.4793 - val_acc: 0.8007\n",
      "Epoch 86/100\n",
      "1s - loss: 0.6558 - acc: 0.8463 - val_loss: 0.4742 - val_acc: 0.8114\n",
      "Epoch 87/100\n",
      "1s - loss: 0.6135 - acc: 0.8487 - val_loss: 0.4445 - val_acc: 0.8416\n",
      "Epoch 88/100\n",
      "1s - loss: 0.6187 - acc: 0.8481 - val_loss: 0.4462 - val_acc: 0.8470\n",
      "Epoch 89/100\n",
      "1s - loss: 0.5397 - acc: 0.8481 - val_loss: 0.4327 - val_acc: 0.8523\n",
      "Epoch 90/100\n",
      "1s - loss: 0.5366 - acc: 0.8546 - val_loss: 0.4474 - val_acc: 0.8345\n",
      "Epoch 91/100\n",
      "1s - loss: 0.5739 - acc: 0.8564 - val_loss: 0.4383 - val_acc: 0.8060\n",
      "Epoch 92/100\n",
      "1s - loss: 0.4784 - acc: 0.8718 - val_loss: 0.4376 - val_acc: 0.8381\n",
      "Epoch 93/100\n",
      "1s - loss: 0.5349 - acc: 0.8593 - val_loss: 0.4495 - val_acc: 0.8345\n",
      "Epoch 94/100\n",
      "1s - loss: 0.4599 - acc: 0.8635 - val_loss: 0.4498 - val_acc: 0.8310\n",
      "Epoch 95/100\n",
      "1s - loss: 0.4763 - acc: 0.8599 - val_loss: 0.4481 - val_acc: 0.8149\n",
      "Epoch 96/100\n",
      "1s - loss: 0.4396 - acc: 0.8623 - val_loss: 0.4431 - val_acc: 0.8256\n",
      "Epoch 97/100\n",
      "1s - loss: 0.4663 - acc: 0.8659 - val_loss: 0.4378 - val_acc: 0.8434\n",
      "Epoch 98/100\n",
      "1s - loss: 0.4501 - acc: 0.8629 - val_loss: 0.4352 - val_acc: 0.8399\n",
      "Epoch 99/100\n",
      "1s - loss: 0.4778 - acc: 0.8605 - val_loss: 0.4172 - val_acc: 0.8559\n",
      "Epoch 100/100\n"
     ]
    },
    {
     "name": "stdout",
     "output_type": "stream",
     "text": [
      "1s - loss: 0.4283 - acc: 0.8635 - val_loss: 0.4116 - val_acc: 0.8559\n",
      "Training duration : 108.932182789\n",
      "Network's test score [loss, accuracy]: [0.41160463332281416, 0.85587188612099641]\n",
      "CNN Error: 14.41%\n",
      "Model and Weights Saved to Disk\n"
     ]
    },
    {
     "data": {
      "image/png": "[encoded data removed]",
      "text/plain": [
       "<matplotlib.figure.Figure at 0x12bd3cc50>"
      ]
     },
     "metadata": {},
     "output_type": "display_data"
    }
   ],
   "source": [
    "np.random.seed(SEED)\n",
    "(trans_model, loss_cnn, acc_cnn, test_score_cnn) = train_top_model(train_feats=train_bottleneck,\n",
    "                                                                   train_lab=train_labels, \n",
    "                                                                   test_feats=test_bottleneck, \n",
    "                                                                   test_lab=test_labels,\n",
    "                                                                   model_path=modelPath, \n",
    "                                                                   model_save=top_model_weights_path,\n",
    "                                                                   epoch=100)\n",
    "\n",
    "bc.plot_losses(loss_cnn, acc_cnn)"
   ]
  },
  {
   "cell_type": "code",
   "execution_count": 17,
   "metadata": {},
   "outputs": [
    {
     "name": "stdout",
     "output_type": "stream",
     "text": [
      "Transfer Learning CNN Accuracy:   85.59%\n",
      "Transfer Learning CNN Error:      14.41%\n",
      "Normalized confusion matrix\n",
      "[[ 0.84  0.16]\n",
      " [ 0.13  0.87]]\n"
     ]
    },
    {
     "data": {
      "image/png": "[encoded data removed]",
      "text/plain": [
       "<matplotlib.figure.Figure at 0x12aa7e790>"
      ]
     },
     "metadata": {},
     "output_type": "display_data"
    }
   ],
   "source": [
    "print 'Transfer Learning CNN Accuracy: {: >7.2f}%'.format(test_score_cnn[1] * 100)\n",
    "print 'Transfer Learning CNN Error: {: >10.2f}%'.format(100 - test_score_cnn[1] * 100)\n",
    "\n",
    "predictOutput = bc.predict(trans_model, np.load(test_bottleneck))\n",
    "trans_matrix = skm.confusion_matrix(y_true=Y_test, y_pred=predictOutput)\n",
    "\n",
    "plt.figure()\n",
    "bc.plot_confusion_matrix(trans_matrix, classes=class_names, normalize=True,\n",
    "                         title='Normalized Confusion Matrix \\n')\n",
    "plt.savefig('./cm_figures/CNN_Transfer_CM_20170430.png')"
   ]
  },
  {
   "cell_type": "markdown",
   "metadata": {},
   "source": [
    "<h2>Core CNN Modelling</h2>"
   ]
  },
  {
   "cell_type": "markdown",
   "metadata": {},
   "source": [
    "**Prep and package the data for Keras processing:**"
   ]
  },
  {
   "cell_type": "code",
   "execution_count": 18,
   "metadata": {},
   "outputs": [
    {
     "name": "stdout",
     "output_type": "stream",
     "text": [
      "Prep data for NNs ...\n",
      "Data Prepped for Neural Nets.\n",
      "(1685, 1, 150, 150)\n",
      "(562, 1, 150, 150)\n",
      "(1685, 2)\n",
      "(562, 2)\n"
     ]
    }
   ],
   "source": [
    "data = [X_train, X_test, Y_train, Y_test]\n",
    "X_train, X_test, Y_train, Y_test = bc.prep_data(data, cats)\n",
    "data = [X_train, X_test, Y_train, Y_test]\n",
    "\n",
    "print X_train.shape\n",
    "print X_test.shape\n",
    "print Y_train.shape\n",
    "print Y_test.shape"
   ]
  },
  {
   "cell_type": "markdown",
   "metadata": {},
   "source": [
    "**Heavy Regularization**"
   ]
  },
  {
   "cell_type": "code",
   "execution_count": 19,
   "metadata": {
    "collapsed": true
   },
   "outputs": [],
   "source": [
    "def diff_model_v7_reg(numClasses, input_shape=(3, 150,150), add_noise=False, noise=0.01, verbose=False):\n",
    "    model = Sequential()\n",
    "    if (add_noise):\n",
    "        model.add( GaussianNoise(noise, input_shape=input_shape))\n",
    "        model.add( Convolution2D(filters=16, \n",
    "                                 kernel_size=(5,5), \n",
    "                                 data_format='channels_first',\n",
    "                                 padding='same',\n",
    "                                 activation='relu'))\n",
    "    else:\n",
    "        model.add( Convolution2D(filters=16, \n",
    "                                 kernel_size=(5,5), \n",
    "                                 data_format='channels_first',\n",
    "                                 padding='same',\n",
    "                                 activation='relu',\n",
    "                                 input_shape=input_shape))\n",
    "    model.add( Dropout(0.7))\n",
    "    \n",
    "    model.add( Convolution2D(filters=32, kernel_size=(3,3), \n",
    "                             data_format='channels_first', padding='same', activation='relu'))\n",
    "    model.add( MaxPooling2D(pool_size= (2,2), data_format='channels_first'))\n",
    "    model.add( Dropout(0.4))\n",
    "    model.add( Convolution2D(filters=32, kernel_size=(3,3), \n",
    "                             data_format='channels_first', activation='relu'))\n",
    "    \n",
    "    model.add( Convolution2D(filters=64, kernel_size=(3,3), \n",
    "                             data_format='channels_first', padding='same', activation='relu',\n",
    "                             kernel_regularizer=regularizers.l2(0.01)))\n",
    "    model.add( MaxPooling2D(pool_size= (2,2), data_format='channels_first'))\n",
    "    model.add( Convolution2D(filters=64, kernel_size=(3,3), \n",
    "                             data_format='channels_first', activation='relu',\n",
    "                             kernel_regularizer=regularizers.l2(0.01)))\n",
    "    model.add( Dropout(0.4))\n",
    "    \n",
    "    model.add( Convolution2D(filters=128, kernel_size=(3,3), \n",
    "                             data_format='channels_first', padding='same', activation='relu',\n",
    "                             kernel_regularizer=regularizers.l2(0.01)))\n",
    "    model.add( MaxPooling2D(pool_size= (2,2), data_format='channels_first'))\n",
    "    \n",
    "    model.add( Convolution2D(filters=128, kernel_size=(3,3), \n",
    "                             data_format='channels_first', activation='relu',\n",
    "                             kernel_regularizer=regularizers.l2(0.01)))\n",
    "    model.add(Dropout(0.4))\n",
    "    \n",
    "    model.add( Flatten())\n",
    "    \n",
    "    model.add( Dense(128, activation='relu', kernel_constraint= maxnorm(3.)) )\n",
    "    model.add( Dropout(0.4))\n",
    "    \n",
    "    model.add( Dense(64, activation='relu', kernel_constraint= maxnorm(3.)) )\n",
    "    model.add( Dropout(0.4))\n",
    "    \n",
    "    # Softmax for probabilities for each class at the output layer\n",
    "    model.add( Dense(numClasses, activation='softmax'))\n",
    "    \n",
    "    if verbose:\n",
    "        print( model.summary() )\n",
    "    \n",
    "    model.compile(loss='binary_crossentropy',\n",
    "                  optimizer='rmsprop',\n",
    "                  metrics=['accuracy'])\n",
    "    return model"
   ]
  },
  {
   "cell_type": "code",
   "execution_count": 20,
   "metadata": {},
   "outputs": [
    {
     "name": "stdout",
     "output_type": "stream",
     "text": [
      "_________________________________________________________________\n",
      "Layer (type)                 Output Shape              Param #   \n",
      "=================================================================\n",
      "gaussian_noise_1 (GaussianNo (None, 1, 150, 150)       0         \n",
      "_________________________________________________________________\n",
      "conv2d_1 (Conv2D)            (None, 16, 150, 150)      416       \n",
      "_________________________________________________________________\n",
      "dropout_3 (Dropout)          (None, 16, 150, 150)      0         \n",
      "_________________________________________________________________\n",
      "conv2d_2 (Conv2D)            (None, 32, 150, 150)      4640      \n",
      "_________________________________________________________________\n",
      "max_pooling2d_1 (MaxPooling2 (None, 32, 75, 75)        0         \n",
      "_________________________________________________________________\n",
      "dropout_4 (Dropout)          (None, 32, 75, 75)        0         \n",
      "_________________________________________________________________\n",
      "conv2d_3 (Conv2D)            (None, 32, 73, 73)        9248      \n",
      "_________________________________________________________________\n",
      "conv2d_4 (Conv2D)            (None, 64, 73, 73)        18496     \n",
      "_________________________________________________________________\n",
      "max_pooling2d_2 (MaxPooling2 (None, 64, 36, 36)        0         \n",
      "_________________________________________________________________\n",
      "conv2d_5 (Conv2D)            (None, 64, 34, 34)        36928     \n",
      "_________________________________________________________________\n",
      "dropout_5 (Dropout)          (None, 64, 34, 34)        0         \n",
      "_________________________________________________________________\n",
      "conv2d_6 (Conv2D)            (None, 128, 34, 34)       73856     \n",
      "_________________________________________________________________\n",
      "max_pooling2d_3 (MaxPooling2 (None, 128, 17, 17)       0         \n",
      "_________________________________________________________________\n",
      "conv2d_7 (Conv2D)            (None, 128, 15, 15)       147584    \n",
      "_________________________________________________________________\n",
      "dropout_6 (Dropout)          (None, 128, 15, 15)       0         \n",
      "_________________________________________________________________\n",
      "flatten_2 (Flatten)          (None, 28800)             0         \n",
      "_________________________________________________________________\n",
      "dense_3 (Dense)              (None, 128)               3686528   \n",
      "_________________________________________________________________\n",
      "dropout_7 (Dropout)          (None, 128)               0         \n",
      "_________________________________________________________________\n",
      "dense_4 (Dense)              (None, 64)                8256      \n",
      "_________________________________________________________________\n",
      "dropout_8 (Dropout)          (None, 64)                0         \n",
      "_________________________________________________________________\n",
      "dense_5 (Dense)              (None, 2)                 130       \n",
      "=================================================================\n",
      "Total params: 3,986,082\n",
      "Trainable params: 3,986,082\n",
      "Non-trainable params: 0\n",
      "_________________________________________________________________\n",
      "None\n"
     ]
    }
   ],
   "source": [
    "diff_model7_noise_reg = diff_model_v7_reg(len(cats),\n",
    "                                          input_shape=(X_train.shape[1], X_train.shape[2], X_train.shape[3]),\n",
    "                                          add_noise=True, verbose=True)"
   ]
  },
  {
   "cell_type": "code",
   "execution_count": 21,
   "metadata": {},
   "outputs": [
    {
     "name": "stdout",
     "output_type": "stream",
     "text": [
      "Training model...\n",
      "Train on 1685 samples, validate on 562 samples\n",
      "Epoch 1/50\n",
      "167s - loss: 2.3927 - acc: 0.7104 - val_loss: 1.5572 - val_acc: 0.7082\n",
      "Epoch 2/50\n",
      "166s - loss: 1.0973 - acc: 0.8071 - val_loss: 0.8139 - val_acc: 0.7758\n",
      "Epoch 3/50\n",
      "166s - loss: 0.6356 - acc: 0.8202 - val_loss: 0.5574 - val_acc: 0.8292\n",
      "Epoch 4/50\n",
      "166s - loss: 0.5129 - acc: 0.8273 - val_loss: 0.4809 - val_acc: 0.8327\n",
      "Epoch 5/50\n",
      "166s - loss: 0.4813 - acc: 0.8243 - val_loss: 0.4653 - val_acc: 0.8345\n",
      "Epoch 6/50\n",
      "165s - loss: 0.4605 - acc: 0.8267 - val_loss: 0.4479 - val_acc: 0.8381\n",
      "Epoch 7/50\n",
      "165s - loss: 0.4403 - acc: 0.8291 - val_loss: 0.4530 - val_acc: 0.8363\n",
      "Epoch 8/50\n",
      "165s - loss: 0.4484 - acc: 0.8267 - val_loss: 0.4684 - val_acc: 0.8132\n",
      "Epoch 9/50\n",
      "165s - loss: 0.4479 - acc: 0.8279 - val_loss: 0.4457 - val_acc: 0.8381\n",
      "Epoch 10/50\n",
      "165s - loss: 0.4310 - acc: 0.8350 - val_loss: 0.5219 - val_acc: 0.7669\n",
      "Epoch 11/50\n",
      "165s - loss: 0.4277 - acc: 0.8344 - val_loss: 0.4430 - val_acc: 0.8274\n",
      "Epoch 12/50\n",
      "166s - loss: 0.4178 - acc: 0.8374 - val_loss: 0.4472 - val_acc: 0.8345\n",
      "Epoch 13/50\n",
      "166s - loss: 0.4127 - acc: 0.8421 - val_loss: 0.4611 - val_acc: 0.8292\n",
      "Epoch 14/50\n",
      "165s - loss: 0.4116 - acc: 0.8409 - val_loss: 0.4384 - val_acc: 0.8381\n",
      "Epoch 15/50\n",
      "165s - loss: 0.4122 - acc: 0.8415 - val_loss: 0.4513 - val_acc: 0.8399\n",
      "Epoch 16/50\n",
      "165s - loss: 0.4126 - acc: 0.8427 - val_loss: 0.4531 - val_acc: 0.8292\n",
      "Epoch 17/50\n",
      "165s - loss: 0.3933 - acc: 0.8427 - val_loss: 0.4569 - val_acc: 0.8381\n",
      "Epoch 18/50\n",
      "165s - loss: 0.3824 - acc: 0.8504 - val_loss: 0.4203 - val_acc: 0.8363\n",
      "Epoch 19/50\n",
      "165s - loss: 0.3817 - acc: 0.8570 - val_loss: 0.4432 - val_acc: 0.8327\n",
      "Epoch 20/50\n",
      "165s - loss: 0.3826 - acc: 0.8493 - val_loss: 0.4700 - val_acc: 0.8310\n",
      "Epoch 21/50\n",
      "166s - loss: 0.3728 - acc: 0.8588 - val_loss: 0.4428 - val_acc: 0.8256\n",
      "Epoch 22/50\n",
      "166s - loss: 0.3696 - acc: 0.8534 - val_loss: 0.4247 - val_acc: 0.8256\n",
      "Epoch 23/50\n",
      "167s - loss: 0.3737 - acc: 0.8593 - val_loss: 0.4258 - val_acc: 0.8381\n",
      "Epoch 24/50\n",
      "167s - loss: 0.3630 - acc: 0.8611 - val_loss: 0.4878 - val_acc: 0.8310\n",
      "Epoch 25/50\n",
      "168s - loss: 0.3674 - acc: 0.8653 - val_loss: 0.4637 - val_acc: 0.8292\n",
      "Epoch 26/50\n",
      "168s - loss: 0.3692 - acc: 0.8629 - val_loss: 0.4136 - val_acc: 0.8381\n",
      "Epoch 27/50\n",
      "169s - loss: 0.3618 - acc: 0.8635 - val_loss: 0.4490 - val_acc: 0.8310\n",
      "Epoch 28/50\n",
      "169s - loss: 0.3389 - acc: 0.8742 - val_loss: 0.4833 - val_acc: 0.8149\n",
      "Epoch 29/50\n",
      "169s - loss: 0.3412 - acc: 0.8742 - val_loss: 0.4913 - val_acc: 0.8363\n",
      "Epoch 30/50\n",
      "169s - loss: 0.3416 - acc: 0.8688 - val_loss: 0.5465 - val_acc: 0.8327\n",
      "Epoch 31/50\n",
      "169s - loss: 0.3270 - acc: 0.8700 - val_loss: 0.5341 - val_acc: 0.8363\n",
      "Epoch 32/50\n",
      "169s - loss: 0.3430 - acc: 0.8718 - val_loss: 0.4950 - val_acc: 0.8256\n",
      "Epoch 33/50\n",
      "169s - loss: 0.3257 - acc: 0.8807 - val_loss: 0.4054 - val_acc: 0.8292\n",
      "Epoch 34/50\n",
      "169s - loss: 0.3210 - acc: 0.8795 - val_loss: 0.4716 - val_acc: 0.8256\n",
      "Epoch 35/50\n",
      "169s - loss: 0.3223 - acc: 0.8760 - val_loss: 0.4953 - val_acc: 0.8345\n",
      "Epoch 36/50\n",
      "169s - loss: 0.3102 - acc: 0.8878 - val_loss: 0.4289 - val_acc: 0.8452\n",
      "Epoch 37/50\n",
      "169s - loss: 0.3199 - acc: 0.8807 - val_loss: 0.5254 - val_acc: 0.8292\n",
      "Epoch 38/50\n",
      "169s - loss: 0.3342 - acc: 0.8777 - val_loss: 0.4621 - val_acc: 0.8221\n",
      "Epoch 39/50\n",
      "169s - loss: 0.2954 - acc: 0.8955 - val_loss: 0.4348 - val_acc: 0.8523\n",
      "Epoch 40/50\n",
      "169s - loss: 0.2993 - acc: 0.8843 - val_loss: 0.5228 - val_acc: 0.8292\n",
      "Epoch 41/50\n",
      "169s - loss: 0.3087 - acc: 0.8926 - val_loss: 0.4865 - val_acc: 0.8256\n",
      "Epoch 42/50\n",
      "169s - loss: 0.2938 - acc: 0.8861 - val_loss: 0.4866 - val_acc: 0.8505\n",
      "Epoch 43/50\n",
      "169s - loss: 0.2917 - acc: 0.8896 - val_loss: 0.4666 - val_acc: 0.8327\n",
      "Epoch 44/50\n",
      "169s - loss: 0.2763 - acc: 0.8955 - val_loss: 0.6186 - val_acc: 0.8327\n",
      "Epoch 45/50\n",
      "169s - loss: 0.2960 - acc: 0.8878 - val_loss: 0.5053 - val_acc: 0.8114\n",
      "Epoch 46/50\n",
      "169s - loss: 0.2655 - acc: 0.9015 - val_loss: 0.4409 - val_acc: 0.8505\n",
      "Epoch 47/50\n",
      "169s - loss: 0.2788 - acc: 0.8985 - val_loss: 0.4541 - val_acc: 0.8327\n",
      "Epoch 48/50\n",
      "170s - loss: 0.2782 - acc: 0.9027 - val_loss: 0.4741 - val_acc: 0.8381\n",
      "Epoch 49/50\n",
      "169s - loss: 0.2694 - acc: 0.8955 - val_loss: 0.6154 - val_acc: 0.8523\n",
      "Epoch 50/50\n",
      "169s - loss: 0.2664 - acc: 0.9068 - val_loss: 0.5803 - val_acc: 0.8256\n",
      "Training duration : 8397.16260719\n",
      "Network's test score [loss, accuracy]: [0.58034349906380911, 0.82562277580071175]\n",
      "CNN Error: 17.44%\n"
     ]
    },
    {
     "data": {
      "image/png": "[encoded data removed]",
      "text/plain": [
       "<matplotlib.figure.Figure at 0x139114350>"
      ]
     },
     "metadata": {},
     "output_type": "display_data"
    }
   ],
   "source": [
    "np.random.seed(SEED)\n",
    "\n",
    "(cnn_model, loss_cnn, acc_cnn, test_score_cnn) = bc.run_network(model=diff_model7_noise_reg, \n",
    "                                                                data=data, \n",
    "                                                                epochs=50, batch=64)\n",
    "bc.plot_losses(loss_cnn, acc_cnn)"
   ]
  },
  {
   "cell_type": "code",
   "execution_count": 22,
   "metadata": {},
   "outputs": [
    {
     "name": "stdout",
     "output_type": "stream",
     "text": [
      "Model and Weights Saved to Disk\n"
     ]
    }
   ],
   "source": [
    "bc.save_model(dir_path='./weights/', model=cnn_model, name='jn_diff_model7_noise_reg_20170430')"
   ]
  },
  {
   "cell_type": "code",
   "execution_count": 23,
   "metadata": {},
   "outputs": [
    {
     "name": "stdout",
     "output_type": "stream",
     "text": [
      "Core CNN Accuracy:   82.56%\n",
      "Core CNN Error:      17.44%\n",
      "Normalized confusion matrix\n",
      "[[ 0.83  0.17]\n",
      " [ 0.18  0.82]]\n"
     ]
    },
    {
     "data": {
      "image/png": "[encoded data removed]",
      "text/plain": [
       "<matplotlib.figure.Figure at 0x128a7f1d0>"
      ]
     },
     "metadata": {},
     "output_type": "display_data"
    }
   ],
   "source": [
    "print 'Core CNN Accuracy: {: >7.2f}%'.format(test_score_cnn[1] * 100)\n",
    "print 'Core CNN Error: {: >10.2f}%'.format(100 - test_score_cnn[1] * 100)\n",
    "\n",
    "predictOutput = bc.predict(cnn_model, X_test)\n",
    "\n",
    "cnn_matrix = skm.confusion_matrix(y_true=[val.argmax() for val in Y_test], y_pred=predictOutput)\n",
    "\n",
    "plt.figure()\n",
    "bc.plot_confusion_matrix(cnn_matrix, classes=class_names, normalize=True,\n",
    "                         title='Normalized Confusion Matrix \\n')\n",
    "plt.savefig('./cm_figures/Core_CNN_CM_20170430.png')"
   ]
  },
  {
   "cell_type": "code",
   "execution_count": null,
   "metadata": {
    "collapsed": true
   },
   "outputs": [],
   "source": []
  }
 ],
 "metadata": {
  "kernelspec": {
   "display_name": "Python 2",
   "language": "python",
   "name": "python2"
  },
  "language_info": {
   "codemirror_mode": {
    "name": "ipython",
    "version": 2
   },
   "file_extension": ".py",
   "mimetype": "text/x-python",
   "name": "python",
   "nbconvert_exporter": "python",
   "pygments_lexer": "ipython2",
   "version": "2.7.13"
  }
 },
 "nbformat": 4,
 "nbformat_minor": 2
}
