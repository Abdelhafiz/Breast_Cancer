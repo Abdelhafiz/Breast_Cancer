{
 "cells": [
  {
   "cell_type": "markdown",
   "metadata": {},
   "source": [
    "<hr>\n",
    "<h1>Predicting Abnormalities in Mammograms</h1>\n",
    "\n",
    "<p>Jay Narhan</p>\n",
    "April 2017\n",
    "\n",
    "Screening for breast cancer will often make use of mammography as the primary imaging modality for early detection efforts. However identifying abnormalities is a difficult problem due to large variability in the appearance of normal and abnormal tissue in mammograms and due to the subtlety associated with abnormal manifestations. Indeed, the interpretation of mammography imaging is still a manual process that is prone to human error. The application of automated classification of mammography is <a href=\"http://www.sciencedirect.com/science/article/pii/S0169260715300110\">described</a> as an unsolved problem. As such, this work aims to extend research into how machine learning technologies may supplement the diagnostic assessments of radiologists.\n",
    "\n",
    "Presented in this workbook are a number of models that have been developed to classify breast tissue imaging as either normal or abnormal (where abnormality contains benign and/or malignant lesions, masses or calcifications).\n",
    "\n",
    "A number of preprocessing steps have been performed before application of these models. These steps include thresholding and segmentation of artifacts from breast tissue. The preprocessing also includes the generation of difference images for every bilateral pairings of CC and MLO mammogram views for each patient in the data set.\n",
    "\n",
    "<hr>"
   ]
  },
  {
   "cell_type": "code",
   "execution_count": 1,
   "metadata": {},
   "outputs": [
    {
     "name": "stderr",
     "output_type": "stream",
     "text": [
      "Using Theano backend.\n"
     ]
    }
   ],
   "source": [
    "import os\n",
    "import sys\n",
    "import time\n",
    "import numpy as np\n",
    "\n",
    "import sklearn.metrics as skm\n",
    "from sklearn import metrics\n",
    "from sklearn.svm import SVC\n",
    "from sklearn.model_selection import train_test_split\n",
    "\n",
    "from skimage import color\n",
    "\n",
    "import keras.callbacks as cb\n",
    "import keras.utils.np_utils as np_utils\n",
    "from keras import applications\n",
    "from keras import regularizers\n",
    "from keras.models import Sequential\n",
    "from keras.constraints import maxnorm\n",
    "from keras.preprocessing.image import ImageDataGenerator\n",
    "from keras.layers.convolutional import Convolution2D, MaxPooling2D\n",
    "from keras.layers import Activation, Dense, Dropout, Flatten, GaussianNoise\n",
    "\n",
    "from matplotlib import pyplot as plt\n",
    "%matplotlib inline\n",
    "\n",
    "plt.rcParams['figure.figsize'] = (10,10)\n",
    "np.set_printoptions(precision=2)\n",
    "\n",
    "import jn_bc_helper as bc"
   ]
  },
  {
   "cell_type": "markdown",
   "metadata": {},
   "source": [
    "<h2>Reproducible Research</h2>"
   ]
  },
  {
   "cell_type": "code",
   "execution_count": 2,
   "metadata": {},
   "outputs": [
    {
     "name": "stdout",
     "output_type": "stream",
     "text": [
      "scipy:           0.19.0\n",
      "numpy:           1.12.1\n",
      "matplotlib:      2.0.0\n",
      "sklearn:         0.18.1\n",
      "skimage:         0.13.0\n",
      "theano:          0.9.0.dev-c697eeab84e5b8a74908da654b66ec9eca4f1291\n",
      "tensorflow:      0.10.0\n",
      "keras:           2.0.3\n"
     ]
    },
    {
     "name": "stderr",
     "output_type": "stream",
     "text": [
      "Python 2.7.13 :: Continuum Analytics, Inc.\n",
      "Using Theano backend.\n"
     ]
    }
   ],
   "source": [
    "%%python\n",
    "import os\n",
    "os.system('python -V')\n",
    "os.system('python ../../Package_Versions.py')"
   ]
  },
  {
   "cell_type": "code",
   "execution_count": 3,
   "metadata": {},
   "outputs": [
    {
     "name": "stderr",
     "output_type": "stream",
     "text": [
      "2it [00:00, 14.77it/s]"
     ]
    },
    {
     "name": "stdout",
     "output_type": "stream",
     "text": [
      "----------------\n",
      "Before Balancing\n",
      "----------------\n",
      "abnormal  : 1487\n",
      "normal    : 1072\n",
      "balanceViaRemoval.avgC: 1279\n",
      "balanceViaRemoval.theshold: 1279.0\n",
      "---------------\n",
      "After Balancing\n",
      "---------------\n",
      "abnormal  : 1175\n",
      "normal    : 1072\n",
      "-------------\n",
      "Loading data:\n",
      "-------------\n"
     ]
    },
    {
     "name": "stderr",
     "output_type": "stream",
     "text": [
      "2247it [01:32, 24.19it/s]\n"
     ]
    }
   ],
   "source": [
    "SEED = 7\n",
    "np.random.seed(SEED)\n",
    "\n",
    "DATA_DIR = '/Users/jnarhan/Projects/CUNY_698/Docker-Shared/Data_Diff_Images/ALL_IMGS/'\n",
    "meta_file = DATA_DIR + 'meta_data.csv'\n",
    "PATHO_INX = 3   # Column number of Pathology in meta_file\n",
    "FILE_INX = 1    # Column number of File name in meta_file\n",
    "\n",
    "meta_data, cls_cnts = bc.load_meta(meta_file, patho_idx=PATHO_INX, file_idx=FILE_INX,\n",
    "                                   balanceByRemoval=True, verbose=True)\n",
    "\n",
    "bc.pprint('Loading data:')\n",
    "cats = bc.bcNumerics()\n",
    "\n",
    "# For smaller images supply tuple argument for a parameter 'imgResize':\n",
    "X_data, Y_data = bc.load_data(meta_data, DATA_DIR, cats, imgResize=(150,150)) \n"
   ]
  },
  {
   "cell_type": "markdown",
   "metadata": {},
   "source": [
    "**Create the Training and Test Datasets**"
   ]
  },
  {
   "cell_type": "code",
   "execution_count": 4,
   "metadata": {},
   "outputs": [
    {
     "name": "stdout",
     "output_type": "stream",
     "text": [
      "Size of X_train:  1685\n",
      "Size of X_test:   562\n",
      "Size of Y_train:  1685\n",
      "Size of Y_test:   562\n",
      "(1685, 150, 150)\n",
      "(562, 150, 150)\n",
      "(1685, 1)\n",
      "(562, 1)\n"
     ]
    }
   ],
   "source": [
    "X_train, X_test, Y_train, Y_test = train_test_split(X_data, Y_data,\n",
    "                                                    test_size=0.25,\n",
    "                                                    random_state=SEED,\n",
    "                                                    stratify=zip(*Y_data)[0])\n",
    "\n",
    "print 'Size of X_train: {:>5}'.format(len(X_train))\n",
    "print 'Size of X_test: {:>5}'.format(len(X_test))\n",
    "print 'Size of Y_train: {:>5}'.format(len(Y_train))\n",
    "print 'Size of Y_test: {:>5}'.format(len(Y_test))\n",
    "\n",
    "print X_train.shape\n",
    "print X_test.shape\n",
    "print Y_train.shape\n",
    "print Y_test.shape\n",
    "\n",
    "data = [X_train, X_test, Y_train, Y_test]"
   ]
  },
  {
   "cell_type": "markdown",
   "metadata": {},
   "source": [
    "<h2>Support Vector Machine Model</h2>"
   ]
  },
  {
   "cell_type": "code",
   "execution_count": 5,
   "metadata": {
    "collapsed": true
   },
   "outputs": [],
   "source": [
    "X_train_svm = X_train.reshape( (X_train.shape[0], -1)) \n",
    "X_test_svm  = X_test.reshape( (X_test.shape[0], -1))"
   ]
  },
  {
   "cell_type": "code",
   "execution_count": 6,
   "metadata": {},
   "outputs": [
    {
     "name": "stderr",
     "output_type": "stream",
     "text": [
      "/Users/jnarhan/miniconda2/envs/bc_venv/lib/python2.7/site-packages/sklearn/utils/validation.py:526: DataConversionWarning: A column-vector y was passed when a 1d array was expected. Please change the shape of y to (n_samples, ), for example using ravel().\n",
      "  y = column_or_1d(y, warn=True)\n"
     ]
    },
    {
     "data": {
      "text/plain": [
       "SVC(C=1.0, cache_size=200, class_weight=None, coef0=0.0,\n",
       "  decision_function_shape=None, degree=3, gamma=0.001, kernel='rbf',\n",
       "  max_iter=-1, probability=False, random_state=None, shrinking=True,\n",
       "  tol=0.001, verbose=False)"
      ]
     },
     "execution_count": 6,
     "metadata": {},
     "output_type": "execute_result"
    }
   ],
   "source": [
    "SVM_model = SVC(gamma=0.001)\n",
    "SVM_model.fit( X_train_svm, Y_train)"
   ]
  },
  {
   "cell_type": "code",
   "execution_count": 7,
   "metadata": {},
   "outputs": [
    {
     "name": "stdout",
     "output_type": "stream",
     "text": [
      "SVM Accuracy:   83.81%\n",
      "SVM Error:      16.19%\n"
     ]
    }
   ],
   "source": [
    "predictOutput = SVM_model.predict(X_test_svm)\n",
    "svm_acc = metrics.accuracy_score(y_true=Y_test, y_pred=predictOutput)\n",
    "\n",
    "print 'SVM Accuracy: {: >7.2f}%'.format(svm_acc * 100)\n",
    "print 'SVM Error: {: >10.2f}%'.format(100 - svm_acc * 100)"
   ]
  },
  {
   "cell_type": "code",
   "execution_count": 8,
   "metadata": {},
   "outputs": [
    {
     "name": "stdout",
     "output_type": "stream",
     "text": [
      "Normalized confusion matrix\n",
      "[[ 0.83  0.17]\n",
      " [ 0.15  0.85]]\n"
     ]
    },
    {
     "data": {
      "image/png": "[encoded data removed]",
      "text/plain": [
       "<matplotlib.figure.Figure at 0x110b5dad0>"
      ]
     },
     "metadata": {},
     "output_type": "display_data"
    }
   ],
   "source": [
    "svm_matrix = skm.confusion_matrix(y_true=Y_test, y_pred=predictOutput)\n",
    "numBC = bc.reverseDict(cats)\n",
    "class_names = numBC.values()\n",
    "\n",
    "plt.figure(figsize=(8,6))\n",
    "bc.plot_confusion_matrix(svm_matrix, classes=class_names, normalize=True, \n",
    "                         title='SVM Normalized Confusion Matrix Using Differencing \\n')\n",
    "plt.tight_layout()\n",
    "plt.savefig('./cm_figures/jn_SVM_2Class_CM_20170508.png', dpi=100)"
   ]
  },
  {
   "cell_type": "markdown",
   "metadata": {},
   "source": [
    "<h2>CNN Modelling Using VGG16 in Transfer Learning</h2>"
   ]
  },
  {
   "cell_type": "code",
   "execution_count": 9,
   "metadata": {
    "collapsed": true
   },
   "outputs": [],
   "source": [
    "def VGG_Prep(img_data):\n",
    "    \"\"\"\n",
    "    :param img_data: training or test images of shape [#images, height, width]\n",
    "    :return: the array transformed to the correct shape for the VGG network\n",
    "                shape = [#images, height, width, 3] transforms to rgb and reshapes\n",
    "    \"\"\"\n",
    "    images = np.zeros([len(img_data), img_data.shape[1], img_data.shape[2], 3])\n",
    "    for i in range(0, len(img_data)):\n",
    "        im = (img_data[i] * 255)        # Original imagenet images were not rescaled\n",
    "        im = color.gray2rgb(im)\n",
    "        images[i] = im\n",
    "    return(images)"
   ]
  },
  {
   "cell_type": "code",
   "execution_count": 10,
   "metadata": {
    "collapsed": true
   },
   "outputs": [],
   "source": [
    "def vgg16_bottleneck(data, modelPath, fn_train_feats, fn_train_lbls, fn_test_feats, fn_test_lbls):\n",
    "    # Loading data\n",
    "    X_train, X_test, Y_train, Y_test = data\n",
    "    \n",
    "    print('Preparing the Training Data for the VGG_16 Model.')\n",
    "    X_train = VGG_Prep(X_train)\n",
    "    print('Preparing the Test Data for the VGG_16 Model')\n",
    "    X_test = VGG_Prep(X_test)\n",
    "        \n",
    "    print('Loading the VGG_16 Model')\n",
    "    # \"model\" excludes top layer of VGG16:\n",
    "    model = applications.VGG16(include_top=False, weights='imagenet') \n",
    "        \n",
    "    # Generating the bottleneck features for the training data\n",
    "    print('Evaluating the VGG_16 Model on the Training Data')\n",
    "    bottleneck_features_train = model.predict(X_train)\n",
    "    \n",
    "    # Saving the bottleneck features for the training data\n",
    "    featuresTrain = os.path.join(modelPath, fn_train_feats)\n",
    "    labelsTrain = os.path.join(modelPath, fn_train_lbls)\n",
    "    print('Saving the Training Data Bottleneck Features.')\n",
    "    np.save(open(featuresTrain, 'wb'), bottleneck_features_train)\n",
    "    np.save(open(labelsTrain, 'wb'), Y_train)\n",
    "\n",
    "    # Generating the bottleneck features for the test data\n",
    "    print('Evaluating the VGG_16 Model on the Test Data')\n",
    "    bottleneck_features_test = model.predict(X_test)\n",
    "    \n",
    "    # Saving the bottleneck features for the test data\n",
    "    featuresTest = os.path.join(modelPath, fn_test_feats)\n",
    "    labelsTest = os.path.join(modelPath, fn_test_lbls)\n",
    "    print('Saving the Test Data Bottleneck Feaures.')\n",
    "    np.save(open(featuresTest, 'wb'), bottleneck_features_test)\n",
    "    np.save(open(labelsTest, 'wb'), Y_test)"
   ]
  },
  {
   "cell_type": "code",
   "execution_count": 11,
   "metadata": {},
   "outputs": [
    {
     "name": "stdout",
     "output_type": "stream",
     "text": [
      "Preparing the Training Data for the VGG_16 Model.\n",
      "Preparing the Test Data for the VGG_16 Model\n",
      "Loading the VGG_16 Model\n",
      "Evaluating the VGG_16 Model on the Training Data\n",
      "Saving the Training Data Bottleneck Features.\n",
      "Evaluating the VGG_16 Model on the Test Data\n",
      "Saving the Test Data Bottleneck Feaures.\n"
     ]
    }
   ],
   "source": [
    "# Locations for the bottleneck and labels files that we need\n",
    "train_bottleneck = '2Class_VGG16_bottleneck_features_train.npy'\n",
    "train_labels     = '2Class_VGG16_labels_train.npy'\n",
    "test_bottleneck  = '2Class_VGG16_bottleneck_features_test.npy'\n",
    "test_labels      = '2Class_VGG16_labels_test.npy'\n",
    "modelPath = os.getcwd()\n",
    "\n",
    "top_model_weights_path = './weights/'\n",
    "\n",
    "np.random.seed(SEED)\n",
    "vgg16_bottleneck(data, modelPath, train_bottleneck, train_labels, test_bottleneck, test_labels)"
   ]
  },
  {
   "cell_type": "code",
   "execution_count": 12,
   "metadata": {
    "collapsed": true
   },
   "outputs": [],
   "source": [
    "def train_top_model(train_feats, train_lab, test_feats, test_lab, model_path, model_save, epoch = 50, batch = 64):\n",
    "    start_time = time.time()\n",
    "    \n",
    "    train_bottleneck = os.path.join(model_path, train_feats)\n",
    "    train_labels = os.path.join(model_path, train_lab)\n",
    "    test_bottleneck = os.path.join(model_path, test_feats)\n",
    "    test_labels = os.path.join(model_path, test_lab)\n",
    "    \n",
    "    history = bc.LossHistory()\n",
    "    \n",
    "    X_train = np.load(train_bottleneck)\n",
    "    Y_train = np.load(train_labels)\n",
    "    Y_train = np_utils.to_categorical(Y_train, num_classes=2)\n",
    "    \n",
    "    X_test = np.load(test_bottleneck)\n",
    "    Y_test = np.load(test_labels)\n",
    "    Y_test = np_utils.to_categorical(Y_test, num_classes=2)\n",
    "\n",
    "    model = Sequential()\n",
    "    model.add(Flatten(input_shape=X_train.shape[1:]))\n",
    "    model.add( Dropout(0.7))\n",
    "    \n",
    "    model.add( Dense(256, activation='relu', kernel_constraint= maxnorm(3.)) )\n",
    "    model.add( Dropout(0.5))\n",
    "    \n",
    "    # Softmax for probabilities for each class at the output layer\n",
    "    model.add( Dense(2, activation='softmax'))\n",
    "    \n",
    "    model.compile(optimizer='rmsprop',  # adadelta\n",
    "                  loss='binary_crossentropy', \n",
    "                  metrics=['accuracy'])\n",
    "\n",
    "    model.fit(X_train, Y_train,\n",
    "              epochs=epoch,\n",
    "              batch_size=batch,\n",
    "              callbacks=[history],\n",
    "              validation_data=(X_test, Y_test),\n",
    "              verbose=2)\n",
    "    \n",
    "    print \"Training duration : {0}\".format(time.time() - start_time)\n",
    "    score = model.evaluate(X_test, Y_test, batch_size=16, verbose=2)\n",
    "\n",
    "    print \"Network's test score [loss, accuracy]: {0}\".format(score)\n",
    "    print 'CNN Error: {:.2f}%'.format(100 - score[1] * 100)\n",
    "    \n",
    "    bc.save_model(model_save, model, \"jn_VGG16_2Class_top_weights.h5\")\n",
    "    \n",
    "    return model, history.losses, history.acc, score"
   ]
  },
  {
   "cell_type": "code",
   "execution_count": 13,
   "metadata": {},
   "outputs": [
    {
     "name": "stdout",
     "output_type": "stream",
     "text": [
      "Train on 1685 samples, validate on 562 samples\n",
      "Epoch 1/100\n",
      "1s - loss: 3.0398 - acc: 0.7852 - val_loss: 2.5093 - val_acc: 0.8416\n",
      "Epoch 2/100\n",
      "1s - loss: 2.6316 - acc: 0.8261 - val_loss: 2.5010 - val_acc: 0.8416\n",
      "Epoch 3/100\n",
      "1s - loss: 2.6442 - acc: 0.8220 - val_loss: 2.4589 - val_acc: 0.8452\n",
      "Epoch 4/100\n",
      "1s - loss: 2.7826 - acc: 0.8119 - val_loss: 2.6000 - val_acc: 0.8345\n",
      "Epoch 5/100\n",
      "1s - loss: 2.4826 - acc: 0.8356 - val_loss: 2.5680 - val_acc: 0.8381\n",
      "Epoch 6/100\n",
      "1s - loss: 2.5275 - acc: 0.8344 - val_loss: 2.5067 - val_acc: 0.8399\n",
      "Epoch 7/100\n",
      "1s - loss: 2.5158 - acc: 0.8344 - val_loss: 2.4812 - val_acc: 0.8416\n",
      "Epoch 8/100\n",
      "1s - loss: 2.4657 - acc: 0.8368 - val_loss: 2.4217 - val_acc: 0.8345\n",
      "Epoch 9/100\n",
      "1s - loss: 2.4280 - acc: 0.8362 - val_loss: 2.3949 - val_acc: 0.8452\n",
      "Epoch 10/100\n",
      "1s - loss: 2.3911 - acc: 0.8433 - val_loss: 2.3671 - val_acc: 0.8470\n",
      "Epoch 11/100\n",
      "1s - loss: 2.3515 - acc: 0.8463 - val_loss: 2.3474 - val_acc: 0.8488\n",
      "Epoch 12/100\n",
      "1s - loss: 2.3406 - acc: 0.8493 - val_loss: 2.3570 - val_acc: 0.8470\n",
      "Epoch 13/100\n",
      "1s - loss: 2.3813 - acc: 0.8463 - val_loss: 2.3673 - val_acc: 0.8488\n",
      "Epoch 14/100\n",
      "1s - loss: 2.4151 - acc: 0.8445 - val_loss: 2.3819 - val_acc: 0.8505\n",
      "Epoch 15/100\n",
      "1s - loss: 2.3456 - acc: 0.8469 - val_loss: 2.4304 - val_acc: 0.8452\n",
      "Epoch 16/100\n",
      "1s - loss: 2.3915 - acc: 0.8421 - val_loss: 2.4259 - val_acc: 0.8470\n",
      "Epoch 17/100\n",
      "1s - loss: 2.3688 - acc: 0.8487 - val_loss: 2.4530 - val_acc: 0.8470\n",
      "Epoch 18/100\n",
      "1s - loss: 2.3685 - acc: 0.8487 - val_loss: 2.3947 - val_acc: 0.8470\n",
      "Epoch 19/100\n",
      "1s - loss: 2.2974 - acc: 0.8475 - val_loss: 2.3822 - val_acc: 0.8505\n",
      "Epoch 20/100\n",
      "1s - loss: 2.4403 - acc: 0.8398 - val_loss: 2.2953 - val_acc: 0.8559\n",
      "Epoch 21/100\n",
      "1s - loss: 2.3290 - acc: 0.8499 - val_loss: 2.4162 - val_acc: 0.8452\n",
      "Epoch 22/100\n",
      "1s - loss: 2.2796 - acc: 0.8516 - val_loss: 2.2447 - val_acc: 0.8559\n",
      "Epoch 23/100\n",
      "1s - loss: 2.3400 - acc: 0.8499 - val_loss: 2.3419 - val_acc: 0.8523\n",
      "Epoch 24/100\n",
      "1s - loss: 2.4637 - acc: 0.8374 - val_loss: 2.2561 - val_acc: 0.8577\n",
      "Epoch 25/100\n",
      "1s - loss: 2.3114 - acc: 0.8493 - val_loss: 2.2409 - val_acc: 0.8523\n",
      "Epoch 26/100\n",
      "1s - loss: 2.2229 - acc: 0.8570 - val_loss: 2.3675 - val_acc: 0.8523\n",
      "Epoch 27/100\n",
      "1s - loss: 2.2856 - acc: 0.8493 - val_loss: 2.4136 - val_acc: 0.8470\n",
      "Epoch 28/100\n",
      "1s - loss: 2.2891 - acc: 0.8528 - val_loss: 2.3878 - val_acc: 0.8505\n",
      "Epoch 29/100\n",
      "1s - loss: 2.2133 - acc: 0.8576 - val_loss: 2.2908 - val_acc: 0.8559\n",
      "Epoch 30/100\n",
      "1s - loss: 2.2810 - acc: 0.8528 - val_loss: 2.3071 - val_acc: 0.8523\n",
      "Epoch 31/100\n",
      "1s - loss: 2.2532 - acc: 0.8528 - val_loss: 2.3697 - val_acc: 0.8470\n",
      "Epoch 32/100\n",
      "1s - loss: 2.3096 - acc: 0.8504 - val_loss: 2.3302 - val_acc: 0.8523\n",
      "Epoch 33/100\n",
      "1s - loss: 2.3425 - acc: 0.8463 - val_loss: 2.3242 - val_acc: 0.8523\n",
      "Epoch 34/100\n",
      "1s - loss: 2.1874 - acc: 0.8564 - val_loss: 2.3227 - val_acc: 0.8523\n",
      "Epoch 35/100\n",
      "1s - loss: 2.2520 - acc: 0.8540 - val_loss: 2.3506 - val_acc: 0.8505\n",
      "Epoch 36/100\n",
      "1s - loss: 2.3025 - acc: 0.8481 - val_loss: 2.3094 - val_acc: 0.8523\n",
      "Epoch 37/100\n",
      "1s - loss: 2.2726 - acc: 0.8504 - val_loss: 2.3376 - val_acc: 0.8541\n",
      "Epoch 38/100\n",
      "1s - loss: 2.1403 - acc: 0.8611 - val_loss: 2.3744 - val_acc: 0.8488\n",
      "Epoch 39/100\n",
      "1s - loss: 2.2072 - acc: 0.8588 - val_loss: 2.3432 - val_acc: 0.8505\n",
      "Epoch 40/100\n",
      "1s - loss: 2.1737 - acc: 0.8599 - val_loss: 2.2837 - val_acc: 0.8541\n",
      "Epoch 41/100\n",
      "1s - loss: 2.1594 - acc: 0.8588 - val_loss: 2.3571 - val_acc: 0.8523\n",
      "Epoch 42/100\n",
      "1s - loss: 2.2913 - acc: 0.8528 - val_loss: 2.3356 - val_acc: 0.8541\n",
      "Epoch 43/100\n",
      "1s - loss: 2.1088 - acc: 0.8599 - val_loss: 2.2853 - val_acc: 0.8541\n",
      "Epoch 44/100\n",
      "1s - loss: 2.2832 - acc: 0.8522 - val_loss: 2.3248 - val_acc: 0.8541\n",
      "Epoch 45/100\n",
      "1s - loss: 2.0699 - acc: 0.8647 - val_loss: 2.2741 - val_acc: 0.8559\n",
      "Epoch 46/100\n",
      "1s - loss: 2.2223 - acc: 0.8540 - val_loss: 2.1209 - val_acc: 0.8630\n",
      "Epoch 47/100\n",
      "1s - loss: 2.2038 - acc: 0.8540 - val_loss: 2.2430 - val_acc: 0.8559\n",
      "Epoch 48/100\n",
      "1s - loss: 2.1898 - acc: 0.8588 - val_loss: 2.3294 - val_acc: 0.8488\n",
      "Epoch 49/100\n",
      "1s - loss: 2.1409 - acc: 0.8611 - val_loss: 2.0343 - val_acc: 0.8648\n",
      "Epoch 50/100\n",
      "1s - loss: 2.1442 - acc: 0.8617 - val_loss: 2.1952 - val_acc: 0.8594\n",
      "Epoch 51/100\n",
      "1s - loss: 2.1333 - acc: 0.8635 - val_loss: 2.1248 - val_acc: 0.8648\n",
      "Epoch 52/100\n",
      "1s - loss: 2.3540 - acc: 0.8451 - val_loss: 2.3423 - val_acc: 0.8488\n",
      "Epoch 53/100\n",
      "1s - loss: 2.1237 - acc: 0.8653 - val_loss: 2.3060 - val_acc: 0.8541\n",
      "Epoch 54/100\n",
      "1s - loss: 2.1454 - acc: 0.8629 - val_loss: 2.2788 - val_acc: 0.8559\n",
      "Epoch 55/100\n",
      "1s - loss: 2.2405 - acc: 0.8570 - val_loss: 2.1808 - val_acc: 0.8630\n",
      "Epoch 56/100\n",
      "1s - loss: 2.0619 - acc: 0.8677 - val_loss: 2.1650 - val_acc: 0.8612\n",
      "Epoch 57/100\n",
      "1s - loss: 2.1878 - acc: 0.8599 - val_loss: 2.1928 - val_acc: 0.8612\n",
      "Epoch 58/100\n",
      "1s - loss: 2.1273 - acc: 0.8635 - val_loss: 2.2263 - val_acc: 0.8577\n",
      "Epoch 59/100\n",
      "1s - loss: 2.1262 - acc: 0.8617 - val_loss: 2.3005 - val_acc: 0.8523\n",
      "Epoch 60/100\n",
      "1s - loss: 2.1286 - acc: 0.8629 - val_loss: 2.2836 - val_acc: 0.8559\n",
      "Epoch 61/100\n",
      "1s - loss: 2.2208 - acc: 0.8576 - val_loss: 2.3199 - val_acc: 0.8523\n",
      "Epoch 62/100\n",
      "1s - loss: 2.1126 - acc: 0.8629 - val_loss: 2.3265 - val_acc: 0.8541\n",
      "Epoch 63/100\n",
      "1s - loss: 2.1743 - acc: 0.8570 - val_loss: 2.1557 - val_acc: 0.8648\n",
      "Epoch 64/100\n",
      "1s - loss: 2.1372 - acc: 0.8593 - val_loss: 2.1644 - val_acc: 0.8630\n",
      "Epoch 65/100\n",
      "1s - loss: 2.0419 - acc: 0.8682 - val_loss: 2.2500 - val_acc: 0.8577\n",
      "Epoch 66/100\n",
      "1s - loss: 2.2491 - acc: 0.8564 - val_loss: 2.2338 - val_acc: 0.8594\n",
      "Epoch 67/100\n",
      "1s - loss: 2.1181 - acc: 0.8653 - val_loss: 2.2846 - val_acc: 0.8559\n",
      "Epoch 68/100\n",
      "1s - loss: 2.1817 - acc: 0.8558 - val_loss: 2.1600 - val_acc: 0.8612\n",
      "Epoch 69/100\n",
      "1s - loss: 2.1519 - acc: 0.8599 - val_loss: 2.2192 - val_acc: 0.8594\n",
      "Epoch 70/100\n",
      "1s - loss: 2.2829 - acc: 0.8522 - val_loss: 2.1883 - val_acc: 0.8594\n",
      "Epoch 71/100\n",
      "1s - loss: 2.2460 - acc: 0.8552 - val_loss: 2.1474 - val_acc: 0.8612\n",
      "Epoch 72/100\n",
      "1s - loss: 2.1835 - acc: 0.8599 - val_loss: 2.1359 - val_acc: 0.8612\n",
      "Epoch 73/100\n",
      "1s - loss: 2.1386 - acc: 0.8629 - val_loss: 2.1175 - val_acc: 0.8648\n",
      "Epoch 74/100\n",
      "1s - loss: 2.1472 - acc: 0.8605 - val_loss: 2.2271 - val_acc: 0.8594\n",
      "Epoch 75/100\n",
      "1s - loss: 2.1321 - acc: 0.8635 - val_loss: 2.2092 - val_acc: 0.8612\n",
      "Epoch 76/100\n",
      "1s - loss: 2.1156 - acc: 0.8641 - val_loss: 2.1794 - val_acc: 0.8612\n",
      "Epoch 77/100\n",
      "1s - loss: 2.0895 - acc: 0.8665 - val_loss: 2.1964 - val_acc: 0.8630\n",
      "Epoch 78/100\n",
      "2s - loss: 2.1655 - acc: 0.8611 - val_loss: 2.1212 - val_acc: 0.8612\n",
      "Epoch 79/100\n",
      "1s - loss: 2.0644 - acc: 0.8671 - val_loss: 2.1385 - val_acc: 0.8630\n",
      "Epoch 80/100\n",
      "1s - loss: 2.1693 - acc: 0.8593 - val_loss: 2.1614 - val_acc: 0.8630\n",
      "Epoch 81/100\n",
      "1s - loss: 2.0652 - acc: 0.8694 - val_loss: 2.3023 - val_acc: 0.8488\n",
      "Epoch 82/100\n",
      "1s - loss: 2.1532 - acc: 0.8635 - val_loss: 2.2369 - val_acc: 0.8541\n",
      "Epoch 83/100\n",
      "1s - loss: 2.0668 - acc: 0.8671 - val_loss: 2.1270 - val_acc: 0.8648\n",
      "Epoch 84/100\n",
      "1s - loss: 2.1200 - acc: 0.8599 - val_loss: 2.1610 - val_acc: 0.8559\n",
      "Epoch 85/100\n",
      "1s - loss: 2.0267 - acc: 0.8694 - val_loss: 2.1566 - val_acc: 0.8630\n",
      "Epoch 86/100\n",
      "1s - loss: 2.0535 - acc: 0.8671 - val_loss: 2.2643 - val_acc: 0.8559\n",
      "Epoch 87/100\n",
      "1s - loss: 2.1041 - acc: 0.8653 - val_loss: 2.1799 - val_acc: 0.8630\n",
      "Epoch 88/100\n",
      "1s - loss: 2.0267 - acc: 0.8688 - val_loss: 2.0593 - val_acc: 0.8683\n",
      "Epoch 89/100\n",
      "2s - loss: 2.1301 - acc: 0.8623 - val_loss: 2.2853 - val_acc: 0.8559\n",
      "Epoch 90/100\n",
      "1s - loss: 2.0817 - acc: 0.8635 - val_loss: 2.1939 - val_acc: 0.8630\n",
      "Epoch 91/100\n",
      "1s - loss: 2.1041 - acc: 0.8659 - val_loss: 2.1802 - val_acc: 0.8630\n",
      "Epoch 92/100\n",
      "2s - loss: 2.1382 - acc: 0.8647 - val_loss: 2.1748 - val_acc: 0.8630\n",
      "Epoch 93/100\n",
      "1s - loss: 2.1380 - acc: 0.8629 - val_loss: 2.1674 - val_acc: 0.8594\n",
      "Epoch 94/100\n",
      "1s - loss: 1.9759 - acc: 0.8730 - val_loss: 2.0831 - val_acc: 0.8683\n",
      "Epoch 95/100\n",
      "1s - loss: 1.9982 - acc: 0.8706 - val_loss: 2.1798 - val_acc: 0.8612\n",
      "Epoch 96/100\n",
      "1s - loss: 1.9480 - acc: 0.8760 - val_loss: 2.1905 - val_acc: 0.8630\n",
      "Epoch 97/100\n",
      "1s - loss: 2.0466 - acc: 0.8665 - val_loss: 2.1257 - val_acc: 0.8665\n",
      "Epoch 98/100\n",
      "1s - loss: 2.1319 - acc: 0.8599 - val_loss: 2.1728 - val_acc: 0.8630\n",
      "Epoch 99/100\n",
      "2s - loss: 2.0687 - acc: 0.8688 - val_loss: 2.1877 - val_acc: 0.8630\n",
      "Epoch 100/100\n",
      "2s - loss: 1.9651 - acc: 0.8754 - val_loss: 2.1972 - val_acc: 0.8630\n",
      "Training duration : 165.814640045\n",
      "Network's test score [loss, accuracy]: [2.1971979207544221, 0.86298932384341642]\n",
      "CNN Error: 13.70%\n",
      "Model and Weights Saved to Disk\n"
     ]
    },
    {
     "data": {
      "text/plain": [
       "<matplotlib.figure.Figure at 0x13b915dd0>"
      ]
     },
     "metadata": {},
     "output_type": "display_data"
    },
    {
     "data": {
      "image/png": "[encoded data removed]",
      "text/plain": [
       "<matplotlib.figure.Figure at 0x128f922d0>"
      ]
     },
     "metadata": {},
     "output_type": "display_data"
    }
   ],
   "source": [
    "np.random.seed(SEED)\n",
    "(trans_model, loss_cnn, acc_cnn, test_score_cnn) = train_top_model(train_feats=train_bottleneck,\n",
    "                                                                   train_lab=train_labels, \n",
    "                                                                   test_feats=test_bottleneck, \n",
    "                                                                   test_lab=test_labels,\n",
    "                                                                   model_path=modelPath, \n",
    "                                                                   model_save=top_model_weights_path,\n",
    "                                                                   epoch=100)\n",
    "plt.figure(figsize=(10,10))\n",
    "bc.plot_losses(loss_cnn, acc_cnn)\n",
    "plt.savefig('./epoch_figures/jn_Transfer_2Class_Learning_20170508.png', dpi=100)"
   ]
  },
  {
   "cell_type": "code",
   "execution_count": 14,
   "metadata": {},
   "outputs": [
    {
     "name": "stdout",
     "output_type": "stream",
     "text": [
      "Transfer Learning CNN Accuracy:   86.30%\n",
      "Transfer Learning CNN Error:      13.70%\n",
      "Normalized confusion matrix\n",
      "[[ 0.85  0.15]\n",
      " [ 0.13  0.87]]\n"
     ]
    },
    {
     "data": {
      "image/png": "[encoded data removed]",
      "text/plain": [
       "<matplotlib.figure.Figure at 0x12824a050>"
      ]
     },
     "metadata": {},
     "output_type": "display_data"
    }
   ],
   "source": [
    "print 'Transfer Learning CNN Accuracy: {: >7.2f}%'.format(test_score_cnn[1] * 100)\n",
    "print 'Transfer Learning CNN Error: {: >10.2f}%'.format(100 - test_score_cnn[1] * 100)\n",
    "\n",
    "predictOutput = bc.predict(trans_model, np.load(test_bottleneck))\n",
    "trans_matrix = skm.confusion_matrix(y_true=Y_test, y_pred=predictOutput)\n",
    "\n",
    "plt.figure(figsize=(8,6))\n",
    "bc.plot_confusion_matrix(trans_matrix, classes=class_names, normalize=True,\n",
    "                         title='Transfer CNN Normalized Confusion Matrix Using Differencing \\n')\n",
    "plt.tight_layout()\n",
    "plt.savefig('./cm_figures/jn_Transfer_2Class_CM_20170508.png', dpi=100)"
   ]
  },
  {
   "cell_type": "markdown",
   "metadata": {},
   "source": [
    "<h2>Core CNN Modelling</h2>"
   ]
  },
  {
   "cell_type": "markdown",
   "metadata": {},
   "source": [
    "**Prep and package the data for Keras processing:**"
   ]
  },
  {
   "cell_type": "code",
   "execution_count": 15,
   "metadata": {},
   "outputs": [
    {
     "name": "stdout",
     "output_type": "stream",
     "text": [
      "Prep data for NNs ...\n",
      "Data Prepped for Neural Nets.\n",
      "(1685, 1, 150, 150)\n",
      "(562, 1, 150, 150)\n",
      "(1685, 2)\n",
      "(562, 2)\n"
     ]
    }
   ],
   "source": [
    "data = [X_train, X_test, Y_train, Y_test]\n",
    "X_train, X_test, Y_train, Y_test = bc.prep_data(data, cats)\n",
    "data = [X_train, X_test, Y_train, Y_test]\n",
    "\n",
    "print X_train.shape\n",
    "print X_test.shape\n",
    "print Y_train.shape\n",
    "print Y_test.shape"
   ]
  },
  {
   "cell_type": "markdown",
   "metadata": {},
   "source": [
    "**Heavy Regularization**"
   ]
  },
  {
   "cell_type": "code",
   "execution_count": 16,
   "metadata": {
    "collapsed": true
   },
   "outputs": [],
   "source": [
    "def diff_model_v7_reg(numClasses, input_shape=(3, 150,150), add_noise=False, noise=0.01, verbose=False):\n",
    "    model = Sequential()\n",
    "    if (add_noise):\n",
    "        model.add( GaussianNoise(noise, input_shape=input_shape))\n",
    "        model.add( Convolution2D(filters=16, \n",
    "                                 kernel_size=(5,5), \n",
    "                                 data_format='channels_first',\n",
    "                                 padding='same',\n",
    "                                 activation='relu'))\n",
    "    else:\n",
    "        model.add( Convolution2D(filters=16, \n",
    "                                 kernel_size=(5,5), \n",
    "                                 data_format='channels_first',\n",
    "                                 padding='same',\n",
    "                                 activation='relu',\n",
    "                                 input_shape=input_shape))\n",
    "    model.add( Dropout(0.7))\n",
    "    \n",
    "    model.add( Convolution2D(filters=32, kernel_size=(3,3), \n",
    "                             data_format='channels_first', padding='same', activation='relu'))\n",
    "    model.add( MaxPooling2D(pool_size= (2,2), data_format='channels_first'))\n",
    "    model.add( Dropout(0.4))\n",
    "    model.add( Convolution2D(filters=32, kernel_size=(3,3), \n",
    "                             data_format='channels_first', activation='relu'))\n",
    "    \n",
    "    model.add( Convolution2D(filters=64, kernel_size=(3,3), \n",
    "                             data_format='channels_first', padding='same', activation='relu',\n",
    "                             kernel_regularizer=regularizers.l2(0.01)))\n",
    "    model.add( MaxPooling2D(pool_size= (2,2), data_format='channels_first'))\n",
    "    model.add( Convolution2D(filters=64, kernel_size=(3,3), \n",
    "                             data_format='channels_first', activation='relu',\n",
    "                             kernel_regularizer=regularizers.l2(0.01)))\n",
    "    model.add( Dropout(0.4))\n",
    "    \n",
    "    model.add( Convolution2D(filters=128, kernel_size=(3,3), \n",
    "                             data_format='channels_first', padding='same', activation='relu',\n",
    "                             kernel_regularizer=regularizers.l2(0.01)))\n",
    "    model.add( MaxPooling2D(pool_size= (2,2), data_format='channels_first'))\n",
    "    \n",
    "    model.add( Convolution2D(filters=128, kernel_size=(3,3), \n",
    "                             data_format='channels_first', activation='relu',\n",
    "                             kernel_regularizer=regularizers.l2(0.01)))\n",
    "    model.add(Dropout(0.4))\n",
    "    \n",
    "    model.add( Flatten())\n",
    "    \n",
    "    model.add( Dense(128, activation='relu', kernel_constraint= maxnorm(3.)) )\n",
    "    model.add( Dropout(0.4))\n",
    "    \n",
    "    model.add( Dense(64, activation='relu', kernel_constraint= maxnorm(3.)) )\n",
    "    model.add( Dropout(0.4))\n",
    "    \n",
    "    # Softmax for probabilities for each class at the output layer\n",
    "    model.add( Dense(numClasses, activation='softmax'))\n",
    "    \n",
    "    if verbose:\n",
    "        print( model.summary() )\n",
    "    \n",
    "    model.compile(loss='binary_crossentropy',\n",
    "                  optimizer='rmsprop',\n",
    "                  metrics=['accuracy'])\n",
    "    return model"
   ]
  },
  {
   "cell_type": "code",
   "execution_count": 17,
   "metadata": {},
   "outputs": [
    {
     "name": "stdout",
     "output_type": "stream",
     "text": [
      "_________________________________________________________________\n",
      "Layer (type)                 Output Shape              Param #   \n",
      "=================================================================\n",
      "gaussian_noise_1 (GaussianNo (None, 1, 150, 150)       0         \n",
      "_________________________________________________________________\n",
      "conv2d_1 (Conv2D)            (None, 16, 150, 150)      416       \n",
      "_________________________________________________________________\n",
      "dropout_3 (Dropout)          (None, 16, 150, 150)      0         \n",
      "_________________________________________________________________\n",
      "conv2d_2 (Conv2D)            (None, 32, 150, 150)      4640      \n",
      "_________________________________________________________________\n",
      "max_pooling2d_1 (MaxPooling2 (None, 32, 75, 75)        0         \n",
      "_________________________________________________________________\n",
      "dropout_4 (Dropout)          (None, 32, 75, 75)        0         \n",
      "_________________________________________________________________\n",
      "conv2d_3 (Conv2D)            (None, 32, 73, 73)        9248      \n",
      "_________________________________________________________________\n",
      "conv2d_4 (Conv2D)            (None, 64, 73, 73)        18496     \n",
      "_________________________________________________________________\n",
      "max_pooling2d_2 (MaxPooling2 (None, 64, 36, 36)        0         \n",
      "_________________________________________________________________\n",
      "conv2d_5 (Conv2D)            (None, 64, 34, 34)        36928     \n",
      "_________________________________________________________________\n",
      "dropout_5 (Dropout)          (None, 64, 34, 34)        0         \n",
      "_________________________________________________________________\n",
      "conv2d_6 (Conv2D)            (None, 128, 34, 34)       73856     \n",
      "_________________________________________________________________\n",
      "max_pooling2d_3 (MaxPooling2 (None, 128, 17, 17)       0         \n",
      "_________________________________________________________________\n",
      "conv2d_7 (Conv2D)            (None, 128, 15, 15)       147584    \n",
      "_________________________________________________________________\n",
      "dropout_6 (Dropout)          (None, 128, 15, 15)       0         \n",
      "_________________________________________________________________\n",
      "flatten_2 (Flatten)          (None, 28800)             0         \n",
      "_________________________________________________________________\n",
      "dense_3 (Dense)              (None, 128)               3686528   \n",
      "_________________________________________________________________\n",
      "dropout_7 (Dropout)          (None, 128)               0         \n",
      "_________________________________________________________________\n",
      "dense_4 (Dense)              (None, 64)                8256      \n",
      "_________________________________________________________________\n",
      "dropout_8 (Dropout)          (None, 64)                0         \n",
      "_________________________________________________________________\n",
      "dense_5 (Dense)              (None, 2)                 130       \n",
      "=================================================================\n",
      "Total params: 3,986,082\n",
      "Trainable params: 3,986,082\n",
      "Non-trainable params: 0\n",
      "_________________________________________________________________\n",
      "None\n"
     ]
    }
   ],
   "source": [
    "diff_model7_noise_reg = diff_model_v7_reg(len(cats),\n",
    "                                          input_shape=(X_train.shape[1], X_train.shape[2], X_train.shape[3]),\n",
    "                                          add_noise=True, verbose=True)"
   ]
  },
  {
   "cell_type": "code",
   "execution_count": 18,
   "metadata": {},
   "outputs": [
    {
     "name": "stdout",
     "output_type": "stream",
     "text": [
      "Training model...\n",
      "Train on 1685 samples, validate on 562 samples\n",
      "Epoch 1/50\n",
      "170s - loss: 2.3927 - acc: 0.7104 - val_loss: 1.5572 - val_acc: 0.7082\n",
      "Epoch 2/50\n",
      "167s - loss: 1.0973 - acc: 0.8071 - val_loss: 0.8139 - val_acc: 0.7758\n",
      "Epoch 3/50\n",
      "167s - loss: 0.6356 - acc: 0.8202 - val_loss: 0.5574 - val_acc: 0.8292\n",
      "Epoch 4/50\n",
      "166s - loss: 0.5129 - acc: 0.8273 - val_loss: 0.4809 - val_acc: 0.8327\n",
      "Epoch 5/50\n",
      "166s - loss: 0.4813 - acc: 0.8243 - val_loss: 0.4653 - val_acc: 0.8345\n",
      "Epoch 6/50\n",
      "165s - loss: 0.4605 - acc: 0.8267 - val_loss: 0.4479 - val_acc: 0.8381\n",
      "Epoch 7/50\n",
      "166s - loss: 0.4403 - acc: 0.8291 - val_loss: 0.4530 - val_acc: 0.8363\n",
      "Epoch 8/50\n",
      "167s - loss: 0.4484 - acc: 0.8267 - val_loss: 0.4684 - val_acc: 0.8132\n",
      "Epoch 9/50\n",
      "167s - loss: 0.4479 - acc: 0.8279 - val_loss: 0.4457 - val_acc: 0.8381\n",
      "Epoch 10/50\n",
      "167s - loss: 0.4310 - acc: 0.8350 - val_loss: 0.5219 - val_acc: 0.7669\n",
      "Epoch 11/50\n",
      "167s - loss: 0.4277 - acc: 0.8344 - val_loss: 0.4430 - val_acc: 0.8274\n",
      "Epoch 12/50\n",
      "167s - loss: 0.4178 - acc: 0.8374 - val_loss: 0.4472 - val_acc: 0.8345\n",
      "Epoch 13/50\n",
      "167s - loss: 0.4127 - acc: 0.8421 - val_loss: 0.4611 - val_acc: 0.8292\n",
      "Epoch 14/50\n",
      "167s - loss: 0.4116 - acc: 0.8409 - val_loss: 0.4384 - val_acc: 0.8381\n",
      "Epoch 15/50\n",
      "167s - loss: 0.4122 - acc: 0.8415 - val_loss: 0.4513 - val_acc: 0.8399\n",
      "Epoch 16/50\n",
      "167s - loss: 0.4126 - acc: 0.8427 - val_loss: 0.4531 - val_acc: 0.8292\n",
      "Epoch 17/50\n",
      "167s - loss: 0.3933 - acc: 0.8427 - val_loss: 0.4569 - val_acc: 0.8381\n",
      "Epoch 18/50\n",
      "167s - loss: 0.3824 - acc: 0.8504 - val_loss: 0.4203 - val_acc: 0.8363\n",
      "Epoch 19/50\n",
      "167s - loss: 0.3817 - acc: 0.8570 - val_loss: 0.4432 - val_acc: 0.8327\n",
      "Epoch 20/50\n",
      "167s - loss: 0.3826 - acc: 0.8493 - val_loss: 0.4700 - val_acc: 0.8310\n",
      "Epoch 21/50\n",
      "168s - loss: 0.3728 - acc: 0.8588 - val_loss: 0.4428 - val_acc: 0.8256\n",
      "Epoch 22/50\n",
      "167s - loss: 0.3696 - acc: 0.8534 - val_loss: 0.4247 - val_acc: 0.8256\n",
      "Epoch 23/50\n",
      "168s - loss: 0.3737 - acc: 0.8593 - val_loss: 0.4258 - val_acc: 0.8381\n",
      "Epoch 24/50\n",
      "169s - loss: 0.3630 - acc: 0.8611 - val_loss: 0.4878 - val_acc: 0.8310\n",
      "Epoch 25/50\n",
      "169s - loss: 0.3674 - acc: 0.8653 - val_loss: 0.4637 - val_acc: 0.8292\n",
      "Epoch 26/50\n",
      "170s - loss: 0.3692 - acc: 0.8629 - val_loss: 0.4136 - val_acc: 0.8381\n",
      "Epoch 27/50\n",
      "171s - loss: 0.3618 - acc: 0.8635 - val_loss: 0.4490 - val_acc: 0.8310\n",
      "Epoch 28/50\n",
      "171s - loss: 0.3389 - acc: 0.8742 - val_loss: 0.4833 - val_acc: 0.8149\n",
      "Epoch 29/50\n",
      "171s - loss: 0.3412 - acc: 0.8742 - val_loss: 0.4913 - val_acc: 0.8363\n",
      "Epoch 30/50\n",
      "171s - loss: 0.3416 - acc: 0.8688 - val_loss: 0.5465 - val_acc: 0.8327\n",
      "Epoch 31/50\n",
      "170s - loss: 0.3270 - acc: 0.8700 - val_loss: 0.5341 - val_acc: 0.8363\n",
      "Epoch 32/50\n",
      "173s - loss: 0.3430 - acc: 0.8718 - val_loss: 0.4950 - val_acc: 0.8256\n",
      "Epoch 33/50\n",
      "170s - loss: 0.3257 - acc: 0.8807 - val_loss: 0.4054 - val_acc: 0.8292\n",
      "Epoch 34/50\n",
      "170s - loss: 0.3210 - acc: 0.8795 - val_loss: 0.4716 - val_acc: 0.8256\n",
      "Epoch 35/50\n",
      "171s - loss: 0.3223 - acc: 0.8760 - val_loss: 0.4953 - val_acc: 0.8345\n",
      "Epoch 36/50\n",
      "170s - loss: 0.3102 - acc: 0.8878 - val_loss: 0.4289 - val_acc: 0.8452\n",
      "Epoch 37/50\n",
      "170s - loss: 0.3199 - acc: 0.8807 - val_loss: 0.5254 - val_acc: 0.8292\n",
      "Epoch 38/50\n",
      "170s - loss: 0.3342 - acc: 0.8777 - val_loss: 0.4621 - val_acc: 0.8221\n",
      "Epoch 39/50\n",
      "170s - loss: 0.2954 - acc: 0.8955 - val_loss: 0.4348 - val_acc: 0.8523\n",
      "Epoch 40/50\n",
      "171s - loss: 0.2993 - acc: 0.8843 - val_loss: 0.5228 - val_acc: 0.8292\n",
      "Epoch 41/50\n",
      "170s - loss: 0.3087 - acc: 0.8926 - val_loss: 0.4865 - val_acc: 0.8256\n",
      "Epoch 42/50\n",
      "170s - loss: 0.2938 - acc: 0.8861 - val_loss: 0.4866 - val_acc: 0.8505\n",
      "Epoch 43/50\n",
      "170s - loss: 0.2917 - acc: 0.8896 - val_loss: 0.4666 - val_acc: 0.8327\n",
      "Epoch 44/50\n",
      "170s - loss: 0.2763 - acc: 0.8955 - val_loss: 0.6186 - val_acc: 0.8327\n",
      "Epoch 45/50\n",
      "170s - loss: 0.2960 - acc: 0.8878 - val_loss: 0.5053 - val_acc: 0.8114\n",
      "Epoch 46/50\n",
      "170s - loss: 0.2655 - acc: 0.9015 - val_loss: 0.4409 - val_acc: 0.8505\n",
      "Epoch 47/50\n",
      "170s - loss: 0.2788 - acc: 0.8985 - val_loss: 0.4541 - val_acc: 0.8327\n",
      "Epoch 48/50\n",
      "170s - loss: 0.2782 - acc: 0.9027 - val_loss: 0.4741 - val_acc: 0.8381\n",
      "Epoch 49/50\n",
      "170s - loss: 0.2694 - acc: 0.8955 - val_loss: 0.6154 - val_acc: 0.8523\n",
      "Epoch 50/50\n",
      "170s - loss: 0.2664 - acc: 0.9068 - val_loss: 0.5803 - val_acc: 0.8256\n",
      "Training duration : 8466.16027784\n",
      "Network's test score [loss, accuracy]: [0.58034349906380911, 0.82562277580071175]\n",
      "CNN Error: 17.44%\n"
     ]
    },
    {
     "data": {
      "text/plain": [
       "<matplotlib.figure.Figure at 0x1279d4310>"
      ]
     },
     "metadata": {},
     "output_type": "display_data"
    },
    {
     "data": {
      "image/png": "[encoded data removed]",
      "text/plain": [
       "<matplotlib.figure.Figure at 0x1374561d0>"
      ]
     },
     "metadata": {},
     "output_type": "display_data"
    }
   ],
   "source": [
    "np.random.seed(SEED)\n",
    "\n",
    "(cnn_model, loss_cnn, acc_cnn, test_score_cnn) = bc.run_network(model=diff_model7_noise_reg, \n",
    "                                                                data=data, \n",
    "                                                                epochs=50, batch=64)\n",
    "plt.figure(figsize=(10,10))\n",
    "bc.plot_losses(loss_cnn, acc_cnn)\n",
    "plt.savefig('./epoch_figures/jn_Core_CNN_2Class_Learning_20170508.png', dpi=100)"
   ]
  },
  {
   "cell_type": "code",
   "execution_count": 19,
   "metadata": {},
   "outputs": [
    {
     "name": "stdout",
     "output_type": "stream",
     "text": [
      "Model and Weights Saved to Disk\n"
     ]
    }
   ],
   "source": [
    "bc.save_model(dir_path='./weights/', model=cnn_model, name='jn_Core_CNN_2Class_20170508')"
   ]
  },
  {
   "cell_type": "code",
   "execution_count": 20,
   "metadata": {},
   "outputs": [
    {
     "name": "stdout",
     "output_type": "stream",
     "text": [
      "Core CNN Accuracy:   82.56%\n",
      "Core CNN Error:      17.44%\n",
      "Normalized confusion matrix\n",
      "[[ 0.83  0.17]\n",
      " [ 0.18  0.82]]\n"
     ]
    },
    {
     "data": {
      "image/png": "[encoded data removed]",
      "text/plain": [
       "<matplotlib.figure.Figure at 0x12a7c5990>"
      ]
     },
     "metadata": {},
     "output_type": "display_data"
    }
   ],
   "source": [
    "print 'Core CNN Accuracy: {: >7.2f}%'.format(test_score_cnn[1] * 100)\n",
    "print 'Core CNN Error: {: >10.2f}%'.format(100 - test_score_cnn[1] * 100)\n",
    "\n",
    "predictOutput = bc.predict(cnn_model, X_test)\n",
    "\n",
    "cnn_matrix = skm.confusion_matrix(y_true=[val.argmax() for val in Y_test], y_pred=predictOutput)\n",
    "\n",
    "plt.figure(figsize=(8,6))\n",
    "bc.plot_confusion_matrix(cnn_matrix, classes=class_names, normalize=True,\n",
    "                         title='CNN Normalized Confusion Matrix Using Differencing \\n')\n",
    "plt.tight_layout()\n",
    "plt.savefig('./cm_figures/jn_Core_CNN_2Class_CM_20170508.png', dpi=100)"
   ]
  },
  {
   "cell_type": "code",
   "execution_count": null,
   "metadata": {
    "collapsed": true
   },
   "outputs": [],
   "source": []
  }
 ],
 "metadata": {
  "kernelspec": {
   "display_name": "Python 2",
   "language": "python",
   "name": "python2"
  },
  "language_info": {
   "codemirror_mode": {
    "name": "ipython",
    "version": 2
   },
   "file_extension": ".py",
   "mimetype": "text/x-python",
   "name": "python",
   "nbconvert_exporter": "python",
   "pygments_lexer": "ipython2",
   "version": "2.7.13"
  }
 },
 "nbformat": 4,
 "nbformat_minor": 2
}
