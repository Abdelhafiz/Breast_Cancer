{
 "cells": [
  {
   "cell_type": "code",
   "execution_count": 11,
   "metadata": {
    "collapsed": false
   },
   "outputs": [],
   "source": [
    "import datetime\n",
    "import gc\n",
    "import numpy as np\n",
    "import os\n",
    "import random\n",
    "from scipy import misc\n",
    "import string\n",
    "import time\n",
    "import sys\n",
    "import sklearn.metrics as skm\n",
    "import collections\n",
    "from sklearn.svm import SVC\n",
    "import matplotlib\n",
    "matplotlib.use('Agg')\n",
    "from matplotlib import pyplot as plt\n",
    "from sklearn import metrics\n",
    "import dwdii_bc_model_helper as bc\n",
    "\n",
    "random.seed(20275)\n",
    "np.set_printoptions(precision=2)"
   ]
  },
  {
   "cell_type": "code",
   "execution_count": 12,
   "metadata": {
    "collapsed": true
   },
   "outputs": [],
   "source": [
    "imagePath = \"png\"\n",
    "#imagePath = \"/root/bc_data/Data_Thresholded/DDSM\"\n",
    "trainImagePath = imagePath\n",
    "trainDataPath = \"data/ddsm_train.csv\"\n",
    "testDataPath = \"data/ddsm_test.csv\"\n",
    "categories = bc.bcNormVsAbnormNumerics()\n",
    "imgResize = (150, 150)"
   ]
  },
  {
   "cell_type": "code",
   "execution_count": 13,
   "metadata": {
    "collapsed": false
   },
   "outputs": [
    {
     "data": {
      "text/plain": [
       "['ddsm_test.csv', 'ddsm_train.csv', 'ddsm_val.csv', 'mias_all.csv']"
      ]
     },
     "execution_count": 13,
     "metadata": {},
     "output_type": "execute_result"
    }
   ],
   "source": [
    "os.listdir('data')"
   ]
  },
  {
   "cell_type": "code",
   "execution_count": 14,
   "metadata": {
    "collapsed": false
   },
   "outputs": [
    {
     "name": "stdout",
     "output_type": "stream",
     "text": [
      "Raw Balance\n",
      "----------------\n",
      "abnormal 1270\n",
      "normal 2685\n",
      "balanaceViaRemoval.avgE: 1977\n",
      "balanaceViaRemoval.theshold: 1977.0\n",
      "\n",
      "After Balancing\n",
      "----------------\n",
      "abnormal 1270\n",
      "normal 1623\n"
     ]
    }
   ],
   "source": [
    "metaData, meta2, mCounts = bc.load_training_metadata(trainDataPath, balanceViaRemoval=True, verbose=True, \n",
    "                                                     normalVsAbnormal=True)"
   ]
  },
  {
   "cell_type": "code",
   "execution_count": 15,
   "metadata": {
    "collapsed": false
   },
   "outputs": [
    {
     "name": "stdout",
     "output_type": "stream",
     "text": [
      "Raw Balance\n",
      "----------------\n",
      "abnormal 1270\n",
      "normal 2685\n",
      "balanaceViaRemoval.avgE: 1977\n",
      "balanaceViaRemoval.theshold: 1977.0\n",
      "\n",
      "After Balancing\n",
      "----------------\n",
      "abnormal 1270\n",
      "normal 1623\n"
     ]
    },
    {
     "name": "stderr",
     "output_type": "stream",
     "text": [
      "dwdii_bc_model_helper.py:194: VisibleDeprecationWarning: using a non-integer number instead of an integer will result in an error in the future\n",
      "  X_data = np.zeros([total, x, y])\n",
      "dwdii_bc_model_helper.py:195: VisibleDeprecationWarning: using a non-integer number instead of an integer will result in an error in the future\n",
      "  Y_data = np.zeros([total, 1], dtype=np.int8)\n"
     ]
    },
    {
     "name": "stdout",
     "output_type": "stream",
     "text": [
      "0.0000: A_0152_1.RIGHT_MLO.LJPEG.png\n",
      "0.0173: C_0183_1.LEFT_MLO.LJPEG.png\n",
      "0.0346: B_3073_1.RIGHT_MLO.LJPEG.png\n",
      "0.0518: C_0010_1.RIGHT_MLO.LJPEG.png\n",
      "0.0691: A_0609_1.RIGHT_MLO.LJPEG.png\n",
      "0.0864: B_3426_1.RIGHT_MLO.LJPEG.png\n",
      "0.1037: A_0079_1.RIGHT_MLO.LJPEG.png\n",
      "0.1210: B_3122_1.LEFT_MLO.LJPEG.png\n",
      "0.1383: C_0108_1.LEFT_MLO.LJPEG.png\n",
      "0.1555: C_0222_1.RIGHT_CC.LJPEG.png\n",
      "0.1728: C_0342_1.RIGHT_CC.LJPEG.png\n",
      "0.1901: A_0048_1.LEFT_CC.LJPEG.png\n",
      "0.2074: B_3067_1.RIGHT_MLO.LJPEG.png\n",
      "0.2247: A_0255_1.LEFT_CC.LJPEG.png\n",
      "0.2420: B_3077_1.RIGHT_MLO.LJPEG.png\n",
      "0.2592: B_3621_1.LEFT_MLO.LJPEG.png\n",
      "0.2765: C_0046_1.RIGHT_MLO.LJPEG.png\n",
      "0.2938: A_0510_1.RIGHT_CC.LJPEG.png\n",
      "0.3111: B_3412_1.LEFT_MLO.LJPEG.png\n",
      "0.3284: B_3600_1.RIGHT_CC.LJPEG.png\n",
      "0.3457: A_0027_1.RIGHT_MLO.LJPEG.png\n",
      "0.3629: C_0466_1.LEFT_CC.LJPEG.png\n",
      "0.3802: A_0367_1.RIGHT_MLO.LJPEG.png\n",
      "0.3975: A_0441_1.RIGHT_CC.LJPEG.png\n",
      "0.4148: B_3440_1.RIGHT_CC.LJPEG.png\n",
      "0.4321: C_0392_1.RIGHT_MLO.LJPEG.png\n",
      "0.4494: A_0202_1.RIGHT_MLO.LJPEG.png\n",
      "0.4666: A_0390_1.LEFT_CC.LJPEG.png\n",
      "0.4839: B_3495_1.LEFT_CC.LJPEG.png\n",
      "0.5012: C_0075_1.LEFT_CC.LJPEG.png\n",
      "0.5185: A_0121_1.LEFT_MLO.LJPEG.png\n",
      "0.5358: A_0261_1.RIGHT_CC.LJPEG.png\n",
      "0.5531: A_0326_1.RIGHT_CC.LJPEG.png\n",
      "0.5703: B_3153_1.LEFT_MLO.LJPEG.png\n",
      "0.5876: C_0182_1.RIGHT_CC.LJPEG.png\n",
      "0.6049: B_3654_1.RIGHT_MLO.LJPEG.png\n",
      "0.6222: A_0072_1.RIGHT_MLO.LJPEG.png\n",
      "0.6395: B_3667_1.RIGHT_MLO.LJPEG.png\n",
      "0.6568: C_0018_1.RIGHT_CC.LJPEG.png\n",
      "0.6740: A_1090_1.LEFT_CC.LJPEG.png\n",
      "0.6913: B_3166_1.LEFT_CC.LJPEG.png\n",
      "0.7086: A_0479_1.LEFT_MLO.LJPEG.png\n",
      "0.7259: A_0296_1.LEFT_CC.LJPEG.png\n",
      "0.7432: B_3015_1.RIGHT_CC.LJPEG.png\n",
      "0.7605: A_0711_1.RIGHT_MLO.LJPEG.png\n",
      "0.7777: C_0392_1.RIGHT_CC.LJPEG.png\n",
      "0.7950: A_0013_1.LEFT_MLO.LJPEG.png\n",
      "0.8123: C_0418_1.RIGHT_MLO.LJPEG.png\n",
      "0.8296: C_0488_1.LEFT_MLO.LJPEG.png\n",
      "0.8469: C_0102_1.RIGHT_MLO.LJPEG.png\n",
      "0.8642: B_3071_1.RIGHT_MLO.LJPEG.png\n",
      "0.8814: C_0388_1.LEFT_CC.LJPEG.png\n",
      "0.8987: C_0189_1.LEFT_MLO.LJPEG.png\n",
      "0.9160: C_0329_1.RIGHT_CC.LJPEG.png\n",
      "0.9333: A_1021_1.LEFT_CC.LJPEG.png\n",
      "0.9506: B_3630_1.LEFT_MLO.LJPEG.png\n",
      "0.9679: A_1016_1.LEFT_CC.LJPEG.png\n",
      "0.9851: A_0201_1.LEFT_CC.LJPEG.png\n",
      "(2893L, 150L, 150L)\n",
      "(2893L, 1L)\n"
     ]
    }
   ],
   "source": [
    "# Actually load some representative data for model experimentation\n",
    "maxData = len(metaData)\n",
    "X_data, Y_data = bc.load_data(trainDataPath, trainImagePath, \n",
    "                              categories=categories,\n",
    "                              maxData = maxData, \n",
    "                              verboseFreq = 50, \n",
    "                              imgResize=imgResize, \n",
    "                              normalVsAbnormal=True)\n",
    "print X_data.shape\n",
    "print Y_data.shape"
   ]
  },
  {
   "cell_type": "code",
   "execution_count": 16,
   "metadata": {
    "collapsed": false
   },
   "outputs": [
    {
     "name": "stdout",
     "output_type": "stream",
     "text": [
      "Raw Balance\n",
      "----------------\n",
      "abnormal 321\n",
      "normal 658\n",
      "balanaceViaRemoval.avgE: 489\n",
      "balanaceViaRemoval.theshold: 489.0\n",
      "\n",
      "After Balancing\n",
      "----------------\n",
      "abnormal 321\n",
      "normal 405\n",
      "0.0000: B_3380_1.RIGHT_MLO.LJPEG.png\n",
      "0.0173: C_0082_1.LEFT_CC.LJPEG.png\n",
      "0.0346: A_0359_1.LEFT_CC.LJPEG.png\n",
      "0.0518: B_3092_1.LEFT_MLO.LJPEG.png\n",
      "0.0691: B_3664_1.LEFT_MLO.LJPEG.png\n",
      "0.0864: A_0070_1.LEFT_CC.LJPEG.png\n",
      "0.1037: A_0567_1.RIGHT_MLO.LJPEG.png\n",
      "0.1210: A_0343_1.LEFT_MLO.LJPEG.png\n",
      "0.1383: A_1019_1.LEFT_MLO.LJPEG.png\n",
      "0.1555: B_3681_1.RIGHT_CC.LJPEG.png\n",
      "0.1728: A_1058_1.RIGHT_MLO.LJPEG.png\n",
      "0.1901: A_0135_1.RIGHT_MLO.LJPEG.png\n",
      "0.2074: B_3632_1.RIGHT_MLO.LJPEG.png\n",
      "0.2247: A_0116_1.RIGHT_CC.LJPEG.png\n",
      "0.2420: B_3039_1.LEFT_MLO.LJPEG.png\n",
      "(726L, 150L, 150L)\n",
      "(726L, 1L)\n"
     ]
    }
   ],
   "source": [
    "# Actually load some representative data for model experimentation\n",
    "maxData = len(metaData)\n",
    "X_test, Y_test = bc.load_data(testDataPath, imagePath, \n",
    "                              categories=categories,\n",
    "                              maxData = maxData, \n",
    "                              verboseFreq = 50, \n",
    "                              imgResize=imgResize, \n",
    "                              normalVsAbnormal=True)\n",
    "print X_test.shape\n",
    "print Y_test.shape"
   ]
  },
  {
   "cell_type": "code",
   "execution_count": 17,
   "metadata": {
    "collapsed": true
   },
   "outputs": [],
   "source": [
    "X_train = X_data\n",
    "Y_train = Y_data"
   ]
  },
  {
   "cell_type": "code",
   "execution_count": 18,
   "metadata": {
    "collapsed": false
   },
   "outputs": [
    {
     "name": "stdout",
     "output_type": "stream",
     "text": [
      "(2893L, 150L, 150L)\n",
      "(726L, 150L, 150L)\n",
      "(2893L, 1L)\n",
      "(726L, 1L)\n"
     ]
    }
   ],
   "source": [
    "print X_train.shape\n",
    "print X_test.shape\n",
    "\n",
    "print Y_train.shape\n",
    "print Y_test.shape"
   ]
  },
  {
   "cell_type": "code",
   "execution_count": 19,
   "metadata": {
    "collapsed": false
   },
   "outputs": [
    {
     "name": "stdout",
     "output_type": "stream",
     "text": [
      "Y_train Dist: defaultdict(<type 'int'>, {0: 1623, 1: 1270})\n",
      "Y_test Dist: defaultdict(<type 'int'>, {0: 405, 1: 321})\n"
     ]
    }
   ],
   "source": [
    "def yDist(y):\n",
    "    bcCounts = collections.defaultdict(int)\n",
    "    for a in range(0, y.shape[0]):\n",
    "        bcCounts[y[a][0]] += 1\n",
    "    return bcCounts\n",
    "\n",
    "print \"Y_train Dist: \" + str(yDist(Y_train))\n",
    "print \"Y_test Dist: \" + str(yDist(Y_test))"
   ]
  },
  {
   "cell_type": "code",
   "execution_count": 20,
   "metadata": {
    "collapsed": false
   },
   "outputs": [
    {
     "name": "stdout",
     "output_type": "stream",
     "text": [
      "{'benign': 1, 'malignant': 2, 'normal': 0}\n",
      "3\n"
     ]
    }
   ],
   "source": [
    "# Load the bc array for our count in the model definition\n",
    "bcTypes = bc.bcNumerics()\n",
    "print bcTypes\n",
    "print len(bcTypes)"
   ]
  },
  {
   "cell_type": "code",
   "execution_count": 22,
   "metadata": {
    "collapsed": false
   },
   "outputs": [],
   "source": [
    "X_train_s = X_train.reshape((2893,-1))"
   ]
  },
  {
   "cell_type": "code",
   "execution_count": 23,
   "metadata": {
    "collapsed": true
   },
   "outputs": [],
   "source": [
    "X_test_s = X_test.reshape((726,-1))"
   ]
  },
  {
   "cell_type": "code",
   "execution_count": 24,
   "metadata": {
    "collapsed": true
   },
   "outputs": [],
   "source": [
    "model = SVC(gamma=0.001)"
   ]
  },
  {
   "cell_type": "code",
   "execution_count": 25,
   "metadata": {
    "collapsed": false
   },
   "outputs": [
    {
     "name": "stderr",
     "output_type": "stream",
     "text": [
      "C:\\Anaconda2\\lib\\site-packages\\sklearn\\svm\\base.py:514: DataConversionWarning: A column-vector y was passed when a 1d array was expected. Please change the shape of y to (n_samples, ), for example using ravel().\n",
      "  y_ = column_or_1d(y, warn=True)\n"
     ]
    },
    {
     "data": {
      "text/plain": [
       "SVC(C=1.0, cache_size=200, class_weight=None, coef0=0.0,\n",
       "  decision_function_shape=None, degree=3, gamma=0.001, kernel='rbf',\n",
       "  max_iter=-1, probability=False, random_state=None, shrinking=True,\n",
       "  tol=0.001, verbose=False)"
      ]
     },
     "execution_count": 25,
     "metadata": {},
     "output_type": "execute_result"
    }
   ],
   "source": [
    "model.fit(X_train_s,Y_train)"
   ]
  },
  {
   "cell_type": "code",
   "execution_count": 26,
   "metadata": {
    "collapsed": true
   },
   "outputs": [],
   "source": [
    "predicted = model.predict(X_test_s)\n",
    "expected = Y_test"
   ]
  },
  {
   "cell_type": "code",
   "execution_count": 27,
   "metadata": {
    "collapsed": false
   },
   "outputs": [
    {
     "data": {
      "text/plain": [
       "array([[228, 177],\n",
       "       [ 68, 253]])"
      ]
     },
     "execution_count": 27,
     "metadata": {},
     "output_type": "execute_result"
    }
   ],
   "source": [
    "svm_matrix = skm.confusion_matrix(Y_test, predicted)\n",
    "svm_matrix"
   ]
  },
  {
   "cell_type": "code",
   "execution_count": 28,
   "metadata": {
    "collapsed": false
   },
   "outputs": [
    {
     "name": "stdout",
     "output_type": "stream",
     "text": [
      "0.662534435262\n"
     ]
    }
   ],
   "source": [
    "print metrics.accuracy_score(expected,predicted)"
   ]
  },
  {
   "cell_type": "code",
   "execution_count": 30,
   "metadata": {
    "collapsed": true
   },
   "outputs": [],
   "source": [
    "numBC = bc.reverseDict(categories)"
   ]
  },
  {
   "cell_type": "code",
   "execution_count": 31,
   "metadata": {
    "collapsed": false
   },
   "outputs": [],
   "source": [
    "class_names = numBC.values()\n",
    "np.set_printoptions(precision=2)"
   ]
  },
  {
   "cell_type": "code",
   "execution_count": 33,
   "metadata": {
    "collapsed": false
   },
   "outputs": [
    {
     "name": "stdout",
     "output_type": "stream",
     "text": [
      "Confusion matrix, without normalization\n",
      "[[228 177]\n",
      " [ 68 253]]\n"
     ]
    }
   ],
   "source": [
    "# Plot non-normalized confusion matrix\n",
    "plt.figure()\n",
    "bc.plot_confusion_matrix(svm_matrix, classes=class_names,\n",
    "                      title='Confusion matrix, without normalization, \\n')\n",
    "plt.savefig('cm_o_norm.png')"
   ]
  },
  {
   "cell_type": "code",
   "execution_count": 34,
   "metadata": {
    "collapsed": false
   },
   "outputs": [
    {
     "data": {
      "image/png": "[encoded data removed]",
      "text/plain": [
       "<IPython.core.display.Image object>"
      ]
     },
     "execution_count": 34,
     "metadata": {},
     "output_type": "execute_result"
    }
   ],
   "source": [
    "from IPython.display import Image\n",
    "Image(filename='cm_o_norm.png')"
   ]
  },
  {
   "cell_type": "code",
   "execution_count": 36,
   "metadata": {
    "collapsed": false
   },
   "outputs": [
    {
     "name": "stdout",
     "output_type": "stream",
     "text": [
      "Normalized confusion matrix\n",
      "[[ 0.56  0.44]\n",
      " [ 0.21  0.79]]\n"
     ]
    }
   ],
   "source": [
    "plt.figure()\n",
    "bc.plot_confusion_matrix(svm_matrix, classes=class_names, normalize=True,\n",
    "                      title='Normalized confusion matrix \\n')\n",
    "plt.savefig('cm_norm.png')"
   ]
  },
  {
   "cell_type": "code",
   "execution_count": 37,
   "metadata": {
    "collapsed": false
   },
   "outputs": [
    {
     "data": {
      "image/png": "[encoded data removed]",
      "text/plain": [
       "<IPython.core.display.Image object>"
      ]
     },
     "execution_count": 37,
     "metadata": {},
     "output_type": "execute_result"
    }
   ],
   "source": [
    "# Load the image we just saved\n",
    "from IPython.display import Image\n",
    "Image(filename='cm_norm.png')"
   ]
  },
  {
   "cell_type": "code",
   "execution_count": null,
   "metadata": {
    "collapsed": true
   },
   "outputs": [],
   "source": []
  }
 ],
 "metadata": {
  "kernelspec": {
   "display_name": "Python 2",
   "language": "python",
   "name": "python2"
  },
  "language_info": {
   "codemirror_mode": {
    "name": "ipython",
    "version": 2
   },
   "file_extension": ".py",
   "mimetype": "text/x-python",
   "name": "python",
   "nbconvert_exporter": "python",
   "pygments_lexer": "ipython2",
   "version": "2.7.13"
  }
 },
 "nbformat": 4,
 "nbformat_minor": 0
}
