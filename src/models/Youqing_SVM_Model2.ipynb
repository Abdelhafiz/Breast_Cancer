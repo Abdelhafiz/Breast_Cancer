{
 "cells": [
  {
   "cell_type": "markdown",
   "metadata": {},
   "source": [
    "# 2 Classes (normal, abnormal) Prediction with SVM"
   ]
  },
  {
   "cell_type": "markdown",
   "metadata": {},
   "source": [
    "A support vector classification machine with the RBF Kernel (C=1 and gamma=0.0001) was built here. And two sets of image data were tested with the model. \n",
    "\n",
    "+ For Raw DDSM images, SVM model had an overall accuracy of 65.8%.\n",
    "+ For Threshold images, SVM model had an overall accuracy of 62.1%."
   ]
  },
  {
   "cell_type": "code",
   "execution_count": 1,
   "metadata": {
    "collapsed": false
   },
   "outputs": [],
   "source": [
    "import datetime\n",
    "import gc\n",
    "import numpy as np\n",
    "import os\n",
    "import random\n",
    "from scipy import misc\n",
    "import string\n",
    "import time\n",
    "import sys\n",
    "import sklearn.metrics as skm\n",
    "import collections\n",
    "from sklearn.svm import SVC\n",
    "import matplotlib\n",
    "matplotlib.use('Agg')\n",
    "from matplotlib import pyplot as plt\n",
    "from sklearn import metrics\n",
    "import dwdii_bc_model_helper as bc\n",
    "\n",
    "random.seed(20275)\n",
    "np.set_printoptions(precision=2)"
   ]
  },
  {
   "cell_type": "markdown",
   "metadata": {},
   "source": [
    "## Raw DDSM images"
   ]
  },
  {
   "cell_type": "code",
   "execution_count": 2,
   "metadata": {
    "collapsed": false
   },
   "outputs": [],
   "source": [
    "imagePath = \"png\"\n",
    "trainImagePath = imagePath\n",
    "trainDataPath = \"data/ddsm_train.csv\"\n",
    "testDataPath = \"data/ddsm_test.csv\"\n",
    "categories = bc.bcNormVsAbnormNumerics()\n",
    "imgResize = (150, 150)\n",
    "normalVsAbnormal=True"
   ]
  },
  {
   "cell_type": "code",
   "execution_count": 3,
   "metadata": {
    "collapsed": false
   },
   "outputs": [
    {
     "data": {
      "text/plain": [
       "['ddsm_test.csv', 'ddsm_train.csv', 'ddsm_val.csv', 'mias_all.csv']"
      ]
     },
     "execution_count": 3,
     "metadata": {},
     "output_type": "execute_result"
    }
   ],
   "source": [
    "os.listdir('data')"
   ]
  },
  {
   "cell_type": "code",
   "execution_count": 4,
   "metadata": {
    "collapsed": false
   },
   "outputs": [
    {
     "name": "stdout",
     "output_type": "stream",
     "text": [
      "Raw Balance\n",
      "----------------\n",
      "abnormal 1270\n",
      "normal 2685\n",
      "balanaceViaRemoval.avgE: 1977\n",
      "balanaceViaRemoval.theshold: 1977.0\n",
      "\n",
      "After Balancing\n",
      "----------------\n",
      "abnormal 1270\n",
      "normal 1623\n"
     ]
    }
   ],
   "source": [
    "metaData, meta2, mCounts = bc.load_training_metadata(trainDataPath, balanceViaRemoval=True, verbose=True, \n",
    "                                                     normalVsAbnormal=True)"
   ]
  },
  {
   "cell_type": "code",
   "execution_count": 5,
   "metadata": {
    "collapsed": false
   },
   "outputs": [
    {
     "name": "stdout",
     "output_type": "stream",
     "text": [
      "Raw Balance\n",
      "----------------\n",
      "abnormal 1270\n",
      "normal 2685\n",
      "balanaceViaRemoval.avgE: 1977\n",
      "balanaceViaRemoval.theshold: 1977.0\n",
      "\n",
      "After Balancing\n",
      "----------------\n",
      "abnormal 1270\n",
      "normal 1623\n"
     ]
    },
    {
     "name": "stderr",
     "output_type": "stream",
     "text": [
      "dwdii_bc_model_helper.py:195: VisibleDeprecationWarning: using a non-integer number instead of an integer will result in an error in the future\n",
      "  X_data = np.zeros([total, x, y])\n",
      "dwdii_bc_model_helper.py:196: VisibleDeprecationWarning: using a non-integer number instead of an integer will result in an error in the future\n",
      "  Y_data = np.zeros([total, 1], dtype=np.int8)\n"
     ]
    },
    {
     "name": "stdout",
     "output_type": "stream",
     "text": [
      "0.0000: A_0152_1.RIGHT_MLO.LJPEG.png\n",
      "0.0173: C_0183_1.LEFT_MLO.LJPEG.png\n",
      "0.0346: B_3073_1.RIGHT_MLO.LJPEG.png\n",
      "0.0518: C_0010_1.RIGHT_MLO.LJPEG.png\n",
      "0.0691: A_0609_1.RIGHT_MLO.LJPEG.png\n",
      "0.0864: B_3426_1.RIGHT_MLO.LJPEG.png\n",
      "0.1037: A_0079_1.RIGHT_MLO.LJPEG.png\n",
      "0.1210: B_3122_1.LEFT_MLO.LJPEG.png\n",
      "0.1383: C_0108_1.LEFT_MLO.LJPEG.png\n",
      "0.1555: C_0222_1.RIGHT_CC.LJPEG.png\n",
      "0.1728: C_0342_1.RIGHT_CC.LJPEG.png\n",
      "0.1901: A_0048_1.LEFT_CC.LJPEG.png\n",
      "0.2074: B_3067_1.RIGHT_MLO.LJPEG.png\n",
      "0.2247: A_0255_1.LEFT_CC.LJPEG.png\n",
      "0.2420: B_3077_1.RIGHT_MLO.LJPEG.png\n",
      "0.2592: B_3621_1.LEFT_MLO.LJPEG.png\n",
      "0.2765: C_0046_1.RIGHT_MLO.LJPEG.png\n",
      "0.2938: A_0510_1.RIGHT_CC.LJPEG.png\n",
      "0.3111: B_3412_1.LEFT_MLO.LJPEG.png\n",
      "0.3284: B_3600_1.RIGHT_CC.LJPEG.png\n",
      "0.3457: A_0027_1.RIGHT_MLO.LJPEG.png\n",
      "0.3629: C_0466_1.LEFT_CC.LJPEG.png\n",
      "0.3802: A_0367_1.RIGHT_MLO.LJPEG.png\n",
      "0.3975: A_0441_1.RIGHT_CC.LJPEG.png\n",
      "0.4148: B_3440_1.RIGHT_CC.LJPEG.png\n",
      "0.4321: C_0392_1.RIGHT_MLO.LJPEG.png\n",
      "0.4494: A_0202_1.RIGHT_MLO.LJPEG.png\n",
      "0.4666: A_0390_1.LEFT_CC.LJPEG.png\n",
      "0.4839: B_3495_1.LEFT_CC.LJPEG.png\n",
      "0.5012: C_0075_1.LEFT_CC.LJPEG.png\n",
      "0.5185: A_0121_1.LEFT_MLO.LJPEG.png\n",
      "0.5358: A_0261_1.RIGHT_CC.LJPEG.png\n",
      "0.5531: A_0326_1.RIGHT_CC.LJPEG.png\n",
      "0.5703: B_3153_1.LEFT_MLO.LJPEG.png\n",
      "0.5876: C_0182_1.RIGHT_CC.LJPEG.png\n",
      "0.6049: B_3654_1.RIGHT_MLO.LJPEG.png\n",
      "0.6222: A_0072_1.RIGHT_MLO.LJPEG.png\n",
      "0.6395: B_3667_1.RIGHT_MLO.LJPEG.png\n",
      "0.6568: C_0018_1.RIGHT_CC.LJPEG.png\n",
      "0.6740: A_1090_1.LEFT_CC.LJPEG.png\n",
      "0.6913: B_3166_1.LEFT_CC.LJPEG.png\n",
      "0.7086: A_0479_1.LEFT_MLO.LJPEG.png\n",
      "0.7259: A_0296_1.LEFT_CC.LJPEG.png\n",
      "0.7432: B_3015_1.RIGHT_CC.LJPEG.png\n",
      "0.7605: A_0711_1.RIGHT_MLO.LJPEG.png\n",
      "0.7777: C_0392_1.RIGHT_CC.LJPEG.png\n",
      "0.7950: A_0013_1.LEFT_MLO.LJPEG.png\n",
      "0.8123: C_0418_1.RIGHT_MLO.LJPEG.png\n",
      "0.8296: C_0488_1.LEFT_MLO.LJPEG.png\n",
      "0.8469: C_0102_1.RIGHT_MLO.LJPEG.png\n",
      "0.8642: B_3071_1.RIGHT_MLO.LJPEG.png\n",
      "0.8814: C_0388_1.LEFT_CC.LJPEG.png\n",
      "0.8987: C_0189_1.LEFT_MLO.LJPEG.png\n",
      "0.9160: C_0329_1.RIGHT_CC.LJPEG.png\n",
      "0.9333: A_1021_1.LEFT_CC.LJPEG.png\n",
      "0.9506: B_3630_1.LEFT_MLO.LJPEG.png\n",
      "0.9679: A_1016_1.LEFT_CC.LJPEG.png\n",
      "0.9851: A_0201_1.LEFT_CC.LJPEG.png\n",
      "(2893L, 150L, 150L)\n",
      "(2893L, 1L)\n"
     ]
    }
   ],
   "source": [
    "# Actually load some representative data for model experimentation\n",
    "maxData = len(metaData)\n",
    "X_data, Y_data = bc.load_data(trainDataPath, trainImagePath, \n",
    "                              categories=categories,\n",
    "                              maxData = maxData, \n",
    "                              verboseFreq = 50, \n",
    "                              imgResize=imgResize, \n",
    "                              normalVsAbnormal=True)\n",
    "print X_data.shape\n",
    "print Y_data.shape"
   ]
  },
  {
   "cell_type": "code",
   "execution_count": 6,
   "metadata": {
    "collapsed": false
   },
   "outputs": [
    {
     "name": "stdout",
     "output_type": "stream",
     "text": [
      "Raw Balance\n",
      "----------------\n",
      "abnormal 321\n",
      "normal 658\n",
      "balanaceViaRemoval.avgE: 489\n",
      "balanaceViaRemoval.theshold: 489.0\n",
      "\n",
      "After Balancing\n",
      "----------------\n",
      "abnormal 321\n",
      "normal 405\n",
      "0.0000: B_3380_1.RIGHT_MLO.LJPEG.png\n",
      "0.0173: C_0082_1.LEFT_CC.LJPEG.png\n",
      "0.0346: A_0359_1.LEFT_CC.LJPEG.png\n",
      "0.0518: B_3092_1.LEFT_MLO.LJPEG.png\n",
      "0.0691: B_3664_1.LEFT_MLO.LJPEG.png\n",
      "0.0864: A_0070_1.LEFT_CC.LJPEG.png\n",
      "0.1037: A_0567_1.RIGHT_MLO.LJPEG.png\n",
      "0.1210: A_0343_1.LEFT_MLO.LJPEG.png\n",
      "0.1383: A_1019_1.LEFT_MLO.LJPEG.png\n",
      "0.1555: B_3681_1.RIGHT_CC.LJPEG.png\n",
      "0.1728: A_1058_1.RIGHT_MLO.LJPEG.png\n",
      "0.1901: A_0135_1.RIGHT_MLO.LJPEG.png\n",
      "0.2074: B_3632_1.RIGHT_MLO.LJPEG.png\n",
      "0.2247: A_0116_1.RIGHT_CC.LJPEG.png\n",
      "0.2420: B_3039_1.LEFT_MLO.LJPEG.png\n",
      "(726L, 150L, 150L)\n",
      "(726L, 1L)\n"
     ]
    }
   ],
   "source": [
    "# Actually load some representative data for model experimentation\n",
    "maxData = len(metaData)\n",
    "X_test, Y_test = bc.load_data(testDataPath, imagePath, \n",
    "                              categories=categories,\n",
    "                              maxData = maxData, \n",
    "                              verboseFreq = 50, \n",
    "                              imgResize=imgResize, \n",
    "                              normalVsAbnormal=True)\n",
    "print X_test.shape\n",
    "print Y_test.shape"
   ]
  },
  {
   "cell_type": "code",
   "execution_count": 7,
   "metadata": {
    "collapsed": true
   },
   "outputs": [],
   "source": [
    "X_train = X_data\n",
    "Y_train = Y_data"
   ]
  },
  {
   "cell_type": "code",
   "execution_count": 8,
   "metadata": {
    "collapsed": false
   },
   "outputs": [
    {
     "name": "stdout",
     "output_type": "stream",
     "text": [
      "(2893L, 150L, 150L)\n",
      "(726L, 150L, 150L)\n",
      "(2893L, 1L)\n",
      "(726L, 1L)\n"
     ]
    }
   ],
   "source": [
    "print X_train.shape\n",
    "print X_test.shape\n",
    "\n",
    "print Y_train.shape\n",
    "print Y_test.shape"
   ]
  },
  {
   "cell_type": "code",
   "execution_count": 9,
   "metadata": {
    "collapsed": false
   },
   "outputs": [
    {
     "name": "stdout",
     "output_type": "stream",
     "text": [
      "Y_train Dist: defaultdict(<type 'int'>, {0: 1623, 1: 1270})\n",
      "Y_test Dist: defaultdict(<type 'int'>, {0: 405, 1: 321})\n"
     ]
    }
   ],
   "source": [
    "def yDist(y):\n",
    "    bcCounts = collections.defaultdict(int)\n",
    "    for a in range(0, y.shape[0]):\n",
    "        bcCounts[y[a][0]] += 1\n",
    "    return bcCounts\n",
    "\n",
    "print \"Y_train Dist: \" + str(yDist(Y_train))\n",
    "print \"Y_test Dist: \" + str(yDist(Y_test))"
   ]
  },
  {
   "cell_type": "code",
   "execution_count": 10,
   "metadata": {
    "collapsed": false
   },
   "outputs": [],
   "source": [
    "X_train_s = X_train.reshape((2893,-1))"
   ]
  },
  {
   "cell_type": "code",
   "execution_count": 11,
   "metadata": {
    "collapsed": true
   },
   "outputs": [],
   "source": [
    "X_test_s = X_test.reshape((726,-1))"
   ]
  },
  {
   "cell_type": "code",
   "execution_count": 12,
   "metadata": {
    "collapsed": true
   },
   "outputs": [],
   "source": [
    "Y_train_s = Y_train.ravel()"
   ]
  },
  {
   "cell_type": "code",
   "execution_count": 13,
   "metadata": {
    "collapsed": true
   },
   "outputs": [],
   "source": [
    "model = SVC(C=1.0, gamma=0.0001, kernel='rbf')"
   ]
  },
  {
   "cell_type": "code",
   "execution_count": 14,
   "metadata": {
    "collapsed": false
   },
   "outputs": [
    {
     "data": {
      "text/plain": [
       "SVC(C=1.0, cache_size=200, class_weight=None, coef0=0.0,\n",
       "  decision_function_shape=None, degree=3, gamma=0.0001, kernel='rbf',\n",
       "  max_iter=-1, probability=False, random_state=None, shrinking=True,\n",
       "  tol=0.001, verbose=False)"
      ]
     },
     "execution_count": 14,
     "metadata": {},
     "output_type": "execute_result"
    }
   ],
   "source": [
    "model.fit(X_train_s,Y_train_s)"
   ]
  },
  {
   "cell_type": "code",
   "execution_count": 15,
   "metadata": {
    "collapsed": true
   },
   "outputs": [],
   "source": [
    "predicted = model.predict(X_test_s)\n",
    "expected = Y_test"
   ]
  },
  {
   "cell_type": "code",
   "execution_count": 16,
   "metadata": {
    "collapsed": false
   },
   "outputs": [
    {
     "data": {
      "text/plain": [
       "array([[233, 172],\n",
       "       [ 76, 245]])"
      ]
     },
     "execution_count": 16,
     "metadata": {},
     "output_type": "execute_result"
    }
   ],
   "source": [
    "svm_matrix = skm.confusion_matrix(Y_test, predicted)\n",
    "svm_matrix"
   ]
  },
  {
   "cell_type": "code",
   "execution_count": 17,
   "metadata": {
    "collapsed": false
   },
   "outputs": [
    {
     "name": "stdout",
     "output_type": "stream",
     "text": [
      "0.658402203857\n"
     ]
    }
   ],
   "source": [
    "print metrics.accuracy_score(expected,predicted)"
   ]
  },
  {
   "cell_type": "code",
   "execution_count": 18,
   "metadata": {
    "collapsed": true
   },
   "outputs": [],
   "source": [
    "numBC = bc.reverseDict(categories)"
   ]
  },
  {
   "cell_type": "code",
   "execution_count": 19,
   "metadata": {
    "collapsed": false
   },
   "outputs": [],
   "source": [
    "class_names = numBC.values()\n",
    "np.set_printoptions(precision=2)"
   ]
  },
  {
   "cell_type": "code",
   "execution_count": 20,
   "metadata": {
    "collapsed": false
   },
   "outputs": [
    {
     "name": "stdout",
     "output_type": "stream",
     "text": [
      "Confusion matrix, without normalization\n",
      "[[233 172]\n",
      " [ 76 245]]\n"
     ]
    }
   ],
   "source": [
    "# Plot non-normalized confusion matrix\n",
    "plt.figure()\n",
    "bc.plot_confusion_matrix(svm_matrix, classes=class_names,\n",
    "                      title='Confusion Matrix without normalization')\n",
    "plt.savefig('raw_class2_o_norm.png')"
   ]
  },
  {
   "cell_type": "code",
   "execution_count": 21,
   "metadata": {
    "collapsed": false
   },
   "outputs": [
    {
     "data": {
      "image/png": "[encoded data removed]",
      "text/plain": [
       "<IPython.core.display.Image object>"
      ]
     },
     "execution_count": 21,
     "metadata": {},
     "output_type": "execute_result"
    }
   ],
   "source": [
    "from IPython.display import Image\n",
    "Image(filename='raw_class2_o_norm.png')"
   ]
  },
  {
   "cell_type": "code",
   "execution_count": 22,
   "metadata": {
    "collapsed": false
   },
   "outputs": [
    {
     "name": "stdout",
     "output_type": "stream",
     "text": [
      "Normalized confusion matrix\n",
      "[[ 0.58  0.42]\n",
      " [ 0.24  0.76]]\n"
     ]
    }
   ],
   "source": [
    "plt.figure()\n",
    "bc.plot_confusion_matrix(svm_matrix, classes=class_names, normalize=True,\n",
    "                      title='Confusion Matrix with normalization')\n",
    "plt.savefig('raw_class2_norm.png')"
   ]
  },
  {
   "cell_type": "code",
   "execution_count": 23,
   "metadata": {
    "collapsed": false
   },
   "outputs": [
    {
     "data": {
      "image/png": "[encoded data removed]",
      "text/plain": [
       "<IPython.core.display.Image object>"
      ]
     },
     "execution_count": 23,
     "metadata": {},
     "output_type": "execute_result"
    }
   ],
   "source": [
    "# Load the image we just saved\n",
    "from IPython.display import Image\n",
    "Image(filename='raw_class2_norm.png')"
   ]
  },
  {
   "cell_type": "markdown",
   "metadata": {
    "collapsed": true
   },
   "source": [
    "## Threshold Images"
   ]
  },
  {
   "cell_type": "code",
   "execution_count": 24,
   "metadata": {
    "collapsed": true
   },
   "outputs": [],
   "source": [
    "imagePath = \"DDSM_threshold\"\n",
    "trainImagePath = imagePath\n",
    "trainDataPath = \"data/ddsm_train.csv\"\n",
    "testDataPath = \"data/ddsm_test.csv\"\n",
    "categories = bc.bcNormVsAbnormNumerics()\n",
    "imgResize = (150, 150)\n",
    "normalVsAbnormal=True"
   ]
  },
  {
   "cell_type": "code",
   "execution_count": 25,
   "metadata": {
    "collapsed": false
   },
   "outputs": [
    {
     "data": {
      "text/plain": [
       "['ddsm_test.csv', 'ddsm_train.csv', 'ddsm_val.csv', 'mias_all.csv']"
      ]
     },
     "execution_count": 25,
     "metadata": {},
     "output_type": "execute_result"
    }
   ],
   "source": [
    "os.listdir('data')"
   ]
  },
  {
   "cell_type": "code",
   "execution_count": 26,
   "metadata": {
    "collapsed": false
   },
   "outputs": [
    {
     "name": "stdout",
     "output_type": "stream",
     "text": [
      "Raw Balance\n",
      "----------------\n",
      "abnormal 1270\n",
      "normal 2685\n",
      "balanaceViaRemoval.avgE: 1977\n",
      "balanaceViaRemoval.theshold: 1977.0\n",
      "\n",
      "After Balancing\n",
      "----------------\n",
      "abnormal 1270\n",
      "normal 1623\n"
     ]
    }
   ],
   "source": [
    "metaData, meta2, mCounts = bc.load_training_metadata(trainDataPath, balanceViaRemoval=True, verbose=True, \n",
    "                                                     normalVsAbnormal=True)"
   ]
  },
  {
   "cell_type": "code",
   "execution_count": 27,
   "metadata": {
    "collapsed": false
   },
   "outputs": [
    {
     "name": "stdout",
     "output_type": "stream",
     "text": [
      "Raw Balance\n",
      "----------------\n",
      "abnormal 1270\n",
      "normal 2685\n",
      "balanaceViaRemoval.avgE: 1977\n",
      "balanaceViaRemoval.theshold: 1977.0\n",
      "\n",
      "After Balancing\n",
      "----------------\n",
      "abnormal 1270\n",
      "normal 1623\n",
      "0.0000: A_0152_1.RIGHT_MLO.LJPEG.png\n",
      "Not Found: DDSM_threshold\\3\\B_3175_1.LEFT_MLO.LJPEG.png\n",
      "Not Found: DDSM_threshold\\1\\A_1033_1.LEFT_CC.LJPEG.png\n",
      "Not Found: DDSM_threshold\\0\\A_0619_1.RIGHT_MLO.LJPEG.png\n",
      "Not Found: DDSM_threshold\\1\\A_1087_1.RIGHT_CC.LJPEG.png\n",
      "0.0173: A_0477_1.RIGHT_MLO.LJPEG.png\n",
      "Not Found: DDSM_threshold\\0\\A_0124_1.RIGHT_CC.LJPEG.png\n",
      "Not Found: DDSM_threshold\\1\\A_1010_1.RIGHT_CC.LJPEG.png\n",
      "0.0346: B_3401_1.RIGHT_CC.LJPEG.png\n",
      "Not Found: DDSM_threshold\\0\\A_0517_1.LEFT_MLO.LJPEG.png\n",
      "0.0518: A_0598_1.RIGHT_CC.LJPEG.png\n",
      "0.0691: C_0363_1.RIGHT_MLO.LJPEG.png\n",
      "Not Found: DDSM_threshold\\0\\C_0235_1.RIGHT_MLO.LJPEG.png\n",
      "Not Found: DDSM_threshold\\1\\A_1016_1.LEFT_MLO.LJPEG.png\n",
      "Not Found: DDSM_threshold\\1\\A_1029_1.RIGHT_MLO.LJPEG.png\n",
      "Not Found: DDSM_threshold\\3\\B_3426_1.RIGHT_MLO.LJPEG.png\n",
      "Not Found: DDSM_threshold\\1\\A_1029_1.LEFT_MLO.LJPEG.png\n",
      "Not Found: DDSM_threshold\\1\\A_1100_1.LEFT_CC.LJPEG.png\n",
      "0.0864: B_3660_1.LEFT_CC.LJPEG.png\n",
      "Not Found: DDSM_threshold\\1\\A_1060_1.LEFT_CC.LJPEG.png\n",
      "Not Found: DDSM_threshold\\1\\A_1055_1.LEFT_CC.LJPEG.png\n",
      "Not Found: DDSM_threshold\\1\\A_1097_1.LEFT_CC.LJPEG.png\n",
      "0.1037: A_0089_1.RIGHT_MLO.LJPEG.png\n",
      "Not Found: DDSM_threshold\\0\\A_0493_1.LEFT_MLO.LJPEG.png\n",
      "Not Found: DDSM_threshold\\0\\C_0270_1.LEFT_CC.LJPEG.png\n",
      "0.1210: B_3375_1.RIGHT_MLO.LJPEG.png\n",
      "Not Found: DDSM_threshold\\1\\A_1090_1.RIGHT_MLO.LJPEG.png\n",
      "Not Found: DDSM_threshold\\1\\A_1011_1.RIGHT_MLO.LJPEG.png\n",
      "0.1383: A_1089_1.LEFT_MLO.LJPEG.png\n",
      "Not Found: DDSM_threshold\\3\\B_3419_1.RIGHT_CC.LJPEG.png\n",
      "Not Found: DDSM_threshold\\3\\B_3159_1.LEFT_CC.LJPEG.png\n",
      "Not Found: DDSM_threshold\\0\\A_0493_1.RIGHT_MLO.LJPEG.png\n",
      "Not Found: DDSM_threshold\\0\\A_0490_1.LEFT_CC.LJPEG.png\n",
      "Not Found: DDSM_threshold\\0\\A_0500_1.RIGHT_MLO.LJPEG.png\n",
      "Not Found: DDSM_threshold\\1\\A_1060_1.RIGHT_MLO.LJPEG.png\n",
      "Not Found: DDSM_threshold\\0\\A_0319_1.RIGHT_CC.LJPEG.png\n",
      "0.1555: C_0398_1.RIGHT_MLO.LJPEG.png\n",
      "Not Found: DDSM_threshold\\0\\A_0494_1.LEFT_CC.LJPEG.png\n",
      "Not Found: DDSM_threshold\\0\\C_0247_1.LEFT_MLO.LJPEG.png\n",
      "Not Found: DDSM_threshold\\1\\A_1029_1.RIGHT_CC.LJPEG.png\n",
      "Not Found: DDSM_threshold\\1\\A_1075_1.LEFT_CC.LJPEG.png\n",
      "0.1728: A_0225_1.RIGHT_MLO.LJPEG.png\n",
      "Not Found: DDSM_threshold\\3\\B_3169_1.RIGHT_MLO.LJPEG.png\n",
      "Not Found: DDSM_threshold\\0\\A_0490_1.RIGHT_CC.LJPEG.png\n",
      "Not Found: DDSM_threshold\\3\\B_3484_1.RIGHT_MLO.LJPEG.png\n",
      "0.1901: C_0381_1.LEFT_CC.LJPEG.png\n",
      "Not Found: DDSM_threshold\\0\\A_0417_1.RIGHT_MLO.LJPEG.png\n",
      "Not Found: DDSM_threshold\\1\\A_1060_1.RIGHT_CC.LJPEG.png\n",
      "Not Found: DDSM_threshold\\1\\A_1079_1.LEFT_MLO.LJPEG.png\n",
      "Not Found: DDSM_threshold\\1\\A_1043_1.LEFT_CC.LJPEG.png\n",
      "0.2074: B_3437_1.LEFT_MLO.LJPEG.png\n",
      "Not Found: DDSM_threshold\\1\\A_1020_1.LEFT_CC.LJPEG.png\n",
      "0.2247: B_3057_1.RIGHT_CC.LJPEG.png\n",
      "Not Found: DDSM_threshold\\1\\A_1080_1.RIGHT_MLO.LJPEG.png\n",
      "Not Found: DDSM_threshold\\3\\B_3419_1.LEFT_CC.LJPEG.png\n",
      "Not Found: DDSM_threshold\\0\\A_0483_1.RIGHT_CC.LJPEG.png\n",
      "Not Found: DDSM_threshold\\0\\A_0605_1.RIGHT_MLO.LJPEG.png\n",
      "0.2420: A_1055_1.RIGHT_CC.LJPEG.png\n",
      "Not Found: DDSM_threshold\\0\\A_0482_1.LEFT_CC.LJPEG.png\n",
      "Not Found: DDSM_threshold\\0\\A_0482_1.RIGHT_MLO.LJPEG.png\n",
      "Not Found: DDSM_threshold\\1\\A_1004_1.LEFT_MLO.LJPEG.png\n",
      "Not Found: DDSM_threshold\\0\\A_0576_1.RIGHT_CC.LJPEG.png\n",
      "0.2592: C_0033_1.RIGHT_CC.LJPEG.png\n",
      "Not Found: DDSM_threshold\\1\\A_1017_1.LEFT_MLO.LJPEG.png\n",
      "Not Found: DDSM_threshold\\0\\A_0615_1.RIGHT_MLO.LJPEG.png\n",
      "Not Found: DDSM_threshold\\0\\A_0483_1.LEFT_MLO.LJPEG.png\n",
      "0.2765: C_0309_1.RIGHT_MLO.LJPEG.png\n",
      "Not Found: DDSM_threshold\\1\\A_1093_1.RIGHT_CC.LJPEG.png\n",
      "Not Found: DDSM_threshold\\0\\A_0610_1.RIGHT_MLO.LJPEG.png\n",
      "Not Found: DDSM_threshold\\1\\A_1000_1.LEFT_MLO.LJPEG.png\n",
      "Not Found: DDSM_threshold\\3\\B_3098_1.RIGHT_MLO.LJPEG.png\n",
      "Not Found: DDSM_threshold\\1\\A_1020_1.LEFT_MLO.LJPEG.png\n",
      "0.2938: C_0176_1.LEFT_MLO.LJPEG.png\n",
      "0.3111: C_0390_1.RIGHT_MLO.LJPEG.png\n",
      "Not Found: DDSM_threshold\\0\\A_0524_1.LEFT_CC.LJPEG.png\n",
      "0.3284: C_0118_1.LEFT_CC.LJPEG.png\n",
      "Not Found: DDSM_threshold\\3\\B_3489_1.RIGHT_MLO.LJPEG.png\n",
      "0.3457: C_0509_1.LEFT_MLO.LJPEG.png\n",
      "0.3629: A_1069_1.RIGHT_CC.LJPEG.png\n",
      "Not Found: DDSM_threshold\\0\\C_0280_1.LEFT_CC.LJPEG.png\n",
      "0.3802: A_0091_1.RIGHT_MLO.LJPEG.png\n",
      "Not Found: DDSM_threshold\\1\\A_1010_1.LEFT_CC.LJPEG.png\n",
      "Not Found: DDSM_threshold\\1\\A_1083_1.LEFT_CC.LJPEG.png\n",
      "0.3975: C_0157_1.RIGHT_MLO.LJPEG.png\n",
      "Not Found: DDSM_threshold\\0\\A_0492_1.LEFT_CC.LJPEG.png\n",
      "Not Found: DDSM_threshold\\0\\A_0589_1.RIGHT_MLO.LJPEG.png\n",
      "Not Found: DDSM_threshold\\1\\A_1080_1.RIGHT_CC.LJPEG.png\n",
      "0.4148: B_3162_1.RIGHT_MLO.LJPEG.png\n",
      "Not Found: DDSM_threshold\\3\\B_3144_1.RIGHT_MLO.LJPEG.png\n",
      "Not Found: DDSM_threshold\\1\\A_1090_1.LEFT_MLO.LJPEG.png\n",
      "Not Found: DDSM_threshold\\3\\B_3419_1.RIGHT_MLO.LJPEG.png\n",
      "Not Found: DDSM_threshold\\0\\C_0285_1.RIGHT_CC.LJPEG.png\n",
      "Not Found: DDSM_threshold\\1\\A_1053_1.LEFT_MLO.LJPEG.png\n",
      "Not Found: DDSM_threshold\\1\\A_1030_1.LEFT_MLO.LJPEG.png\n",
      "Not Found: DDSM_threshold\\3\\B_3482_1.RIGHT_MLO.LJPEG.png\n",
      "0.4321: C_0063_1.RIGHT_MLO.LJPEG.png\n",
      "0.4494: C_0473_1.LEFT_MLO.LJPEG.png\n",
      "Not Found: DDSM_threshold\\1\\A_1030_1.RIGHT_MLO.LJPEG.png\n",
      "Not Found: DDSM_threshold\\1\\A_1060_1.LEFT_MLO.LJPEG.png\n",
      "Not Found: DDSM_threshold\\1\\A_1096_1.LEFT_MLO.LJPEG.png\n",
      "0.4666: B_3510_1.RIGHT_MLO.LJPEG.png\n",
      "Not Found: DDSM_threshold\\0\\A_0508_1.RIGHT_CC.LJPEG.png\n",
      "Not Found: DDSM_threshold\\1\\A_1075_1.RIGHT_MLO.LJPEG.png\n",
      "0.4839: C_0022_1.RIGHT_CC.LJPEG.png\n",
      "Not Found: DDSM_threshold\\0\\A_0417_1.LEFT_MLO.LJPEG.png\n",
      "Not Found: DDSM_threshold\\0\\A_0542_1.RIGHT_MLO.LJPEG.png\n",
      "Not Found: DDSM_threshold\\0\\A_0491_1.RIGHT_MLO.LJPEG.png\n",
      "0.5012: B_3432_1.LEFT_CC.LJPEG.png\n",
      "Not Found: DDSM_threshold\\1\\A_1029_1.LEFT_CC.LJPEG.png\n",
      "Not Found: DDSM_threshold\\1\\A_1087_1.RIGHT_MLO.LJPEG.png\n",
      "Not Found: DDSM_threshold\\0\\A_0572_1.LEFT_CC.LJPEG.png\n",
      "Not Found: DDSM_threshold\\3\\B_3175_1.RIGHT_MLO.LJPEG.png\n",
      "Not Found: DDSM_threshold\\0\\A_0484_1.RIGHT_MLO.LJPEG.png\n",
      "0.5185: A_1033_1.LEFT_MLO.LJPEG.png\n",
      "Not Found: DDSM_threshold\\1\\A_1100_1.LEFT_MLO.LJPEG.png\n",
      "Not Found: DDSM_threshold\\0\\A_0341_1.RIGHT_MLO.LJPEG.png\n",
      "Not Found: DDSM_threshold\\1\\A_1008_1.RIGHT_MLO.LJPEG.png\n",
      "Not Found: DDSM_threshold\\1\\A_1017_1.RIGHT_MLO.LJPEG.png\n",
      "0.5358: B_3362_1.LEFT_MLO.LJPEG.png\n",
      "Not Found: DDSM_threshold\\3\\B_3050_1.RIGHT_MLO.LJPEG.png\n",
      "Not Found: DDSM_threshold\\0\\A_0483_1.LEFT_CC.LJPEG.png\n",
      "Not Found: DDSM_threshold\\1\\A_1008_1.LEFT_MLO.LJPEG.png\n",
      "0.5531: B_3006_1.RIGHT_MLO.LJPEG.png\n",
      "Not Found: DDSM_threshold\\1\\A_1035_1.RIGHT_CC.LJPEG.png\n",
      "0.5703: A_0469_1.RIGHT_CC.LJPEG.png\n",
      "Not Found: DDSM_threshold\\1\\A_1030_1.RIGHT_CC.LJPEG.png\n",
      "Not Found: DDSM_threshold\\0\\A_0707_1.RIGHT_CC.LJPEG.png\n",
      "Not Found: DDSM_threshold\\1\\A_1079_1.LEFT_CC.LJPEG.png\n",
      "0.5876: B_3110_1.RIGHT_MLO.LJPEG.png\n",
      "Not Found: DDSM_threshold\\1\\A_1011_1.LEFT_MLO.LJPEG.png\n",
      "Not Found: DDSM_threshold\\1\\A_1075_1.LEFT_MLO.LJPEG.png\n",
      "Not Found: DDSM_threshold\\1\\A_1031_1.LEFT_CC.LJPEG.png\n",
      "Not Found: DDSM_threshold\\0\\C_0251_1.LEFT_MLO.LJPEG.png\n",
      "0.6049: B_3454_1.RIGHT_MLO.LJPEG.png\n",
      "Not Found: DDSM_threshold\\3\\B_3435_1.LEFT_MLO.LJPEG.png\n",
      "Not Found: DDSM_threshold\\3\\B_3099_1.RIGHT_MLO.LJPEG.png\n",
      "0.6222: B_3378_1.LEFT_MLO.LJPEG.png\n",
      "Not Found: DDSM_threshold\\1\\A_1006_1.LEFT_MLO.LJPEG.png\n",
      "Not Found: DDSM_threshold\\0\\A_0493_1.RIGHT_CC.LJPEG.png\n",
      "Not Found: DDSM_threshold\\1\\A_1033_1.RIGHT_CC.LJPEG.png\n",
      "Not Found: DDSM_threshold\\1\\A_1006_1.RIGHT_MLO.LJPEG.png\n",
      "Not Found: DDSM_threshold\\1\\A_1090_1.LEFT_CC.LJPEG.png\n",
      "0.6395: C_0376_1.RIGHT_MLO.LJPEG.png\n",
      "Not Found: DDSM_threshold\\1\\A_1010_1.LEFT_MLO.LJPEG.png\n",
      "Not Found: DDSM_threshold\\3\\B_3421_1.RIGHT_MLO.LJPEG.png\n",
      "Not Found: DDSM_threshold\\3\\B_3175_1.RIGHT_CC.LJPEG.png\n",
      "0.6568: B_3358_1.LEFT_CC.LJPEG.png\n",
      "Not Found: DDSM_threshold\\1\\A_1063_1.LEFT_CC.LJPEG.png\n",
      "Not Found: DDSM_threshold\\0\\A_0479_1.RIGHT_MLO.LJPEG.png\n",
      "0.6740: A_1071_1.RIGHT_CC.LJPEG.png\n",
      "Not Found: DDSM_threshold\\1\\A_1031_1.LEFT_MLO.LJPEG.png\n",
      "Not Found: DDSM_threshold\\0\\C_0245_1.LEFT_CC.LJPEG.png\n",
      "Not Found: DDSM_threshold\\1\\A_1044_1.LEFT_MLO.LJPEG.png\n",
      "Not Found: DDSM_threshold\\0\\A_0490_1.RIGHT_MLO.LJPEG.png\n",
      "0.6913: B_3606_1.RIGHT_CC.LJPEG.png\n",
      "Not Found: DDSM_threshold\\1\\A_1014_1.RIGHT_MLO.LJPEG.png\n",
      "Not Found: DDSM_threshold\\1\\A_1022_1.LEFT_MLO.LJPEG.png\n",
      "0.7086: A_0317_1.RIGHT_MLO.LJPEG.png\n",
      "Not Found: DDSM_threshold\\1\\A_1065_1.LEFT_CC.LJPEG.png\n",
      "Not Found: DDSM_threshold\\3\\B_3483_1.RIGHT_MLO.LJPEG.png\n",
      "0.7259: C_0486_1.LEFT_CC.LJPEG.png\n",
      "Not Found: DDSM_threshold\\1\\A_1097_1.LEFT_MLO.LJPEG.png\n",
      "Not Found: DDSM_threshold\\1\\A_1063_1.LEFT_MLO.LJPEG.png\n",
      "Not Found: DDSM_threshold\\0\\C_0343_1.RIGHT_CC.LJPEG.png\n",
      "0.7432: A_0287_1.RIGHT_MLO.LJPEG.png\n",
      "Not Found: DDSM_threshold\\1\\A_1053_1.LEFT_CC.LJPEG.png\n",
      "Not Found: DDSM_threshold\\0\\C_0246_1.LEFT_MLO.LJPEG.png\n",
      "Not Found: DDSM_threshold\\1\\A_1016_1.RIGHT_CC.LJPEG.png\n",
      "Not Found: DDSM_threshold\\1\\A_1009_1.LEFT_CC.LJPEG.png\n",
      "0.7605: B_3017_1.LEFT_MLO.LJPEG.png\n",
      "Not Found: DDSM_threshold\\1\\A_1055_1.LEFT_MLO.LJPEG.png\n",
      "Not Found: DDSM_threshold\\3\\B_3487_1.LEFT_CC.LJPEG.png\n",
      "Not Found: DDSM_threshold\\0\\C_0246_1.LEFT_CC.LJPEG.png\n",
      "Not Found: DDSM_threshold\\1\\A_1071_1.LEFT_CC.LJPEG.png\n",
      "0.7777: A_0018_1.RIGHT_MLO.LJPEG.png\n",
      "Not Found: DDSM_threshold\\1\\A_1096_1.RIGHT_CC.LJPEG.png\n",
      "0.7950: C_0275_1.RIGHT_MLO.LJPEG.png\n",
      "Not Found: DDSM_threshold\\1\\A_1044_1.LEFT_CC.LJPEG.png\n",
      "0.8123: B_3472_1.LEFT_CC.LJPEG.png\n",
      "Not Found: DDSM_threshold\\3\\B_3433_1.LEFT_MLO.LJPEG.png\n",
      "Not Found: DDSM_threshold\\1\\A_1004_1.LEFT_CC.LJPEG.png\n",
      "0.8296: C_0221_1.RIGHT_CC.LJPEG.png\n",
      "Not Found: DDSM_threshold\\3\\B_3098_1.RIGHT_CC.LJPEG.png\n",
      "Not Found: DDSM_threshold\\0\\A_0482_1.RIGHT_CC.LJPEG.png\n",
      "Not Found: DDSM_threshold\\3\\B_3423_1.RIGHT_MLO.LJPEG.png\n",
      "0.8469: A_0314_1.RIGHT_MLO.LJPEG.png\n",
      "Not Found: DDSM_threshold\\1\\A_1054_1.RIGHT_CC.LJPEG.png\n",
      "Not Found: DDSM_threshold\\0\\A_0490_1.LEFT_MLO.LJPEG.png\n",
      "Not Found: DDSM_threshold\\1\\A_1080_1.LEFT_MLO.LJPEG.png\n",
      "0.8642: A_0207_1.RIGHT_CC.LJPEG.png\n",
      "Not Found: DDSM_threshold\\0\\A_0576_1.LEFT_CC.LJPEG.png\n",
      "Not Found: DDSM_threshold\\1\\A_1054_1.LEFT_MLO.LJPEG.png\n",
      "Not Found: DDSM_threshold\\1\\A_1075_1.RIGHT_CC.LJPEG.png\n",
      "Not Found: DDSM_threshold\\0\\A_0479_1.RIGHT_CC.LJPEG.png\n",
      "0.8814: C_0087_1.LEFT_CC.LJPEG.png\n",
      "Not Found: DDSM_threshold\\0\\A_0492_1.RIGHT_CC.LJPEG.png\n",
      "Not Found: DDSM_threshold\\0\\A_0484_1.RIGHT_CC.LJPEG.png\n",
      "0.8987: A_0285_1.LEFT_MLO.LJPEG.png\n",
      "Not Found: DDSM_threshold\\0\\A_0494_1.LEFT_MLO.LJPEG.png\n",
      "Not Found: DDSM_threshold\\3\\B_3490_1.RIGHT_MLO.LJPEG.png\n",
      "Not Found: DDSM_threshold\\1\\A_1005_1.LEFT_MLO.LJPEG.png\n",
      "Not Found: DDSM_threshold\\0\\A_0493_1.LEFT_CC.LJPEG.png\n",
      "Not Found: DDSM_threshold\\1\\A_1016_1.LEFT_CC.LJPEG.png\n",
      "0.9160: A_0514_1.LEFT_MLO.LJPEG.png\n",
      "0.9333: C_0226_1.RIGHT_MLO.LJPEG.png\n",
      "Not Found: DDSM_threshold\\1\\A_1017_1.LEFT_CC.LJPEG.png\n",
      "(2742L, 150L, 150L)\n",
      "(2742L, 1L)\n"
     ]
    }
   ],
   "source": [
    "# Actually load some representative data for model experimentation\n",
    "maxData = len(metaData)\n",
    "X_data, Y_data = bc.load_data(trainDataPath, trainImagePath, \n",
    "                              categories=categories,\n",
    "                              maxData = maxData, \n",
    "                              verboseFreq = 50, \n",
    "                              imgResize=imgResize, \n",
    "                              normalVsAbnormal=True)\n",
    "print X_data.shape\n",
    "print Y_data.shape"
   ]
  },
  {
   "cell_type": "code",
   "execution_count": 28,
   "metadata": {
    "collapsed": false
   },
   "outputs": [
    {
     "name": "stdout",
     "output_type": "stream",
     "text": [
      "Raw Balance\n",
      "----------------\n",
      "abnormal 321\n",
      "normal 658\n",
      "balanaceViaRemoval.avgE: 489\n",
      "balanaceViaRemoval.theshold: 489.0\n",
      "\n",
      "After Balancing\n",
      "----------------\n",
      "abnormal 321\n",
      "normal 405\n",
      "0.0000: B_3380_1.RIGHT_MLO.LJPEG.png\n",
      "Not Found: DDSM_threshold\\1\\A_1007_1.LEFT_MLO.LJPEG.png\n",
      "0.0173: C_0389_1.LEFT_CC.LJPEG.png\n",
      "Not Found: DDSM_threshold\\1\\A_1019_1.LEFT_CC.LJPEG.png\n",
      "0.0346: C_0162_1.RIGHT_MLO.LJPEG.png\n",
      "Not Found: DDSM_threshold\\0\\A_0618_1.RIGHT_CC.LJPEG.png\n",
      "Not Found: DDSM_threshold\\1\\A_1004_1.RIGHT_CC.LJPEG.png\n",
      "Not Found: DDSM_threshold\\0\\A_0494_1.RIGHT_CC.LJPEG.png\n",
      "Not Found: DDSM_threshold\\1\\A_1063_1.RIGHT_CC.LJPEG.png\n",
      "0.0518: B_3516_1.LEFT_CC.LJPEG.png\n",
      "Not Found: DDSM_threshold\\1\\A_1044_1.RIGHT_CC.LJPEG.png\n",
      "Not Found: DDSM_threshold\\3\\B_3443_1.RIGHT_CC.LJPEG.png\n",
      "Not Found: DDSM_threshold\\0\\C_0284_1.LEFT_CC.LJPEG.png\n",
      "Not Found: DDSM_threshold\\0\\A_0601_1.RIGHT_CC.LJPEG.png\n",
      "Not Found: DDSM_threshold\\0\\A_0299_1.LEFT_CC.LJPEG.png\n",
      "0.0691: C_0458_1.LEFT_CC.LJPEG.png\n",
      "Not Found: DDSM_threshold\\0\\A_0387_1.LEFT_MLO.LJPEG.png\n",
      "Not Found: DDSM_threshold\\0\\A_0303_1.RIGHT_CC.LJPEG.png\n",
      "0.0864: A_0230_1.RIGHT_CC.LJPEG.png\n",
      "Not Found: DDSM_threshold\\1\\A_1014_1.LEFT_CC.LJPEG.png\n",
      "Not Found: DDSM_threshold\\3\\B_3097_1.RIGHT_MLO.LJPEG.png\n",
      "Not Found: DDSM_threshold\\0\\A_0491_1.LEFT_MLO.LJPEG.png\n",
      "Not Found: DDSM_threshold\\3\\B_3424_1.RIGHT_CC.LJPEG.png\n",
      "0.1037: C_0388_1.RIGHT_CC.LJPEG.png\n",
      "Not Found: DDSM_threshold\\3\\B_3494_1.RIGHT_MLO.LJPEG.png\n",
      "Not Found: DDSM_threshold\\3\\B_3495_1.RIGHT_CC.LJPEG.png\n",
      "Not Found: DDSM_threshold\\0\\A_0610_1.LEFT_MLO.LJPEG.png\n",
      "Not Found: DDSM_threshold\\1\\A_1074_1.LEFT_MLO.LJPEG.png\n",
      "0.1210: C_0044_1.LEFT_CC.LJPEG.png\n",
      "0.1383: A_1003_1.LEFT_CC.LJPEG.png\n",
      "Not Found: DDSM_threshold\\1\\A_1063_1.RIGHT_MLO.LJPEG.png\n",
      "Not Found: DDSM_threshold\\0\\A_0562_1.RIGHT_CC.LJPEG.png\n",
      "Not Found: DDSM_threshold\\3\\B_3443_1.RIGHT_MLO.LJPEG.png\n",
      "0.1555: A_0073_1.LEFT_CC.LJPEG.png\n",
      "Not Found: DDSM_threshold\\1\\A_1005_1.RIGHT_MLO.LJPEG.png\n",
      "Not Found: DDSM_threshold\\1\\A_1103_1.LEFT_CC.LJPEG.png\n",
      "Not Found: DDSM_threshold\\0\\A_0616_1.RIGHT_MLO.LJPEG.png\n",
      "Not Found: DDSM_threshold\\1\\A_1014_1.LEFT_MLO.LJPEG.png\n",
      "0.1728: B_3104_1.RIGHT_MLO.LJPEG.png\n",
      "Not Found: DDSM_threshold\\1\\A_1031_1.RIGHT_CC.LJPEG.png\n",
      "Not Found: DDSM_threshold\\0\\A_0527_1.LEFT_CC.LJPEG.png\n",
      "0.1901: A_0099_1.LEFT_CC.LJPEG.png\n",
      "Not Found: DDSM_threshold\\1\\A_1004_1.RIGHT_MLO.LJPEG.png\n",
      "Not Found: DDSM_threshold\\3\\B_3097_1.RIGHT_CC.LJPEG.png\n",
      "0.2074: B_3650_1.RIGHT_MLO.LJPEG.png\n",
      "0.2247: B_3424_1.RIGHT_MLO.LJPEG.png\n",
      "Not Found: DDSM_threshold\\1\\A_1053_1.RIGHT_MLO.LJPEG.png\n",
      "Not Found: DDSM_threshold\\1\\A_1037_1.RIGHT_CC.LJPEG.png\n",
      "Not Found: DDSM_threshold\\0\\A_0604_1.RIGHT_CC.LJPEG.png\n",
      "(691L, 150L, 150L)\n",
      "(691L, 1L)\n"
     ]
    }
   ],
   "source": [
    "# Actually load some representative data for model experimentation\n",
    "maxData = len(metaData)\n",
    "X_test, Y_test = bc.load_data(testDataPath, imagePath, \n",
    "                              categories=categories,\n",
    "                              maxData = maxData, \n",
    "                              verboseFreq = 50, \n",
    "                              imgResize=imgResize, \n",
    "                              normalVsAbnormal=True)\n",
    "print X_test.shape\n",
    "print Y_test.shape"
   ]
  },
  {
   "cell_type": "code",
   "execution_count": 29,
   "metadata": {
    "collapsed": true
   },
   "outputs": [],
   "source": [
    "X_train = X_data\n",
    "Y_train = Y_data"
   ]
  },
  {
   "cell_type": "code",
   "execution_count": 30,
   "metadata": {
    "collapsed": false
   },
   "outputs": [
    {
     "name": "stdout",
     "output_type": "stream",
     "text": [
      "(2742L, 150L, 150L)\n",
      "(691L, 150L, 150L)\n",
      "(2742L, 1L)\n",
      "(691L, 1L)\n"
     ]
    }
   ],
   "source": [
    "print X_train.shape\n",
    "print X_test.shape\n",
    "\n",
    "print Y_train.shape\n",
    "print Y_test.shape"
   ]
  },
  {
   "cell_type": "code",
   "execution_count": 31,
   "metadata": {
    "collapsed": false
   },
   "outputs": [
    {
     "name": "stdout",
     "output_type": "stream",
     "text": [
      "Y_train Dist: defaultdict(<type 'int'>, {0: 1546, 1: 1196})\n",
      "Y_test Dist: defaultdict(<type 'int'>, {0: 382, 1: 309})\n"
     ]
    }
   ],
   "source": [
    "def yDist(y):\n",
    "    bcCounts = collections.defaultdict(int)\n",
    "    for a in range(0, y.shape[0]):\n",
    "        bcCounts[y[a][0]] += 1\n",
    "    return bcCounts\n",
    "\n",
    "print \"Y_train Dist: \" + str(yDist(Y_train))\n",
    "print \"Y_test Dist: \" + str(yDist(Y_test))"
   ]
  },
  {
   "cell_type": "code",
   "execution_count": 32,
   "metadata": {
    "collapsed": true
   },
   "outputs": [],
   "source": [
    "X_train_s = X_train.reshape((2742,-1))\n",
    "X_test_s = X_test.reshape((691,-1))\n",
    "Y_train_s = Y_train.ravel()"
   ]
  },
  {
   "cell_type": "code",
   "execution_count": 33,
   "metadata": {
    "collapsed": false
   },
   "outputs": [
    {
     "data": {
      "text/plain": [
       "SVC(C=1.0, cache_size=200, class_weight=None, coef0=0.0,\n",
       "  decision_function_shape=None, degree=3, gamma=0.0001, kernel='rbf',\n",
       "  max_iter=-1, probability=False, random_state=None, shrinking=True,\n",
       "  tol=0.001, verbose=False)"
      ]
     },
     "execution_count": 33,
     "metadata": {},
     "output_type": "execute_result"
    }
   ],
   "source": [
    "model = SVC(C=1.0, gamma=0.0001, kernel='rbf')\n",
    "model.fit(X_train_s,Y_train_s)"
   ]
  },
  {
   "cell_type": "code",
   "execution_count": 34,
   "metadata": {
    "collapsed": true
   },
   "outputs": [],
   "source": [
    "predicted = model.predict(X_test_s)\n",
    "expected = Y_test"
   ]
  },
  {
   "cell_type": "code",
   "execution_count": 35,
   "metadata": {
    "collapsed": false
   },
   "outputs": [
    {
     "data": {
      "text/plain": [
       "array([[255, 127],\n",
       "       [135, 174]])"
      ]
     },
     "execution_count": 35,
     "metadata": {},
     "output_type": "execute_result"
    }
   ],
   "source": [
    "svm_matrix = skm.confusion_matrix(Y_test, predicted)\n",
    "svm_matrix"
   ]
  },
  {
   "cell_type": "code",
   "execution_count": 36,
   "metadata": {
    "collapsed": false
   },
   "outputs": [
    {
     "name": "stdout",
     "output_type": "stream",
     "text": [
      "0.620839363242\n"
     ]
    }
   ],
   "source": [
    "print metrics.accuracy_score(expected,predicted)"
   ]
  },
  {
   "cell_type": "code",
   "execution_count": 41,
   "metadata": {
    "collapsed": false
   },
   "outputs": [
    {
     "name": "stdout",
     "output_type": "stream",
     "text": [
      "Confusion matrix, without normalization\n",
      "[[255 127]\n",
      " [135 174]]\n"
     ]
    }
   ],
   "source": [
    "numBC = bc.reverseDict(categories)\n",
    "class_names = numBC.values()\n",
    "np.set_printoptions(precision=2)\n",
    "\n",
    "# Plot non-normalized confusion matrix\n",
    "plt.figure()\n",
    "bc.plot_confusion_matrix(svm_matrix, classes=class_names,\n",
    "                      title='Confusion Matrix without normalization')\n",
    "plt.savefig('threshold_class2_o_norm.png')"
   ]
  },
  {
   "cell_type": "code",
   "execution_count": 42,
   "metadata": {
    "collapsed": false
   },
   "outputs": [
    {
     "data": {
      "image/png": "[encoded data removed]",
      "text/plain": [
       "<IPython.core.display.Image object>"
      ]
     },
     "execution_count": 42,
     "metadata": {},
     "output_type": "execute_result"
    }
   ],
   "source": [
    "from IPython.display import Image\n",
    "Image(filename='threshold_class2_o_norm.png')"
   ]
  },
  {
   "cell_type": "code",
   "execution_count": 43,
   "metadata": {
    "collapsed": false
   },
   "outputs": [
    {
     "name": "stdout",
     "output_type": "stream",
     "text": [
      "Normalized confusion matrix\n",
      "[[ 0.67  0.33]\n",
      " [ 0.44  0.56]]\n"
     ]
    }
   ],
   "source": [
    "plt.figure()\n",
    "bc.plot_confusion_matrix(svm_matrix, classes=class_names, normalize=True,\n",
    "                      title='Confusion Matrix with normalization')\n",
    "plt.savefig('threshold_class2_norm.png')"
   ]
  },
  {
   "cell_type": "code",
   "execution_count": 44,
   "metadata": {
    "collapsed": false
   },
   "outputs": [
    {
     "data": {
      "image/png": "[encoded data removed]",
      "text/plain": [
       "<IPython.core.display.Image object>"
      ]
     },
     "execution_count": 44,
     "metadata": {},
     "output_type": "execute_result"
    }
   ],
   "source": [
    "# Load the image we just saved\n",
    "from IPython.display import Image\n",
    "Image(filename='threshold_class2_norm.png')"
   ]
  },
  {
   "cell_type": "code",
   "execution_count": null,
   "metadata": {
    "collapsed": true
   },
   "outputs": [],
   "source": []
  }
 ],
 "metadata": {
  "kernelspec": {
   "display_name": "Python 2",
   "language": "python",
   "name": "python2"
  },
  "language_info": {
   "codemirror_mode": {
    "name": "ipython",
    "version": 2
   },
   "file_extension": ".py",
   "mimetype": "text/x-python",
   "name": "python",
   "nbconvert_exporter": "python",
   "pygments_lexer": "ipython2",
   "version": "2.7.13"
  }
 },
 "nbformat": 4,
 "nbformat_minor": 0
}
