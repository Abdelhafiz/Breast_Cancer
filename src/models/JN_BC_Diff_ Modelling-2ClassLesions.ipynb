{
 "cells": [
  {
   "cell_type": "markdown",
   "metadata": {},
   "source": [
    "<hr>\n",
    "<h1>Predicting Benign and Malignant Classes in Mammograms</h1>\n",
    "\n",
    "<p>Jay Narhan</p>\n",
    "May 2017\n",
    "\n",
    "A slight alteration to the 2 class problem, looking at benign and malignant classifications only.\n",
    "\n",
    "<hr>"
   ]
  },
  {
   "cell_type": "code",
   "execution_count": 1,
   "metadata": {},
   "outputs": [
    {
     "name": "stderr",
     "output_type": "stream",
     "text": [
      "Using Theano backend.\n"
     ]
    }
   ],
   "source": [
    "import os\n",
    "import sys\n",
    "import time\n",
    "import numpy as np\n",
    "\n",
    "import sklearn.metrics as skm\n",
    "from sklearn import metrics\n",
    "from sklearn.svm import SVC\n",
    "from sklearn.model_selection import train_test_split\n",
    "\n",
    "from skimage import color\n",
    "\n",
    "import keras.callbacks as cb\n",
    "import keras.utils.np_utils as np_utils\n",
    "from keras import applications\n",
    "from keras import regularizers\n",
    "from keras.models import Sequential\n",
    "from keras.constraints import maxnorm\n",
    "from keras.preprocessing.image import ImageDataGenerator\n",
    "from keras.layers.convolutional import Convolution2D, MaxPooling2D\n",
    "from keras.layers import Activation, Dense, Dropout, Flatten, GaussianNoise\n",
    "\n",
    "from matplotlib import pyplot as plt\n",
    "%matplotlib inline\n",
    "\n",
    "plt.rcParams['figure.figsize'] = (10,10)\n",
    "np.set_printoptions(precision=2)\n",
    "\n",
    "import jn_bc_helper as bc"
   ]
  },
  {
   "cell_type": "markdown",
   "metadata": {},
   "source": [
    "<h2>Reproducible Research</h2>"
   ]
  },
  {
   "cell_type": "code",
   "execution_count": 2,
   "metadata": {},
   "outputs": [
    {
     "name": "stdout",
     "output_type": "stream",
     "text": [
      "scipy:           0.19.0\n",
      "numpy:           1.12.1\n",
      "matplotlib:      2.0.0\n",
      "sklearn:         0.18.1\n",
      "skimage:         0.13.0\n",
      "theano:          0.9.0.dev-c697eeab84e5b8a74908da654b66ec9eca4f1291\n",
      "tensorflow:      0.10.0\n",
      "keras:           2.0.3\n"
     ]
    },
    {
     "name": "stderr",
     "output_type": "stream",
     "text": [
      "Python 2.7.13 :: Continuum Analytics, Inc.\n",
      "Using Theano backend.\n"
     ]
    }
   ],
   "source": [
    "%%python\n",
    "import os\n",
    "os.system('python -V')\n",
    "os.system('python ../../Package_Versions.py')"
   ]
  },
  {
   "cell_type": "code",
   "execution_count": 3,
   "metadata": {},
   "outputs": [
    {
     "name": "stderr",
     "output_type": "stream",
     "text": [
      "2it [00:00, 14.79it/s]"
     ]
    },
    {
     "name": "stdout",
     "output_type": "stream",
     "text": [
      "----------------\n",
      "Before Balancing\n",
      "----------------\n",
      "benign    : 569\n",
      "malignant : 812\n",
      "balanceViaRemoval.avgC: 690\n",
      "balanceViaRemoval.theshold: 690.0\n",
      "---------------\n",
      "After Balancing\n",
      "---------------\n",
      "benign    : 569\n",
      "malignant : 629\n",
      "-------------\n",
      "Loading data:\n",
      "-------------\n"
     ]
    },
    {
     "name": "stderr",
     "output_type": "stream",
     "text": [
      "1198it [00:49, 24.42it/s]\n"
     ]
    }
   ],
   "source": [
    "SEED = 7\n",
    "np.random.seed(SEED)\n",
    "\n",
    "DATA_DIR = '/Users/jnarhan/Projects/CUNY_698/Docker-Shared/Data_Diff_Images/ALL_IMGS/'\n",
    "meta_file = DATA_DIR + 'update_meta_2ClassLesions.csv'\n",
    "PATHO_INX = 4   # Column number of Pathology in meta_file\n",
    "FILE_INX = 1    # Column number of File name in meta_file\n",
    "\n",
    "meta_data, cls_cnts = bc.load_meta(meta_file, patho_idx=PATHO_INX, file_idx=FILE_INX,\n",
    "                                   balanceByRemoval=True, verbose=True)\n",
    "\n",
    "bc.pprint('Loading data:')\n",
    "cats = bc.bcNumerics2ClassLesions()\n",
    "\n",
    "# For smaller images supply tuple argument for a parameter 'imgResize':\n",
    "X_data, Y_data = bc.load_data(meta_data, DATA_DIR, cats, imgResize=(150,150)) \n"
   ]
  },
  {
   "cell_type": "markdown",
   "metadata": {},
   "source": [
    "**Create the Training and Test Datasets**"
   ]
  },
  {
   "cell_type": "code",
   "execution_count": 4,
   "metadata": {},
   "outputs": [
    {
     "name": "stdout",
     "output_type": "stream",
     "text": [
      "Size of X_train:   898\n",
      "Size of X_test:   300\n",
      "Size of Y_train:   898\n",
      "Size of Y_test:   300\n",
      "(898, 150, 150)\n",
      "(300, 150, 150)\n",
      "(898, 1)\n",
      "(300, 1)\n"
     ]
    }
   ],
   "source": [
    "X_train, X_test, Y_train, Y_test = train_test_split(X_data, Y_data,\n",
    "                                                    test_size=0.25,\n",
    "                                                    random_state=SEED,\n",
    "                                                    stratify=zip(*Y_data)[0])\n",
    "\n",
    "print 'Size of X_train: {:>5}'.format(len(X_train))\n",
    "print 'Size of X_test: {:>5}'.format(len(X_test))\n",
    "print 'Size of Y_train: {:>5}'.format(len(Y_train))\n",
    "print 'Size of Y_test: {:>5}'.format(len(Y_test))\n",
    "\n",
    "print X_train.shape\n",
    "print X_test.shape\n",
    "print Y_train.shape\n",
    "print Y_test.shape\n",
    "\n",
    "data = [X_train, X_test, Y_train, Y_test]"
   ]
  },
  {
   "cell_type": "markdown",
   "metadata": {},
   "source": [
    "<h2>Support Vector Machine Model</h2>"
   ]
  },
  {
   "cell_type": "code",
   "execution_count": 5,
   "metadata": {
    "collapsed": true
   },
   "outputs": [],
   "source": [
    "X_train_svm = X_train.reshape( (X_train.shape[0], -1)) \n",
    "X_test_svm  = X_test.reshape( (X_test.shape[0], -1))"
   ]
  },
  {
   "cell_type": "code",
   "execution_count": 6,
   "metadata": {},
   "outputs": [
    {
     "name": "stderr",
     "output_type": "stream",
     "text": [
      "/Users/jnarhan/miniconda2/envs/bc_venv/lib/python2.7/site-packages/sklearn/utils/validation.py:526: DataConversionWarning: A column-vector y was passed when a 1d array was expected. Please change the shape of y to (n_samples, ), for example using ravel().\n",
      "  y = column_or_1d(y, warn=True)\n"
     ]
    },
    {
     "data": {
      "text/plain": [
       "SVC(C=1.0, cache_size=200, class_weight=None, coef0=0.0,\n",
       "  decision_function_shape=None, degree=3, gamma=0.001, kernel='rbf',\n",
       "  max_iter=-1, probability=False, random_state=None, shrinking=True,\n",
       "  tol=0.001, verbose=False)"
      ]
     },
     "execution_count": 6,
     "metadata": {},
     "output_type": "execute_result"
    }
   ],
   "source": [
    "SVM_model = SVC(gamma=0.001)\n",
    "SVM_model.fit( X_train_svm, Y_train)"
   ]
  },
  {
   "cell_type": "code",
   "execution_count": 7,
   "metadata": {},
   "outputs": [
    {
     "name": "stdout",
     "output_type": "stream",
     "text": [
      "SVM Accuracy:   65.33%\n",
      "SVM Error:      34.67%\n"
     ]
    }
   ],
   "source": [
    "predictOutput = SVM_model.predict(X_test_svm)\n",
    "svm_acc = metrics.accuracy_score(y_true=Y_test, y_pred=predictOutput)\n",
    "\n",
    "print 'SVM Accuracy: {: >7.2f}%'.format(svm_acc * 100)\n",
    "print 'SVM Error: {: >10.2f}%'.format(100 - svm_acc * 100)"
   ]
  },
  {
   "cell_type": "code",
   "execution_count": 8,
   "metadata": {},
   "outputs": [
    {
     "name": "stdout",
     "output_type": "stream",
     "text": [
      "Normalized confusion matrix\n",
      "[[ 0.56  0.44]\n",
      " [ 0.26  0.74]]\n"
     ]
    },
    {
     "data": {
      "image/png": "[encoded data removed]",
      "text/plain": [
       "<matplotlib.figure.Figure at 0x122d06ad0>"
      ]
     },
     "metadata": {},
     "output_type": "display_data"
    }
   ],
   "source": [
    "svm_matrix = skm.confusion_matrix(y_true=Y_test, y_pred=predictOutput)\n",
    "numBC = bc.reverseDict(cats)\n",
    "class_names = numBC.values()\n",
    "\n",
    "plt.figure(figsize=(8,6))\n",
    "bc.plot_confusion_matrix(svm_matrix, classes=class_names, normalize=True, \n",
    "                         title='SVM Normalized Confusion Matrix Using Differencing \\n')\n",
    "plt.tight_layout()\n",
    "plt.savefig('./cm_figures/jn_SVM_2Class_Lesions_CM_20170509.png', dpi=100)"
   ]
  },
  {
   "cell_type": "markdown",
   "metadata": {},
   "source": [
    "<h2>CNN Modelling Using VGG16 in Transfer Learning</h2>"
   ]
  },
  {
   "cell_type": "code",
   "execution_count": 9,
   "metadata": {
    "collapsed": true
   },
   "outputs": [],
   "source": [
    "def VGG_Prep(img_data):\n",
    "    \"\"\"\n",
    "    :param img_data: training or test images of shape [#images, height, width]\n",
    "    :return: the array transformed to the correct shape for the VGG network\n",
    "                shape = [#images, height, width, 3] transforms to rgb and reshapes\n",
    "    \"\"\"\n",
    "    images = np.zeros([len(img_data), img_data.shape[1], img_data.shape[2], 3])\n",
    "    for i in range(0, len(img_data)):\n",
    "        im = (img_data[i] * 255)        # Original imagenet images were not rescaled\n",
    "        im = color.gray2rgb(im)\n",
    "        images[i] = im\n",
    "    return(images)"
   ]
  },
  {
   "cell_type": "code",
   "execution_count": 10,
   "metadata": {
    "collapsed": true
   },
   "outputs": [],
   "source": [
    "def vgg16_bottleneck(data, modelPath, fn_train_feats, fn_train_lbls, fn_test_feats, fn_test_lbls):\n",
    "    # Loading data\n",
    "    X_train, X_test, Y_train, Y_test = data\n",
    "    \n",
    "    print('Preparing the Training Data for the VGG_16 Model.')\n",
    "    X_train = VGG_Prep(X_train)\n",
    "    print('Preparing the Test Data for the VGG_16 Model')\n",
    "    X_test = VGG_Prep(X_test)\n",
    "        \n",
    "    print('Loading the VGG_16 Model')\n",
    "    # \"model\" excludes top layer of VGG16:\n",
    "    model = applications.VGG16(include_top=False, weights='imagenet') \n",
    "        \n",
    "    # Generating the bottleneck features for the training data\n",
    "    print('Evaluating the VGG_16 Model on the Training Data')\n",
    "    bottleneck_features_train = model.predict(X_train)\n",
    "    \n",
    "    # Saving the bottleneck features for the training data\n",
    "    featuresTrain = os.path.join(modelPath, fn_train_feats)\n",
    "    labelsTrain = os.path.join(modelPath, fn_train_lbls)\n",
    "    print('Saving the Training Data Bottleneck Features.')\n",
    "    np.save(open(featuresTrain, 'wb'), bottleneck_features_train)\n",
    "    np.save(open(labelsTrain, 'wb'), Y_train)\n",
    "\n",
    "    # Generating the bottleneck features for the test data\n",
    "    print('Evaluating the VGG_16 Model on the Test Data')\n",
    "    bottleneck_features_test = model.predict(X_test)\n",
    "    \n",
    "    # Saving the bottleneck features for the test data\n",
    "    featuresTest = os.path.join(modelPath, fn_test_feats)\n",
    "    labelsTest = os.path.join(modelPath, fn_test_lbls)\n",
    "    print('Saving the Test Data Bottleneck Feaures.')\n",
    "    np.save(open(featuresTest, 'wb'), bottleneck_features_test)\n",
    "    np.save(open(labelsTest, 'wb'), Y_test)"
   ]
  },
  {
   "cell_type": "code",
   "execution_count": 11,
   "metadata": {},
   "outputs": [
    {
     "name": "stdout",
     "output_type": "stream",
     "text": [
      "Preparing the Training Data for the VGG_16 Model.\n",
      "Preparing the Test Data for the VGG_16 Model\n",
      "Loading the VGG_16 Model\n",
      "Evaluating the VGG_16 Model on the Training Data\n",
      "Saving the Training Data Bottleneck Features.\n",
      "Evaluating the VGG_16 Model on the Test Data\n",
      "Saving the Test Data Bottleneck Feaures.\n"
     ]
    }
   ],
   "source": [
    "# Locations for the bottleneck and labels files that we need\n",
    "train_bottleneck = '2Class_Lesions_VGG16_bottleneck_features_train.npy'\n",
    "train_labels     = '2Class_Lesions_VGG16_labels_train.npy'\n",
    "test_bottleneck  = '2Class_Lesions_VGG16_bottleneck_features_test.npy'\n",
    "test_labels      = '2Class_Lesions_VGG16_labels_test.npy'\n",
    "modelPath = os.getcwd()\n",
    "\n",
    "top_model_weights_path = './weights/'\n",
    "\n",
    "np.random.seed(SEED)\n",
    "vgg16_bottleneck(data, modelPath, train_bottleneck, train_labels, test_bottleneck, test_labels)"
   ]
  },
  {
   "cell_type": "code",
   "execution_count": 12,
   "metadata": {
    "collapsed": true
   },
   "outputs": [],
   "source": [
    "def train_top_model(train_feats, train_lab, test_feats, test_lab, model_path, model_save, epoch = 50, batch = 64):\n",
    "    start_time = time.time()\n",
    "    \n",
    "    train_bottleneck = os.path.join(model_path, train_feats)\n",
    "    train_labels = os.path.join(model_path, train_lab)\n",
    "    test_bottleneck = os.path.join(model_path, test_feats)\n",
    "    test_labels = os.path.join(model_path, test_lab)\n",
    "    \n",
    "    history = bc.LossHistory()\n",
    "    \n",
    "    X_train = np.load(train_bottleneck)\n",
    "    Y_train = np.load(train_labels)\n",
    "    Y_train = np_utils.to_categorical(Y_train, num_classes=2)\n",
    "    \n",
    "    X_test = np.load(test_bottleneck)\n",
    "    Y_test = np.load(test_labels)\n",
    "    Y_test = np_utils.to_categorical(Y_test, num_classes=2)\n",
    "\n",
    "    model = Sequential()\n",
    "    model.add(Flatten(input_shape=X_train.shape[1:]))\n",
    "    model.add( Dropout(0.7))\n",
    "    \n",
    "    model.add( Dense(256, activation='relu', kernel_constraint= maxnorm(3.)) )\n",
    "    model.add( Dropout(0.5))\n",
    "    \n",
    "    # Softmax for probabilities for each class at the output layer\n",
    "    model.add( Dense(2, activation='softmax'))\n",
    "    \n",
    "    model.compile(optimizer='rmsprop',  # adadelta\n",
    "                  loss='binary_crossentropy', \n",
    "                  metrics=['accuracy'])\n",
    "\n",
    "    model.fit(X_train, Y_train,\n",
    "              epochs=epoch,\n",
    "              batch_size=batch,\n",
    "              callbacks=[history],\n",
    "              validation_data=(X_test, Y_test),\n",
    "              verbose=2)\n",
    "    \n",
    "    print \"Training duration : {0}\".format(time.time() - start_time)\n",
    "    score = model.evaluate(X_test, Y_test, batch_size=16, verbose=2)\n",
    "\n",
    "    print \"Network's test score [loss, accuracy]: {0}\".format(score)\n",
    "    print 'CNN Error: {:.2f}%'.format(100 - score[1] * 100)\n",
    "    \n",
    "    bc.save_model(model_save, model, \"jn_VGG16_2Class_Lesions_top_weights.h5\")\n",
    "    \n",
    "    return model, history.losses, history.acc, score"
   ]
  },
  {
   "cell_type": "code",
   "execution_count": 13,
   "metadata": {},
   "outputs": [
    {
     "name": "stdout",
     "output_type": "stream",
     "text": [
      "Train on 898 samples, validate on 300 samples\n",
      "Epoch 1/100\n",
      "0s - loss: 5.7257 - acc: 0.5802 - val_loss: 4.9840 - val_acc: 0.6433\n",
      "Epoch 2/100\n",
      "0s - loss: 4.7922 - acc: 0.6559 - val_loss: 5.0777 - val_acc: 0.6467\n",
      "Epoch 3/100\n",
      "0s - loss: 4.6939 - acc: 0.6637 - val_loss: 4.5395 - val_acc: 0.6600\n",
      "Epoch 4/100\n",
      "0s - loss: 4.3267 - acc: 0.6771 - val_loss: 4.4538 - val_acc: 0.6900\n",
      "Epoch 5/100\n",
      "0s - loss: 4.2836 - acc: 0.6915 - val_loss: 4.5240 - val_acc: 0.6767\n",
      "Epoch 6/100\n",
      "0s - loss: 4.2938 - acc: 0.6960 - val_loss: 5.4543 - val_acc: 0.6333\n",
      "Epoch 7/100\n",
      "0s - loss: 4.2235 - acc: 0.6971 - val_loss: 4.3918 - val_acc: 0.6767\n",
      "Epoch 8/100\n",
      "0s - loss: 4.0073 - acc: 0.7060 - val_loss: 4.0097 - val_acc: 0.6867\n",
      "Epoch 9/100\n",
      "0s - loss: 3.8793 - acc: 0.7127 - val_loss: 4.2423 - val_acc: 0.6867\n",
      "Epoch 10/100\n",
      "0s - loss: 3.9231 - acc: 0.7049 - val_loss: 4.6866 - val_acc: 0.6600\n",
      "Epoch 11/100\n",
      "0s - loss: 3.7725 - acc: 0.7327 - val_loss: 4.2841 - val_acc: 0.7033\n",
      "Epoch 12/100\n",
      "0s - loss: 4.2963 - acc: 0.6837 - val_loss: 4.1656 - val_acc: 0.6800\n",
      "Epoch 13/100\n",
      "0s - loss: 3.8326 - acc: 0.7116 - val_loss: 4.2541 - val_acc: 0.6767\n",
      "Epoch 14/100\n",
      "0s - loss: 3.9058 - acc: 0.7094 - val_loss: 5.2521 - val_acc: 0.6100\n",
      "Epoch 15/100\n",
      "0s - loss: 3.7256 - acc: 0.7272 - val_loss: 4.3803 - val_acc: 0.6433\n",
      "Epoch 16/100\n",
      "0s - loss: 3.7653 - acc: 0.7205 - val_loss: 4.1732 - val_acc: 0.6867\n",
      "Epoch 17/100\n",
      "0s - loss: 3.2587 - acc: 0.7405 - val_loss: 4.1637 - val_acc: 0.6900\n",
      "Epoch 18/100\n",
      "0s - loss: 3.8329 - acc: 0.7082 - val_loss: 4.1490 - val_acc: 0.6667\n",
      "Epoch 19/100\n",
      "0s - loss: 3.4162 - acc: 0.7283 - val_loss: 3.6542 - val_acc: 0.6800\n",
      "Epoch 20/100\n",
      "0s - loss: 3.3771 - acc: 0.7361 - val_loss: 3.3713 - val_acc: 0.7100\n",
      "Epoch 21/100\n",
      "0s - loss: 3.2093 - acc: 0.7439 - val_loss: 5.2557 - val_acc: 0.5667\n",
      "Epoch 22/100\n",
      "0s - loss: 3.1932 - acc: 0.7327 - val_loss: 3.1134 - val_acc: 0.7000\n",
      "Epoch 23/100\n",
      "0s - loss: 3.1329 - acc: 0.7105 - val_loss: 2.8336 - val_acc: 0.7000\n",
      "Epoch 24/100\n",
      "0s - loss: 2.5579 - acc: 0.7550 - val_loss: 2.1236 - val_acc: 0.7033\n",
      "Epoch 25/100\n",
      "0s - loss: 2.0367 - acc: 0.7639 - val_loss: 1.6313 - val_acc: 0.7067\n",
      "Epoch 26/100\n",
      "0s - loss: 1.7685 - acc: 0.7661 - val_loss: 1.4472 - val_acc: 0.6767\n",
      "Epoch 27/100\n",
      "0s - loss: 1.3452 - acc: 0.7751 - val_loss: 0.7914 - val_acc: 0.6800\n",
      "Epoch 28/100\n",
      "0s - loss: 0.9736 - acc: 0.7639 - val_loss: 0.7736 - val_acc: 0.6500\n",
      "Epoch 29/100\n",
      "0s - loss: 0.8782 - acc: 0.7717 - val_loss: 0.6678 - val_acc: 0.6700\n",
      "Epoch 30/100\n",
      "0s - loss: 0.7447 - acc: 0.7684 - val_loss: 0.7188 - val_acc: 0.6733\n",
      "Epoch 31/100\n",
      "0s - loss: 0.7243 - acc: 0.7717 - val_loss: 0.7016 - val_acc: 0.6667\n",
      "Epoch 32/100\n",
      "0s - loss: 0.6604 - acc: 0.7762 - val_loss: 0.6843 - val_acc: 0.6667\n",
      "Epoch 33/100\n",
      "0s - loss: 0.6413 - acc: 0.7851 - val_loss: 0.6751 - val_acc: 0.7100\n",
      "Epoch 34/100\n",
      "0s - loss: 0.5944 - acc: 0.7873 - val_loss: 0.8923 - val_acc: 0.6267\n",
      "Epoch 35/100\n",
      "0s - loss: 0.6450 - acc: 0.8018 - val_loss: 0.7213 - val_acc: 0.6233\n",
      "Epoch 36/100\n",
      "0s - loss: 0.6776 - acc: 0.7784 - val_loss: 0.7219 - val_acc: 0.6767\n",
      "Epoch 37/100\n",
      "0s - loss: 0.5707 - acc: 0.8118 - val_loss: 0.6591 - val_acc: 0.6900\n",
      "Epoch 38/100\n",
      "0s - loss: 0.6007 - acc: 0.8029 - val_loss: 0.6647 - val_acc: 0.6700\n",
      "Epoch 39/100\n",
      "0s - loss: 0.6556 - acc: 0.7817 - val_loss: 0.6260 - val_acc: 0.7133\n",
      "Epoch 40/100\n",
      "0s - loss: 0.5616 - acc: 0.7984 - val_loss: 0.6438 - val_acc: 0.6900\n",
      "Epoch 41/100\n",
      "0s - loss: 0.5681 - acc: 0.7996 - val_loss: 0.7280 - val_acc: 0.7000\n",
      "Epoch 42/100\n",
      "0s - loss: 0.5386 - acc: 0.8229 - val_loss: 0.7599 - val_acc: 0.7000\n",
      "Epoch 43/100\n",
      "0s - loss: 0.5390 - acc: 0.8151 - val_loss: 0.7897 - val_acc: 0.6933\n",
      "Epoch 44/100\n",
      "0s - loss: 0.5358 - acc: 0.8274 - val_loss: 0.7140 - val_acc: 0.7100\n",
      "Epoch 45/100\n",
      "0s - loss: 0.4717 - acc: 0.8318 - val_loss: 0.7595 - val_acc: 0.7033\n",
      "Epoch 46/100\n",
      "0s - loss: 0.5091 - acc: 0.8374 - val_loss: 0.8815 - val_acc: 0.7133\n",
      "Epoch 47/100\n",
      "0s - loss: 0.5599 - acc: 0.8196 - val_loss: 0.8110 - val_acc: 0.6900\n",
      "Epoch 48/100\n",
      "0s - loss: 0.4316 - acc: 0.8486 - val_loss: 0.8181 - val_acc: 0.6933\n",
      "Epoch 49/100\n",
      "0s - loss: 0.4415 - acc: 0.8374 - val_loss: 0.9296 - val_acc: 0.6800\n",
      "Epoch 50/100\n",
      "0s - loss: 0.5086 - acc: 0.8318 - val_loss: 0.8167 - val_acc: 0.7067\n",
      "Epoch 51/100\n",
      "0s - loss: 0.5314 - acc: 0.8263 - val_loss: 0.8580 - val_acc: 0.6667\n",
      "Epoch 52/100\n",
      "0s - loss: 0.4635 - acc: 0.8452 - val_loss: 0.7975 - val_acc: 0.7067\n",
      "Epoch 53/100\n",
      "0s - loss: 0.4552 - acc: 0.8396 - val_loss: 0.8028 - val_acc: 0.7033\n",
      "Epoch 54/100\n",
      "0s - loss: 0.4041 - acc: 0.8519 - val_loss: 0.8231 - val_acc: 0.6900\n",
      "Epoch 55/100\n",
      "0s - loss: 0.5095 - acc: 0.8330 - val_loss: 0.8067 - val_acc: 0.7100\n",
      "Epoch 56/100\n",
      "0s - loss: 0.4053 - acc: 0.8441 - val_loss: 0.7815 - val_acc: 0.7200\n",
      "Epoch 57/100\n",
      "0s - loss: 0.4244 - acc: 0.8708 - val_loss: 0.9204 - val_acc: 0.7000\n",
      "Epoch 58/100\n",
      "0s - loss: 0.3964 - acc: 0.8753 - val_loss: 0.8175 - val_acc: 0.6700\n",
      "Epoch 59/100\n",
      "0s - loss: 0.4045 - acc: 0.8608 - val_loss: 0.9733 - val_acc: 0.6833\n",
      "Epoch 60/100\n",
      "0s - loss: 0.4277 - acc: 0.8842 - val_loss: 0.8779 - val_acc: 0.6967\n",
      "Epoch 61/100\n",
      "0s - loss: 0.3723 - acc: 0.8731 - val_loss: 0.8723 - val_acc: 0.7267\n",
      "Epoch 62/100\n",
      "0s - loss: 0.4416 - acc: 0.8563 - val_loss: 0.8873 - val_acc: 0.6967\n",
      "Epoch 63/100\n",
      "0s - loss: 0.3937 - acc: 0.8597 - val_loss: 0.7805 - val_acc: 0.7267\n",
      "Epoch 64/100\n",
      "0s - loss: 0.3604 - acc: 0.8641 - val_loss: 0.8489 - val_acc: 0.6933\n",
      "Epoch 65/100\n",
      "0s - loss: 0.2958 - acc: 0.8953 - val_loss: 0.9333 - val_acc: 0.6933\n",
      "Epoch 66/100\n",
      "0s - loss: 0.3131 - acc: 0.8898 - val_loss: 1.1926 - val_acc: 0.6867\n",
      "Epoch 67/100\n",
      "0s - loss: 0.3736 - acc: 0.8853 - val_loss: 1.0332 - val_acc: 0.6633\n",
      "Epoch 68/100\n",
      "0s - loss: 0.3303 - acc: 0.8697 - val_loss: 1.1340 - val_acc: 0.7000\n",
      "Epoch 69/100\n",
      "0s - loss: 0.3794 - acc: 0.8742 - val_loss: 0.9343 - val_acc: 0.6900\n",
      "Epoch 70/100\n",
      "0s - loss: 0.3280 - acc: 0.8964 - val_loss: 0.9397 - val_acc: 0.7067\n",
      "Epoch 71/100\n",
      "0s - loss: 0.3348 - acc: 0.8976 - val_loss: 0.9672 - val_acc: 0.7100\n",
      "Epoch 72/100\n",
      "0s - loss: 0.3614 - acc: 0.8786 - val_loss: 0.8828 - val_acc: 0.7333\n",
      "Epoch 73/100\n",
      "0s - loss: 0.3062 - acc: 0.9042 - val_loss: 0.9864 - val_acc: 0.7167\n",
      "Epoch 74/100\n",
      "0s - loss: 0.2945 - acc: 0.8987 - val_loss: 0.9705 - val_acc: 0.7033\n",
      "Epoch 75/100\n",
      "0s - loss: 0.3463 - acc: 0.8842 - val_loss: 0.9695 - val_acc: 0.6900\n",
      "Epoch 76/100\n",
      "0s - loss: 0.2695 - acc: 0.9009 - val_loss: 1.0622 - val_acc: 0.6900\n",
      "Epoch 77/100\n",
      "0s - loss: 0.3339 - acc: 0.8898 - val_loss: 1.0089 - val_acc: 0.6900\n",
      "Epoch 78/100\n",
      "0s - loss: 0.3366 - acc: 0.8931 - val_loss: 0.9124 - val_acc: 0.7100\n",
      "Epoch 79/100\n",
      "0s - loss: 0.4256 - acc: 0.8842 - val_loss: 0.8880 - val_acc: 0.7000\n",
      "Epoch 80/100\n",
      "0s - loss: 0.2860 - acc: 0.8909 - val_loss: 0.8967 - val_acc: 0.6967\n",
      "Epoch 81/100\n",
      "0s - loss: 0.3109 - acc: 0.9009 - val_loss: 1.0720 - val_acc: 0.6900\n",
      "Epoch 82/100\n",
      "0s - loss: 0.3199 - acc: 0.8942 - val_loss: 0.9429 - val_acc: 0.6967\n",
      "Epoch 83/100\n",
      "0s - loss: 0.2427 - acc: 0.9020 - val_loss: 1.0019 - val_acc: 0.7067\n",
      "Epoch 84/100\n",
      "0s - loss: 0.2726 - acc: 0.9209 - val_loss: 1.1446 - val_acc: 0.6933\n",
      "Epoch 85/100\n",
      "0s - loss: 0.3157 - acc: 0.9020 - val_loss: 0.9881 - val_acc: 0.7100\n",
      "Epoch 86/100\n",
      "0s - loss: 0.3012 - acc: 0.9065 - val_loss: 0.9702 - val_acc: 0.7067\n",
      "Epoch 87/100\n",
      "0s - loss: 0.2958 - acc: 0.9031 - val_loss: 0.9465 - val_acc: 0.7267\n",
      "Epoch 88/100\n",
      "0s - loss: 0.2383 - acc: 0.9109 - val_loss: 1.1415 - val_acc: 0.6900\n",
      "Epoch 89/100\n",
      "0s - loss: 0.3041 - acc: 0.8942 - val_loss: 1.3401 - val_acc: 0.6900\n",
      "Epoch 90/100\n",
      "0s - loss: 0.2583 - acc: 0.9232 - val_loss: 1.1902 - val_acc: 0.6867\n",
      "Epoch 91/100\n",
      "0s - loss: 0.2738 - acc: 0.9276 - val_loss: 1.1885 - val_acc: 0.7000\n",
      "Epoch 92/100\n",
      "0s - loss: 0.2540 - acc: 0.9154 - val_loss: 1.1292 - val_acc: 0.6800\n",
      "Epoch 93/100\n",
      "0s - loss: 0.2375 - acc: 0.9354 - val_loss: 1.1572 - val_acc: 0.7067\n",
      "Epoch 94/100\n",
      "0s - loss: 0.2754 - acc: 0.8998 - val_loss: 0.9968 - val_acc: 0.6967\n",
      "Epoch 95/100\n",
      "0s - loss: 0.3373 - acc: 0.9053 - val_loss: 1.0565 - val_acc: 0.7100\n",
      "Epoch 96/100\n",
      "0s - loss: 0.2927 - acc: 0.8820 - val_loss: 1.0882 - val_acc: 0.6933\n",
      "Epoch 97/100\n",
      "0s - loss: 0.2003 - acc: 0.9265 - val_loss: 1.2791 - val_acc: 0.6900\n",
      "Epoch 98/100\n",
      "0s - loss: 0.2505 - acc: 0.9209 - val_loss: 1.1805 - val_acc: 0.6933\n",
      "Epoch 99/100\n",
      "0s - loss: 0.2512 - acc: 0.9109 - val_loss: 1.1492 - val_acc: 0.6933\n",
      "Epoch 100/100\n",
      "0s - loss: 0.2172 - acc: 0.9298 - val_loss: 1.2729 - val_acc: 0.6967\n",
      "Training duration : 74.1112039089\n",
      "Network's test score [loss, accuracy]: [1.2729274813334148, 0.6966666662693024]\n",
      "CNN Error: 30.33%\n",
      "Model and Weights Saved to Disk\n"
     ]
    },
    {
     "data": {
      "text/plain": [
       "<matplotlib.figure.Figure at 0x11f645c50>"
      ]
     },
     "metadata": {},
     "output_type": "display_data"
    },
    {
     "data": {
      "image/png": "[encoded data removed]",
      "text/plain": [
       "<matplotlib.figure.Figure at 0x11dcff2d0>"
      ]
     },
     "metadata": {},
     "output_type": "display_data"
    }
   ],
   "source": [
    "np.random.seed(SEED)\n",
    "(trans_model, loss_cnn, acc_cnn, test_score_cnn) = train_top_model(train_feats=train_bottleneck,\n",
    "                                                                   train_lab=train_labels, \n",
    "                                                                   test_feats=test_bottleneck, \n",
    "                                                                   test_lab=test_labels,\n",
    "                                                                   model_path=modelPath, \n",
    "                                                                   model_save=top_model_weights_path,\n",
    "                                                                   epoch=100)\n",
    "plt.figure(figsize=(10,10))\n",
    "bc.plot_losses(loss_cnn, acc_cnn)\n",
    "plt.savefig('./epoch_figures/jn_Transfer_2Class_Lesions_Learning_20170509.png', dpi=100)"
   ]
  },
  {
   "cell_type": "code",
   "execution_count": 14,
   "metadata": {},
   "outputs": [
    {
     "name": "stdout",
     "output_type": "stream",
     "text": [
      "Transfer Learning CNN Accuracy:   69.67%\n",
      "Transfer Learning CNN Error:      30.33%\n",
      "Normalized confusion matrix\n",
      "[[ 0.51  0.49]\n",
      " [ 0.14  0.86]]\n"
     ]
    },
    {
     "data": {
      "image/png": "[encoded data removed]",
      "text/plain": [
       "<matplotlib.figure.Figure at 0x122847e50>"
      ]
     },
     "metadata": {},
     "output_type": "display_data"
    }
   ],
   "source": [
    "print 'Transfer Learning CNN Accuracy: {: >7.2f}%'.format(test_score_cnn[1] * 100)\n",
    "print 'Transfer Learning CNN Error: {: >10.2f}%'.format(100 - test_score_cnn[1] * 100)\n",
    "\n",
    "predictOutput = bc.predict(trans_model, np.load(test_bottleneck))\n",
    "trans_matrix = skm.confusion_matrix(y_true=Y_test, y_pred=predictOutput)\n",
    "\n",
    "plt.figure(figsize=(8,6))\n",
    "bc.plot_confusion_matrix(trans_matrix, classes=class_names, normalize=True,\n",
    "                         title='Transfer CNN Normalized Confusion Matrix Using Differencing \\n')\n",
    "plt.tight_layout()\n",
    "plt.savefig('./cm_figures/jn_Transfer_2Class_Lesions_CM_20170509.png', dpi=100)"
   ]
  },
  {
   "cell_type": "code",
   "execution_count": null,
   "metadata": {
    "collapsed": true
   },
   "outputs": [],
   "source": []
  }
 ],
 "metadata": {
  "kernelspec": {
   "display_name": "Python 2",
   "language": "python",
   "name": "python2"
  },
  "language_info": {
   "codemirror_mode": {
    "name": "ipython",
    "version": 2
   },
   "file_extension": ".py",
   "mimetype": "text/x-python",
   "name": "python",
   "nbconvert_exporter": "python",
   "pygments_lexer": "ipython2",
   "version": "2.7.13"
  }
 },
 "nbformat": 4,
 "nbformat_minor": 2
}
