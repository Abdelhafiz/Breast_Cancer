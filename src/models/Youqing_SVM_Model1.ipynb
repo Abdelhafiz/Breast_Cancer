{
 "cells": [
  {
   "cell_type": "code",
   "execution_count": 2,
   "metadata": {
    "collapsed": false
   },
   "outputs": [],
   "source": [
    "import datetime\n",
    "import gc\n",
    "import numpy as np\n",
    "import os\n",
    "import random\n",
    "from scipy import misc\n",
    "import string\n",
    "import time\n",
    "import sys\n",
    "import sklearn.metrics as skm\n",
    "import collections\n",
    "from sklearn.svm import SVC\n",
    "import matplotlib\n",
    "matplotlib.use('Agg')\n",
    "from matplotlib import pyplot as plt\n",
    "from sklearn import metrics\n",
    "import dwdii_bc_model_helper as bc\n",
    "\n",
    "random.seed(20275)\n",
    "np.set_printoptions(precision=2)"
   ]
  },
  {
   "cell_type": "code",
   "execution_count": 3,
   "metadata": {
    "collapsed": true
   },
   "outputs": [],
   "source": [
    "imagePath = \"png\"\n",
    "#imagePath = \"/root/bc_data/Data_Thresholded/DDSM\"\n",
    "trainDataPath = \"data/ddsm_train.csv\"\n",
    "testDataPath = \"data/ddsm_test.csv\"\n",
    "imgResize = (150, 150)"
   ]
  },
  {
   "cell_type": "code",
   "execution_count": 4,
   "metadata": {
    "collapsed": false
   },
   "outputs": [
    {
     "data": {
      "text/plain": [
       "['ddsm_test.csv', 'ddsm_train.csv', 'ddsm_val.csv', 'mias_all.csv']"
      ]
     },
     "execution_count": 4,
     "metadata": {},
     "output_type": "execute_result"
    }
   ],
   "source": [
    "os.listdir('data')"
   ]
  },
  {
   "cell_type": "code",
   "execution_count": 5,
   "metadata": {
    "collapsed": false
   },
   "outputs": [
    {
     "name": "stdout",
     "output_type": "stream",
     "text": [
      "Raw Balance\n",
      "----------------\n",
      "benign 531\n",
      "malignant 739\n",
      "normal 2685\n",
      "balanaceViaRemoval.avgE: 1318\n",
      "balanaceViaRemoval.theshold: 1318.0\n",
      "\n",
      "After Balancing\n",
      "----------------\n",
      "benign 531\n",
      "malignant 739\n",
      "normal 862\n"
     ]
    }
   ],
   "source": [
    "metaData, meta2, mCounts = bc.load_training_metadata(trainDataPath, balanceViaRemoval=True, verbose=True)"
   ]
  },
  {
   "cell_type": "code",
   "execution_count": 6,
   "metadata": {
    "collapsed": false
   },
   "outputs": [
    {
     "name": "stdout",
     "output_type": "stream",
     "text": [
      "Raw Balance\n",
      "----------------\n",
      "benign 531\n",
      "malignant 739\n",
      "normal 2685\n",
      "balanaceViaRemoval.avgE: 1318\n",
      "balanaceViaRemoval.theshold: 1318.0\n",
      "\n",
      "After Balancing\n",
      "----------------\n",
      "benign 531\n",
      "malignant 739\n",
      "normal 862\n"
     ]
    },
    {
     "name": "stderr",
     "output_type": "stream",
     "text": [
      "dwdii_bc_model_helper.py:162: VisibleDeprecationWarning: using a non-integer number instead of an integer will result in an error in the future\n",
      "  Y_data = np.zeros([total, 1], dtype=np.int8)\n"
     ]
    },
    {
     "name": "stdout",
     "output_type": "stream",
     "text": [
      "0.0000: A_1058_1.LEFT_MLO.LJPEG.png\n",
      "0.0235: B_3422_1.RIGHT_MLO.LJPEG.png\n",
      "0.0469: A_0578_1.RIGHT_MLO.LJPEG.png\n",
      "0.0704: C_0363_1.RIGHT_MLO.LJPEG.png\n",
      "0.0938: B_3393_1.LEFT_MLO.LJPEG.png\n",
      "0.1173: C_0192_1.RIGHT_CC.LJPEG.png\n",
      "0.1407: B_3025_1.LEFT_CC.LJPEG.png\n",
      "0.1642: A_0313_1.RIGHT_CC.LJPEG.png\n",
      "0.1876: B_3010_1.RIGHT_MLO.LJPEG.png\n",
      "0.2111: C_0397_1.LEFT_CC.LJPEG.png\n",
      "0.2345: A_1082_1.RIGHT_MLO.LJPEG.png\n",
      "0.2580: C_0190_1.RIGHT_CC.LJPEG.png\n",
      "0.2814: C_0275_1.LEFT_CC.LJPEG.png\n",
      "0.3049: C_0367_1.RIGHT_MLO.LJPEG.png\n",
      "0.3283: C_0370_1.LEFT_CC.LJPEG.png\n",
      "0.3518: A_0589_1.RIGHT_CC.LJPEG.png\n",
      "0.3752: A_0522_1.RIGHT_MLO.LJPEG.png\n",
      "0.3987: B_3509_1.LEFT_CC.LJPEG.png\n",
      "0.4221: A_0510_1.LEFT_CC.LJPEG.png\n",
      "0.4456: C_0174_1.RIGHT_CC.LJPEG.png\n",
      "0.4690: A_1007_1.RIGHT_MLO.LJPEG.png\n",
      "0.4925: A_0569_1.RIGHT_MLO.LJPEG.png\n",
      "0.5159: C_0022_1.RIGHT_CC.LJPEG.png\n",
      "0.5394: C_0488_1.LEFT_CC.LJPEG.png\n",
      "0.5629: A_0574_1.RIGHT_MLO.LJPEG.png\n",
      "0.5863: B_3012_1.RIGHT_CC.LJPEG.png\n",
      "0.6098: B_3110_1.LEFT_CC.LJPEG.png\n",
      "0.6332: C_0101_1.RIGHT_MLO.LJPEG.png\n",
      "0.6567: A_1033_1.RIGHT_MLO.LJPEG.png\n",
      "0.6801: A_0562_1.LEFT_CC.LJPEG.png\n",
      "0.7036: B_3358_1.LEFT_CC.LJPEG.png\n",
      "0.7270: A_0158_1.LEFT_CC.LJPEG.png\n",
      "0.7505: A_0264_1.LEFT_CC.LJPEG.png\n",
      "0.7739: C_0102_1.LEFT_CC.LJPEG.png\n",
      "0.7974: B_3019_1.LEFT_MLO.LJPEG.png\n",
      "0.8208: A_0127_1.RIGHT_MLO.LJPEG.png\n",
      "0.8443: A_0464_1.LEFT_MLO.LJPEG.png\n",
      "0.8677: A_0119_1.LEFT_CC.LJPEG.png\n",
      "0.8912: A_0498_1.RIGHT_CC.LJPEG.png\n",
      "0.9146: A_0156_1.RIGHT_CC.LJPEG.png\n",
      "0.9381: B_3072_1.RIGHT_CC.LJPEG.png\n",
      "0.9615: C_0249_1.LEFT_MLO.LJPEG.png\n",
      "0.9850: A_0302_1.LEFT_CC.LJPEG.png\n",
      "(2132L, 150L, 150L)\n",
      "(2132L, 1L)\n"
     ]
    }
   ],
   "source": [
    "# Actually load some representative data for model experimentation\n",
    "maxData = len(metaData)\n",
    "X_data, Y_data = bc.load_data(trainDataPath, imagePath, maxData = maxData, verboseFreq = 50, imgResize=imgResize)\n",
    "print X_data.shape\n",
    "print Y_data.shape"
   ]
  },
  {
   "cell_type": "code",
   "execution_count": 7,
   "metadata": {
    "collapsed": false
   },
   "outputs": [
    {
     "name": "stdout",
     "output_type": "stream",
     "text": [
      "Raw Balance\n",
      "----------------\n",
      "benign 142\n",
      "malignant 179\n",
      "normal 658\n",
      "balanaceViaRemoval.avgE: 326\n",
      "balanaceViaRemoval.theshold: 326.0\n",
      "\n",
      "After Balancing\n",
      "----------------\n",
      "benign 142\n",
      "malignant 179\n",
      "normal 215\n",
      "0.0000: A_1105_1.RIGHT_CC.LJPEG.png\n",
      "0.0235: C_0320_1.LEFT_CC.LJPEG.png\n",
      "0.0469: A_1076_1.RIGHT_CC.LJPEG.png\n",
      "0.0704: B_3357_1.LEFT_CC.LJPEG.png\n",
      "0.0938: B_3504_1.RIGHT_MLO.LJPEG.png\n",
      "0.1173: C_0500_1.LEFT_CC.LJPEG.png\n",
      "0.1407: C_0166_1.RIGHT_CC.LJPEG.png\n",
      "0.1642: A_0498_1.LEFT_CC.LJPEG.png\n",
      "0.1876: A_0293_1.RIGHT_CC.LJPEG.png\n",
      "0.2111: A_1061_1.RIGHT_MLO.LJPEG.png\n",
      "0.2345: B_3133_1.RIGHT_MLO.LJPEG.png\n",
      "(536L, 150L, 150L)\n",
      "(536L, 1L)\n"
     ]
    }
   ],
   "source": [
    "# Actually load some representative data for model experimentation\n",
    "maxData = len(metaData)\n",
    "X_test, Y_test = bc.load_data(testDataPath, imagePath, maxData = maxData, verboseFreq = 50, imgResize=imgResize)\n",
    "print X_test.shape\n",
    "print Y_test.shape"
   ]
  },
  {
   "cell_type": "code",
   "execution_count": 8,
   "metadata": {
    "collapsed": true
   },
   "outputs": [],
   "source": [
    "X_train = X_data\n",
    "Y_train = Y_data"
   ]
  },
  {
   "cell_type": "code",
   "execution_count": 9,
   "metadata": {
    "collapsed": false
   },
   "outputs": [
    {
     "name": "stdout",
     "output_type": "stream",
     "text": [
      "(2132L, 150L, 150L)\n",
      "(536L, 150L, 150L)\n",
      "(2132L, 1L)\n",
      "(536L, 1L)\n"
     ]
    }
   ],
   "source": [
    "print X_train.shape\n",
    "print X_test.shape\n",
    "\n",
    "print Y_train.shape\n",
    "print Y_test.shape"
   ]
  },
  {
   "cell_type": "code",
   "execution_count": 10,
   "metadata": {
    "collapsed": false
   },
   "outputs": [
    {
     "name": "stdout",
     "output_type": "stream",
     "text": [
      "Y_train Dist: defaultdict(<type 'int'>, {0: 862, 1: 531, 2: 739})\n",
      "Y_test Dist: defaultdict(<type 'int'>, {0: 215, 1: 142, 2: 179})\n"
     ]
    }
   ],
   "source": [
    "def yDist(y):\n",
    "    bcCounts = collections.defaultdict(int)\n",
    "    for a in range(0, y.shape[0]):\n",
    "        bcCounts[y[a][0]] += 1\n",
    "    return bcCounts\n",
    "\n",
    "print \"Y_train Dist: \" + str(yDist(Y_train))\n",
    "print \"Y_test Dist: \" + str(yDist(Y_test))"
   ]
  },
  {
   "cell_type": "code",
   "execution_count": 11,
   "metadata": {
    "collapsed": false
   },
   "outputs": [
    {
     "name": "stdout",
     "output_type": "stream",
     "text": [
      "{'benign': 1, 'malignant': 2, 'normal': 0}\n",
      "3\n"
     ]
    }
   ],
   "source": [
    "# Load the bc array for our count in the model definition\n",
    "bcTypes = bc.bcNumerics()\n",
    "print bcTypes\n",
    "print len(bcTypes)"
   ]
  },
  {
   "cell_type": "code",
   "execution_count": 12,
   "metadata": {
    "collapsed": true
   },
   "outputs": [],
   "source": [
    "X_train_s = X_train.reshape((2132,-1))"
   ]
  },
  {
   "cell_type": "code",
   "execution_count": 13,
   "metadata": {
    "collapsed": true
   },
   "outputs": [],
   "source": [
    "X_test_s = X_test.reshape((536,-1))"
   ]
  },
  {
   "cell_type": "code",
   "execution_count": 14,
   "metadata": {
    "collapsed": true
   },
   "outputs": [],
   "source": [
    "model = SVC(gamma=0.001)"
   ]
  },
  {
   "cell_type": "code",
   "execution_count": 15,
   "metadata": {
    "collapsed": false
   },
   "outputs": [
    {
     "name": "stderr",
     "output_type": "stream",
     "text": [
      "C:\\Anaconda2\\lib\\site-packages\\sklearn\\svm\\base.py:514: DataConversionWarning: A column-vector y was passed when a 1d array was expected. Please change the shape of y to (n_samples, ), for example using ravel().\n",
      "  y_ = column_or_1d(y, warn=True)\n"
     ]
    },
    {
     "data": {
      "text/plain": [
       "SVC(C=1.0, cache_size=200, class_weight=None, coef0=0.0,\n",
       "  decision_function_shape=None, degree=3, gamma=0.001, kernel='rbf',\n",
       "  max_iter=-1, probability=False, random_state=None, shrinking=True,\n",
       "  tol=0.001, verbose=False)"
      ]
     },
     "execution_count": 15,
     "metadata": {},
     "output_type": "execute_result"
    }
   ],
   "source": [
    "model.fit(X_train_s,Y_train)"
   ]
  },
  {
   "cell_type": "code",
   "execution_count": 16,
   "metadata": {
    "collapsed": true
   },
   "outputs": [],
   "source": [
    "predicted = model.predict(X_test_s)\n",
    "expected = Y_test"
   ]
  },
  {
   "cell_type": "code",
   "execution_count": 17,
   "metadata": {
    "collapsed": false
   },
   "outputs": [
    {
     "data": {
      "text/plain": [
       "array([[113,  35,  67],\n",
       "       [ 14,  67,  61],\n",
       "       [ 46,  26, 107]])"
      ]
     },
     "execution_count": 17,
     "metadata": {},
     "output_type": "execute_result"
    }
   ],
   "source": [
    "svm_matrix = skm.confusion_matrix(Y_test, predicted)\n",
    "svm_matrix"
   ]
  },
  {
   "cell_type": "code",
   "execution_count": 19,
   "metadata": {
    "collapsed": false
   },
   "outputs": [
    {
     "name": "stdout",
     "output_type": "stream",
     "text": [
      "0.535447761194\n"
     ]
    }
   ],
   "source": [
    "print metrics.accuracy_score(expected,predicted)"
   ]
  },
  {
   "cell_type": "code",
   "execution_count": null,
   "metadata": {
    "collapsed": true
   },
   "outputs": [],
   "source": []
  }
 ],
 "metadata": {
  "kernelspec": {
   "display_name": "Python 2",
   "language": "python",
   "name": "python2"
  },
  "language_info": {
   "codemirror_mode": {
    "name": "ipython",
    "version": 2
   },
   "file_extension": ".py",
   "mimetype": "text/x-python",
   "name": "python",
   "nbconvert_exporter": "python",
   "pygments_lexer": "ipython2",
   "version": "2.7.13"
  }
 },
 "nbformat": 4,
 "nbformat_minor": 0
}
