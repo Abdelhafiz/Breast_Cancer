{
 "cells": [
  {
   "cell_type": "markdown",
   "metadata": {},
   "source": [
    "<hr>\n",
    "<h1>Detecting Abnormalities in Mammograms Using Thresholded Data</h1>\n",
    "\n",
    "<p>Jay Narhan</p>\n",
    "June 2017\n",
    "\n",
    "This is an application of the best performing models but using thresholded data instead of differenced data. See JN_DC_Diff_Detection.ipynb for more background and details on the problem.\n",
    "\n",
    "<hr>"
   ]
  },
  {
   "cell_type": "code",
   "execution_count": 1,
   "metadata": {},
   "outputs": [
    {
     "name": "stderr",
     "output_type": "stream",
     "text": [
      "Using Theano backend.\n"
     ]
    }
   ],
   "source": [
    "import os\n",
    "import sys\n",
    "import time\n",
    "import numpy as np\n",
    "\n",
    "from tqdm import tqdm\n",
    "\n",
    "import sklearn.metrics as skm\n",
    "from sklearn import metrics\n",
    "from sklearn.svm import SVC\n",
    "from sklearn.model_selection import train_test_split\n",
    "\n",
    "from skimage import color\n",
    "\n",
    "import keras.callbacks as cb\n",
    "import keras.utils.np_utils as np_utils\n",
    "from keras import applications\n",
    "from keras import regularizers\n",
    "from keras.models import Sequential\n",
    "from keras.constraints import maxnorm\n",
    "from keras.preprocessing.image import ImageDataGenerator\n",
    "from keras.layers.convolutional import Convolution2D, MaxPooling2D\n",
    "from keras.layers import Activation, Dense, Dropout, Flatten, GaussianNoise\n",
    "\n",
    "from matplotlib import pyplot as plt\n",
    "%matplotlib inline\n",
    "\n",
    "plt.rcParams['figure.figsize'] = (10,10)\n",
    "np.set_printoptions(precision=2)\n",
    "\n",
    "sys.path.insert(0, '../helper_modules/')\n",
    "import jn_bc_helper as bc"
   ]
  },
  {
   "cell_type": "markdown",
   "metadata": {},
   "source": [
    "<h2>Reproducible Research</h2>"
   ]
  },
  {
   "cell_type": "code",
   "execution_count": 2,
   "metadata": {},
   "outputs": [
    {
     "name": "stdout",
     "output_type": "stream",
     "text": [
      "scipy:           0.19.0\n",
      "numpy:           1.12.1\n",
      "matplotlib:      2.0.0\n",
      "sklearn:         0.18.1\n",
      "skimage:         0.13.0\n",
      "theano:          0.9.0.dev-c697eeab84e5b8a74908da654b66ec9eca4f1291\n",
      "tensorflow:      0.10.0\n",
      "keras:           2.0.3\n"
     ]
    },
    {
     "name": "stderr",
     "output_type": "stream",
     "text": [
      "Python 2.7.13 :: Continuum Analytics, Inc.\n",
      "Using Theano backend.\n"
     ]
    }
   ],
   "source": [
    "%%python\n",
    "import os\n",
    "os.system('python -V')\n",
    "os.system('python ../helper_modules/Package_Versions.py')"
   ]
  },
  {
   "cell_type": "code",
   "execution_count": 3,
   "metadata": {},
   "outputs": [
    {
     "name": "stderr",
     "output_type": "stream",
     "text": [
      "100%|██████████| 2/2 [00:00<00:00, 19239.93it/s]"
     ]
    },
    {
     "name": "stdout",
     "output_type": "stream",
     "text": [
      "Number of entries in incoming meta_data: 5822\n",
      "Images found: 5251\n",
      "Images missing: 571\n",
      "Number of entries of outgoing meta_data: 5251\n"
     ]
    },
    {
     "name": "stderr",
     "output_type": "stream",
     "text": [
      "\n"
     ]
    }
   ],
   "source": [
    "SEED = 7\n",
    "np.random.seed(SEED)\n",
    "\n",
    "CURR_DIR  = os.getcwd()\n",
    "DATA_DIR  = '/Users/jnarhan/Dropbox/Breast_Cancer_Data/Data_Thresholded/ALL_IMGS/'\n",
    "AUG_DIR   = '/Users/jnarhan/Dropbox/Breast_Cancer_Data/Data_Thresholded/AUG_DETECT_IMGS/'\n",
    "meta_file = '../../Meta_Data_Files/meta_data_all.csv'\n",
    "PATHO_INX = 5    # Column number of detected label in meta_file\n",
    "FILE_INX  = 1    # Column number of File name in meta_file\n",
    "\n",
    "meta_data, _ = tqdm( bc.load_meta(meta_file, patho_idx=PATHO_INX, file_idx=FILE_INX,\n",
    "                                  balanceByRemoval=False, verbose=False) )\n",
    "\n",
    "# Minor addition to reserve records in meta data for which we actually have images:\n",
    "meta_data = bc.clean_meta(meta_data, DATA_DIR)"
   ]
  },
  {
   "cell_type": "code",
   "execution_count": 4,
   "metadata": {},
   "outputs": [
    {
     "name": "stdout",
     "output_type": "stream",
     "text": [
      "------------\n",
      "Loading data\n",
      "------------\n"
     ]
    },
    {
     "name": "stderr",
     "output_type": "stream",
     "text": [
      "100%|██████████| 2/2 [00:00<00:00, 31300.78it/s]"
     ]
    },
    {
     "name": "stdout",
     "output_type": "stream",
     "text": [
      "----------------\n",
      "Before Balancing\n",
      "----------------\n",
      "abnormal  : 1732\n",
      "normal    : 3519\n"
     ]
    },
    {
     "name": "stderr",
     "output_type": "stream",
     "text": [
      "\n"
     ]
    }
   ],
   "source": [
    "bc.pprint('Loading data')\n",
    "cats = bc.bcLabels(['normal', 'abnormal'])\n",
    "\n",
    "# For smaller images supply tuple argument for a parameter 'imgResize':\n",
    "# X_data, Y_data = bc.load_data(meta_data, DATA_DIR, cats, imgResize=(150,150)) \n",
    "X_data, Y_data = tqdm( bc.load_data(meta_data, DATA_DIR, cats) )\n",
    "\n",
    "cls_cnts = bc.get_clsCnts(Y_data, cats)\n",
    "bc.pprint('Before Balancing')\n",
    "for k in cls_cnts:\n",
    "    print '{0:10}: {1}'.format(k, cls_cnts[k])"
   ]
  },
  {
   "cell_type": "markdown",
   "metadata": {},
   "source": [
    "**Class Balancing**\n",
    "\n",
    "Here - I look at a modified version of SMOTE, growing the under-represented class via synthetic augmentation, until there is a balance among the categories:"
   ]
  },
  {
   "cell_type": "code",
   "execution_count": 5,
   "metadata": {
    "collapsed": true
   },
   "outputs": [],
   "source": [
    "datagen = ImageDataGenerator(rotation_range=5, width_shift_range=.01, height_shift_range=0.01,\n",
    "                             data_format='channels_first')"
   ]
  },
  {
   "cell_type": "code",
   "execution_count": 6,
   "metadata": {},
   "outputs": [
    {
     "name": "stdout",
     "output_type": "stream",
     "text": [
      "---------------\n",
      "After Balancing\n",
      "---------------\n",
      "abnormal  : 3519\n",
      "normal    : 3519\n"
     ]
    }
   ],
   "source": [
    "X_data, Y_data = bc.balanceViaSmote(cls_cnts, meta_data, DATA_DIR, AUG_DIR, cats, \n",
    "                                    datagen, X_data, Y_data, seed=SEED, verbose=True)"
   ]
  },
  {
   "cell_type": "markdown",
   "metadata": {},
   "source": [
    "**Create the Training and Test Datasets**"
   ]
  },
  {
   "cell_type": "code",
   "execution_count": 7,
   "metadata": {},
   "outputs": [
    {
     "name": "stdout",
     "output_type": "stream",
     "text": [
      "Size of X_train:  5278\n",
      "Size of X_test:  1760\n",
      "Size of Y_train:  5278\n",
      "Size of Y_test:  1760\n",
      "(5278, 255, 255)\n",
      "(1760, 255, 255)\n",
      "(5278, 1)\n",
      "(1760, 1)\n"
     ]
    }
   ],
   "source": [
    "X_train, X_test, Y_train, Y_test = train_test_split(X_data, Y_data,\n",
    "                                                    test_size=0.25,\n",
    "                                                    random_state=SEED,\n",
    "                                                    stratify=zip(*Y_data)[0])\n",
    "\n",
    "print 'Size of X_train: {:>5}'.format(len(X_train))\n",
    "print 'Size of X_test: {:>5}'.format(len(X_test))\n",
    "print 'Size of Y_train: {:>5}'.format(len(Y_train))\n",
    "print 'Size of Y_test: {:>5}'.format(len(Y_test))\n",
    "\n",
    "print X_train.shape\n",
    "print X_test.shape\n",
    "print Y_train.shape\n",
    "print Y_test.shape\n",
    "\n",
    "data = [X_train, X_test, Y_train, Y_test]"
   ]
  },
  {
   "cell_type": "markdown",
   "metadata": {},
   "source": [
    "<h2>Support Vector Machine Model</h2>"
   ]
  },
  {
   "cell_type": "code",
   "execution_count": 8,
   "metadata": {
    "collapsed": true
   },
   "outputs": [],
   "source": [
    "X_train_svm = X_train.reshape( (X_train.shape[0], -1)) \n",
    "X_test_svm  = X_test.reshape( (X_test.shape[0], -1))"
   ]
  },
  {
   "cell_type": "code",
   "execution_count": 9,
   "metadata": {},
   "outputs": [
    {
     "name": "stderr",
     "output_type": "stream",
     "text": [
      "/Users/jnarhan/miniconda2/envs/bc_venv/lib/python2.7/site-packages/sklearn/utils/validation.py:526: DataConversionWarning: A column-vector y was passed when a 1d array was expected. Please change the shape of y to (n_samples, ), for example using ravel().\n",
      "  y = column_or_1d(y, warn=True)\n"
     ]
    },
    {
     "data": {
      "text/plain": [
       "SVC(C=1.0, cache_size=200, class_weight=None, coef0=0.0,\n",
       "  decision_function_shape=None, degree=3, gamma=0.001, kernel='rbf',\n",
       "  max_iter=-1, probability=False, random_state=None, shrinking=True,\n",
       "  tol=0.001, verbose=False)"
      ]
     },
     "execution_count": 9,
     "metadata": {},
     "output_type": "execute_result"
    }
   ],
   "source": [
    "SVM_model = SVC(gamma=0.001)\n",
    "SVM_model.fit( X_train_svm, Y_train)"
   ]
  },
  {
   "cell_type": "code",
   "execution_count": 10,
   "metadata": {},
   "outputs": [
    {
     "name": "stdout",
     "output_type": "stream",
     "text": [
      "SVM Accuracy:   73.92%\n",
      "SVM Error:      26.08%\n"
     ]
    }
   ],
   "source": [
    "predictOutput = SVM_model.predict(X_test_svm)\n",
    "svm_acc = metrics.accuracy_score(y_true=Y_test, y_pred=predictOutput)\n",
    "\n",
    "print 'SVM Accuracy: {: >7.2f}%'.format(svm_acc * 100)\n",
    "print 'SVM Error: {: >10.2f}%'.format(100 - svm_acc * 100)"
   ]
  },
  {
   "cell_type": "code",
   "execution_count": 11,
   "metadata": {},
   "outputs": [
    {
     "name": "stdout",
     "output_type": "stream",
     "text": [
      "Normalized confusion matrix\n",
      "[[ 0.59  0.41]\n",
      " [ 0.11  0.89]]\n"
     ]
    },
    {
     "data": {
      "image/png": "[encoded data removed]",
      "text/plain": [
       "<matplotlib.figure.Figure at 0x1079e9c10>"
      ]
     },
     "metadata": {},
     "output_type": "display_data"
    }
   ],
   "source": [
    "svm_matrix = skm.confusion_matrix(y_true=Y_test, y_pred=predictOutput)\n",
    "numBC = bc.reverseDict(cats)\n",
    "class_names = numBC.values()\n",
    "\n",
    "plt.figure(figsize=(8,6))\n",
    "bc.plot_confusion_matrix(svm_matrix, classes=class_names, normalize=True, \n",
    "                         title='SVM Normalized Confusion Matrix Using Thresholded \\n')\n",
    "plt.tight_layout()\n",
    "plt.savefig('../../figures/jn_SVM_Detect_Threshold_CM_20170609.png', dpi=100)"
   ]
  },
  {
   "cell_type": "code",
   "execution_count": 12,
   "metadata": {},
   "outputs": [
    {
     "name": "stdout",
     "output_type": "stream",
     "text": [
      "Confusion matrix, without normalization\n",
      "[[517 363]\n",
      " [ 96 784]]\n"
     ]
    },
    {
     "data": {
      "image/png": "[encoded data removed]",
      "text/plain": [
       "<matplotlib.figure.Figure at 0x1079e9b90>"
      ]
     },
     "metadata": {},
     "output_type": "display_data"
    }
   ],
   "source": [
    "plt.figure(figsize=(8,6))\n",
    "bc.plot_confusion_matrix(svm_matrix, classes=class_names, normalize=False, \n",
    "                         title='SVM Raw Confusion Matrix Using Thresholded \\n')\n",
    "plt.tight_layout()"
   ]
  },
  {
   "cell_type": "code",
   "execution_count": 13,
   "metadata": {},
   "outputs": [
    {
     "data": {
      "text/plain": [
       "{'Accuracy': 73.92,\n",
       " 'F1': 0.77,\n",
       " 'NPV': 84.34,\n",
       " 'PPV': 68.35,\n",
       " 'Sensitivity': 89.09,\n",
       " 'Specificity': 58.75}"
      ]
     },
     "execution_count": 13,
     "metadata": {},
     "output_type": "execute_result"
    }
   ],
   "source": [
    "bc.cat_stats(svm_matrix)"
   ]
  },
  {
   "cell_type": "markdown",
   "metadata": {},
   "source": [
    "<h2>CNN Modelling Using VGG16 in Transfer Learning</h2>"
   ]
  },
  {
   "cell_type": "code",
   "execution_count": 14,
   "metadata": {
    "collapsed": true
   },
   "outputs": [],
   "source": [
    "def VGG_Prep(img_data):\n",
    "    \"\"\"\n",
    "    :param img_data: training or test images of shape [#images, height, width]\n",
    "    :return: the array transformed to the correct shape for the VGG network\n",
    "                shape = [#images, height, width, 3] transforms to rgb and reshapes\n",
    "    \"\"\"\n",
    "    images = np.zeros([len(img_data), img_data.shape[1], img_data.shape[2], 3])\n",
    "    for i in range(0, len(img_data)):\n",
    "        im = (img_data[i] * 255)        # Original imagenet images were not rescaled\n",
    "        im = color.gray2rgb(im)\n",
    "        images[i] = im\n",
    "    return(images)"
   ]
  },
  {
   "cell_type": "code",
   "execution_count": 15,
   "metadata": {
    "collapsed": true
   },
   "outputs": [],
   "source": [
    "def vgg16_bottleneck(data, modelPath, fn_train_feats, fn_train_lbls, fn_test_feats, fn_test_lbls):\n",
    "    # Loading data\n",
    "    X_train, X_test, Y_train, Y_test = data\n",
    "    \n",
    "    print('Preparing the Training Data for the VGG_16 Model.')\n",
    "    X_train = VGG_Prep(X_train)\n",
    "    print('Preparing the Test Data for the VGG_16 Model')\n",
    "    X_test = VGG_Prep(X_test)\n",
    "        \n",
    "    print('Loading the VGG_16 Model')\n",
    "    # \"model\" excludes top layer of VGG16:\n",
    "    model = applications.VGG16(include_top=False, weights='imagenet') \n",
    "        \n",
    "    # Generating the bottleneck features for the training data\n",
    "    print('Evaluating the VGG_16 Model on the Training Data')\n",
    "    bottleneck_features_train = model.predict(X_train)\n",
    "    \n",
    "    # Saving the bottleneck features for the training data\n",
    "    featuresTrain = os.path.join(modelPath, fn_train_feats)\n",
    "    labelsTrain = os.path.join(modelPath, fn_train_lbls)\n",
    "    print('Saving the Training Data Bottleneck Features.')\n",
    "    np.save(open(featuresTrain, 'wb'), bottleneck_features_train)\n",
    "    np.save(open(labelsTrain, 'wb'), Y_train)\n",
    "\n",
    "    # Generating the bottleneck features for the test data\n",
    "    print('Evaluating the VGG_16 Model on the Test Data')\n",
    "    bottleneck_features_test = model.predict(X_test)\n",
    "    \n",
    "    # Saving the bottleneck features for the test data\n",
    "    featuresTest = os.path.join(modelPath, fn_test_feats)\n",
    "    labelsTest = os.path.join(modelPath, fn_test_lbls)\n",
    "    print('Saving the Test Data Bottleneck Feaures.')\n",
    "    np.save(open(featuresTest, 'wb'), bottleneck_features_test)\n",
    "    np.save(open(labelsTest, 'wb'), Y_test)"
   ]
  },
  {
   "cell_type": "code",
   "execution_count": 16,
   "metadata": {},
   "outputs": [
    {
     "name": "stdout",
     "output_type": "stream",
     "text": [
      "Preparing the Training Data for the VGG_16 Model.\n",
      "Preparing the Test Data for the VGG_16 Model\n",
      "Loading the VGG_16 Model\n",
      "Evaluating the VGG_16 Model on the Training Data\n",
      "Saving the Training Data Bottleneck Features.\n",
      "Evaluating the VGG_16 Model on the Test Data\n",
      "Saving the Test Data Bottleneck Feaures.\n"
     ]
    }
   ],
   "source": [
    "# Locations for the bottleneck and labels files that we need\n",
    "train_bottleneck = '2Class_VGG16_bottleneck_features_train_threshold.npy'\n",
    "train_labels     = '2Class_VGG16_labels_train_threshold.npy'\n",
    "test_bottleneck  = '2Class_VGG16_bottleneck_features_test_threshold.npy'\n",
    "test_labels      = '2Class_VGG16_labels_test_threshold.npy'\n",
    "modelPath = os.getcwd()\n",
    "\n",
    "top_model_weights_path = './weights/'\n",
    "\n",
    "np.random.seed(SEED)\n",
    "vgg16_bottleneck(data, modelPath, train_bottleneck, train_labels, test_bottleneck, test_labels)"
   ]
  },
  {
   "cell_type": "code",
   "execution_count": 17,
   "metadata": {
    "collapsed": true
   },
   "outputs": [],
   "source": [
    "def train_top_model(train_feats, train_lab, test_feats, test_lab, model_path, model_save, epoch = 50, batch = 64):\n",
    "    start_time = time.time()\n",
    "    \n",
    "    train_bottleneck = os.path.join(model_path, train_feats)\n",
    "    train_labels = os.path.join(model_path, train_lab)\n",
    "    test_bottleneck = os.path.join(model_path, test_feats)\n",
    "    test_labels = os.path.join(model_path, test_lab)\n",
    "    \n",
    "    history = bc.LossHistory()\n",
    "    \n",
    "    X_train = np.load(train_bottleneck)\n",
    "    Y_train = np.load(train_labels)\n",
    "    Y_train = np_utils.to_categorical(Y_train, num_classes=2)\n",
    "    \n",
    "    X_test = np.load(test_bottleneck)\n",
    "    Y_test = np.load(test_labels)\n",
    "    Y_test = np_utils.to_categorical(Y_test, num_classes=2)\n",
    "\n",
    "    model = Sequential()\n",
    "    model.add(Flatten(input_shape=X_train.shape[1:]))\n",
    "    model.add( Dropout(0.7))\n",
    "    \n",
    "    model.add( Dense(256, activation='relu', kernel_constraint= maxnorm(3.)) )\n",
    "    model.add( Dropout(0.5))\n",
    "    \n",
    "    # Softmax for probabilities for each class at the output layer\n",
    "    model.add( Dense(2, activation='softmax'))\n",
    "    \n",
    "    model.compile(optimizer='rmsprop',  # adadelta\n",
    "                  loss='binary_crossentropy', \n",
    "                  metrics=['accuracy'])\n",
    "\n",
    "    model.fit(X_train, Y_train,\n",
    "              epochs=epoch,\n",
    "              batch_size=batch,\n",
    "              callbacks=[history],\n",
    "              validation_data=(X_test, Y_test),\n",
    "              verbose=2)\n",
    "    \n",
    "    print \"Training duration : {0}\".format(time.time() - start_time)\n",
    "    score = model.evaluate(X_test, Y_test, batch_size=16, verbose=2)\n",
    "\n",
    "    print \"Network's test score [loss, accuracy]: {0}\".format(score)\n",
    "    print 'CNN Error: {:.2f}%'.format(100 - score[1] * 100)\n",
    "    \n",
    "    bc.save_model(model_save, model, \"jn_VGG16_Detection_top_weights_threshold.h5\")\n",
    "    \n",
    "    return model, history.losses, history.acc, score"
   ]
  },
  {
   "cell_type": "code",
   "execution_count": 18,
   "metadata": {},
   "outputs": [
    {
     "name": "stdout",
     "output_type": "stream",
     "text": [
      "Train on 5278 samples, validate on 1760 samples\n",
      "Epoch 1/100\n",
      "14s - loss: 5.7267 - acc: 0.6252 - val_loss: 5.2490 - val_acc: 0.6591\n",
      "Epoch 2/100\n",
      "13s - loss: 5.3294 - acc: 0.6576 - val_loss: 4.8490 - val_acc: 0.6886\n",
      "Epoch 3/100\n",
      "13s - loss: 5.1174 - acc: 0.6724 - val_loss: 5.8314 - val_acc: 0.6256\n",
      "Epoch 4/100\n",
      "13s - loss: 4.9663 - acc: 0.6825 - val_loss: 4.9110 - val_acc: 0.6864\n",
      "Epoch 5/100\n",
      "13s - loss: 4.7598 - acc: 0.6936 - val_loss: 4.8388 - val_acc: 0.6886\n",
      "Epoch 6/100\n",
      "13s - loss: 4.7830 - acc: 0.6950 - val_loss: 5.1348 - val_acc: 0.6744\n",
      "Epoch 7/100\n",
      "14s - loss: 4.7952 - acc: 0.6940 - val_loss: 4.9695 - val_acc: 0.6852\n",
      "Epoch 8/100\n",
      "14s - loss: 4.7580 - acc: 0.6967 - val_loss: 5.0219 - val_acc: 0.6818\n",
      "Epoch 9/100\n",
      "15s - loss: 4.5918 - acc: 0.7075 - val_loss: 4.6551 - val_acc: 0.7023\n",
      "Epoch 10/100\n",
      "17s - loss: 4.8876 - acc: 0.6908 - val_loss: 5.2117 - val_acc: 0.6710\n",
      "Epoch 11/100\n",
      "18s - loss: 4.9263 - acc: 0.6862 - val_loss: 4.8213 - val_acc: 0.6949\n",
      "Epoch 12/100\n",
      "18s - loss: 4.7827 - acc: 0.6963 - val_loss: 4.6151 - val_acc: 0.7057\n",
      "Epoch 13/100\n",
      "19s - loss: 4.6472 - acc: 0.7035 - val_loss: 4.8000 - val_acc: 0.6949\n",
      "Epoch 14/100\n",
      "19s - loss: 4.7158 - acc: 0.7018 - val_loss: 4.4474 - val_acc: 0.7148\n",
      "Epoch 15/100\n",
      "19s - loss: 4.5537 - acc: 0.7118 - val_loss: 4.3341 - val_acc: 0.7261\n",
      "Epoch 16/100\n",
      "20s - loss: 4.6894 - acc: 0.7016 - val_loss: 4.5030 - val_acc: 0.7153\n",
      "Epoch 17/100\n",
      "20s - loss: 4.5637 - acc: 0.7101 - val_loss: 4.3482 - val_acc: 0.7239\n",
      "Epoch 18/100\n",
      "20s - loss: 4.4949 - acc: 0.7150 - val_loss: 4.2990 - val_acc: 0.7284\n",
      "Epoch 19/100\n",
      "21s - loss: 4.3897 - acc: 0.7226 - val_loss: 4.2779 - val_acc: 0.7290\n",
      "Epoch 20/100\n",
      "20s - loss: 4.6561 - acc: 0.7058 - val_loss: 4.5684 - val_acc: 0.7119\n",
      "Epoch 21/100\n",
      "21s - loss: 4.9442 - acc: 0.6881 - val_loss: 4.6287 - val_acc: 0.7080\n",
      "Epoch 22/100\n",
      "21s - loss: 4.5427 - acc: 0.7126 - val_loss: 4.3526 - val_acc: 0.7239\n",
      "Epoch 23/100\n",
      "21s - loss: 4.5540 - acc: 0.7120 - val_loss: 4.3341 - val_acc: 0.7256\n",
      "Epoch 24/100\n",
      "21s - loss: 4.4689 - acc: 0.7175 - val_loss: 4.4848 - val_acc: 0.7165\n",
      "Epoch 25/100\n",
      "21s - loss: 4.6980 - acc: 0.7035 - val_loss: 4.4559 - val_acc: 0.7199\n",
      "Epoch 26/100\n",
      "21s - loss: 4.4066 - acc: 0.7228 - val_loss: 4.5336 - val_acc: 0.7142\n",
      "Epoch 27/100\n",
      "21s - loss: 4.3630 - acc: 0.7245 - val_loss: 4.6135 - val_acc: 0.7080\n",
      "Epoch 28/100\n",
      "21s - loss: 4.4101 - acc: 0.7211 - val_loss: 4.8067 - val_acc: 0.6972\n",
      "Epoch 29/100\n",
      "21s - loss: 4.4633 - acc: 0.7186 - val_loss: 4.6489 - val_acc: 0.7068\n",
      "Epoch 30/100\n",
      "21s - loss: 4.5355 - acc: 0.7152 - val_loss: 4.5362 - val_acc: 0.7136\n",
      "Epoch 31/100\n",
      "22s - loss: 4.4949 - acc: 0.7167 - val_loss: 4.6140 - val_acc: 0.7085\n",
      "Epoch 32/100\n",
      "22s - loss: 4.3848 - acc: 0.7245 - val_loss: 4.5827 - val_acc: 0.7102\n",
      "Epoch 33/100\n",
      "22s - loss: 4.4578 - acc: 0.7209 - val_loss: 4.5072 - val_acc: 0.7153\n",
      "Epoch 34/100\n",
      "22s - loss: 4.4777 - acc: 0.7183 - val_loss: 4.6498 - val_acc: 0.7068\n",
      "Epoch 35/100\n",
      "22s - loss: 4.3249 - acc: 0.7272 - val_loss: 4.4018 - val_acc: 0.7205\n",
      "Epoch 36/100\n",
      "22s - loss: 4.2786 - acc: 0.7302 - val_loss: 4.4123 - val_acc: 0.7222\n",
      "Epoch 37/100\n",
      "22s - loss: 4.4743 - acc: 0.7181 - val_loss: 4.5300 - val_acc: 0.7153\n",
      "Epoch 38/100\n",
      "22s - loss: 4.4168 - acc: 0.7221 - val_loss: 4.6666 - val_acc: 0.7063\n",
      "Epoch 39/100\n",
      "22s - loss: 4.7201 - acc: 0.7031 - val_loss: 4.6501 - val_acc: 0.7080\n",
      "Epoch 40/100\n",
      "22s - loss: 4.5600 - acc: 0.7137 - val_loss: 4.5059 - val_acc: 0.7170\n",
      "Epoch 41/100\n",
      "23s - loss: 4.6573 - acc: 0.7071 - val_loss: 4.3648 - val_acc: 0.7256\n",
      "Epoch 42/100\n",
      "23s - loss: 4.3145 - acc: 0.7293 - val_loss: 4.5036 - val_acc: 0.7182\n",
      "Epoch 43/100\n",
      "23s - loss: 4.3311 - acc: 0.7275 - val_loss: 4.5257 - val_acc: 0.7148\n",
      "Epoch 44/100\n",
      "23s - loss: 4.5108 - acc: 0.7173 - val_loss: 4.3432 - val_acc: 0.7267\n",
      "Epoch 45/100\n",
      "23s - loss: 4.5146 - acc: 0.7156 - val_loss: 4.9583 - val_acc: 0.6898\n",
      "Epoch 46/100\n",
      "23s - loss: 4.4457 - acc: 0.7203 - val_loss: 4.2961 - val_acc: 0.7273\n",
      "Epoch 47/100\n",
      "23s - loss: 4.3867 - acc: 0.7236 - val_loss: 4.2498 - val_acc: 0.7318\n",
      "Epoch 48/100\n",
      "23s - loss: 4.3742 - acc: 0.7247 - val_loss: 4.3054 - val_acc: 0.7301\n",
      "Epoch 49/100\n",
      "23s - loss: 4.2645 - acc: 0.7321 - val_loss: 4.2390 - val_acc: 0.7330\n",
      "Epoch 50/100\n",
      "23s - loss: 4.3345 - acc: 0.7274 - val_loss: 4.4028 - val_acc: 0.7205\n",
      "Epoch 51/100\n",
      "23s - loss: 4.5126 - acc: 0.7169 - val_loss: 4.6485 - val_acc: 0.7091\n",
      "Epoch 52/100\n",
      "23s - loss: 4.4655 - acc: 0.7192 - val_loss: 4.4272 - val_acc: 0.7227\n",
      "Epoch 53/100\n",
      "23s - loss: 4.3646 - acc: 0.7251 - val_loss: 4.5062 - val_acc: 0.7165\n",
      "Epoch 54/100\n",
      "23s - loss: 4.3136 - acc: 0.7285 - val_loss: 4.6003 - val_acc: 0.7102\n",
      "Epoch 55/100\n",
      "23s - loss: 4.4375 - acc: 0.7209 - val_loss: 4.6004 - val_acc: 0.7119\n",
      "Epoch 56/100\n",
      "23s - loss: 4.4255 - acc: 0.7217 - val_loss: 4.5380 - val_acc: 0.7153\n",
      "Epoch 57/100\n",
      "23s - loss: 4.3314 - acc: 0.7270 - val_loss: 4.5279 - val_acc: 0.7153\n",
      "Epoch 58/100\n",
      "23s - loss: 4.2601 - acc: 0.7319 - val_loss: 4.5641 - val_acc: 0.7142\n",
      "Epoch 59/100\n",
      "23s - loss: 4.4226 - acc: 0.7219 - val_loss: 4.5918 - val_acc: 0.7125\n",
      "Epoch 60/100\n",
      "23s - loss: 4.4450 - acc: 0.7213 - val_loss: 4.7961 - val_acc: 0.6994\n",
      "Epoch 61/100\n",
      "23s - loss: 4.6456 - acc: 0.7080 - val_loss: 4.4778 - val_acc: 0.7182\n",
      "Epoch 62/100\n",
      "23s - loss: 4.3576 - acc: 0.7260 - val_loss: 4.5448 - val_acc: 0.7148\n",
      "Epoch 63/100\n",
      "23s - loss: 4.4067 - acc: 0.7238 - val_loss: 4.4444 - val_acc: 0.7216\n",
      "Epoch 64/100\n",
      "23s - loss: 4.3787 - acc: 0.7245 - val_loss: 4.4806 - val_acc: 0.7188\n",
      "Epoch 65/100\n",
      "23s - loss: 4.2574 - acc: 0.7319 - val_loss: 4.6544 - val_acc: 0.7068\n",
      "Epoch 66/100\n",
      "23s - loss: 4.4041 - acc: 0.7239 - val_loss: 4.3753 - val_acc: 0.7227\n",
      "Epoch 67/100\n",
      "23s - loss: 4.2477 - acc: 0.7329 - val_loss: 4.6110 - val_acc: 0.7097\n",
      "Epoch 68/100\n",
      "24s - loss: 4.3006 - acc: 0.7296 - val_loss: 4.4215 - val_acc: 0.7222\n",
      "Epoch 69/100\n",
      "24s - loss: 4.3274 - acc: 0.7275 - val_loss: 4.5474 - val_acc: 0.7131\n",
      "Epoch 70/100\n",
      "24s - loss: 4.3023 - acc: 0.7304 - val_loss: 4.4578 - val_acc: 0.7205\n",
      "Epoch 71/100\n",
      "23s - loss: 4.1568 - acc: 0.7389 - val_loss: 4.1927 - val_acc: 0.7369\n",
      "Epoch 72/100\n",
      "23s - loss: 4.3908 - acc: 0.7228 - val_loss: 4.4159 - val_acc: 0.7233\n",
      "Epoch 73/100\n",
      "23s - loss: 4.1861 - acc: 0.7370 - val_loss: 4.2766 - val_acc: 0.7301\n",
      "Epoch 74/100\n",
      "23s - loss: 4.2933 - acc: 0.7298 - val_loss: 4.4892 - val_acc: 0.7176\n",
      "Epoch 75/100\n",
      "23s - loss: 4.4432 - acc: 0.7207 - val_loss: 4.4753 - val_acc: 0.7193\n",
      "Epoch 76/100\n",
      "24s - loss: 4.2906 - acc: 0.7294 - val_loss: 4.3441 - val_acc: 0.7284\n",
      "Epoch 77/100\n",
      "23s - loss: 4.1963 - acc: 0.7359 - val_loss: 4.3467 - val_acc: 0.7273\n",
      "Epoch 78/100\n",
      "23s - loss: 4.1900 - acc: 0.7359 - val_loss: 4.2620 - val_acc: 0.7312\n",
      "Epoch 79/100\n",
      "24s - loss: 4.2915 - acc: 0.7304 - val_loss: 4.4874 - val_acc: 0.7176\n",
      "Epoch 80/100\n",
      "24s - loss: 4.5098 - acc: 0.7169 - val_loss: 4.4841 - val_acc: 0.7188\n",
      "Epoch 81/100\n",
      "24s - loss: 4.2185 - acc: 0.7353 - val_loss: 4.4945 - val_acc: 0.7165\n",
      "Epoch 82/100\n",
      "24s - loss: 4.3799 - acc: 0.7245 - val_loss: 4.5305 - val_acc: 0.7148\n",
      "Epoch 83/100\n",
      "24s - loss: 4.3515 - acc: 0.7264 - val_loss: 4.3067 - val_acc: 0.7295\n",
      "Epoch 84/100\n",
      "24s - loss: 4.2079 - acc: 0.7347 - val_loss: 4.4240 - val_acc: 0.7199\n",
      "Epoch 85/100\n",
      "24s - loss: 4.4279 - acc: 0.7217 - val_loss: 4.4240 - val_acc: 0.7216\n",
      "Epoch 86/100\n",
      "24s - loss: 4.2315 - acc: 0.7334 - val_loss: 4.2492 - val_acc: 0.7318\n",
      "Epoch 87/100\n",
      "24s - loss: 4.0597 - acc: 0.7444 - val_loss: 4.6020 - val_acc: 0.7108\n",
      "Epoch 88/100\n",
      "24s - loss: 4.4325 - acc: 0.7215 - val_loss: 4.1997 - val_acc: 0.7369\n",
      "Epoch 89/100\n",
      "24s - loss: 4.1394 - acc: 0.7401 - val_loss: 4.1045 - val_acc: 0.7420\n",
      "Epoch 90/100\n",
      "24s - loss: 4.2818 - acc: 0.7308 - val_loss: 4.1728 - val_acc: 0.7375\n",
      "Epoch 91/100\n",
      "24s - loss: 4.1001 - acc: 0.7425 - val_loss: 4.2634 - val_acc: 0.7330\n",
      "Epoch 92/100\n",
      "24s - loss: 4.1790 - acc: 0.7378 - val_loss: 4.3711 - val_acc: 0.7250\n",
      "Epoch 93/100\n",
      "24s - loss: 4.2280 - acc: 0.7344 - val_loss: 4.0411 - val_acc: 0.7426\n",
      "Epoch 94/100\n",
      "24s - loss: 4.2374 - acc: 0.7338 - val_loss: 4.0740 - val_acc: 0.7438\n",
      "Epoch 95/100\n",
      "24s - loss: 4.1013 - acc: 0.7421 - val_loss: 3.9726 - val_acc: 0.7500\n",
      "Epoch 96/100\n",
      "24s - loss: 4.1247 - acc: 0.7401 - val_loss: 4.0470 - val_acc: 0.7460\n",
      "Epoch 97/100\n",
      "24s - loss: 4.1801 - acc: 0.7372 - val_loss: 4.5653 - val_acc: 0.7119\n",
      "Epoch 98/100\n",
      "24s - loss: 4.2860 - acc: 0.7308 - val_loss: 4.2715 - val_acc: 0.7318\n",
      "Epoch 99/100\n",
      "24s - loss: 4.1986 - acc: 0.7357 - val_loss: 4.4534 - val_acc: 0.7205\n",
      "Epoch 100/100\n"
     ]
    },
    {
     "name": "stdout",
     "output_type": "stream",
     "text": [
      "24s - loss: 4.2011 - acc: 0.7363 - val_loss: 4.1331 - val_acc: 0.7403\n",
      "Training duration : 2220.00713396\n",
      "Network's test score [loss, accuracy]: [4.1330553086448045, 0.74034090909090911]\n",
      "CNN Error: 25.97%\n",
      "Model and Weights Saved to Disk\n"
     ]
    },
    {
     "data": {
      "text/plain": [
       "<matplotlib.figure.Figure at 0x1154b10d0>"
      ]
     },
     "metadata": {},
     "output_type": "display_data"
    },
    {
     "data": {
      "image/png": "[encoded data removed]",
      "text/plain": [
       "<matplotlib.figure.Figure at 0x1154b1d50>"
      ]
     },
     "metadata": {},
     "output_type": "display_data"
    }
   ],
   "source": [
    "np.random.seed(SEED)\n",
    "(trans_model, loss_cnn, acc_cnn, test_score_cnn) = train_top_model(train_feats=train_bottleneck,\n",
    "                                                                   train_lab=train_labels, \n",
    "                                                                   test_feats=test_bottleneck, \n",
    "                                                                   test_lab=test_labels,\n",
    "                                                                   model_path=modelPath, \n",
    "                                                                   model_save=top_model_weights_path,\n",
    "                                                                   epoch=100)\n",
    "plt.figure(figsize=(10,10))\n",
    "bc.plot_losses(loss_cnn, acc_cnn)\n",
    "plt.savefig('../../figures/epoch_figures/jn_Transfer_Detection_Learning_Threshold_20170609.png', dpi=100)"
   ]
  },
  {
   "cell_type": "code",
   "execution_count": 19,
   "metadata": {},
   "outputs": [
    {
     "name": "stdout",
     "output_type": "stream",
     "text": [
      "Transfer Learning CNN Accuracy:   74.03%\n",
      "Transfer Learning CNN Error:      25.97%\n",
      "Normalized confusion matrix\n",
      "[[ 0.72  0.28]\n",
      " [ 0.24  0.76]]\n"
     ]
    },
    {
     "data": {
      "image/png": "[encoded data removed]",
      "text/plain": [
       "<matplotlib.figure.Figure at 0x11ad46f50>"
      ]
     },
     "metadata": {},
     "output_type": "display_data"
    }
   ],
   "source": [
    "print 'Transfer Learning CNN Accuracy: {: >7.2f}%'.format(test_score_cnn[1] * 100)\n",
    "print 'Transfer Learning CNN Error: {: >10.2f}%'.format(100 - test_score_cnn[1] * 100)\n",
    "\n",
    "predictOutput = bc.predict(trans_model, np.load(test_bottleneck))\n",
    "trans_matrix = skm.confusion_matrix(y_true=Y_test, y_pred=predictOutput)\n",
    "\n",
    "plt.figure(figsize=(8,6))\n",
    "bc.plot_confusion_matrix(trans_matrix, classes=class_names, normalize=True,\n",
    "                         title='Transfer CNN Normalized Confusion Matrix Using Thresholded \\n')\n",
    "plt.tight_layout()\n",
    "plt.savefig('../../figures/jn_Transfer_Detection_CM_Threshold_20170609.png', dpi=100)"
   ]
  },
  {
   "cell_type": "code",
   "execution_count": 20,
   "metadata": {},
   "outputs": [
    {
     "name": "stdout",
     "output_type": "stream",
     "text": [
      "Confusion matrix, without normalization\n",
      "[[636 244]\n",
      " [213 667]]\n"
     ]
    },
    {
     "data": {
      "image/png": "[encoded data removed]",
      "text/plain": [
       "<matplotlib.figure.Figure at 0x118f63710>"
      ]
     },
     "metadata": {},
     "output_type": "display_data"
    }
   ],
   "source": [
    "plt.figure(figsize=(8,6))\n",
    "bc.plot_confusion_matrix(trans_matrix, classes=class_names, normalize=False,\n",
    "                         title='Transfer CNN Raw Confusion Matrix Using Thresholded \\n')\n",
    "plt.tight_layout()"
   ]
  },
  {
   "cell_type": "code",
   "execution_count": 21,
   "metadata": {},
   "outputs": [
    {
     "data": {
      "text/plain": [
       "{'Accuracy': 74.03,\n",
       " 'F1': 0.74,\n",
       " 'NPV': 74.91,\n",
       " 'PPV': 73.22,\n",
       " 'Sensitivity': 75.8,\n",
       " 'Specificity': 72.27}"
      ]
     },
     "execution_count": 21,
     "metadata": {},
     "output_type": "execute_result"
    }
   ],
   "source": [
    "bc.cat_stats(trans_matrix)"
   ]
  },
  {
   "cell_type": "markdown",
   "metadata": {},
   "source": [
    "<h2>Core CNN Modelling</h2>"
   ]
  },
  {
   "cell_type": "markdown",
   "metadata": {},
   "source": [
    "**Prep and package the data for Keras processing:**"
   ]
  },
  {
   "cell_type": "code",
   "execution_count": 22,
   "metadata": {},
   "outputs": [
    {
     "name": "stdout",
     "output_type": "stream",
     "text": [
      "Prep data for NNs ...\n",
      "Data Prepped for Neural Nets.\n",
      "(5278, 1, 255, 255)\n",
      "(1760, 1, 255, 255)\n",
      "(5278, 2)\n",
      "(1760, 2)\n"
     ]
    }
   ],
   "source": [
    "data = [X_train, X_test, Y_train, Y_test]\n",
    "X_train, X_test, Y_train, Y_test = bc.prep_data(data, cats)\n",
    "data = [X_train, X_test, Y_train, Y_test]\n",
    "\n",
    "print X_train.shape\n",
    "print X_test.shape\n",
    "print Y_train.shape\n",
    "print Y_test.shape"
   ]
  },
  {
   "cell_type": "markdown",
   "metadata": {},
   "source": [
    "**Heavy Regularization**"
   ]
  },
  {
   "cell_type": "code",
   "execution_count": 23,
   "metadata": {
    "collapsed": true
   },
   "outputs": [],
   "source": [
    "def diff_model_v7_reg(numClasses, input_shape=(3, 150,150), add_noise=False, noise=0.01, verbose=False):\n",
    "    model = Sequential()\n",
    "    if (add_noise):\n",
    "        model.add( GaussianNoise(noise, input_shape=input_shape))\n",
    "        model.add( Convolution2D(filters=16, \n",
    "                                 kernel_size=(5,5), \n",
    "                                 data_format='channels_first',\n",
    "                                 padding='same',\n",
    "                                 activation='relu'))\n",
    "    else:\n",
    "        model.add( Convolution2D(filters=16, \n",
    "                                 kernel_size=(5,5), \n",
    "                                 data_format='channels_first',\n",
    "                                 padding='same',\n",
    "                                 activation='relu',\n",
    "                                 input_shape=input_shape))\n",
    "    model.add( Dropout(0.7))\n",
    "    \n",
    "    model.add( Convolution2D(filters=32, kernel_size=(3,3), \n",
    "                             data_format='channels_first', padding='same', activation='relu'))\n",
    "    model.add( MaxPooling2D(pool_size= (2,2), data_format='channels_first'))\n",
    "    model.add( Dropout(0.4))\n",
    "    model.add( Convolution2D(filters=32, kernel_size=(3,3), \n",
    "                             data_format='channels_first', activation='relu'))\n",
    "    \n",
    "    model.add( Convolution2D(filters=64, kernel_size=(3,3), \n",
    "                             data_format='channels_first', padding='same', activation='relu',\n",
    "                             kernel_regularizer=regularizers.l2(0.01)))\n",
    "    model.add( MaxPooling2D(pool_size= (2,2), data_format='channels_first'))\n",
    "    model.add( Convolution2D(filters=64, kernel_size=(3,3), \n",
    "                             data_format='channels_first', activation='relu',\n",
    "                             kernel_regularizer=regularizers.l2(0.01)))\n",
    "    model.add( Dropout(0.4))\n",
    "    \n",
    "    model.add( Convolution2D(filters=128, kernel_size=(3,3), \n",
    "                             data_format='channels_first', padding='same', activation='relu',\n",
    "                             kernel_regularizer=regularizers.l2(0.01)))\n",
    "    model.add( MaxPooling2D(pool_size= (2,2), data_format='channels_first'))\n",
    "    \n",
    "    model.add( Convolution2D(filters=128, kernel_size=(3,3), \n",
    "                             data_format='channels_first', activation='relu',\n",
    "                             kernel_regularizer=regularizers.l2(0.01)))\n",
    "    model.add(Dropout(0.4))\n",
    "    \n",
    "    model.add( Flatten())\n",
    "    \n",
    "    model.add( Dense(128, activation='relu', kernel_constraint= maxnorm(3.)) )\n",
    "    model.add( Dropout(0.4))\n",
    "    \n",
    "    model.add( Dense(64, activation='relu', kernel_constraint= maxnorm(3.)) )\n",
    "    model.add( Dropout(0.4))\n",
    "    \n",
    "    # Softmax for probabilities for each class at the output layer\n",
    "    model.add( Dense(numClasses, activation='softmax'))\n",
    "    \n",
    "    if verbose:\n",
    "        print( model.summary() )\n",
    "    \n",
    "    model.compile(loss='binary_crossentropy',\n",
    "                  optimizer='rmsprop',\n",
    "                  metrics=['accuracy'])\n",
    "    return model"
   ]
  },
  {
   "cell_type": "code",
   "execution_count": 24,
   "metadata": {},
   "outputs": [
    {
     "name": "stdout",
     "output_type": "stream",
     "text": [
      "_________________________________________________________________\n",
      "Layer (type)                 Output Shape              Param #   \n",
      "=================================================================\n",
      "gaussian_noise_1 (GaussianNo (None, 1, 255, 255)       0         \n",
      "_________________________________________________________________\n",
      "conv2d_1 (Conv2D)            (None, 16, 255, 255)      416       \n",
      "_________________________________________________________________\n",
      "dropout_3 (Dropout)          (None, 16, 255, 255)      0         \n",
      "_________________________________________________________________\n",
      "conv2d_2 (Conv2D)            (None, 32, 255, 255)      4640      \n",
      "_________________________________________________________________\n",
      "max_pooling2d_1 (MaxPooling2 (None, 32, 127, 127)      0         \n",
      "_________________________________________________________________\n",
      "dropout_4 (Dropout)          (None, 32, 127, 127)      0         \n",
      "_________________________________________________________________\n",
      "conv2d_3 (Conv2D)            (None, 32, 125, 125)      9248      \n",
      "_________________________________________________________________\n",
      "conv2d_4 (Conv2D)            (None, 64, 125, 125)      18496     \n",
      "_________________________________________________________________\n",
      "max_pooling2d_2 (MaxPooling2 (None, 64, 62, 62)        0         \n",
      "_________________________________________________________________\n",
      "conv2d_5 (Conv2D)            (None, 64, 60, 60)        36928     \n",
      "_________________________________________________________________\n",
      "dropout_5 (Dropout)          (None, 64, 60, 60)        0         \n",
      "_________________________________________________________________\n",
      "conv2d_6 (Conv2D)            (None, 128, 60, 60)       73856     \n",
      "_________________________________________________________________\n",
      "max_pooling2d_3 (MaxPooling2 (None, 128, 30, 30)       0         \n",
      "_________________________________________________________________\n",
      "conv2d_7 (Conv2D)            (None, 128, 28, 28)       147584    \n",
      "_________________________________________________________________\n",
      "dropout_6 (Dropout)          (None, 128, 28, 28)       0         \n",
      "_________________________________________________________________\n",
      "flatten_2 (Flatten)          (None, 100352)            0         \n",
      "_________________________________________________________________\n",
      "dense_3 (Dense)              (None, 128)               12845184  \n",
      "_________________________________________________________________\n",
      "dropout_7 (Dropout)          (None, 128)               0         \n",
      "_________________________________________________________________\n",
      "dense_4 (Dense)              (None, 64)                8256      \n",
      "_________________________________________________________________\n",
      "dropout_8 (Dropout)          (None, 64)                0         \n",
      "_________________________________________________________________\n",
      "dense_5 (Dense)              (None, 2)                 130       \n",
      "=================================================================\n",
      "Total params: 13,144,738\n",
      "Trainable params: 13,144,738\n",
      "Non-trainable params: 0\n",
      "_________________________________________________________________\n",
      "None\n"
     ]
    }
   ],
   "source": [
    "diff_model7_noise_reg = diff_model_v7_reg(len(cats),\n",
    "                                          input_shape=(X_train.shape[1], X_train.shape[2], X_train.shape[3]),\n",
    "                                          add_noise=True, verbose=True)"
   ]
  },
  {
   "cell_type": "code",
   "execution_count": 25,
   "metadata": {},
   "outputs": [
    {
     "name": "stdout",
     "output_type": "stream",
     "text": [
      "Training model...\n",
      "Train on 5278 samples, validate on 1760 samples\n",
      "Epoch 1/50\n",
      "1565s - loss: 1.6386 - acc: 0.5371 - val_loss: 0.7872 - val_acc: 0.5000\n",
      "Epoch 2/50\n",
      "1551s - loss: 0.6963 - acc: 0.5915 - val_loss: 0.7163 - val_acc: 0.4790\n",
      "Epoch 3/50\n",
      "1546s - loss: 0.6660 - acc: 0.6167 - val_loss: 0.6758 - val_acc: 0.6102\n",
      "Epoch 4/50\n",
      "1550s - loss: 0.6526 - acc: 0.6347 - val_loss: 0.6747 - val_acc: 0.6159\n",
      "Epoch 5/50\n",
      "1543s - loss: 0.6469 - acc: 0.6340 - val_loss: 0.6961 - val_acc: 0.5335\n",
      "Epoch 6/50\n",
      "1529s - loss: 0.6384 - acc: 0.6461 - val_loss: 0.6494 - val_acc: 0.6381\n",
      "Epoch 7/50\n",
      "1544s - loss: 0.6274 - acc: 0.6548 - val_loss: 0.6914 - val_acc: 0.5580\n",
      "Epoch 8/50\n",
      "1556s - loss: 0.6243 - acc: 0.6626 - val_loss: 0.6869 - val_acc: 0.6000\n",
      "Epoch 9/50\n",
      "1566s - loss: 0.6209 - acc: 0.6599 - val_loss: 0.6707 - val_acc: 0.6227\n",
      "Epoch 10/50\n",
      "1568s - loss: 0.6121 - acc: 0.6673 - val_loss: 0.6460 - val_acc: 0.6364\n",
      "Epoch 11/50\n",
      "1567s - loss: 0.6097 - acc: 0.6711 - val_loss: 0.6654 - val_acc: 0.6256\n",
      "Epoch 12/50\n",
      "1568s - loss: 0.6052 - acc: 0.6701 - val_loss: 0.6691 - val_acc: 0.6108\n",
      "Epoch 13/50\n",
      "1574s - loss: 0.6018 - acc: 0.6813 - val_loss: 0.6726 - val_acc: 0.5920\n",
      "Epoch 14/50\n",
      "1569s - loss: 0.5940 - acc: 0.6768 - val_loss: 0.6661 - val_acc: 0.6148\n",
      "Epoch 15/50\n",
      "1566s - loss: 0.5902 - acc: 0.6914 - val_loss: 0.6853 - val_acc: 0.5881\n",
      "Epoch 16/50\n",
      "1573s - loss: 0.5865 - acc: 0.6904 - val_loss: 0.6118 - val_acc: 0.6676\n",
      "Epoch 17/50\n",
      "1572s - loss: 0.5816 - acc: 0.6855 - val_loss: 0.6333 - val_acc: 0.6540\n",
      "Epoch 18/50\n",
      "1568s - loss: 0.5822 - acc: 0.6970 - val_loss: 0.6404 - val_acc: 0.6585\n",
      "Epoch 19/50\n",
      "1573s - loss: 0.5757 - acc: 0.6997 - val_loss: 0.6342 - val_acc: 0.6585\n",
      "Epoch 20/50\n",
      "1568s - loss: 0.5769 - acc: 0.6976 - val_loss: 0.6224 - val_acc: 0.6528\n",
      "Epoch 21/50\n",
      "1565s - loss: 0.5741 - acc: 0.7067 - val_loss: 0.6395 - val_acc: 0.6494\n",
      "Epoch 22/50\n",
      "1569s - loss: 0.5710 - acc: 0.7025 - val_loss: 0.5998 - val_acc: 0.6744\n",
      "Epoch 23/50\n",
      "1570s - loss: 0.5650 - acc: 0.7067 - val_loss: 0.6515 - val_acc: 0.6273\n",
      "Epoch 24/50\n",
      "1566s - loss: 0.5623 - acc: 0.7067 - val_loss: 0.6551 - val_acc: 0.6199\n",
      "Epoch 25/50\n",
      "1566s - loss: 0.5602 - acc: 0.7143 - val_loss: 0.7139 - val_acc: 0.5494\n",
      "Epoch 26/50\n",
      "1562s - loss: 0.5519 - acc: 0.7162 - val_loss: 0.6133 - val_acc: 0.6710\n",
      "Epoch 27/50\n",
      "1572s - loss: 0.5509 - acc: 0.7222 - val_loss: 0.6069 - val_acc: 0.6960\n",
      "Epoch 28/50\n",
      "1566s - loss: 0.5455 - acc: 0.7217 - val_loss: 0.6435 - val_acc: 0.6335\n",
      "Epoch 29/50\n",
      "1568s - loss: 0.5441 - acc: 0.7241 - val_loss: 0.6751 - val_acc: 0.5858\n",
      "Epoch 30/50\n",
      "1570s - loss: 0.5383 - acc: 0.7257 - val_loss: 0.6978 - val_acc: 0.5608\n",
      "Epoch 31/50\n",
      "1573s - loss: 0.5426 - acc: 0.7232 - val_loss: 0.6146 - val_acc: 0.6773\n",
      "Epoch 32/50\n",
      "1570s - loss: 0.5306 - acc: 0.7351 - val_loss: 0.6273 - val_acc: 0.6557\n",
      "Epoch 33/50\n",
      "1570s - loss: 0.5201 - acc: 0.7410 - val_loss: 0.5972 - val_acc: 0.6955\n",
      "Epoch 34/50\n",
      "1566s - loss: 0.5169 - acc: 0.7442 - val_loss: 0.6109 - val_acc: 0.6699\n",
      "Epoch 35/50\n",
      "1555s - loss: 0.5216 - acc: 0.7455 - val_loss: 0.6532 - val_acc: 0.6273\n",
      "Epoch 36/50\n",
      "1554s - loss: 0.5122 - acc: 0.7459 - val_loss: 0.5804 - val_acc: 0.7017\n",
      "Epoch 37/50\n",
      "1566s - loss: 0.5101 - acc: 0.7463 - val_loss: 0.6626 - val_acc: 0.5903\n",
      "Epoch 38/50\n",
      "1556s - loss: 0.5005 - acc: 0.7569 - val_loss: 0.5918 - val_acc: 0.6756\n",
      "Epoch 39/50\n",
      "1566s - loss: 0.4957 - acc: 0.7537 - val_loss: 0.6018 - val_acc: 0.6847\n",
      "Epoch 40/50\n",
      "1568s - loss: 0.4920 - acc: 0.7531 - val_loss: 0.6680 - val_acc: 0.5824\n",
      "Epoch 41/50\n",
      "1567s - loss: 0.4928 - acc: 0.7577 - val_loss: 0.6303 - val_acc: 0.6273\n",
      "Epoch 42/50\n",
      "1572s - loss: 0.4862 - acc: 0.7541 - val_loss: 0.6277 - val_acc: 0.6301\n",
      "Epoch 43/50\n",
      "1563s - loss: 0.4867 - acc: 0.7548 - val_loss: 0.6659 - val_acc: 0.5943\n",
      "Epoch 44/50\n",
      "1559s - loss: 0.4752 - acc: 0.7692 - val_loss: 0.5641 - val_acc: 0.7057\n",
      "Epoch 45/50\n",
      "1559s - loss: 0.4762 - acc: 0.7687 - val_loss: 0.5629 - val_acc: 0.7017\n",
      "Epoch 46/50\n",
      "1565s - loss: 0.4569 - acc: 0.7808 - val_loss: 0.5978 - val_acc: 0.6722\n",
      "Epoch 47/50\n",
      "1567s - loss: 0.4697 - acc: 0.7740 - val_loss: 0.5706 - val_acc: 0.6943\n",
      "Epoch 48/50\n",
      "1569s - loss: 0.4533 - acc: 0.7798 - val_loss: 0.6840 - val_acc: 0.5403\n",
      "Epoch 49/50\n",
      "1565s - loss: 0.4575 - acc: 0.7776 - val_loss: 0.5793 - val_acc: 0.6955\n",
      "Epoch 50/50\n",
      "1571s - loss: 0.4480 - acc: 0.7798 - val_loss: 0.6192 - val_acc: 0.6466\n",
      "Training duration : 78220.1503031\n",
      "Network's test score [loss, accuracy]: [0.61915694339708849, 0.64659090909090911]\n",
      "CNN Error: 35.34%\n"
     ]
    },
    {
     "data": {
      "text/plain": [
       "<matplotlib.figure.Figure at 0x115c21fd0>"
      ]
     },
     "metadata": {},
     "output_type": "display_data"
    },
    {
     "data": {
      "image/png": "[encoded data removed]",
      "text/plain": [
       "<matplotlib.figure.Figure at 0x115285810>"
      ]
     },
     "metadata": {},
     "output_type": "display_data"
    }
   ],
   "source": [
    "np.random.seed(SEED)\n",
    "\n",
    "(cnn_model, loss_cnn, acc_cnn, test_score_cnn) = bc.run_network(model=diff_model7_noise_reg, \n",
    "                                                                data=data, \n",
    "                                                                epochs=50, batch=64)\n",
    "plt.figure(figsize=(10,10))\n",
    "bc.plot_losses(loss_cnn, acc_cnn)\n",
    "plt.savefig('../../figures/epoch_figures/jn_Core_CNN_Detection_Learning_Threshold_20170609.png', dpi=100)"
   ]
  },
  {
   "cell_type": "code",
   "execution_count": 26,
   "metadata": {},
   "outputs": [
    {
     "name": "stdout",
     "output_type": "stream",
     "text": [
      "Model and Weights Saved to Disk\n"
     ]
    }
   ],
   "source": [
    "bc.save_model(dir_path='./weights/', model=cnn_model, name='jn_Core_CNN_Detection_Threshold_20170609')"
   ]
  },
  {
   "cell_type": "code",
   "execution_count": 27,
   "metadata": {},
   "outputs": [
    {
     "name": "stdout",
     "output_type": "stream",
     "text": [
      "Core CNN Accuracy:   64.66%\n",
      "Core CNN Error:      35.34%\n",
      "Normalized confusion matrix\n",
      "[[ 0.38  0.62]\n",
      " [ 0.08  0.92]]\n"
     ]
    },
    {
     "data": {
      "image/png": "[encoded data removed]",
      "text/plain": [
       "<matplotlib.figure.Figure at 0x1192e2a90>"
      ]
     },
     "metadata": {},
     "output_type": "display_data"
    }
   ],
   "source": [
    "print 'Core CNN Accuracy: {: >7.2f}%'.format(test_score_cnn[1] * 100)\n",
    "print 'Core CNN Error: {: >10.2f}%'.format(100 - test_score_cnn[1] * 100)\n",
    "\n",
    "predictOutput = bc.predict(cnn_model, X_test)\n",
    "\n",
    "cnn_matrix = skm.confusion_matrix(y_true=[val.argmax() for val in Y_test], y_pred=predictOutput)\n",
    "\n",
    "plt.figure(figsize=(8,6))\n",
    "bc.plot_confusion_matrix(cnn_matrix, classes=class_names, normalize=True,\n",
    "                         title='CNN Normalized Confusion Matrix Using Thresholded \\n')\n",
    "plt.tight_layout()\n",
    "plt.savefig('../../figures/jn_Core_CNN_Detection_CM_Threshold_20170609.png', dpi=100)"
   ]
  },
  {
   "cell_type": "code",
   "execution_count": 28,
   "metadata": {},
   "outputs": [
    {
     "name": "stdout",
     "output_type": "stream",
     "text": [
      "Confusion matrix, without normalization\n",
      "[[330 550]\n",
      " [ 72 808]]\n"
     ]
    },
    {
     "data": {
      "image/png": "[encoded data removed]",
      "text/plain": [
       "<matplotlib.figure.Figure at 0x1153e9b50>"
      ]
     },
     "metadata": {},
     "output_type": "display_data"
    }
   ],
   "source": [
    "plt.figure(figsize=(8,6))\n",
    "bc.plot_confusion_matrix(cnn_matrix, classes=class_names, normalize=False,\n",
    "                         title='CNN Raw Confusion Matrix Using Thresholded \\n')\n",
    "plt.tight_layout()"
   ]
  },
  {
   "cell_type": "code",
   "execution_count": 29,
   "metadata": {},
   "outputs": [
    {
     "data": {
      "text/plain": [
       "{'Accuracy': 64.66,\n",
       " 'F1': 0.72,\n",
       " 'NPV': 82.09,\n",
       " 'PPV': 59.5,\n",
       " 'Sensitivity': 91.82,\n",
       " 'Specificity': 37.5}"
      ]
     },
     "execution_count": 29,
     "metadata": {},
     "output_type": "execute_result"
    }
   ],
   "source": [
    "bc.cat_stats(cnn_matrix)"
   ]
  },
  {
   "cell_type": "code",
   "execution_count": null,
   "metadata": {
    "collapsed": true
   },
   "outputs": [],
   "source": []
  }
 ],
 "metadata": {
  "kernelspec": {
   "display_name": "Python 2",
   "language": "python",
   "name": "python2"
  },
  "language_info": {
   "codemirror_mode": {
    "name": "ipython",
    "version": 2
   },
   "file_extension": ".py",
   "mimetype": "text/x-python",
   "name": "python",
   "nbconvert_exporter": "python",
   "pygments_lexer": "ipython2",
   "version": "2.7.13"
  }
 },
 "nbformat": 4,
 "nbformat_minor": 2
}
