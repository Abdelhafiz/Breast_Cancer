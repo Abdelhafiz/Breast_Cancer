{
 "cells": [
  {
   "cell_type": "code",
   "execution_count": 1,
   "metadata": {
    "collapsed": false
   },
   "outputs": [
    {
     "name": "stderr",
     "output_type": "stream",
     "text": [
      "/usr/lib/python2.7/dist-packages/scipy/lib/_util.py:35: DeprecationWarning: Module scipy.linalg.blas.fblas is deprecated, use scipy.linalg.blas instead\n",
      "  DeprecationWarning)\n",
      "/usr/lib/python2.7/dist-packages/scipy/lib/_util.py:35: DeprecationWarning: Module scipy.linalg.blas.fblas is deprecated, use scipy.linalg.blas instead\n",
      "  DeprecationWarning)\n",
      "/usr/lib/python2.7/dist-packages/scipy/lib/_util.py:35: DeprecationWarning: Module scipy.linalg.blas.fblas is deprecated, use scipy.linalg.blas instead\n",
      "  DeprecationWarning)\n",
      "/usr/lib/python2.7/dist-packages/scipy/lib/_util.py:35: DeprecationWarning: Module scipy.linalg.blas.fblas is deprecated, use scipy.linalg.blas instead\n",
      "  DeprecationWarning)\n",
      "/usr/lib/python2.7/dist-packages/scipy/lib/_util.py:35: DeprecationWarning: Module scipy.linalg.blas.fblas is deprecated, use scipy.linalg.blas instead\n",
      "  DeprecationWarning)\n",
      "/usr/lib/python2.7/dist-packages/scipy/lib/_util.py:35: DeprecationWarning: Module scipy.linalg.blas.fblas is deprecated, use scipy.linalg.blas instead\n",
      "  DeprecationWarning)\n",
      "/usr/lib/python2.7/dist-packages/scipy/lib/_util.py:35: DeprecationWarning: Module scipy.linalg.blas.fblas is deprecated, use scipy.linalg.blas instead\n",
      "  DeprecationWarning)\n",
      "/usr/lib/python2.7/dist-packages/scipy/lib/_util.py:35: DeprecationWarning: Module scipy.linalg.blas.fblas is deprecated, use scipy.linalg.blas instead\n",
      "  DeprecationWarning)\n",
      "Using Theano backend.\n"
     ]
    }
   ],
   "source": [
    "import datetime\n",
    "import Image\n",
    "import gc\n",
    "import numpy as np\n",
    "import os\n",
    "import random\n",
    "from scipy import misc\n",
    "import string\n",
    "import time\n",
    "import sys\n",
    "import sklearn.metrics as skm\n",
    "\n",
    "# Set some Theano config before initializing\n",
    "os.environ[\"THEANO_FLAGS\"] = \"mode=FAST_RUN,device=cpu,floatX=float32,allow_gc=False,openmp=True\"\n",
    "import theano\n",
    "\n",
    "# MatPlotLib - Setup for Jupyter notebook output\n",
    "import matplotlib\n",
    "matplotlib.use('Agg')\n",
    "from matplotlib import pyplot as plt\n",
    "\n",
    "# Our modules\n",
    "import dwdii_bc_model_helper as bc\n",
    "import bc_models as models\n",
    "\n",
    "# And Keras so we can emit the version\n",
    "import keras\n",
    "\n",
    "random.seed(20275)\n",
    "np.set_printoptions(precision=2)"
   ]
  },
  {
   "cell_type": "code",
   "execution_count": 2,
   "metadata": {
    "collapsed": false
   },
   "outputs": [
    {
     "name": "stdout",
     "output_type": "stream",
     "text": [
      "Python v2.7.6 (default, Jun 22 2015, 17:58:13) \n",
      "[GCC 4.8.2]\n",
      "keras v: 1.0.3\n",
      "device: cpu\n",
      "floatX: float32\n",
      "mode: FAST_RUN\n",
      "openmp: True\n",
      "allow_gc: False\n"
     ]
    }
   ],
   "source": [
    "# Print some upfront version and config settings\n",
    "print \"Python v\" + sys.version\n",
    "print \"keras v: \" + keras.__version__\n",
    "print \"device:\", theano.config.device\n",
    "print \"floatX:\",  theano.config.floatX\n",
    "print \"mode:\", theano.config.mode\n",
    "print \"openmp:\", theano.config.openmp\n",
    "print \"allow_gc:\", theano.config.allow_gc"
   ]
  },
  {
   "cell_type": "code",
   "execution_count": 3,
   "metadata": {
    "collapsed": true
   },
   "outputs": [],
   "source": [
    "imagePath = \"/root/bc_data/ddsm-png.25\"\n",
    "#imagePath = \"/root/bc_data/Data_Thresholded/DDSM\"\n",
    "trainDataPath = \"../../data/ddsm_train.csv\"\n",
    "testDataPath = \"../../data/ddsm_test.csv\"\n",
    "imgResize = (150, 150)"
   ]
  },
  {
   "cell_type": "code",
   "execution_count": 4,
   "metadata": {
    "collapsed": false
   },
   "outputs": [
    {
     "name": "stderr",
     "output_type": "stream",
     "text": [
      "/usr/local/lib/python2.7/dist-packages/IPython/core/formatters.py:92: DeprecationWarning: DisplayFormatter._ipython_display_formatter_default is deprecated: use @default decorator instead.\n",
      "  def _ipython_display_formatter_default(self):\n",
      "/usr/local/lib/python2.7/dist-packages/IPython/core/formatters.py:98: DeprecationWarning: DisplayFormatter._formatters_default is deprecated: use @default decorator instead.\n",
      "  def _formatters_default(self):\n",
      "/usr/local/lib/python2.7/dist-packages/IPython/core/formatters.py:677: DeprecationWarning: PlainTextFormatter._deferred_printers_default is deprecated: use @default decorator instead.\n",
      "  def _deferred_printers_default(self):\n",
      "/usr/local/lib/python2.7/dist-packages/IPython/core/formatters.py:669: DeprecationWarning: PlainTextFormatter._singleton_printers_default is deprecated: use @default decorator instead.\n",
      "  def _singleton_printers_default(self):\n",
      "/usr/local/lib/python2.7/dist-packages/IPython/core/formatters.py:672: DeprecationWarning: PlainTextFormatter._type_printers_default is deprecated: use @default decorator instead.\n",
      "  def _type_printers_default(self):\n",
      "/usr/local/lib/python2.7/dist-packages/IPython/core/formatters.py:669: DeprecationWarning: PlainTextFormatter._singleton_printers_default is deprecated: use @default decorator instead.\n",
      "  def _singleton_printers_default(self):\n",
      "/usr/local/lib/python2.7/dist-packages/IPython/core/formatters.py:672: DeprecationWarning: PlainTextFormatter._type_printers_default is deprecated: use @default decorator instead.\n",
      "  def _type_printers_default(self):\n",
      "/usr/local/lib/python2.7/dist-packages/IPython/core/formatters.py:677: DeprecationWarning: PlainTextFormatter._deferred_printers_default is deprecated: use @default decorator instead.\n",
      "  def _deferred_printers_default(self):\n"
     ]
    },
    {
     "data": {
      "text/plain": [
       "['ddsm_test.csv', 'ddsm_train.csv', 'ddsm_val.csv', 'mias_all.csv']"
      ]
     },
     "execution_count": 4,
     "metadata": {},
     "output_type": "execute_result"
    }
   ],
   "source": [
    "os.listdir('../../data')"
   ]
  },
  {
   "cell_type": "markdown",
   "metadata": {},
   "source": [
    "# Load Training and Test Data\n",
    "\n",
    "In this section, the training/validation data is loaded. The load_data function pre-balances the data set by removing images from over-represented emotion classes."
   ]
  },
  {
   "cell_type": "markdown",
   "metadata": {},
   "source": [
    "### Training Data"
   ]
  },
  {
   "cell_type": "code",
   "execution_count": 5,
   "metadata": {
    "collapsed": false
   },
   "outputs": [
    {
     "name": "stdout",
     "output_type": "stream",
     "text": [
      "Raw Balance\n",
      "----------------\n",
      "benign 541\n",
      "malignant 852\n",
      "normal 2793\n",
      "balanaceViaRemoval.avgE: 1395\n",
      "balanaceViaRemoval.theshold: 1395.0\n",
      "\n",
      "After Balancing\n",
      "----------------\n",
      "benign 541\n",
      "malignant 852\n",
      "normal 929\n"
     ]
    }
   ],
   "source": [
    "metaData, meta2, mCounts = bc.load_training_metadata(trainDataPath, balanceViaRemoval=True, verbose=True)"
   ]
  },
  {
   "cell_type": "code",
   "execution_count": 6,
   "metadata": {
    "collapsed": false
   },
   "outputs": [
    {
     "name": "stdout",
     "output_type": "stream",
     "text": [
      "Raw Balance\n",
      "----------------\n",
      "benign 541\n",
      "malignant 852\n",
      "normal 2793\n",
      "balanaceViaRemoval.avgE: 1395\n",
      "balanaceViaRemoval.theshold: 1395.0\n",
      "\n",
      "After Balancing\n",
      "----------------\n",
      "benign 541\n",
      "malignant 852\n",
      "normal 929\n",
      "0.0000: A_0526_1.LEFT_CC.LJPEG.png\r\n"
     ]
    },
    {
     "name": "stderr",
     "output_type": "stream",
     "text": [
      "dwdii_bc_model_helper.py:161: DeprecationWarning: using a non-integer number instead of an integer will result in an error in the future\n",
      "  X_data = np.zeros([total, x, y])\n",
      "dwdii_bc_model_helper.py:162: DeprecationWarning: using a non-integer number instead of an integer will result in an error in the future\n",
      "  Y_data = np.zeros([total, 1], dtype=np.int8)\n"
     ]
    },
    {
     "name": "stdout",
     "output_type": "stream",
     "text": [
      "Not Found: /root/bc_data/ddsm-png.25/1/A_1146_1.LEFT_MLO.LJPEG.png\n",
      "Not Found: /root/bc_data/ddsm-png.25/1/A_1211_1.LEFT_CC.LJPEG.png\n",
      "Not Found: /root/bc_data/ddsm-png.25/1/A_1190_1.LEFT_CC.LJPEG.png\n",
      "0.0215: B_3031_1.LEFT_MLO.LJPEG.png\n",
      "Not Found: /root/bc_data/ddsm-png.25/1/A_1159_1.RIGHT_MLO.LJPEG.png\n",
      "Not Found: /root/bc_data/ddsm-png.25/1/A_1125_1.LEFT_CC.LJPEG.png\n",
      "Not Found: /root/bc_data/ddsm-png.25/1/A_1155_1.LEFT_MLO.LJPEG.png\n",
      "0.0431: B_3007_1.LEFT_CC.LJPEG.png\n",
      "Not Found: /root/bc_data/ddsm-png.25/1/A_1158_1.LEFT_CC.LJPEG.png\n",
      "Not Found: /root/bc_data/ddsm-png.25/1/A_1156_1.LEFT_MLO.LJPEG.png\n",
      "Not Found: /root/bc_data/ddsm-png.25/1/A_1202_1.LEFT_CC.LJPEG.png\n",
      "Not Found: /root/bc_data/ddsm-png.25/3/B_3488_1.RIGHT_MLO.LJPEG.png\n",
      "0.0646: C_0088_1.LEFT_CC.LJPEG.png\n",
      "Not Found: /root/bc_data/ddsm-png.25/1/A_1113_1.RIGHT_MLO.LJPEG.png\n",
      "Not Found: /root/bc_data/ddsm-png.25/1/A_1201_1.RIGHT_MLO.LJPEG.png\n",
      "Not Found: /root/bc_data/ddsm-png.25/1/A_1126_1.RIGHT_MLO.LJPEG.png\n",
      "Not Found: /root/bc_data/ddsm-png.25/1/A_1175_1.LEFT_CC.LJPEG.png\n",
      "Not Found: /root/bc_data/ddsm-png.25/1/A_1130_1.RIGHT_CC.LJPEG.png\n",
      "Not Found: /root/bc_data/ddsm-png.25/0/C_0476_1.LEFT_CC.LJPEG.png\n",
      "0.0861: B_3017_1.LEFT_CC.LJPEG.png\n",
      "Not Found: /root/bc_data/ddsm-png.25/1/A_1174_1.LEFT_CC.LJPEG.png\n",
      "Not Found: /root/bc_data/ddsm-png.25/1/A_1141_1.RIGHT_MLO.LJPEG.png\n",
      "Not Found: /root/bc_data/ddsm-png.25/1/A_1135_1.LEFT_MLO.LJPEG.png\n",
      "0.1077: C_0047_1.LEFT_CC.LJPEG.png\n",
      "Not Found: /root/bc_data/ddsm-png.25/1/A_1212_1.LEFT_CC.LJPEG.png\n",
      "Not Found: /root/bc_data/ddsm-png.25/1/A_1172_1.RIGHT_MLO.LJPEG.png\n",
      "Not Found: /root/bc_data/ddsm-png.25/1/A_1172_1.RIGHT_CC.LJPEG.png\n",
      "Not Found: /root/bc_data/ddsm-png.25/1/A_1171_1.LEFT_MLO.LJPEG.png\n",
      "Not Found: /root/bc_data/ddsm-png.25/1/A_1126_1.LEFT_CC.LJPEG.png\n",
      "Not Found: /root/bc_data/ddsm-png.25/1/A_1152_1.LEFT_CC.LJPEG.png\n",
      "Not Found: /root/bc_data/ddsm-png.25/1/A_1158_1.LEFT_MLO.LJPEG.png\n",
      "Not Found: /root/bc_data/ddsm-png.25/1/A_1164_1.LEFT_CC.LJPEG.png\n",
      "0.1292: A_1078_1.LEFT_MLO.LJPEG.png\n",
      "Not Found: /root/bc_data/ddsm-png.25/1/A_1175_1.RIGHT_CC.LJPEG.png\n",
      "Not Found: /root/bc_data/ddsm-png.25/1/A_1165_1.RIGHT_MLO.LJPEG.png\n",
      "Not Found: /root/bc_data/ddsm-png.25/1/A_1160_1.RIGHT_CC.LJPEG.png\n",
      "Not Found: /root/bc_data/ddsm-png.25/1/A_1164_1.LEFT_MLO.LJPEG.png\n",
      "0.1507: A_0503_1.LEFT_CC.LJPEG.png\n",
      "Not Found: /root/bc_data/ddsm-png.25/1/A_1191_1.LEFT_MLO.LJPEG.png\n",
      "Not Found: /root/bc_data/ddsm-png.25/1/A_1190_1.RIGHT_CC.LJPEG.png\n",
      "Not Found: /root/bc_data/ddsm-png.25/1/A_1159_1.RIGHT_CC.LJPEG.png\n",
      "Not Found: /root/bc_data/ddsm-png.25/1/A_1134_1.LEFT_MLO.LJPEG.png\n",
      "Not Found: /root/bc_data/ddsm-png.25/1/A_1144_1.RIGHT_MLO.LJPEG.png\n",
      "Not Found: /root/bc_data/ddsm-png.25/1/A_1140_1.RIGHT_MLO.LJPEG.png\n",
      "Not Found: /root/bc_data/ddsm-png.25/1/A_1115_1.RIGHT_CC.LJPEG.png\n",
      "0.1723: A_0477_1.LEFT_CC.LJPEG.png\n",
      "Not Found: /root/bc_data/ddsm-png.25/1/A_1180_1.RIGHT_MLO.LJPEG.png\n",
      "Not Found: /root/bc_data/ddsm-png.25/1/A_1165_1.LEFT_CC.LJPEG.png\n",
      "Not Found: /root/bc_data/ddsm-png.25/1/A_1136_1.LEFT_CC.LJPEG.png\n",
      "0.1938: B_3379_1.RIGHT_CC.LJPEG.png\n",
      "Not Found: /root/bc_data/ddsm-png.25/1/A_1129_1.RIGHT_CC.LJPEG.png\n",
      "Not Found: /root/bc_data/ddsm-png.25/1/A_1148_1.LEFT_CC.LJPEG.png\n",
      "Not Found: /root/bc_data/ddsm-png.25/1/A_1138_1.RIGHT_MLO.LJPEG.png\n",
      "Not Found: /root/bc_data/ddsm-png.25/1/A_1133_1.RIGHT_MLO.LJPEG.png\n",
      "Not Found: /root/bc_data/ddsm-png.25/1/A_1125_1.RIGHT_MLO.LJPEG.png\n",
      "0.2153: C_0503_1.RIGHT_MLO.LJPEG.png\n",
      "Not Found: /root/bc_data/ddsm-png.25/1/A_1113_1.LEFT_MLO.LJPEG.png\n",
      "Not Found: /root/bc_data/ddsm-png.25/1/A_1182_1.RIGHT_CC.LJPEG.png\n",
      "0.2369: C_0155_1.RIGHT_CC.LJPEG.png\n",
      "Not Found: /root/bc_data/ddsm-png.25/1/A_1168_1.LEFT_CC.LJPEG.png\n",
      "Not Found: /root/bc_data/ddsm-png.25/1/A_1156_1.RIGHT_CC.LJPEG.png\n",
      "0.2584: B_3007_1.RIGHT_CC.LJPEG.png\n",
      "Not Found: /root/bc_data/ddsm-png.25/0/C_0474_1.RIGHT_CC.LJPEG.png\n",
      "Not Found: /root/bc_data/ddsm-png.25/1/A_1150_1.RIGHT_CC.LJPEG.png\n",
      "Not Found: /root/bc_data/ddsm-png.25/0/C_0476_1.LEFT_MLO.LJPEG.png\n",
      "Not Found: /root/bc_data/ddsm-png.25/1/A_1189_1.LEFT_CC.LJPEG.png\n",
      "Not Found: /root/bc_data/ddsm-png.25/1/A_1158_1.RIGHT_CC.LJPEG.png\n",
      "Not Found: /root/bc_data/ddsm-png.25/1/A_1148_1.LEFT_MLO.LJPEG.png\n",
      "Not Found: /root/bc_data/ddsm-png.25/1/A_1202_1.RIGHT_CC.LJPEG.png\n",
      "Not Found: /root/bc_data/ddsm-png.25/1/A_1169_1.LEFT_MLO.LJPEG.png\n",
      "Not Found: /root/bc_data/ddsm-png.25/1/A_1145_1.LEFT_CC.LJPEG.png\n",
      "0.2799: A_0310_1.LEFT_MLO.LJPEG.png\n",
      "Not Found: /root/bc_data/ddsm-png.25/1/A_1212_1.LEFT_MLO.LJPEG.png\n",
      "0.3015: B_3044_1.LEFT_CC.LJPEG.png\n",
      "Not Found: /root/bc_data/ddsm-png.25/1/A_1145_1.RIGHT_CC.LJPEG.png\n",
      "Not Found: /root/bc_data/ddsm-png.25/1/A_1181_1.LEFT_CC.LJPEG.png\n",
      "Not Found: /root/bc_data/ddsm-png.25/1/A_1122_1.LEFT_MLO.LJPEG.png\n",
      "Not Found: /root/bc_data/ddsm-png.25/1/A_1155_1.RIGHT_CC.LJPEG.png\n",
      "0.3230: A_0108_1.RIGHT_CC.LJPEG.png\n",
      "Not Found: /root/bc_data/ddsm-png.25/1/A_1169_1.LEFT_CC.LJPEG.png\n",
      "0.3445: A_0598_1.LEFT_MLO.LJPEG.png\n",
      "0.3661: B_3362_1.RIGHT_MLO.LJPEG.png\n",
      "Not Found: /root/bc_data/ddsm-png.25/1/A_1116_1.LEFT_CC.LJPEG.png\n",
      "Not Found: /root/bc_data/ddsm-png.25/1/A_1187_1.RIGHT_MLO.LJPEG.png\n",
      "Not Found: /root/bc_data/ddsm-png.25/1/A_1167_1.LEFT_MLO.LJPEG.png\n",
      "0.3876: A_0293_1.LEFT_MLO.LJPEG.png\n",
      "0.4091: A_0607_1.LEFT_MLO.LJPEG.png\n",
      "Not Found: /root/bc_data/ddsm-png.25/1/A_1133_1.RIGHT_CC.LJPEG.png\n",
      "Not Found: /root/bc_data/ddsm-png.25/1/A_1141_1.RIGHT_CC.LJPEG.png\n",
      "Not Found: /root/bc_data/ddsm-png.25/1/A_1132_1.LEFT_MLO.LJPEG.png\n",
      "Not Found: /root/bc_data/ddsm-png.25/1/A_1202_1.RIGHT_MLO.LJPEG.png\n",
      "Not Found: /root/bc_data/ddsm-png.25/1/A_1153_1.RIGHT_CC.LJPEG.png\n",
      "Not Found: /root/bc_data/ddsm-png.25/1/A_1196_1.RIGHT_CC.LJPEG.png\n",
      "0.4307: B_3002_1.LEFT_MLO.LJPEG.png\n",
      "Not Found: /root/bc_data/ddsm-png.25/1/A_1142_1.LEFT_MLO.LJPEG.png\n",
      "Not Found: /root/bc_data/ddsm-png.25/1/A_1153_1.LEFT_MLO.LJPEG.png\n",
      "Not Found: /root/bc_data/ddsm-png.25/0/C_0474_1.RIGHT_MLO.LJPEG.png\n",
      "Not Found: /root/bc_data/ddsm-png.25/1/A_1122_1.LEFT_CC.LJPEG.png\n",
      "0.4522: A_0573_1.RIGHT_CC.LJPEG.png\n",
      "Not Found: /root/bc_data/ddsm-png.25/1/A_1202_1.LEFT_MLO.LJPEG.png\n",
      "Not Found: /root/bc_data/ddsm-png.25/0/C_0477_1.LEFT_MLO.LJPEG.png\n",
      "Not Found: /root/bc_data/ddsm-png.25/1/A_1171_1.LEFT_CC.LJPEG.png\n",
      "Not Found: /root/bc_data/ddsm-png.25/3/B_3487_1.RIGHT_MLO.LJPEG.png\n",
      "Not Found: /root/bc_data/ddsm-png.25/1/A_1186_1.LEFT_MLO.LJPEG.png\n",
      "Not Found: /root/bc_data/ddsm-png.25/1/A_1109_1.LEFT_MLO.LJPEG.png\n",
      "Not Found: /root/bc_data/ddsm-png.25/1/A_1126_1.RIGHT_CC.LJPEG.png\n",
      "0.4737: B_3140_1.RIGHT_CC.LJPEG.png\n",
      "Not Found: /root/bc_data/ddsm-png.25/1/A_1144_1.RIGHT_CC.LJPEG.png\n",
      "Not Found: /root/bc_data/ddsm-png.25/1/A_1190_1.LEFT_MLO.LJPEG.png\n",
      "Not Found: /root/bc_data/ddsm-png.25/1/A_1121_1.RIGHT_CC.LJPEG.png\n",
      "0.4953: B_3432_1.LEFT_CC.LJPEG.png\n",
      "Not Found: /root/bc_data/ddsm-png.25/1/A_1118_1.LEFT_MLO.LJPEG.png\n",
      "Not Found: /root/bc_data/ddsm-png.25/1/A_1145_1.RIGHT_MLO.LJPEG.png\n",
      "Not Found: /root/bc_data/ddsm-png.25/1/A_1148_1.RIGHT_CC.LJPEG.png\n",
      "Not Found: /root/bc_data/ddsm-png.25/1/A_1142_1.LEFT_CC.LJPEG.png\n",
      "0.5168: B_3433_1.LEFT_CC.LJPEG.png\n",
      "0.5383: B_3409_1.LEFT_CC.LJPEG.png\n",
      "Not Found: /root/bc_data/ddsm-png.25/1/A_1201_1.RIGHT_CC.LJPEG.png\n",
      "Not Found: /root/bc_data/ddsm-png.25/1/A_1153_1.LEFT_CC.LJPEG.png\n",
      "Not Found: /root/bc_data/ddsm-png.25/1/A_1175_1.RIGHT_MLO.LJPEG.png\n",
      "Not Found: /root/bc_data/ddsm-png.25/1/A_1167_1.LEFT_CC.LJPEG.png\n",
      "Not Found: /root/bc_data/ddsm-png.25/1/A_1127_1.RIGHT_MLO.LJPEG.png\n",
      "Not Found: /root/bc_data/ddsm-png.25/1/A_1182_1.RIGHT_MLO.LJPEG.png\n",
      "Not Found: /root/bc_data/ddsm-png.25/1/A_1155_1.LEFT_CC.LJPEG.png\n",
      "Not Found: /root/bc_data/ddsm-png.25/1/A_1134_1.RIGHT_MLO.LJPEG.png\n",
      "Not Found: /root/bc_data/ddsm-png.25/1/A_1149_1.LEFT_MLO.LJPEG.png\n",
      "0.5599: B_3184_1.RIGHT_MLO.LJPEG.png\n",
      "Not Found: /root/bc_data/ddsm-png.25/1/A_1121_1.LEFT_MLO.LJPEG.png\n",
      "Not Found: /root/bc_data/ddsm-png.25/1/A_1131_1.RIGHT_MLO.LJPEG.png\n",
      "Not Found: /root/bc_data/ddsm-png.25/1/A_1118_1.RIGHT_MLO.LJPEG.png\n",
      "Not Found: /root/bc_data/ddsm-png.25/0/C_0477_1.LEFT_CC.LJPEG.png\n",
      "Not Found: /root/bc_data/ddsm-png.25/1/A_1174_1.LEFT_MLO.LJPEG.png\n",
      "Not Found: /root/bc_data/ddsm-png.25/1/A_1171_1.RIGHT_MLO.LJPEG.png\n",
      "0.5814: C_0327_1.RIGHT_MLO.LJPEG.png\n",
      "Not Found: /root/bc_data/ddsm-png.25/1/A_1158_1.RIGHT_MLO.LJPEG.png\n",
      "Not Found: /root/bc_data/ddsm-png.25/1/A_1186_1.LEFT_CC.LJPEG.png\n",
      "Not Found: /root/bc_data/ddsm-png.25/1/A_1154_1.RIGHT_MLO.LJPEG.png\n",
      "0.6029: C_0248_1.LEFT_CC.LJPEG.png\n",
      "Not Found: /root/bc_data/ddsm-png.25/1/A_1180_1.RIGHT_CC.LJPEG.png\n",
      "Not Found: /root/bc_data/ddsm-png.25/1/A_1118_1.RIGHT_CC.LJPEG.png\n",
      "Not Found: /root/bc_data/ddsm-png.25/1/A_1146_1.LEFT_CC.LJPEG.png\n",
      "Not Found: /root/bc_data/ddsm-png.25/1/A_1167_1.RIGHT_CC.LJPEG.png\n",
      "Not Found: /root/bc_data/ddsm-png.25/1/A_1167_1.RIGHT_MLO.LJPEG.png\n",
      "0.6245: B_3676_1.RIGHT_CC.LJPEG.png\n",
      "Not Found: /root/bc_data/ddsm-png.25/1/A_1108_1.LEFT_MLO.LJPEG.png\n",
      "Not Found: /root/bc_data/ddsm-png.25/1/A_1196_1.RIGHT_MLO.LJPEG.png\n",
      "Not Found: /root/bc_data/ddsm-png.25/1/A_1121_1.LEFT_CC.LJPEG.png\n",
      "Not Found: /root/bc_data/ddsm-png.25/1/A_1131_1.RIGHT_CC.LJPEG.png\n",
      "Not Found: /root/bc_data/ddsm-png.25/1/A_1182_1.LEFT_CC.LJPEG.png\n",
      "0.6460: B_3006_1.LEFT_MLO.LJPEG.png\n",
      "Not Found: /root/bc_data/ddsm-png.25/1/A_1191_1.LEFT_CC.LJPEG.png\n",
      "Not Found: /root/bc_data/ddsm-png.25/1/A_1186_1.RIGHT_MLO.LJPEG.png\n",
      "Not Found: /root/bc_data/ddsm-png.25/1/A_1132_1.LEFT_CC.LJPEG.png\n",
      "Not Found: /root/bc_data/ddsm-png.25/1/A_1141_1.LEFT_CC.LJPEG.png\n",
      "0.6675: A_0467_1.LEFT_MLO.LJPEG.png\n",
      "Not Found: /root/bc_data/ddsm-png.25/1/A_1135_1.LEFT_CC.LJPEG.png\n",
      "Not Found: /root/bc_data/ddsm-png.25/3/B_3487_1.RIGHT_CC.LJPEG.png\n",
      "Not Found: /root/bc_data/ddsm-png.25/1/A_1109_1.LEFT_CC.LJPEG.png\n",
      "Not Found: /root/bc_data/ddsm-png.25/1/A_1125_1.LEFT_MLO.LJPEG.png\n",
      "Not Found: /root/bc_data/ddsm-png.25/1/A_1156_1.RIGHT_MLO.LJPEG.png\n",
      "Not Found: /root/bc_data/ddsm-png.25/1/A_1122_1.RIGHT_MLO.LJPEG.png\n",
      "0.6891: A_0360_1.RIGHT_MLO.LJPEG.png\n",
      "Not Found: /root/bc_data/ddsm-png.25/1/A_1150_1.RIGHT_MLO.LJPEG.png\n",
      "Not Found: /root/bc_data/ddsm-png.25/3/B_3487_1.LEFT_MLO.LJPEG.png\n",
      "Not Found: /root/bc_data/ddsm-png.25/1/A_1156_1.LEFT_CC.LJPEG.png\n",
      "0.7106: C_0252_1.LEFT_CC.LJPEG.png\n",
      "0.7321: C_0413_1.RIGHT_MLO.LJPEG.png\n",
      "Not Found: /root/bc_data/ddsm-png.25/1/A_1129_1.RIGHT_MLO.LJPEG.png\n",
      "Not Found: /root/bc_data/ddsm-png.25/1/A_1130_1.LEFT_MLO.LJPEG.png\n",
      "Not Found: /root/bc_data/ddsm-png.25/1/A_1157_1.LEFT_MLO.LJPEG.png\n",
      "Not Found: /root/bc_data/ddsm-png.25/1/A_1152_1.LEFT_MLO.LJPEG.png\n",
      "Not Found: /root/bc_data/ddsm-png.25/1/A_1192_1.LEFT_CC.LJPEG.png\n",
      "0.7537: C_0508_1.LEFT_CC.LJPEG.png\n",
      "Not Found: /root/bc_data/ddsm-png.25/1/A_1165_1.LEFT_MLO.LJPEG.png\n",
      "Not Found: /root/bc_data/ddsm-png.25/1/A_1181_1.LEFT_MLO.LJPEG.png\n",
      "Not Found: /root/bc_data/ddsm-png.25/1/A_1135_1.RIGHT_CC.LJPEG.png\n",
      "0.7752: A_0578_1.LEFT_CC.LJPEG.png\n",
      "Not Found: /root/bc_data/ddsm-png.25/1/A_1168_1.LEFT_MLO.LJPEG.png\n",
      "0.7967: A_0272_1.RIGHT_CC.LJPEG.png\n",
      "Not Found: /root/bc_data/ddsm-png.25/1/A_1142_1.RIGHT_MLO.LJPEG.png\n",
      "Not Found: /root/bc_data/ddsm-png.25/1/A_1134_1.RIGHT_CC.LJPEG.png\n",
      "0.8183: B_3066_1.LEFT_CC.LJPEG.png\n",
      "Not Found: /root/bc_data/ddsm-png.25/1/A_1169_1.RIGHT_MLO.LJPEG.png\n",
      "Not Found: /root/bc_data/ddsm-png.25/1/A_1154_1.LEFT_MLO.LJPEG.png\n",
      "Not Found: /root/bc_data/ddsm-png.25/1/A_1127_1.LEFT_MLO.LJPEG.png\n",
      "Not Found: /root/bc_data/ddsm-png.25/1/A_1142_1.RIGHT_CC.LJPEG.png\n",
      "Not Found: /root/bc_data/ddsm-png.25/1/A_1189_1.LEFT_MLO.LJPEG.png\n",
      "Not Found: /root/bc_data/ddsm-png.25/1/A_1130_1.LEFT_CC.LJPEG.png\n",
      "0.8398: B_3510_1.RIGHT_CC.LJPEG.png\n",
      "Not Found: /root/bc_data/ddsm-png.25/1/A_1116_1.LEFT_MLO.LJPEG.png\n",
      "Not Found: /root/bc_data/ddsm-png.25/1/A_1108_1.LEFT_CC.LJPEG.png\n",
      "Not Found: /root/bc_data/ddsm-png.25/1/A_1145_1.LEFT_MLO.LJPEG.png\n",
      "Not Found: /root/bc_data/ddsm-png.25/1/A_1146_1.RIGHT_MLO.LJPEG.png\n",
      "Not Found: /root/bc_data/ddsm-png.25/1/A_1187_1.RIGHT_CC.LJPEG.png\n",
      "0.8613: C_0079_1.LEFT_MLO.LJPEG.png\n",
      "Not Found: /root/bc_data/ddsm-png.25/3/B_3488_1.RIGHT_CC.LJPEG.png\n",
      "Not Found: /root/bc_data/ddsm-png.25/1/A_1153_1.RIGHT_MLO.LJPEG.png\n",
      "Not Found: /root/bc_data/ddsm-png.25/1/A_1154_1.LEFT_CC.LJPEG.png\n",
      "Not Found: /root/bc_data/ddsm-png.25/1/A_1114_1.RIGHT_CC.LJPEG.png\n",
      "Not Found: /root/bc_data/ddsm-png.25/1/A_1192_1.LEFT_MLO.LJPEG.png\n",
      "0.8829: B_3001_1.LEFT_CC.LJPEG.png\n",
      "Not Found: /root/bc_data/ddsm-png.25/1/A_1211_1.LEFT_MLO.LJPEG.png\n",
      "Not Found: /root/bc_data/ddsm-png.25/1/A_1157_1.LEFT_CC.LJPEG.png\n",
      "Not Found: /root/bc_data/ddsm-png.25/1/A_1127_1.RIGHT_CC.LJPEG.png\n",
      "Not Found: /root/bc_data/ddsm-png.25/1/A_1113_1.RIGHT_CC.LJPEG.png\n",
      "0.9044: B_3078_1.RIGHT_MLO.LJPEG.png\n",
      "Not Found: /root/bc_data/ddsm-png.25/1/A_1149_1.LEFT_CC.LJPEG.png\n",
      "Not Found: /root/bc_data/ddsm-png.25/1/A_1115_1.RIGHT_MLO.LJPEG.png\n",
      "0.9259: A_1026_1.LEFT_CC.LJPEG.png\n",
      "Not Found: /root/bc_data/ddsm-png.25/1/A_1154_1.RIGHT_CC.LJPEG.png\n",
      "(2155, 150, 150)\n",
      "(2155, 1)\n"
     ]
    }
   ],
   "source": [
    "# Actually load some representative data for model experimentation\n",
    "maxData = len(metaData)\n",
    "X_data, Y_data = bc.load_data(trainDataPath, imagePath, maxData = maxData, verboseFreq = 50, imgResize=imgResize)\n",
    "print X_data.shape\n",
    "print Y_data.shape"
   ]
  },
  {
   "cell_type": "markdown",
   "metadata": {},
   "source": [
    "### Load Test Set "
   ]
  },
  {
   "cell_type": "code",
   "execution_count": 7,
   "metadata": {
    "collapsed": false
   },
   "outputs": [
    {
     "name": "stdout",
     "output_type": "stream",
     "text": [
      "Raw Balance\n",
      "----------------\n",
      "benign 142\n",
      "malignant 206\n",
      "normal 699\n",
      "balanaceViaRemoval.avgE: 349\n",
      "balanaceViaRemoval.theshold: 349.0\n",
      "\n",
      "After Balancing\n",
      "----------------\n",
      "benign 142\n",
      "malignant 206\n",
      "normal 232\n",
      "0.0000: B_3380_1.RIGHT_MLO.LJPEG.png\r\n"
     ]
    },
    {
     "name": "stderr",
     "output_type": "stream",
     "text": [
      "dwdii_bc_model_helper.py:161: DeprecationWarning: using a non-integer number instead of an integer will result in an error in the future\n",
      "  X_data = np.zeros([total, x, y])\n",
      "dwdii_bc_model_helper.py:162: DeprecationWarning: using a non-integer number instead of an integer will result in an error in the future\n",
      "  Y_data = np.zeros([total, 1], dtype=np.int8)\n"
     ]
    },
    {
     "name": "stdout",
     "output_type": "stream",
     "text": [
      "Not Found: /root/bc_data/ddsm-png.25/1/A_1185_1.RIGHT_MLO.LJPEG.png\n",
      "Not Found: /root/bc_data/ddsm-png.25/1/A_1161_1.RIGHT_MLO.LJPEG.png\n",
      "Not Found: /root/bc_data/ddsm-png.25/1/A_1201_1.LEFT_MLO.LJPEG.png\n",
      "Not Found: /root/bc_data/ddsm-png.25/1/A_1211_1.RIGHT_CC.LJPEG.png\n",
      "Not Found: /root/bc_data/ddsm-png.25/1/A_1136_1.RIGHT_MLO.LJPEG.png\n",
      "Not Found: /root/bc_data/ddsm-png.25/1/A_1140_1.LEFT_CC.LJPEG.png\n",
      "0.0215: C_0168_1.RIGHT_CC.LJPEG.png\n",
      "Not Found: /root/bc_data/ddsm-png.25/1/A_1162_1.RIGHT_MLO.LJPEG.png\n",
      "Not Found: /root/bc_data/ddsm-png.25/1/A_1114_1.LEFT_MLO.LJPEG.png\n",
      "0.0431: C_0064_1.RIGHT_MLO.LJPEG.png\n",
      "Not Found: /root/bc_data/ddsm-png.25/1/A_1176_1.LEFT_CC.LJPEG.png\n",
      "Not Found: /root/bc_data/ddsm-png.25/1/A_1144_1.LEFT_CC.LJPEG.png\n",
      "Not Found: /root/bc_data/ddsm-png.25/1/A_1143_1.LEFT_CC.LJPEG.png\n",
      "Not Found: /root/bc_data/ddsm-png.25/1/A_1188_1.RIGHT_CC.LJPEG.png\n",
      "Not Found: /root/bc_data/ddsm-png.25/1/A_1140_1.LEFT_MLO.LJPEG.png\n",
      "0.0646: B_3357_1.LEFT_CC.LJPEG.png\n",
      "Not Found: /root/bc_data/ddsm-png.25/1/A_1143_1.RIGHT_MLO.LJPEG.png\n",
      "Not Found: /root/bc_data/ddsm-png.25/1/A_1185_1.RIGHT_CC.LJPEG.png\n",
      "0.0861: A_0303_1.RIGHT_CC.LJPEG.png\n",
      "Not Found: /root/bc_data/ddsm-png.25/1/A_1144_1.LEFT_MLO.LJPEG.png\n",
      "Not Found: /root/bc_data/ddsm-png.25/1/A_1136_1.RIGHT_CC.LJPEG.png\n",
      "Not Found: /root/bc_data/ddsm-png.25/1/A_1176_1.LEFT_MLO.LJPEG.png\n",
      "Not Found: /root/bc_data/ddsm-png.25/1/A_1150_1.LEFT_MLO.LJPEG.png\n",
      "Not Found: /root/bc_data/ddsm-png.25/1/A_1114_1.LEFT_CC.LJPEG.png\n",
      "0.1077: A_0207_1.LEFT_MLO.LJPEG.png\n",
      "Not Found: /root/bc_data/ddsm-png.25/1/A_1162_1.RIGHT_CC.LJPEG.png\n",
      "Not Found: /root/bc_data/ddsm-png.25/3/B_3488_1.LEFT_CC.LJPEG.png\n",
      "Not Found: /root/bc_data/ddsm-png.25/1/A_1163_1.RIGHT_MLO.LJPEG.png\n",
      "0.1292: C_0375_1.LEFT_MLO.LJPEG.png\n",
      "Not Found: /root/bc_data/ddsm-png.25/1/A_1150_1.LEFT_CC.LJPEG.png\n",
      "Not Found: /root/bc_data/ddsm-png.25/1/A_1188_1.RIGHT_MLO.LJPEG.png\n",
      "Not Found: /root/bc_data/ddsm-png.25/1/A_1172_1.LEFT_CC.LJPEG.png\n",
      "Not Found: /root/bc_data/ddsm-png.25/1/A_1203_1.LEFT_MLO.LJPEG.png\n",
      "0.1507: B_3119_1.LEFT_CC.LJPEG.png\n",
      "Not Found: /root/bc_data/ddsm-png.25/1/A_1185_1.LEFT_CC.LJPEG.png\n",
      "Not Found: /root/bc_data/ddsm-png.25/1/A_1189_1.RIGHT_CC.LJPEG.png\n",
      "Not Found: /root/bc_data/ddsm-png.25/1/A_1168_1.RIGHT_CC.LJPEG.png\n",
      "Not Found: /root/bc_data/ddsm-png.25/1/A_1163_1.RIGHT_CC.LJPEG.png\n",
      "0.1723: B_3104_1.RIGHT_MLO.LJPEG.png\n",
      "Not Found: /root/bc_data/ddsm-png.25/1/A_1112_1.LEFT_MLO.LJPEG.png\n",
      "Not Found: /root/bc_data/ddsm-png.25/1/A_1147_1.LEFT_CC.LJPEG.png\n",
      "Not Found: /root/bc_data/ddsm-png.25/1/A_1112_1.LEFT_CC.LJPEG.png\n",
      "0.1938: C_0326_1.LEFT_MLO.LJPEG.png\n",
      "Not Found: /root/bc_data/ddsm-png.25/1/A_1172_1.LEFT_MLO.LJPEG.png\n",
      "Not Found: /root/bc_data/ddsm-png.25/1/A_1147_1.RIGHT_CC.LJPEG.png\n",
      "Not Found: /root/bc_data/ddsm-png.25/1/A_1143_1.LEFT_MLO.LJPEG.png\n",
      "Not Found: /root/bc_data/ddsm-png.25/1/A_1147_1.LEFT_MLO.LJPEG.png\n",
      "0.2153: B_3441_1.LEFT_MLO.LJPEG.png\n",
      "Not Found: /root/bc_data/ddsm-png.25/1/A_1108_1.RIGHT_MLO.LJPEG.png\n",
      "Not Found: /root/bc_data/ddsm-png.25/1/A_1203_1.LEFT_CC.LJPEG.png\n",
      "Not Found: /root/bc_data/ddsm-png.25/1/A_1143_1.RIGHT_CC.LJPEG.png\n",
      "(539, 150, 150)\n",
      "(539, 1)\n"
     ]
    }
   ],
   "source": [
    "# Actually load some representative data for model experimentation\n",
    "maxData = len(metaData)\n",
    "X_test, Y_test = bc.load_data(testDataPath, imagePath, maxData = maxData, verboseFreq = 50, imgResize=imgResize)\n",
    "print X_test.shape\n",
    "print Y_test.shape"
   ]
  },
  {
   "cell_type": "markdown",
   "metadata": {},
   "source": [
    "## Training/Test Set Distribution\n",
    "The following code segment splits the data into training and test data sets. Currently this is a standard 80/20 split for training and test respectively after performing a random shuffle using the unison_shuffled_copies help method."
   ]
  },
  {
   "cell_type": "code",
   "execution_count": 8,
   "metadata": {
    "collapsed": true
   },
   "outputs": [],
   "source": [
    "X_train = X_data\n",
    "Y_train = Y_data"
   ]
  },
  {
   "cell_type": "code",
   "execution_count": 9,
   "metadata": {
    "collapsed": false
   },
   "outputs": [
    {
     "name": "stdout",
     "output_type": "stream",
     "text": [
      "(2155, 150, 150)\n",
      "(539, 150, 150)\n",
      "(2155, 1)\n",
      "(539, 1)\n"
     ]
    }
   ],
   "source": [
    "print X_train.shape\n",
    "print X_test.shape\n",
    "\n",
    "print Y_train.shape\n",
    "print Y_test.shape"
   ]
  },
  {
   "cell_type": "code",
   "execution_count": 10,
   "metadata": {
    "collapsed": false
   },
   "outputs": [
    {
     "name": "stdout",
     "output_type": "stream",
     "text": [
      "Y_train Dist: defaultdict(<type 'int'>, {0: 885, 1: 531, 2: 739})\n",
      "Y_test Dist: defaultdict(<type 'int'>, {0: 218, 1: 142, 2: 179})\n"
     ]
    }
   ],
   "source": [
    "import collections\n",
    "def yDist(y):\n",
    "    bcCounts = collections.defaultdict(int)\n",
    "    for a in range(0, y.shape[0]):\n",
    "        bcCounts[y[a][0]] += 1\n",
    "    return bcCounts\n",
    "\n",
    "print \"Y_train Dist: \" + str(yDist(Y_train))\n",
    "print \"Y_test Dist: \" + str(yDist(Y_test))\n"
   ]
  },
  {
   "cell_type": "markdown",
   "metadata": {},
   "source": [
    "## Define and Load Trained Model"
   ]
  },
  {
   "cell_type": "code",
   "execution_count": 11,
   "metadata": {
    "collapsed": false
   },
   "outputs": [
    {
     "name": "stdout",
     "output_type": "stream",
     "text": [
      "{'benign': 1, 'malignant': 2, 'normal': 0}\n",
      "3\n"
     ]
    }
   ],
   "source": [
    "# Load the bc array for our count in the model definition\n",
    "bcTypes = bc.bcNumerics()\n",
    "print bcTypes\n",
    "print len(bcTypes)"
   ]
  },
  {
   "cell_type": "code",
   "execution_count": 12,
   "metadata": {
    "collapsed": false
   },
   "outputs": [
    {
     "name": "stdout",
     "output_type": "stream",
     "text": [
      "____________________________________________________________________________________________________\n",
      "Layer (type)                       Output Shape        Param #     Connected to                     \n",
      "====================================================================================================\n",
      "convolution2d_1 (Convolution2D)    (None, 32, 143, 143)2080        convolution2d_input_1[0][0]      \n",
      "____________________________________________________________________________________________________\n",
      "activation_1 (Activation)          (None, 32, 143, 143)0           convolution2d_1[0][0]            \n",
      "____________________________________________________________________________________________________\n",
      "maxpooling2d_1 (MaxPooling2D)      (None, 32, 71, 71)  0           activation_1[0][0]               \n",
      "____________________________________________________________________________________________________\n",
      "convolution2d_2 (Convolution2D)    (None, 32, 67, 67)  25632       maxpooling2d_1[0][0]             \n",
      "____________________________________________________________________________________________________\n",
      "activation_2 (Activation)          (None, 32, 67, 67)  0           convolution2d_2[0][0]            \n",
      "____________________________________________________________________________________________________\n",
      "maxpooling2d_2 (MaxPooling2D)      (None, 32, 33, 33)  0           activation_2[0][0]               \n",
      "____________________________________________________________________________________________________\n",
      "convolution2d_3 (Convolution2D)    (None, 64, 31, 31)  18496       maxpooling2d_2[0][0]             \n",
      "____________________________________________________________________________________________________\n",
      "activation_3 (Activation)          (None, 64, 31, 31)  0           convolution2d_3[0][0]            \n",
      "____________________________________________________________________________________________________\n",
      "maxpooling2d_3 (MaxPooling2D)      (None, 64, 15, 15)  0           activation_3[0][0]               \n",
      "____________________________________________________________________________________________________\n",
      "convolution2d_4 (Convolution2D)    (None, 64, 14, 14)  16448       maxpooling2d_3[0][0]             \n",
      "____________________________________________________________________________________________________\n",
      "activation_4 (Activation)          (None, 64, 14, 14)  0           convolution2d_4[0][0]            \n",
      "____________________________________________________________________________________________________\n",
      "maxpooling2d_4 (MaxPooling2D)      (None, 64, 7, 7)    0           activation_4[0][0]               \n",
      "____________________________________________________________________________________________________\n",
      "flatten_1 (Flatten)                (None, 3136)        0           maxpooling2d_4[0][0]             \n",
      "____________________________________________________________________________________________________\n",
      "dense_1 (Dense)                    (None, 64)          200768      flatten_1[0][0]                  \n",
      "____________________________________________________________________________________________________\n",
      "activation_5 (Activation)          (None, 64)          0           dense_1[0][0]                    \n",
      "____________________________________________________________________________________________________\n",
      "dense_2 (Dense)                    (None, 3)           195         activation_5[0][0]               \n",
      "____________________________________________________________________________________________________\n",
      "activation_6 (Activation)          (None, 3)           0           dense_2[0][0]                    \n",
      "====================================================================================================\n",
      "Total params: 263619\n",
      "____________________________________________________________________________________________________\n",
      "None\n"
     ]
    }
   ],
   "source": [
    "# Construct the model using our help function\n",
    "model = models.bc_model_v0(len(bcTypes), verbose=True, \n",
    "                                        input_shape=(1,X_train.shape[1],X_train.shape[2]))"
   ]
  },
  {
   "cell_type": "markdown",
   "metadata": {},
   "source": [
    "## Training the Model\n",
    "\n",
    "The following code segment trains the model using the run_network helper function. "
   ]
  },
  {
   "cell_type": "code",
   "execution_count": 13,
   "metadata": {
    "collapsed": true
   },
   "outputs": [],
   "source": [
    "loadWeights = False\n",
    "weightsFileName = \"dwdii-bc-v0-raw150-2155-20170402.hdf5\"\n",
    "if loadWeights:\n",
    "    model.load_weights(weightsFileName)"
   ]
  },
  {
   "cell_type": "code",
   "execution_count": 14,
   "metadata": {
    "collapsed": false
   },
   "outputs": [],
   "source": [
    "# Reshape to the appropriate shape for the CNN input\n",
    "testX = X_test.reshape(X_test.shape[0], 1, X_test.shape[1],X_test.shape[2])\n",
    "trainX = X_train.reshape(X_train.shape[0], 1, X_train.shape[1],X_train.shape[2])"
   ]
  },
  {
   "cell_type": "code",
   "execution_count": 15,
   "metadata": {
    "collapsed": false
   },
   "outputs": [
    {
     "name": "stdout",
     "output_type": "stream",
     "text": [
      "Training start: 2017-04-03 00:56:25.937026\n",
      "(2155, 3)\n",
      "(539, 3)\n",
      "Training model...\n",
      "Train on 2155 samples, validate on 539 samples\n",
      "Epoch 1/30\n",
      "2155/2155 [==============================] - 375s - loss: 0.5965 - acc: 0.4394 - val_loss: 0.5923 - val_acc: 0.4545\n",
      "Epoch 2/30\n",
      "2155/2155 [==============================] - 422s - loss: 0.5669 - acc: 0.5044 - val_loss: 0.7372 - val_acc: 0.3321\n",
      "Epoch 3/30\n",
      "2155/2155 [==============================] - 371s - loss: 0.5566 - acc: 0.5220 - val_loss: 0.6451 - val_acc: 0.4935\n",
      "Epoch 4/30\n",
      "2155/2155 [==============================] - 377s - loss: 0.5393 - acc: 0.5406 - val_loss: 0.5784 - val_acc: 0.5492\n",
      "Epoch 5/30\n",
      "2155/2155 [==============================] - 377s - loss: 0.5305 - acc: 0.5411 - val_loss: 0.5719 - val_acc: 0.5362\n",
      "Epoch 6/30\n",
      "2155/2155 [==============================] - 378s - loss: 0.5112 - acc: 0.5671 - val_loss: 0.5563 - val_acc: 0.5473\n",
      "Epoch 7/30\n",
      "2155/2155 [==============================] - 378s - loss: 0.4950 - acc: 0.5824 - val_loss: 0.5903 - val_acc: 0.5547\n",
      "Epoch 8/30\n",
      "2155/2155 [==============================] - 378s - loss: 0.4780 - acc: 0.6023 - val_loss: 0.6152 - val_acc: 0.4731\n",
      "Epoch 9/30\n",
      "2155/2155 [==============================] - 377s - loss: 0.4675 - acc: 0.6292 - val_loss: 0.6363 - val_acc: 0.4879\n",
      "Epoch 10/30\n",
      "2155/2155 [==============================] - 374s - loss: 0.4500 - acc: 0.6427 - val_loss: 0.6541 - val_acc: 0.4954\n",
      "Epoch 11/30\n",
      "2155/2155 [==============================] - 370s - loss: 0.4220 - acc: 0.6705 - val_loss: 0.5950 - val_acc: 0.5102\n",
      "Epoch 12/30\n",
      "2155/2155 [==============================] - 368s - loss: 0.4060 - acc: 0.6882 - val_loss: 0.6528 - val_acc: 0.5399\n",
      "Epoch 13/30\n",
      "2155/2155 [==============================] - 360s - loss: 0.3833 - acc: 0.7174 - val_loss: 0.7720 - val_acc: 0.4787\n",
      "Epoch 14/30\n",
      "2155/2155 [==============================] - 358s - loss: 0.3590 - acc: 0.7309 - val_loss: 0.6830 - val_acc: 0.5046\n",
      "Epoch 15/30\n",
      "2155/2155 [==============================] - 385s - loss: 0.3297 - acc: 0.7638 - val_loss: 0.7765 - val_acc: 0.5362\n",
      "Epoch 16/30\n",
      "2155/2155 [==============================] - 362s - loss: 0.3076 - acc: 0.7903 - val_loss: 0.9016 - val_acc: 0.4805\n",
      "Epoch 17/30\n",
      "2155/2155 [==============================] - 363s - loss: 0.2785 - acc: 0.8056 - val_loss: 0.8386 - val_acc: 0.5232\n",
      "Epoch 18/30\n",
      "2155/2155 [==============================] - 374s - loss: 0.2495 - acc: 0.8436 - val_loss: 0.8829 - val_acc: 0.4972\n",
      "Epoch 19/30\n",
      "2155/2155 [==============================] - 375s - loss: 0.2312 - acc: 0.8552 - val_loss: 0.9020 - val_acc: 0.5009\n",
      "Epoch 20/30\n",
      "2155/2155 [==============================] - 374s - loss: 0.1979 - acc: 0.8742 - val_loss: 1.1653 - val_acc: 0.4972\n",
      "Epoch 21/30\n",
      "2155/2155 [==============================] - 373s - loss: 0.1731 - acc: 0.8942 - val_loss: 1.0944 - val_acc: 0.4657\n",
      "Epoch 22/30\n",
      "2155/2155 [==============================] - 361s - loss: 0.1549 - acc: 0.9053 - val_loss: 1.1313 - val_acc: 0.4972\n",
      "Epoch 23/30\n",
      "2155/2155 [==============================] - 366s - loss: 0.1277 - acc: 0.9323 - val_loss: 1.2612 - val_acc: 0.4712\n",
      "Epoch 24/30\n",
      "2155/2155 [==============================] - 360s - loss: 0.1204 - acc: 0.9304 - val_loss: 1.4184 - val_acc: 0.4768\n",
      "Epoch 25/30\n",
      "2155/2155 [==============================] - 361s - loss: 0.0965 - acc: 0.9476 - val_loss: 1.3171 - val_acc: 0.4991\n",
      "Epoch 26/30\n",
      "2155/2155 [==============================] - 359s - loss: 0.0964 - acc: 0.9462 - val_loss: 1.2642 - val_acc: 0.5028\n",
      "Epoch 27/30\n",
      "2155/2155 [==============================] - 359s - loss: 0.0763 - acc: 0.9638 - val_loss: 1.7693 - val_acc: 0.5195\n",
      "Epoch 28/30\n",
      "2155/2155 [==============================] - 364s - loss: 0.0688 - acc: 0.9666 - val_loss: 1.8175 - val_acc: 0.4935\n",
      "Epoch 29/30\n",
      "2155/2155 [==============================] - 358s - loss: 0.0620 - acc: 0.9712 - val_loss: 1.6244 - val_acc: 0.4675\n",
      "Epoch 30/30\n",
      "2155/2155 [==============================] - 362s - loss: 0.0600 - acc: 0.9763 - val_loss: 1.5315 - val_acc: 0.4805\n",
      "Training duration : 11196.110286\n",
      "Network's test score [loss, accuracy]: [1.531496627432517, 0.48051948029831298]\n"
     ]
    }
   ],
   "source": [
    "print \"Training start: \" + str(datetime.datetime.now())\n",
    "m, h = models.run_network([trainX, testX, Y_train, Y_test], model, batch=50, epochs=30, verbosity=1)"
   ]
  },
  {
   "cell_type": "code",
   "execution_count": 16,
   "metadata": {
    "collapsed": true
   },
   "outputs": [],
   "source": [
    "model.save_weights(weightsFileName, overwrite=True)"
   ]
  },
  {
   "cell_type": "markdown",
   "metadata": {},
   "source": [
    "### Experiment Results"
   ]
  },
  {
   "cell_type": "markdown",
   "metadata": {},
   "source": [
    "#### Raw DDSM Images\n",
    "\n",
    "Initial results based on \"normal\" being masked as \"benign\":\n",
    "* bc_model_v0 (150x150, 800/200): 182s - loss: 0.0560 - acc: 0.9813 - val_loss: 1.9918 - val_acc: 0.6800\n",
    "* bc_model_v0 (150x150, 2000/500): 473s - loss: 0.0288 - acc: 0.9925 - val_loss: 1.4040 - val_acc: 0.7260\n",
    "   * somewhat balanced, Y_train Dist {0: 1223, 1: 777}, Y_test Dist: {0: 321, 1: 179}\n",
    "\n",
    "Revised with \"normal\", \"benign\" and \"malignant\" labeled seperately:\n",
    "* bc_model_v0 (150x150, 1311/328): 298s - loss: 0.0411 - acc: 0.9786 - val_loss: 1.3713 - val_acc: 0.6616\n",
    "\n",
    "After creating fixed \"train\", \"test\" and \"validate\" data sets, using \"train\" and \"test\" as well as including the DDSM Benign cases:\n",
    "* bc_model_v0 (150x150, 1554/363, 03.27.2017): 264s - loss: 0.0512 - acc: 0.9730 - val_loss: 1.3120 - val_acc: 0.6116\n",
    "* bc_model_v0 (150x150, 2155/539, 04.02.2017): 362s - loss: 0.0600 - acc: 0.9763 - val_loss: 1.5315 - val_acc: 0.4805\n",
    "\n",
    "#### Thresholded Images\n",
    "\n",
    "Using the \"Data_Thresholded\" images\n",
    "* bc_model_v0 (150x150, Thresholded, 661/171, 03.28.2017): 124s - loss: 0.0529 - acc: 0.9743 - val_loss: 1.4331 - val_acc: 0.4971"
   ]
  },
  {
   "cell_type": "code",
   "execution_count": 17,
   "metadata": {
    "collapsed": false
   },
   "outputs": [
    {
     "data": {
      "text/plain": [
       "<module 'matplotlib.pyplot' from '/usr/lib/pymodules/python2.7/matplotlib/pyplot.pyc'>"
      ]
     },
     "execution_count": 17,
     "metadata": {},
     "output_type": "execute_result"
    }
   ],
   "source": [
    "resultsValAcc = {}\n",
    "resultsValAcc[\"1\"] = 0.6800\n",
    "resultsValAcc[\"2\"] = 0.7260\n",
    "resultsValAcc[\"3\"] = 0.6616\n",
    "resultsValAcc[\"03-27-2017\"] = 0.6116\n",
    "resultsValAcc[\"04-02-2017\"] = 0.4805\n",
    "import dwdii_test as dwdii\n",
    "#cmp = matplotlib.colors.Colormap(\"Blues\")\n",
    "dwdii.barChart(resultsValAcc, filename=\"../../figures/daniels_results_valacc.png\", title=\"DDSM Results Acc_Val\", yAxisLabel=\"val_acc %\")"
   ]
  },
  {
   "cell_type": "markdown",
   "metadata": {},
   "source": [
    "### Analyze Predictions with Test Set"
   ]
  },
  {
   "cell_type": "code",
   "execution_count": 19,
   "metadata": {
    "collapsed": false
   },
   "outputs": [
    {
     "name": "stdout",
     "output_type": "stream",
     "text": [
      "539/539 [==============================] - 25s    \n"
     ]
    }
   ],
   "source": [
    "predictOutput = model.predict(testX, batch_size=32, verbose=1)"
   ]
  },
  {
   "cell_type": "code",
   "execution_count": 20,
   "metadata": {
    "collapsed": false
   },
   "outputs": [
    {
     "data": {
      "text/plain": [
       "'malignant'"
      ]
     },
     "execution_count": 20,
     "metadata": {},
     "output_type": "execute_result"
    }
   ],
   "source": [
    "predClass = np.array(predictOutput[0]).argmax()\n",
    "numBC = bc.numericBC()\n",
    "numBC[predClass]"
   ]
  },
  {
   "cell_type": "code",
   "execution_count": 21,
   "metadata": {
    "collapsed": false
   },
   "outputs": [
    {
     "data": {
      "text/plain": [
       "'malignant'"
      ]
     },
     "execution_count": 21,
     "metadata": {},
     "output_type": "execute_result"
    }
   ],
   "source": [
    "numBC[Y_test[0][0]]"
   ]
  },
  {
   "cell_type": "code",
   "execution_count": 22,
   "metadata": {
    "collapsed": false
   },
   "outputs": [],
   "source": [
    "predClasses = []\n",
    "for i in range(len(predictOutput)):\n",
    "\n",
    "    arPred = np.array(predictOutput[i])\n",
    "    predictionProb = arPred.max()\n",
    "    predictionNdx = arPred.argmax()\n",
    "    predClassName = numBC[predictionNdx]\n",
    "    predClasses.append(predictionNdx)\n",
    "\n",
    "    #print \"{0}: {1} ({2})\".format(i, predClassName, predictionProb)"
   ]
  },
  {
   "cell_type": "markdown",
   "metadata": {},
   "source": [
    "### Confusion Matrix"
   ]
  },
  {
   "cell_type": "code",
   "execution_count": 23,
   "metadata": {
    "collapsed": false
   },
   "outputs": [
    {
     "data": {
      "text/plain": [
       "array([[119,  41,  58],\n",
       "       [ 38,  74,  30],\n",
       "       [ 63,  50,  66]])"
      ]
     },
     "execution_count": 23,
     "metadata": {},
     "output_type": "execute_result"
    }
   ],
   "source": [
    "# Use sklearn's helper method to generate the confusion matrix\n",
    "cnf_matrix = skm.confusion_matrix(Y_test, predClasses)\n",
    "cnf_matrix"
   ]
  },
  {
   "cell_type": "code",
   "execution_count": 24,
   "metadata": {
    "collapsed": false
   },
   "outputs": [],
   "source": [
    "class_names = numBC.values()\n",
    "np.set_printoptions(precision=2)"
   ]
  },
  {
   "cell_type": "code",
   "execution_count": 25,
   "metadata": {
    "collapsed": false
   },
   "outputs": [
    {
     "name": "stdout",
     "output_type": "stream",
     "text": [
      "Confusion matrix, without normalization\n",
      "[[119  41  58]\n",
      " [ 38  74  30]\n",
      " [ 63  50  66]]\n"
     ]
    }
   ],
   "source": [
    "# Plot non-normalized confusion matrix\n",
    "fileCfMatrix = '../../figures/confusion_matrix-' + weightsFileName + '.png'\n",
    "plt.figure()\n",
    "bc.plot_confusion_matrix(cnf_matrix, classes=class_names,\n",
    "                      title='Confusion matrix, without normalization, \\n' + weightsFileName)\n",
    "plt.savefig(fileCfMatrix)"
   ]
  },
  {
   "cell_type": "code",
   "execution_count": 26,
   "metadata": {
    "collapsed": false,
    "scrolled": true
   },
   "outputs": [
    {
     "data": {
      "image/png": "[encoded data removed]",
      "text/plain": [
       "<IPython.core.display.Image object>"
      ]
     },
     "execution_count": 26,
     "metadata": {},
     "output_type": "execute_result"
    }
   ],
   "source": [
    "# Load the image we just saved\n",
    "from IPython.display import Image\n",
    "Image(filename=fileCfMatrix)"
   ]
  },
  {
   "cell_type": "code",
   "execution_count": 27,
   "metadata": {
    "collapsed": false
   },
   "outputs": [
    {
     "name": "stdout",
     "output_type": "stream",
     "text": [
      "Normalized confusion matrix\n",
      "[[ 0.55  0.19  0.27]\n",
      " [ 0.27  0.52  0.21]\n",
      " [ 0.35  0.28  0.37]]\n"
     ]
    }
   ],
   "source": [
    "# Plot normalized confusion matrix\n",
    "plt.figure()\n",
    "bc.plot_confusion_matrix(cnf_matrix, classes=class_names, normalize=True,\n",
    "                      title='Normalized confusion matrix')\n",
    "plt.savefig('../../figures/confusion_matrix_norm.png')"
   ]
  },
  {
   "cell_type": "code",
   "execution_count": null,
   "metadata": {
    "collapsed": true
   },
   "outputs": [],
   "source": []
  }
 ],
 "metadata": {
  "kernelspec": {
   "display_name": "Python 2",
   "language": "python",
   "name": "python2"
  },
  "language_info": {
   "codemirror_mode": {
    "name": "ipython",
    "version": 2
   },
   "file_extension": ".py",
   "mimetype": "text/x-python",
   "name": "python",
   "nbconvert_exporter": "python",
   "pygments_lexer": "ipython2",
   "version": "2.7.6"
  }
 },
 "nbformat": 4,
 "nbformat_minor": 0
}
