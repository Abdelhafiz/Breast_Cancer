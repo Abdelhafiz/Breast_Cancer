{
 "cells": [
  {
   "cell_type": "code",
   "execution_count": 1,
   "metadata": {
    "collapsed": false
   },
   "outputs": [
    {
     "name": "stderr",
     "output_type": "stream",
     "text": [
      "/usr/lib/python2.7/dist-packages/scipy/lib/_util.py:35: DeprecationWarning: Module scipy.linalg.blas.fblas is deprecated, use scipy.linalg.blas instead\n",
      "  DeprecationWarning)\n",
      "/usr/lib/python2.7/dist-packages/scipy/lib/_util.py:35: DeprecationWarning: Module scipy.linalg.blas.fblas is deprecated, use scipy.linalg.blas instead\n",
      "  DeprecationWarning)\n",
      "/usr/lib/python2.7/dist-packages/scipy/lib/_util.py:35: DeprecationWarning: Module scipy.linalg.blas.fblas is deprecated, use scipy.linalg.blas instead\n",
      "  DeprecationWarning)\n",
      "/usr/lib/python2.7/dist-packages/scipy/lib/_util.py:35: DeprecationWarning: Module scipy.linalg.blas.fblas is deprecated, use scipy.linalg.blas instead\n",
      "  DeprecationWarning)\n",
      "/usr/lib/python2.7/dist-packages/scipy/lib/_util.py:35: DeprecationWarning: Module scipy.linalg.blas.fblas is deprecated, use scipy.linalg.blas instead\n",
      "  DeprecationWarning)\n",
      "/usr/lib/python2.7/dist-packages/scipy/lib/_util.py:35: DeprecationWarning: Module scipy.linalg.blas.fblas is deprecated, use scipy.linalg.blas instead\n",
      "  DeprecationWarning)\n",
      "/usr/lib/python2.7/dist-packages/scipy/lib/_util.py:35: DeprecationWarning: Module scipy.linalg.blas.fblas is deprecated, use scipy.linalg.blas instead\n",
      "  DeprecationWarning)\n",
      "/usr/lib/python2.7/dist-packages/scipy/lib/_util.py:35: DeprecationWarning: Module scipy.linalg.blas.fblas is deprecated, use scipy.linalg.blas instead\n",
      "  DeprecationWarning)\n",
      "Using Theano backend.\n"
     ]
    }
   ],
   "source": [
    "import datetime\n",
    "import Image\n",
    "import gc\n",
    "import numpy as np\n",
    "import os\n",
    "import random\n",
    "from scipy import misc\n",
    "import string\n",
    "import time\n",
    "import sklearn.metrics as skm\n",
    "\n",
    "# Set some Theano config before initializing\n",
    "os.environ[\"THEANO_FLAGS\"] = \"mode=FAST_RUN,device=cpu,floatX=float32,allow_gc=False,openmp=True\"\n",
    "import theano\n",
    "\n",
    "import matplotlib\n",
    "matplotlib.use('Agg')\n",
    "from matplotlib import pyplot as plt\n",
    "\n",
    "import dwdii_bc_model_helper as bc\n",
    "import bc_models as models\n",
    "\n",
    "random.seed(20275)"
   ]
  },
  {
   "cell_type": "code",
   "execution_count": 2,
   "metadata": {
    "collapsed": false
   },
   "outputs": [
    {
     "name": "stdout",
     "output_type": "stream",
     "text": [
      "device: cpu\n",
      "floatX: float32\n",
      "mode: FAST_RUN\n",
      "openmp: True\n",
      "allow_gc: False\n"
     ]
    }
   ],
   "source": [
    "print \"device:\", theano.config.device\n",
    "print \"floatX:\",  theano.config.floatX\n",
    "print \"mode:\", theano.config.mode\n",
    "print \"openmp:\", theano.config.openmp\n",
    "print \"allow_gc:\", theano.config.allow_gc"
   ]
  },
  {
   "cell_type": "code",
   "execution_count": 3,
   "metadata": {
    "collapsed": true
   },
   "outputs": [],
   "source": [
    "imagePath = \"/root/bc_data/ddsm-png.25\"\n",
    "#imagePath = \"/root/bc_data/Data_Thresholded/DDSM\"\n",
    "trainDataPath = \"../../data/ddsm_train.csv\"\n",
    "testDataPath = \"../../data/ddsm_test.csv\"\n",
    "imgResize = (150, 150)"
   ]
  },
  {
   "cell_type": "code",
   "execution_count": 4,
   "metadata": {
    "collapsed": false
   },
   "outputs": [
    {
     "name": "stderr",
     "output_type": "stream",
     "text": [
      "/usr/local/lib/python2.7/dist-packages/IPython/core/formatters.py:92: DeprecationWarning: DisplayFormatter._ipython_display_formatter_default is deprecated: use @default decorator instead.\n",
      "  def _ipython_display_formatter_default(self):\n",
      "/usr/local/lib/python2.7/dist-packages/IPython/core/formatters.py:98: DeprecationWarning: DisplayFormatter._formatters_default is deprecated: use @default decorator instead.\n",
      "  def _formatters_default(self):\n",
      "/usr/local/lib/python2.7/dist-packages/IPython/core/formatters.py:677: DeprecationWarning: PlainTextFormatter._deferred_printers_default is deprecated: use @default decorator instead.\n",
      "  def _deferred_printers_default(self):\n",
      "/usr/local/lib/python2.7/dist-packages/IPython/core/formatters.py:669: DeprecationWarning: PlainTextFormatter._singleton_printers_default is deprecated: use @default decorator instead.\n",
      "  def _singleton_printers_default(self):\n",
      "/usr/local/lib/python2.7/dist-packages/IPython/core/formatters.py:672: DeprecationWarning: PlainTextFormatter._type_printers_default is deprecated: use @default decorator instead.\n",
      "  def _type_printers_default(self):\n",
      "/usr/local/lib/python2.7/dist-packages/IPython/core/formatters.py:669: DeprecationWarning: PlainTextFormatter._singleton_printers_default is deprecated: use @default decorator instead.\n",
      "  def _singleton_printers_default(self):\n",
      "/usr/local/lib/python2.7/dist-packages/IPython/core/formatters.py:672: DeprecationWarning: PlainTextFormatter._type_printers_default is deprecated: use @default decorator instead.\n",
      "  def _type_printers_default(self):\n",
      "/usr/local/lib/python2.7/dist-packages/IPython/core/formatters.py:677: DeprecationWarning: PlainTextFormatter._deferred_printers_default is deprecated: use @default decorator instead.\n",
      "  def _deferred_printers_default(self):\n"
     ]
    },
    {
     "data": {
      "text/plain": [
       "['ddsm_test.csv', 'ddsm_train.csv', 'ddsm_val.csv', 'mias_all.csv']"
      ]
     },
     "execution_count": 4,
     "metadata": {},
     "output_type": "execute_result"
    }
   ],
   "source": [
    "os.listdir('../../data')"
   ]
  },
  {
   "cell_type": "markdown",
   "metadata": {},
   "source": [
    "# Load Training and Test Data\n",
    "\n",
    "In this section, the training/validation data is loaded. The load_data function pre-balances the data set by removing images from over-represented emotion classes."
   ]
  },
  {
   "cell_type": "markdown",
   "metadata": {},
   "source": [
    "### Training Data"
   ]
  },
  {
   "cell_type": "code",
   "execution_count": 5,
   "metadata": {
    "collapsed": false
   },
   "outputs": [
    {
     "name": "stdout",
     "output_type": "stream",
     "text": [
      "Raw Balance\n",
      "----------------\n",
      "benign 541\n",
      "malignant 852\n",
      "normal 2793\n",
      "balanaceViaRemoval.avgE: 1395\n",
      "balanaceViaRemoval.theshold: 1395.0\n",
      "\n",
      "After Balancing\n",
      "----------------\n",
      "benign 541\n",
      "malignant 852\n",
      "normal 929\n"
     ]
    }
   ],
   "source": [
    "metaData, meta2, mCounts = bc.load_training_metadata(trainDataPath, balanceViaRemoval=True, verbose=True)"
   ]
  },
  {
   "cell_type": "code",
   "execution_count": 6,
   "metadata": {
    "collapsed": false
   },
   "outputs": [
    {
     "data": {
      "text/plain": [
       "'0'"
      ]
     },
     "execution_count": 6,
     "metadata": {},
     "output_type": "execute_result"
    }
   ],
   "source": [
    "meta2[meta2.keys()[0]]"
   ]
  },
  {
   "cell_type": "code",
   "execution_count": 7,
   "metadata": {
    "collapsed": false
   },
   "outputs": [
    {
     "name": "stdout",
     "output_type": "stream",
     "text": [
      "Raw Balance\n",
      "----------------\n",
      "benign 541\n",
      "malignant 852\n",
      "normal 2793\n",
      "balanaceViaRemoval.avgE: 1395\n",
      "balanaceViaRemoval.theshold: 1395.0\n",
      "\n",
      "After Balancing\n",
      "----------------\n",
      "benign 541\n",
      "malignant 852\n",
      "normal 929\n",
      "0: A_0526_1.LEFT_CC.LJPEG.png\r\n"
     ]
    },
    {
     "name": "stderr",
     "output_type": "stream",
     "text": [
      "dwdii_bc_model_helper.py:160: DeprecationWarning: using a non-integer number instead of an integer will result in an error in the future\n",
      "  X_data = np.zeros([total, x, y])\n",
      "dwdii_bc_model_helper.py:161: DeprecationWarning: using a non-integer number instead of an integer will result in an error in the future\n",
      "  Y_data = np.zeros([total, 1], dtype=np.int8)\n"
     ]
    },
    {
     "name": "stdout",
     "output_type": "stream",
     "text": [
      "0.02153316106804478897502153316: B_3515_1.RIGHT_MLO.LJPEG.png\n",
      "0.04306632213608957795004306632: B_3623_1.RIGHT_MLO.LJPEG.png\n",
      "0.06459948320413436692506459948: B_3411_1.RIGHT_MLO.LJPEG.png\n",
      "0.08613264427217915590008613264: A_0515_1.RIGHT_CC.LJPEG.png\n",
      "0.1076658053402239448751076658: A_1054_1.RIGHT_MLO.LJPEG.png\n",
      "0.1291989664082687338501291990: A_0241_1.LEFT_MLO.LJPEG.png\n",
      "0.1507321274763135228251507321: C_0015_1.RIGHT_MLO.LJPEG.png\n",
      "0.1722652885443583118001722653: C_0160_1.RIGHT_MLO.LJPEG.png\n",
      "0.1937984496124031007751937984: B_3506_1.RIGHT_MLO.LJPEG.png\n",
      "0.2153316106804478897502153316: B_3024_1.RIGHT_MLO.LJPEG.png\n",
      "0.2368647717484926787252368648: B_3076_1.LEFT_MLO.LJPEG.png\n",
      "0.2583979328165374677002583979: A_0010_1.RIGHT_CC.LJPEG.png\n",
      "0.2799310938845822566752799311: B_3021_1.LEFT_CC.LJPEG.png\n",
      "0.3014642549526270456503014643: A_1030_1.LEFT_MLO.LJPEG.png\n",
      "0.3229974160206718346253229974: A_0573_1.RIGHT_CC.LJPEG.png\n",
      "0.3445305770887166236003445306: B_3514_1.RIGHT_CC.LJPEG.png\n",
      "0.3660637381567614125753660637: A_0109_1.LEFT_MLO.LJPEG.png\n",
      "0.3875968992248062015503875969: A_0313_1.RIGHT_MLO.LJPEG.png\n",
      "0.4091300602928509905254091301: A_0312_1.RIGHT_CC.LJPEG.png\n",
      "0.4306632213608957795004306632: C_0221_1.LEFT_CC.LJPEG.png\n",
      "0.4521963824289405684754521964: A_0326_1.RIGHT_MLO.LJPEG.png\n",
      "0.4737295434969853574504737295: A_1031_1.LEFT_MLO.LJPEG.png\n",
      "0.4952627045650301464254952627: A_0516_1.RIGHT_MLO.LJPEG.png\n",
      "0.5167958656330749354005167959: C_0496_1.LEFT_MLO.LJPEG.png\n",
      "0.5383290267011197243755383290: B_3068_1.LEFT_MLO.LJPEG.png\n",
      "0.5598621877691645133505598622: C_0343_1.LEFT_MLO.LJPEG.png\n",
      "0.5813953488372093023255813953: C_0143_1.RIGHT_MLO.LJPEG.png\n",
      "0.6029285099052540913006029285: C_0205_1.LEFT_CC.LJPEG.png\n",
      "0.6244616709732988802756244617: A_0206_1.RIGHT_MLO.LJPEG.png\n",
      "0.6459948320413436692506459948: A_0608_1.LEFT_MLO.LJPEG.png\n",
      "(1528, 150, 150)\n",
      "(1528, 1)\n"
     ]
    }
   ],
   "source": [
    "# Actually load some representative data for model experimentation\n",
    "maxData = len(metaData)\n",
    "X_data, Y_data = bc.load_data(trainDataPath, imagePath, maxData = maxData, verboseFreq = 50, imgResize=imgResize)\n",
    "print X_data.shape\n",
    "print Y_data.shape"
   ]
  },
  {
   "cell_type": "markdown",
   "metadata": {},
   "source": [
    "### Load Test Set "
   ]
  },
  {
   "cell_type": "code",
   "execution_count": 8,
   "metadata": {
    "collapsed": false
   },
   "outputs": [
    {
     "name": "stdout",
     "output_type": "stream",
     "text": [
      "Raw Balance\n",
      "----------------\n",
      "benign 142\n",
      "malignant 206\n",
      "normal 699\n",
      "balanaceViaRemoval.avgE: 349\n",
      "balanaceViaRemoval.theshold: 349.0\n",
      "\n",
      "After Balancing\n",
      "----------------\n",
      "benign 142\n",
      "malignant 206\n",
      "normal 232\n",
      "0: B_3380_1.RIGHT_MLO.LJPEG.png\r\n"
     ]
    },
    {
     "name": "stderr",
     "output_type": "stream",
     "text": [
      "dwdii_bc_model_helper.py:160: DeprecationWarning: using a non-integer number instead of an integer will result in an error in the future\n",
      "  X_data = np.zeros([total, x, y])\n",
      "dwdii_bc_model_helper.py:161: DeprecationWarning: using a non-integer number instead of an integer will result in an error in the future\n",
      "  Y_data = np.zeros([total, 1], dtype=np.int8)\n"
     ]
    },
    {
     "name": "stdout",
     "output_type": "stream",
     "text": [
      "0.02153316106804478897502153316: A_0470_1.RIGHT_MLO.LJPEG.png\n",
      "0.04306632213608957795004306632: A_1025_1.LEFT_MLO.LJPEG.png\n",
      "0.06459948320413436692506459948: C_0020_1.RIGHT_MLO.LJPEG.png\n",
      "0.08613264427217915590008613264: A_0265_1.LEFT_MLO.LJPEG.png\n",
      "0.1076658053402239448751076658: B_3677_1.LEFT_CC.LJPEG.png\n",
      "0.1291989664082687338501291990: A_0594_1.LEFT_MLO.LJPEG.png\n",
      "0.1507321274763135228251507321: C_0110_1.RIGHT_CC.LJPEG.png\n",
      "(371, 150, 150)\n",
      "(371, 1)\n"
     ]
    }
   ],
   "source": [
    "# Actually load some representative data for model experimentation\n",
    "maxData = len(metaData)\n",
    "X_test, Y_test = bc.load_data(testDataPath, imagePath, maxData = maxData, verboseFreq = 50, imgResize=imgResize)\n",
    "print X_test.shape\n",
    "print Y_test.shape"
   ]
  },
  {
   "cell_type": "markdown",
   "metadata": {},
   "source": [
    "## Split Training/Test Sets\n",
    "The following code segment splits the data into training and test data sets. Currently this is a standard 80/20 split for training and test respectively after performing a random shuffle using the unison_shuffled_copies help method."
   ]
  },
  {
   "cell_type": "code",
   "execution_count": 9,
   "metadata": {
    "collapsed": true
   },
   "outputs": [],
   "source": [
    "X_train = X_data\n",
    "Y_train = Y_data"
   ]
  },
  {
   "cell_type": "code",
   "execution_count": 10,
   "metadata": {
    "collapsed": false
   },
   "outputs": [
    {
     "name": "stdout",
     "output_type": "stream",
     "text": [
      "(1528, 150, 150)\n",
      "(371, 150, 150)\n",
      "(1528, 1)\n",
      "(371, 1)\n"
     ]
    }
   ],
   "source": [
    "print X_train.shape\n",
    "print X_test.shape\n",
    "\n",
    "print Y_train.shape\n",
    "print Y_test.shape"
   ]
  },
  {
   "cell_type": "code",
   "execution_count": 11,
   "metadata": {
    "collapsed": false
   },
   "outputs": [
    {
     "name": "stdout",
     "output_type": "stream",
     "text": [
      "Y_train Dist: defaultdict(<type 'int'>, {0: 739, 1: 50, 2: 739})\n",
      "Y_test Dist: defaultdict(<type 'int'>, {0: 180, 1: 12, 2: 179})\n"
     ]
    }
   ],
   "source": [
    "import collections\n",
    "def yDist(y):\n",
    "    bcCounts = collections.defaultdict(int)\n",
    "    for a in range(0, y.shape[0]):\n",
    "        bcCounts[y[a][0]] += 1\n",
    "    return bcCounts\n",
    "\n",
    "print \"Y_train Dist: \" + str(yDist(Y_train))\n",
    "print \"Y_test Dist: \" + str(yDist(Y_test))\n"
   ]
  },
  {
   "cell_type": "markdown",
   "metadata": {},
   "source": [
    "## Define and Load Trained Model"
   ]
  },
  {
   "cell_type": "code",
   "execution_count": 12,
   "metadata": {
    "collapsed": false
   },
   "outputs": [
    {
     "name": "stdout",
     "output_type": "stream",
     "text": [
      "{'benign': 1, 'malignant': 2, 'normal': 0}\n",
      "3\n"
     ]
    }
   ],
   "source": [
    "# Load the bc array for our count in the model definition\n",
    "bcTypes = bc.bcNumerics()\n",
    "print bcTypes\n",
    "print len(bcTypes)"
   ]
  },
  {
   "cell_type": "code",
   "execution_count": 13,
   "metadata": {
    "collapsed": false
   },
   "outputs": [
    {
     "name": "stdout",
     "output_type": "stream",
     "text": [
      "____________________________________________________________________________________________________\n",
      "Layer (type)                       Output Shape        Param #     Connected to                     \n",
      "====================================================================================================\n",
      "convolution2d_1 (Convolution2D)    (None, 32, 143, 143)2080        convolution2d_input_1[0][0]      \n",
      "____________________________________________________________________________________________________\n",
      "activation_1 (Activation)          (None, 32, 143, 143)0           convolution2d_1[0][0]            \n",
      "____________________________________________________________________________________________________\n",
      "maxpooling2d_1 (MaxPooling2D)      (None, 32, 71, 71)  0           activation_1[0][0]               \n",
      "____________________________________________________________________________________________________\n",
      "convolution2d_2 (Convolution2D)    (None, 32, 67, 67)  25632       maxpooling2d_1[0][0]             \n",
      "____________________________________________________________________________________________________\n",
      "activation_2 (Activation)          (None, 32, 67, 67)  0           convolution2d_2[0][0]            \n",
      "____________________________________________________________________________________________________\n",
      "maxpooling2d_2 (MaxPooling2D)      (None, 32, 33, 33)  0           activation_2[0][0]               \n",
      "____________________________________________________________________________________________________\n",
      "convolution2d_3 (Convolution2D)    (None, 64, 31, 31)  18496       maxpooling2d_2[0][0]             \n",
      "____________________________________________________________________________________________________\n",
      "activation_3 (Activation)          (None, 64, 31, 31)  0           convolution2d_3[0][0]            \n",
      "____________________________________________________________________________________________________\n",
      "maxpooling2d_3 (MaxPooling2D)      (None, 64, 15, 15)  0           activation_3[0][0]               \n",
      "____________________________________________________________________________________________________\n",
      "convolution2d_4 (Convolution2D)    (None, 64, 14, 14)  16448       maxpooling2d_3[0][0]             \n",
      "____________________________________________________________________________________________________\n",
      "activation_4 (Activation)          (None, 64, 14, 14)  0           convolution2d_4[0][0]            \n",
      "____________________________________________________________________________________________________\n",
      "maxpooling2d_4 (MaxPooling2D)      (None, 64, 7, 7)    0           activation_4[0][0]               \n",
      "____________________________________________________________________________________________________\n",
      "flatten_1 (Flatten)                (None, 3136)        0           maxpooling2d_4[0][0]             \n",
      "____________________________________________________________________________________________________\n",
      "dense_1 (Dense)                    (None, 64)          200768      flatten_1[0][0]                  \n",
      "____________________________________________________________________________________________________\n",
      "activation_5 (Activation)          (None, 64)          0           dense_1[0][0]                    \n",
      "____________________________________________________________________________________________________\n",
      "dense_2 (Dense)                    (None, 3)           195         activation_5[0][0]               \n",
      "____________________________________________________________________________________________________\n",
      "activation_6 (Activation)          (None, 3)           0           dense_2[0][0]                    \n",
      "====================================================================================================\n",
      "Total params: 263619\n",
      "____________________________________________________________________________________________________\n",
      "None\n"
     ]
    }
   ],
   "source": [
    "# Construct the model using our help function\n",
    "model = models.bc_model_v0(len(bcTypes), verbose=True, \n",
    "                                        input_shape=(1,X_train.shape[1],X_train.shape[2]))"
   ]
  },
  {
   "cell_type": "markdown",
   "metadata": {},
   "source": [
    "## Training the Model\n",
    "\n",
    "The following code segment trains the model using the run_network helper function. "
   ]
  },
  {
   "cell_type": "code",
   "execution_count": 14,
   "metadata": {
    "collapsed": true
   },
   "outputs": [],
   "source": [
    "loadWeights = True\n",
    "if loadWeights:\n",
    "    model.load_weights(\"dwdii-bc-150-v0-Cloud-20170327.hdf5\")"
   ]
  },
  {
   "cell_type": "code",
   "execution_count": 15,
   "metadata": {
    "collapsed": false
   },
   "outputs": [],
   "source": [
    "# Reshape to the appropriate shape for the CNN input\n",
    "testX = X_test.reshape(X_test.shape[0], 1, X_test.shape[1],X_test.shape[2])\n",
    "trainX = X_train.reshape(X_train.shape[0], 1, X_train.shape[1],X_train.shape[2])"
   ]
  },
  {
   "cell_type": "code",
   "execution_count": null,
   "metadata": {
    "collapsed": false
   },
   "outputs": [],
   "source": [
    "print \"Training start: \" + str(datetime.datetime.now())\n",
    "m, h = models.run_network([trainX, testX, Y_train, Y_test], model, batch=50, epochs=30, verbosity=1)"
   ]
  },
  {
   "cell_type": "code",
   "execution_count": null,
   "metadata": {
    "collapsed": true
   },
   "outputs": [],
   "source": [
    "model.save_weights(\"dwdii-bc-150-v0-Thresholded-661-20170328.hdf5\", overwrite=True)"
   ]
  },
  {
   "cell_type": "markdown",
   "metadata": {},
   "source": [
    "### Experiment Results"
   ]
  },
  {
   "cell_type": "markdown",
   "metadata": {},
   "source": [
    "#### Raw DDSM Images\n",
    "\n",
    "Initial results based on \"normal\" being masked as \"benign\":\n",
    "* bc_model_v0 (150x150, 800/200): 182s - loss: 0.0560 - acc: 0.9813 - val_loss: 1.9918 - val_acc: 0.6800\n",
    "* bc_model_v0 (150x150, 2000/500): 473s - loss: 0.0288 - acc: 0.9925 - val_loss: 1.4040 - val_acc: 0.7260\n",
    "   * somewhat balanced, Y_train Dist {0: 1223, 1: 777}, Y_test Dist: {0: 321, 1: 179}\n",
    "\n",
    "Revised with \"normal\", \"benign\" and \"malignant\" labeled seperately:\n",
    "* bc_model_v0 (150x150, 1311/328): 298s - loss: 0.0411 - acc: 0.9786 - val_loss: 1.3713 - val_acc: 0.6616\n",
    "\n",
    "After creating fixed \"train\", \"test\" and \"validate\" data sets, using \"train\" and \"test\" as well as including the DDSM Benign cases:\n",
    "* bc_model_v0 (150x150, 1554/363, 03.27.2017): 264s - loss: 0.0512 - acc: 0.9730 - val_loss: 1.3120 - val_acc: 0.6116\n",
    "\n",
    "#### Thresholded Images\n",
    "\n",
    "Using the \"Data_Thresholded\" images\n",
    "* bc_model_v0 (150x150, Thresholded, 661/171, 03.28.2017): 124s - loss: 0.0529 - acc: 0.9743 - val_loss: 1.4331 - val_acc: 0.4971"
   ]
  },
  {
   "cell_type": "code",
   "execution_count": null,
   "metadata": {
    "collapsed": false
   },
   "outputs": [],
   "source": [
    "resultsValAcc = {}\n",
    "resultsValAcc[\"1\"] = 0.6800\n",
    "resultsValAcc[\"2\"] = 0.7260\n",
    "resultsValAcc[\"3\"] = 0.6616\n",
    "resultsValAcc[\"03-27-2017\"] = 0.6116\n",
    "import dwdii_test as dwdii\n",
    "#cmp = matplotlib.colors.Colormap(\"Blues\")\n",
    "dwdii.barChart(resultsValAcc, filename=\"../../figures/daniels_results_valacc.png\", title=\"DDSM Results Acc_Val\", yAxisLabel=\"val_acc %\")"
   ]
  },
  {
   "cell_type": "markdown",
   "metadata": {},
   "source": [
    "### Analyze Predictions with Test Set"
   ]
  },
  {
   "cell_type": "code",
   "execution_count": 17,
   "metadata": {
    "collapsed": false
   },
   "outputs": [
    {
     "name": "stdout",
     "output_type": "stream",
     "text": [
      "371/371 [==============================] - 18s    \n"
     ]
    }
   ],
   "source": [
    "predictOutput = model.predict(testX, batch_size=32, verbose=1)"
   ]
  },
  {
   "cell_type": "code",
   "execution_count": 21,
   "metadata": {
    "collapsed": false
   },
   "outputs": [
    {
     "data": {
      "text/plain": [
       "'normal'"
      ]
     },
     "execution_count": 21,
     "metadata": {},
     "output_type": "execute_result"
    }
   ],
   "source": [
    "predClass = np.array(predictOutput[0]).argmax()\n",
    "numBC = bc.numericBC()\n",
    "numBC[predClass]"
   ]
  },
  {
   "cell_type": "code",
   "execution_count": 34,
   "metadata": {
    "collapsed": false
   },
   "outputs": [
    {
     "data": {
      "text/plain": [
       "2"
      ]
     },
     "execution_count": 34,
     "metadata": {},
     "output_type": "execute_result"
    }
   ],
   "source": [
    "Y_test[0][0]"
   ]
  },
  {
   "cell_type": "code",
   "execution_count": 36,
   "metadata": {
    "collapsed": false
   },
   "outputs": [
    {
     "name": "stdout",
     "output_type": "stream",
     "text": [
      "0: normal (0.967189311981)\n",
      "1: malignant (0.583556592464)\n",
      "2: normal (1.0)\n",
      "3: normal (0.980319678783)\n",
      "4: normal (0.840614557266)\n",
      "5: normal (0.999983072281)\n",
      "6: normal (0.99999910593)\n",
      "7: malignant (0.783349812031)\n",
      "8: malignant (0.958830654621)\n",
      "9: malignant (0.998692810535)\n",
      "10: malignant (0.967710316181)\n",
      "11: normal (0.5743470788)\n",
      "12: normal (0.998214900494)\n",
      "13: normal (1.0)\n",
      "14: normal (0.736483097076)\n",
      "15: normal (0.808021068573)\n",
      "16: malignant (0.971956670284)\n",
      "17: malignant (0.967767775059)\n",
      "18: normal (0.995480358601)\n",
      "19: normal (0.999975204468)\n",
      "20: malignant (0.970632076263)\n",
      "21: malignant (0.828493595123)\n",
      "22: normal (0.566996335983)\n",
      "23: malignant (0.998683989048)\n",
      "24: normal (0.999999821186)\n",
      "25: normal (0.998538255692)\n",
      "26: malignant (0.546469807625)\n",
      "27: normal (0.95605134964)\n",
      "28: malignant (0.986320614815)\n",
      "29: normal (0.930714964867)\n",
      "30: normal (0.748172879219)\n",
      "31: malignant (0.967880368233)\n",
      "32: malignant (0.919455647469)\n",
      "33: malignant (0.594031274319)\n",
      "34: malignant (0.99745965004)\n",
      "35: normal (0.510383963585)\n",
      "36: normal (0.649259269238)\n",
      "37: malignant (0.957937121391)\n",
      "38: normal (0.636096060276)\n",
      "39: normal (0.999814331532)\n",
      "40: malignant (0.972151756287)\n",
      "41: malignant (0.849489629269)\n",
      "42: normal (1.0)\n",
      "43: normal (0.999982595444)\n",
      "44: normal (0.928147733212)\n",
      "45: normal (0.999252319336)\n",
      "46: normal (0.55415469408)\n",
      "47: normal (0.819704592228)\n",
      "48: malignant (0.978719055653)\n",
      "49: malignant (0.89121901989)\n",
      "50: normal (0.999996602535)\n",
      "51: normal (0.999999642372)\n",
      "52: normal (0.885418772697)\n",
      "53: malignant (0.97600787878)\n",
      "54: normal (0.997562527657)\n",
      "55: malignant (0.72955429554)\n",
      "56: normal (0.999653577805)\n",
      "57: normal (0.999998748302)\n",
      "58: malignant (0.956377029419)\n",
      "59: normal (0.969668149948)\n",
      "60: malignant (0.85037702322)\n",
      "61: normal (1.0)\n",
      "62: normal (0.550361692905)\n",
      "63: malignant (0.602455258369)\n",
      "64: normal (0.998084783554)\n",
      "65: normal (0.999931752682)\n",
      "66: normal (1.0)\n",
      "67: malignant (0.999930024147)\n",
      "68: malignant (0.999697089195)\n",
      "69: normal (0.999660909176)\n",
      "70: malignant (0.702216684818)\n",
      "71: normal (1.0)\n",
      "72: normal (0.999451160431)\n",
      "73: malignant (0.983878910542)\n",
      "74: malignant (0.918611705303)\n",
      "75: normal (1.0)\n",
      "76: malignant (0.999462306499)\n",
      "77: malignant (0.999996364117)\n",
      "78: normal (0.47671431303)\n",
      "79: normal (0.720783054829)\n",
      "80: malignant (0.697783768177)\n",
      "81: normal (0.999923467636)\n",
      "82: normal (0.843122899532)\n",
      "83: normal (1.0)\n",
      "84: malignant (0.528754889965)\n",
      "85: malignant (0.876797795296)\n",
      "86: malignant (0.955407381058)\n",
      "87: normal (1.0)\n",
      "88: normal (0.998575568199)\n",
      "89: malignant (0.999925136566)\n",
      "90: malignant (0.999989330769)\n",
      "91: malignant (0.999976277351)\n",
      "92: normal (0.978616654873)\n",
      "93: malignant (0.910483419895)\n",
      "94: malignant (0.995761871338)\n",
      "95: malignant (1.0)\n",
      "96: normal (0.999922335148)\n",
      "97: normal (0.986668050289)\n",
      "98: normal (0.98578864336)\n",
      "99: normal (0.948673069477)\n",
      "100: normal (0.603177785873)\n",
      "101: normal (0.998583376408)\n",
      "102: normal (0.64558249712)\n",
      "103: malignant (0.999456465244)\n",
      "104: normal (0.987576663494)\n",
      "105: normal (0.691366970539)\n",
      "106: normal (1.0)\n",
      "107: normal (0.999986231327)\n",
      "108: malignant (0.988556861877)\n",
      "109: malignant (0.985886752605)\n",
      "110: malignant (0.701462328434)\n",
      "111: malignant (0.718831241131)\n",
      "112: normal (0.894987046719)\n",
      "113: malignant (0.995789706707)\n",
      "114: malignant (0.9947219491)\n",
      "115: malignant (0.978179395199)\n",
      "116: malignant (0.924568533897)\n",
      "117: malignant (0.977171957493)\n",
      "118: malignant (0.962519049644)\n",
      "119: malignant (0.637288033962)\n",
      "120: malignant (0.99150878191)\n",
      "121: malignant (0.924568474293)\n",
      "122: malignant (0.887415587902)\n",
      "123: normal (0.941718578339)\n",
      "124: normal (0.536754846573)\n",
      "125: malignant (0.99815762043)\n",
      "126: normal (0.999840855598)\n",
      "127: malignant (0.990602374077)\n",
      "128: normal (0.999657154083)\n",
      "129: normal (0.998898565769)\n",
      "130: normal (1.0)\n",
      "131: normal (0.991377711296)\n",
      "132: normal (0.893552958965)\n",
      "133: malignant (0.999997377396)\n",
      "134: normal (0.999999940395)\n",
      "135: normal (0.856353878975)\n",
      "136: normal (0.999368488789)\n",
      "137: normal (0.95391947031)\n",
      "138: normal (1.0)\n",
      "139: normal (0.541148662567)\n",
      "140: normal (0.881291151047)\n",
      "141: normal (1.0)\n",
      "142: normal (0.649485170841)\n",
      "143: malignant (0.998171806335)\n",
      "144: normal (0.558649659157)\n",
      "145: normal (0.999946534634)\n",
      "146: malignant (0.514927566051)\n",
      "147: normal (0.909232974052)\n",
      "148: normal (0.616507828236)\n",
      "149: normal (0.66188454628)\n",
      "150: malignant (0.863316595554)\n",
      "151: normal (0.639512658119)\n",
      "152: normal (1.0)\n",
      "153: malignant (0.594929337502)\n",
      "154: malignant (0.957965672016)\n",
      "155: normal (0.912783741951)\n",
      "156: malignant (0.953051507473)\n",
      "157: normal (0.680292606354)\n",
      "158: malignant (0.999086260796)\n",
      "159: malignant (0.992091596127)\n",
      "160: malignant (0.963969886303)\n",
      "161: malignant (0.560694932938)\n",
      "162: normal (0.999999880791)\n",
      "163: normal (0.777930140495)\n",
      "164: malignant (0.882186949253)\n",
      "165: normal (0.988324522972)\n",
      "166: normal (0.999996244907)\n",
      "167: normal (0.824568688869)\n",
      "168: normal (0.953011453152)\n",
      "169: normal (0.998075485229)\n",
      "170: normal (0.999988794327)\n",
      "171: normal (0.999092519283)\n",
      "172: normal (0.999987542629)\n",
      "173: normal (1.0)\n",
      "174: malignant (0.838399469852)\n",
      "175: normal (1.0)\n",
      "176: malignant (0.991823196411)\n",
      "177: normal (0.999999523163)\n",
      "178: normal (0.995499491692)\n",
      "179: normal (0.999888777733)\n",
      "180: normal (0.996594309807)\n",
      "181: normal (1.0)\n",
      "182: benign (0.529495298862)\n",
      "183: normal (0.999923050404)\n",
      "184: normal (0.982162237167)\n",
      "185: malignant (0.999425888062)\n",
      "186: normal (0.979108095169)\n",
      "187: malignant (0.560841500759)\n",
      "188: malignant (0.997014522552)\n",
      "189: normal (0.943278670311)\n",
      "190: normal (0.864774048328)\n",
      "191: malignant (0.994474709034)\n",
      "192: malignant (0.999397099018)\n",
      "193: malignant (0.584165990353)\n",
      "194: normal (0.98133534193)\n",
      "195: normal (0.998680412769)\n",
      "196: normal (0.63432520628)\n",
      "197: malignant (0.624698579311)\n",
      "198: normal (1.0)\n",
      "199: normal (0.99956381321)\n",
      "200: malignant (0.999954819679)\n",
      "201: normal (0.999054610729)\n",
      "202: normal (0.925395131111)\n",
      "203: malignant (0.733190834522)\n",
      "204: normal (1.0)\n",
      "205: normal (0.801573991776)\n",
      "206: normal (0.826676011086)\n",
      "207: normal (1.0)\n",
      "208: normal (0.999970018864)\n",
      "209: malignant (0.999077379704)\n",
      "210: normal (0.997371435165)\n",
      "211: malignant (0.999997258186)\n",
      "212: malignant (0.999944865704)\n",
      "213: malignant (0.68396294117)\n",
      "214: malignant (0.999999403954)\n",
      "215: normal (0.813136160374)\n",
      "216: malignant (0.7170779109)\n",
      "217: normal (0.999798715115)\n",
      "218: normal (1.0)\n",
      "219: malignant (0.836516320705)\n",
      "220: normal (1.0)\n",
      "221: normal (0.595604360104)\n",
      "222: normal (0.551338911057)\n",
      "223: normal (0.951588153839)\n",
      "224: normal (0.917945086956)\n",
      "225: normal (1.0)\n",
      "226: normal (0.621217548847)\n",
      "227: malignant (0.998691141605)\n",
      "228: malignant (0.871851801872)\n",
      "229: normal (0.999999940395)\n",
      "230: malignant (0.997279345989)\n",
      "231: normal (0.999993145466)\n",
      "232: normal (1.0)\n",
      "233: malignant (0.999966323376)\n",
      "234: normal (1.0)\n",
      "235: malignant (0.999866425991)\n",
      "236: normal (1.0)\n",
      "237: malignant (0.831061124802)\n",
      "238: normal (1.0)\n",
      "239: normal (0.999999582767)\n",
      "240: normal (0.992543697357)\n",
      "241: malignant (0.547379136086)\n",
      "242: normal (0.644165217876)\n",
      "243: normal (0.992953777313)\n",
      "244: normal (1.0)\n",
      "245: normal (0.992860734463)\n",
      "246: normal (0.999848008156)\n",
      "247: malignant (0.92933768034)\n",
      "248: malignant (0.993150949478)\n",
      "249: normal (1.0)\n",
      "250: malignant (0.990577042103)\n",
      "251: malignant (0.954324781895)\n",
      "252: malignant (0.983089983463)\n",
      "253: malignant (0.851044952869)\n",
      "254: malignant (1.0)\n",
      "255: malignant (0.735559642315)\n",
      "256: normal (1.0)\n",
      "257: malignant (0.999898016453)\n",
      "258: normal (0.999999344349)\n",
      "259: malignant (0.985260367393)\n",
      "260: normal (0.976822435856)\n",
      "261: malignant (0.747352600098)\n",
      "262: malignant (0.650853812695)\n",
      "263: normal (0.999995648861)\n",
      "264: normal (0.999794065952)\n",
      "265: malignant (0.999327719212)\n",
      "266: normal (1.0)\n",
      "267: normal (0.998202443123)\n",
      "268: normal (1.0)\n",
      "269: normal (0.964096367359)\n",
      "270: malignant (0.990571081638)\n",
      "271: normal (1.0)\n",
      "272: malignant (0.999922633171)\n",
      "273: malignant (0.888868153095)\n",
      "274: normal (0.999964177608)\n",
      "275: malignant (0.998427629471)\n",
      "276: normal (0.999430239201)\n",
      "277: normal (1.0)\n",
      "278: normal (0.993771493435)\n",
      "279: normal (0.999467074871)\n",
      "280: normal (0.985918283463)\n",
      "281: normal (1.0)\n",
      "282: normal (0.988942027092)\n",
      "283: normal (0.999999284744)\n",
      "284: normal (1.0)\n",
      "285: normal (0.999917387962)\n",
      "286: malignant (0.986241102219)\n",
      "287: normal (0.883283138275)\n",
      "288: malignant (0.507735967636)\n",
      "289: malignant (0.968303978443)\n",
      "290: normal (0.804060161114)\n",
      "291: normal (0.564644157887)\n",
      "292: normal (0.556237101555)\n",
      "293: normal (0.963607430458)\n",
      "294: normal (0.981465280056)\n",
      "295: normal (0.999984920025)\n",
      "296: malignant (0.921270310879)\n",
      "297: malignant (0.999999940395)\n",
      "298: normal (0.999797284603)\n",
      "299: normal (0.999999940395)\n",
      "300: normal (1.0)\n",
      "301: normal (0.999847948551)\n",
      "302: malignant (0.957528591156)\n",
      "303: normal (0.690759658813)\n",
      "304: normal (0.999954521656)\n",
      "305: normal (0.953933596611)\n",
      "306: normal (0.95339769125)\n",
      "307: normal (0.856081187725)\n",
      "308: normal (0.993191301823)\n",
      "309: malignant (0.873433172703)\n",
      "310: normal (0.914419829845)\n",
      "311: malignant (0.919787466526)\n",
      "312: normal (1.0)\n",
      "313: normal (0.999850749969)\n",
      "314: malignant (0.999999344349)\n",
      "315: malignant (0.999975383282)\n",
      "316: malignant (0.616874217987)\n",
      "317: malignant (0.984232962132)\n",
      "318: malignant (0.999993562698)\n",
      "319: normal (0.99999833107)\n",
      "320: normal (1.0)\n",
      "321: malignant (0.774065554142)\n",
      "322: malignant (0.984483242035)\n",
      "323: malignant (0.95051574707)\n",
      "324: normal (1.0)\n",
      "325: malignant (0.997700691223)\n",
      "326: normal (0.999990463257)\n",
      "327: malignant (0.998939692974)\n",
      "328: malignant (0.965208888054)\n",
      "329: normal (0.993006289005)\n",
      "330: malignant (0.999015450478)\n",
      "331: malignant (0.999289035797)\n",
      "332: normal (1.0)\n",
      "333: malignant (0.984833538532)\n",
      "334: malignant (0.90929877758)\n",
      "335: normal (1.0)\n",
      "336: malignant (0.999506473541)\n",
      "337: normal (1.0)\n",
      "338: normal (0.993988037109)\n",
      "339: normal (0.913892328739)\n",
      "340: malignant (0.999997317791)\n",
      "341: malignant (0.997664809227)\n",
      "342: malignant (0.701293468475)\n",
      "343: normal (1.0)\n",
      "344: normal (0.999065458775)\n",
      "345: malignant (0.995742559433)\n",
      "346: benign (0.368957191706)\n",
      "347: malignant (0.97111082077)\n",
      "348: normal (0.898633897305)\n",
      "349: malignant (0.984279990196)\n",
      "350: malignant (0.678730130196)\n",
      "351: normal (0.888764023781)\n",
      "352: benign (0.812248885632)\n",
      "353: malignant (0.958690643311)\n",
      "354: normal (0.793325424194)\n",
      "355: malignant (0.96113717556)\n",
      "356: malignant (0.999026358128)\n",
      "357: normal (0.853604853153)\n",
      "358: normal (0.726417601109)\n",
      "359: malignant (0.984665691853)\n",
      "360: normal (0.779594123363)\n",
      "361: malignant (0.999999582767)\n",
      "362: normal (0.998956561089)\n",
      "363: normal (0.999996602535)\n",
      "364: normal (1.0)\n",
      "365: malignant (0.769417345524)\n",
      "366: normal (0.970220506191)\n",
      "367: malignant (0.975255668163)\n",
      "368: normal (0.931244730949)\n",
      "369: malignant (0.704314231873)\n",
      "370: normal (0.999976813793)\n"
     ]
    }
   ],
   "source": [
    "predClasses = []\n",
    "for i in range(len(predictOutput)):\n",
    "\n",
    "    arPred = np.array(predictOutput[i])\n",
    "    predictionProb = arPred.max()\n",
    "    predictionNdx = arPred.argmax()\n",
    "    predClassName = numBC[predictionNdx]\n",
    "    predClasses.append(predictionNdx)\n",
    "\n",
    "    print \"{0}: {1} ({2})\".format(i, predClassName, predictionProb)"
   ]
  },
  {
   "cell_type": "code",
   "execution_count": 46,
   "metadata": {
    "collapsed": false
   },
   "outputs": [
    {
     "data": {
      "text/plain": [
       "array([[128,   0,  52],\n",
       "       [  6,   0,   6],\n",
       "       [ 81,   3,  95]])"
      ]
     },
     "execution_count": 46,
     "metadata": {},
     "output_type": "execute_result"
    }
   ],
   "source": [
    "\n",
    "cnf_matrix = skm.confusion_matrix(Y_test, predClasses)\n",
    "cnf_matrix"
   ]
  },
  {
   "cell_type": "code",
   "execution_count": 44,
   "metadata": {
    "collapsed": true
   },
   "outputs": [],
   "source": [
    "import itertools\n",
    "def plot_confusion_matrix(cm, classes,\n",
    "                          normalize=False,\n",
    "                          title='Confusion matrix',\n",
    "                          cmap=plt.cm.Blues):\n",
    "    \"\"\"\n",
    "    This function prints and plots the confusion matrix.\n",
    "    Normalization can be applied by setting `normalize=True`.\n",
    "    \"\"\"\n",
    "    plt.imshow(cm, interpolation='nearest', cmap=cmap)\n",
    "    plt.title(title)\n",
    "    plt.colorbar()\n",
    "    tick_marks = np.arange(len(classes))\n",
    "    plt.xticks(tick_marks, classes, rotation=45)\n",
    "    plt.yticks(tick_marks, classes)\n",
    "\n",
    "    if normalize:\n",
    "        cm = cm.astype('float') / cm.sum(axis=1)[:, np.newaxis]\n",
    "        print(\"Normalized confusion matrix\")\n",
    "    else:\n",
    "        print('Confusion matrix, without normalization')\n",
    "\n",
    "    print(cm)\n",
    "\n",
    "    thresh = cm.max() / 2.\n",
    "    for i, j in itertools.product(range(cm.shape[0]), range(cm.shape[1])):\n",
    "        plt.text(j, i, cm[i, j],\n",
    "                 horizontalalignment=\"center\",\n",
    "                 color=\"white\" if cm[i, j] > thresh else \"black\")\n",
    "\n",
    "    plt.tight_layout()\n",
    "    plt.ylabel('True label')\n",
    "    plt.xlabel('Predicted label')"
   ]
  },
  {
   "cell_type": "code",
   "execution_count": 61,
   "metadata": {
    "collapsed": false
   },
   "outputs": [],
   "source": [
    "class_names = numBC.values()\n",
    "np.set_printoptions(precision=2)"
   ]
  },
  {
   "cell_type": "code",
   "execution_count": 56,
   "metadata": {
    "collapsed": false
   },
   "outputs": [
    {
     "name": "stdout",
     "output_type": "stream",
     "text": [
      "Confusion matrix, without normalization\n",
      "[[128   0  52]\n",
      " [  6   0   6]\n",
      " [ 81   3  95]]\n"
     ]
    }
   ],
   "source": [
    "# Plot non-normalized confusion matrix\n",
    "plt.figure()\n",
    "plot_confusion_matrix(cnf_matrix, classes=class_names,\n",
    "                      title='Confusion matrix, without normalization')\n"
   ]
  },
  {
   "cell_type": "code",
   "execution_count": 58,
   "metadata": {
    "collapsed": false
   },
   "outputs": [],
   "source": [
    "plt.savefig('../../figures/confusion_matrix.png')"
   ]
  },
  {
   "cell_type": "code",
   "execution_count": 62,
   "metadata": {
    "collapsed": false
   },
   "outputs": [
    {
     "name": "stdout",
     "output_type": "stream",
     "text": [
      "Normalized confusion matrix\n",
      "[[ 0.71  0.    0.29]\n",
      " [ 0.5   0.    0.5 ]\n",
      " [ 0.45  0.02  0.53]]\n"
     ]
    }
   ],
   "source": [
    "# Plot normalized confusion matrix\n",
    "plt.figure()\n",
    "plot_confusion_matrix(cnf_matrix, classes=class_names, normalize=True,\n",
    "                      title='Normalized confusion matrix')\n",
    "plt.savefig('../../figures/confusion_matrix_norm.png')"
   ]
  },
  {
   "cell_type": "code",
   "execution_count": null,
   "metadata": {
    "collapsed": true
   },
   "outputs": [],
   "source": []
  }
 ],
 "metadata": {
  "kernelspec": {
   "display_name": "Python 2",
   "language": "python",
   "name": "python2"
  },
  "language_info": {
   "codemirror_mode": {
    "name": "ipython",
    "version": 2
   },
   "file_extension": ".py",
   "mimetype": "text/x-python",
   "name": "python",
   "nbconvert_exporter": "python",
   "pygments_lexer": "ipython2",
   "version": "2.7.6"
  }
 },
 "nbformat": 4,
 "nbformat_minor": 0
}
