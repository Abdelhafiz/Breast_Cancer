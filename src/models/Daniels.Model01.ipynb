{
 "cells": [
  {
   "cell_type": "code",
   "execution_count": 1,
   "metadata": {
    "collapsed": false
   },
   "outputs": [
    {
     "name": "stderr",
     "output_type": "stream",
     "text": [
      "Using Theano backend.\n"
     ]
    }
   ],
   "source": [
    "import datetime\n",
    "import Image\n",
    "import gc\n",
    "import numpy as np\n",
    "import os\n",
    "import random\n",
    "from scipy import misc\n",
    "import string\n",
    "import time\n",
    "\n",
    "# Set some Theano config before initializing\n",
    "os.environ[\"THEANO_FLAGS\"] = \"mode=FAST_RUN,device=cpu,floatX=float32,allow_gc=False,openmp=True\"\n",
    "import theano\n",
    "\n",
    "import matplotlib\n",
    "matplotlib.use('Agg')\n",
    "from matplotlib import pyplot as plt\n",
    "\n",
    "#import emotion_model\n",
    "import dwdii_bc_model_helper as bc\n",
    "import bc_models as models\n",
    "\n",
    "random.seed(20275)"
   ]
  },
  {
   "cell_type": "code",
   "execution_count": 2,
   "metadata": {
    "collapsed": false
   },
   "outputs": [
    {
     "name": "stdout",
     "output_type": "stream",
     "text": [
      "device: cpu\n",
      "floatX: float32\n",
      "mode: FAST_RUN\n",
      "openmp: True\n",
      "allow_gc: False\n"
     ]
    }
   ],
   "source": [
    "print \"device:\", theano.config.device\n",
    "print \"floatX:\",  theano.config.floatX\n",
    "print \"mode:\", theano.config.mode\n",
    "print \"openmp:\", theano.config.openmp\n",
    "print \"allow_gc:\", theano.config.allow_gc"
   ]
  },
  {
   "cell_type": "code",
   "execution_count": 3,
   "metadata": {
    "collapsed": true
   },
   "outputs": [],
   "source": [
    "imagePath = \"/root/bc_data/ddsm-png.25\"\n",
    "dataPath = \"/root/bc_data/ddsm-png.25/Ddsm_png.csv\"\n",
    "imgResize = (150, 150)"
   ]
  },
  {
   "cell_type": "code",
   "execution_count": 4,
   "metadata": {
    "collapsed": false
   },
   "outputs": [
    {
     "data": {
      "text/plain": [
       "['ddsm', 'ddsm-hog', 'ddsm-png.25', 'ddsm-sm', 'Ddsm.csv', 'mias']"
      ]
     },
     "execution_count": 4,
     "metadata": {},
     "output_type": "execute_result"
    }
   ],
   "source": [
    "os.listdir('/root/bc_data')"
   ]
  },
  {
   "cell_type": "markdown",
   "metadata": {},
   "source": [
    "# Load Training and Test Data\n",
    "\n",
    "In this section, the training/validation data is loaded. The load_data function pre-balances the data set by removing images from over-represented emotion classes."
   ]
  },
  {
   "cell_type": "code",
   "execution_count": 5,
   "metadata": {
    "collapsed": false
   },
   "outputs": [
    {
     "name": "stdout",
     "output_type": "stream",
     "text": [
      "Before Balancing\n",
      "----------------\n",
      "benign 3164\n",
      "malignant 1096\n",
      "balanaceViaRemoval.avgE: 2130\n",
      "balanaceViaRemoval.theshold: 2130.0\n",
      "\n",
      "After Balancing\n",
      "----------------\n",
      "benign 1613\n",
      "malignant 1096\n"
     ]
    }
   ],
   "source": [
    "metaData, meta2 = bc.load_training_metadata(dataPath, balanceViaRemoval=True, verbose=True)"
   ]
  },
  {
   "cell_type": "code",
   "execution_count": 6,
   "metadata": {
    "collapsed": false
   },
   "outputs": [
    {
     "data": {
      "text/plain": [
       "'0'"
      ]
     },
     "execution_count": 6,
     "metadata": {},
     "output_type": "execute_result"
    }
   ],
   "source": [
    "meta2[meta2.keys()[0]]"
   ]
  },
  {
   "cell_type": "code",
   "execution_count": 7,
   "metadata": {
    "collapsed": false
   },
   "outputs": [
    {
     "name": "stdout",
     "output_type": "stream",
     "text": [
      "Before Balancing\n",
      "----------------\n",
      "benign 3164\n",
      "malignant 1096\n",
      "balanaceViaRemoval.avgE: 2130\n",
      "balanaceViaRemoval.theshold: 2130.0\n",
      "\n",
      "After Balancing\n",
      "----------------\n",
      "benign 1613\n",
      "malignant 1096\n",
      "0.000000: A_0325_1.LEFT_MLO.LJPEG.png\n",
      "0.018457: C_0192_1.RIGHT_CC.LJPEG.png\n",
      "0.036914: A_0419_1.RIGHT_MLO.LJPEG.png\n",
      "0.055371: A_0014_1.LEFT_CC.LJPEG.png\n",
      "0.073828: C_0084_1.LEFT_CC.LJPEG.png\n",
      "0.092285: B_3411_1.RIGHT_MLO.LJPEG.png\n",
      "0.110742: C_0341_1.RIGHT_MLO.LJPEG.png\n",
      "0.129199: B_3047_1.RIGHT_MLO.LJPEG.png\n",
      "0.147656: A_0241_1.RIGHT_MLO.LJPEG.png\n",
      "0.166113: A_1061_1.RIGHT_CC.LJPEG.png\n",
      "0.184570: A_0201_1.RIGHT_CC.LJPEG.png\n",
      "0.203027: C_0111_1.LEFT_CC.LJPEG.png\n",
      "0.221484: C_0135_1.LEFT_MLO.LJPEG.png\n",
      "0.239941: C_0360_1.LEFT_CC.LJPEG.png\n",
      "0.258398: A_0328_1.RIGHT_CC.LJPEG.png\n",
      "0.276855: A_0154_1.LEFT_MLO.LJPEG.png\n",
      "0.295312: A_0602_1.RIGHT_MLO.LJPEG.png\n",
      "0.313769: A_1062_1.RIGHT_CC.LJPEG.png\n",
      "0.332226: A_0531_1.RIGHT_MLO.LJPEG.png\n",
      "0.350683: C_0209_1.RIGHT_CC.LJPEG.png\n",
      "0.369140: A_0145_1.RIGHT_CC.LJPEG.png\n",
      "0.387597: B_3136_1.RIGHT_CC.LJPEG.png\n",
      "0.406054: C_0079_1.LEFT_CC.LJPEG.png\n",
      "0.424511: B_3632_1.RIGHT_MLO.LJPEG.png\n",
      "0.442968: C_0147_1.RIGHT_CC.LJPEG.png\n",
      "0.461425: A_1083_1.RIGHT_CC.LJPEG.png\n",
      "0.479882: C_0086_1.RIGHT_MLO.LJPEG.png\n",
      "0.498339: B_3634_1.RIGHT_CC.LJPEG.png\n",
      "0.516796: A_1024_1.LEFT_CC.LJPEG.png\n",
      "0.535253: C_0130_1.RIGHT_MLO.LJPEG.png\n",
      "0.553710: C_0075_1.RIGHT_CC.LJPEG.png\n",
      "0.572167: A_0615_1.RIGHT_CC.LJPEG.png\n",
      "0.590624: A_0347_1.LEFT_MLO.LJPEG.png\n",
      "0.609081: A_0071_1.RIGHT_CC.LJPEG.png\n",
      "0.627538: A_0524_1.LEFT_CC.LJPEG.png\n",
      "0.645995: C_0069_1.RIGHT_MLO.LJPEG.png\n",
      "0.664452: B_3601_1.LEFT_MLO.LJPEG.png\n",
      "0.682909: A_0257_1.RIGHT_CC.LJPEG.png\n",
      "0.701366: A_0274_1.LEFT_CC.LJPEG.png\n",
      "0.719823: A_0610_1.LEFT_MLO.LJPEG.png\n",
      "0.738280: C_0064_1.RIGHT_MLO.LJPEG.png\n",
      "0.756737: C_0100_1.RIGHT_CC.LJPEG.png\n",
      "0.775194: A_0034_1.RIGHT_CC.LJPEG.png\n",
      "0.793651: A_1102_1.LEFT_CC.LJPEG.png\n",
      "0.812108: A_0277_1.RIGHT_CC.LJPEG.png\n",
      "0.830565: B_3048_1.LEFT_MLO.LJPEG.png\n",
      "0.849022: B_3030_1.RIGHT_MLO.LJPEG.png\n",
      "0.867479: A_0108_1.RIGHT_MLO.LJPEG.png\n",
      "0.885936: A_0361_1.LEFT_MLO.LJPEG.png\n",
      "0.904393: A_0464_1.RIGHT_CC.LJPEG.png\n",
      "(2500, 150, 150)\n",
      "(2500, 1)\n"
     ]
    }
   ],
   "source": [
    "# Actually load some representative data for model experimentation\n",
    "maxData = len(metaData)\n",
    "X_data, Y_data = bc.load_data(dataPath, imagePath, maxData = maxData, verboseFreq = 50, imgResize=imgResize)\n",
    "print X_data.shape\n",
    "print Y_data.shape"
   ]
  },
  {
   "cell_type": "markdown",
   "metadata": {},
   "source": [
    "## Split Training/Test Sets\n",
    "The following code segment splits the data into training and test data sets. Currently this is a standard 80/20 split for training and test respectively after performing a random shuffle using the unison_shuffled_copies help method."
   ]
  },
  {
   "cell_type": "code",
   "execution_count": 8,
   "metadata": {
    "collapsed": true
   },
   "outputs": [],
   "source": [
    "skippedTransforms = True\n",
    "if skippedTransforms:\n",
    "    X_data2 = X_data\n",
    "    Y_data2 = Y_data"
   ]
  },
  {
   "cell_type": "code",
   "execution_count": 9,
   "metadata": {
    "collapsed": false
   },
   "outputs": [
    {
     "name": "stdout",
     "output_type": "stream",
     "text": [
      "2000\n",
      "(2000, 150, 150)\n",
      "(500, 150, 150)\n",
      "(2000, 1)\n",
      "(500, 1)\n"
     ]
    }
   ],
   "source": [
    "# Split the data into Training and Test sets\n",
    "trainNdx = int(X_data2.shape[0] * .8)\n",
    "print trainNdx\n",
    "\n",
    "X_train, X_test = np.split(X_data2, [trainNdx])\n",
    "Y_train, Y_test = np.split(Y_data2, [trainNdx])\n",
    "print X_train.shape\n",
    "print X_test.shape\n",
    "\n",
    "print Y_train.shape\n",
    "print Y_test.shape"
   ]
  },
  {
   "cell_type": "code",
   "execution_count": 30,
   "metadata": {
    "collapsed": false
   },
   "outputs": [
    {
     "name": "stdout",
     "output_type": "stream",
     "text": [
      "Y_train Dist: defaultdict(<type 'int'>, {0: 1223, 1: 777})\n",
      "Y_test Dist: defaultdict(<type 'int'>, {0: 321, 1: 179})\n"
     ]
    }
   ],
   "source": [
    "import collections\n",
    "def yDist(y):\n",
    "    bcCounts = collections.defaultdict(int)\n",
    "    for a in range(0, y.shape[0]):\n",
    "        bcCounts[y[a][0]] += 1\n",
    "    return bcCounts\n",
    "\n",
    "print \"Y_train Dist: \" + str(yDist(Y_train))\n",
    "print \"Y_test Dist: \" + str(yDist(Y_test))\n"
   ]
  },
  {
   "cell_type": "markdown",
   "metadata": {},
   "source": [
    "## Define and Load Trained Model"
   ]
  },
  {
   "cell_type": "code",
   "execution_count": 31,
   "metadata": {
    "collapsed": false
   },
   "outputs": [
    {
     "name": "stdout",
     "output_type": "stream",
     "text": [
      "{'benign': 0, 'malignant': 1}\n",
      "2\n"
     ]
    }
   ],
   "source": [
    "# Load the bc array for our count in the model definition\n",
    "bcTypes = bc.bcNumerics()\n",
    "print bcTypes\n",
    "print len(bcTypes)"
   ]
  },
  {
   "cell_type": "code",
   "execution_count": 32,
   "metadata": {
    "collapsed": false
   },
   "outputs": [
    {
     "name": "stdout",
     "output_type": "stream",
     "text": [
      "____________________________________________________________________________________________________\n",
      "Layer (type)                       Output Shape        Param #     Connected to                     \n",
      "====================================================================================================\n",
      "convolution2d_1 (Convolution2D)    (None, 32, 143, 143)2080        convolution2d_input_1[0][0]      \n",
      "____________________________________________________________________________________________________\n",
      "activation_1 (Activation)          (None, 32, 143, 143)0           convolution2d_1[0][0]            \n",
      "____________________________________________________________________________________________________\n",
      "maxpooling2d_1 (MaxPooling2D)      (None, 32, 71, 71)  0           activation_1[0][0]               \n",
      "____________________________________________________________________________________________________\n",
      "convolution2d_2 (Convolution2D)    (None, 32, 67, 67)  25632       maxpooling2d_1[0][0]             \n",
      "____________________________________________________________________________________________________\n",
      "activation_2 (Activation)          (None, 32, 67, 67)  0           convolution2d_2[0][0]            \n",
      "____________________________________________________________________________________________________\n",
      "maxpooling2d_2 (MaxPooling2D)      (None, 32, 33, 33)  0           activation_2[0][0]               \n",
      "____________________________________________________________________________________________________\n",
      "convolution2d_3 (Convolution2D)    (None, 64, 31, 31)  18496       maxpooling2d_2[0][0]             \n",
      "____________________________________________________________________________________________________\n",
      "activation_3 (Activation)          (None, 64, 31, 31)  0           convolution2d_3[0][0]            \n",
      "____________________________________________________________________________________________________\n",
      "maxpooling2d_3 (MaxPooling2D)      (None, 64, 15, 15)  0           activation_3[0][0]               \n",
      "____________________________________________________________________________________________________\n",
      "convolution2d_4 (Convolution2D)    (None, 64, 14, 14)  16448       maxpooling2d_3[0][0]             \n",
      "____________________________________________________________________________________________________\n",
      "activation_4 (Activation)          (None, 64, 14, 14)  0           convolution2d_4[0][0]            \n",
      "____________________________________________________________________________________________________\n",
      "maxpooling2d_4 (MaxPooling2D)      (None, 64, 7, 7)    0           activation_4[0][0]               \n",
      "____________________________________________________________________________________________________\n",
      "flatten_1 (Flatten)                (None, 3136)        0           maxpooling2d_4[0][0]             \n",
      "____________________________________________________________________________________________________\n",
      "dense_1 (Dense)                    (None, 64)          200768      flatten_1[0][0]                  \n",
      "____________________________________________________________________________________________________\n",
      "activation_5 (Activation)          (None, 64)          0           dense_1[0][0]                    \n",
      "____________________________________________________________________________________________________\n",
      "dense_2 (Dense)                    (None, 2)           130         activation_5[0][0]               \n",
      "____________________________________________________________________________________________________\n",
      "activation_6 (Activation)          (None, 2)           0           dense_2[0][0]                    \n",
      "====================================================================================================\n",
      "Total params: 263554\n",
      "____________________________________________________________________________________________________\n",
      "None\n"
     ]
    }
   ],
   "source": [
    "# Construct the model using our help function\n",
    "model = models.bc_model_v0(len(bcTypes), verbose=True, \n",
    "                                        input_shape=(1,X_train.shape[1],X_train.shape[2]))"
   ]
  },
  {
   "cell_type": "markdown",
   "metadata": {},
   "source": [
    "## Training the Model\n",
    "\n",
    "The following code segment trains the model using the run_network helper function. "
   ]
  },
  {
   "cell_type": "code",
   "execution_count": 33,
   "metadata": {
    "collapsed": true
   },
   "outputs": [],
   "source": [
    "loadWeights = False\n",
    "if loadWeights:\n",
    "    model.load_weights(\"dwdii-bc-150-v0-Cloud.hdf5\")"
   ]
  },
  {
   "cell_type": "code",
   "execution_count": 34,
   "metadata": {
    "collapsed": false
   },
   "outputs": [],
   "source": [
    "# Reshape to the appropriate shape for the CNN input\n",
    "testX = X_test.reshape(X_test.shape[0], 1, X_train.shape[1],X_train.shape[2])\n",
    "trainX = X_train.reshape(X_train.shape[0], 1, X_train.shape[1],X_train.shape[2])"
   ]
  },
  {
   "cell_type": "code",
   "execution_count": 35,
   "metadata": {
    "collapsed": false
   },
   "outputs": [
    {
     "name": "stdout",
     "output_type": "stream",
     "text": [
      "Training start: 2017-03-21 00:54:56.350493\n",
      "(2000, 2)\n",
      "(500, 2)\n",
      "Training model...\n",
      "Train on 2000 samples, validate on 500 samples\n",
      "Epoch 1/30\n",
      "2000/2000 [==============================] - 476s - loss: 0.7032 - acc: 0.6345 - val_loss: 0.5791 - val_acc: 0.6860\n",
      "Epoch 2/30\n",
      "2000/2000 [==============================] - 474s - loss: 0.5904 - acc: 0.6745 - val_loss: 0.6132 - val_acc: 0.6420\n",
      "Epoch 3/30\n",
      "2000/2000 [==============================] - 490s - loss: 0.5820 - acc: 0.6655 - val_loss: 0.5992 - val_acc: 0.6640\n",
      "Epoch 4/30\n",
      "2000/2000 [==============================] - 474s - loss: 0.5621 - acc: 0.6825 - val_loss: 0.5565 - val_acc: 0.6740\n",
      "Epoch 5/30\n",
      "2000/2000 [==============================] - 475s - loss: 0.5437 - acc: 0.7055 - val_loss: 0.5496 - val_acc: 0.6860\n",
      "Epoch 6/30\n",
      "2000/2000 [==============================] - 474s - loss: 0.5205 - acc: 0.7225 - val_loss: 0.5437 - val_acc: 0.6860\n",
      "Epoch 7/30\n",
      "2000/2000 [==============================] - 517s - loss: 0.4922 - acc: 0.7530 - val_loss: 0.5620 - val_acc: 0.7000\n",
      "Epoch 8/30\n",
      "2000/2000 [==============================] - 514s - loss: 0.4769 - acc: 0.7545 - val_loss: 0.5970 - val_acc: 0.7120\n",
      "Epoch 9/30\n",
      "2000/2000 [==============================] - 510s - loss: 0.4427 - acc: 0.7705 - val_loss: 0.6289 - val_acc: 0.6720\n",
      "Epoch 10/30\n",
      "2000/2000 [==============================] - 492s - loss: 0.4121 - acc: 0.7980 - val_loss: 0.5851 - val_acc: 0.7220\n",
      "Epoch 11/30\n",
      "2000/2000 [==============================] - 507s - loss: 0.3918 - acc: 0.8030 - val_loss: 0.7522 - val_acc: 0.6720\n",
      "Epoch 12/30\n",
      "2000/2000 [==============================] - 483s - loss: 0.3582 - acc: 0.8345 - val_loss: 0.6487 - val_acc: 0.7100\n",
      "Epoch 13/30\n",
      "2000/2000 [==============================] - 512s - loss: 0.3274 - acc: 0.8435 - val_loss: 0.9810 - val_acc: 0.6920\n",
      "Epoch 14/30\n",
      "2000/2000 [==============================] - 575s - loss: 0.3032 - acc: 0.8710 - val_loss: 0.7723 - val_acc: 0.6880\n",
      "Epoch 15/30\n",
      "2000/2000 [==============================] - 533s - loss: 0.2807 - acc: 0.8760 - val_loss: 0.7897 - val_acc: 0.7000\n",
      "Epoch 16/30\n",
      "2000/2000 [==============================] - 554s - loss: 0.2427 - acc: 0.8895 - val_loss: 0.8441 - val_acc: 0.7180\n",
      "Epoch 17/30\n",
      "2000/2000 [==============================] - 586s - loss: 0.2213 - acc: 0.9050 - val_loss: 0.8340 - val_acc: 0.7140\n",
      "Epoch 18/30\n",
      "2000/2000 [==============================] - 558s - loss: 0.1871 - acc: 0.9260 - val_loss: 0.7705 - val_acc: 0.7400\n",
      "Epoch 19/30\n",
      "2000/2000 [==============================] - 498s - loss: 0.1695 - acc: 0.9345 - val_loss: 0.9035 - val_acc: 0.7180\n",
      "Epoch 20/30\n",
      "2000/2000 [==============================] - 492s - loss: 0.1460 - acc: 0.9405 - val_loss: 1.0018 - val_acc: 0.7120\n",
      "Epoch 21/30\n",
      "2000/2000 [==============================] - 501s - loss: 0.1358 - acc: 0.9485 - val_loss: 0.9317 - val_acc: 0.7380\n",
      "Epoch 22/30\n",
      "2000/2000 [==============================] - 507s - loss: 0.1015 - acc: 0.9635 - val_loss: 1.0400 - val_acc: 0.7100\n",
      "Epoch 23/30\n",
      "2000/2000 [==============================] - 497s - loss: 0.1010 - acc: 0.9630 - val_loss: 1.1678 - val_acc: 0.7120\n",
      "Epoch 24/30\n",
      "2000/2000 [==============================] - 507s - loss: 0.0765 - acc: 0.9760 - val_loss: 1.1304 - val_acc: 0.7320\n",
      "Epoch 25/30\n",
      "2000/2000 [==============================] - 494s - loss: 0.0788 - acc: 0.9715 - val_loss: 1.1736 - val_acc: 0.7180\n",
      "Epoch 26/30\n",
      "2000/2000 [==============================] - 477s - loss: 0.0615 - acc: 0.9820 - val_loss: 1.3034 - val_acc: 0.7240\n",
      "Epoch 27/30\n",
      "2000/2000 [==============================] - 480s - loss: 0.0604 - acc: 0.9815 - val_loss: 1.3297 - val_acc: 0.7120\n",
      "Epoch 28/30\n",
      "2000/2000 [==============================] - 477s - loss: 0.0524 - acc: 0.9840 - val_loss: 1.3193 - val_acc: 0.7240\n",
      "Epoch 29/30\n",
      "2000/2000 [==============================] - 474s - loss: 0.0608 - acc: 0.9840 - val_loss: 1.3672 - val_acc: 0.7080\n",
      "Epoch 30/30\n",
      "2000/2000 [==============================] - 473s - loss: 0.0288 - acc: 0.9925 - val_loss: 1.4040 - val_acc: 0.7260\n",
      "Training duration : 15104.025847\n",
      "Network's test score [loss, accuracy]: [1.4040143725872041, 0.72599999999999998]\n"
     ]
    }
   ],
   "source": [
    "print \"Training start: \" + str(datetime.datetime.now())\n",
    "m, h = models.run_network([trainX, testX, Y_train, Y_test], model, batch=50, epochs=30, verbosity=1)"
   ]
  },
  {
   "cell_type": "code",
   "execution_count": null,
   "metadata": {
    "collapsed": true
   },
   "outputs": [],
   "source": [
    "model.save_weights(\"dwdii-bc-150-v0-Cloud.hdf5\", overwrite=True)"
   ]
  },
  {
   "cell_type": "markdown",
   "metadata": {},
   "source": [
    "### Experiment Results"
   ]
  },
  {
   "cell_type": "markdown",
   "metadata": {},
   "source": [
    "* bc_model_v0 (150x150, 800/200): 182s - loss: 0.0560 - acc: 0.9813 - val_loss: 1.9918 - val_acc: 0.6800\n",
    "* bc_model_v0 (150x150, 2000/500): 473s - loss: 0.0288 - acc: 0.9925 - val_loss: 1.4040 - val_acc: 0.7260\n",
    "   * somewhat balanced, Y_train Dist {0: 1223, 1: 777}, Y_test Dist: {0: 321, 1: 179}"
   ]
  },
  {
   "cell_type": "code",
   "execution_count": null,
   "metadata": {
    "collapsed": true
   },
   "outputs": [],
   "source": []
  }
 ],
 "metadata": {
  "kernelspec": {
   "display_name": "Python 2",
   "language": "python",
   "name": "python2"
  },
  "language_info": {
   "codemirror_mode": {
    "name": "ipython",
    "version": 2
   },
   "file_extension": ".py",
   "mimetype": "text/x-python",
   "name": "python",
   "nbconvert_exporter": "python",
   "pygments_lexer": "ipython2",
   "version": "2.7.6"
  }
 },
 "nbformat": 4,
 "nbformat_minor": 0
}
