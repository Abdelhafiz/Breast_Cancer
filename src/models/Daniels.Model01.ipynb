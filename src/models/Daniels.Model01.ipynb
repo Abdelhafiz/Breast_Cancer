{
 "cells": [
  {
   "cell_type": "code",
   "execution_count": 1,
   "metadata": {
    "collapsed": false
   },
   "outputs": [
    {
     "name": "stderr",
     "output_type": "stream",
     "text": [
      "/usr/lib/python2.7/dist-packages/scipy/lib/_util.py:35: DeprecationWarning: Module scipy.linalg.blas.fblas is deprecated, use scipy.linalg.blas instead\n",
      "  DeprecationWarning)\n",
      "/usr/lib/python2.7/dist-packages/scipy/lib/_util.py:35: DeprecationWarning: Module scipy.linalg.blas.fblas is deprecated, use scipy.linalg.blas instead\n",
      "  DeprecationWarning)\n",
      "/usr/lib/python2.7/dist-packages/scipy/lib/_util.py:35: DeprecationWarning: Module scipy.linalg.blas.fblas is deprecated, use scipy.linalg.blas instead\n",
      "  DeprecationWarning)\n",
      "/usr/lib/python2.7/dist-packages/scipy/lib/_util.py:35: DeprecationWarning: Module scipy.linalg.blas.fblas is deprecated, use scipy.linalg.blas instead\n",
      "  DeprecationWarning)\n",
      "/usr/lib/python2.7/dist-packages/scipy/lib/_util.py:35: DeprecationWarning: Module scipy.linalg.blas.fblas is deprecated, use scipy.linalg.blas instead\n",
      "  DeprecationWarning)\n",
      "/usr/lib/python2.7/dist-packages/scipy/lib/_util.py:35: DeprecationWarning: Module scipy.linalg.blas.fblas is deprecated, use scipy.linalg.blas instead\n",
      "  DeprecationWarning)\n",
      "/usr/lib/python2.7/dist-packages/scipy/lib/_util.py:35: DeprecationWarning: Module scipy.linalg.blas.fblas is deprecated, use scipy.linalg.blas instead\n",
      "  DeprecationWarning)\n",
      "/usr/lib/python2.7/dist-packages/scipy/lib/_util.py:35: DeprecationWarning: Module scipy.linalg.blas.fblas is deprecated, use scipy.linalg.blas instead\n",
      "  DeprecationWarning)\n",
      "Using Theano backend.\n"
     ]
    }
   ],
   "source": [
    "import datetime\n",
    "import Image\n",
    "import gc\n",
    "import numpy as np\n",
    "import os\n",
    "import random\n",
    "from scipy import misc\n",
    "import string\n",
    "import time\n",
    "import sys\n",
    "import sklearn.metrics as skm\n",
    "\n",
    "# Set some Theano config before initializing\n",
    "os.environ[\"THEANO_FLAGS\"] = \"mode=FAST_RUN,device=cpu,floatX=float32,allow_gc=False,openmp=True\"\n",
    "import theano\n",
    "\n",
    "# MatPlotLib - Setup for Jupyter notebook output\n",
    "import matplotlib\n",
    "matplotlib.use('Agg')\n",
    "from matplotlib import pyplot as plt\n",
    "\n",
    "# Our modules\n",
    "import dwdii_bc_model_helper as bc\n",
    "import bc_models as models\n",
    "\n",
    "# And Keras so we can emit the version\n",
    "import keras\n",
    "\n",
    "random.seed(20275)\n",
    "np.set_printoptions(precision=2)"
   ]
  },
  {
   "cell_type": "code",
   "execution_count": 4,
   "metadata": {
    "collapsed": false
   },
   "outputs": [
    {
     "name": "stdout",
     "output_type": "stream",
     "text": [
      "Python v2.7.6 (default, Jun 22 2015, 17:58:13) \n",
      "[GCC 4.8.2]\n",
      "Numpy v: 1.8.2\n",
      "keras v: 1.0.3\n",
      "device: cpu\n",
      "floatX: float32\n",
      "mode: FAST_RUN\n",
      "openmp: True\n",
      "allow_gc: False\n"
     ]
    }
   ],
   "source": [
    "# Print some upfront version and config settings\n",
    "print \"Python v\" + sys.version\n",
    "print \"Numpy v: \" + np.__version__\n",
    "print \"keras v: \" + keras.__version__\n",
    "print \"device:\", theano.config.device\n",
    "print \"floatX:\",  theano.config.floatX\n",
    "print \"mode:\", theano.config.mode\n",
    "print \"openmp:\", theano.config.openmp\n",
    "print \"allow_gc:\", theano.config.allow_gc"
   ]
  },
  {
   "cell_type": "code",
   "execution_count": 7,
   "metadata": {
    "collapsed": true
   },
   "outputs": [],
   "source": [
    "imagePath = \"/root/bc_data/ddsm-png.25\"\n",
    "#imagePath = \"/root/bc_data/Data_Thresholded/DDSM\"\n",
    "trainDataPath = \"../../data/ddsm_train.csv\"\n",
    "\n",
    "# Simulated training data\n",
    "trainImagePath = \"/root/bc_data/simulated_images\"\n",
    "trainDataPath = \"/root/bc_data/simulated_images/simulated_images.csv\"\n",
    "\n",
    "testDataPath = \"../../data/ddsm_test.csv\"\n",
    "imgResize = (150, 150)"
   ]
  },
  {
   "cell_type": "code",
   "execution_count": 8,
   "metadata": {
    "collapsed": false
   },
   "outputs": [
    {
     "data": {
      "text/plain": [
       "['ddsm_test.csv',\n",
       " 'ddsm_test.csv.old',\n",
       " 'ddsm_train.csv',\n",
       " 'ddsm_train.csv.old',\n",
       " 'ddsm_val.csv',\n",
       " 'ddsm_val.csv.old',\n",
       " 'mias_all.csv']"
      ]
     },
     "execution_count": 8,
     "metadata": {},
     "output_type": "execute_result"
    }
   ],
   "source": [
    "os.listdir('../../data')"
   ]
  },
  {
   "cell_type": "markdown",
   "metadata": {},
   "source": [
    "# Load Training and Test Data\n",
    "\n",
    "In this section, the training/validation data is loaded. The load_data function pre-balances the data set by removing images from over-represented emotion classes."
   ]
  },
  {
   "cell_type": "markdown",
   "metadata": {},
   "source": [
    "### Training Data"
   ]
  },
  {
   "cell_type": "code",
   "execution_count": 9,
   "metadata": {
    "collapsed": false
   },
   "outputs": [
    {
     "name": "stdout",
     "output_type": "stream",
     "text": [
      "Raw Balance\n",
      "----------------\n",
      "benign 4000\n",
      "malignant 4000\n",
      "normal 2000\n",
      "balanaceViaRemoval.avgE: 3333\n",
      "balanaceViaRemoval.theshold: 3333.0\n",
      "\n",
      "After Balancing\n",
      "----------------\n",
      "benign 2888\n",
      "malignant 2888\n",
      "normal 2000\n"
     ]
    }
   ],
   "source": [
    "metaData, meta2, mCounts = bc.load_training_metadata(trainDataPath, balanceViaRemoval=True, verbose=True)"
   ]
  },
  {
   "cell_type": "code",
   "execution_count": 10,
   "metadata": {
    "collapsed": false
   },
   "outputs": [
    {
     "name": "stdout",
     "output_type": "stream",
     "text": [
      "Raw Balance\n",
      "----------------\n",
      "benign 4000\n",
      "malignant 4000\n",
      "normal 2000\n",
      "balanaceViaRemoval.avgE: 3333\n",
      "balanaceViaRemoval.theshold: 3333.0\n",
      "\n",
      "After Balancing\n",
      "----------------\n",
      "benign 2888\n",
      "malignant 2888\n",
      "normal 2000\n"
     ]
    },
    {
     "name": "stderr",
     "output_type": "stream",
     "text": [
      "dwdii_bc_model_helper.py:181: DeprecationWarning: using a non-integer number instead of an integer will result in an error in the future\n",
      "  X_data = np.zeros([total, x, y])\n",
      "dwdii_bc_model_helper.py:182: DeprecationWarning: using a non-integer number instead of an integer will result in an error in the future\n",
      "  Y_data = np.zeros([total, 1], dtype=np.int8)\n"
     ]
    },
    {
     "name": "stdout",
     "output_type": "stream",
     "text": [
      "0.0000: breast_5400.png\n",
      "0.0064: breast_1136.png\n",
      "0.0129: breast_521.png\n",
      "0.0193: breast_5591.png\n",
      "0.0257: breast_3845.png\n",
      "0.0322: breast_8845.png\n",
      "0.0386: breast_5879.png\n",
      "0.0450: breast_9108.png\n",
      "0.0514: breast_7391.png\n",
      "0.0579: breast_5552.png\n",
      "0.0643: breast_8334.png\n",
      "0.0707: breast_2456.png\n",
      "0.0772: breast_3735.png\n",
      "0.0836: breast_5167.png\n",
      "0.0900: breast_1711.png\n",
      "0.0965: breast_8444.png\n",
      "0.1029: breast_3103.png\n",
      "0.1093: breast_2513.png\n",
      "0.1157: breast_757.png\n",
      "0.1222: breast_5133.png\n",
      "0.1286: breast_1395.png\n",
      "0.1350: breast_8340.png\n",
      "0.1415: breast_5048.png\n",
      "0.1479: breast_5812.png\n",
      "0.1543: breast_3377.png\n",
      "0.1608: breast_1939.png\n",
      "0.1672: breast_7640.png\n",
      "0.1736: breast_9592.png\n",
      "0.1800: breast_9345.png\n",
      "0.1865: breast_1087.png\n",
      "0.1929: breast_515.png\n",
      "0.1993: breast_7548.png\n",
      "0.2058: breast_8475.png\n",
      "0.2122: breast_7526.png\n",
      "0.2186: breast_998.png\n",
      "0.2251: breast_5825.png\n",
      "0.2315: breast_1352.png\n",
      "0.2379: breast_7971.png\n",
      "0.2443: breast_6606.png\n",
      "0.2508: breast_6141.png\n",
      "0.2572: breast_2729.png\n",
      "0.2636: breast_5727.png\n",
      "0.2701: breast_5664.png\n",
      "0.2765: breast_642.png\n",
      "0.2829: breast_6084.png\n",
      "0.2894: breast_720.png\n",
      "0.2958: breast_377.png\n",
      "0.3022: breast_9745.png\n",
      "0.3086: breast_697.png\n",
      "0.3151: breast_8771.png\n",
      "0.3215: breast_7426.png\n",
      "0.3279: breast_5600.png\n",
      "0.3344: breast_3132.png\n",
      "0.3408: breast_7876.png\n",
      "0.3472: breast_3458.png\n",
      "0.3537: breast_3846.png\n",
      "0.3601: breast_5780.png\n",
      "0.3665: breast_9798.png\n",
      "0.3729: breast_519.png\n",
      "0.3794: breast_8178.png\n",
      "0.3858: breast_7390.png\n",
      "0.3922: breast_7511.png\n",
      "0.3987: breast_2973.png\n",
      "0.4051: breast_6559.png\n",
      "0.4115: breast_3803.png\n",
      "0.4180: breast_133.png\n",
      "0.4244: breast_8696.png\n",
      "0.4308: breast_6663.png\n",
      "0.4372: breast_9975.png\n",
      "0.4437: breast_944.png\n",
      "0.4501: breast_9015.png\n",
      "0.4565: breast_6473.png\n",
      "0.4630: breast_6166.png\n",
      "0.4694: breast_3256.png\n",
      "0.4758: breast_5785.png\n",
      "0.4823: breast_5670.png\n",
      "0.4887: breast_6882.png\n",
      "0.4951: breast_9954.png\n",
      "0.5015: breast_221.png\n",
      "0.5080: breast_1835.png\n",
      "0.5144: breast_3489.png\n",
      "0.5208: breast_1507.png\n",
      "0.5273: breast_3699.png\n",
      "0.5337: breast_7844.png\n",
      "0.5401: breast_9852.png\n",
      "0.5466: breast_7958.png\n",
      "0.5530: breast_8853.png\n",
      "0.5594: breast_8752.png\n",
      "0.5658: breast_4535.png\n",
      "0.5723: breast_9434.png\n",
      "0.5787: breast_8448.png\n",
      "0.5851: breast_1476.png\n",
      "0.5916: breast_7974.png\n",
      "0.5980: breast_7770.png\n",
      "0.6044: breast_4532.png\n",
      "0.6109: breast_9417.png\n",
      "0.6173: breast_8347.png\n",
      "0.6237: breast_8252.png\n",
      "0.6301: breast_6708.png\n",
      "0.6366: breast_4369.png\n",
      "0.6430: breast_8955.png\n",
      "0.6494: breast_1871.png\n",
      "0.6559: breast_8697.png\n",
      "0.6623: breast_7161.png\n",
      "0.6687: breast_6340.png\n",
      "0.6752: breast_8934.png\n",
      "0.6816: breast_9837.png\n",
      "0.6880: breast_4334.png\n",
      "0.6944: breast_5809.png\n",
      "0.7009: breast_3509.png\n",
      "0.7073: breast_9746.png\n",
      "0.7137: breast_2630.png\n",
      "0.7202: breast_390.png\n",
      "0.7266: breast_8648.png\n",
      "0.7330: breast_1930.png\n",
      "0.7395: breast_4772.png\n",
      "0.7459: breast_2989.png\n",
      "0.7523: breast_695.png\n",
      "0.7587: breast_9490.png\n",
      "0.7652: breast_1917.png\n",
      "0.7716: breast_7383.png\n",
      "0.7780: breast_3290.png\n",
      "0.7845: breast_4725.png\n",
      "0.7909: breast_7235.png\n",
      "0.7973: breast_959.png\n",
      "0.8038: breast_477.png\n",
      "0.8102: breast_2289.png\n",
      "0.8166: breast_6173.png\n",
      "0.8230: breast_960.png\n",
      "0.8295: breast_552.png\n",
      "0.8359: breast_9853.png\n",
      "0.8423: breast_1159.png\n",
      "0.8488: breast_6887.png\n",
      "0.8552: breast_7011.png\n",
      "0.8616: breast_6659.png\n",
      "0.8681: breast_3580.png\n",
      "0.8745: breast_8032.png\n",
      "0.8809: breast_7882.png\n",
      "0.8873: breast_7160.png\n",
      "0.8938: breast_1487.png\n",
      "0.9002: breast_4191.png\n",
      "0.9066: breast_8939.png\n",
      "0.9131: breast_6362.png\n",
      "0.9195: breast_4757.png\n",
      "0.9259: breast_6622.png\n",
      "0.9324: breast_2948.png\n",
      "0.9388: breast_8529.png\n",
      "0.9452: breast_7854.png\n",
      "0.9516: breast_4321.png\n",
      "0.9581: breast_9454.png\n",
      "0.9645: breast_799.png\n",
      "0.9709: breast_4563.png\n",
      "0.9774: breast_2169.png\n",
      "0.9838: breast_8152.png\n",
      "0.9902: breast_7492.png\n",
      "0.9967: breast_6745.png\n",
      "(7776, 150, 150)\n",
      "(7776, 1)\n"
     ]
    }
   ],
   "source": [
    "# Actually load some representative data for model experimentation\n",
    "maxData = len(metaData)\n",
    "X_data, Y_data = bc.load_data(trainDataPath, trainImagePath, maxData = maxData, verboseFreq = 50, imgResize=imgResize)\n",
    "print X_data.shape\n",
    "print Y_data.shape"
   ]
  },
  {
   "cell_type": "markdown",
   "metadata": {},
   "source": [
    "### Load Test Set "
   ]
  },
  {
   "cell_type": "code",
   "execution_count": 12,
   "metadata": {
    "collapsed": false
   },
   "outputs": [
    {
     "name": "stdout",
     "output_type": "stream",
     "text": [
      "Raw Balance\n",
      "----------------\n",
      "benign 142\n",
      "malignant 179\n",
      "normal 658\n",
      "balanaceViaRemoval.avgE: 326\n",
      "balanaceViaRemoval.theshold: 326.0\n",
      "\n",
      "After Balancing\n",
      "----------------\n",
      "benign 142\n",
      "malignant 179\n",
      "normal 215\n",
      "0.0000: B_3380_1.RIGHT_MLO.LJPEG.png\r\n"
     ]
    },
    {
     "name": "stderr",
     "output_type": "stream",
     "text": [
      "dwdii_bc_model_helper.py:181: DeprecationWarning: using a non-integer number instead of an integer will result in an error in the future\n",
      "  X_data = np.zeros([total, x, y])\n",
      "dwdii_bc_model_helper.py:182: DeprecationWarning: using a non-integer number instead of an integer will result in an error in the future\n",
      "  Y_data = np.zeros([total, 1], dtype=np.int8)\n"
     ]
    },
    {
     "name": "stdout",
     "output_type": "stream",
     "text": [
      "0.0064: C_0320_1.LEFT_CC.LJPEG.png\n",
      "0.0129: B_3022_1.RIGHT_MLO.LJPEG.png\n",
      "0.0193: A_1041_1.RIGHT_MLO.LJPEG.png\n",
      "0.0257: B_3382_1.LEFT_CC.LJPEG.png\n",
      "0.0322: C_0071_1.RIGHT_MLO.LJPEG.png\n",
      "0.0386: B_3504_1.RIGHT_CC.LJPEG.png\n",
      "0.0450: A_0498_1.LEFT_CC.LJPEG.png\n",
      "0.0514: B_3387_1.RIGHT_CC.LJPEG.png\n",
      "0.0579: C_0326_1.LEFT_MLO.LJPEG.png\n",
      "0.0643: C_0511_1.LEFT_MLO.LJPEG.png\n",
      "(536, 150, 150)\n",
      "(536, 1)\n"
     ]
    }
   ],
   "source": [
    "# Actually load some representative data for model experimentation\n",
    "maxData = len(metaData)\n",
    "X_test, Y_test = bc.load_data(testDataPath, imagePath, maxData = maxData, verboseFreq = 50, imgResize=imgResize)\n",
    "print X_test.shape\n",
    "print Y_test.shape"
   ]
  },
  {
   "cell_type": "markdown",
   "metadata": {},
   "source": [
    "## Training/Test Set Distribution\n",
    "The following code segment splits the data into training and test data sets. Currently this is a standard 80/20 split for training and test respectively after performing a random shuffle using the unison_shuffled_copies help method."
   ]
  },
  {
   "cell_type": "code",
   "execution_count": 13,
   "metadata": {
    "collapsed": true
   },
   "outputs": [],
   "source": [
    "X_train = X_data\n",
    "Y_train = Y_data"
   ]
  },
  {
   "cell_type": "code",
   "execution_count": 14,
   "metadata": {
    "collapsed": false
   },
   "outputs": [
    {
     "name": "stdout",
     "output_type": "stream",
     "text": [
      "(7776, 150, 150)\n",
      "(536, 150, 150)\n",
      "(7776, 1)\n",
      "(536, 1)\n"
     ]
    }
   ],
   "source": [
    "print X_train.shape\n",
    "print X_test.shape\n",
    "\n",
    "print Y_train.shape\n",
    "print Y_test.shape"
   ]
  },
  {
   "cell_type": "code",
   "execution_count": 15,
   "metadata": {
    "collapsed": false
   },
   "outputs": [
    {
     "name": "stdout",
     "output_type": "stream",
     "text": [
      "Y_train Dist: defaultdict(<type 'int'>, {0: 2000, 1: 2888, 2: 2888})\n",
      "Y_test Dist: defaultdict(<type 'int'>, {0: 215, 1: 142, 2: 179})\n"
     ]
    }
   ],
   "source": [
    "import collections\n",
    "def yDist(y):\n",
    "    bcCounts = collections.defaultdict(int)\n",
    "    for a in range(0, y.shape[0]):\n",
    "        bcCounts[y[a][0]] += 1\n",
    "    return bcCounts\n",
    "\n",
    "print \"Y_train Dist: \" + str(yDist(Y_train))\n",
    "print \"Y_test Dist: \" + str(yDist(Y_test))\n"
   ]
  },
  {
   "cell_type": "markdown",
   "metadata": {},
   "source": [
    "## Define and Load Trained Model"
   ]
  },
  {
   "cell_type": "code",
   "execution_count": 16,
   "metadata": {
    "collapsed": false
   },
   "outputs": [
    {
     "name": "stdout",
     "output_type": "stream",
     "text": [
      "{'benign': 1, 'malignant': 2, 'normal': 0}\n",
      "3\n"
     ]
    }
   ],
   "source": [
    "# Load the bc array for our count in the model definition\n",
    "bcTypes = bc.bcNumerics()\n",
    "print bcTypes\n",
    "print len(bcTypes)"
   ]
  },
  {
   "cell_type": "code",
   "execution_count": 17,
   "metadata": {
    "collapsed": false
   },
   "outputs": [
    {
     "name": "stdout",
     "output_type": "stream",
     "text": [
      "____________________________________________________________________________________________________\n",
      "Layer (type)                       Output Shape        Param #     Connected to                     \n",
      "====================================================================================================\n",
      "convolution2d_1 (Convolution2D)    (None, 32, 143, 143)2080        convolution2d_input_1[0][0]      \n",
      "____________________________________________________________________________________________________\n",
      "activation_1 (Activation)          (None, 32, 143, 143)0           convolution2d_1[0][0]            \n",
      "____________________________________________________________________________________________________\n",
      "maxpooling2d_1 (MaxPooling2D)      (None, 32, 71, 71)  0           activation_1[0][0]               \n",
      "____________________________________________________________________________________________________\n",
      "convolution2d_2 (Convolution2D)    (None, 32, 67, 67)  25632       maxpooling2d_1[0][0]             \n",
      "____________________________________________________________________________________________________\n",
      "activation_2 (Activation)          (None, 32, 67, 67)  0           convolution2d_2[0][0]            \n",
      "____________________________________________________________________________________________________\n",
      "maxpooling2d_2 (MaxPooling2D)      (None, 32, 33, 33)  0           activation_2[0][0]               \n",
      "____________________________________________________________________________________________________\n",
      "convolution2d_3 (Convolution2D)    (None, 64, 31, 31)  18496       maxpooling2d_2[0][0]             \n",
      "____________________________________________________________________________________________________\n",
      "activation_3 (Activation)          (None, 64, 31, 31)  0           convolution2d_3[0][0]            \n",
      "____________________________________________________________________________________________________\n",
      "maxpooling2d_3 (MaxPooling2D)      (None, 64, 15, 15)  0           activation_3[0][0]               \n",
      "____________________________________________________________________________________________________\n",
      "convolution2d_4 (Convolution2D)    (None, 64, 14, 14)  16448       maxpooling2d_3[0][0]             \n",
      "____________________________________________________________________________________________________\n",
      "activation_4 (Activation)          (None, 64, 14, 14)  0           convolution2d_4[0][0]            \n",
      "____________________________________________________________________________________________________\n",
      "maxpooling2d_4 (MaxPooling2D)      (None, 64, 7, 7)    0           activation_4[0][0]               \n",
      "____________________________________________________________________________________________________\n",
      "flatten_1 (Flatten)                (None, 3136)        0           maxpooling2d_4[0][0]             \n",
      "____________________________________________________________________________________________________\n",
      "dense_1 (Dense)                    (None, 64)          200768      flatten_1[0][0]                  \n",
      "____________________________________________________________________________________________________\n",
      "activation_5 (Activation)          (None, 64)          0           dense_1[0][0]                    \n",
      "____________________________________________________________________________________________________\n",
      "dense_2 (Dense)                    (None, 3)           195         activation_5[0][0]               \n",
      "____________________________________________________________________________________________________\n",
      "activation_6 (Activation)          (None, 3)           0           dense_2[0][0]                    \n",
      "====================================================================================================\n",
      "Total params: 263619\n",
      "____________________________________________________________________________________________________\n",
      "None\n"
     ]
    }
   ],
   "source": [
    "# Construct the model using our help function\n",
    "model = models.bc_model_v01(len(bcTypes), verbose=True, \n",
    "                                        input_shape=(1,X_train.shape[1],X_train.shape[2]))"
   ]
  },
  {
   "cell_type": "markdown",
   "metadata": {},
   "source": [
    "## Training the Model\n",
    "\n",
    "The following code segment trains the model using the run_network helper function. "
   ]
  },
  {
   "cell_type": "code",
   "execution_count": 18,
   "metadata": {
    "collapsed": true
   },
   "outputs": [],
   "source": [
    "loadWeights = False\n",
    "weightsFileName = \"dwdii-bc-v01-simulated150-7776-20170424.hdf5\"\n",
    "if loadWeights:\n",
    "    model.load_weights('weights/' + weightsFileName)"
   ]
  },
  {
   "cell_type": "code",
   "execution_count": 19,
   "metadata": {
    "collapsed": false
   },
   "outputs": [],
   "source": [
    "# Reshape to the appropriate shape for the CNN input\n",
    "testX = X_test.reshape(X_test.shape[0], 1, X_test.shape[1],X_test.shape[2])\n",
    "trainX = X_train.reshape(X_train.shape[0], 1, X_train.shape[1],X_train.shape[2])"
   ]
  },
  {
   "cell_type": "code",
   "execution_count": 20,
   "metadata": {
    "collapsed": false
   },
   "outputs": [
    {
     "name": "stdout",
     "output_type": "stream",
     "text": [
      "Training start: 2017-04-25 02:28:32.549664\n",
      "(7776, 3)\n",
      "(536, 3)\n",
      "Training model...\n",
      "Train on 7776 samples, validate on 536 samples\n",
      "Epoch 1/30\n",
      "7776/7776 [==============================] - 1308s - loss: 0.9584 - acc: 0.5096 - val_loss: 1.1075 - val_acc: 0.4198\n",
      "Epoch 2/30\n",
      "7776/7776 [==============================] - 1255s - loss: 0.7801 - acc: 0.6559 - val_loss: 1.1956 - val_acc: 0.4254\n",
      "Epoch 3/30\n",
      "7776/7776 [==============================] - 1211s - loss: 0.7614 - acc: 0.6439 - val_loss: 1.3043 - val_acc: 0.4254\n",
      "Epoch 4/30\n",
      "7776/7776 [==============================] - 1216s - loss: 0.7168 - acc: 0.6726 - val_loss: 1.3000 - val_acc: 0.4384\n",
      "Epoch 5/30\n",
      "7776/7776 [==============================] - 1234s - loss: 0.6926 - acc: 0.6795 - val_loss: 1.4389 - val_acc: 0.3713\n",
      "Epoch 6/30\n",
      "7776/7776 [==============================] - 1229s - loss: 0.6295 - acc: 0.7077 - val_loss: 1.4794 - val_acc: 0.4571\n",
      "Epoch 7/30\n",
      "7776/7776 [==============================] - 1225s - loss: 0.6665 - acc: 0.6950 - val_loss: 1.5635 - val_acc: 0.4160\n",
      "Epoch 8/30\n",
      "7776/7776 [==============================] - 1224s - loss: 0.6067 - acc: 0.7307 - val_loss: 1.4706 - val_acc: 0.4086\n",
      "Epoch 9/30\n",
      "7776/7776 [==============================] - 1219s - loss: 0.5565 - acc: 0.7658 - val_loss: 1.9898 - val_acc: 0.3993\n",
      "Epoch 10/30\n",
      "7776/7776 [==============================] - 1220s - loss: 0.6438 - acc: 0.7343 - val_loss: 2.4129 - val_acc: 0.3563\n",
      "Epoch 11/30\n",
      "7776/7776 [==============================] - 1213s - loss: 0.4980 - acc: 0.7787 - val_loss: 1.8615 - val_acc: 0.3899\n",
      "Epoch 12/30\n",
      "7776/7776 [==============================] - 1218s - loss: 0.6629 - acc: 0.7384 - val_loss: 2.2719 - val_acc: 0.3881\n",
      "Epoch 13/30\n",
      "7776/7776 [==============================] - 1217s - loss: 0.4821 - acc: 0.7845 - val_loss: 2.0544 - val_acc: 0.4123\n",
      "Epoch 14/30\n",
      "7776/7776 [==============================] - 1247s - loss: 0.4621 - acc: 0.7919 - val_loss: 2.7635 - val_acc: 0.3918\n",
      "Epoch 15/30\n",
      "7776/7776 [==============================] - 1369s - loss: 0.5207 - acc: 0.7909 - val_loss: 2.1166 - val_acc: 0.3545\n",
      "Epoch 16/30\n",
      "7776/7776 [==============================] - 1258s - loss: 0.4509 - acc: 0.7966 - val_loss: 3.6121 - val_acc: 0.4235\n",
      "Epoch 17/30\n",
      "7776/7776 [==============================] - 1219s - loss: 0.4624 - acc: 0.7957 - val_loss: 2.4586 - val_acc: 0.4179\n",
      "Epoch 18/30\n",
      "7776/7776 [==============================] - 1226s - loss: 0.4359 - acc: 0.8076 - val_loss: 2.7224 - val_acc: 0.4030\n",
      "Epoch 19/30\n",
      "7776/7776 [==============================] - 1225s - loss: 0.4150 - acc: 0.8089 - val_loss: 2.1853 - val_acc: 0.4216\n",
      "Epoch 20/30\n",
      "7776/7776 [==============================] - 1227s - loss: 0.4009 - acc: 0.8218 - val_loss: 2.5251 - val_acc: 0.4291\n",
      "Epoch 21/30\n",
      "7776/7776 [==============================] - 1220s - loss: 0.3958 - acc: 0.8230 - val_loss: 2.7327 - val_acc: 0.4086\n",
      "Epoch 22/30\n",
      "7776/7776 [==============================] - 1255s - loss: 0.4236 - acc: 0.8104 - val_loss: 3.1209 - val_acc: 0.4216\n",
      "Epoch 23/30\n",
      "7776/7776 [==============================] - 1217s - loss: 0.4608 - acc: 0.7995 - val_loss: 2.8778 - val_acc: 0.3955\n",
      "Epoch 24/30\n",
      "7776/7776 [==============================] - 1242s - loss: 0.3988 - acc: 0.8223 - val_loss: 2.6005 - val_acc: 0.3937\n",
      "Epoch 25/30\n",
      "7776/7776 [==============================] - 1247s - loss: 0.3659 - acc: 0.8324 - val_loss: 3.0114 - val_acc: 0.4478\n",
      "Epoch 26/30\n",
      "7776/7776 [==============================] - 1258s - loss: 0.4141 - acc: 0.8166 - val_loss: 2.9325 - val_acc: 0.4104\n",
      "Epoch 27/30\n",
      "7776/7776 [==============================] - 1232s - loss: 0.5411 - acc: 0.7683 - val_loss: 7.3250 - val_acc: 0.3825\n",
      "Epoch 28/30\n",
      "7776/7776 [==============================] - 1224s - loss: 0.5020 - acc: 0.7746 - val_loss: 5.0314 - val_acc: 0.3918\n",
      "Epoch 29/30\n",
      "7776/7776 [==============================] - 1236s - loss: 0.3728 - acc: 0.8327 - val_loss: 4.4661 - val_acc: 0.4142\n",
      "Epoch 30/30\n",
      "7776/7776 [==============================] - 1250s - loss: 0.5543 - acc: 0.7885 - val_loss: 7.1153 - val_acc: 0.4123\n",
      "Training duration : 37238.4563949\n",
      "Network's test score [loss, accuracy]: [7.1152828059979338, 0.41231343283582089]\n"
     ]
    }
   ],
   "source": [
    "print \"Training start: \" + str(datetime.datetime.now())\n",
    "m, h = models.run_network([trainX, testX, Y_train, Y_test], model, batch=50, epochs=30, verbosity=1)"
   ]
  },
  {
   "cell_type": "code",
   "execution_count": 17,
   "metadata": {
    "collapsed": true
   },
   "outputs": [],
   "source": [
    "model.save_weights('weights/' + weightsFileName, overwrite=True)"
   ]
  },
  {
   "cell_type": "markdown",
   "metadata": {},
   "source": [
    "### Experiment Results"
   ]
  },
  {
   "cell_type": "markdown",
   "metadata": {},
   "source": [
    "#### Raw DDSM Images\n",
    "\n",
    "Initial results based on \"normal\" being masked as \"benign\":\n",
    "* bc_model_v0 (150x150, 800/200): 182s - loss: 0.0560 - acc: 0.9813 - val_loss: 1.9918 - val_acc: 0.6800\n",
    "* bc_model_v0 (150x150, 2000/500): 473s - loss: 0.0288 - acc: 0.9925 - val_loss: 1.4040 - val_acc: 0.7260\n",
    "   * somewhat balanced, Y_train Dist {0: 1223, 1: 777}, Y_test Dist: {0: 321, 1: 179}\n",
    "\n",
    "Revised with \"normal\", \"benign\" and \"malignant\" labeled seperately:\n",
    "* bc_model_v0 (150x150, 1311/328): 298s - loss: 0.0411 - acc: 0.9786 - val_loss: 1.3713 - val_acc: 0.6616\n",
    "\n",
    "After creating fixed \"train\", \"test\" and \"validate\" data sets, using \"train\" and \"test\" as well as including the DDSM Benign cases:\n",
    "* bc_model_v0 (150x150, 1554/363, 03.27.2017): 264s - loss: 0.0512 - acc: 0.9730 - val_loss: 1.3120 - val_acc: 0.6116\n",
    "* bc_model_v0 (150x150, 2155/539, 04.02.2017): 362s - loss: 0.0600 - acc: 0.9763 - val_loss: 1.5315 - val_acc: 0.4805\n",
    "\n",
    "bc_model_v01 - categorical_crossentropy\n",
    "* bc_model_v01 (150x150, 2155/539, 04.03.2017): 361s - loss: 0.0935 - acc: 0.9800 - val_loss: 2.7872 - val_acc: 0.5065\n",
    "* bc_model_v01 (150x150, 2132/536, 04.05.2017): 369s - loss: 0.0718 - acc: 0.9794 - val_loss: 2.5604 - val_acc: 0.5243\n",
    "\n",
    "#### Thresholded Images\n",
    "\n",
    "Using the \"Data_Thresholded\" images\n",
    "* bc_model_v0 (150x150, Thresholded, 661/171, 03.28.2017): 124s - loss: 0.0529 - acc: 0.9743 - val_loss: 1.4331 - val_acc: 0.4971\n",
    "\n",
    "#### Simulated Images\n",
    "\n",
    "Using the \"simulated_images\" images\n",
    "* bc_model_v01 (150x150, 7776/536, 04.24.2017): 1250s - loss: 0.5543 - acc: 0.7885 - val_loss: 7.1153 - val_acc: 0.4123"
   ]
  },
  {
   "cell_type": "code",
   "execution_count": 16,
   "metadata": {
    "collapsed": false
   },
   "outputs": [
    {
     "data": {
      "text/plain": [
       "<module 'matplotlib.pyplot' from '/usr/lib/pymodules/python2.7/matplotlib/pyplot.pyc'>"
      ]
     },
     "execution_count": 16,
     "metadata": {},
     "output_type": "execute_result"
    }
   ],
   "source": [
    "resultsValAcc = {}\n",
    "resultsValAcc[\"1\"] = 0.6800\n",
    "resultsValAcc[\"2\"] = 0.7260\n",
    "resultsValAcc[\"3\"] = 0.6616\n",
    "resultsValAcc[\"03-27-2017\"] = 0.6116\n",
    "resultsValAcc[\"04-02-2017\"] = 0.4805\n",
    "resultsValAcc[\"04-03-2017\"] = 0.5065\n",
    "resultsValAcc[\"04-05-2017\"] = 0.5243\n",
    "import dwdii_test as dwdii\n",
    "#cmp = matplotlib.colors.Colormap(\"Blues\")\n",
    "dwdii.barChart(resultsValAcc, filename=\"../../figures/daniels_results_valacc.png\", title=\"DDSM Results Acc_Val\", yAxisLabel=\"val_acc %\")"
   ]
  },
  {
   "cell_type": "markdown",
   "metadata": {},
   "source": [
    "### Analyze Predictions with Test Set"
   ]
  },
  {
   "cell_type": "code",
   "execution_count": 18,
   "metadata": {
    "collapsed": false
   },
   "outputs": [
    {
     "name": "stdout",
     "output_type": "stream",
     "text": [
      "536/536 [==============================] - 26s    \n"
     ]
    }
   ],
   "source": [
    "predictOutput = model.predict(testX, batch_size=32, verbose=1)"
   ]
  },
  {
   "cell_type": "code",
   "execution_count": 19,
   "metadata": {
    "collapsed": false
   },
   "outputs": [
    {
     "data": {
      "text/plain": [
       "'normal'"
      ]
     },
     "execution_count": 19,
     "metadata": {},
     "output_type": "execute_result"
    }
   ],
   "source": [
    "predClass = np.array(predictOutput[0]).argmax()\n",
    "numBC = bc.numericBC()\n",
    "numBC[predClass]"
   ]
  },
  {
   "cell_type": "code",
   "execution_count": 20,
   "metadata": {
    "collapsed": false
   },
   "outputs": [
    {
     "data": {
      "text/plain": [
       "'normal'"
      ]
     },
     "execution_count": 20,
     "metadata": {},
     "output_type": "execute_result"
    }
   ],
   "source": [
    "numBC[Y_test[0][0]]"
   ]
  },
  {
   "cell_type": "code",
   "execution_count": 21,
   "metadata": {
    "collapsed": false
   },
   "outputs": [],
   "source": [
    "predClasses = []\n",
    "for i in range(len(predictOutput)):\n",
    "\n",
    "    arPred = np.array(predictOutput[i])\n",
    "    predictionProb = arPred.max()\n",
    "    predictionNdx = arPred.argmax()\n",
    "    predClassName = numBC[predictionNdx]\n",
    "    predClasses.append(predictionNdx)\n",
    "\n",
    "    #print \"{0}: {1} ({2})\".format(i, predClassName, predictionProb)"
   ]
  },
  {
   "cell_type": "markdown",
   "metadata": {},
   "source": [
    "### Confusion Matrix"
   ]
  },
  {
   "cell_type": "code",
   "execution_count": 22,
   "metadata": {
    "collapsed": false
   },
   "outputs": [
    {
     "data": {
      "text/plain": [
       "array([[130,  50,  35],\n",
       "       [ 30,  86,  26],\n",
       "       [ 63,  51,  65]])"
      ]
     },
     "execution_count": 22,
     "metadata": {},
     "output_type": "execute_result"
    }
   ],
   "source": [
    "# Use sklearn's helper method to generate the confusion matrix\n",
    "cnf_matrix = skm.confusion_matrix(Y_test, predClasses)\n",
    "cnf_matrix"
   ]
  },
  {
   "cell_type": "code",
   "execution_count": 23,
   "metadata": {
    "collapsed": false
   },
   "outputs": [],
   "source": [
    "class_names = numBC.values()\n",
    "np.set_printoptions(precision=2)"
   ]
  },
  {
   "cell_type": "code",
   "execution_count": 24,
   "metadata": {
    "collapsed": false
   },
   "outputs": [
    {
     "name": "stdout",
     "output_type": "stream",
     "text": [
      "Confusion matrix, without normalization\n",
      "[[130  50  35]\n",
      " [ 30  86  26]\n",
      " [ 63  51  65]]\n"
     ]
    }
   ],
   "source": [
    "# Plot non-normalized confusion matrix\n",
    "fileCfMatrix = '../../figures/confusion_matrix-' + weightsFileName + '.png'\n",
    "plt.figure()\n",
    "bc.plot_confusion_matrix(cnf_matrix, classes=class_names,\n",
    "                      title='Confusion matrix, without normalization, \\n' + weightsFileName)\n",
    "plt.savefig(fileCfMatrix)"
   ]
  },
  {
   "cell_type": "code",
   "execution_count": 25,
   "metadata": {
    "collapsed": false,
    "scrolled": true
   },
   "outputs": [
    {
     "data": {
      "image/png": "[encoded data removed]",
      "text/plain": [
       "<IPython.core.display.Image object>"
      ]
     },
     "execution_count": 25,
     "metadata": {},
     "output_type": "execute_result"
    }
   ],
   "source": [
    "# Load the image we just saved\n",
    "from IPython.display import Image\n",
    "Image(filename=fileCfMatrix)"
   ]
  },
  {
   "cell_type": "code",
   "execution_count": 26,
   "metadata": {
    "collapsed": false
   },
   "outputs": [
    {
     "name": "stdout",
     "output_type": "stream",
     "text": [
      "Normalized confusion matrix\n",
      "[[ 0.6   0.23  0.16]\n",
      " [ 0.21  0.61  0.18]\n",
      " [ 0.35  0.28  0.36]]\n"
     ]
    }
   ],
   "source": [
    "# Plot normalized confusion matrix\n",
    "fileCfMatrixNorm = '../../figures/confusion_matrix_norm-' + weightsFileName + '.png'\n",
    "plt.figure()\n",
    "bc.plot_confusion_matrix(cnf_matrix, classes=class_names, normalize=True,\n",
    "                      title='Normalized confusion matrix \\n' + weightsFileName)\n",
    "plt.savefig(fileCfMatrixNorm)"
   ]
  },
  {
   "cell_type": "code",
   "execution_count": 27,
   "metadata": {
    "collapsed": false
   },
   "outputs": [
    {
     "data": {
      "image/png": "[encoded data removed]",
      "text/plain": [
       "<IPython.core.display.Image object>"
      ]
     },
     "execution_count": 27,
     "metadata": {},
     "output_type": "execute_result"
    }
   ],
   "source": [
    "# Load the image we just saved\n",
    "from IPython.display import Image\n",
    "Image(filename=fileCfMatrixNorm)"
   ]
  },
  {
   "cell_type": "code",
   "execution_count": null,
   "metadata": {
    "collapsed": true
   },
   "outputs": [],
   "source": []
  }
 ],
 "metadata": {
  "kernelspec": {
   "display_name": "Python 2",
   "language": "python",
   "name": "python2"
  },
  "language_info": {
   "codemirror_mode": {
    "name": "ipython",
    "version": 2
   },
   "file_extension": ".py",
   "mimetype": "text/x-python",
   "name": "python",
   "nbconvert_exporter": "python",
   "pygments_lexer": "ipython2",
   "version": "2.7.6"
  }
 },
 "nbformat": 4,
 "nbformat_minor": 0
}
