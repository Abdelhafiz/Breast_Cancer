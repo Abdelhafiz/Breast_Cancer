{
 "cells": [
  {
   "cell_type": "code",
   "execution_count": 1,
   "metadata": {
    "collapsed": false
   },
   "outputs": [
    {
     "name": "stderr",
     "output_type": "stream",
     "text": [
      "Using Theano backend.\n"
     ]
    }
   ],
   "source": [
    "import datetime\n",
    "import Image\n",
    "import gc\n",
    "import numpy as np\n",
    "import os\n",
    "import random\n",
    "from scipy import misc\n",
    "import string\n",
    "import time\n",
    "\n",
    "# Set some Theano config before initializing\n",
    "os.environ[\"THEANO_FLAGS\"] = \"mode=FAST_RUN,device=cpu,floatX=float32,allow_gc=False,openmp=True\"\n",
    "import theano\n",
    "\n",
    "import matplotlib\n",
    "matplotlib.use('Agg')\n",
    "from matplotlib import pyplot as plt\n",
    "\n",
    "#import emotion_model\n",
    "import dwdii_bc_model_helper as bc\n",
    "import bc_models as models\n",
    "\n",
    "random.seed(20275)"
   ]
  },
  {
   "cell_type": "code",
   "execution_count": 2,
   "metadata": {
    "collapsed": false
   },
   "outputs": [
    {
     "name": "stdout",
     "output_type": "stream",
     "text": [
      "device: cpu\n",
      "floatX: float32\n",
      "mode: FAST_RUN\n",
      "openmp: True\n",
      "allow_gc: False\n"
     ]
    }
   ],
   "source": [
    "print \"device:\", theano.config.device\n",
    "print \"floatX:\",  theano.config.floatX\n",
    "print \"mode:\", theano.config.mode\n",
    "print \"openmp:\", theano.config.openmp\n",
    "print \"allow_gc:\", theano.config.allow_gc"
   ]
  },
  {
   "cell_type": "code",
   "execution_count": 3,
   "metadata": {
    "collapsed": true
   },
   "outputs": [],
   "source": [
    "imagePath = \"/root/bc_data/ddsm-sm\"\n",
    "dataPath = \"/root/bc_data/Ddsm.csv\"\n",
    "imgResize = (150, 150)"
   ]
  },
  {
   "cell_type": "code",
   "execution_count": 4,
   "metadata": {
    "collapsed": false
   },
   "outputs": [
    {
     "data": {
      "text/plain": [
       "['ddsm', 'ddsm-hog', 'ddsm-png', 'ddsm-sm', 'Ddsm.csv', 'mias']"
      ]
     },
     "execution_count": 4,
     "metadata": {},
     "output_type": "execute_result"
    }
   ],
   "source": [
    "os.listdir('/root/bc_data')"
   ]
  },
  {
   "cell_type": "markdown",
   "metadata": {},
   "source": [
    "# Load Training and Test Data\n",
    "\n",
    "In this section, the training/validation data is loaded. The load_data function pre-balances the data set by removing images from over-represented emotion classes."
   ]
  },
  {
   "cell_type": "code",
   "execution_count": 5,
   "metadata": {
    "collapsed": false
   },
   "outputs": [
    {
     "name": "stdout",
     "output_type": "stream",
     "text": [
      "Before Balancing\n",
      "----------------\n",
      "benign 3164\n",
      "malignant 1096\n",
      "\n",
      "After Balancing\n",
      "----------------\n",
      "benign 3164\n",
      "malignant 1096\n"
     ]
    }
   ],
   "source": [
    "metaData = bc.load_training_metadata(dataPath, verbose=True)"
   ]
  },
  {
   "cell_type": "code",
   "execution_count": 6,
   "metadata": {
    "collapsed": false
   },
   "outputs": [
    {
     "name": "stdout",
     "output_type": "stream",
     "text": [
      "0.000000: A_0048_1.RIGHT_CC.LJPEG.pgm\n",
      "0.113636: A_0128_1.RIGHT_MLO.LJPEG.pgm\n",
      "0.113636: C_0176_1.RIGHT_MLO.LJPEG.pgm\n",
      "0.113636: B_3647_1.RIGHT_MLO.LJPEG.pgm\n",
      "0.113636: A_0146_1.LEFT_MLO.LJPEG.pgm\n",
      "0.113636: B_3669_1.RIGHT_CC.LJPEG.pgm\n",
      "0.113636: B_3062_1.RIGHT_MLO.LJPEG.pgm\n",
      "0.113636: B_3645_1.RIGHT_MLO.LJPEG.pgm\n",
      "0.113636: C_0229_1.RIGHT_CC.LJPEG.pgm\n",
      "0.113636: B_3373_1.RIGHT_CC.LJPEG.pgm\n",
      "0.113636: A_1140_1.LEFT_CC.LJPEG.pgm\n",
      "0.113636: A_0510_1.LEFT_MLO.LJPEG.pgm\n",
      "0.113636: C_0036_1.RIGHT_MLO.LJPEG.pgm\n",
      "0.113636: A_0438_1.LEFT_CC.LJPEG.pgm\n",
      "0.113636: B_3074_1.RIGHT_CC.LJPEG.pgm\n",
      "0.113636: C_0072_1.RIGHT_MLO.LJPEG.pgm\n",
      "0.113636: A_0469_1.RIGHT_MLO.LJPEG.pgm\n",
      "0.113636: A_0566_1.LEFT_MLO.LJPEG.pgm\n",
      "0.113636: A_1071_1.LEFT_MLO.LJPEG.pgm\n",
      "0.113636: A_1172_1.LEFT_CC.LJPEG.pgm\n",
      "0.113636: A_1154_1.RIGHT_MLO.LJPEG.pgm\n",
      "0.113636: A_0526_1.RIGHT_MLO.LJPEG.pgm\n",
      "0.113636: C_0102_1.LEFT_CC.LJPEG.pgm\n",
      "0.113636: B_3378_1.RIGHT_CC.LJPEG.pgm\n",
      "0.113636: B_3609_1.RIGHT_CC.LJPEG.pgm\n",
      "0.113636: B_3515_1.RIGHT_MLO.LJPEG.pgm\n",
      "0.113636: A_0325_1.RIGHT_MLO.LJPEG.pgm\n",
      "0.113636: A_0309_1.LEFT_CC.LJPEG.pgm\n",
      "0.113636: A_0341_1.LEFT_MLO.LJPEG.pgm\n",
      "0.113636: A_0147_1.RIGHT_CC.LJPEG.pgm\n",
      "0.113636: A_0272_1.LEFT_CC.LJPEG.pgm\n",
      "0.113636: B_3674_1.RIGHT_CC.LJPEG.pgm\n",
      "0.113636: A_0518_1.LEFT_MLO.LJPEG.pgm\n",
      "0.113636: C_0191_1.LEFT_CC.LJPEG.pgm\n",
      "0.113636: B_3498_1.LEFT_CC.LJPEG.pgm\n",
      "0.113636: A_0361_1.LEFT_CC.LJPEG.pgm\n",
      "0.113636: A_0266_1.RIGHT_MLO.LJPEG.pgm\n",
      "0.113636: C_0196_1.LEFT_CC.LJPEG.pgm\n",
      "0.113636: A_0077_1.LEFT_MLO.LJPEG.pgm\n",
      "0.113636: A_0623_1.RIGHT_MLO.LJPEG.pgm\n",
      "0.113636: A_0110_1.LEFT_MLO.LJPEG.pgm\n",
      "0.113636: B_3674_1.RIGHT_MLO.LJPEG.pgm\n",
      "0.113636: A_1006_1.LEFT_MLO.LJPEG.pgm\n",
      "0.113636: A_0072_1.LEFT_CC.LJPEG.pgm\n",
      "0.113636: C_0139_1.LEFT_MLO.LJPEG.pgm\n",
      "0.113636: B_3088_1.RIGHT_MLO.LJPEG.pgm\n",
      "0.113636: B_3660_1.RIGHT_CC.LJPEG.pgm\n",
      "0.113636: A_0598_1.RIGHT_CC.LJPEG.pgm\n",
      "0.113636: B_3627_1.RIGHT_MLO.LJPEG.pgm\n",
      "0.113636: B_3656_1.RIGHT_MLO.LJPEG.pgm\n",
      "0.113636: C_0457_1.LEFT_CC.LJPEG.pgm\n",
      "0.113636: A_0200_1.RIGHT_CC.LJPEG.pgm\n",
      "0.113636: A_1182_1.LEFT_MLO.LJPEG.pgm\n",
      "0.113636: B_3029_1.RIGHT_CC.LJPEG.pgm\n",
      "0.113636: A_0247_1.LEFT_CC.LJPEG.pgm\n",
      "0.113636: B_3001_1.LEFT_MLO.LJPEG.pgm\n",
      "0.113636: C_0197_1.RIGHT_MLO.LJPEG.pgm\n",
      "0.113636: B_3399_1.RIGHT_MLO.LJPEG.pgm\n",
      "0.113636: A_0112_1.LEFT_MLO.LJPEG.pgm\n",
      "0.113636: A_0037_1.RIGHT_MLO.LJPEG.pgm\n",
      "0.227273: C_0182_1.LEFT_CC.LJPEG.pgm\n",
      "0.227273: C_0037_1.RIGHT_MLO.LJPEG.pgm\n",
      "0.227273: A_0026_1.RIGHT_CC.LJPEG.pgm\n",
      "0.340909: B_3636_1.LEFT_MLO.LJPEG.pgm\n",
      "0.340909: B_3106_1.RIGHT_CC.LJPEG.pgm\n",
      "0.340909: C_0012_1.RIGHT_CC.LJPEG.pgm\n",
      "0.340909: B_3474_1.RIGHT_MLO.LJPEG.pgm\n",
      "0.340909: A_1149_1.RIGHT_CC.LJPEG.pgm\n",
      "0.340909: A_1140_1.RIGHT_CC.LJPEG.pgm\n",
      "0.340909: A_0233_1.LEFT_MLO.LJPEG.pgm\n",
      "0.340909: A_0492_1.LEFT_MLO.LJPEG.pgm\n",
      "0.340909: C_0006_1.RIGHT_MLO.LJPEG.pgm\n",
      "0.340909: A_0329_1.RIGHT_MLO.LJPEG.pgm\n",
      "0.340909: A_1115_1.LEFT_MLO.LJPEG.pgm\n",
      "0.340909: A_0623_1.LEFT_CC.LJPEG.pgm\n",
      "0.340909: C_0108_1.RIGHT_CC.LJPEG.pgm\n",
      "0.340909: C_0037_1.LEFT_CC.LJPEG.pgm\n",
      "0.340909: A_0312_1.RIGHT_MLO.LJPEG.pgm\n",
      "0.340909: A_1062_1.RIGHT_MLO.LJPEG.pgm\n",
      "0.340909: A_0207_1.RIGHT_MLO.LJPEG.pgm\n",
      "0.340909: A_1116_1.RIGHT_CC.LJPEG.pgm\n",
      "0.340909: B_3013_1.RIGHT_CC.LJPEG.pgm\n",
      "0.340909: A_0219_1.RIGHT_CC.LJPEG.pgm\n",
      "0.340909: A_0049_1.LEFT_MLO.LJPEG.pgm\n",
      "0.454545: C_0229_1.LEFT_CC.LJPEG.pgm\n",
      "0.454545: A_0586_1.LEFT_CC.LJPEG.pgm\n",
      "0.454545: A_1108_1.LEFT_CC.LJPEG.pgm\n",
      "0.454545: A_0602_1.LEFT_CC.LJPEG.pgm\n",
      "0.454545: A_0414_1.LEFT_MLO.LJPEG.pgm\n",
      "0.454545: A_1012_1.LEFT_MLO.LJPEG.pgm\n",
      "0.454545: B_3661_1.LEFT_CC.LJPEG.pgm\n",
      "0.454545: A_1157_1.LEFT_MLO.LJPEG.pgm\n",
      "0.454545: C_0179_1.LEFT_MLO.LJPEG.pgm\n",
      "0.454545: B_3412_1.RIGHT_CC.LJPEG.pgm\n",
      "0.454545: A_0437_1.RIGHT_MLO.LJPEG.pgm\n",
      "0.454545: A_0012_1.LEFT_CC.LJPEG.pgm\n",
      "0.568182: A_0037_1.RIGHT_CC.LJPEG.pgm\n",
      "0.681818: A_0278_1.RIGHT_CC.LJPEG.pgm\n",
      "0.681818: A_1169_1.LEFT_CC.LJPEG.pgm\n",
      "0.681818: C_0084_1.LEFT_CC.LJPEG.pgm\n",
      "0.681818: A_0220_1.RIGHT_MLO.LJPEG.pgm\n",
      "0.681818: A_0108_1.LEFT_MLO.LJPEG.pgm\n",
      "0.681818: A_0061_1.RIGHT_MLO.LJPEG.pgm\n",
      "0.681818: B_3625_1.RIGHT_MLO.LJPEG.pgm\n",
      "0.681818: A_0032_1.LEFT_CC.LJPEG.pgm\n",
      "0.795455: B_3512_1.RIGHT_MLO.LJPEG.pgm\n",
      "0.795455: A_0159_1.LEFT_CC.LJPEG.pgm\n",
      "0.795455: C_0194_1.LEFT_CC.LJPEG.pgm\n",
      "0.795455: A_0057_1.LEFT_MLO.LJPEG.pgm\n",
      "0.909091: B_3079_1.RIGHT_MLO.LJPEG.pgm\n",
      "0.909091: B_3082_1.RIGHT_MLO.LJPEG.pgm\n",
      "0.909091: A_0024_1.LEFT_CC.LJPEG.pgm\n",
      "(176, 150, 150)\n",
      "(176, 1)\n"
     ]
    }
   ],
   "source": [
    "# TODO: Actually load some representative data for model experimentation\n",
    "maxData = 176\n",
    "X_data, Y_data = bc.load_data(dataPath, imagePath, maxData = maxData, verboseFreq = 20, imgResize=imgResize)\n",
    "print X_data.shape\n",
    "print Y_data.shape"
   ]
  },
  {
   "cell_type": "markdown",
   "metadata": {},
   "source": [
    "## Split Training/Test Sets\n",
    "The following code segment splits the data into training and test data sets. Currently this is a standard 80/20 split for training and test respectively after performing a random shuffle using the unison_shuffled_copies help method."
   ]
  },
  {
   "cell_type": "code",
   "execution_count": null,
   "metadata": {
    "collapsed": true
   },
   "outputs": [],
   "source": [
    "skippedTransforms = True\n",
    "if skippedTransforms:\n",
    "    X_data2 = X_data\n",
    "    Y_data2 = Y_data"
   ]
  },
  {
   "cell_type": "code",
   "execution_count": null,
   "metadata": {
    "collapsed": true
   },
   "outputs": [],
   "source": [
    "# Split the data into Training and Test sets\n",
    "trainNdx = int(X_data2.shape[0] * .8)\n",
    "print trainNdx\n",
    "\n",
    "X_train, X_test = np.split(X_data2, [trainNdx])\n",
    "Y_train, Y_test = np.split(Y_data2, [trainNdx])\n",
    "print X_train.shape\n",
    "print X_test.shape\n",
    "\n",
    "print Y_train.shape\n",
    "print Y_test.shape"
   ]
  },
  {
   "cell_type": "markdown",
   "metadata": {},
   "source": [
    "## Define and Load Trained Model"
   ]
  },
  {
   "cell_type": "code",
   "execution_count": 7,
   "metadata": {
    "collapsed": false
   },
   "outputs": [
    {
     "name": "stdout",
     "output_type": "stream",
     "text": [
      "{'benign': 0, 'malignant': 1}\n",
      "2\n"
     ]
    }
   ],
   "source": [
    "# Load the bc array for our count in the model definition\n",
    "bcTypes = bc.bcNumerics()\n",
    "print bcTypes\n",
    "print len(bcTypes)"
   ]
  },
  {
   "cell_type": "code",
   "execution_count": 8,
   "metadata": {
    "collapsed": false
   },
   "outputs": [
    {
     "name": "stdout",
     "output_type": "stream",
     "text": [
      "____________________________________________________________________________________________________\n",
      "Layer (type)                       Output Shape        Param #     Connected to                     \n",
      "====================================================================================================\n",
      "convolution2d_1 (Convolution2D)    (None, 32, 143, 143)2080        convolution2d_input_1[0][0]      \n",
      "____________________________________________________________________________________________________\n",
      "activation_1 (Activation)          (None, 32, 143, 143)0           convolution2d_1[0][0]            \n",
      "____________________________________________________________________________________________________\n",
      "maxpooling2d_1 (MaxPooling2D)      (None, 32, 71, 71)  0           activation_1[0][0]               \n",
      "____________________________________________________________________________________________________\n",
      "convolution2d_2 (Convolution2D)    (None, 32, 67, 67)  25632       maxpooling2d_1[0][0]             \n",
      "____________________________________________________________________________________________________\n",
      "activation_2 (Activation)          (None, 32, 67, 67)  0           convolution2d_2[0][0]            \n",
      "____________________________________________________________________________________________________\n",
      "maxpooling2d_2 (MaxPooling2D)      (None, 32, 33, 33)  0           activation_2[0][0]               \n",
      "____________________________________________________________________________________________________\n",
      "convolution2d_3 (Convolution2D)    (None, 64, 31, 31)  18496       maxpooling2d_2[0][0]             \n",
      "____________________________________________________________________________________________________\n",
      "activation_3 (Activation)          (None, 64, 31, 31)  0           convolution2d_3[0][0]            \n",
      "____________________________________________________________________________________________________\n",
      "maxpooling2d_3 (MaxPooling2D)      (None, 64, 15, 15)  0           activation_3[0][0]               \n",
      "____________________________________________________________________________________________________\n",
      "convolution2d_4 (Convolution2D)    (None, 64, 14, 14)  16448       maxpooling2d_3[0][0]             \n",
      "____________________________________________________________________________________________________\n",
      "activation_4 (Activation)          (None, 64, 14, 14)  0           convolution2d_4[0][0]            \n",
      "____________________________________________________________________________________________________\n",
      "maxpooling2d_4 (MaxPooling2D)      (None, 64, 7, 7)    0           activation_4[0][0]               \n",
      "____________________________________________________________________________________________________\n",
      "flatten_1 (Flatten)                (None, 3136)        0           maxpooling2d_4[0][0]             \n",
      "____________________________________________________________________________________________________\n",
      "dense_1 (Dense)                    (None, 64)          200768      flatten_1[0][0]                  \n",
      "____________________________________________________________________________________________________\n",
      "activation_5 (Activation)          (None, 64)          0           dense_1[0][0]                    \n",
      "____________________________________________________________________________________________________\n",
      "dense_2 (Dense)                    (None, 2)           130         activation_5[0][0]               \n",
      "____________________________________________________________________________________________________\n",
      "activation_6 (Activation)          (None, 2)           0           dense_2[0][0]                    \n",
      "====================================================================================================\n",
      "Total params: 263554\n",
      "____________________________________________________________________________________________________\n",
      "None\n"
     ]
    }
   ],
   "source": [
    "# Construct the model using our help function\n",
    "model = models.bc_model_v0(len(bcTypes), verbose=True, \n",
    "                                        input_shape=(1,imgResize[0],imgResize[1]))"
   ]
  },
  {
   "cell_type": "markdown",
   "metadata": {},
   "source": [
    "## Training the Model\n",
    "\n",
    "The following code segment trains the model using the run_network helper function. "
   ]
  },
  {
   "cell_type": "code",
   "execution_count": 9,
   "metadata": {
    "collapsed": true
   },
   "outputs": [],
   "source": [
    "loadWeights = False\n",
    "if loadWeights:\n",
    "    model.load_weights(\"dwdii-bc-150-v0-Cloud.hdf5\")"
   ]
  },
  {
   "cell_type": "code",
   "execution_count": 10,
   "metadata": {
    "collapsed": false
   },
   "outputs": [
    {
     "ename": "NameError",
     "evalue": "name 'X_test' is not defined",
     "output_type": "error",
     "traceback": [
      "\u001b[1;31m---------------------------------------------------------------------------\u001b[0m",
      "\u001b[1;31mNameError\u001b[0m                                 Traceback (most recent call last)",
      "\u001b[1;32m<ipython-input-10-124f72539861>\u001b[0m in \u001b[0;36m<module>\u001b[1;34m()\u001b[0m\n\u001b[0;32m      1\u001b[0m \u001b[1;31m# Reshape to the appropriate shape for the CNN input\u001b[0m\u001b[1;33m\u001b[0m\u001b[1;33m\u001b[0m\u001b[0m\n\u001b[1;32m----> 2\u001b[1;33m \u001b[0mtestX\u001b[0m \u001b[1;33m=\u001b[0m \u001b[0mX_test\u001b[0m\u001b[1;33m.\u001b[0m\u001b[0mreshape\u001b[0m\u001b[1;33m(\u001b[0m\u001b[0mX_test\u001b[0m\u001b[1;33m.\u001b[0m\u001b[0mshape\u001b[0m\u001b[1;33m[\u001b[0m\u001b[1;36m0\u001b[0m\u001b[1;33m]\u001b[0m\u001b[1;33m,\u001b[0m \u001b[1;36m1\u001b[0m\u001b[1;33m,\u001b[0m \u001b[0mX_train\u001b[0m\u001b[1;33m.\u001b[0m\u001b[0mshape\u001b[0m\u001b[1;33m[\u001b[0m\u001b[1;36m1\u001b[0m\u001b[1;33m]\u001b[0m\u001b[1;33m,\u001b[0m\u001b[0mX_train\u001b[0m\u001b[1;33m.\u001b[0m\u001b[0mshape\u001b[0m\u001b[1;33m[\u001b[0m\u001b[1;36m2\u001b[0m\u001b[1;33m]\u001b[0m\u001b[1;33m)\u001b[0m\u001b[1;33m\u001b[0m\u001b[0m\n\u001b[0m\u001b[0;32m      3\u001b[0m \u001b[0mtrainX\u001b[0m \u001b[1;33m=\u001b[0m \u001b[0mX_train\u001b[0m\u001b[1;33m.\u001b[0m\u001b[0mreshape\u001b[0m\u001b[1;33m(\u001b[0m\u001b[0mX_train\u001b[0m\u001b[1;33m.\u001b[0m\u001b[0mshape\u001b[0m\u001b[1;33m[\u001b[0m\u001b[1;36m0\u001b[0m\u001b[1;33m]\u001b[0m\u001b[1;33m,\u001b[0m \u001b[1;36m1\u001b[0m\u001b[1;33m,\u001b[0m \u001b[0mX_train\u001b[0m\u001b[1;33m.\u001b[0m\u001b[0mshape\u001b[0m\u001b[1;33m[\u001b[0m\u001b[1;36m1\u001b[0m\u001b[1;33m]\u001b[0m\u001b[1;33m,\u001b[0m\u001b[0mX_train\u001b[0m\u001b[1;33m.\u001b[0m\u001b[0mshape\u001b[0m\u001b[1;33m[\u001b[0m\u001b[1;36m2\u001b[0m\u001b[1;33m]\u001b[0m\u001b[1;33m)\u001b[0m\u001b[1;33m\u001b[0m\u001b[0m\n",
      "\u001b[1;31mNameError\u001b[0m: name 'X_test' is not defined"
     ]
    }
   ],
   "source": [
    "# Reshape to the appropriate shape for the CNN input\n",
    "testX = X_test.reshape(X_test.shape[0], 1, X_train.shape[1],X_train.shape[2])\n",
    "trainX = X_train.reshape(X_train.shape[0], 1, X_train.shape[1],X_train.shape[2])"
   ]
  },
  {
   "cell_type": "code",
   "execution_count": null,
   "metadata": {
    "collapsed": true
   },
   "outputs": [],
   "source": [
    "print \"Training start: \" + str(datetime.datetime.now())\n",
    "m, h = models.run_network([trainX, testX, Y_train, Y_test], model, batch=200, epochs=30, verbosity=1)"
   ]
  },
  {
   "cell_type": "code",
   "execution_count": null,
   "metadata": {
    "collapsed": true
   },
   "outputs": [],
   "source": [
    "model.save_weights(\"dwdii-bc-150-v0-Cloud.hdf5\", overwrite=True)"
   ]
  }
 ],
 "metadata": {
  "kernelspec": {
   "display_name": "Python 2",
   "language": "python",
   "name": "python2"
  },
  "language_info": {
   "codemirror_mode": {
    "name": "ipython",
    "version": 2
   },
   "file_extension": ".py",
   "mimetype": "text/x-python",
   "name": "python",
   "nbconvert_exporter": "python",
   "pygments_lexer": "ipython2",
   "version": "2.7.6"
  }
 },
 "nbformat": 4,
 "nbformat_minor": 0
}
