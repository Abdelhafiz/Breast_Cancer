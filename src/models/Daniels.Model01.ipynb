{
 "cells": [
  {
   "cell_type": "code",
   "execution_count": 1,
   "metadata": {
    "collapsed": false
   },
   "outputs": [
    {
     "name": "stderr",
     "output_type": "stream",
     "text": [
      "Using Theano backend.\n"
     ]
    }
   ],
   "source": [
    "import datetime\n",
    "import Image\n",
    "import gc\n",
    "import numpy as np\n",
    "import os\n",
    "import random\n",
    "from scipy import misc\n",
    "import string\n",
    "import time\n",
    "\n",
    "# Set some Theano config before initializing\n",
    "os.environ[\"THEANO_FLAGS\"] = \"mode=FAST_RUN,device=cpu,floatX=float32,allow_gc=False,openmp=True\"\n",
    "import theano\n",
    "\n",
    "import matplotlib\n",
    "matplotlib.use('Agg')\n",
    "from matplotlib import pyplot as plt\n",
    "\n",
    "#import emotion_model\n",
    "import dwdii_bc_model_helper as bc\n",
    "import bc_models as models\n",
    "\n",
    "random.seed(20275)"
   ]
  },
  {
   "cell_type": "code",
   "execution_count": 2,
   "metadata": {
    "collapsed": false
   },
   "outputs": [
    {
     "name": "stdout",
     "output_type": "stream",
     "text": [
      "device: cpu\n",
      "floatX: float32\n",
      "mode: FAST_RUN\n",
      "openmp: True\n",
      "allow_gc: False\n"
     ]
    }
   ],
   "source": [
    "print \"device:\", theano.config.device\n",
    "print \"floatX:\",  theano.config.floatX\n",
    "print \"mode:\", theano.config.mode\n",
    "print \"openmp:\", theano.config.openmp\n",
    "print \"allow_gc:\", theano.config.allow_gc"
   ]
  },
  {
   "cell_type": "code",
   "execution_count": 3,
   "metadata": {
    "collapsed": true
   },
   "outputs": [],
   "source": [
    "imagePath = \"/root/bc_data/ddsm-png.25\"\n",
    "dataPath = \"/root/bc_data/ddsm-png.25/Ddsm_png.csv\"\n",
    "imgResize = (150, 150)"
   ]
  },
  {
   "cell_type": "code",
   "execution_count": 4,
   "metadata": {
    "collapsed": false
   },
   "outputs": [
    {
     "data": {
      "text/plain": [
       "['ddsm', 'ddsm-hog', 'ddsm-png.25', 'ddsm-sm', 'Ddsm.csv', 'mias']"
      ]
     },
     "execution_count": 4,
     "metadata": {},
     "output_type": "execute_result"
    }
   ],
   "source": [
    "os.listdir('/root/bc_data')"
   ]
  },
  {
   "cell_type": "markdown",
   "metadata": {},
   "source": [
    "# Load Training and Test Data\n",
    "\n",
    "In this section, the training/validation data is loaded. The load_data function pre-balances the data set by removing images from over-represented emotion classes."
   ]
  },
  {
   "cell_type": "code",
   "execution_count": 5,
   "metadata": {
    "collapsed": false
   },
   "outputs": [
    {
     "name": "stdout",
     "output_type": "stream",
     "text": [
      "Before Balancing\n",
      "----------------\n",
      "benign 63\n",
      "malignant 1096\n",
      "normal 3101\n",
      "balanaceViaRemoval.avgE: 1420\n",
      "balanaceViaRemoval.theshold: 1420.0\n",
      "\n",
      "After Balancing\n",
      "----------------\n",
      "benign 63\n",
      "malignant 859\n",
      "normal 859\n"
     ]
    }
   ],
   "source": [
    "metaData, meta2 = bc.load_training_metadata(dataPath, balanceViaRemoval=True, verbose=True)"
   ]
  },
  {
   "cell_type": "code",
   "execution_count": 6,
   "metadata": {
    "collapsed": false
   },
   "outputs": [
    {
     "data": {
      "text/plain": [
       "'0'"
      ]
     },
     "execution_count": 6,
     "metadata": {},
     "output_type": "execute_result"
    }
   ],
   "source": [
    "meta2[meta2.keys()[0]]"
   ]
  },
  {
   "cell_type": "code",
   "execution_count": 7,
   "metadata": {
    "collapsed": false
   },
   "outputs": [
    {
     "name": "stdout",
     "output_type": "stream",
     "text": [
      "Before Balancing\n",
      "----------------\n",
      "benign 63\n",
      "malignant 1096\n",
      "normal 3101\n",
      "balanaceViaRemoval.avgE: 1420\n",
      "balanaceViaRemoval.theshold: 1420.0\n",
      "\n",
      "After Balancing\n",
      "----------------\n",
      "benign 63\n",
      "malignant 859\n",
      "normal 859\n",
      "0.000000: A_0325_1.LEFT_MLO.LJPEG.png\n",
      "0.028074: B_3073_1.RIGHT_MLO.LJPEG.png\n",
      "0.056148: C_0221_1.RIGHT_MLO.LJPEG.png\n",
      "0.084222: A_0146_1.RIGHT_MLO.LJPEG.png\n",
      "0.112296: B_3031_1.RIGHT_MLO.LJPEG.png\n",
      "0.140371: A_0152_1.LEFT_MLO.LJPEG.png\n",
      "0.168445: B_3625_1.RIGHT_MLO.LJPEG.png\n",
      "0.196519: B_3008_1.LEFT_MLO.LJPEG.png\n",
      "0.224593: A_1050_1.RIGHT_MLO.LJPEG.png\n",
      "0.252667: B_3013_1.LEFT_MLO.LJPEG.png\n",
      "0.280741: B_3514_1.LEFT_CC.LJPEG.png\n",
      "0.308815: A_0440_1.RIGHT_CC.LJPEG.png\n",
      "0.336889: C_0093_1.LEFT_CC.LJPEG.png\n",
      "0.364964: B_3405_1.LEFT_MLO.LJPEG.png\n",
      "0.393038: B_3376_1.RIGHT_MLO.LJPEG.png\n",
      "0.421112: A_0512_1.RIGHT_CC.LJPEG.png\n",
      "0.449186: A_0434_1.RIGHT_CC.LJPEG.png\n",
      "0.477260: A_0089_1.LEFT_MLO.LJPEG.png\n",
      "0.505334: A_0139_1.LEFT_CC.LJPEG.png\n",
      "0.533408: C_0220_1.RIGHT_CC.LJPEG.png\n",
      "0.561482: A_0424_1.LEFT_CC.LJPEG.png\n",
      "0.589556: A_1019_1.LEFT_MLO.LJPEG.png\n",
      "0.617631: A_0221_1.RIGHT_CC.LJPEG.png\n",
      "0.645705: C_0069_1.RIGHT_MLO.LJPEG.png\n",
      "0.673779: C_0151_1.RIGHT_MLO.LJPEG.png\n",
      "0.701853: A_1046_1.RIGHT_MLO.LJPEG.png\n",
      "0.729927: A_0510_1.RIGHT_CC.LJPEG.png\n",
      "0.758001: A_0339_1.RIGHT_CC.LJPEG.png\n",
      "0.786075: B_3030_1.RIGHT_CC.LJPEG.png\n",
      "0.814149: B_3036_1.LEFT_CC.LJPEG.png\n",
      "0.842223: B_3041_1.RIGHT_MLO.LJPEG.png\n",
      "0.870298: A_0365_1.LEFT_MLO.LJPEG.png\n",
      "0.898372: C_0045_1.RIGHT_MLO.LJPEG.png\n",
      "(1639, 150, 150)\n",
      "(1639, 1)\n"
     ]
    }
   ],
   "source": [
    "# Actually load some representative data for model experimentation\n",
    "maxData = len(metaData)\n",
    "X_data, Y_data = bc.load_data(dataPath, imagePath, maxData = maxData, verboseFreq = 50, imgResize=imgResize)\n",
    "print X_data.shape\n",
    "print Y_data.shape"
   ]
  },
  {
   "cell_type": "markdown",
   "metadata": {},
   "source": [
    "## Split Training/Test Sets\n",
    "The following code segment splits the data into training and test data sets. Currently this is a standard 80/20 split for training and test respectively after performing a random shuffle using the unison_shuffled_copies help method."
   ]
  },
  {
   "cell_type": "code",
   "execution_count": 8,
   "metadata": {
    "collapsed": true
   },
   "outputs": [],
   "source": [
    "skippedTransforms = True\n",
    "if skippedTransforms:\n",
    "    X_data2 = X_data\n",
    "    Y_data2 = Y_data"
   ]
  },
  {
   "cell_type": "code",
   "execution_count": 9,
   "metadata": {
    "collapsed": false
   },
   "outputs": [
    {
     "name": "stdout",
     "output_type": "stream",
     "text": [
      "1311\n",
      "(1311, 150, 150)\n",
      "(328, 150, 150)\n",
      "(1311, 1)\n",
      "(328, 1)\n"
     ]
    }
   ],
   "source": [
    "# Split the data into Training and Test sets\n",
    "trainNdx = int(X_data2.shape[0] * .8)\n",
    "print trainNdx\n",
    "\n",
    "X_train, X_test = np.split(X_data2, [trainNdx])\n",
    "Y_train, Y_test = np.split(Y_data2, [trainNdx])\n",
    "print X_train.shape\n",
    "print X_test.shape\n",
    "\n",
    "print Y_train.shape\n",
    "print Y_test.shape"
   ]
  },
  {
   "cell_type": "code",
   "execution_count": 10,
   "metadata": {
    "collapsed": false
   },
   "outputs": [
    {
     "name": "stdout",
     "output_type": "stream",
     "text": [
      "Y_train Dist: defaultdict(<type 'int'>, {0: 661, 1: 50, 2: 600})\n",
      "Y_test Dist: defaultdict(<type 'int'>, {0: 167, 1: 13, 2: 148})\n"
     ]
    }
   ],
   "source": [
    "import collections\n",
    "def yDist(y):\n",
    "    bcCounts = collections.defaultdict(int)\n",
    "    for a in range(0, y.shape[0]):\n",
    "        bcCounts[y[a][0]] += 1\n",
    "    return bcCounts\n",
    "\n",
    "print \"Y_train Dist: \" + str(yDist(Y_train))\n",
    "print \"Y_test Dist: \" + str(yDist(Y_test))\n"
   ]
  },
  {
   "cell_type": "markdown",
   "metadata": {},
   "source": [
    "## Define and Load Trained Model"
   ]
  },
  {
   "cell_type": "code",
   "execution_count": 11,
   "metadata": {
    "collapsed": false
   },
   "outputs": [
    {
     "name": "stdout",
     "output_type": "stream",
     "text": [
      "{'benign': 1, 'malignant': 2, 'normal': 0}\n",
      "3\n"
     ]
    }
   ],
   "source": [
    "# Load the bc array for our count in the model definition\n",
    "bcTypes = bc.bcNumerics()\n",
    "print bcTypes\n",
    "print len(bcTypes)"
   ]
  },
  {
   "cell_type": "code",
   "execution_count": 12,
   "metadata": {
    "collapsed": false
   },
   "outputs": [
    {
     "name": "stdout",
     "output_type": "stream",
     "text": [
      "____________________________________________________________________________________________________\n",
      "Layer (type)                       Output Shape        Param #     Connected to                     \n",
      "====================================================================================================\n",
      "convolution2d_1 (Convolution2D)    (None, 32, 143, 143)2080        convolution2d_input_1[0][0]      \n",
      "____________________________________________________________________________________________________\n",
      "activation_1 (Activation)          (None, 32, 143, 143)0           convolution2d_1[0][0]            \n",
      "____________________________________________________________________________________________________\n",
      "maxpooling2d_1 (MaxPooling2D)      (None, 32, 71, 71)  0           activation_1[0][0]               \n",
      "____________________________________________________________________________________________________\n",
      "convolution2d_2 (Convolution2D)    (None, 32, 67, 67)  25632       maxpooling2d_1[0][0]             \n",
      "____________________________________________________________________________________________________\n",
      "activation_2 (Activation)          (None, 32, 67, 67)  0           convolution2d_2[0][0]            \n",
      "____________________________________________________________________________________________________\n",
      "maxpooling2d_2 (MaxPooling2D)      (None, 32, 33, 33)  0           activation_2[0][0]               \n",
      "____________________________________________________________________________________________________\n",
      "convolution2d_3 (Convolution2D)    (None, 64, 31, 31)  18496       maxpooling2d_2[0][0]             \n",
      "____________________________________________________________________________________________________\n",
      "activation_3 (Activation)          (None, 64, 31, 31)  0           convolution2d_3[0][0]            \n",
      "____________________________________________________________________________________________________\n",
      "maxpooling2d_3 (MaxPooling2D)      (None, 64, 15, 15)  0           activation_3[0][0]               \n",
      "____________________________________________________________________________________________________\n",
      "convolution2d_4 (Convolution2D)    (None, 64, 14, 14)  16448       maxpooling2d_3[0][0]             \n",
      "____________________________________________________________________________________________________\n",
      "activation_4 (Activation)          (None, 64, 14, 14)  0           convolution2d_4[0][0]            \n",
      "____________________________________________________________________________________________________\n",
      "maxpooling2d_4 (MaxPooling2D)      (None, 64, 7, 7)    0           activation_4[0][0]               \n",
      "____________________________________________________________________________________________________\n",
      "flatten_1 (Flatten)                (None, 3136)        0           maxpooling2d_4[0][0]             \n",
      "____________________________________________________________________________________________________\n",
      "dense_1 (Dense)                    (None, 64)          200768      flatten_1[0][0]                  \n",
      "____________________________________________________________________________________________________\n",
      "activation_5 (Activation)          (None, 64)          0           dense_1[0][0]                    \n",
      "____________________________________________________________________________________________________\n",
      "dense_2 (Dense)                    (None, 3)           195         activation_5[0][0]               \n",
      "____________________________________________________________________________________________________\n",
      "activation_6 (Activation)          (None, 3)           0           dense_2[0][0]                    \n",
      "====================================================================================================\n",
      "Total params: 263619\n",
      "____________________________________________________________________________________________________\n",
      "None\n"
     ]
    }
   ],
   "source": [
    "# Construct the model using our help function\n",
    "model = models.bc_model_v0(len(bcTypes), verbose=True, \n",
    "                                        input_shape=(1,X_train.shape[1],X_train.shape[2]))"
   ]
  },
  {
   "cell_type": "markdown",
   "metadata": {},
   "source": [
    "## Training the Model\n",
    "\n",
    "The following code segment trains the model using the run_network helper function. "
   ]
  },
  {
   "cell_type": "code",
   "execution_count": 13,
   "metadata": {
    "collapsed": true
   },
   "outputs": [],
   "source": [
    "loadWeights = False\n",
    "if loadWeights:\n",
    "    model.load_weights(\"dwdii-bc-150-v0-Cloud.hdf5\")"
   ]
  },
  {
   "cell_type": "code",
   "execution_count": 14,
   "metadata": {
    "collapsed": false
   },
   "outputs": [],
   "source": [
    "# Reshape to the appropriate shape for the CNN input\n",
    "testX = X_test.reshape(X_test.shape[0], 1, X_train.shape[1],X_train.shape[2])\n",
    "trainX = X_train.reshape(X_train.shape[0], 1, X_train.shape[1],X_train.shape[2])"
   ]
  },
  {
   "cell_type": "code",
   "execution_count": 15,
   "metadata": {
    "collapsed": false
   },
   "outputs": [
    {
     "name": "stdout",
     "output_type": "stream",
     "text": [
      "Training start: 2017-03-22 03:28:50.565039\n",
      "(1311, 3)\n",
      "(328, 3)\n",
      "Training model...\n",
      "Train on 1311 samples, validate on 328 samples\n",
      "Epoch 1/30\n",
      "1311/1311 [==============================] - 352s - loss: 0.5424 - acc: 0.5812 - val_loss: 0.4755 - val_acc: 0.6250\n",
      "Epoch 2/30\n",
      "1311/1311 [==============================] - 319s - loss: 0.4671 - acc: 0.6323 - val_loss: 0.5179 - val_acc: 0.6280\n",
      "Epoch 3/30\n",
      "1311/1311 [==============================] - 339s - loss: 0.4542 - acc: 0.6468 - val_loss: 0.4581 - val_acc: 0.6250\n",
      "Epoch 4/30\n",
      "1311/1311 [==============================] - 309s - loss: 0.4463 - acc: 0.6568 - val_loss: 0.5710 - val_acc: 0.4909\n",
      "Epoch 5/30\n",
      "1311/1311 [==============================] - 307s - loss: 0.4328 - acc: 0.6613 - val_loss: 0.4686 - val_acc: 0.6402\n",
      "Epoch 6/30\n",
      "1311/1311 [==============================] - 302s - loss: 0.4132 - acc: 0.6773 - val_loss: 0.4457 - val_acc: 0.6616\n",
      "Epoch 7/30\n",
      "1311/1311 [==============================] - 303s - loss: 0.4007 - acc: 0.6941 - val_loss: 0.4941 - val_acc: 0.6555\n",
      "Epoch 8/30\n",
      "1311/1311 [==============================] - 310s - loss: 0.3898 - acc: 0.7063 - val_loss: 0.5080 - val_acc: 0.6159\n",
      "Epoch 9/30\n",
      "1311/1311 [==============================] - 304s - loss: 0.3595 - acc: 0.7422 - val_loss: 0.4675 - val_acc: 0.6616\n",
      "Epoch 10/30\n",
      "1311/1311 [==============================] - 306s - loss: 0.3427 - acc: 0.7529 - val_loss: 0.5909 - val_acc: 0.6860\n",
      "Epoch 11/30\n",
      "1311/1311 [==============================] - 307s - loss: 0.3205 - acc: 0.7834 - val_loss: 0.5451 - val_acc: 0.6159\n",
      "Epoch 12/30\n",
      "1311/1311 [==============================] - 304s - loss: 0.3080 - acc: 0.7803 - val_loss: 0.5400 - val_acc: 0.6341\n",
      "Epoch 13/30\n",
      "1311/1311 [==============================] - 302s - loss: 0.2884 - acc: 0.7925 - val_loss: 0.6469 - val_acc: 0.6250\n",
      "Epoch 14/30\n",
      "1311/1311 [==============================] - 305s - loss: 0.2649 - acc: 0.8085 - val_loss: 0.5929 - val_acc: 0.6707\n",
      "Epoch 15/30\n",
      "1311/1311 [==============================] - 302s - loss: 0.2718 - acc: 0.8276 - val_loss: 0.7267 - val_acc: 0.6585\n",
      "Epoch 16/30\n",
      "1311/1311 [==============================] - 306s - loss: 0.2067 - acc: 0.8673 - val_loss: 0.7946 - val_acc: 0.6341\n",
      "Epoch 17/30\n",
      "1311/1311 [==============================] - 305s - loss: 0.1942 - acc: 0.8734 - val_loss: 0.8310 - val_acc: 0.6524\n",
      "Epoch 18/30\n",
      "1311/1311 [==============================] - 306s - loss: 0.2018 - acc: 0.8772 - val_loss: 0.8815 - val_acc: 0.6646\n",
      "Epoch 19/30\n",
      "1311/1311 [==============================] - 303s - loss: 0.1568 - acc: 0.9069 - val_loss: 0.8264 - val_acc: 0.6616\n",
      "Epoch 20/30\n",
      "1311/1311 [==============================] - 306s - loss: 0.1536 - acc: 0.9085 - val_loss: 1.1182 - val_acc: 0.6098\n",
      "Epoch 21/30\n",
      "1311/1311 [==============================] - 302s - loss: 0.1412 - acc: 0.9130 - val_loss: 1.0890 - val_acc: 0.6067\n",
      "Epoch 22/30\n",
      "1311/1311 [==============================] - 302s - loss: 0.1128 - acc: 0.9352 - val_loss: 1.1900 - val_acc: 0.6311\n",
      "Epoch 23/30\n",
      "1311/1311 [==============================] - 304s - loss: 0.1121 - acc: 0.9390 - val_loss: 1.1807 - val_acc: 0.6037\n",
      "Epoch 24/30\n",
      "1311/1311 [==============================] - 302s - loss: 0.0866 - acc: 0.9535 - val_loss: 1.1754 - val_acc: 0.6067\n",
      "Epoch 25/30\n",
      "1311/1311 [==============================] - 305s - loss: 0.0844 - acc: 0.9474 - val_loss: 1.1857 - val_acc: 0.6220\n",
      "Epoch 26/30\n",
      "1311/1311 [==============================] - 311s - loss: 0.0653 - acc: 0.9664 - val_loss: 1.2328 - val_acc: 0.6616\n",
      "Epoch 27/30\n",
      "1311/1311 [==============================] - 302s - loss: 0.0613 - acc: 0.9687 - val_loss: 1.4333 - val_acc: 0.6616\n",
      "Epoch 28/30\n",
      "1311/1311 [==============================] - 303s - loss: 0.0624 - acc: 0.9664 - val_loss: 1.3400 - val_acc: 0.5945\n",
      "Epoch 29/30\n",
      "1311/1311 [==============================] - 305s - loss: 0.0421 - acc: 0.9809 - val_loss: 1.5176 - val_acc: 0.6037\n",
      "Epoch 30/30\n",
      "1311/1311 [==============================] - 298s - loss: 0.0411 - acc: 0.9786 - val_loss: 1.3713 - val_acc: 0.6616\n",
      "Training duration : 9255.17684293\n",
      "Network's test score [loss, accuracy]: [1.3712766752010439, 0.66158536585365857]\n"
     ]
    }
   ],
   "source": [
    "print \"Training start: \" + str(datetime.datetime.now())\n",
    "m, h = models.run_network([trainX, testX, Y_train, Y_test], model, batch=50, epochs=30, verbosity=1)"
   ]
  },
  {
   "cell_type": "code",
   "execution_count": 16,
   "metadata": {
    "collapsed": true
   },
   "outputs": [],
   "source": [
    "model.save_weights(\"dwdii-bc-150-v0-Cloud-3.hdf5\", overwrite=True)"
   ]
  },
  {
   "cell_type": "markdown",
   "metadata": {},
   "source": [
    "### Experiment Results"
   ]
  },
  {
   "cell_type": "markdown",
   "metadata": {},
   "source": [
    "Initial results based on \"normal\" being masked as \"benign\":\n",
    "* bc_model_v0 (150x150, 800/200): 182s - loss: 0.0560 - acc: 0.9813 - val_loss: 1.9918 - val_acc: 0.6800\n",
    "* bc_model_v0 (150x150, 2000/500): 473s - loss: 0.0288 - acc: 0.9925 - val_loss: 1.4040 - val_acc: 0.7260\n",
    "   * somewhat balanced, Y_train Dist {0: 1223, 1: 777}, Y_test Dist: {0: 321, 1: 179}\n",
    "\n",
    "Revised with \"normal\", \"benign\" and \"malignant\" labeled seperately:\n",
    "* bc_model_v0 (150x150, 1311/328): 298s - loss: 0.0411 - acc: 0.9786 - val_loss: 1.3713 - val_acc: 0.6616"
   ]
  },
  {
   "cell_type": "code",
   "execution_count": 17,
   "metadata": {
    "collapsed": false
   },
   "outputs": [
    {
     "data": {
      "text/plain": [
       "0.5041952707856598"
      ]
     },
     "execution_count": 17,
     "metadata": {},
     "output_type": "execute_result"
    }
   ],
   "source": [
    "661 / 1311.0"
   ]
  },
  {
   "cell_type": "code",
   "execution_count": 18,
   "metadata": {
    "collapsed": false
   },
   "outputs": [
    {
     "data": {
      "text/plain": [
       "0.5091463414634146"
      ]
     },
     "execution_count": 18,
     "metadata": {},
     "output_type": "execute_result"
    }
   ],
   "source": [
    "167.0 / 328"
   ]
  },
  {
   "cell_type": "code",
   "execution_count": null,
   "metadata": {
    "collapsed": true
   },
   "outputs": [],
   "source": []
  }
 ],
 "metadata": {
  "kernelspec": {
   "display_name": "Python 2",
   "language": "python",
   "name": "python2"
  },
  "language_info": {
   "codemirror_mode": {
    "name": "ipython",
    "version": 2
   },
   "file_extension": ".py",
   "mimetype": "text/x-python",
   "name": "python",
   "nbconvert_exporter": "python",
   "pygments_lexer": "ipython2",
   "version": "2.7.6"
  }
 },
 "nbformat": 4,
 "nbformat_minor": 0
}
