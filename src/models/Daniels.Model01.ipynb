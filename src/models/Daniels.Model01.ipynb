{
 "cells": [
  {
   "cell_type": "code",
   "execution_count": 1,
   "metadata": {
    "collapsed": false
   },
   "outputs": [
    {
     "name": "stderr",
     "output_type": "stream",
     "text": [
      "Using Theano backend.\n"
     ]
    }
   ],
   "source": [
    "import datetime\n",
    "import Image\n",
    "import gc\n",
    "import numpy as np\n",
    "import os\n",
    "import random\n",
    "from scipy import misc\n",
    "import string\n",
    "import time\n",
    "\n",
    "# Set some Theano config before initializing\n",
    "os.environ[\"THEANO_FLAGS\"] = \"mode=FAST_RUN,device=cpu,floatX=float32,allow_gc=False,openmp=True\"\n",
    "import theano\n",
    "\n",
    "import matplotlib\n",
    "matplotlib.use('Agg')\n",
    "from matplotlib import pyplot as plt\n",
    "\n",
    "#import emotion_model\n",
    "import dwdii_bc_model_helper as bc\n",
    "import bc_models as models\n",
    "\n",
    "random.seed(20275)"
   ]
  },
  {
   "cell_type": "code",
   "execution_count": 2,
   "metadata": {
    "collapsed": false
   },
   "outputs": [
    {
     "name": "stdout",
     "output_type": "stream",
     "text": [
      "device: cpu\n",
      "floatX: float32\n",
      "mode: FAST_RUN\n",
      "openmp: True\n",
      "allow_gc: False\n"
     ]
    }
   ],
   "source": [
    "print \"device:\", theano.config.device\n",
    "print \"floatX:\",  theano.config.floatX\n",
    "print \"mode:\", theano.config.mode\n",
    "print \"openmp:\", theano.config.openmp\n",
    "print \"allow_gc:\", theano.config.allow_gc"
   ]
  },
  {
   "cell_type": "code",
   "execution_count": 3,
   "metadata": {
    "collapsed": true
   },
   "outputs": [],
   "source": [
    "imagePath = \"/root/bc_data/ddsm-png.25\"\n",
    "trainDataPath = \"../../data/ddsm_train.csv\"\n",
    "testDataPath = \"../../data/ddsm_test.csv\"\n",
    "imgResize = (150, 150)"
   ]
  },
  {
   "cell_type": "code",
   "execution_count": 4,
   "metadata": {
    "collapsed": false
   },
   "outputs": [
    {
     "data": {
      "text/plain": [
       "['ddsm_test.csv', 'ddsm_train.csv', 'ddsm_val.csv']"
      ]
     },
     "execution_count": 4,
     "metadata": {},
     "output_type": "execute_result"
    }
   ],
   "source": [
    "os.listdir('../../data')"
   ]
  },
  {
   "cell_type": "markdown",
   "metadata": {},
   "source": [
    "# Load Training and Test Data\n",
    "\n",
    "In this section, the training/validation data is loaded. The load_data function pre-balances the data set by removing images from over-represented emotion classes."
   ]
  },
  {
   "cell_type": "markdown",
   "metadata": {},
   "source": [
    "### Training Data"
   ]
  },
  {
   "cell_type": "code",
   "execution_count": 6,
   "metadata": {
    "collapsed": false
   },
   "outputs": [
    {
     "name": "stdout",
     "output_type": "stream",
     "text": [
      "Raw Balance\n",
      "----------------\n",
      "benign 541\n",
      "malignant 852\n",
      "normal 2793\n",
      "balanaceViaRemoval.avgE: 1395\n",
      "balanaceViaRemoval.theshold: 1395.0\n",
      "\n",
      "After Balancing\n",
      "----------------\n",
      "benign 541\n",
      "malignant 852\n",
      "normal 929\n"
     ]
    }
   ],
   "source": [
    "metaData, meta2, mCounts = bc.load_training_metadata(trainDataPath, balanceViaRemoval=True, verbose=True)"
   ]
  },
  {
   "cell_type": "code",
   "execution_count": 7,
   "metadata": {
    "collapsed": false
   },
   "outputs": [
    {
     "data": {
      "text/plain": [
       "'0'"
      ]
     },
     "execution_count": 7,
     "metadata": {},
     "output_type": "execute_result"
    }
   ],
   "source": [
    "meta2[meta2.keys()[0]]"
   ]
  },
  {
   "cell_type": "code",
   "execution_count": 8,
   "metadata": {
    "collapsed": false
   },
   "outputs": [
    {
     "name": "stdout",
     "output_type": "stream",
     "text": [
      "Raw Balance\n",
      "----------------\n",
      "benign 541\n",
      "malignant 852\n",
      "normal 2793\n",
      "balanaceViaRemoval.avgE: 1395\n",
      "balanaceViaRemoval.theshold: 1395.0\n",
      "\n",
      "After Balancing\n",
      "----------------\n",
      "benign 541\n",
      "malignant 852\n",
      "normal 929\n",
      "0.000000: C_0418_1.LEFT_CC.LJPEG.png\n",
      "0.021533: C_0160_1.LEFT_MLO.LJPEG.png\n",
      "0.043066: A_0462_1.LEFT_MLO.LJPEG.png\n",
      "0.064599: C_0343_1.LEFT_CC.LJPEG.png\n",
      "0.086133: B_3651_1.LEFT_CC.LJPEG.png\n",
      "0.107666: C_0123_1.LEFT_CC.LJPEG.png\n",
      "0.129199: B_3059_1.LEFT_MLO.LJPEG.png\n",
      "0.150732: A_0578_1.LEFT_MLO.LJPEG.png\n",
      "0.172265: C_0190_1.RIGHT_CC.LJPEG.png\n",
      "0.193798: B_3398_1.LEFT_CC.LJPEG.png\n",
      "0.215332: A_0325_1.RIGHT_CC.LJPEG.png\n",
      "0.236865: C_0041_1.RIGHT_CC.LJPEG.png\n",
      "0.258398: C_0046_1.RIGHT_CC.LJPEG.png\n",
      "0.279931: B_3006_1.LEFT_CC.LJPEG.png\n",
      "0.301464: A_1042_1.LEFT_MLO.LJPEG.png\n",
      "0.322997: B_3011_1.LEFT_CC.LJPEG.png\n",
      "0.344531: A_1104_1.LEFT_MLO.LJPEG.png\n",
      "0.366064: B_3627_1.LEFT_MLO.LJPEG.png\n",
      "0.387597: C_0005_1.RIGHT_MLO.LJPEG.png\n",
      "0.409130: A_1035_1.RIGHT_CC.LJPEG.png\n",
      "0.430663: A_0009_1.RIGHT_MLO.LJPEG.png\n",
      "0.452196: A_1033_1.RIGHT_CC.LJPEG.png\n",
      "0.473730: A_1012_1.RIGHT_CC.LJPEG.png\n",
      "0.495263: C_0191_1.LEFT_MLO.LJPEG.png\n",
      "0.516796: C_0028_1.LEFT_MLO.LJPEG.png\n",
      "0.538329: A_0018_1.LEFT_MLO.LJPEG.png\n",
      "0.559862: A_1071_1.LEFT_CC.LJPEG.png\n",
      "0.581395: A_1102_1.LEFT_CC.LJPEG.png\n",
      "0.602929: C_0126_1.RIGHT_MLO.LJPEG.png\n",
      "0.624462: C_0195_1.RIGHT_CC.LJPEG.png\n",
      "0.645995: B_3044_1.LEFT_MLO.LJPEG.png\n",
      "0.667528: A_0465_1.RIGHT_MLO.LJPEG.png\n",
      "(1554, 150, 150)\n",
      "(1554, 1)\n"
     ]
    }
   ],
   "source": [
    "# Actually load some representative data for model experimentation\n",
    "maxData = len(metaData)\n",
    "X_data, Y_data = bc.load_data(trainDataPath, imagePath, maxData = maxData, verboseFreq = 50, imgResize=imgResize)\n",
    "print X_data.shape\n",
    "print Y_data.shape"
   ]
  },
  {
   "cell_type": "markdown",
   "metadata": {},
   "source": [
    "### Load Test Set "
   ]
  },
  {
   "cell_type": "code",
   "execution_count": 9,
   "metadata": {
    "collapsed": false
   },
   "outputs": [
    {
     "name": "stdout",
     "output_type": "stream",
     "text": [
      "Raw Balance\n",
      "----------------\n",
      "benign 142\n",
      "malignant 206\n",
      "normal 699\n",
      "balanaceViaRemoval.avgE: 349\n",
      "balanaceViaRemoval.theshold: 349.0\n",
      "\n",
      "After Balancing\n",
      "----------------\n",
      "benign 142\n",
      "malignant 206\n",
      "normal 232\n",
      "0.000000: B_3380_1.RIGHT_MLO.LJPEG.png\n",
      "0.021533: C_0114_1.LEFT_CC.LJPEG.png\n",
      "0.043066: C_0005_1.LEFT_MLO.LJPEG.png\n",
      "0.064599: A_1032_1.RIGHT_CC.LJPEG.png\n",
      "0.086133: B_3504_1.RIGHT_CC.LJPEG.png\n",
      "0.107666: A_1102_1.RIGHT_MLO.LJPEG.png\n",
      "0.129199: A_0149_1.LEFT_CC.LJPEG.png\n",
      "0.150732: B_3039_1.LEFT_CC.LJPEG.png\n",
      "(1554, 150, 150)\n",
      "(1554, 1)\n"
     ]
    }
   ],
   "source": [
    "# Actually load some representative data for model experimentation\n",
    "maxData = len(metaData)\n",
    "X_test, Y_test = bc.load_data(testDataPath, imagePath, maxData = maxData, verboseFreq = 50, imgResize=imgResize)\n",
    "print X_test.shape\n",
    "print Y_test.shape"
   ]
  },
  {
   "cell_type": "markdown",
   "metadata": {},
   "source": [
    "## Split Training/Test Sets\n",
    "The following code segment splits the data into training and test data sets. Currently this is a standard 80/20 split for training and test respectively after performing a random shuffle using the unison_shuffled_copies help method."
   ]
  },
  {
   "cell_type": "code",
   "execution_count": 10,
   "metadata": {
    "collapsed": true
   },
   "outputs": [],
   "source": [
    "X_train = X_data\n",
    "Y_train = Y_data"
   ]
  },
  {
   "cell_type": "code",
   "execution_count": 11,
   "metadata": {
    "collapsed": false
   },
   "outputs": [
    {
     "name": "stdout",
     "output_type": "stream",
     "text": [
      "(1554, 150, 150)\n",
      "(363, 150, 150)\n",
      "(1554, 1)\n",
      "(363, 1)\n"
     ]
    }
   ],
   "source": [
    "print X_train.shape\n",
    "print X_test.shape\n",
    "\n",
    "print Y_train.shape\n",
    "print Y_test.shape"
   ]
  },
  {
   "cell_type": "code",
   "execution_count": 12,
   "metadata": {
    "collapsed": false
   },
   "outputs": [
    {
     "name": "stdout",
     "output_type": "stream",
     "text": [
      "Y_train Dist: defaultdict(<type 'int'>, {0: 765, 1: 50, 2: 739})\n",
      "Y_test Dist: defaultdict(<type 'int'>, {0: 172, 1: 12, 2: 179})\n"
     ]
    }
   ],
   "source": [
    "import collections\n",
    "def yDist(y):\n",
    "    bcCounts = collections.defaultdict(int)\n",
    "    for a in range(0, y.shape[0]):\n",
    "        bcCounts[y[a][0]] += 1\n",
    "    return bcCounts\n",
    "\n",
    "print \"Y_train Dist: \" + str(yDist(Y_train))\n",
    "print \"Y_test Dist: \" + str(yDist(Y_test))\n"
   ]
  },
  {
   "cell_type": "markdown",
   "metadata": {},
   "source": [
    "## Define and Load Trained Model"
   ]
  },
  {
   "cell_type": "code",
   "execution_count": 13,
   "metadata": {
    "collapsed": false
   },
   "outputs": [
    {
     "name": "stdout",
     "output_type": "stream",
     "text": [
      "{'benign': 1, 'malignant': 2, 'normal': 0}\n",
      "3\n"
     ]
    }
   ],
   "source": [
    "# Load the bc array for our count in the model definition\n",
    "bcTypes = bc.bcNumerics()\n",
    "print bcTypes\n",
    "print len(bcTypes)"
   ]
  },
  {
   "cell_type": "code",
   "execution_count": 14,
   "metadata": {
    "collapsed": false
   },
   "outputs": [
    {
     "name": "stdout",
     "output_type": "stream",
     "text": [
      "____________________________________________________________________________________________________\n",
      "Layer (type)                       Output Shape        Param #     Connected to                     \n",
      "====================================================================================================\n",
      "convolution2d_1 (Convolution2D)    (None, 32, 143, 143)2080        convolution2d_input_1[0][0]      \n",
      "____________________________________________________________________________________________________\n",
      "activation_1 (Activation)          (None, 32, 143, 143)0           convolution2d_1[0][0]            \n",
      "____________________________________________________________________________________________________\n",
      "maxpooling2d_1 (MaxPooling2D)      (None, 32, 71, 71)  0           activation_1[0][0]               \n",
      "____________________________________________________________________________________________________\n",
      "convolution2d_2 (Convolution2D)    (None, 32, 67, 67)  25632       maxpooling2d_1[0][0]             \n",
      "____________________________________________________________________________________________________\n",
      "activation_2 (Activation)          (None, 32, 67, 67)  0           convolution2d_2[0][0]            \n",
      "____________________________________________________________________________________________________\n",
      "maxpooling2d_2 (MaxPooling2D)      (None, 32, 33, 33)  0           activation_2[0][0]               \n",
      "____________________________________________________________________________________________________\n",
      "convolution2d_3 (Convolution2D)    (None, 64, 31, 31)  18496       maxpooling2d_2[0][0]             \n",
      "____________________________________________________________________________________________________\n",
      "activation_3 (Activation)          (None, 64, 31, 31)  0           convolution2d_3[0][0]            \n",
      "____________________________________________________________________________________________________\n",
      "maxpooling2d_3 (MaxPooling2D)      (None, 64, 15, 15)  0           activation_3[0][0]               \n",
      "____________________________________________________________________________________________________\n",
      "convolution2d_4 (Convolution2D)    (None, 64, 14, 14)  16448       maxpooling2d_3[0][0]             \n",
      "____________________________________________________________________________________________________\n",
      "activation_4 (Activation)          (None, 64, 14, 14)  0           convolution2d_4[0][0]            \n",
      "____________________________________________________________________________________________________\n",
      "maxpooling2d_4 (MaxPooling2D)      (None, 64, 7, 7)    0           activation_4[0][0]               \n",
      "____________________________________________________________________________________________________\n",
      "flatten_1 (Flatten)                (None, 3136)        0           maxpooling2d_4[0][0]             \n",
      "____________________________________________________________________________________________________\n",
      "dense_1 (Dense)                    (None, 64)          200768      flatten_1[0][0]                  \n",
      "____________________________________________________________________________________________________\n",
      "activation_5 (Activation)          (None, 64)          0           dense_1[0][0]                    \n",
      "____________________________________________________________________________________________________\n",
      "dense_2 (Dense)                    (None, 3)           195         activation_5[0][0]               \n",
      "____________________________________________________________________________________________________\n",
      "activation_6 (Activation)          (None, 3)           0           dense_2[0][0]                    \n",
      "====================================================================================================\n",
      "Total params: 263619\n",
      "____________________________________________________________________________________________________\n",
      "None\n"
     ]
    }
   ],
   "source": [
    "# Construct the model using our help function\n",
    "model = models.bc_model_v0(len(bcTypes), verbose=True, \n",
    "                                        input_shape=(1,X_train.shape[1],X_train.shape[2]))"
   ]
  },
  {
   "cell_type": "markdown",
   "metadata": {},
   "source": [
    "## Training the Model\n",
    "\n",
    "The following code segment trains the model using the run_network helper function. "
   ]
  },
  {
   "cell_type": "code",
   "execution_count": 15,
   "metadata": {
    "collapsed": true
   },
   "outputs": [],
   "source": [
    "loadWeights = False\n",
    "if loadWeights:\n",
    "    model.load_weights(\"dwdii-bc-150-v0-Cloud.hdf5\")"
   ]
  },
  {
   "cell_type": "code",
   "execution_count": 16,
   "metadata": {
    "collapsed": false
   },
   "outputs": [],
   "source": [
    "# Reshape to the appropriate shape for the CNN input\n",
    "testX = X_test.reshape(X_test.shape[0], 1, X_test.shape[1],X_test.shape[2])\n",
    "trainX = X_train.reshape(X_train.shape[0], 1, X_train.shape[1],X_train.shape[2])"
   ]
  },
  {
   "cell_type": "code",
   "execution_count": 17,
   "metadata": {
    "collapsed": false
   },
   "outputs": [
    {
     "name": "stdout",
     "output_type": "stream",
     "text": [
      "Training start: 2017-03-28 01:37:04.157127\n",
      "(1554, 3)\n",
      "(363, 3)\n",
      "Training model...\n",
      "Train on 1554 samples, validate on 363 samples\n",
      "Epoch 1/30\n",
      "1554/1554 [==============================] - 299s - loss: 0.5670 - acc: 0.5650 - val_loss: 0.5046 - val_acc: 0.5482\n",
      "Epoch 2/30\n",
      "1554/1554 [==============================] - 297s - loss: 0.4692 - acc: 0.6293 - val_loss: 0.6298 - val_acc: 0.4986\n",
      "Epoch 3/30\n",
      "1554/1554 [==============================] - 317s - loss: 0.4463 - acc: 0.6699 - val_loss: 0.4648 - val_acc: 0.6694\n",
      "Epoch 4/30\n",
      "1554/1554 [==============================] - 328s - loss: 0.4487 - acc: 0.6557 - val_loss: 0.4848 - val_acc: 0.6198\n",
      "Epoch 5/30\n",
      "1554/1554 [==============================] - 322s - loss: 0.4218 - acc: 0.6898 - val_loss: 0.9780 - val_acc: 0.4821\n",
      "Epoch 6/30\n",
      "1554/1554 [==============================] - 286s - loss: 0.4252 - acc: 0.7066 - val_loss: 0.5667 - val_acc: 0.5758\n",
      "Epoch 7/30\n",
      "1554/1554 [==============================] - 276s - loss: 0.3986 - acc: 0.7169 - val_loss: 0.5349 - val_acc: 0.6336\n",
      "Epoch 8/30\n",
      "1554/1554 [==============================] - 280s - loss: 0.3811 - acc: 0.7278 - val_loss: 0.5642 - val_acc: 0.6006\n",
      "Epoch 9/30\n",
      "1554/1554 [==============================] - 327s - loss: 0.3625 - acc: 0.7477 - val_loss: 0.5483 - val_acc: 0.6915\n",
      "Epoch 10/30\n",
      "1554/1554 [==============================] - 366s - loss: 0.3602 - acc: 0.7503 - val_loss: 0.5737 - val_acc: 0.6391\n",
      "Epoch 11/30\n",
      "1554/1554 [==============================] - 319s - loss: 0.3418 - acc: 0.7638 - val_loss: 0.6846 - val_acc: 0.6309\n",
      "Epoch 12/30\n",
      "1554/1554 [==============================] - 352s - loss: 0.3270 - acc: 0.7671 - val_loss: 0.5282 - val_acc: 0.6226\n",
      "Epoch 13/30\n",
      "1554/1554 [==============================] - 335s - loss: 0.3003 - acc: 0.7954 - val_loss: 0.9637 - val_acc: 0.6446\n",
      "Epoch 14/30\n",
      "1554/1554 [==============================] - 272s - loss: 0.2923 - acc: 0.8018 - val_loss: 0.6812 - val_acc: 0.5868\n",
      "Epoch 15/30\n",
      "1554/1554 [==============================] - 269s - loss: 0.2633 - acc: 0.8185 - val_loss: 0.5835 - val_acc: 0.6501\n",
      "Epoch 16/30\n",
      "1554/1554 [==============================] - 271s - loss: 0.2407 - acc: 0.8378 - val_loss: 0.7028 - val_acc: 0.6639\n",
      "Epoch 17/30\n",
      "1554/1554 [==============================] - 272s - loss: 0.2149 - acc: 0.8591 - val_loss: 0.7900 - val_acc: 0.6281\n",
      "Epoch 18/30\n",
      "1554/1554 [==============================] - 266s - loss: 0.2105 - acc: 0.8604 - val_loss: 0.6983 - val_acc: 0.5923\n",
      "Epoch 19/30\n",
      "1554/1554 [==============================] - 261s - loss: 0.1883 - acc: 0.8790 - val_loss: 0.9492 - val_acc: 0.6501\n",
      "Epoch 20/30\n",
      "1554/1554 [==============================] - 260s - loss: 0.1769 - acc: 0.8829 - val_loss: 0.8638 - val_acc: 0.6474\n",
      "Epoch 21/30\n",
      "1554/1554 [==============================] - 261s - loss: 0.1453 - acc: 0.9054 - val_loss: 1.2805 - val_acc: 0.6364\n",
      "Epoch 22/30\n",
      "1554/1554 [==============================] - 258s - loss: 0.1542 - acc: 0.9112 - val_loss: 0.9744 - val_acc: 0.6419\n",
      "Epoch 23/30\n",
      "1554/1554 [==============================] - 261s - loss: 0.1207 - acc: 0.9247 - val_loss: 0.9202 - val_acc: 0.6088\n",
      "Epoch 24/30\n",
      "1554/1554 [==============================] - 262s - loss: 0.1141 - acc: 0.9344 - val_loss: 1.0195 - val_acc: 0.6226\n",
      "Epoch 25/30\n",
      "1554/1554 [==============================] - 260s - loss: 0.1033 - acc: 0.9505 - val_loss: 1.1982 - val_acc: 0.6116\n",
      "Epoch 26/30\n",
      "1554/1554 [==============================] - 261s - loss: 0.0808 - acc: 0.9530 - val_loss: 1.2114 - val_acc: 0.5895\n",
      "Epoch 27/30\n",
      "1554/1554 [==============================] - 261s - loss: 0.0894 - acc: 0.9550 - val_loss: 1.3874 - val_acc: 0.5702\n",
      "Epoch 28/30\n",
      "1554/1554 [==============================] - 301s - loss: 0.0758 - acc: 0.9575 - val_loss: 1.1033 - val_acc: 0.6336\n",
      "Epoch 29/30\n",
      "1554/1554 [==============================] - 268s - loss: 0.0712 - acc: 0.9620 - val_loss: 1.3120 - val_acc: 0.6088\n",
      "Epoch 30/30\n",
      "1554/1554 [==============================] - 264s - loss: 0.0512 - acc: 0.9730 - val_loss: 1.3120 - val_acc: 0.6116\n",
      "Training duration : 8745.85946202\n",
      "Network's test score [loss, accuracy]: [1.3119664087111629, 0.61157024842648466]\n"
     ]
    }
   ],
   "source": [
    "print \"Training start: \" + str(datetime.datetime.now())\n",
    "m, h = models.run_network([trainX, testX, Y_train, Y_test], model, batch=50, epochs=30, verbosity=1)"
   ]
  },
  {
   "cell_type": "code",
   "execution_count": 18,
   "metadata": {
    "collapsed": true
   },
   "outputs": [],
   "source": [
    "model.save_weights(\"dwdii-bc-150-v0-Cloud-20170327.hdf5\", overwrite=True)"
   ]
  },
  {
   "cell_type": "markdown",
   "metadata": {},
   "source": [
    "### Experiment Results"
   ]
  },
  {
   "cell_type": "markdown",
   "metadata": {},
   "source": [
    "#### Raw DDSM Images\n",
    "\n",
    "Initial results based on \"normal\" being masked as \"benign\":\n",
    "* bc_model_v0 (150x150, 800/200): 182s - loss: 0.0560 - acc: 0.9813 - val_loss: 1.9918 - val_acc: 0.6800\n",
    "* bc_model_v0 (150x150, 2000/500): 473s - loss: 0.0288 - acc: 0.9925 - val_loss: 1.4040 - val_acc: 0.7260\n",
    "   * somewhat balanced, Y_train Dist {0: 1223, 1: 777}, Y_test Dist: {0: 321, 1: 179}\n",
    "\n",
    "Revised with \"normal\", \"benign\" and \"malignant\" labeled seperately:\n",
    "* bc_model_v0 (150x150, 1311/328): 298s - loss: 0.0411 - acc: 0.9786 - val_loss: 1.3713 - val_acc: 0.6616\n",
    "\n",
    "After creating fixed \"train\", \"test\" and \"validate\" data sets, using \"train\" and \"test\" as well as including the DDSM Benign cases:\n",
    "* bc_model_v0 (150x150, 1554/363, 03.27.2017): 264s - loss: 0.0512 - acc: 0.9730 - val_loss: 1.3120 - val_acc: 0.6116"
   ]
  },
  {
   "cell_type": "code",
   "execution_count": 17,
   "metadata": {
    "collapsed": false
   },
   "outputs": [
    {
     "data": {
      "text/plain": [
       "0.5041952707856598"
      ]
     },
     "execution_count": 17,
     "metadata": {},
     "output_type": "execute_result"
    }
   ],
   "source": [
    "661 / 1311.0"
   ]
  },
  {
   "cell_type": "code",
   "execution_count": 18,
   "metadata": {
    "collapsed": false
   },
   "outputs": [
    {
     "data": {
      "text/plain": [
       "0.5091463414634146"
      ]
     },
     "execution_count": 18,
     "metadata": {},
     "output_type": "execute_result"
    }
   ],
   "source": [
    "167.0 / 328"
   ]
  },
  {
   "cell_type": "code",
   "execution_count": null,
   "metadata": {
    "collapsed": true
   },
   "outputs": [],
   "source": []
  }
 ],
 "metadata": {
  "kernelspec": {
   "display_name": "Python 2",
   "language": "python",
   "name": "python2"
  },
  "language_info": {
   "codemirror_mode": {
    "name": "ipython",
    "version": 2
   },
   "file_extension": ".py",
   "mimetype": "text/x-python",
   "name": "python",
   "nbconvert_exporter": "python",
   "pygments_lexer": "ipython2",
   "version": "2.7.6"
  }
 },
 "nbformat": 4,
 "nbformat_minor": 0
}
