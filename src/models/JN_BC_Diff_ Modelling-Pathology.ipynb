{
 "cells": [
  {
   "cell_type": "markdown",
   "metadata": {},
   "source": [
    "<hr>\n",
    "<h1>Predicting Abnormalities in Mammograms</h1>\n",
    "\n",
    "<p>Jay Narhan</p>\n",
    "May 2017\n",
    "\n",
    "This notebook extends the previous submission to include classifications across three classes - Normal, Benign and Malignant images.\n",
    "\n",
    "<hr>"
   ]
  },
  {
   "cell_type": "code",
   "execution_count": 1,
   "metadata": {},
   "outputs": [
    {
     "name": "stderr",
     "output_type": "stream",
     "text": [
      "Using Theano backend.\n"
     ]
    }
   ],
   "source": [
    "import os\n",
    "import sys\n",
    "import time\n",
    "import numpy as np\n",
    "\n",
    "import sklearn.metrics as skm\n",
    "from sklearn import metrics\n",
    "from sklearn.svm import SVC\n",
    "from sklearn.model_selection import train_test_split\n",
    "\n",
    "from skimage import color\n",
    "\n",
    "import keras.callbacks as cb\n",
    "import keras.utils.np_utils as np_utils\n",
    "from keras import applications\n",
    "from keras import regularizers\n",
    "from keras.models import Sequential\n",
    "from keras.constraints import maxnorm\n",
    "from keras.preprocessing.image import ImageDataGenerator\n",
    "from keras.layers.convolutional import Convolution2D, MaxPooling2D\n",
    "from keras.layers import Activation, Dense, Dropout, Flatten, GaussianNoise\n",
    "\n",
    "from matplotlib import pyplot as plt\n",
    "%matplotlib inline\n",
    "\n",
    "plt.rcParams['figure.figsize'] = (10,10)\n",
    "np.set_printoptions(precision=2)\n",
    "\n",
    "import jn_bc_helper as bc"
   ]
  },
  {
   "cell_type": "markdown",
   "metadata": {},
   "source": [
    "<h2>Reproducible Research</h2>"
   ]
  },
  {
   "cell_type": "code",
   "execution_count": 2,
   "metadata": {},
   "outputs": [
    {
     "name": "stdout",
     "output_type": "stream",
     "text": [
      "scipy:           0.19.0\n",
      "numpy:           1.12.1\n",
      "matplotlib:      2.0.0\n",
      "sklearn:         0.18.1\n",
      "skimage:         0.13.0\n",
      "theano:          0.9.0.dev-c697eeab84e5b8a74908da654b66ec9eca4f1291\n",
      "tensorflow:      0.10.0\n",
      "keras:           2.0.3\n"
     ]
    },
    {
     "name": "stderr",
     "output_type": "stream",
     "text": [
      "Python 2.7.13 :: Continuum Analytics, Inc.\n",
      "Using Theano backend.\n"
     ]
    }
   ],
   "source": [
    "%%python\n",
    "import os\n",
    "os.system('python -V')\n",
    "os.system('python ../../Package_Versions.py')"
   ]
  },
  {
   "cell_type": "code",
   "execution_count": 3,
   "metadata": {},
   "outputs": [
    {
     "name": "stderr",
     "output_type": "stream",
     "text": [
      "2it [00:00, 14.70it/s]"
     ]
    },
    {
     "name": "stdout",
     "output_type": "stream",
     "text": [
      "----------------\n",
      "Before Balancing\n",
      "----------------\n",
      "benign    : 569\n",
      "malignant : 812\n",
      "normal    : 1072\n",
      "balanceViaRemoval.avgC: 817\n",
      "balanceViaRemoval.theshold: 817.0\n",
      "---------------\n",
      "After Balancing\n",
      "---------------\n",
      "benign    : 569\n",
      "malignant : 732\n",
      "normal    : 732\n",
      "-------------\n",
      "Loading data:\n",
      "-------------\n"
     ]
    },
    {
     "name": "stderr",
     "output_type": "stream",
     "text": [
      "2033it [01:24, 23.93it/s]\n"
     ]
    }
   ],
   "source": [
    "SEED = 7\n",
    "np.random.seed(SEED)\n",
    "\n",
    "DATA_DIR = '/Users/jnarhan/Projects/CUNY_698/Docker-Shared/Data_Diff_Images/ALL_IMGS/'\n",
    "meta_file = DATA_DIR + 'update_meta_pathology.csv'\n",
    "PATHO_INX = 4   # Column number of Pathology in meta_file\n",
    "FILE_INX = 1    # Column number of File name in meta_file\n",
    "\n",
    "meta_data, cls_cnts = bc.load_meta(meta_file, patho_idx=PATHO_INX, file_idx=FILE_INX,\n",
    "                                   balanceByRemoval=True, verbose=True)\n",
    "\n",
    "bc.pprint('Loading data:')\n",
    "cats = bc.bcNumericsPaths()\n",
    "\n",
    "# For smaller images supply tuple argument for a parameter 'imgResize':\n",
    "X_data, Y_data = bc.load_data(meta_data, DATA_DIR, cats, imgResize=(150,150)) \n"
   ]
  },
  {
   "cell_type": "markdown",
   "metadata": {},
   "source": [
    "**Create the Training and Test Datasets**"
   ]
  },
  {
   "cell_type": "code",
   "execution_count": 4,
   "metadata": {},
   "outputs": [
    {
     "name": "stdout",
     "output_type": "stream",
     "text": [
      "Size of X_train:  1524\n",
      "Size of X_test:   509\n",
      "Size of Y_train:  1524\n",
      "Size of Y_test:   509\n",
      "(1524, 150, 150)\n",
      "(509, 150, 150)\n",
      "(1524, 1)\n",
      "(509, 1)\n"
     ]
    }
   ],
   "source": [
    "X_train, X_test, Y_train, Y_test = train_test_split(X_data, Y_data,\n",
    "                                                    test_size=0.25,\n",
    "                                                    random_state=SEED,\n",
    "                                                    stratify=zip(*Y_data)[0])\n",
    "\n",
    "print 'Size of X_train: {:>5}'.format(len(X_train))\n",
    "print 'Size of X_test: {:>5}'.format(len(X_test))\n",
    "print 'Size of Y_train: {:>5}'.format(len(Y_train))\n",
    "print 'Size of Y_test: {:>5}'.format(len(Y_test))\n",
    "\n",
    "print X_train.shape\n",
    "print X_test.shape\n",
    "print Y_train.shape\n",
    "print Y_test.shape\n",
    "\n",
    "data = [X_train, X_test, Y_train, Y_test]"
   ]
  },
  {
   "cell_type": "markdown",
   "metadata": {},
   "source": [
    "<h2>Support Vector Machine Model</h2>"
   ]
  },
  {
   "cell_type": "code",
   "execution_count": 5,
   "metadata": {
    "collapsed": true
   },
   "outputs": [],
   "source": [
    "X_train_svm = X_train.reshape( (X_train.shape[0], -1)) \n",
    "X_test_svm  = X_test.reshape( (X_test.shape[0], -1))"
   ]
  },
  {
   "cell_type": "code",
   "execution_count": 6,
   "metadata": {},
   "outputs": [
    {
     "name": "stderr",
     "output_type": "stream",
     "text": [
      "/Users/jnarhan/miniconda2/envs/bc_venv/lib/python2.7/site-packages/sklearn/utils/validation.py:526: DataConversionWarning: A column-vector y was passed when a 1d array was expected. Please change the shape of y to (n_samples, ), for example using ravel().\n",
      "  y = column_or_1d(y, warn=True)\n"
     ]
    },
    {
     "data": {
      "text/plain": [
       "SVC(C=1.0, cache_size=200, class_weight=None, coef0=0.0,\n",
       "  decision_function_shape=None, degree=3, gamma=0.001, kernel='rbf',\n",
       "  max_iter=-1, probability=False, random_state=None, shrinking=True,\n",
       "  tol=0.001, verbose=False)"
      ]
     },
     "execution_count": 6,
     "metadata": {},
     "output_type": "execute_result"
    }
   ],
   "source": [
    "SVM_model = SVC(gamma=0.001)\n",
    "SVM_model.fit( X_train_svm, Y_train)"
   ]
  },
  {
   "cell_type": "code",
   "execution_count": 7,
   "metadata": {},
   "outputs": [
    {
     "name": "stdout",
     "output_type": "stream",
     "text": [
      "SVM Accuracy:   64.83%\n",
      "SVM Error:      35.17%\n"
     ]
    }
   ],
   "source": [
    "predictOutput = SVM_model.predict(X_test_svm)\n",
    "svm_acc = metrics.accuracy_score(y_true=Y_test, y_pred=predictOutput)\n",
    "\n",
    "print 'SVM Accuracy: {: >7.2f}%'.format(svm_acc * 100)\n",
    "print 'SVM Error: {: >10.2f}%'.format(100 - svm_acc * 100)"
   ]
  },
  {
   "cell_type": "code",
   "execution_count": 8,
   "metadata": {},
   "outputs": [
    {
     "name": "stdout",
     "output_type": "stream",
     "text": [
      "Normalized confusion matrix\n",
      "[[ 0.78  0.13  0.09]\n",
      " [ 0.07  0.56  0.37]\n",
      " [ 0.27  0.14  0.58]]\n"
     ]
    },
    {
     "data": {
      "image/png": "[encoded data removed]",
      "text/plain": [
       "<matplotlib.figure.Figure at 0x12f453e90>"
      ]
     },
     "metadata": {},
     "output_type": "display_data"
    }
   ],
   "source": [
    "svm_matrix = skm.confusion_matrix(y_true=Y_test, y_pred=predictOutput)\n",
    "numBC = bc.reverseDict(cats)\n",
    "class_names = numBC.values()\n",
    "\n",
    "plt.figure(figsize=(8,6))\n",
    "bc.plot_confusion_matrix(svm_matrix, classes=class_names, normalize=True, \n",
    "                         title='SVM Normalized Confusion Matrix Using Differencing \\n')\n",
    "plt.savefig('./cm_figures/jn_SVM_3Class_Diff_CM_20170508.png', dpi=100)"
   ]
  },
  {
   "cell_type": "markdown",
   "metadata": {},
   "source": [
    "<h2>CNN Modelling Using VGG16 in Transfer Learning</h2>"
   ]
  },
  {
   "cell_type": "code",
   "execution_count": 9,
   "metadata": {
    "collapsed": true
   },
   "outputs": [],
   "source": [
    "def VGG_Prep(img_data):\n",
    "    \"\"\"\n",
    "    :param img_data: training or test images of shape [#images, height, width]\n",
    "    :return: the array transformed to the correct shape for the VGG network\n",
    "                shape = [#images, height, width, 3] transforms to rgb and reshapes\n",
    "    \"\"\"\n",
    "    images = np.zeros([len(img_data), img_data.shape[1], img_data.shape[2], 3])\n",
    "    for i in range(0, len(img_data)):\n",
    "        im = (img_data[i] * 255)        # Original imagenet images were not rescaled\n",
    "        im = color.gray2rgb(im)\n",
    "        images[i] = im\n",
    "    return(images)"
   ]
  },
  {
   "cell_type": "code",
   "execution_count": 10,
   "metadata": {
    "collapsed": true
   },
   "outputs": [],
   "source": [
    "def vgg16_bottleneck(data, modelPath, fn_train_feats, fn_train_lbls, fn_test_feats, fn_test_lbls):\n",
    "    # Loading data\n",
    "    X_train, X_test, Y_train, Y_test = data\n",
    "    \n",
    "    print('Preparing the Training Data for the VGG_16 Model.')\n",
    "    X_train = VGG_Prep(X_train)\n",
    "    print('Preparing the Test Data for the VGG_16 Model')\n",
    "    X_test = VGG_Prep(X_test)\n",
    "        \n",
    "    print('Loading the VGG_16 Model')\n",
    "    # \"model\" excludes top layer of VGG16:\n",
    "    model = applications.VGG16(include_top=False, weights='imagenet') \n",
    "        \n",
    "    # Generating the bottleneck features for the training data\n",
    "    print('Evaluating the VGG_16 Model on the Training Data')\n",
    "    bottleneck_features_train = model.predict(X_train)\n",
    "    \n",
    "    # Saving the bottleneck features for the training data\n",
    "    featuresTrain = os.path.join(modelPath, fn_train_feats)\n",
    "    labelsTrain = os.path.join(modelPath, fn_train_lbls)\n",
    "    print('Saving the Training Data Bottleneck Features.')\n",
    "    np.save(open(featuresTrain, 'wb'), bottleneck_features_train)\n",
    "    np.save(open(labelsTrain, 'wb'), Y_train)\n",
    "\n",
    "    # Generating the bottleneck features for the test data\n",
    "    print('Evaluating the VGG_16 Model on the Test Data')\n",
    "    bottleneck_features_test = model.predict(X_test)\n",
    "    \n",
    "    # Saving the bottleneck features for the test data\n",
    "    featuresTest = os.path.join(modelPath, fn_test_feats)\n",
    "    labelsTest = os.path.join(modelPath, fn_test_lbls)\n",
    "    print('Saving the Test Data Bottleneck Feaures.')\n",
    "    np.save(open(featuresTest, 'wb'), bottleneck_features_test)\n",
    "    np.save(open(labelsTest, 'wb'), Y_test)"
   ]
  },
  {
   "cell_type": "code",
   "execution_count": 11,
   "metadata": {},
   "outputs": [
    {
     "name": "stdout",
     "output_type": "stream",
     "text": [
      "Preparing the Training Data for the VGG_16 Model.\n",
      "Preparing the Test Data for the VGG_16 Model\n",
      "Loading the VGG_16 Model\n",
      "Evaluating the VGG_16 Model on the Training Data\n",
      "Saving the Training Data Bottleneck Features.\n",
      "Evaluating the VGG_16 Model on the Test Data\n",
      "Saving the Test Data Bottleneck Feaures.\n"
     ]
    }
   ],
   "source": [
    "# Locations for the bottleneck and labels files that we need\n",
    "train_bottleneck = '3Class_VGG16_bottleneck_features_train.npy'\n",
    "train_labels     = '3Class_VGG16_labels_train.npy'\n",
    "test_bottleneck  = '3Class_VGG16_bottleneck_features_test.npy'\n",
    "test_labels      = '3Class_VGG16_labels_test.npy'\n",
    "modelPath = os.getcwd()\n",
    "\n",
    "top_model_weights_path = './weights/'\n",
    "\n",
    "np.random.seed(SEED)\n",
    "vgg16_bottleneck(data, modelPath, train_bottleneck, train_labels, test_bottleneck, test_labels)"
   ]
  },
  {
   "cell_type": "code",
   "execution_count": 12,
   "metadata": {
    "collapsed": true
   },
   "outputs": [],
   "source": [
    "def train_top_model(train_feats, train_lab, test_feats, test_lab, model_path, model_save, epoch = 50, batch = 64):\n",
    "    start_time = time.time()\n",
    "    \n",
    "    train_bottleneck = os.path.join(model_path, train_feats)\n",
    "    train_labels = os.path.join(model_path, train_lab)\n",
    "    test_bottleneck = os.path.join(model_path, test_feats)\n",
    "    test_labels = os.path.join(model_path, test_lab)\n",
    "    \n",
    "    history = bc.LossHistory()\n",
    "    \n",
    "    X_train = np.load(train_bottleneck)\n",
    "    Y_train = np.load(train_labels)\n",
    "    Y_train = np_utils.to_categorical(Y_train, num_classes=3)\n",
    "    \n",
    "    X_test = np.load(test_bottleneck)\n",
    "    Y_test = np.load(test_labels)\n",
    "    Y_test = np_utils.to_categorical(Y_test, num_classes=3)\n",
    "    \n",
    "    print X_train.shape\n",
    "    print X_test.shape\n",
    "    print Y_train.shape\n",
    "    print Y_test.shape\n",
    "    \n",
    "    print X_train.shape[1:]\n",
    "\n",
    "    model = Sequential()\n",
    "    model.add(Flatten(input_shape=X_train.shape[1:]))\n",
    "    model.add( Dropout(0.7))\n",
    "    \n",
    "    model.add( Dense(256, activation='relu', kernel_constraint= maxnorm(3.)) )\n",
    "    model.add( Dropout(0.5))\n",
    "    \n",
    "    # Softmax for probabilities for each class at the output layer\n",
    "    model.add( Dense(3, activation='softmax'))\n",
    "    \n",
    "    model.compile(optimizer='rmsprop',\n",
    "                  loss='categorical_crossentropy', \n",
    "                  metrics=['accuracy'])\n",
    "\n",
    "    model.fit(X_train, Y_train,\n",
    "              epochs=epoch,\n",
    "              batch_size=batch,\n",
    "              callbacks=[history],\n",
    "              validation_data=(X_test, Y_test),\n",
    "              verbose=2)\n",
    "    \n",
    "    print \"Training duration : {0}\".format(time.time() - start_time)\n",
    "    score = model.evaluate(X_test, Y_test, batch_size=16, verbose=2)\n",
    "\n",
    "    print \"Network's test score [loss, accuracy]: {0}\".format(score)\n",
    "    print 'CNN Error: {:.2f}%'.format(100 - score[1] * 100)\n",
    "    \n",
    "    bc.save_model(model_save, model, \"jn_VGG16_3_Class_top_weights.h5\")\n",
    "    \n",
    "    return model, history.losses, history.acc, score"
   ]
  },
  {
   "cell_type": "code",
   "execution_count": 13,
   "metadata": {},
   "outputs": [
    {
     "name": "stdout",
     "output_type": "stream",
     "text": [
      "(1524, 4, 4, 512)\n",
      "(509, 4, 4, 512)\n",
      "(1524, 3)\n",
      "(509, 3)\n",
      "(4, 4, 512)\n",
      "Train on 1524 samples, validate on 509 samples\n",
      "Epoch 1/100\n",
      "1s - loss: 5.7531 - acc: 0.5853 - val_loss: 6.0284 - val_acc: 0.5815\n",
      "Epoch 2/100\n",
      "1s - loss: 5.1352 - acc: 0.6339 - val_loss: 4.9878 - val_acc: 0.6444\n",
      "Epoch 3/100\n",
      "1s - loss: 5.1671 - acc: 0.6365 - val_loss: 4.9697 - val_acc: 0.6523\n",
      "Epoch 4/100\n",
      "1s - loss: 4.7842 - acc: 0.6673 - val_loss: 5.2104 - val_acc: 0.6365\n",
      "Epoch 5/100\n",
      "1s - loss: 4.7432 - acc: 0.6627 - val_loss: 4.8438 - val_acc: 0.6503\n",
      "Epoch 6/100\n",
      "1s - loss: 4.7053 - acc: 0.6673 - val_loss: 5.2823 - val_acc: 0.6306\n",
      "Epoch 7/100\n",
      "1s - loss: 4.5994 - acc: 0.6772 - val_loss: 4.9347 - val_acc: 0.6523\n",
      "Epoch 8/100\n",
      "1s - loss: 4.5386 - acc: 0.6791 - val_loss: 4.6144 - val_acc: 0.6640\n",
      "Epoch 9/100\n",
      "1s - loss: 4.1838 - acc: 0.6942 - val_loss: 4.4524 - val_acc: 0.6739\n",
      "Epoch 10/100\n",
      "1s - loss: 4.2259 - acc: 0.6890 - val_loss: 4.9654 - val_acc: 0.6483\n",
      "Epoch 11/100\n",
      "1s - loss: 4.1711 - acc: 0.6890 - val_loss: 5.0477 - val_acc: 0.6483\n",
      "Epoch 12/100\n",
      "0s - loss: 4.1394 - acc: 0.6903 - val_loss: 4.4866 - val_acc: 0.6483\n",
      "Epoch 13/100\n",
      "1s - loss: 3.9289 - acc: 0.6903 - val_loss: 3.8468 - val_acc: 0.6758\n",
      "Epoch 14/100\n",
      "1s - loss: 3.5128 - acc: 0.6949 - val_loss: 3.7272 - val_acc: 0.6464\n",
      "Epoch 15/100\n",
      "1s - loss: 3.1101 - acc: 0.6949 - val_loss: 3.0948 - val_acc: 0.6582\n",
      "Epoch 16/100\n",
      "1s - loss: 2.7073 - acc: 0.7021 - val_loss: 2.4923 - val_acc: 0.6680\n",
      "Epoch 17/100\n",
      "1s - loss: 2.3199 - acc: 0.7008 - val_loss: 1.9703 - val_acc: 0.6680\n",
      "Epoch 18/100\n",
      "1s - loss: 1.9770 - acc: 0.6962 - val_loss: 1.5912 - val_acc: 0.6503\n",
      "Epoch 19/100\n",
      "1s - loss: 1.7388 - acc: 0.6949 - val_loss: 1.2510 - val_acc: 0.6640\n",
      "Epoch 20/100\n",
      "1s - loss: 1.5246 - acc: 0.6890 - val_loss: 1.0400 - val_acc: 0.6542\n",
      "Epoch 21/100\n",
      "1s - loss: 1.3233 - acc: 0.6903 - val_loss: 1.0307 - val_acc: 0.6798\n",
      "Epoch 22/100\n",
      "1s - loss: 1.1340 - acc: 0.7047 - val_loss: 0.9787 - val_acc: 0.6660\n",
      "Epoch 23/100\n",
      "1s - loss: 1.0400 - acc: 0.6942 - val_loss: 0.9359 - val_acc: 0.6699\n",
      "Epoch 24/100\n",
      "1s - loss: 1.0469 - acc: 0.7047 - val_loss: 0.9161 - val_acc: 0.6424\n",
      "Epoch 25/100\n",
      "1s - loss: 1.0141 - acc: 0.7388 - val_loss: 0.8996 - val_acc: 0.6621\n",
      "Epoch 26/100\n",
      "1s - loss: 1.0295 - acc: 0.6988 - val_loss: 0.9123 - val_acc: 0.6582\n",
      "Epoch 27/100\n",
      "1s - loss: 0.9084 - acc: 0.7211 - val_loss: 0.8946 - val_acc: 0.6837\n",
      "Epoch 28/100\n",
      "1s - loss: 0.9609 - acc: 0.7316 - val_loss: 0.8823 - val_acc: 0.6306\n",
      "Epoch 29/100\n",
      "1s - loss: 0.8815 - acc: 0.7238 - val_loss: 0.9332 - val_acc: 0.6837\n",
      "Epoch 30/100\n",
      "1s - loss: 0.8639 - acc: 0.7349 - val_loss: 0.9568 - val_acc: 0.6994\n",
      "Epoch 31/100\n",
      "1s - loss: 0.8087 - acc: 0.7500 - val_loss: 0.9549 - val_acc: 0.6857\n",
      "Epoch 32/100\n",
      "1s - loss: 0.8732 - acc: 0.7362 - val_loss: 0.9808 - val_acc: 0.6719\n",
      "Epoch 33/100\n",
      "1s - loss: 0.8387 - acc: 0.7408 - val_loss: 0.9164 - val_acc: 0.6876\n",
      "Epoch 34/100\n",
      "1s - loss: 0.8178 - acc: 0.7487 - val_loss: 0.9636 - val_acc: 0.6739\n",
      "Epoch 35/100\n",
      "1s - loss: 0.8125 - acc: 0.7461 - val_loss: 1.0045 - val_acc: 0.6974\n",
      "Epoch 36/100\n",
      "1s - loss: 0.8396 - acc: 0.7448 - val_loss: 0.9303 - val_acc: 0.7014\n",
      "Epoch 37/100\n",
      "1s - loss: 0.7872 - acc: 0.7493 - val_loss: 0.9433 - val_acc: 0.7191\n",
      "Epoch 38/100\n",
      "1s - loss: 0.7738 - acc: 0.7723 - val_loss: 0.9834 - val_acc: 0.7014\n",
      "Epoch 39/100\n",
      "1s - loss: 0.7679 - acc: 0.7618 - val_loss: 1.0458 - val_acc: 0.6955\n",
      "Epoch 40/100\n",
      "1s - loss: 0.7785 - acc: 0.7657 - val_loss: 1.0419 - val_acc: 0.7014\n",
      "Epoch 41/100\n",
      "1s - loss: 0.7272 - acc: 0.7638 - val_loss: 0.9572 - val_acc: 0.7092\n",
      "Epoch 42/100\n",
      "1s - loss: 0.7021 - acc: 0.7841 - val_loss: 0.9696 - val_acc: 0.6955\n",
      "Epoch 43/100\n",
      "1s - loss: 0.6489 - acc: 0.7907 - val_loss: 1.0054 - val_acc: 0.6699\n",
      "Epoch 44/100\n",
      "1s - loss: 0.7114 - acc: 0.7756 - val_loss: 1.0065 - val_acc: 0.7092\n",
      "Epoch 45/100\n",
      "1s - loss: 0.6483 - acc: 0.7940 - val_loss: 1.0064 - val_acc: 0.7033\n",
      "Epoch 46/100\n",
      "1s - loss: 0.6818 - acc: 0.7717 - val_loss: 1.0009 - val_acc: 0.6994\n",
      "Epoch 47/100\n",
      "1s - loss: 0.6275 - acc: 0.7966 - val_loss: 1.0645 - val_acc: 0.6994\n",
      "Epoch 48/100\n",
      "1s - loss: 0.6693 - acc: 0.7953 - val_loss: 1.0880 - val_acc: 0.7112\n",
      "Epoch 49/100\n",
      "1s - loss: 0.5715 - acc: 0.8143 - val_loss: 1.0801 - val_acc: 0.7132\n",
      "Epoch 50/100\n",
      "1s - loss: 0.6797 - acc: 0.7979 - val_loss: 1.0360 - val_acc: 0.7073\n",
      "Epoch 51/100\n",
      "1s - loss: 0.6534 - acc: 0.7972 - val_loss: 0.9852 - val_acc: 0.7053\n",
      "Epoch 52/100\n",
      "1s - loss: 0.6002 - acc: 0.8084 - val_loss: 0.9751 - val_acc: 0.7092\n",
      "Epoch 53/100\n",
      "1s - loss: 0.5384 - acc: 0.8261 - val_loss: 1.0770 - val_acc: 0.7151\n",
      "Epoch 54/100\n",
      "1s - loss: 0.6009 - acc: 0.7953 - val_loss: 1.0171 - val_acc: 0.6994\n",
      "Epoch 55/100\n",
      "1s - loss: 0.5255 - acc: 0.8261 - val_loss: 1.0375 - val_acc: 0.7269\n",
      "Epoch 56/100\n",
      "1s - loss: 0.5539 - acc: 0.8209 - val_loss: 1.1658 - val_acc: 0.6876\n",
      "Epoch 57/100\n",
      "1s - loss: 0.5412 - acc: 0.8294 - val_loss: 1.0857 - val_acc: 0.7014\n",
      "Epoch 58/100\n",
      "1s - loss: 0.5665 - acc: 0.8163 - val_loss: 1.0848 - val_acc: 0.6974\n",
      "Epoch 59/100\n",
      "1s - loss: 0.5384 - acc: 0.8150 - val_loss: 1.1136 - val_acc: 0.6955\n",
      "Epoch 60/100\n",
      "1s - loss: 0.5827 - acc: 0.8294 - val_loss: 1.1019 - val_acc: 0.7073\n",
      "Epoch 61/100\n",
      "1s - loss: 0.5061 - acc: 0.8222 - val_loss: 1.1101 - val_acc: 0.7073\n",
      "Epoch 62/100\n",
      "1s - loss: 0.5199 - acc: 0.8360 - val_loss: 1.1321 - val_acc: 0.7073\n",
      "Epoch 63/100\n",
      "1s - loss: 0.4913 - acc: 0.8281 - val_loss: 1.1118 - val_acc: 0.7191\n",
      "Epoch 64/100\n",
      "1s - loss: 0.5756 - acc: 0.8222 - val_loss: 1.1228 - val_acc: 0.6857\n",
      "Epoch 65/100\n",
      "1s - loss: 0.5631 - acc: 0.8117 - val_loss: 1.0450 - val_acc: 0.7269\n",
      "Epoch 66/100\n",
      "1s - loss: 0.4953 - acc: 0.8307 - val_loss: 1.1331 - val_acc: 0.7210\n",
      "Epoch 67/100\n",
      "1s - loss: 0.5224 - acc: 0.8287 - val_loss: 1.1659 - val_acc: 0.7053\n",
      "Epoch 68/100\n",
      "1s - loss: 0.5118 - acc: 0.8314 - val_loss: 1.1252 - val_acc: 0.7269\n",
      "Epoch 69/100\n",
      "1s - loss: 0.5137 - acc: 0.8366 - val_loss: 1.2823 - val_acc: 0.7014\n",
      "Epoch 70/100\n",
      "1s - loss: 0.4933 - acc: 0.8465 - val_loss: 1.2017 - val_acc: 0.6994\n",
      "Epoch 71/100\n",
      "1s - loss: 0.5029 - acc: 0.8412 - val_loss: 1.1543 - val_acc: 0.7092\n",
      "Epoch 72/100\n",
      "1s - loss: 0.5078 - acc: 0.8373 - val_loss: 1.2009 - val_acc: 0.7033\n",
      "Epoch 73/100\n",
      "1s - loss: 0.4764 - acc: 0.8451 - val_loss: 1.2091 - val_acc: 0.7014\n",
      "Epoch 74/100\n",
      "1s - loss: 0.5205 - acc: 0.8406 - val_loss: 1.1632 - val_acc: 0.7092\n",
      "Epoch 75/100\n",
      "1s - loss: 0.4454 - acc: 0.8445 - val_loss: 1.2244 - val_acc: 0.7132\n",
      "Epoch 76/100\n",
      "1s - loss: 0.4777 - acc: 0.8517 - val_loss: 1.2263 - val_acc: 0.7033\n",
      "Epoch 77/100\n",
      "1s - loss: 0.5058 - acc: 0.8412 - val_loss: 1.1214 - val_acc: 0.7092\n",
      "Epoch 78/100\n",
      "1s - loss: 0.4601 - acc: 0.8419 - val_loss: 1.1419 - val_acc: 0.7250\n",
      "Epoch 79/100\n",
      "1s - loss: 0.4682 - acc: 0.8537 - val_loss: 1.2456 - val_acc: 0.7092\n",
      "Epoch 80/100\n",
      "1s - loss: 0.4926 - acc: 0.8484 - val_loss: 1.2108 - val_acc: 0.6994\n",
      "Epoch 81/100\n",
      "1s - loss: 0.4539 - acc: 0.8497 - val_loss: 1.2249 - val_acc: 0.7210\n",
      "Epoch 82/100\n",
      "1s - loss: 0.4586 - acc: 0.8629 - val_loss: 1.2151 - val_acc: 0.7092\n",
      "Epoch 83/100\n",
      "1s - loss: 0.4827 - acc: 0.8406 - val_loss: 1.1194 - val_acc: 0.7210\n",
      "Epoch 84/100\n",
      "1s - loss: 0.4174 - acc: 0.8655 - val_loss: 1.2048 - val_acc: 0.7250\n",
      "Epoch 85/100\n",
      "1s - loss: 0.4297 - acc: 0.8661 - val_loss: 1.2766 - val_acc: 0.6994\n",
      "Epoch 86/100\n",
      "1s - loss: 0.4450 - acc: 0.8602 - val_loss: 1.2424 - val_acc: 0.7308\n",
      "Epoch 87/100\n",
      "1s - loss: 0.4630 - acc: 0.8648 - val_loss: 1.1990 - val_acc: 0.7230\n",
      "Epoch 88/100\n",
      "1s - loss: 0.4253 - acc: 0.8675 - val_loss: 1.2937 - val_acc: 0.7112\n",
      "Epoch 89/100\n",
      "1s - loss: 0.4264 - acc: 0.8589 - val_loss: 1.3275 - val_acc: 0.7092\n",
      "Epoch 90/100\n",
      "1s - loss: 0.4624 - acc: 0.8576 - val_loss: 1.3060 - val_acc: 0.7053\n",
      "Epoch 91/100\n",
      "1s - loss: 0.4545 - acc: 0.8583 - val_loss: 1.2975 - val_acc: 0.6994\n",
      "Epoch 92/100\n",
      "1s - loss: 0.4198 - acc: 0.8773 - val_loss: 1.3505 - val_acc: 0.7014\n",
      "Epoch 93/100\n",
      "1s - loss: 0.3862 - acc: 0.8537 - val_loss: 1.3618 - val_acc: 0.7210\n",
      "Epoch 94/100\n",
      "1s - loss: 0.4062 - acc: 0.8753 - val_loss: 1.3789 - val_acc: 0.7210\n",
      "Epoch 95/100\n",
      "1s - loss: 0.3814 - acc: 0.8819 - val_loss: 1.4321 - val_acc: 0.6916\n",
      "Epoch 96/100\n",
      "1s - loss: 0.4786 - acc: 0.8688 - val_loss: 1.3005 - val_acc: 0.7033\n",
      "Epoch 97/100\n",
      "1s - loss: 0.4193 - acc: 0.8773 - val_loss: 1.3793 - val_acc: 0.7033\n",
      "Epoch 98/100\n",
      "1s - loss: 0.4224 - acc: 0.8799 - val_loss: 1.4586 - val_acc: 0.7053\n",
      "Epoch 99/100\n",
      "1s - loss: 0.3828 - acc: 0.8806 - val_loss: 1.2966 - val_acc: 0.7053\n",
      "Epoch 100/100\n"
     ]
    },
    {
     "name": "stdout",
     "output_type": "stream",
     "text": [
      "1s - loss: 0.4415 - acc: 0.8681 - val_loss: 1.3363 - val_acc: 0.7033\n",
      "Training duration : 127.989173174\n",
      "Network's test score [loss, accuracy]: [1.3362679822271606, 0.70333988247311185]\n",
      "CNN Error: 29.67%\n",
      "Model and Weights Saved to Disk\n"
     ]
    },
    {
     "data": {
      "text/plain": [
       "<matplotlib.figure.Figure at 0x12ae75f50>"
      ]
     },
     "metadata": {},
     "output_type": "display_data"
    },
    {
     "data": {
      "image/png": "[encoded data removed]",
      "text/plain": [
       "<matplotlib.figure.Figure at 0x12b4741d0>"
      ]
     },
     "metadata": {},
     "output_type": "display_data"
    }
   ],
   "source": [
    "np.random.seed(SEED)\n",
    "(trans_model, loss_cnn, acc_cnn, test_score_cnn) = train_top_model(train_feats=train_bottleneck,\n",
    "                                                                   train_lab=train_labels, \n",
    "                                                                   test_feats=test_bottleneck, \n",
    "                                                                   test_lab=test_labels,\n",
    "                                                                   model_path=modelPath, \n",
    "                                                                   model_save=top_model_weights_path,\n",
    "                                                                   epoch=100)\n",
    "\n",
    "plt.figure(figsize=(10,10))\n",
    "bc.plot_losses(loss_cnn, acc_cnn)\n",
    "plt.savefig('./epoch_figures/jn_Transfer_3Class_Learning_20170508.png', dpi=100)"
   ]
  },
  {
   "cell_type": "code",
   "execution_count": 14,
   "metadata": {},
   "outputs": [
    {
     "name": "stdout",
     "output_type": "stream",
     "text": [
      "Transfer Learning CNN Accuracy:   70.33%\n",
      "Transfer Learning CNN Error:      29.67%\n",
      "Normalized confusion matrix\n",
      "[[ 0.87  0.05  0.08]\n",
      " [ 0.09  0.6   0.31]\n",
      " [ 0.25  0.13  0.62]]\n"
     ]
    },
    {
     "data": {
      "image/png": "[encoded data removed]",
      "text/plain": [
       "<matplotlib.figure.Figure at 0x12f164b90>"
      ]
     },
     "metadata": {},
     "output_type": "display_data"
    }
   ],
   "source": [
    "print 'Transfer Learning CNN Accuracy: {: >7.2f}%'.format(test_score_cnn[1] * 100)\n",
    "print 'Transfer Learning CNN Error: {: >10.2f}%'.format(100 - test_score_cnn[1] * 100)\n",
    "\n",
    "predictOutput = bc.predict(trans_model, np.load(test_bottleneck))\n",
    "trans_matrix = skm.confusion_matrix(y_true=Y_test, y_pred=predictOutput)\n",
    "\n",
    "plt.figure(figsize=(8,6))\n",
    "bc.plot_confusion_matrix(trans_matrix, classes=class_names, normalize=True,\n",
    "                         title='Transfer CNN Normalized Confusion Matrix Using Differencing \\n')\n",
    "plt.tight_layout()\n",
    "plt.savefig('./cm_figures/jn_Transfer_3Class_Diff_CM_20170508.png', dpi=100)"
   ]
  },
  {
   "cell_type": "markdown",
   "metadata": {
    "collapsed": true
   },
   "source": [
    "*Note - overall accuracy in the 3 class situation, is actually improved if using an unbalanced data set (~73%). Just a sign of the fact that we have very limited data here.*"
   ]
  },
  {
   "cell_type": "markdown",
   "metadata": {},
   "source": [
    "<h2>Core CNN Modelling</h2>"
   ]
  },
  {
   "cell_type": "markdown",
   "metadata": {},
   "source": [
    "**Prep and package the data for Keras processing:**"
   ]
  },
  {
   "cell_type": "code",
   "execution_count": 15,
   "metadata": {},
   "outputs": [
    {
     "name": "stdout",
     "output_type": "stream",
     "text": [
      "Prep data for NNs ...\n",
      "Data Prepped for Neural Nets.\n",
      "(1524, 1, 150, 150)\n",
      "(509, 1, 150, 150)\n",
      "(1524, 3)\n",
      "(509, 3)\n"
     ]
    }
   ],
   "source": [
    "data = [X_train, X_test, Y_train, Y_test]\n",
    "X_train, X_test, Y_train, Y_test = bc.prep_data(data, cats)\n",
    "data = [X_train, X_test, Y_train, Y_test]\n",
    "\n",
    "print X_train.shape\n",
    "print X_test.shape\n",
    "print Y_train.shape\n",
    "print Y_test.shape"
   ]
  },
  {
   "cell_type": "markdown",
   "metadata": {},
   "source": [
    "**Heavy Regularization**"
   ]
  },
  {
   "cell_type": "code",
   "execution_count": 16,
   "metadata": {
    "collapsed": true
   },
   "outputs": [],
   "source": [
    "def diff_model_v7_reg(numClasses, input_shape=(3, 150,150), add_noise=False, noise=0.01, verbose=False):\n",
    "    model = Sequential()\n",
    "    if (add_noise):\n",
    "        model.add( GaussianNoise(noise, input_shape=input_shape))\n",
    "        model.add( Convolution2D(filters=16, \n",
    "                                 kernel_size=(5,5), \n",
    "                                 data_format='channels_first',\n",
    "                                 padding='same',\n",
    "                                 activation='relu'))\n",
    "    else:\n",
    "        model.add( Convolution2D(filters=16, \n",
    "                                 kernel_size=(5,5), \n",
    "                                 data_format='channels_first',\n",
    "                                 padding='same',\n",
    "                                 activation='relu',\n",
    "                                 input_shape=input_shape))\n",
    "    model.add( Dropout(0.7))\n",
    "    \n",
    "    model.add( Convolution2D(filters=32, kernel_size=(3,3), \n",
    "                             data_format='channels_first', padding='same', activation='relu'))\n",
    "    model.add( MaxPooling2D(pool_size= (2,2), data_format='channels_first'))\n",
    "    model.add( Dropout(0.4))\n",
    "    model.add( Convolution2D(filters=32, kernel_size=(3,3), \n",
    "                             data_format='channels_first', activation='relu'))\n",
    "    \n",
    "    model.add( Convolution2D(filters=64, kernel_size=(3,3), \n",
    "                             data_format='channels_first', padding='same', activation='relu',\n",
    "                             kernel_regularizer=regularizers.l2(0.01)))\n",
    "    model.add( MaxPooling2D(pool_size= (2,2), data_format='channels_first'))\n",
    "    model.add( Convolution2D(filters=64, kernel_size=(3,3), \n",
    "                             data_format='channels_first', activation='relu',\n",
    "                             kernel_regularizer=regularizers.l2(0.01)))\n",
    "    model.add( Dropout(0.4))\n",
    "    \n",
    "    model.add( Convolution2D(filters=128, kernel_size=(3,3), \n",
    "                             data_format='channels_first', padding='same', activation='relu',\n",
    "                             kernel_regularizer=regularizers.l2(0.01)))\n",
    "    model.add( MaxPooling2D(pool_size= (2,2), data_format='channels_first'))\n",
    "    \n",
    "    model.add( Convolution2D(filters=128, kernel_size=(3,3), \n",
    "                             data_format='channels_first', activation='relu',\n",
    "                             kernel_regularizer=regularizers.l2(0.01)))\n",
    "    model.add(Dropout(0.4))\n",
    "    \n",
    "    model.add( Flatten())\n",
    "    \n",
    "    model.add( Dense(128, activation='relu', kernel_constraint= maxnorm(3.)) )\n",
    "    model.add( Dropout(0.4))\n",
    "    \n",
    "    model.add( Dense(64, activation='relu', kernel_constraint= maxnorm(3.)) )\n",
    "    model.add( Dropout(0.4))\n",
    "    \n",
    "    # Softmax for probabilities for each class at the output layer\n",
    "    model.add( Dense(numClasses, activation='softmax'))\n",
    "    \n",
    "    if verbose:\n",
    "        print( model.summary() )\n",
    "    \n",
    "    model.compile(loss='categorical_crossentropy',\n",
    "                  optimizer='rmsprop',\n",
    "                  metrics=['accuracy'])\n",
    "    return model"
   ]
  },
  {
   "cell_type": "code",
   "execution_count": 17,
   "metadata": {},
   "outputs": [
    {
     "name": "stdout",
     "output_type": "stream",
     "text": [
      "_________________________________________________________________\n",
      "Layer (type)                 Output Shape              Param #   \n",
      "=================================================================\n",
      "gaussian_noise_1 (GaussianNo (None, 1, 150, 150)       0         \n",
      "_________________________________________________________________\n",
      "conv2d_1 (Conv2D)            (None, 16, 150, 150)      416       \n",
      "_________________________________________________________________\n",
      "dropout_3 (Dropout)          (None, 16, 150, 150)      0         \n",
      "_________________________________________________________________\n",
      "conv2d_2 (Conv2D)            (None, 32, 150, 150)      4640      \n",
      "_________________________________________________________________\n",
      "max_pooling2d_1 (MaxPooling2 (None, 32, 75, 75)        0         \n",
      "_________________________________________________________________\n",
      "dropout_4 (Dropout)          (None, 32, 75, 75)        0         \n",
      "_________________________________________________________________\n",
      "conv2d_3 (Conv2D)            (None, 32, 73, 73)        9248      \n",
      "_________________________________________________________________\n",
      "conv2d_4 (Conv2D)            (None, 64, 73, 73)        18496     \n",
      "_________________________________________________________________\n",
      "max_pooling2d_2 (MaxPooling2 (None, 64, 36, 36)        0         \n",
      "_________________________________________________________________\n",
      "conv2d_5 (Conv2D)            (None, 64, 34, 34)        36928     \n",
      "_________________________________________________________________\n",
      "dropout_5 (Dropout)          (None, 64, 34, 34)        0         \n",
      "_________________________________________________________________\n",
      "conv2d_6 (Conv2D)            (None, 128, 34, 34)       73856     \n",
      "_________________________________________________________________\n",
      "max_pooling2d_3 (MaxPooling2 (None, 128, 17, 17)       0         \n",
      "_________________________________________________________________\n",
      "conv2d_7 (Conv2D)            (None, 128, 15, 15)       147584    \n",
      "_________________________________________________________________\n",
      "dropout_6 (Dropout)          (None, 128, 15, 15)       0         \n",
      "_________________________________________________________________\n",
      "flatten_2 (Flatten)          (None, 28800)             0         \n",
      "_________________________________________________________________\n",
      "dense_3 (Dense)              (None, 128)               3686528   \n",
      "_________________________________________________________________\n",
      "dropout_7 (Dropout)          (None, 128)               0         \n",
      "_________________________________________________________________\n",
      "dense_4 (Dense)              (None, 64)                8256      \n",
      "_________________________________________________________________\n",
      "dropout_8 (Dropout)          (None, 64)                0         \n",
      "_________________________________________________________________\n",
      "dense_5 (Dense)              (None, 3)                 195       \n",
      "=================================================================\n",
      "Total params: 3,986,147\n",
      "Trainable params: 3,986,147\n",
      "Non-trainable params: 0\n",
      "_________________________________________________________________\n",
      "None\n"
     ]
    }
   ],
   "source": [
    "diff_model7_noise_reg = diff_model_v7_reg(len(cats),\n",
    "                                          input_shape=(X_train.shape[1], X_train.shape[2], X_train.shape[3]),\n",
    "                                          add_noise=True, verbose=True)"
   ]
  },
  {
   "cell_type": "code",
   "execution_count": 18,
   "metadata": {},
   "outputs": [
    {
     "name": "stdout",
     "output_type": "stream",
     "text": [
      "Training model...\n",
      "Train on 1524 samples, validate on 509 samples\n",
      "Epoch 1/50\n",
      "159s - loss: 2.5998 - acc: 0.4849 - val_loss: 1.7380 - val_acc: 0.5029\n",
      "Epoch 2/50\n",
      "150s - loss: 1.3163 - acc: 0.5879 - val_loss: 1.2184 - val_acc: 0.4637\n",
      "Epoch 3/50\n",
      "149s - loss: 0.9864 - acc: 0.6076 - val_loss: 1.0117 - val_acc: 0.5521\n",
      "Epoch 4/50\n",
      "150s - loss: 0.8883 - acc: 0.6220 - val_loss: 0.9381 - val_acc: 0.5599\n",
      "Epoch 5/50\n",
      "150s - loss: 0.8599 - acc: 0.6306 - val_loss: 1.1585 - val_acc: 0.4204\n",
      "Epoch 6/50\n",
      "149s - loss: 0.8531 - acc: 0.6444 - val_loss: 0.9522 - val_acc: 0.5756\n",
      "Epoch 7/50\n",
      "149s - loss: 0.8315 - acc: 0.6614 - val_loss: 1.2330 - val_acc: 0.3615\n",
      "Epoch 8/50\n",
      "148s - loss: 0.8348 - acc: 0.6385 - val_loss: 0.9313 - val_acc: 0.5894\n",
      "Epoch 9/50\n",
      "151s - loss: 0.8140 - acc: 0.6640 - val_loss: 0.8924 - val_acc: 0.5933\n",
      "Epoch 10/50\n",
      "149s - loss: 0.7969 - acc: 0.6634 - val_loss: 0.9489 - val_acc: 0.5737\n",
      "Epoch 11/50\n",
      "149s - loss: 0.7957 - acc: 0.6647 - val_loss: 0.9103 - val_acc: 0.6149\n",
      "Epoch 12/50\n",
      "149s - loss: 0.7685 - acc: 0.6877 - val_loss: 1.0011 - val_acc: 0.4754\n",
      "Epoch 13/50\n",
      "149s - loss: 0.7698 - acc: 0.6726 - val_loss: 0.9152 - val_acc: 0.6071\n",
      "Epoch 14/50\n",
      "148s - loss: 0.7558 - acc: 0.6995 - val_loss: 0.9099 - val_acc: 0.5933\n",
      "Epoch 15/50\n",
      "149s - loss: 0.7514 - acc: 0.6772 - val_loss: 0.9690 - val_acc: 0.6110\n",
      "Epoch 16/50\n",
      "150s - loss: 0.7582 - acc: 0.6818 - val_loss: 0.9936 - val_acc: 0.5540\n",
      "Epoch 17/50\n",
      "156s - loss: 0.7227 - acc: 0.6936 - val_loss: 1.0444 - val_acc: 0.5462\n",
      "Epoch 18/50\n",
      "152s - loss: 0.7286 - acc: 0.6955 - val_loss: 0.9667 - val_acc: 0.5501\n",
      "Epoch 19/50\n",
      "152s - loss: 0.7275 - acc: 0.6949 - val_loss: 0.9133 - val_acc: 0.6169\n",
      "Epoch 20/50\n",
      "154s - loss: 0.7340 - acc: 0.6909 - val_loss: 0.8872 - val_acc: 0.6346\n",
      "Epoch 21/50\n",
      "152s - loss: 0.7106 - acc: 0.7008 - val_loss: 0.9189 - val_acc: 0.6130\n",
      "Epoch 22/50\n",
      "155s - loss: 0.6977 - acc: 0.7106 - val_loss: 0.9592 - val_acc: 0.6169\n",
      "Epoch 23/50\n",
      "156s - loss: 0.7004 - acc: 0.6982 - val_loss: 0.9596 - val_acc: 0.6110\n",
      "Epoch 24/50\n",
      "150s - loss: 0.6865 - acc: 0.7093 - val_loss: 0.9149 - val_acc: 0.6110\n",
      "Epoch 25/50\n",
      "150s - loss: 0.6704 - acc: 0.7211 - val_loss: 0.9402 - val_acc: 0.6228\n",
      "Epoch 26/50\n",
      "150s - loss: 0.6779 - acc: 0.7270 - val_loss: 0.9787 - val_acc: 0.6248\n",
      "Epoch 27/50\n",
      "150s - loss: 0.6852 - acc: 0.7192 - val_loss: 1.1175 - val_acc: 0.6169\n",
      "Epoch 28/50\n",
      "151s - loss: 0.6600 - acc: 0.7297 - val_loss: 0.8978 - val_acc: 0.6365\n",
      "Epoch 29/50\n",
      "151s - loss: 0.6589 - acc: 0.7231 - val_loss: 0.9343 - val_acc: 0.6149\n",
      "Epoch 30/50\n",
      "151s - loss: 0.6470 - acc: 0.7362 - val_loss: 0.9609 - val_acc: 0.6051\n",
      "Epoch 31/50\n",
      "152s - loss: 0.6107 - acc: 0.7448 - val_loss: 1.1614 - val_acc: 0.6012\n",
      "Epoch 32/50\n",
      "152s - loss: 0.6156 - acc: 0.7369 - val_loss: 0.9819 - val_acc: 0.5953\n",
      "Epoch 33/50\n",
      "158s - loss: 0.6152 - acc: 0.7421 - val_loss: 1.0347 - val_acc: 0.6208\n",
      "Epoch 34/50\n",
      "154s - loss: 0.6219 - acc: 0.7454 - val_loss: 1.0373 - val_acc: 0.6169\n",
      "Epoch 35/50\n",
      "153s - loss: 0.5809 - acc: 0.7657 - val_loss: 0.8993 - val_acc: 0.6306\n",
      "Epoch 36/50\n",
      "152s - loss: 0.5968 - acc: 0.7598 - val_loss: 0.8943 - val_acc: 0.6346\n",
      "Epoch 37/50\n",
      "152s - loss: 0.5895 - acc: 0.7572 - val_loss: 0.9579 - val_acc: 0.6130\n",
      "Epoch 38/50\n",
      "153s - loss: 0.5718 - acc: 0.7776 - val_loss: 1.0532 - val_acc: 0.5992\n",
      "Epoch 39/50\n",
      "161s - loss: 0.5915 - acc: 0.7566 - val_loss: 1.0334 - val_acc: 0.5972\n",
      "Epoch 40/50\n",
      "157s - loss: 0.5570 - acc: 0.7848 - val_loss: 0.9698 - val_acc: 0.6169\n",
      "Epoch 41/50\n",
      "152s - loss: 0.5663 - acc: 0.7762 - val_loss: 1.0669 - val_acc: 0.6051\n",
      "Epoch 42/50\n",
      "151s - loss: 0.5619 - acc: 0.7822 - val_loss: 1.1678 - val_acc: 0.5678\n",
      "Epoch 43/50\n",
      "152s - loss: 0.5622 - acc: 0.7749 - val_loss: 0.9096 - val_acc: 0.6405\n",
      "Epoch 44/50\n",
      "151s - loss: 0.5465 - acc: 0.7822 - val_loss: 0.9366 - val_acc: 0.6365\n",
      "Epoch 45/50\n",
      "153s - loss: 0.5314 - acc: 0.7933 - val_loss: 0.8956 - val_acc: 0.6189\n",
      "Epoch 46/50\n",
      "161s - loss: 0.5170 - acc: 0.7999 - val_loss: 0.9711 - val_acc: 0.6287\n",
      "Epoch 47/50\n",
      "156s - loss: 0.5194 - acc: 0.7999 - val_loss: 0.9789 - val_acc: 0.6287\n",
      "Epoch 48/50\n",
      "158s - loss: 0.5361 - acc: 0.7802 - val_loss: 1.0630 - val_acc: 0.6130\n",
      "Epoch 49/50\n",
      "153s - loss: 0.4952 - acc: 0.8031 - val_loss: 1.0513 - val_acc: 0.5992\n",
      "Epoch 50/50\n",
      "153s - loss: 0.4884 - acc: 0.8136 - val_loss: 1.0616 - val_acc: 0.6208\n",
      "Training duration : 7643.40065598\n",
      "Network's test score [loss, accuracy]: [1.0616047529902579, 0.62082514781614651]\n",
      "CNN Error: 37.92%\n"
     ]
    },
    {
     "data": {
      "text/plain": [
       "<matplotlib.figure.Figure at 0x129220950>"
      ]
     },
     "metadata": {},
     "output_type": "display_data"
    },
    {
     "data": {
      "image/png": "[encoded data removed]",
      "text/plain": [
       "<matplotlib.figure.Figure at 0x127a24b50>"
      ]
     },
     "metadata": {},
     "output_type": "display_data"
    }
   ],
   "source": [
    "np.random.seed(SEED)\n",
    "\n",
    "(cnn_model, loss_cnn, acc_cnn, test_score_cnn) = bc.run_network(model=diff_model7_noise_reg, \n",
    "                                                                data=data, \n",
    "                                                                epochs=50, batch=64)\n",
    "plt.figure(figsize=(10,10))\n",
    "bc.plot_losses(loss_cnn, acc_cnn)\n",
    "plt.savefig('./epoch_figures/jn_Core_CNN_3Class_Learning_20170508.png', dpi=100)"
   ]
  },
  {
   "cell_type": "code",
   "execution_count": 19,
   "metadata": {},
   "outputs": [
    {
     "name": "stdout",
     "output_type": "stream",
     "text": [
      "Model and Weights Saved to Disk\n"
     ]
    }
   ],
   "source": [
    "bc.save_model(dir_path='./weights/', model=cnn_model, name='jn_Core_CNN_3Class_20170508')"
   ]
  },
  {
   "cell_type": "code",
   "execution_count": 20,
   "metadata": {},
   "outputs": [
    {
     "name": "stdout",
     "output_type": "stream",
     "text": [
      "Core CNN Accuracy:   62.08%\n",
      "Core CNN Error:      37.92%\n",
      "Normalized confusion matrix\n",
      "[[ 0.87  0.05  0.07]\n",
      " [ 0.08  0.52  0.41]\n",
      " [ 0.35  0.2   0.45]]\n"
     ]
    },
    {
     "data": {
      "image/png": "[encoded data removed]",
      "text/plain": [
       "<matplotlib.figure.Figure at 0x128108f10>"
      ]
     },
     "metadata": {},
     "output_type": "display_data"
    }
   ],
   "source": [
    "print 'Core CNN Accuracy: {: >7.2f}%'.format(test_score_cnn[1] * 100)\n",
    "print 'Core CNN Error: {: >10.2f}%'.format(100 - test_score_cnn[1] * 100)\n",
    "\n",
    "predictOutput = bc.predict(cnn_model, X_test)\n",
    "\n",
    "cnn_matrix = skm.confusion_matrix(y_true=[val.argmax() for val in Y_test], y_pred=predictOutput)\n",
    "\n",
    "plt.figure(figsize=(8,6))\n",
    "bc.plot_confusion_matrix(cnn_matrix, classes=class_names, normalize=True,\n",
    "                         title='CNN Normalized Confusion Matrix Using Differencing \\n')\n",
    "plt.tight_layout()\n",
    "plt.savefig('./cm_figures/jn_Core_CNN_3Class_CM_20170508.png', dpi=100)"
   ]
  },
  {
   "cell_type": "code",
   "execution_count": null,
   "metadata": {
    "collapsed": true
   },
   "outputs": [],
   "source": []
  }
 ],
 "metadata": {
  "kernelspec": {
   "display_name": "Python 2",
   "language": "python",
   "name": "python2"
  },
  "language_info": {
   "codemirror_mode": {
    "name": "ipython",
    "version": 2
   },
   "file_extension": ".py",
   "mimetype": "text/x-python",
   "name": "python",
   "nbconvert_exporter": "python",
   "pygments_lexer": "ipython2",
   "version": "2.7.13"
  }
 },
 "nbformat": 4,
 "nbformat_minor": 2
}
