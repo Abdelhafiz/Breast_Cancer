{
 "cells": [
  {
   "cell_type": "code",
   "execution_count": 1,
   "metadata": {
    "collapsed": false
   },
   "outputs": [
    {
     "name": "stderr",
     "output_type": "stream",
     "text": [
      "Using Theano backend.\n"
     ]
    }
   ],
   "source": [
    "import os\n",
    "import sys\n",
    "import numpy as np\n",
    "import keras.callbacks as cb\n",
    "import keras.utils.np_utils as np_utils\n",
    "from keras.preprocessing.image import ImageDataGenerator\n",
    "from keras.models import Sequential\n",
    "from keras.layers import Dropout, Flatten, Dense\n",
    "from keras.layers.core import Activation\n",
    "from keras import applications # For easy loading the VGG_16 Model\n",
    "from skimage import color\n",
    "import sklearn.metrics as skm\n",
    "import cv2\n",
    "# Image loading and other helper functions\n",
    "import dwdii_bc_model_helper as bc\n",
    "from matplotlib import pyplot as plt"
   ]
  },
  {
   "cell_type": "markdown",
   "metadata": {},
   "source": [
    "## Image_Augmentation\n",
    "The following function takes the 8bit grayscale images that we are using and performs a series of affine transformations to the images. There are vertical and horizontal flips along with rotations of 90, 270, 15, 30, and 45 degrees. Also included is a function for generating the rotations. Image augmentation needs to be performed before runnin the VGG_Prep function.  \n",
    "\n",
    "When calling the Image_Augmentation function setting the various flags to True will cause the transformation to be performed."
   ]
  },
  {
   "cell_type": "code",
   "execution_count": 3,
   "metadata": {
    "collapsed": true
   },
   "outputs": [],
   "source": [
    "# Function for rotating the image files.\n",
    "def Image_Rotate(img, angle):\n",
    "    \"\"\"\n",
    "    Rotates a given image the requested angle. Returns the rotated image.\n",
    "    \"\"\"\n",
    "    rows,cols = img.shape\n",
    "    M = cv2.getRotationMatrix2D((cols/2,rows/2), angle, 1)\n",
    "    return(cv2.warpAffine(img,M,(cols,rows)))\n",
    "\n",
    "# Function for augmenting the images\n",
    "def Image_Augment(X, Y, vflip=False, hflip=False, major_rotate=False, minor_rotate=False):\n",
    "    \"\"\"\n",
    "    :param  X np.array of images\n",
    "            Y np.array of labels\n",
    "            vflip, hflip, major_rotate, minor_rotate set to True to perform the augmentations\n",
    "    :return The set of augmented iages and their corresponding labels\n",
    "    \n",
    "    \"\"\"\n",
    "    if len(X) != len(Y):\n",
    "        print('Data and Label arrays not of the same length.')\n",
    "    \n",
    "    n = vflip + hflip + 2*major_rotate + 6*minor_rotate\n",
    "    augmented = np.zeros([len(X) + n*len(X), X.shape[1], X.shape[2]])\n",
    "    label = np.zeros([len(Y) + n*len(Y), 1])\n",
    "    count = 0\n",
    "    for i in range(0, len(X)):\n",
    "        augmented[count] = X[i]\n",
    "        label[count] = Y[i]\n",
    "        count += 1\n",
    "        if vflip:\n",
    "            aug = cv2.flip(X[i], 0)\n",
    "            augmented[count] = aug\n",
    "            label[count] = Y[i]\n",
    "            count += 1\n",
    "        if hflip:\n",
    "            aug = cv2.flip(X[i], 1)\n",
    "            augmented[count] = aug\n",
    "            label[count] = Y[i]\n",
    "            count +=1 \n",
    "        if major_rotate:\n",
    "            angles = [90, 270]\n",
    "            for angle in angles:\n",
    "                aug = Image_Rotate(X[i], angle)\n",
    "                augmented[count] = aug\n",
    "                label[count] = Y[i]\n",
    "                count += 1\n",
    "        if minor_rotate:\n",
    "            angles = [-45,-30,-15,15,30,45]\n",
    "            for angle in angles:\n",
    "                aug = Image_Rotate(X[i], angle)\n",
    "                augmented[count] = aug\n",
    "                label[count] = Y[i]\n",
    "                count += 1\n",
    "                \n",
    "    return(augmented, label)"
   ]
  },
  {
   "cell_type": "markdown",
   "metadata": {},
   "source": [
    "### VGG_Prep\n",
    "The following function takes the 8bit grayscale images that we are using and converts them to 8bit rgb while at the same time changing the pixles to a scale of 0 to 255. These image parameters are required by the VGG_16 model. "
   ]
  },
  {
   "cell_type": "code",
   "execution_count": 4,
   "metadata": {
    "collapsed": true
   },
   "outputs": [],
   "source": [
    "def VGG_Prep(img_data):\n",
    "    \"\"\"\n",
    "    :param img_data: training or test images of shape [#images, height, width]\n",
    "    :return: the array transformed to the correct shape for the VGG network\n",
    "                shape = [#images, height, width, 3] transforms to rgb and reshapes\n",
    "    \"\"\"\n",
    "    images = np.zeros([len(img_data), img_data.shape[1], img_data.shape[2], 3])\n",
    "    for i in range(0, len(img_data)):\n",
    "        im = 255 - (img_data[i] * 255)  # Orginal imagnet images were not rescaled\n",
    "        im = color.gray2rgb(im)\n",
    "        images[i] = im\n",
    "    return(images)"
   ]
  },
  {
   "cell_type": "markdown",
   "metadata": {},
   "source": [
    "### VGG_16 Bottleneck\n",
    "The following function leverages Daniel's image loader function and performs the following:\n",
    "1. Loads in the images using the train, test, and validation csv files.\n",
    "2. Prepares the images using the VGG_Prep function\n",
    "3. Loads the VGG_16 model with the cassification layers removed.\n",
    "4. Runs each of the images for the training, test, and validation sets (if included) through the model.\n",
    "5. Saves out .npy files containing the bottleneck features from the VGG_16 model predictions and the corresponding labels."
   ]
  },
  {
   "cell_type": "code",
   "execution_count": 5,
   "metadata": {
    "collapsed": false
   },
   "outputs": [],
   "source": [
    "def vgg16_bottleneck(trainPath, testPath, imagePath, modelPath, size, balance = True, verbose = True, \n",
    "                     verboseFreq = 50, valPath = 'None', transform = False, binary = False):\n",
    "    \n",
    "    categories = bc.bcNormVsAbnormNumerics()\n",
    "    \n",
    "    # Loading data\n",
    "    metaTr, metaTr2, mCountsTr = bc.load_training_metadata(trainPath, balance, verbose)\n",
    "    lenTrain = len(metaTr)\n",
    "    X_train, Y_train = bc.load_data(trainPath, imagePath, maxData = lenTrain,\n",
    "                                    categories=categories,\n",
    "                                    verboseFreq = verboseFreq, \n",
    "                                    imgResize=size, \n",
    "                                    normalVsAbnormal=binary)\n",
    "    \n",
    "    metaTest, meataT2, mCountsT = bc.load_training_metadata(testPath, balance, verbose)\n",
    "    lenTest = len(metaTest)\n",
    "    X_test, Y_test = bc.load_data(testPath, imagePath, maxData = lenTrain, \n",
    "                                  categories=categories,\n",
    "                                  verboseFreq = verboseFreq, \n",
    "                                  imgResize=size, \n",
    "                                  normalVsAbnormal=binary)\n",
    "    \n",
    "    if transform:\n",
    "        print('Transforming the Training Data')\n",
    "        X_train, Y_train = Image_Augment(X=X_train, Y=Y_train, hflip=True, vflip=True, minor_rotate=False, major_rotate=False)\n",
    "    \n",
    "    print('Preparing the Training Data for the VGG_16 Model.')\n",
    "    X_train = VGG_Prep(X_train)\n",
    "    print('Preparing the Test Data for the VGG_16 Model')\n",
    "    X_test = VGG_Prep(X_test)\n",
    "        \n",
    "    print('Loading the VGG_16 Model')\n",
    "    model = applications.VGG16(include_top=False, weights='imagenet')\n",
    "        \n",
    "    # Generating the bottleneck features for the training data\n",
    "    print('Evaluating the VGG_16 Model on the Training Data')\n",
    "    bottleneck_features_train = model.predict(X_train)\n",
    "    \n",
    "    # Saving the bottleneck features for the training data\n",
    "    featuresTrain = os.path.join(modelPath, 'bottleneck_features_train.npy')\n",
    "    labelsTrain = os.path.join(modelPath, 'labels_train.npy')\n",
    "    print('Saving the Training Data Bottleneck Features.')\n",
    "    np.save(open(featuresTrain, 'wb'), bottleneck_features_train)\n",
    "    np.save(open(labelsTrain, 'wb'), Y_train)\n",
    "\n",
    "    # Generating the bottleneck features for the test data\n",
    "    print('Evaluating the VGG_16 Model on the Test Data')\n",
    "    bottleneck_features_test = model.predict(X_test)\n",
    "    \n",
    "    # Saving the bottleneck features for the test data\n",
    "    featuresTest = os.path.join(modelPath, 'bottleneck_features_test.npy')\n",
    "    labelsTest = os.path.join(modelPath, 'labels_test.npy')\n",
    "    print('Saving the Test Data Bottleneck Feaures.')\n",
    "    np.save(open(featuresTest, 'wb'), bottleneck_features_test)\n",
    "    np.save(open(labelsTest, 'wb'), Y_test)\n",
    "    \n",
    "    if valPath != 'None':\n",
    "        metaVal, metaV2, mCountsV = bc.load_training_metadata(valPath, verbose = verbose, balanceViaRemoval = False)\n",
    "        lenVal = len(metaVal)\n",
    "        X_val, Y_val = bc.load_data(valPath, imagePath, maxData = lenVal, verboseFreq = verboseFreq, imgResize=size)\n",
    "        X_val = VGG_Prep(X_val)\n",
    "        \n",
    "        # Generating the bottleneck features for the test data\n",
    "        print('Evaluating the VGG_16 Model on the Validataion Data')\n",
    "        bottleneck_features_val = model.predict(X_val)\n",
    "    \n",
    "        # Saving the bottleneck features for the test data\n",
    "        featuresVal = os.path.join(modelPath, 'bottleneck_features_validation.npy')\n",
    "        labelsVal = os.path.join(modelPath, 'labels_validation.npy')\n",
    "        print('Saving the Validation Data Bottleneck Features.')\n",
    "        np.save(open(featuresVal, 'wb'), bottleneck_features_val)\n",
    "        np.save(open(labelsVal, 'wb'), Y_val)"
   ]
  },
  {
   "cell_type": "markdown",
   "metadata": {},
   "source": [
    "## Running the model on the Train, Test, and Validation Data\n",
    "1) The first test is on the rescaled and squared off images maintaining aspect ratio without the artifacts removed."
   ]
  },
  {
   "cell_type": "code",
   "execution_count": 31,
   "metadata": {
    "collapsed": true
   },
   "outputs": [],
   "source": [
    "# global variables for loading the data\n",
    "imagePath = '../images/threshold/DDSM/'\n",
    "trainDataPath = '../images/ddsm/ddsm_train.csv'\n",
    "testDataPath = '../images/ddsm/ddsm_test.csv'\n",
    "valDataPath = '../images/ddsm/ddsm_val.csv'\n",
    "imgResize = (224, 224) # can go up to (224, 224)\n",
    "modelPath = '../model/'"
   ]
  },
  {
   "cell_type": "code",
   "execution_count": 32,
   "metadata": {
    "collapsed": false,
    "scrolled": true
   },
   "outputs": [
    {
     "name": "stdout",
     "output_type": "stream",
     "text": [
      "Raw Balance\n",
      "----------------\n",
      "benign 531\n",
      "malignant 739\n",
      "normal 2685\n",
      "balanaceViaRemoval.avgE: 1318\n",
      "balanaceViaRemoval.theshold: 1318.0\n",
      "\n",
      "After Balancing\n",
      "----------------\n",
      "benign 531\n",
      "malignant 739\n",
      "normal 862\n",
      "Raw Balance\n",
      "----------------\n",
      "abnormal 1270\n",
      "normal 2685\n",
      "balanaceViaRemoval.avgE: 1977\n",
      "balanaceViaRemoval.theshold: 1977.0\n",
      "\n",
      "After Balancing\n",
      "----------------\n",
      "abnormal 1270\n",
      "normal 1623\n",
      "0.0000: A_0152_1.RIGHT_MLO.LJPEG.png\n",
      "Not Found: ../images/threshold/DDSM/1\\A_1033_1.LEFT_CC.LJPEG.png\n",
      "Not Found: ../images/threshold/DDSM/0\\A_0619_1.RIGHT_MLO.LJPEG.png\n",
      "Not Found: ../images/threshold/DDSM/1\\A_1087_1.RIGHT_CC.LJPEG.png\n",
      "Not Found: ../images/threshold/DDSM/0\\A_0022_1.RIGHT_MLO.LJPEG.png\n",
      "0.0235: A_1077_1.RIGHT_MLO.LJPEG.png\n",
      "Not Found: ../images/threshold/DDSM/0\\A_0491_1.RIGHT_CC.LJPEG.png\n",
      "Not Found: ../images/threshold/DDSM/0\\A_0124_1.RIGHT_CC.LJPEG.png\n",
      "Not Found: ../images/threshold/DDSM/1\\A_1010_1.RIGHT_CC.LJPEG.png\n",
      "0.0469: C_0130_1.LEFT_CC.LJPEG.png\n",
      "Not Found: ../images/threshold/DDSM/1\\A_1065_1.RIGHT_MLO.LJPEG.png\n",
      "0.0704: B_3435_1.LEFT_CC.LJPEG.png\n",
      "Not Found: ../images/threshold/DDSM/1\\A_1020_1.RIGHT_CC.LJPEG.png\n",
      "0.0938: A_0534_1.RIGHT_CC.LJPEG.png\n",
      "Not Found: ../images/threshold/DDSM/0\\A_0611_1.LEFT_CC.LJPEG.png\n",
      "Not Found: ../images/threshold/DDSM/0\\A_0598_1.RIGHT_MLO.LJPEG.png\n",
      "Not Found: ../images/threshold/DDSM/0\\C_0235_1.RIGHT_MLO.LJPEG.png\n",
      "Not Found: ../images/threshold/DDSM/1\\A_1016_1.LEFT_MLO.LJPEG.png\n",
      "Not Found: ../images/threshold/DDSM/1\\A_1029_1.RIGHT_MLO.LJPEG.png\n",
      "Not Found: ../images/threshold/DDSM/3\\B_3426_1.RIGHT_MLO.LJPEG.png\n",
      "Not Found: ../images/threshold/DDSM/1\\A_1029_1.LEFT_MLO.LJPEG.png\n",
      "Not Found: ../images/threshold/DDSM/1\\A_1100_1.LEFT_CC.LJPEG.png\n",
      "0.1173: A_0297_1.RIGHT_MLO.LJPEG.png\n",
      "Not Found: ../images/threshold/DDSM/1\\A_1060_1.LEFT_CC.LJPEG.png\n",
      "Not Found: ../images/threshold/DDSM/1\\A_1055_1.LEFT_CC.LJPEG.png\n",
      "Not Found: ../images/threshold/DDSM/1\\A_1097_1.LEFT_CC.LJPEG.png\n",
      "Not Found: ../images/threshold/DDSM/0\\A_0568_1.RIGHT_CC.LJPEG.png\n",
      "0.1407: A_1101_1.RIGHT_MLO.LJPEG.png\n",
      "Not Found: ../images/threshold/DDSM/0\\A_0493_1.LEFT_MLO.LJPEG.png\n",
      "0.1642: B_3646_1.RIGHT_MLO.LJPEG.png\n",
      "Not Found: ../images/threshold/DDSM/0\\C_0270_1.LEFT_CC.LJPEG.png\n",
      "Not Found: ../images/threshold/DDSM/1\\A_1011_1.RIGHT_MLO.LJPEG.png\n",
      "Not Found: ../images/threshold/DDSM/0\\A_0617_1.LEFT_MLO.LJPEG.png\n",
      "0.1876: A_1071_1.LEFT_MLO.LJPEG.png\n",
      "Not Found: ../images/threshold/DDSM/3\\B_3419_1.RIGHT_CC.LJPEG.png\n",
      "Not Found: ../images/threshold/DDSM/3\\B_3159_1.LEFT_CC.LJPEG.png\n",
      "Not Found: ../images/threshold/DDSM/0\\A_0341_1.LEFT_CC.LJPEG.png\n",
      "Not Found: ../images/threshold/DDSM/0\\A_0490_1.LEFT_CC.LJPEG.png\n",
      "Not Found: ../images/threshold/DDSM/0\\A_0500_1.RIGHT_MLO.LJPEG.png\n",
      "0.2111: A_0587_1.RIGHT_CC.LJPEG.png\n",
      "Not Found: ../images/threshold/DDSM/0\\A_0527_1.RIGHT_CC.LJPEG.png\n",
      "Not Found: ../images/threshold/DDSM/0\\A_0319_1.RIGHT_CC.LJPEG.png\n",
      "Not Found: ../images/threshold/DDSM/0\\A_0494_1.LEFT_CC.LJPEG.png\n",
      "Not Found: ../images/threshold/DDSM/0\\C_0247_1.LEFT_MLO.LJPEG.png\n",
      "Not Found: ../images/threshold/DDSM/1\\A_1029_1.RIGHT_CC.LJPEG.png\n",
      "0.2345: B_3657_1.LEFT_CC.LJPEG.png\n",
      "Not Found: ../images/threshold/DDSM/3\\B_3169_1.RIGHT_MLO.LJPEG.png\n",
      "Not Found: ../images/threshold/DDSM/1\\A_1008_1.LEFT_CC.LJPEG.png\n",
      "0.2580: C_0196_1.RIGHT_MLO.LJPEG.png\n",
      "Not Found: ../images/threshold/DDSM/3\\B_3484_1.RIGHT_MLO.LJPEG.png\n",
      "Not Found: ../images/threshold/DDSM/0\\A_0417_1.RIGHT_MLO.LJPEG.png\n",
      "Not Found: ../images/threshold/DDSM/1\\A_1060_1.RIGHT_CC.LJPEG.png\n",
      "0.2814: B_3120_1.RIGHT_CC.LJPEG.png\n",
      "Not Found: ../images/threshold/DDSM/1\\A_1079_1.LEFT_MLO.LJPEG.png\n",
      "Not Found: ../images/threshold/DDSM/1\\A_1043_1.LEFT_CC.LJPEG.png\n",
      "Not Found: ../images/threshold/DDSM/0\\A_0448_1.LEFT_CC.LJPEG.png\n",
      "Not Found: ../images/threshold/DDSM/1\\A_1020_1.LEFT_CC.LJPEG.png\n",
      "0.3049: C_0321_1.LEFT_MLO.LJPEG.png\n",
      "Not Found: ../images/threshold/DDSM/1\\A_1080_1.RIGHT_MLO.LJPEG.png\n",
      "Not Found: ../images/threshold/DDSM/0\\A_0492_1.RIGHT_MLO.LJPEG.png\n",
      "Not Found: ../images/threshold/DDSM/0\\A_0483_1.RIGHT_CC.LJPEG.png\n",
      "Not Found: ../images/threshold/DDSM/0\\A_0605_1.RIGHT_MLO.LJPEG.png\n",
      "0.3283: C_0257_1.LEFT_CC.LJPEG.png\n",
      "Not Found: ../images/threshold/DDSM/0\\A_0482_1.LEFT_CC.LJPEG.png\n",
      "Not Found: ../images/threshold/DDSM/1\\A_1004_1.LEFT_MLO.LJPEG.png\n",
      "Not Found: ../images/threshold/DDSM/0\\A_0576_1.RIGHT_CC.LJPEG.png\n",
      "Not Found: ../images/threshold/DDSM/0\\A_0606_1.LEFT_MLO.LJPEG.png\n",
      "Not Found: ../images/threshold/DDSM/3\\B_3169_1.LEFT_MLO.LJPEG.png\n",
      "0.3518: C_0394_1.LEFT_CC.LJPEG.png\n",
      "Not Found: ../images/threshold/DDSM/1\\A_1017_1.LEFT_MLO.LJPEG.png\n",
      "Not Found: ../images/threshold/DDSM/0\\A_0615_1.RIGHT_MLO.LJPEG.png\n",
      "0.3752: B_3087_1.LEFT_MLO.LJPEG.png\n",
      "Not Found: ../images/threshold/DDSM/1\\A_1093_1.RIGHT_CC.LJPEG.png\n",
      "Not Found: ../images/threshold/DDSM/0\\A_0610_1.RIGHT_MLO.LJPEG.png\n",
      "0.3987: B_3105_1.LEFT_MLO.LJPEG.png\n",
      "Not Found: ../images/threshold/DDSM/1\\A_1000_1.LEFT_MLO.LJPEG.png\n",
      "Not Found: ../images/threshold/DDSM/3\\B_3098_1.RIGHT_MLO.LJPEG.png\n",
      "Not Found: ../images/threshold/DDSM/1\\A_1020_1.LEFT_MLO.LJPEG.png\n",
      "Not Found: ../images/threshold/DDSM/0\\A_0508_1.LEFT_CC.LJPEG.png\n",
      "0.4221: B_3085_1.LEFT_CC.LJPEG.png\n",
      "Not Found: ../images/threshold/DDSM/0\\A_0589_1.LEFT_MLO.LJPEG.png\n",
      "0.4456: A_0124_1.LEFT_CC.LJPEG.png\n",
      "Not Found: ../images/threshold/DDSM/3\\B_3489_1.RIGHT_MLO.LJPEG.png\n",
      "0.4690: B_3135_1.RIGHT_CC.LJPEG.png\n",
      "0.4925: B_3679_1.RIGHT_MLO.LJPEG.png\n",
      "Not Found: ../images/threshold/DDSM/0\\C_0280_1.LEFT_CC.LJPEG.png\n",
      "0.5159: A_1082_1.RIGHT_CC.LJPEG.png\n",
      "Not Found: ../images/threshold/DDSM/1\\A_1010_1.LEFT_CC.LJPEG.png\n",
      "Not Found: ../images/threshold/DDSM/1\\A_1083_1.LEFT_CC.LJPEG.png\n",
      "0.5394: B_3377_1.RIGHT_CC.LJPEG.png\n",
      "Not Found: ../images/threshold/DDSM/0\\A_0589_1.RIGHT_MLO.LJPEG.png\n",
      "Not Found: ../images/threshold/DDSM/1\\A_1080_1.RIGHT_CC.LJPEG.png\n",
      "0.5629: A_0323_1.RIGHT_CC.LJPEG.png\n",
      "Not Found: ../images/threshold/DDSM/3\\B_3144_1.RIGHT_MLO.LJPEG.png\n",
      "Not Found: ../images/threshold/DDSM/1\\A_1090_1.LEFT_MLO.LJPEG.png\n",
      "Not Found: ../images/threshold/DDSM/3\\B_3419_1.RIGHT_MLO.LJPEG.png\n",
      "Not Found: ../images/threshold/DDSM/0\\C_0285_1.RIGHT_CC.LJPEG.png\n",
      "Not Found: ../images/threshold/DDSM/1\\A_1053_1.LEFT_MLO.LJPEG.png\n",
      "Not Found: ../images/threshold/DDSM/1\\A_1030_1.LEFT_MLO.LJPEG.png\n",
      "Not Found: ../images/threshold/DDSM/3\\B_3482_1.RIGHT_MLO.LJPEG.png\n",
      "0.5863: A_0519_1.LEFT_CC.LJPEG.png\n",
      "0.6098: C_0473_1.LEFT_MLO.LJPEG.png\n",
      "Not Found: ../images/threshold/DDSM/1\\A_1014_1.RIGHT_CC.LJPEG.png\n",
      "Not Found: ../images/threshold/DDSM/1\\A_1060_1.LEFT_MLO.LJPEG.png\n",
      "Not Found: ../images/threshold/DDSM/1\\A_1096_1.LEFT_MLO.LJPEG.png\n",
      "0.6332: A_0334_1.RIGHT_CC.LJPEG.png\n",
      "Not Found: ../images/threshold/DDSM/1\\A_1075_1.RIGHT_MLO.LJPEG.png\n",
      "Not Found: ../images/threshold/DDSM/0\\A_0341_1.LEFT_MLO.LJPEG.png\n",
      "Not Found: ../images/threshold/DDSM/0\\A_0417_1.LEFT_MLO.LJPEG.png\n",
      "0.6567: C_0411_1.LEFT_MLO.LJPEG.png\n",
      "Not Found: ../images/threshold/DDSM/0\\A_0542_1.RIGHT_MLO.LJPEG.png\n",
      "Not Found: ../images/threshold/DDSM/0\\A_0491_1.RIGHT_MLO.LJPEG.png\n",
      "Not Found: ../images/threshold/DDSM/1\\A_1029_1.LEFT_CC.LJPEG.png\n",
      "Not Found: ../images/threshold/DDSM/1\\A_1087_1.RIGHT_MLO.LJPEG.png\n",
      "0.6801: B_3410_1.LEFT_CC.LJPEG.png\n",
      "Not Found: ../images/threshold/DDSM/3\\B_3175_1.RIGHT_MLO.LJPEG.png\n",
      "Not Found: ../images/threshold/DDSM/0\\A_0484_1.RIGHT_MLO.LJPEG.png\n",
      "Not Found: ../images/threshold/DDSM/1\\A_1100_1.LEFT_MLO.LJPEG.png\n",
      "Not Found: ../images/threshold/DDSM/0\\A_0326_1.RIGHT_CC.LJPEG.png\n",
      "0.7036: B_3600_1.RIGHT_MLO.LJPEG.png\n",
      "Not Found: ../images/threshold/DDSM/0\\A_0574_1.RIGHT_MLO.LJPEG.png\n",
      "Not Found: ../images/threshold/DDSM/1\\A_1008_1.RIGHT_MLO.LJPEG.png\n",
      "Not Found: ../images/threshold/DDSM/1\\A_1017_1.RIGHT_MLO.LJPEG.png\n",
      "0.7270: C_0405_1.RIGHT_CC.LJPEG.png\n",
      "Not Found: ../images/threshold/DDSM/3\\B_3050_1.RIGHT_MLO.LJPEG.png\n",
      "Not Found: ../images/threshold/DDSM/1\\A_1008_1.LEFT_MLO.LJPEG.png\n",
      "Not Found: ../images/threshold/DDSM/1\\A_1100_1.RIGHT_MLO.LJPEG.png\n",
      "0.7505: A_1088_1.RIGHT_CC.LJPEG.png\n",
      "Not Found: ../images/threshold/DDSM/1\\A_1035_1.RIGHT_CC.LJPEG.png\n",
      "0.7739: B_3047_1.LEFT_MLO.LJPEG.png\n",
      "Not Found: ../images/threshold/DDSM/1\\A_1079_1.LEFT_CC.LJPEG.png\n",
      "Not Found: ../images/threshold/DDSM/1\\A_1011_1.LEFT_MLO.LJPEG.png\n",
      "0.7974: A_0115_1.LEFT_MLO.LJPEG.png\n",
      "Not Found: ../images/threshold/DDSM/1\\A_1075_1.LEFT_MLO.LJPEG.png\n",
      "Not Found: ../images/threshold/DDSM/1\\A_1031_1.LEFT_CC.LJPEG.png\n",
      "Not Found: ../images/threshold/DDSM/0\\C_0251_1.LEFT_MLO.LJPEG.png\n",
      "0.8208: B_3046_1.LEFT_MLO.LJPEG.png\n",
      "Not Found: ../images/threshold/DDSM/3\\B_3435_1.LEFT_MLO.LJPEG.png\n",
      "Not Found: ../images/threshold/DDSM/1\\A_1017_1.RIGHT_CC.LJPEG.png\n",
      "Not Found: ../images/threshold/DDSM/3\\B_3099_1.RIGHT_MLO.LJPEG.png\n",
      "Not Found: ../images/threshold/DDSM/1\\A_1006_1.LEFT_MLO.LJPEG.png\n",
      "0.8443: B_3482_1.LEFT_CC.LJPEG.png\n",
      "Not Found: ../images/threshold/DDSM/1\\A_1033_1.RIGHT_CC.LJPEG.png\n",
      "Not Found: ../images/threshold/DDSM/1\\A_1006_1.RIGHT_MLO.LJPEG.png\n",
      "Not Found: ../images/threshold/DDSM/1\\A_1090_1.LEFT_CC.LJPEG.png\n",
      "0.8677: A_1021_1.RIGHT_MLO.LJPEG.png\n",
      "Not Found: ../images/threshold/DDSM/3\\B_3175_1.RIGHT_CC.LJPEG.png\n",
      "0.8912: B_3058_1.LEFT_MLO.LJPEG.png\n",
      "Not Found: ../images/threshold/DDSM/1\\A_1063_1.LEFT_CC.LJPEG.png\n",
      "0.9146: C_0214_1.RIGHT_CC.LJPEG.png\n",
      "Not Found: ../images/threshold/DDSM/0\\A_0479_1.RIGHT_MLO.LJPEG.png\n",
      "Not Found: ../images/threshold/DDSM/1\\A_1031_1.LEFT_MLO.LJPEG.png\n",
      "Not Found: ../images/threshold/DDSM/0\\C_0245_1.LEFT_CC.LJPEG.png\n",
      "Not Found: ../images/threshold/DDSM/1\\A_1044_1.LEFT_MLO.LJPEG.png\n",
      "Not Found: ../images/threshold/DDSM/0\\A_0490_1.RIGHT_MLO.LJPEG.png\n",
      "0.9381: A_0581_1.LEFT_MLO.LJPEG.png\n",
      "Not Found: ../images/threshold/DDSM/1\\A_1014_1.RIGHT_MLO.LJPEG.png\n",
      "Not Found: ../images/threshold/DDSM/1\\A_1022_1.LEFT_MLO.LJPEG.png\n",
      "Not Found: ../images/threshold/DDSM/1\\A_1065_1.LEFT_CC.LJPEG.png\n",
      "0.9615: C_0200_1.LEFT_CC.LJPEG.png\n",
      "Not Found: ../images/threshold/DDSM/3\\B_3483_1.RIGHT_MLO.LJPEG.png\n",
      "0.9850: C_0025_1.RIGHT_CC.LJPEG.png\n",
      "Raw Balance\n",
      "----------------\n",
      "benign 142\n",
      "malignant 179\n",
      "normal 658\n",
      "balanaceViaRemoval.avgE: 326\n",
      "balanaceViaRemoval.theshold: 326.0\n",
      "\n",
      "After Balancing\n",
      "----------------\n",
      "benign 142\n",
      "malignant 179\n",
      "normal 215\n",
      "Raw Balance\n",
      "----------------\n",
      "abnormal 321\n",
      "normal 658\n",
      "balanaceViaRemoval.avgE: 489\n",
      "balanaceViaRemoval.theshold: 489.0\n",
      "\n",
      "After Balancing\n",
      "----------------\n",
      "abnormal 321\n",
      "normal 405\n",
      "0.0000: A_1105_1.RIGHT_CC.LJPEG.png\n",
      "Not Found: ../images/threshold/DDSM/1\\A_1043_1.RIGHT_CC.LJPEG.png\n",
      "Not Found: ../images/threshold/DDSM/1\\A_1053_1.RIGHT_CC.LJPEG.png\n",
      "Not Found: ../images/threshold/DDSM/3\\B_3495_1.RIGHT_MLO.LJPEG.png\n",
      "0.0235: A_1092_1.LEFT_CC.LJPEG.png\n",
      "Not Found: ../images/threshold/DDSM/1\\A_1019_1.LEFT_CC.LJPEG.png\n",
      "0.0469: A_0042_1.LEFT_MLO.LJPEG.png\n",
      "Not Found: ../images/threshold/DDSM/0\\A_0618_1.RIGHT_CC.LJPEG.png\n",
      "Not Found: ../images/threshold/DDSM/1\\A_1004_1.RIGHT_CC.LJPEG.png\n",
      "0.0704: A_1043_1.RIGHT_MLO.LJPEG.png\n",
      "Not Found: ../images/threshold/DDSM/1\\A_1044_1.RIGHT_CC.LJPEG.png\n",
      "Not Found: ../images/threshold/DDSM/3\\B_3443_1.RIGHT_CC.LJPEG.png\n",
      "Not Found: ../images/threshold/DDSM/0\\C_0284_1.LEFT_CC.LJPEG.png\n",
      "Not Found: ../images/threshold/DDSM/0\\A_0601_1.RIGHT_CC.LJPEG.png\n",
      "Not Found: ../images/threshold/DDSM/0\\A_0299_1.LEFT_CC.LJPEG.png\n",
      "0.0938: C_0458_1.LEFT_CC.LJPEG.png\n",
      "Not Found: ../images/threshold/DDSM/0\\A_0387_1.LEFT_MLO.LJPEG.png\n",
      "Not Found: ../images/threshold/DDSM/0\\A_0303_1.RIGHT_CC.LJPEG.png\n",
      "0.1173: A_0280_1.LEFT_MLO.LJPEG.png\n",
      "Not Found: ../images/threshold/DDSM/1\\A_1014_1.LEFT_CC.LJPEG.png\n",
      "Not Found: ../images/threshold/DDSM/3\\B_3097_1.RIGHT_MLO.LJPEG.png\n",
      "Not Found: ../images/threshold/DDSM/0\\A_0491_1.LEFT_MLO.LJPEG.png\n",
      "Not Found: ../images/threshold/DDSM/3\\B_3424_1.RIGHT_CC.LJPEG.png\n",
      "0.1407: B_3609_1.LEFT_MLO.LJPEG.png\n",
      "Not Found: ../images/threshold/DDSM/3\\B_3495_1.RIGHT_CC.LJPEG.png\n",
      "Not Found: ../images/threshold/DDSM/0\\A_0704_1.LEFT_CC.LJPEG.png\n",
      "Not Found: ../images/threshold/DDSM/0\\A_0610_1.LEFT_MLO.LJPEG.png\n",
      "0.1642: B_3053_1.RIGHT_MLO.LJPEG.png\n",
      "Not Found: ../images/threshold/DDSM/1\\A_1074_1.LEFT_MLO.LJPEG.png\n",
      "Not Found: ../images/threshold/DDSM/1\\A_1040_1.LEFT_CC.LJPEG.png\n",
      "0.1876: C_0212_1.LEFT_MLO.LJPEG.png\n",
      "Not Found: ../images/threshold/DDSM/0\\A_0562_1.RIGHT_CC.LJPEG.png\n",
      "Not Found: ../images/threshold/DDSM/1\\A_1000_1.RIGHT_MLO.LJPEG.png\n",
      "0.2111: A_0513_1.RIGHT_CC.LJPEG.png\n",
      "Not Found: ../images/threshold/DDSM/3\\B_3443_1.RIGHT_MLO.LJPEG.png\n",
      "Not Found: ../images/threshold/DDSM/1\\A_1040_1.RIGHT_CC.LJPEG.png\n",
      "Not Found: ../images/threshold/DDSM/1\\A_1005_1.RIGHT_MLO.LJPEG.png\n",
      "Not Found: ../images/threshold/DDSM/1\\A_1103_1.LEFT_CC.LJPEG.png\n",
      "0.2345: A_0711_1.LEFT_CC.LJPEG.png\n",
      "Not Found: ../images/threshold/DDSM/1\\A_1014_1.LEFT_MLO.LJPEG.png\n",
      "Not Found: ../images/threshold/DDSM/1\\A_1031_1.RIGHT_CC.LJPEG.png\n",
      "Not Found: ../images/threshold/DDSM/0\\A_0527_1.LEFT_CC.LJPEG.png\n",
      "0.2580: B_3013_1.RIGHT_MLO.LJPEG.png\n",
      "Not Found: ../images/threshold/DDSM/1\\A_1004_1.RIGHT_MLO.LJPEG.png\n",
      "Not Found: ../images/threshold/DDSM/3\\B_3097_1.RIGHT_CC.LJPEG.png\n",
      "0.2814: C_0145_1.RIGHT_MLO.LJPEG.png\n",
      "Not Found: ../images/threshold/DDSM/0\\C_0278_1.LEFT_CC.LJPEG.png\n",
      "Not Found: ../images/threshold/DDSM/3\\B_3094_1.RIGHT_MLO.LJPEG.png\n",
      "Not Found: ../images/threshold/DDSM/0\\A_0491_1.LEFT_CC.LJPEG.png\n",
      "0.3049: B_3152_1.LEFT_CC.LJPEG.png\n",
      "Not Found: ../images/threshold/DDSM/1\\A_1053_1.RIGHT_MLO.LJPEG.png\n",
      "Not Found: ../images/threshold/DDSM/1\\A_1037_1.RIGHT_CC.LJPEG.png\n",
      "Preparing the Training Data for the VGG_16 Model.\n",
      "Preparing the Test Data for the VGG_16 Model\n",
      "Loading the VGG_16 Model\n",
      "Evaluating the VGG_16 Model on the Training Data\n",
      "Saving the Training Data Bottleneck Features.\n",
      "Evaluating the VGG_16 Model on the Test Data\n",
      "Saving the Test Data Bottleneck Feaures.\n",
      "Raw Balance\n",
      "----------------\n",
      "benign 18\n",
      "malignant 34\n",
      "normal 142\n",
      "Raw Balance\n",
      "----------------\n",
      "benign 18\n",
      "malignant 34\n",
      "normal 142\n",
      "balanaceViaRemoval.avgE: 64\n",
      "balanaceViaRemoval.theshold: 64.0\n",
      "\n",
      "After Balancing\n",
      "----------------\n",
      "benign 18\n",
      "malignant 34\n",
      "normal 38\n",
      "0.0000: C_0062_1.LEFT_CC.LJPEG.png\n",
      "Not Found: ../images/threshold/DDSM/0\\A_0601_1.LEFT_CC.LJPEG.png\n",
      "0.2577: C_0049_1.RIGHT_MLO.LJPEG.png\n",
      "Not Found: ../images/threshold/DDSM/3\\B_3407_1.RIGHT_MLO.LJPEG.png\n",
      "Not Found: ../images/threshold/DDSM/0\\A_0268_1.LEFT_MLO.LJPEG.png\n",
      "Evaluating the VGG_16 Model on the Validataion Data\n",
      "Saving the Validation Data Bottleneck Features.\n"
     ]
    }
   ],
   "source": [
    "vgg16_bottleneck(trainDataPath, testDataPath, imagePath, modelPath, imgResize, \n",
    "                 balance = True, verbose = True, verboseFreq = 50, valPath = valDataPath, \n",
    "                 transform = False, binary = True)"
   ]
  },
  {
   "cell_type": "code",
   "execution_count": 8,
   "metadata": {
    "collapsed": true
   },
   "outputs": [],
   "source": [
    "class LossHistory(cb.Callback):\n",
    "    def on_train_begin(self, logs={}):\n",
    "        self.losses = []\n",
    "\n",
    "    def on_batch_end(self, batch, logs={}):\n",
    "        batch_loss = logs.get('loss')\n",
    "        self.losses.append(batch_loss)"
   ]
  },
  {
   "cell_type": "markdown",
   "metadata": {},
   "source": [
    "## Train Top Model\n",
    "This function takes the bottleneck features from the bottleneck function and applies a shallow CNN to these features to classify the images. The function needs to be pointed at the locations of the training and test features along with the training and test labels. You can use the epoch and batch size variables to control the number of images to show to the model and the number of training epochs. The model save variabler alows for saving of the final model weights."
   ]
  },
  {
   "cell_type": "code",
   "execution_count": 26,
   "metadata": {
    "collapsed": false
   },
   "outputs": [],
   "source": [
    "def train_top_model(train_feats, train_lab, test_feats, test_lab, model_path, model_save, epoch = 50, batch = 64):\n",
    "    train_bottleneck = os.path.join(model_path, train_feats)\n",
    "    train_labels = os.path.join(model_path, train_lab)\n",
    "    test_bottleneck = os.path.join(model_path, test_feats)\n",
    "    test_labels = os.path.join(model_path, test_lab)\n",
    "    \n",
    "    history = LossHistory()\n",
    "    \n",
    "    X_train = np.load(train_bottleneck)\n",
    "    Y_train = np.load(train_labels)\n",
    "    #Y_train = np_utils.to_categorical(Y_train, nb_classes=3)\n",
    "    Y_train = np_utils.to_categorical(Y_train, nb_classes=2)\n",
    "    \n",
    "    X_test = np.load(test_bottleneck)\n",
    "    Y_test = np.load(test_labels)\n",
    "    #Y_test = np_utils.to_categorical(Y_test, nb_classes=3)\n",
    "    Y_test = np_utils.to_categorical(Y_test, nb_classes=2)\n",
    "\n",
    "    model = Sequential()\n",
    "    model.add(Flatten(input_shape=X_train.shape[1:]))\n",
    "    model.add(Dense(256))\n",
    "    model.add(Activation('relu'))\n",
    "    model.add(Dropout(0.3))\n",
    "    #model.add(Dense(3))\n",
    "    model.add(Dense(2))\n",
    "    model.add(Activation('softmax'))\n",
    "    #loss = 'categorical_crossentropy'\n",
    "    model.compile(optimizer='adadelta',\n",
    "                  loss='categorical_crossentropy', \n",
    "                  metrics=['accuracy'])\n",
    "\n",
    "    model.fit(X_train, Y_train,\n",
    "              nb_epoch=epoch,\n",
    "              batch_size=batch,\n",
    "              callbacks=[history],\n",
    "              validation_data=(X_test, Y_test),\n",
    "              verbose=2)\n",
    "    \n",
    "    score = model.evaluate(X_test, Y_test, batch_size=16, verbose=0)\n",
    "\n",
    "    print \"Network's test score [loss, accuracy]: {0}\".format(score)\n",
    "    \n",
    "    model.save_weights(os.path.join(model_path, model_save))"
   ]
  },
  {
   "cell_type": "markdown",
   "metadata": {},
   "source": [
    "## Confusion Matrix\n",
    "The function below takes a data set that has been run through the VGG16 model, the corresponding labels, and a pre-trained weights file and creates a confusion matrix using Daniel's helper function."
   ]
  },
  {
   "cell_type": "code",
   "execution_count": 28,
   "metadata": {
    "collapsed": true
   },
   "outputs": [],
   "source": [
    "def cf_Matrix(data, label, weights, path, save):\n",
    "    data = os.path.join(path, data)\n",
    "    label = os.path.join(path, label)\n",
    "    categories = bc.bcNormVsAbnormNumerics()\n",
    "    \n",
    "    X = np.load(data)\n",
    "    Y = np.load(label)\n",
    "    #Y = np_utils.to_categorical(Y, nb_classes=3)\n",
    "    \n",
    "    # Loading and preping the model\n",
    "    model = Sequential()\n",
    "    model.add(Flatten(input_shape=X.shape[1:]))\n",
    "    model.add(Dense(256))\n",
    "    model.add(Activation('relu'))\n",
    "    model.add(Dropout(0.3))\n",
    "    #model.add(Dense(3))\n",
    "    model.add(Dense(2))\n",
    "    model.add(Activation('softmax'))\n",
    "    \n",
    "    model.load_weights(os.path.join('../model/', weights))\n",
    "    \n",
    "    # try Adadelta and Adam\n",
    "    model.compile(optimizer='adadelta',\n",
    "                  loss='categorical_crossentropy', \n",
    "                  metrics=['accuracy'])\n",
    "    \n",
    "    predictOutput = model.predict(X, batch_size=64, verbose=2)\n",
    "    #numBC = bc.numericBC()\n",
    "    numBC = bc.reverseDict(categories)\n",
    "    \n",
    "    predClasses = []\n",
    "    for i in range(len(predictOutput)):\n",
    "        arPred = np.array(predictOutput[i])\n",
    "        predictionProb = arPred.max()\n",
    "        predictionNdx = arPred.argmax()\n",
    "        predClassName = numBC[predictionNdx]\n",
    "        predClasses.append(predictionNdx)\n",
    "        \n",
    "    # Use sklearn's helper method to generate the confusion matrix\n",
    "    cnf_matrix = skm.confusion_matrix(Y, predClasses)\n",
    "    \n",
    "    # Ploting the confusion matrix\n",
    "    class_names = numBC.values()\n",
    "    np.set_printoptions(precision=2)\n",
    "    \n",
    "    fileCfMatrix = '../figures/confusion_matrix-' + save + '.png'\n",
    "    plt.figure()\n",
    "    bc.plot_confusion_matrix(cnf_matrix, classes=class_names,\n",
    "                             title='Confusion matrix, \\n' + save)\n",
    "    plt.savefig(fileCfMatrix)\n",
    "    plt.show()"
   ]
  },
  {
   "cell_type": "markdown",
   "metadata": {},
   "source": [
    "## Running the Top Model\n",
    "The following runs the top model classifier on the bottleneck features."
   ]
  },
  {
   "cell_type": "code",
   "execution_count": 6,
   "metadata": {
    "collapsed": true
   },
   "outputs": [],
   "source": [
    "# Locations for the bottleneck and labels files that we need\n",
    "modelPath = '../model/'\n",
    "train_bottleneck = 'bottleneck_features_train.npy'\n",
    "train_labels = 'labels_train.npy'\n",
    "test_bottleneck = 'bottleneck_features_test.npy'\n",
    "test_labels = 'labels_test.npy'\n",
    "validation_bottleneck = 'bottleneck_features_valdation.npy'\n",
    "validation_label = 'labels_validation.npy'\n",
    "top_model_weights_path = 'top_weights02.h5'"
   ]
  },
  {
   "cell_type": "code",
   "execution_count": 10,
   "metadata": {
    "collapsed": false,
    "scrolled": true
   },
   "outputs": [
    {
     "name": "stdout",
     "output_type": "stream",
     "text": [
      "Train on 2132 samples, validate on 536 samples\n",
      "Epoch 1/50\n",
      "0s - loss: 6.5851 - acc: 0.4508 - val_loss: 5.6644 - val_acc: 0.4571\n",
      "Epoch 2/50\n",
      "0s - loss: 3.4335 - acc: 0.5563 - val_loss: 2.2755 - val_acc: 0.5000\n",
      "Epoch 3/50\n",
      "0s - loss: 1.0971 - acc: 0.6393 - val_loss: 1.2428 - val_acc: 0.5243\n",
      "Epoch 4/50\n",
      "0s - loss: 0.6560 - acc: 0.7317 - val_loss: 1.3331 - val_acc: 0.4963\n",
      "Epoch 5/50\n",
      "0s - loss: 0.5417 - acc: 0.7767 - val_loss: 1.3829 - val_acc: 0.5019\n",
      "Epoch 6/50\n",
      "0s - loss: 0.4130 - acc: 0.8354 - val_loss: 1.4304 - val_acc: 0.5392\n",
      "Epoch 7/50\n",
      "0s - loss: 0.3163 - acc: 0.8752 - val_loss: 1.5420 - val_acc: 0.5187\n",
      "Epoch 8/50\n",
      "0s - loss: 0.2728 - acc: 0.8963 - val_loss: 1.5069 - val_acc: 0.5168\n",
      "Epoch 9/50\n",
      "0s - loss: 0.2050 - acc: 0.9282 - val_loss: 1.6816 - val_acc: 0.5243\n",
      "Epoch 10/50\n",
      "0s - loss: 0.1788 - acc: 0.9273 - val_loss: 1.6940 - val_acc: 0.5485\n",
      "Epoch 11/50\n",
      "0s - loss: 0.1626 - acc: 0.9465 - val_loss: 1.7204 - val_acc: 0.5299\n",
      "Epoch 12/50\n",
      "0s - loss: 0.1236 - acc: 0.9578 - val_loss: 1.7611 - val_acc: 0.5243\n",
      "Epoch 13/50\n",
      "0s - loss: 0.1066 - acc: 0.9662 - val_loss: 1.8645 - val_acc: 0.5112\n",
      "Epoch 14/50\n",
      "0s - loss: 0.0929 - acc: 0.9662 - val_loss: 1.8626 - val_acc: 0.5280\n",
      "Epoch 15/50\n",
      "0s - loss: 0.0764 - acc: 0.9784 - val_loss: 1.8900 - val_acc: 0.5373\n",
      "Epoch 16/50\n",
      "1s - loss: 0.0669 - acc: 0.9761 - val_loss: 1.8557 - val_acc: 0.5317\n",
      "Epoch 17/50\n",
      "0s - loss: 0.0542 - acc: 0.9878 - val_loss: 1.9861 - val_acc: 0.5448\n",
      "Epoch 18/50\n",
      "0s - loss: 0.0424 - acc: 0.9892 - val_loss: 2.0198 - val_acc: 0.5578\n",
      "Epoch 19/50\n",
      "0s - loss: 0.0433 - acc: 0.9883 - val_loss: 2.0364 - val_acc: 0.5448\n",
      "Epoch 20/50\n",
      "0s - loss: 0.0405 - acc: 0.9892 - val_loss: 2.5172 - val_acc: 0.5131\n",
      "Epoch 21/50\n",
      "0s - loss: 0.0325 - acc: 0.9911 - val_loss: 2.1068 - val_acc: 0.5578\n",
      "Epoch 22/50\n",
      "0s - loss: 0.0312 - acc: 0.9916 - val_loss: 2.3122 - val_acc: 0.5522\n",
      "Epoch 23/50\n",
      "0s - loss: 0.0297 - acc: 0.9906 - val_loss: 2.2354 - val_acc: 0.5373\n",
      "Epoch 24/50\n",
      "0s - loss: 0.0248 - acc: 0.9930 - val_loss: 2.2286 - val_acc: 0.5634\n",
      "Epoch 25/50\n",
      "0s - loss: 0.0233 - acc: 0.9934 - val_loss: 2.3734 - val_acc: 0.5373\n",
      "Epoch 26/50\n",
      "0s - loss: 0.0172 - acc: 0.9972 - val_loss: 2.3186 - val_acc: 0.5541\n",
      "Epoch 27/50\n",
      "0s - loss: 0.0207 - acc: 0.9958 - val_loss: 2.4228 - val_acc: 0.5522\n",
      "Epoch 28/50\n",
      "0s - loss: 0.0241 - acc: 0.9944 - val_loss: 2.3224 - val_acc: 0.5522\n",
      "Epoch 29/50\n",
      "0s - loss: 0.0160 - acc: 0.9958 - val_loss: 2.4128 - val_acc: 0.5392\n",
      "Epoch 30/50\n",
      "0s - loss: 0.0116 - acc: 0.9967 - val_loss: 2.2848 - val_acc: 0.5616\n",
      "Epoch 31/50\n",
      "0s - loss: 0.0099 - acc: 0.9981 - val_loss: 2.4636 - val_acc: 0.5560\n",
      "Epoch 32/50\n",
      "1s - loss: 0.0078 - acc: 0.9986 - val_loss: 2.5315 - val_acc: 0.5709\n",
      "Epoch 33/50\n",
      "0s - loss: 0.0087 - acc: 0.9986 - val_loss: 2.4766 - val_acc: 0.5485\n",
      "Epoch 34/50\n",
      "0s - loss: 0.0221 - acc: 0.9934 - val_loss: 2.7372 - val_acc: 0.5429\n",
      "Epoch 35/50\n",
      "0s - loss: 0.0203 - acc: 0.9939 - val_loss: 2.4145 - val_acc: 0.5466\n",
      "Epoch 36/50\n",
      "0s - loss: 0.0121 - acc: 0.9986 - val_loss: 2.5365 - val_acc: 0.5485\n",
      "Epoch 37/50\n",
      "0s - loss: 0.0139 - acc: 0.9962 - val_loss: 2.3810 - val_acc: 0.5765\n",
      "Epoch 38/50\n",
      "1s - loss: 0.0089 - acc: 0.9986 - val_loss: 2.5223 - val_acc: 0.5541\n",
      "Epoch 39/50\n",
      "0s - loss: 0.0157 - acc: 0.9958 - val_loss: 2.6310 - val_acc: 0.5616\n",
      "Epoch 40/50\n",
      "1s - loss: 0.0083 - acc: 0.9972 - val_loss: 2.5573 - val_acc: 0.5597\n",
      "Epoch 41/50\n",
      "1s - loss: 0.0067 - acc: 0.9991 - val_loss: 2.6300 - val_acc: 0.5653\n",
      "Epoch 42/50\n",
      "1s - loss: 0.0034 - acc: 1.0000 - val_loss: 2.6698 - val_acc: 0.5672\n",
      "Epoch 43/50\n",
      "1s - loss: 0.0072 - acc: 0.9977 - val_loss: 2.6886 - val_acc: 0.5690\n",
      "Epoch 44/50\n",
      "1s - loss: 0.0131 - acc: 0.9972 - val_loss: 2.6070 - val_acc: 0.5653\n",
      "Epoch 45/50\n",
      "1s - loss: 0.0047 - acc: 0.9995 - val_loss: 2.5764 - val_acc: 0.5802\n",
      "Epoch 46/50\n",
      "1s - loss: 0.0080 - acc: 0.9977 - val_loss: 2.6428 - val_acc: 0.5634\n",
      "Epoch 47/50\n",
      "1s - loss: 0.0045 - acc: 0.9995 - val_loss: 2.7454 - val_acc: 0.5802\n",
      "Epoch 48/50\n",
      "1s - loss: 0.0059 - acc: 0.9981 - val_loss: 2.5667 - val_acc: 0.5840\n",
      "Epoch 49/50\n",
      "1s - loss: 0.0091 - acc: 0.9967 - val_loss: 2.6342 - val_acc: 0.5672\n",
      "Epoch 50/50\n",
      "1s - loss: 0.0046 - acc: 0.9995 - val_loss: 2.7544 - val_acc: 0.5914\n",
      "Network's test score [loss, accuracy]: [2.7544217768000134, 0.59141791044776115]\n"
     ]
    }
   ],
   "source": [
    "train_top_model(train_feats=train_bottleneck, train_lab=train_labels, test_feats=test_bottleneck, test_lab=test_labels,\n",
    "                model_path=modelPath, model_save=top_model_weights_path)"
   ]
  },
  {
   "cell_type": "code",
   "execution_count": 37,
   "metadata": {
    "collapsed": true
   },
   "outputs": [],
   "source": [
    "feats_loc = '150_test_val/bottleneck_features_test.npy'\n",
    "feats_labs = '150_test_val/labels_test.npy'\n",
    "weight = 'balanced150run2/top_weights02.h5'\n",
    "saveFile = 'balanced150'"
   ]
  },
  {
   "cell_type": "code",
   "execution_count": 38,
   "metadata": {
    "collapsed": false
   },
   "outputs": [
    {
     "name": "stdout",
     "output_type": "stream",
     "text": [
      "Confusion matrix, without normalization\n",
      "[[136  34  45]\n",
      " [ 25  91  26]\n",
      " [ 45  37  97]]\n"
     ]
    },
    {
     "data": {
      "image/png": "[encoded data removed]",
      "text/plain": [
       "<matplotlib.figure.Figure at 0xd5d5860>"
      ]
     },
     "metadata": {},
     "output_type": "display_data"
    }
   ],
   "source": [
    "cf_Matrix(data=feats_loc, label=feats_labs, weights=weight, path=modelPath, save=saveFile)"
   ]
  },
  {
   "cell_type": "markdown",
   "metadata": {},
   "source": [
    "## Running the Top Model on the Fully Augmented Data\n",
    "In this run we will be using the bottleneck features from taking the training data and augmenting it with the followin transformations; Vertical Flip, Horizontal Flip, 90 and 270 degree rotation, and 15, 30, and 45 degree rotation in both directions."
   ]
  },
  {
   "cell_type": "code",
   "execution_count": 16,
   "metadata": {
    "collapsed": true
   },
   "outputs": [],
   "source": [
    "# Locations for the bottleneck and labels files that we need\n",
    "modelPath = '../model/'\n",
    "train_bottleneck = 'bottleneck_features_150fulltrans_train.npy'\n",
    "train_labels = 'labels_150fulltrans_train.npy'\n",
    "test_bottleneck = 'bottleneck_features_test.npy'\n",
    "test_labels = 'labels_test.npy'\n",
    "validation_bottleneck = 'bottleneck_features_valdation.npy'\n",
    "validation_label = 'labels_validation.npy'\n",
    "top_model_weights_path = 'top_weights_150fulltrans.h5'"
   ]
  },
  {
   "cell_type": "code",
   "execution_count": 17,
   "metadata": {
    "collapsed": false,
    "scrolled": true
   },
   "outputs": [
    {
     "name": "stdout",
     "output_type": "stream",
     "text": [
      "Train on 23452 samples, validate on 536 samples\n",
      "Epoch 1/50\n",
      "9s - loss: 2.1150 - acc: 0.5010 - val_loss: 0.9707 - val_acc: 0.5429\n",
      "Epoch 2/50\n",
      "9s - loss: 0.8477 - acc: 0.6011 - val_loss: 1.0201 - val_acc: 0.5690\n",
      "Epoch 3/50\n",
      "9s - loss: 0.7545 - acc: 0.6495 - val_loss: 1.0338 - val_acc: 0.5709\n",
      "Epoch 4/50\n",
      "10s - loss: 0.6726 - acc: 0.6937 - val_loss: 1.1553 - val_acc: 0.5634\n",
      "Epoch 5/50\n",
      "12s - loss: 0.6003 - acc: 0.7329 - val_loss: 1.1349 - val_acc: 0.5709\n",
      "Epoch 6/50\n",
      "13s - loss: 0.5381 - acc: 0.7633 - val_loss: 1.2890 - val_acc: 0.5784\n",
      "Epoch 7/50\n",
      "13s - loss: 0.4795 - acc: 0.7914 - val_loss: 1.3350 - val_acc: 0.5728\n",
      "Epoch 8/50\n",
      "13s - loss: 0.4376 - acc: 0.8142 - val_loss: 1.3227 - val_acc: 0.5877\n",
      "Epoch 9/50\n",
      "12s - loss: 0.3839 - acc: 0.8383 - val_loss: 1.4640 - val_acc: 0.5560\n",
      "Epoch 10/50\n",
      "12s - loss: 0.3497 - acc: 0.8528 - val_loss: 1.5536 - val_acc: 0.5765\n",
      "Epoch 11/50\n",
      "12s - loss: 0.3168 - acc: 0.8711 - val_loss: 1.6186 - val_acc: 0.5784\n",
      "Epoch 12/50\n",
      "12s - loss: 0.2859 - acc: 0.8848 - val_loss: 1.6248 - val_acc: 0.5653\n",
      "Epoch 13/50\n",
      "12s - loss: 0.2593 - acc: 0.8979 - val_loss: 1.7318 - val_acc: 0.5765\n",
      "Epoch 14/50\n",
      "12s - loss: 0.2411 - acc: 0.9047 - val_loss: 1.8024 - val_acc: 0.5746\n",
      "Epoch 15/50\n",
      "12s - loss: 0.2157 - acc: 0.9148 - val_loss: 1.8175 - val_acc: 0.6101\n",
      "Epoch 16/50\n",
      "12s - loss: 0.2096 - acc: 0.9177 - val_loss: 1.9431 - val_acc: 0.5802\n",
      "Epoch 17/50\n",
      "12s - loss: 0.1886 - acc: 0.9273 - val_loss: 2.0001 - val_acc: 0.5709\n",
      "Epoch 18/50\n",
      "12s - loss: 0.1718 - acc: 0.9351 - val_loss: 1.9693 - val_acc: 0.5765\n",
      "Epoch 19/50\n",
      "12s - loss: 0.1730 - acc: 0.9361 - val_loss: 2.0154 - val_acc: 0.5802\n",
      "Epoch 20/50\n",
      "12s - loss: 0.1525 - acc: 0.9414 - val_loss: 2.1347 - val_acc: 0.5504\n",
      "Epoch 21/50\n",
      "12s - loss: 0.1443 - acc: 0.9461 - val_loss: 2.1748 - val_acc: 0.5933\n",
      "Epoch 22/50\n",
      "12s - loss: 0.1428 - acc: 0.9473 - val_loss: 2.2186 - val_acc: 0.5896\n",
      "Epoch 23/50\n",
      "12s - loss: 0.1324 - acc: 0.9505 - val_loss: 2.2057 - val_acc: 0.5522\n",
      "Epoch 24/50\n",
      "12s - loss: 0.1307 - acc: 0.9520 - val_loss: 2.2344 - val_acc: 0.5728\n",
      "Epoch 25/50\n",
      "12s - loss: 0.1166 - acc: 0.9571 - val_loss: 2.3347 - val_acc: 0.5765\n",
      "Epoch 26/50\n",
      "12s - loss: 0.1163 - acc: 0.9586 - val_loss: 2.3327 - val_acc: 0.5728\n",
      "Epoch 27/50\n",
      "12s - loss: 0.1117 - acc: 0.9623 - val_loss: 2.3773 - val_acc: 0.5728\n",
      "Epoch 28/50\n",
      "12s - loss: 0.1153 - acc: 0.9609 - val_loss: 2.3647 - val_acc: 0.5858\n",
      "Epoch 29/50\n",
      "12s - loss: 0.1057 - acc: 0.9634 - val_loss: 2.4121 - val_acc: 0.5504\n",
      "Epoch 30/50\n",
      "12s - loss: 0.1045 - acc: 0.9645 - val_loss: 2.5405 - val_acc: 0.5690\n",
      "Epoch 31/50\n",
      "12s - loss: 0.1051 - acc: 0.9655 - val_loss: 2.4535 - val_acc: 0.5709\n",
      "Epoch 32/50\n",
      "12s - loss: 0.0940 - acc: 0.9667 - val_loss: 2.5613 - val_acc: 0.5578\n",
      "Epoch 33/50\n",
      "12s - loss: 0.0979 - acc: 0.9653 - val_loss: 2.5431 - val_acc: 0.5858\n",
      "Epoch 34/50\n",
      "12s - loss: 0.0877 - acc: 0.9693 - val_loss: 2.6461 - val_acc: 0.5765\n",
      "Epoch 35/50\n",
      "12s - loss: 0.0901 - acc: 0.9697 - val_loss: 2.7325 - val_acc: 0.5522\n",
      "Epoch 36/50\n",
      "12s - loss: 0.0879 - acc: 0.9705 - val_loss: 2.7409 - val_acc: 0.5634\n",
      "Epoch 37/50\n",
      "12s - loss: 0.0861 - acc: 0.9707 - val_loss: 2.6940 - val_acc: 0.5765\n",
      "Epoch 38/50\n",
      "12s - loss: 0.0868 - acc: 0.9715 - val_loss: 2.6151 - val_acc: 0.5672\n",
      "Epoch 39/50\n",
      "12s - loss: 0.0818 - acc: 0.9726 - val_loss: 2.5774 - val_acc: 0.5765\n",
      "Epoch 40/50\n",
      "12s - loss: 0.0830 - acc: 0.9732 - val_loss: 2.5922 - val_acc: 0.5616\n",
      "Epoch 41/50\n",
      "12s - loss: 0.0789 - acc: 0.9748 - val_loss: 2.8912 - val_acc: 0.5672\n",
      "Epoch 42/50\n",
      "12s - loss: 0.0794 - acc: 0.9736 - val_loss: 2.7895 - val_acc: 0.5821\n",
      "Epoch 43/50\n",
      "12s - loss: 0.0727 - acc: 0.9758 - val_loss: 3.0036 - val_acc: 0.5578\n",
      "Epoch 44/50\n",
      "12s - loss: 0.0768 - acc: 0.9745 - val_loss: 2.8650 - val_acc: 0.5578\n",
      "Epoch 45/50\n",
      "12s - loss: 0.0734 - acc: 0.9767 - val_loss: 2.7810 - val_acc: 0.5634\n",
      "Epoch 46/50\n",
      "12s - loss: 0.0758 - acc: 0.9768 - val_loss: 2.9774 - val_acc: 0.5485\n",
      "Epoch 47/50\n",
      "12s - loss: 0.0740 - acc: 0.9764 - val_loss: 2.8870 - val_acc: 0.5653\n",
      "Epoch 48/50\n",
      "12s - loss: 0.0725 - acc: 0.9761 - val_loss: 2.9791 - val_acc: 0.5560\n",
      "Epoch 49/50\n",
      "12s - loss: 0.0690 - acc: 0.9773 - val_loss: 2.8205 - val_acc: 0.5728\n",
      "Epoch 50/50\n",
      "12s - loss: 0.0688 - acc: 0.9786 - val_loss: 2.8448 - val_acc: 0.5728\n",
      "Network's test score [loss, accuracy]: [2.8447668943832172, 0.57276119402985071]\n"
     ]
    }
   ],
   "source": [
    "train_top_model(train_feats=train_bottleneck, train_lab=train_labels, test_feats=test_bottleneck, test_lab=test_labels,\n",
    "                model_path=modelPath, model_save=top_model_weights_path)"
   ]
  },
  {
   "cell_type": "code",
   "execution_count": 35,
   "metadata": {
    "collapsed": true
   },
   "outputs": [],
   "source": [
    "feats_loc = '150_test_val/bottleneck_features_test.npy'\n",
    "feats_labs = '150_test_val/labels_test.npy'\n",
    "weight = 'balanced150FullTrans/top_weights_150fulltrans.h5'\n",
    "saveFile = 'balanced150FullTrans'"
   ]
  },
  {
   "cell_type": "code",
   "execution_count": 36,
   "metadata": {
    "collapsed": false
   },
   "outputs": [
    {
     "name": "stdout",
     "output_type": "stream",
     "text": [
      "Confusion matrix, without normalization\n",
      "[[141  28  46]\n",
      " [ 26  76  40]\n",
      " [ 57  32  90]]\n"
     ]
    },
    {
     "data": {
      "image/png": "[encoded data removed]",
      "text/plain": [
       "<matplotlib.figure.Figure at 0xd66dc50>"
      ]
     },
     "metadata": {},
     "output_type": "display_data"
    }
   ],
   "source": [
    "cf_Matrix(data=feats_loc, label=feats_labs, weights=weight, path=modelPath, save=saveFile)"
   ]
  },
  {
   "cell_type": "markdown",
   "metadata": {},
   "source": [
    "## Running the Top Model at 224x224\n",
    "In this next experiment we run the model with transformations on the data at a size of 224x224"
   ]
  },
  {
   "cell_type": "code",
   "execution_count": 22,
   "metadata": {
    "collapsed": true
   },
   "outputs": [],
   "source": [
    "# Locations for the bottleneck and labels files that we need\n",
    "modelPath = '../model/'\n",
    "train_bottleneck = 'bottleneck_features_train_224.npy'\n",
    "train_labels = 'labels_train_224.npy'\n",
    "test_bottleneck = 'bottleneck_features_test.npy'\n",
    "test_labels = 'labels_test.npy'\n",
    "validation_bottleneck = 'bottleneck_features_valdation.npy'\n",
    "validation_label = 'labels_validation.npy'\n",
    "top_model_weights_path = 'top_weights_224.h5'"
   ]
  },
  {
   "cell_type": "code",
   "execution_count": 23,
   "metadata": {
    "collapsed": false,
    "scrolled": true
   },
   "outputs": [
    {
     "name": "stdout",
     "output_type": "stream",
     "text": [
      "Train on 2132 samples, validate on 536 samples\n",
      "Epoch 1/50\n",
      "2s - loss: 9.0933 - acc: 0.4170 - val_loss: 8.1122 - val_acc: 0.4608\n",
      "Epoch 2/50\n",
      "2s - loss: 8.1198 - acc: 0.4634 - val_loss: 9.5227 - val_acc: 0.4030\n",
      "Epoch 3/50\n",
      "2s - loss: 7.4928 - acc: 0.5033 - val_loss: 7.4591 - val_acc: 0.4776\n",
      "Epoch 4/50\n",
      "2s - loss: 6.3570 - acc: 0.5432 - val_loss: 6.4214 - val_acc: 0.5466\n",
      "Epoch 5/50\n",
      "2s - loss: 5.6562 - acc: 0.5943 - val_loss: 5.6958 - val_acc: 0.5634\n",
      "Epoch 6/50\n",
      "2s - loss: 4.9501 - acc: 0.6196 - val_loss: 6.8575 - val_acc: 0.5168\n",
      "Epoch 7/50\n",
      "2s - loss: 4.3462 - acc: 0.6384 - val_loss: 7.0712 - val_acc: 0.4571\n",
      "Epoch 8/50\n",
      "2s - loss: 2.2618 - acc: 0.6731 - val_loss: 1.3050 - val_acc: 0.5914\n",
      "Epoch 9/50\n",
      "2s - loss: 0.7706 - acc: 0.7233 - val_loss: 1.1151 - val_acc: 0.5765\n",
      "Epoch 10/50\n",
      "2s - loss: 0.5902 - acc: 0.7617 - val_loss: 1.1186 - val_acc: 0.6101\n",
      "Epoch 11/50\n",
      "2s - loss: 0.4783 - acc: 0.8096 - val_loss: 1.2259 - val_acc: 0.6194\n",
      "Epoch 12/50\n",
      "2s - loss: 0.3681 - acc: 0.8462 - val_loss: 1.3938 - val_acc: 0.5933\n",
      "Epoch 13/50\n",
      "2s - loss: 0.3200 - acc: 0.8818 - val_loss: 1.3543 - val_acc: 0.5970\n",
      "Epoch 14/50\n",
      "2s - loss: 0.2700 - acc: 0.8987 - val_loss: 1.4228 - val_acc: 0.6213\n",
      "Epoch 15/50\n",
      "2s - loss: 0.2238 - acc: 0.9146 - val_loss: 1.4641 - val_acc: 0.5597\n",
      "Epoch 16/50\n",
      "2s - loss: 0.1715 - acc: 0.9353 - val_loss: 1.5231 - val_acc: 0.6101\n",
      "Epoch 17/50\n",
      "2s - loss: 0.1404 - acc: 0.9522 - val_loss: 1.7135 - val_acc: 0.5933\n",
      "Epoch 18/50\n",
      "2s - loss: 0.1347 - acc: 0.9461 - val_loss: 1.8070 - val_acc: 0.5970\n",
      "Epoch 19/50\n",
      "2s - loss: 0.1140 - acc: 0.9597 - val_loss: 1.6378 - val_acc: 0.6138\n",
      "Epoch 20/50\n",
      "2s - loss: 0.1024 - acc: 0.9658 - val_loss: 2.0474 - val_acc: 0.5877\n",
      "Epoch 21/50\n",
      "2s - loss: 0.0892 - acc: 0.9658 - val_loss: 2.0427 - val_acc: 0.6119\n",
      "Epoch 22/50\n",
      "2s - loss: 0.0864 - acc: 0.9719 - val_loss: 1.9937 - val_acc: 0.5653\n",
      "Epoch 23/50\n",
      "2s - loss: 0.0682 - acc: 0.9761 - val_loss: 2.4891 - val_acc: 0.5784\n",
      "Epoch 24/50\n",
      "2s - loss: 0.0682 - acc: 0.9747 - val_loss: 1.9282 - val_acc: 0.6119\n",
      "Epoch 25/50\n",
      "2s - loss: 0.0435 - acc: 0.9850 - val_loss: 2.1998 - val_acc: 0.6007\n",
      "Epoch 26/50\n",
      "2s - loss: 0.0445 - acc: 0.9850 - val_loss: 1.9286 - val_acc: 0.6250\n",
      "Epoch 27/50\n",
      "2s - loss: 0.0521 - acc: 0.9845 - val_loss: 2.3834 - val_acc: 0.5634\n",
      "Epoch 28/50\n",
      "2s - loss: 0.0627 - acc: 0.9784 - val_loss: 1.9833 - val_acc: 0.6231\n",
      "Epoch 29/50\n",
      "2s - loss: 0.0419 - acc: 0.9850 - val_loss: 2.2553 - val_acc: 0.5877\n",
      "Epoch 30/50\n",
      "2s - loss: 0.0302 - acc: 0.9902 - val_loss: 2.2751 - val_acc: 0.6138\n",
      "Epoch 31/50\n",
      "2s - loss: 0.0301 - acc: 0.9897 - val_loss: 2.2381 - val_acc: 0.6082\n",
      "Epoch 32/50\n",
      "2s - loss: 0.0190 - acc: 0.9958 - val_loss: 2.3391 - val_acc: 0.6119\n",
      "Epoch 33/50\n",
      "2s - loss: 0.0286 - acc: 0.9892 - val_loss: 2.2304 - val_acc: 0.6026\n",
      "Epoch 34/50\n",
      "2s - loss: 0.0315 - acc: 0.9883 - val_loss: 2.4235 - val_acc: 0.6119\n",
      "Epoch 35/50\n",
      "2s - loss: 0.0368 - acc: 0.9883 - val_loss: 2.3665 - val_acc: 0.6213\n",
      "Epoch 36/50\n",
      "2s - loss: 0.0132 - acc: 0.9958 - val_loss: 2.4955 - val_acc: 0.6381\n",
      "Epoch 37/50\n",
      "2s - loss: 0.0270 - acc: 0.9911 - val_loss: 2.6176 - val_acc: 0.5933\n",
      "Epoch 38/50\n",
      "2s - loss: 0.0335 - acc: 0.9864 - val_loss: 2.3849 - val_acc: 0.6250\n",
      "Epoch 39/50\n",
      "2s - loss: 0.0157 - acc: 0.9953 - val_loss: 2.4454 - val_acc: 0.6287\n",
      "Epoch 40/50\n",
      "2s - loss: 0.0160 - acc: 0.9934 - val_loss: 2.6720 - val_acc: 0.6119\n",
      "Epoch 41/50\n",
      "3s - loss: 0.0183 - acc: 0.9962 - val_loss: 2.6914 - val_acc: 0.5989\n",
      "Epoch 42/50\n",
      "3s - loss: 0.0230 - acc: 0.9930 - val_loss: 2.5981 - val_acc: 0.6082\n",
      "Epoch 43/50\n",
      "3s - loss: 0.0173 - acc: 0.9948 - val_loss: 2.8000 - val_acc: 0.5951\n",
      "Epoch 44/50\n",
      "3s - loss: 0.0182 - acc: 0.9930 - val_loss: 3.0679 - val_acc: 0.6007\n",
      "Epoch 45/50\n",
      "3s - loss: 0.0205 - acc: 0.9920 - val_loss: 2.7439 - val_acc: 0.6082\n",
      "Epoch 46/50\n",
      "3s - loss: 0.0137 - acc: 0.9953 - val_loss: 2.8064 - val_acc: 0.5896\n",
      "Epoch 47/50\n",
      "3s - loss: 0.0142 - acc: 0.9948 - val_loss: 2.5329 - val_acc: 0.5951\n",
      "Epoch 48/50\n",
      "3s - loss: 0.0188 - acc: 0.9930 - val_loss: 2.6906 - val_acc: 0.6082\n",
      "Epoch 49/50\n",
      "3s - loss: 0.0248 - acc: 0.9916 - val_loss: 2.6263 - val_acc: 0.6194\n",
      "Epoch 50/50\n",
      "4s - loss: 0.0119 - acc: 0.9944 - val_loss: 2.7021 - val_acc: 0.5989\n",
      "Network's test score [loss, accuracy]: [2.7020884663311402, 0.59888059701492535]\n"
     ]
    }
   ],
   "source": [
    "train_top_model(train_feats=train_bottleneck, train_lab=train_labels, test_feats=test_bottleneck, test_lab=test_labels,\n",
    "                model_path=modelPath, model_save=top_model_weights_path)"
   ]
  },
  {
   "cell_type": "markdown",
   "metadata": {},
   "source": [
    "### Generating the Confusion Matrix for the Balanced 224x224 Run"
   ]
  },
  {
   "cell_type": "code",
   "execution_count": 25,
   "metadata": {
    "collapsed": true
   },
   "outputs": [],
   "source": [
    "feats_loc = '224_test_val/bottleneck_features_test.npy'\n",
    "feats_labs = '224_test_val/labels_test.npy'\n",
    "weight = 'balanced224/top_weights_224.h5'\n",
    "saveFile = 'balanced224'"
   ]
  },
  {
   "cell_type": "code",
   "execution_count": 34,
   "metadata": {
    "collapsed": false
   },
   "outputs": [
    {
     "name": "stdout",
     "output_type": "stream",
     "text": [
      "Confusion matrix, without normalization\n",
      "[[142  27  46]\n",
      " [ 33  84  25]\n",
      " [ 60  24  95]]\n"
     ]
    },
    {
     "data": {
      "image/png": "[encoded data removed]",
      "text/plain": [
       "<matplotlib.figure.Figure at 0xd082128>"
      ]
     },
     "metadata": {},
     "output_type": "display_data"
    }
   ],
   "source": [
    "cf_Matrix(data=feats_loc, label=feats_labs, weights=weight, path=modelPath, save=saveFile)"
   ]
  },
  {
   "cell_type": "markdown",
   "metadata": {},
   "source": [
    "## 224x224 With Flips"
   ]
  },
  {
   "cell_type": "code",
   "execution_count": 48,
   "metadata": {
    "collapsed": true
   },
   "outputs": [],
   "source": [
    "# Locations for the bottleneck and labels files that we need\n",
    "modelPath = '../model/'\n",
    "train_bottleneck = 'bottleneck_features_train_224flip.npy'\n",
    "train_labels = 'labels_train_224flip.npy'\n",
    "test_bottleneck = 'bottleneck_features_test.npy'\n",
    "test_labels = 'labels_test.npy'\n",
    "validation_bottleneck = 'bottleneck_features_valdation.npy'\n",
    "validation_label = 'labels_validation.npy'\n",
    "top_model_weights_path = 'top_weights_224flip.h5'"
   ]
  },
  {
   "cell_type": "code",
   "execution_count": 61,
   "metadata": {
    "collapsed": false,
    "scrolled": true
   },
   "outputs": [
    {
     "name": "stdout",
     "output_type": "stream",
     "text": [
      "Train on 6396 samples, validate on 536 samples\n",
      "Epoch 1/50\n",
      "8s - loss: 5.8402 - acc: 0.4684 - val_loss: 1.0307 - val_acc: 0.5429\n",
      "Epoch 2/50\n",
      "8s - loss: 0.9158 - acc: 0.5885 - val_loss: 1.1715 - val_acc: 0.5299\n",
      "Epoch 3/50\n",
      "8s - loss: 0.7990 - acc: 0.6398 - val_loss: 0.9980 - val_acc: 0.5560\n",
      "Epoch 4/50\n",
      "8s - loss: 0.7147 - acc: 0.6851 - val_loss: 1.0881 - val_acc: 0.5784\n",
      "Epoch 5/50\n",
      "8s - loss: 0.6190 - acc: 0.7320 - val_loss: 1.1781 - val_acc: 0.5784\n",
      "Epoch 6/50\n",
      "8s - loss: 0.5485 - acc: 0.7644 - val_loss: 1.2907 - val_acc: 0.5840\n",
      "Epoch 7/50\n",
      "8s - loss: 0.4717 - acc: 0.7999 - val_loss: 1.2011 - val_acc: 0.5784\n",
      "Epoch 8/50\n",
      "8s - loss: 0.4312 - acc: 0.8254 - val_loss: 1.3002 - val_acc: 0.5765\n",
      "Epoch 9/50\n",
      "8s - loss: 0.3469 - acc: 0.8549 - val_loss: 1.3503 - val_acc: 0.5858\n",
      "Epoch 10/50\n",
      "8s - loss: 0.2970 - acc: 0.8751 - val_loss: 1.4672 - val_acc: 0.6082\n",
      "Epoch 11/50\n",
      "9s - loss: 0.2653 - acc: 0.8954 - val_loss: 2.0008 - val_acc: 0.5299\n",
      "Epoch 12/50\n",
      "9s - loss: 0.2283 - acc: 0.9093 - val_loss: 1.6037 - val_acc: 0.5970\n",
      "Epoch 13/50\n",
      "9s - loss: 0.1949 - acc: 0.9232 - val_loss: 1.6985 - val_acc: 0.5858\n",
      "Epoch 14/50\n",
      "9s - loss: 0.1811 - acc: 0.9287 - val_loss: 1.8473 - val_acc: 0.5858\n",
      "Epoch 15/50\n",
      "11s - loss: 0.1710 - acc: 0.9382 - val_loss: 1.9538 - val_acc: 0.5858\n",
      "Epoch 16/50\n",
      "11s - loss: 0.1366 - acc: 0.9522 - val_loss: 1.9439 - val_acc: 0.5896\n",
      "Epoch 17/50\n",
      "12s - loss: 0.1190 - acc: 0.9534 - val_loss: 2.1381 - val_acc: 0.5709\n",
      "Epoch 18/50\n",
      "12s - loss: 0.1250 - acc: 0.9553 - val_loss: 2.1574 - val_acc: 0.5970\n",
      "Epoch 19/50\n",
      "12s - loss: 0.1007 - acc: 0.9611 - val_loss: 2.2185 - val_acc: 0.6082\n",
      "Epoch 20/50\n",
      "12s - loss: 0.0973 - acc: 0.9634 - val_loss: 2.2615 - val_acc: 0.5858\n",
      "Epoch 21/50\n",
      "12s - loss: 0.0870 - acc: 0.9665 - val_loss: 2.2471 - val_acc: 0.5877\n",
      "Epoch 22/50\n",
      "12s - loss: 0.0799 - acc: 0.9722 - val_loss: 2.4670 - val_acc: 0.5896\n",
      "Epoch 23/50\n",
      "12s - loss: 0.0723 - acc: 0.9730 - val_loss: 2.3088 - val_acc: 0.5765\n",
      "Epoch 24/50\n",
      "12s - loss: 0.0731 - acc: 0.9739 - val_loss: 2.3364 - val_acc: 0.6082\n",
      "Epoch 25/50\n",
      "12s - loss: 0.0684 - acc: 0.9756 - val_loss: 2.2380 - val_acc: 0.6119\n",
      "Epoch 26/50\n",
      "12s - loss: 0.0684 - acc: 0.9772 - val_loss: 2.4656 - val_acc: 0.5970\n",
      "Epoch 27/50\n",
      "12s - loss: 0.0626 - acc: 0.9787 - val_loss: 2.4787 - val_acc: 0.6007\n",
      "Epoch 28/50\n",
      "12s - loss: 0.0538 - acc: 0.9819 - val_loss: 2.5208 - val_acc: 0.6026\n",
      "Epoch 29/50\n",
      "12s - loss: 0.0552 - acc: 0.9801 - val_loss: 2.6510 - val_acc: 0.5933\n",
      "Epoch 30/50\n",
      "12s - loss: 0.0575 - acc: 0.9806 - val_loss: 2.5564 - val_acc: 0.6063\n",
      "Epoch 31/50\n",
      "12s - loss: 0.0438 - acc: 0.9855 - val_loss: 2.5913 - val_acc: 0.6063\n",
      "Epoch 32/50\n",
      "12s - loss: 0.0532 - acc: 0.9817 - val_loss: 2.6101 - val_acc: 0.5970\n",
      "Epoch 33/50\n",
      "13s - loss: 0.0455 - acc: 0.9853 - val_loss: 2.6928 - val_acc: 0.6045\n",
      "Epoch 34/50\n",
      "13s - loss: 0.0429 - acc: 0.9837 - val_loss: 2.7119 - val_acc: 0.5951\n",
      "Epoch 35/50\n",
      "13s - loss: 0.0455 - acc: 0.9847 - val_loss: 2.9087 - val_acc: 0.5951\n",
      "Epoch 36/50\n",
      "13s - loss: 0.0470 - acc: 0.9830 - val_loss: 2.6983 - val_acc: 0.5877\n",
      "Epoch 37/50\n",
      "12s - loss: 0.0344 - acc: 0.9887 - val_loss: 2.7255 - val_acc: 0.6101\n",
      "Epoch 38/50\n",
      "13s - loss: 0.0345 - acc: 0.9886 - val_loss: 2.9361 - val_acc: 0.6138\n",
      "Epoch 39/50\n",
      "13s - loss: 0.0332 - acc: 0.9884 - val_loss: 2.9198 - val_acc: 0.6026\n",
      "Epoch 40/50\n",
      "13s - loss: 0.0448 - acc: 0.9847 - val_loss: 2.8543 - val_acc: 0.5877\n",
      "Epoch 41/50\n",
      "13s - loss: 0.0293 - acc: 0.9906 - val_loss: 2.8097 - val_acc: 0.5933\n",
      "Epoch 42/50\n",
      "12s - loss: 0.0333 - acc: 0.9876 - val_loss: 2.9995 - val_acc: 0.5877\n",
      "Epoch 43/50\n",
      "13s - loss: 0.0346 - acc: 0.9884 - val_loss: 2.8459 - val_acc: 0.5821\n",
      "Epoch 44/50\n",
      "13s - loss: 0.0350 - acc: 0.9881 - val_loss: 2.9520 - val_acc: 0.5877\n",
      "Epoch 45/50\n",
      "13s - loss: 0.0296 - acc: 0.9914 - val_loss: 2.9483 - val_acc: 0.6082\n",
      "Epoch 46/50\n",
      "13s - loss: 0.0237 - acc: 0.9917 - val_loss: 3.0426 - val_acc: 0.5970\n",
      "Epoch 47/50\n",
      "13s - loss: 0.0274 - acc: 0.9895 - val_loss: 3.0211 - val_acc: 0.6007\n",
      "Epoch 48/50\n",
      "13s - loss: 0.0318 - acc: 0.9916 - val_loss: 3.0438 - val_acc: 0.5858\n",
      "Epoch 49/50\n",
      "13s - loss: 0.0189 - acc: 0.9945 - val_loss: 3.1622 - val_acc: 0.5896\n",
      "Epoch 50/50\n",
      "13s - loss: 0.0262 - acc: 0.9903 - val_loss: 3.1940 - val_acc: 0.5728\n",
      "Network's test score [loss, accuracy]: [3.1939952764938129, 0.57276119402985071]\n"
     ]
    }
   ],
   "source": [
    "train_top_model(train_feats=train_bottleneck, train_lab=train_labels, test_feats=test_bottleneck, test_lab=test_labels,\n",
    "                model_path=modelPath, model_save=top_model_weights_path)"
   ]
  },
  {
   "cell_type": "code",
   "execution_count": 62,
   "metadata": {
    "collapsed": true
   },
   "outputs": [],
   "source": [
    "feats_loc = '224_test_val/bottleneck_features_test.npy'\n",
    "feats_labs = '224_test_val/labels_test.npy'\n",
    "weight = 'balanced224flips/top_weights_224flip.h5'\n",
    "saveFile = 'balanced224flip'"
   ]
  },
  {
   "cell_type": "code",
   "execution_count": 63,
   "metadata": {
    "collapsed": false
   },
   "outputs": [
    {
     "name": "stdout",
     "output_type": "stream",
     "text": [
      "Confusion matrix, without normalization\n",
      "[[141  26  48]\n",
      " [ 26  85  31]\n",
      " [ 68  25  86]]\n"
     ]
    },
    {
     "data": {
      "image/png": "[encoded data removed]",
      "text/plain": [
       "<matplotlib.figure.Figure at 0x1077ef28>"
      ]
     },
     "metadata": {},
     "output_type": "display_data"
    }
   ],
   "source": [
    "cf_Matrix(data=feats_loc, label=feats_labs, weights=weight, path=modelPath, save=saveFile)"
   ]
  },
  {
   "cell_type": "markdown",
   "metadata": {},
   "source": [
    "## Thresholded Images at 224x224 with no Augmentations"
   ]
  },
  {
   "cell_type": "code",
   "execution_count": 77,
   "metadata": {
    "collapsed": true
   },
   "outputs": [],
   "source": [
    "# Locations for the bottleneck and labels files that we need\n",
    "modelPath = '../model/'\n",
    "train_bottleneck = 'bottleneck_features_train_224th.npy'\n",
    "train_labels = 'labels_train_224th.npy'\n",
    "test_bottleneck = 'bottleneck_features_test.npy'\n",
    "test_labels = 'labels_test.npy'\n",
    "validation_bottleneck = 'bottleneck_features_valdation.npy'\n",
    "validation_label = 'labels_validation.npy'\n",
    "top_model_weights_path = 'top_weights_224th.h5'"
   ]
  },
  {
   "cell_type": "code",
   "execution_count": 78,
   "metadata": {
    "collapsed": false,
    "scrolled": true
   },
   "outputs": [
    {
     "name": "stdout",
     "output_type": "stream",
     "text": [
      "Train on 2014 samples, validate on 510 samples\n",
      "Epoch 1/50\n",
      "3s - loss: 8.1830 - acc: 0.4464 - val_loss: 8.2889 - val_acc: 0.4529\n",
      "Epoch 2/50\n",
      "3s - loss: 7.1938 - acc: 0.5238 - val_loss: 8.9006 - val_acc: 0.4196\n",
      "Epoch 3/50\n",
      "3s - loss: 6.8866 - acc: 0.5328 - val_loss: 7.2767 - val_acc: 0.4980\n",
      "Epoch 4/50\n",
      "3s - loss: 5.9568 - acc: 0.5814 - val_loss: 7.6397 - val_acc: 0.4843\n",
      "Epoch 5/50\n",
      "3s - loss: 5.8106 - acc: 0.5983 - val_loss: 6.7615 - val_acc: 0.5294\n",
      "Epoch 6/50\n",
      "3s - loss: 5.3491 - acc: 0.6112 - val_loss: 7.0674 - val_acc: 0.5098\n",
      "Epoch 7/50\n",
      "3s - loss: 4.5578 - acc: 0.6594 - val_loss: 7.1049 - val_acc: 0.4922\n",
      "Epoch 8/50\n",
      "3s - loss: 4.3890 - acc: 0.6430 - val_loss: 5.2989 - val_acc: 0.5275\n",
      "Epoch 9/50\n",
      "3s - loss: 2.9174 - acc: 0.7046 - val_loss: 3.4844 - val_acc: 0.5569\n",
      "Epoch 10/50\n",
      "3s - loss: 1.2611 - acc: 0.7393 - val_loss: 1.4448 - val_acc: 0.5196\n",
      "Epoch 11/50\n",
      "3s - loss: 0.5694 - acc: 0.8059 - val_loss: 1.4692 - val_acc: 0.5412\n",
      "Epoch 12/50\n",
      "3s - loss: 0.4477 - acc: 0.8322 - val_loss: 1.5084 - val_acc: 0.5373\n",
      "Epoch 13/50\n",
      "3s - loss: 0.3319 - acc: 0.8764 - val_loss: 1.4581 - val_acc: 0.5569\n",
      "Epoch 14/50\n",
      "3s - loss: 0.2353 - acc: 0.9146 - val_loss: 1.7630 - val_acc: 0.5863\n",
      "Epoch 15/50\n",
      "3s - loss: 0.2207 - acc: 0.9156 - val_loss: 1.9107 - val_acc: 0.5627\n",
      "Epoch 16/50\n",
      "3s - loss: 0.1717 - acc: 0.9325 - val_loss: 1.7110 - val_acc: 0.5765\n",
      "Epoch 17/50\n",
      "3s - loss: 0.1418 - acc: 0.9469 - val_loss: 2.0517 - val_acc: 0.5941\n",
      "Epoch 18/50\n",
      "3s - loss: 0.1245 - acc: 0.9558 - val_loss: 1.8684 - val_acc: 0.5725\n",
      "Epoch 19/50\n",
      "3s - loss: 0.0960 - acc: 0.9647 - val_loss: 2.1547 - val_acc: 0.5667\n",
      "Epoch 20/50\n",
      "3s - loss: 0.0788 - acc: 0.9732 - val_loss: 2.3561 - val_acc: 0.5627\n",
      "Epoch 21/50\n",
      "3s - loss: 0.0832 - acc: 0.9752 - val_loss: 2.2611 - val_acc: 0.5765\n",
      "Epoch 22/50\n",
      "3s - loss: 0.0878 - acc: 0.9702 - val_loss: 2.4544 - val_acc: 0.5569\n",
      "Epoch 23/50\n",
      "3s - loss: 0.0587 - acc: 0.9796 - val_loss: 2.4578 - val_acc: 0.5588\n",
      "Epoch 24/50\n",
      "3s - loss: 0.0627 - acc: 0.9782 - val_loss: 2.3713 - val_acc: 0.5784\n",
      "Epoch 25/50\n",
      "3s - loss: 0.0359 - acc: 0.9856 - val_loss: 2.6396 - val_acc: 0.5588\n",
      "Epoch 26/50\n",
      "3s - loss: 0.0347 - acc: 0.9891 - val_loss: 2.6468 - val_acc: 0.5627\n",
      "Epoch 27/50\n",
      "3s - loss: 0.0361 - acc: 0.9876 - val_loss: 2.5269 - val_acc: 0.5706\n",
      "Epoch 28/50\n",
      "3s - loss: 0.0606 - acc: 0.9811 - val_loss: 2.8372 - val_acc: 0.5471\n",
      "Epoch 29/50\n",
      "3s - loss: 0.0460 - acc: 0.9826 - val_loss: 2.5065 - val_acc: 0.5569\n",
      "Epoch 30/50\n",
      "3s - loss: 0.0176 - acc: 0.9940 - val_loss: 2.7181 - val_acc: 0.5569\n",
      "Epoch 31/50\n",
      "3s - loss: 0.0368 - acc: 0.9911 - val_loss: 2.7062 - val_acc: 0.5902\n",
      "Epoch 32/50\n",
      "3s - loss: 0.0247 - acc: 0.9930 - val_loss: 2.6707 - val_acc: 0.5588\n",
      "Epoch 33/50\n",
      "3s - loss: 0.0199 - acc: 0.9930 - val_loss: 2.7710 - val_acc: 0.5941\n",
      "Epoch 34/50\n",
      "3s - loss: 0.0202 - acc: 0.9945 - val_loss: 2.9551 - val_acc: 0.5765\n",
      "Epoch 35/50\n",
      "3s - loss: 0.0454 - acc: 0.9841 - val_loss: 2.8813 - val_acc: 0.5647\n",
      "Epoch 36/50\n",
      "3s - loss: 0.0330 - acc: 0.9881 - val_loss: 2.9774 - val_acc: 0.5765\n",
      "Epoch 37/50\n",
      "3s - loss: 0.0260 - acc: 0.9916 - val_loss: 2.9989 - val_acc: 0.5510\n",
      "Epoch 38/50\n",
      "3s - loss: 0.0196 - acc: 0.9930 - val_loss: 2.8463 - val_acc: 0.5725\n",
      "Epoch 39/50\n",
      "3s - loss: 0.0143 - acc: 0.9965 - val_loss: 3.0877 - val_acc: 0.5549\n",
      "Epoch 40/50\n",
      "3s - loss: 0.0236 - acc: 0.9906 - val_loss: 3.1074 - val_acc: 0.5608\n",
      "Epoch 41/50\n",
      "3s - loss: 0.0102 - acc: 0.9960 - val_loss: 2.8901 - val_acc: 0.5824\n",
      "Epoch 42/50\n",
      "3s - loss: 0.0134 - acc: 0.9955 - val_loss: 3.1207 - val_acc: 0.5765\n",
      "Epoch 43/50\n",
      "3s - loss: 0.0042 - acc: 0.9990 - val_loss: 3.0206 - val_acc: 0.5824\n",
      "Epoch 44/50\n",
      "3s - loss: 0.0189 - acc: 0.9921 - val_loss: 3.2029 - val_acc: 0.5549\n",
      "Epoch 45/50\n",
      "3s - loss: 0.0120 - acc: 0.9955 - val_loss: 2.9361 - val_acc: 0.5784\n",
      "Epoch 46/50\n",
      "4s - loss: 0.0117 - acc: 0.9945 - val_loss: 2.8603 - val_acc: 0.5941\n",
      "Epoch 47/50\n",
      "3s - loss: 0.0217 - acc: 0.9935 - val_loss: 3.1290 - val_acc: 0.5863\n",
      "Epoch 48/50\n",
      "4s - loss: 0.0154 - acc: 0.9940 - val_loss: 3.1971 - val_acc: 0.5843\n",
      "Epoch 49/50\n",
      "4s - loss: 0.0097 - acc: 0.9965 - val_loss: 3.1335 - val_acc: 0.5961\n",
      "Epoch 50/50\n",
      "4s - loss: 0.0073 - acc: 0.9970 - val_loss: 3.3308 - val_acc: 0.5941\n",
      "Network's test score [loss, accuracy]: [3.3308228604933796, 0.59411764752631091]\n"
     ]
    }
   ],
   "source": [
    "train_top_model(train_feats=train_bottleneck, train_lab=train_labels, test_feats=test_bottleneck, test_lab=test_labels,\n",
    "                model_path=modelPath, model_save=top_model_weights_path)"
   ]
  },
  {
   "cell_type": "code",
   "execution_count": 79,
   "metadata": {
    "collapsed": true
   },
   "outputs": [],
   "source": [
    "feats_loc = '224_threshold/bottleneck_features_test.npy'\n",
    "feats_labs = '224_threshold/labels_test.npy'\n",
    "weight = 'balanced224Threshold/top_weights_224th.h5'\n",
    "saveFile = 'balanced224Threshold'"
   ]
  },
  {
   "cell_type": "code",
   "execution_count": 80,
   "metadata": {
    "collapsed": false,
    "scrolled": false
   },
   "outputs": [
    {
     "name": "stdout",
     "output_type": "stream",
     "text": [
      "Confusion matrix, without normalization\n",
      "[[108  39  54]\n",
      " [ 15 101  22]\n",
      " [ 41  36  94]]\n"
     ]
    },
    {
     "data": {
      "image/png": "[encoded data removed]",
      "text/plain": [
       "<matplotlib.figure.Figure at 0xd7c9be0>"
      ]
     },
     "metadata": {},
     "output_type": "display_data"
    }
   ],
   "source": [
    "cf_Matrix(data=feats_loc, label=feats_labs, weights=weight, path=modelPath, save=saveFile)"
   ]
  },
  {
   "cell_type": "markdown",
   "metadata": {},
   "source": [
    "## 224x224 DDSM - Two Categories\n",
    "Attempting to learn the difference between normal annd abnormal."
   ]
  },
  {
   "cell_type": "code",
   "execution_count": 24,
   "metadata": {
    "collapsed": true
   },
   "outputs": [],
   "source": [
    "# Locations for the bottleneck and labels files that we need\n",
    "modelPath = '../model/'\n",
    "train_bottleneck = 'bottleneck_features_train_224twoclass.npy'\n",
    "train_labels = 'labels_train_224twoclass.npy'\n",
    "test_bottleneck = 'bottleneck_features_test.npy'\n",
    "test_labels = 'labels_test.npy'\n",
    "validation_bottleneck = 'bottleneck_features_valdation.npy'\n",
    "validation_label = 'labels_validation.npy'\n",
    "top_model_weights_path = 'top_weights_224twoclass.h5'"
   ]
  },
  {
   "cell_type": "code",
   "execution_count": 27,
   "metadata": {
    "collapsed": false,
    "scrolled": true
   },
   "outputs": [
    {
     "name": "stdout",
     "output_type": "stream",
     "text": [
      "Train on 2132 samples, validate on 726 samples\n",
      "Epoch 1/50\n",
      "3s - loss: 9.0405 - acc: 0.4357 - val_loss: 8.9915 - val_acc: 0.4421\n",
      "Epoch 2/50\n",
      "2s - loss: 9.1553 - acc: 0.4320 - val_loss: 8.9915 - val_acc: 0.4421\n",
      "Epoch 3/50\n",
      "2s - loss: 9.1553 - acc: 0.4320 - val_loss: 8.9915 - val_acc: 0.4421\n",
      "Epoch 4/50\n",
      "2s - loss: 9.1553 - acc: 0.4320 - val_loss: 8.9915 - val_acc: 0.4421\n",
      "Epoch 5/50\n",
      "2s - loss: 9.1553 - acc: 0.4320 - val_loss: 8.9915 - val_acc: 0.4421\n",
      "Epoch 6/50\n",
      "2s - loss: 9.1553 - acc: 0.4320 - val_loss: 8.9915 - val_acc: 0.4421\n",
      "Epoch 7/50\n",
      "2s - loss: 8.5571 - acc: 0.4583 - val_loss: 6.0665 - val_acc: 0.5647\n",
      "Epoch 8/50\n",
      "2s - loss: 5.2383 - acc: 0.6449 - val_loss: 5.4206 - val_acc: 0.6336\n",
      "Epoch 9/50\n",
      "3s - loss: 4.7382 - acc: 0.6740 - val_loss: 5.1151 - val_acc: 0.6556\n",
      "Epoch 10/50\n",
      "3s - loss: 4.5675 - acc: 0.6923 - val_loss: 6.3147 - val_acc: 0.5895\n",
      "Epoch 11/50\n",
      "2s - loss: 4.4737 - acc: 0.6867 - val_loss: 5.2891 - val_acc: 0.6253\n",
      "Epoch 12/50\n",
      "2s - loss: 4.3114 - acc: 0.7054 - val_loss: 4.7715 - val_acc: 0.6653\n",
      "Epoch 13/50\n",
      "3s - loss: 3.8600 - acc: 0.7280 - val_loss: 5.1645 - val_acc: 0.6543\n",
      "Epoch 14/50\n",
      "3s - loss: 3.5980 - acc: 0.7322 - val_loss: 5.8159 - val_acc: 0.6129\n",
      "Epoch 15/50\n",
      "2s - loss: 3.3246 - acc: 0.7294 - val_loss: 3.8049 - val_acc: 0.6240\n",
      "Epoch 16/50\n",
      "3s - loss: 1.9917 - acc: 0.7566 - val_loss: 1.1654 - val_acc: 0.6749\n",
      "Epoch 17/50\n",
      "3s - loss: 0.5938 - acc: 0.7974 - val_loss: 0.7741 - val_acc: 0.6722\n",
      "Epoch 18/50\n",
      "3s - loss: 0.4065 - acc: 0.8433 - val_loss: 0.8792 - val_acc: 0.6584\n",
      "Epoch 19/50\n",
      "3s - loss: 0.3029 - acc: 0.8696 - val_loss: 0.9090 - val_acc: 0.6625\n",
      "Epoch 20/50\n",
      "2s - loss: 0.2553 - acc: 0.8912 - val_loss: 1.0548 - val_acc: 0.6736\n",
      "Epoch 21/50\n",
      "3s - loss: 0.2128 - acc: 0.9071 - val_loss: 1.0454 - val_acc: 0.6708\n",
      "Epoch 22/50\n",
      "2s - loss: 0.1737 - acc: 0.9315 - val_loss: 1.3895 - val_acc: 0.6281\n",
      "Epoch 23/50\n",
      "2s - loss: 0.1471 - acc: 0.9432 - val_loss: 0.9877 - val_acc: 0.6915\n",
      "Epoch 24/50\n",
      "2s - loss: 0.1047 - acc: 0.9601 - val_loss: 1.4462 - val_acc: 0.6736\n",
      "Epoch 25/50\n",
      "2s - loss: 0.0840 - acc: 0.9714 - val_loss: 1.4133 - val_acc: 0.6474\n",
      "Epoch 26/50\n",
      "2s - loss: 0.0639 - acc: 0.9770 - val_loss: 1.3354 - val_acc: 0.6983\n",
      "Epoch 27/50\n",
      "3s - loss: 0.0694 - acc: 0.9705 - val_loss: 1.4562 - val_acc: 0.6364\n",
      "Epoch 28/50\n",
      "3s - loss: 0.0346 - acc: 0.9883 - val_loss: 1.4437 - val_acc: 0.6749\n",
      "Epoch 29/50\n",
      "3s - loss: 0.0429 - acc: 0.9841 - val_loss: 1.3963 - val_acc: 0.6763\n",
      "Epoch 30/50\n",
      "2s - loss: 0.0404 - acc: 0.9864 - val_loss: 1.5443 - val_acc: 0.6804\n",
      "Epoch 31/50\n",
      "3s - loss: 0.0364 - acc: 0.9883 - val_loss: 1.4943 - val_acc: 0.6736\n",
      "Epoch 32/50\n",
      "2s - loss: 0.0241 - acc: 0.9939 - val_loss: 1.6623 - val_acc: 0.6680\n",
      "Epoch 33/50\n",
      "3s - loss: 0.0630 - acc: 0.9784 - val_loss: 1.6040 - val_acc: 0.6680\n",
      "Epoch 34/50\n",
      "2s - loss: 0.0186 - acc: 0.9930 - val_loss: 1.5998 - val_acc: 0.6928\n",
      "Epoch 35/50\n",
      "3s - loss: 0.0364 - acc: 0.9906 - val_loss: 1.7292 - val_acc: 0.6515\n",
      "Epoch 36/50\n",
      "2s - loss: 0.0238 - acc: 0.9916 - val_loss: 1.6897 - val_acc: 0.6694\n",
      "Epoch 37/50\n",
      "3s - loss: 0.0108 - acc: 0.9967 - val_loss: 1.7355 - val_acc: 0.6377\n",
      "Epoch 38/50\n",
      "3s - loss: 0.0197 - acc: 0.9934 - val_loss: 1.8210 - val_acc: 0.6639\n",
      "Epoch 39/50\n",
      "3s - loss: 0.0181 - acc: 0.9920 - val_loss: 1.7559 - val_acc: 0.6887\n",
      "Epoch 40/50\n",
      "3s - loss: 0.0155 - acc: 0.9944 - val_loss: 1.7872 - val_acc: 0.6818\n",
      "Epoch 41/50\n",
      "3s - loss: 0.0117 - acc: 0.9962 - val_loss: 1.9209 - val_acc: 0.6612\n",
      "Epoch 42/50\n",
      "3s - loss: 0.0106 - acc: 0.9967 - val_loss: 1.8536 - val_acc: 0.6749\n",
      "Epoch 43/50\n",
      "3s - loss: 0.0082 - acc: 0.9972 - val_loss: 2.0483 - val_acc: 0.6887\n",
      "Epoch 44/50\n",
      "3s - loss: 0.0067 - acc: 0.9958 - val_loss: 2.0002 - val_acc: 0.6680\n",
      "Epoch 45/50\n",
      "3s - loss: 0.0102 - acc: 0.9958 - val_loss: 2.0432 - val_acc: 0.6639\n",
      "Epoch 46/50\n",
      "3s - loss: 0.0272 - acc: 0.9911 - val_loss: 2.0189 - val_acc: 0.6653\n",
      "Epoch 47/50\n",
      "3s - loss: 0.0083 - acc: 0.9972 - val_loss: 1.9991 - val_acc: 0.6322\n",
      "Epoch 48/50\n",
      "3s - loss: 0.0078 - acc: 0.9986 - val_loss: 1.8857 - val_acc: 0.6680\n",
      "Epoch 49/50\n",
      "3s - loss: 0.0111 - acc: 0.9967 - val_loss: 2.2107 - val_acc: 0.6570\n",
      "Epoch 50/50\n",
      "3s - loss: 0.0102 - acc: 0.9972 - val_loss: 2.0708 - val_acc: 0.6983\n",
      "Network's test score [loss, accuracy]: [2.0707934257412743, 0.69834710760221663]\n"
     ]
    }
   ],
   "source": [
    "train_top_model(train_feats=train_bottleneck, train_lab=train_labels, test_feats=test_bottleneck, test_lab=test_labels,\n",
    "                model_path=modelPath, model_save=top_model_weights_path)"
   ]
  },
  {
   "cell_type": "code",
   "execution_count": 29,
   "metadata": {
    "collapsed": true
   },
   "outputs": [],
   "source": [
    "feats_loc = '224_binary/bottleneck_features_test.npy'\n",
    "feats_labs = '224_binary/labels_test.npy'\n",
    "weight = 'balanced224Binary/top_weights_224twoclass.h5'\n",
    "saveFile = 'balanced224Twoclass'"
   ]
  },
  {
   "cell_type": "code",
   "execution_count": 30,
   "metadata": {
    "collapsed": false
   },
   "outputs": [
    {
     "name": "stdout",
     "output_type": "stream",
     "text": [
      "Confusion matrix, without normalization\n",
      "[[278 127]\n",
      " [ 92 229]]\n"
     ]
    },
    {
     "data": {
      "image/png": "[encoded data removed]",
      "text/plain": [
       "<matplotlib.figure.Figure at 0x117b9f60>"
      ]
     },
     "metadata": {},
     "output_type": "display_data"
    }
   ],
   "source": [
    "cf_Matrix(data=feats_loc, label=feats_labs, weights=weight, path=modelPath, save=saveFile)"
   ]
  },
  {
   "cell_type": "markdown",
   "metadata": {},
   "source": [
    "## 224x224 DDSM Thresholded Images - Two Categories"
   ]
  },
  {
   "cell_type": "code",
   "execution_count": 33,
   "metadata": {
    "collapsed": true
   },
   "outputs": [],
   "source": [
    "# Locations for the bottleneck and labels files that we need\n",
    "modelPath = '../model/'\n",
    "train_bottleneck = 'bottleneck_features_train_224th_twoclass.npy'\n",
    "train_labels = 'labels_train_224th_twoclass.npy'\n",
    "test_bottleneck = 'bottleneck_features_test.npy'\n",
    "test_labels = 'labels_test.npy'\n",
    "validation_bottleneck = 'bottleneck_features_valdation.npy'\n",
    "validation_label = 'labels_validation.npy'\n",
    "top_model_weights_path = 'top_weights_224th_twoclass.h5'"
   ]
  },
  {
   "cell_type": "code",
   "execution_count": 35,
   "metadata": {
    "collapsed": false,
    "scrolled": true
   },
   "outputs": [
    {
     "name": "stdout",
     "output_type": "stream",
     "text": [
      "Train on 2132 samples, validate on 688 samples\n",
      "Epoch 1/50\n",
      "2s - loss: 5.6654 - acc: 0.6055 - val_loss: 5.7420 - val_acc: 0.6134\n",
      "Epoch 2/50\n",
      "2s - loss: 4.9361 - acc: 0.6585 - val_loss: 5.2615 - val_acc: 0.6163\n",
      "Epoch 3/50\n",
      "2s - loss: 4.8171 - acc: 0.6538 - val_loss: 4.8884 - val_acc: 0.6526\n",
      "Epoch 4/50\n",
      "2s - loss: 4.2685 - acc: 0.6895 - val_loss: 4.9389 - val_acc: 0.6308\n",
      "Epoch 5/50\n",
      "2s - loss: 3.4425 - acc: 0.7270 - val_loss: 4.1251 - val_acc: 0.6206\n",
      "Epoch 6/50\n",
      "2s - loss: 1.9883 - acc: 0.7265 - val_loss: 1.1036 - val_acc: 0.6206\n",
      "Epoch 7/50\n",
      "2s - loss: 0.4826 - acc: 0.7871 - val_loss: 0.7872 - val_acc: 0.6076\n",
      "Epoch 8/50\n",
      "2s - loss: 0.3752 - acc: 0.8335 - val_loss: 0.8678 - val_acc: 0.6483\n",
      "Epoch 9/50\n",
      "2s - loss: 0.3141 - acc: 0.8635 - val_loss: 1.0520 - val_acc: 0.6613\n",
      "Epoch 10/50\n",
      "2s - loss: 0.2520 - acc: 0.8912 - val_loss: 1.0241 - val_acc: 0.6483\n",
      "Epoch 11/50\n",
      "2s - loss: 0.1943 - acc: 0.9207 - val_loss: 1.1214 - val_acc: 0.6308\n",
      "Epoch 12/50\n",
      "2s - loss: 0.1705 - acc: 0.9287 - val_loss: 1.1477 - val_acc: 0.6453\n",
      "Epoch 13/50\n",
      "2s - loss: 0.1196 - acc: 0.9597 - val_loss: 1.1482 - val_acc: 0.6221\n",
      "Epoch 14/50\n",
      "2s - loss: 0.0993 - acc: 0.9601 - val_loss: 1.3043 - val_acc: 0.6512\n",
      "Epoch 15/50\n",
      "2s - loss: 0.0866 - acc: 0.9723 - val_loss: 1.4471 - val_acc: 0.6250\n",
      "Epoch 16/50\n",
      "2s - loss: 0.0721 - acc: 0.9742 - val_loss: 1.2648 - val_acc: 0.6192\n",
      "Epoch 17/50\n",
      "2s - loss: 0.0543 - acc: 0.9780 - val_loss: 1.3697 - val_acc: 0.6352\n",
      "Epoch 18/50\n",
      "2s - loss: 0.0369 - acc: 0.9892 - val_loss: 1.4602 - val_acc: 0.6424\n",
      "Epoch 19/50\n",
      "2s - loss: 0.0386 - acc: 0.9892 - val_loss: 1.5137 - val_acc: 0.6541\n",
      "Epoch 20/50\n",
      "2s - loss: 0.0245 - acc: 0.9939 - val_loss: 1.6529 - val_acc: 0.6424\n",
      "Epoch 21/50\n",
      "2s - loss: 0.0196 - acc: 0.9948 - val_loss: 1.6608 - val_acc: 0.6453\n",
      "Epoch 22/50\n",
      "2s - loss: 0.0222 - acc: 0.9939 - val_loss: 1.8662 - val_acc: 0.6555\n",
      "Epoch 23/50\n",
      "2s - loss: 0.0367 - acc: 0.9859 - val_loss: 1.7436 - val_acc: 0.6337\n",
      "Epoch 24/50\n",
      "2s - loss: 0.0169 - acc: 0.9944 - val_loss: 1.7366 - val_acc: 0.6279\n",
      "Epoch 25/50\n",
      "2s - loss: 0.0225 - acc: 0.9939 - val_loss: 1.8307 - val_acc: 0.6424\n",
      "Epoch 26/50\n",
      "2s - loss: 0.0170 - acc: 0.9948 - val_loss: 1.8614 - val_acc: 0.6672\n",
      "Epoch 27/50\n",
      "2s - loss: 0.0255 - acc: 0.9892 - val_loss: 1.9788 - val_acc: 0.6628\n",
      "Epoch 28/50\n",
      "2s - loss: 0.0111 - acc: 0.9972 - val_loss: 1.9517 - val_acc: 0.6337\n",
      "Epoch 29/50\n",
      "2s - loss: 0.0096 - acc: 0.9972 - val_loss: 2.0733 - val_acc: 0.6497\n",
      "Epoch 30/50\n",
      "2s - loss: 0.0155 - acc: 0.9934 - val_loss: 2.0157 - val_acc: 0.6395\n",
      "Epoch 31/50\n",
      "2s - loss: 0.0096 - acc: 0.9972 - val_loss: 2.1630 - val_acc: 0.6395\n",
      "Epoch 32/50\n",
      "2s - loss: 0.0195 - acc: 0.9939 - val_loss: 2.2044 - val_acc: 0.6410\n",
      "Epoch 33/50\n",
      "2s - loss: 0.0082 - acc: 0.9958 - val_loss: 2.0791 - val_acc: 0.6439\n",
      "Epoch 34/50\n",
      "2s - loss: 0.0059 - acc: 0.9981 - val_loss: 2.2785 - val_acc: 0.6526\n",
      "Epoch 35/50\n",
      "2s - loss: 0.0052 - acc: 0.9986 - val_loss: 2.1873 - val_acc: 0.6541\n",
      "Epoch 36/50\n",
      "2s - loss: 0.0134 - acc: 0.9958 - val_loss: 2.2006 - val_acc: 0.6468\n",
      "Epoch 37/50\n",
      "2s - loss: 0.0069 - acc: 0.9962 - val_loss: 2.3117 - val_acc: 0.6526\n",
      "Epoch 38/50\n",
      "2s - loss: 0.0056 - acc: 0.9981 - val_loss: 2.2882 - val_acc: 0.6613\n",
      "Epoch 39/50\n",
      "2s - loss: 0.0107 - acc: 0.9953 - val_loss: 2.3937 - val_acc: 0.6381\n",
      "Epoch 40/50\n",
      "2s - loss: 0.0192 - acc: 0.9948 - val_loss: 2.3679 - val_acc: 0.6265\n",
      "Epoch 41/50\n",
      "3s - loss: 0.0073 - acc: 0.9981 - val_loss: 2.4673 - val_acc: 0.6453\n",
      "Epoch 42/50\n",
      "3s - loss: 0.0094 - acc: 0.9962 - val_loss: 2.4377 - val_acc: 0.6235\n",
      "Epoch 43/50\n",
      "3s - loss: 0.0040 - acc: 0.9991 - val_loss: 2.2931 - val_acc: 0.6410\n",
      "Epoch 44/50\n",
      "3s - loss: 0.0053 - acc: 0.9986 - val_loss: 2.2906 - val_acc: 0.6468\n",
      "Epoch 45/50\n",
      "3s - loss: 0.0063 - acc: 0.9991 - val_loss: 2.4707 - val_acc: 0.6512\n",
      "Epoch 46/50\n",
      "3s - loss: 0.0107 - acc: 0.9953 - val_loss: 2.3623 - val_acc: 0.6395\n",
      "Epoch 47/50\n",
      "3s - loss: 0.0080 - acc: 0.9977 - val_loss: 2.3055 - val_acc: 0.6613\n",
      "Epoch 48/50\n",
      "3s - loss: 0.0045 - acc: 0.9991 - val_loss: 2.3601 - val_acc: 0.6497\n",
      "Epoch 49/50\n",
      "3s - loss: 0.0024 - acc: 0.9995 - val_loss: 2.4945 - val_acc: 0.6483\n",
      "Epoch 50/50\n",
      "4s - loss: 0.0035 - acc: 0.9991 - val_loss: 2.4660 - val_acc: 0.6555\n",
      "Network's test score [loss, accuracy]: [2.465950372607209, 0.65552325581395354]\n"
     ]
    }
   ],
   "source": [
    "train_top_model(train_feats=train_bottleneck, train_lab=train_labels, test_feats=test_bottleneck, test_lab=test_labels,\n",
    "                model_path=modelPath, model_save=top_model_weights_path)"
   ]
  },
  {
   "cell_type": "code",
   "execution_count": 36,
   "metadata": {
    "collapsed": true
   },
   "outputs": [],
   "source": [
    "feats_loc = '224_binary/bottleneck_features_test.npy'\n",
    "feats_labs = '224_binary/labels_test.npy'\n",
    "weight = 'balanced224Th_Binary/top_weights_224th_twoclass.h5'\n",
    "saveFile = 'balanced224Twoclass'"
   ]
  },
  {
   "cell_type": "code",
   "execution_count": 37,
   "metadata": {
    "collapsed": false
   },
   "outputs": [
    {
     "name": "stdout",
     "output_type": "stream",
     "text": [
      "Confusion matrix, without normalization\n",
      "[[334  71]\n",
      " [218 103]]\n"
     ]
    },
    {
     "data": {
      "image/png": "[encoded data removed]",
      "text/plain": [
       "<matplotlib.figure.Figure at 0x19d180f0>"
      ]
     },
     "metadata": {},
     "output_type": "display_data"
    }
   ],
   "source": [
    "cf_Matrix(data=feats_loc, label=feats_labs, weights=weight, path=modelPath, save=saveFile)"
   ]
  },
  {
   "cell_type": "markdown",
   "metadata": {},
   "source": [
    "## Results\n",
    "All results below are run against the train, test, validate csv files located at [Breast Cancer Github Data](https://github.com/jnarhan/Breast_Cancer/tree/master/data)\n",
    "\n",
    "### Aspect Ratio Squared Raw DDSM Images with Artifacts\n",
    "1) Run 1: 150x150 image size, 50 Epochs, Batch Size 64\n",
    "    * Network's test score [loss, accuracy]: [2.4609192387381595, 0.58582089552238803]\n",
    "2) Run 2: 150x150 image size, 50 Epochs, Batch Size 64, Full Augmentations\n",
    "    * Network's test score [loss, accuracy]: [2.8447668943832172, 0.57276119402985071]\n",
    "3) Run 3: 224x224 image size, 50 Epochs, Batch Size 64\n",
    "    * Network's test score [loss, accuracy]: [2.7020884663311402, 0.59888059701492535]\n",
    "4) Run 4: 224x224 image size, 50 Epochs, Bath Size 64, Vertical and Horizontal Flips\n",
    "    * Network's test score [loss, accuracy]: [3.1939952764938129, 0.57276119402985071]\n",
    "\n",
    "### Aspect Ratio Squard Thresholded DDSM Images\n",
    "1) Run 1: 224x224 image size, 50 Epochs, Batch Size 64 \n",
    "    * Network's test score [loss, accuracy]: [3.3308228604933796, 0.59411764752631091]\n",
    "\n",
    "### Two Class Problem\n",
    "1) Run 1: 224x224 image size, DDSM images with Artifacts, 50 Epochs, Batch Size = 64 \n",
    "    * Network's test score [loss, accuracy]: [2.0707934257412743, 0.69834710760221663]\n",
    "2) Run 2: 224x224 image size, Thresholded images, 50 Epochs, Batch Size = 64\n",
    "    * Network's test score [loss, accuracy]: [2.465950372607209, 0.65552325581395354]"
   ]
  },
  {
   "cell_type": "code",
   "execution_count": null,
   "metadata": {
    "collapsed": true
   },
   "outputs": [],
   "source": []
  }
 ],
 "metadata": {
  "anaconda-cloud": {},
  "kernelspec": {
   "display_name": "Python [conda root]",
   "language": "python",
   "name": "conda-root-py"
  },
  "language_info": {
   "codemirror_mode": {
    "name": "ipython",
    "version": 2
   },
   "file_extension": ".py",
   "mimetype": "text/x-python",
   "name": "python",
   "nbconvert_exporter": "python",
   "pygments_lexer": "ipython2",
   "version": "2.7.13"
  }
 },
 "nbformat": 4,
 "nbformat_minor": 2
}
