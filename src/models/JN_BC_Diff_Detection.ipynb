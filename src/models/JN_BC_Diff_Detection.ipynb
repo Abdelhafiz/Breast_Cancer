{
 "cells": [
  {
   "cell_type": "markdown",
   "metadata": {},
   "source": [
    "<hr>\n",
    "<h1>Detecting Abnormalities in Mammograms</h1>\n",
    "\n",
    "<p>Jay Narhan</p>\n",
    "May 2017\n",
    "\n",
    "Screening for breast cancer will often make use of mammography as the primary imaging modality for early detection efforts. However identifying abnormalities is a difficult problem due to large variability in the appearance of normal and abnormal tissue in mammograms and due to the subtlety associated with abnormal manifestations. Indeed, the interpretation of mammography imaging is still a manual process that is prone to human error. The application of automated classification of mammography is <a href=\"http://www.sciencedirect.com/science/article/pii/S0169260715300110\">described</a> as an unsolved problem. As such, this workbook aims to extend research into how machine learning technologies may supplement the <b>detection efforts</b> of radiologists.\n",
    "\n",
    "Presented in this workbook are a number of models that have been developed to classify breast tissue imaging as either normal or abnormal, where abnormality contains benign and/or malignant lesions (masses or calcifications).\n",
    "\n",
    "A number of preprocessing steps have been performed before application of these models. These steps include thresholding and segmentation of hardware artifacts from breast tissue. The preprocessing also includes the generation of difference images for every bilateral pairings of CC and MLO mammogram views for each patient in the data set. The data being used consists of these differenced images.\n",
    "\n",
    "The workbook also leverages a modified version of the Synthetic Minority Over-sampling Technique (SMOTE), which looks to balance under-represented classes in the differenced dataset through creating synthetic minority cases via image augmentation (e.g. rotations, vertical and horizontal pixel shifts).\n",
    "\n",
    "In detection cases, this has a minor improvement in performance metrics. In the diagnosis workbook, it has a major impact on improvements.\n",
    "\n",
    "<hr>"
   ]
  },
  {
   "cell_type": "code",
   "execution_count": 1,
   "metadata": {},
   "outputs": [
    {
     "name": "stderr",
     "output_type": "stream",
     "text": [
      "Using Theano backend.\n"
     ]
    }
   ],
   "source": [
    "import os\n",
    "import sys\n",
    "import time\n",
    "import numpy as np\n",
    "\n",
    "from tqdm import tqdm\n",
    "\n",
    "import sklearn.metrics as skm\n",
    "from sklearn import metrics\n",
    "from sklearn.svm import SVC\n",
    "from sklearn.model_selection import train_test_split\n",
    "\n",
    "from skimage import color\n",
    "\n",
    "import keras.callbacks as cb\n",
    "import keras.utils.np_utils as np_utils\n",
    "from keras import applications\n",
    "from keras import regularizers\n",
    "from keras.models import Sequential\n",
    "from keras.constraints import maxnorm\n",
    "from keras.preprocessing.image import ImageDataGenerator\n",
    "from keras.layers.convolutional import Convolution2D, MaxPooling2D\n",
    "from keras.layers import Activation, Dense, Dropout, Flatten, GaussianNoise\n",
    "\n",
    "from matplotlib import pyplot as plt\n",
    "%matplotlib inline\n",
    "\n",
    "plt.rcParams['figure.figsize'] = (10,10)\n",
    "np.set_printoptions(precision=2)\n",
    "\n",
    "sys.path.insert(0, '../helper_modules/')\n",
    "import jn_bc_helper as bc"
   ]
  },
  {
   "cell_type": "markdown",
   "metadata": {},
   "source": [
    "<h2>Reproducible Research</h2>"
   ]
  },
  {
   "cell_type": "code",
   "execution_count": 2,
   "metadata": {},
   "outputs": [
    {
     "name": "stdout",
     "output_type": "stream",
     "text": [
      "scipy:           0.19.0\n",
      "numpy:           1.12.1\n",
      "matplotlib:      2.0.0\n",
      "sklearn:         0.18.1\n",
      "skimage:         0.13.0\n",
      "theano:          0.9.0.dev-c697eeab84e5b8a74908da654b66ec9eca4f1291\n",
      "tensorflow:      0.10.0\n",
      "keras:           2.0.3\n"
     ]
    },
    {
     "name": "stderr",
     "output_type": "stream",
     "text": [
      "Python 2.7.13 :: Continuum Analytics, Inc.\n",
      "Using Theano backend.\n"
     ]
    }
   ],
   "source": [
    "%%python\n",
    "import os\n",
    "os.system('python -V')\n",
    "os.system('python ../helper_modules/Package_Versions.py')"
   ]
  },
  {
   "cell_type": "code",
   "execution_count": 3,
   "metadata": {},
   "outputs": [
    {
     "name": "stderr",
     "output_type": "stream",
     "text": [
      "100%|██████████| 2/2 [00:00<00:00, 14004.35it/s]"
     ]
    },
    {
     "name": "stdout",
     "output_type": "stream",
     "text": [
      "----------------\n",
      "Before Balancing\n",
      "----------------\n",
      "abnormal  : 1472\n",
      "normal    : 1072\n"
     ]
    },
    {
     "name": "stderr",
     "output_type": "stream",
     "text": [
      "\n"
     ]
    }
   ],
   "source": [
    "SEED = 7\n",
    "np.random.seed(SEED)\n",
    "\n",
    "CURR_DIR  = os.getcwd()\n",
    "DATA_DIR  = '/Users/jnarhan/Dropbox/Breast_Cancer_Data/Data_Differenced/ALL_IMGS/'\n",
    "AUG_DIR   = '/Users/jnarhan/Dropbox/Breast_Cancer_Data/Data_Differenced/AUG_DETECT_IMGS/'\n",
    "meta_file = '../../Meta_Data_Files/meta_data_detection.csv'\n",
    "PATHO_INX = 3    # Column number of detected label in meta_file\n",
    "FILE_INX  = 1    # Column number of File name in meta_file\n",
    "\n",
    "meta_data, cls_cnts = tqdm( bc.load_meta(meta_file, patho_idx=PATHO_INX, file_idx=FILE_INX,\n",
    "                                   balanceByRemoval=False, verbose=True) )"
   ]
  },
  {
   "cell_type": "code",
   "execution_count": 4,
   "metadata": {},
   "outputs": [
    {
     "name": "stdout",
     "output_type": "stream",
     "text": [
      "------------\n",
      "Loading data\n",
      "------------\n"
     ]
    },
    {
     "name": "stderr",
     "output_type": "stream",
     "text": [
      "100%|██████████| 2/2 [00:00<00:00, 14074.85it/s]\n"
     ]
    }
   ],
   "source": [
    "bc.pprint('Loading data')\n",
    "cats = bc.bcLabels(['normal', 'abnormal'])\n",
    "\n",
    "# For smaller images supply tuple argument for a parameter 'imgResize':\n",
    "# X_data, Y_data = bc.load_data(meta_data, DATA_DIR, cats, imgResize=(150,150)) \n",
    "X_data, Y_data = tqdm( bc.load_data(meta_data, DATA_DIR, cats) )"
   ]
  },
  {
   "cell_type": "markdown",
   "metadata": {},
   "source": [
    "**Class Balancing**\n",
    "\n",
    "Here - I look at a modified version of SMOTE, growing the under-represented class via synthetic augmentation, until there is a balance among the categories:"
   ]
  },
  {
   "cell_type": "code",
   "execution_count": 5,
   "metadata": {
    "collapsed": true
   },
   "outputs": [],
   "source": [
    "datagen = ImageDataGenerator(rotation_range=5, width_shift_range=.01, height_shift_range=0.01,\n",
    "                             data_format='channels_first')"
   ]
  },
  {
   "cell_type": "code",
   "execution_count": 6,
   "metadata": {},
   "outputs": [
    {
     "name": "stdout",
     "output_type": "stream",
     "text": [
      "---------------\n",
      "After Balancing\n",
      "---------------\n",
      "abnormal  : 1472\n",
      "normal    : 1472\n"
     ]
    }
   ],
   "source": [
    "X_data, Y_data = bc.balanceViaSmote(cls_cnts, meta_data, DATA_DIR, AUG_DIR, cats, \n",
    "                                    datagen, X_data, Y_data, seed=SEED, verbose=True)"
   ]
  },
  {
   "cell_type": "markdown",
   "metadata": {},
   "source": [
    "**Create the Training and Test Datasets**"
   ]
  },
  {
   "cell_type": "code",
   "execution_count": 7,
   "metadata": {},
   "outputs": [
    {
     "name": "stdout",
     "output_type": "stream",
     "text": [
      "Size of X_train:  2208\n",
      "Size of X_test:   736\n",
      "Size of Y_train:  2208\n",
      "Size of Y_test:   736\n",
      "(2208, 255, 255)\n",
      "(736, 255, 255)\n",
      "(2208, 1)\n",
      "(736, 1)\n"
     ]
    }
   ],
   "source": [
    "X_train, X_test, Y_train, Y_test = train_test_split(X_data, Y_data,\n",
    "                                                    test_size=0.25,\n",
    "                                                    random_state=SEED,\n",
    "                                                    stratify=zip(*Y_data)[0])\n",
    "\n",
    "print 'Size of X_train: {:>5}'.format(len(X_train))\n",
    "print 'Size of X_test: {:>5}'.format(len(X_test))\n",
    "print 'Size of Y_train: {:>5}'.format(len(Y_train))\n",
    "print 'Size of Y_test: {:>5}'.format(len(Y_test))\n",
    "\n",
    "print X_train.shape\n",
    "print X_test.shape\n",
    "print Y_train.shape\n",
    "print Y_test.shape\n",
    "\n",
    "data = [X_train, X_test, Y_train, Y_test]"
   ]
  },
  {
   "cell_type": "markdown",
   "metadata": {},
   "source": [
    "<h2>Support Vector Machine Model</h2>"
   ]
  },
  {
   "cell_type": "code",
   "execution_count": 8,
   "metadata": {
    "collapsed": true
   },
   "outputs": [],
   "source": [
    "X_train_svm = X_train.reshape( (X_train.shape[0], -1)) \n",
    "X_test_svm  = X_test.reshape( (X_test.shape[0], -1))"
   ]
  },
  {
   "cell_type": "code",
   "execution_count": 9,
   "metadata": {},
   "outputs": [
    {
     "name": "stderr",
     "output_type": "stream",
     "text": [
      "/Users/jnarhan/miniconda2/envs/bc_venv/lib/python2.7/site-packages/sklearn/utils/validation.py:526: DataConversionWarning: A column-vector y was passed when a 1d array was expected. Please change the shape of y to (n_samples, ), for example using ravel().\n",
      "  y = column_or_1d(y, warn=True)\n"
     ]
    },
    {
     "data": {
      "text/plain": [
       "SVC(C=1.0, cache_size=200, class_weight=None, coef0=0.0,\n",
       "  decision_function_shape=None, degree=3, gamma=0.001, kernel='rbf',\n",
       "  max_iter=-1, probability=False, random_state=None, shrinking=True,\n",
       "  tol=0.001, verbose=False)"
      ]
     },
     "execution_count": 9,
     "metadata": {},
     "output_type": "execute_result"
    }
   ],
   "source": [
    "SVM_model = SVC(gamma=0.001)\n",
    "SVM_model.fit( X_train_svm, Y_train)"
   ]
  },
  {
   "cell_type": "code",
   "execution_count": 10,
   "metadata": {},
   "outputs": [
    {
     "name": "stdout",
     "output_type": "stream",
     "text": [
      "SVM Accuracy:   87.23%\n",
      "SVM Error:      12.77%\n"
     ]
    }
   ],
   "source": [
    "predictOutput = SVM_model.predict(X_test_svm)\n",
    "svm_acc = metrics.accuracy_score(y_true=Y_test, y_pred=predictOutput)\n",
    "\n",
    "print 'SVM Accuracy: {: >7.2f}%'.format(svm_acc * 100)\n",
    "print 'SVM Error: {: >10.2f}%'.format(100 - svm_acc * 100)"
   ]
  },
  {
   "cell_type": "code",
   "execution_count": 11,
   "metadata": {},
   "outputs": [
    {
     "name": "stdout",
     "output_type": "stream",
     "text": [
      "Normalized confusion matrix\n",
      "[[ 0.86  0.14]\n",
      " [ 0.11  0.89]]\n"
     ]
    },
    {
     "data": {
      "image/png": "[encoded data removed]",
      "text/plain": [
       "<matplotlib.figure.Figure at 0x16a7bd5d0>"
      ]
     },
     "metadata": {},
     "output_type": "display_data"
    }
   ],
   "source": [
    "svm_matrix = skm.confusion_matrix(y_true=Y_test, y_pred=predictOutput)\n",
    "numBC = bc.reverseDict(cats)\n",
    "class_names = numBC.values()\n",
    "\n",
    "plt.figure(figsize=(8,6))\n",
    "bc.plot_confusion_matrix(svm_matrix, classes=class_names, normalize=True, \n",
    "                         title='SVM Normalized Confusion Matrix Using Differencing \\n')\n",
    "plt.tight_layout()\n",
    "plt.savefig('../../figures/jn_SVM_Detect_CM_20170530.png', dpi=100)"
   ]
  },
  {
   "cell_type": "code",
   "execution_count": 12,
   "metadata": {},
   "outputs": [
    {
     "name": "stdout",
     "output_type": "stream",
     "text": [
      "Confusion matrix, without normalization\n",
      "[[316  52]\n",
      " [ 42 326]]\n"
     ]
    },
    {
     "data": {
      "image/png": "[encoded data removed]",
      "text/plain": [
       "<matplotlib.figure.Figure at 0x16a7bd090>"
      ]
     },
     "metadata": {},
     "output_type": "display_data"
    }
   ],
   "source": [
    "plt.figure(figsize=(8,6))\n",
    "bc.plot_confusion_matrix(svm_matrix, classes=class_names, normalize=False, \n",
    "                         title='SVM Raw Confusion Matrix Using Differencing \\n')\n",
    "plt.tight_layout()"
   ]
  },
  {
   "cell_type": "code",
   "execution_count": 13,
   "metadata": {},
   "outputs": [
    {
     "data": {
      "text/plain": [
       "{'Accuracy': 87.23,\n",
       " 'F1': 0.87,\n",
       " 'NPV': 88.27,\n",
       " 'PPV': 86.24,\n",
       " 'Sensitivity': 88.59,\n",
       " 'Specificity': 85.87}"
      ]
     },
     "execution_count": 13,
     "metadata": {},
     "output_type": "execute_result"
    }
   ],
   "source": [
    "bc.cat_stats(svm_matrix)"
   ]
  },
  {
   "cell_type": "markdown",
   "metadata": {},
   "source": [
    "<h2>CNN Modelling Using VGG16 in Transfer Learning</h2>"
   ]
  },
  {
   "cell_type": "code",
   "execution_count": 14,
   "metadata": {
    "collapsed": true
   },
   "outputs": [],
   "source": [
    "def VGG_Prep(img_data):\n",
    "    \"\"\"\n",
    "    :param img_data: training or test images of shape [#images, height, width]\n",
    "    :return: the array transformed to the correct shape for the VGG network\n",
    "                shape = [#images, height, width, 3] transforms to rgb and reshapes\n",
    "    \"\"\"\n",
    "    images = np.zeros([len(img_data), img_data.shape[1], img_data.shape[2], 3])\n",
    "    for i in range(0, len(img_data)):\n",
    "        im = (img_data[i] * 255)        # Original imagenet images were not rescaled\n",
    "        im = color.gray2rgb(im)\n",
    "        images[i] = im\n",
    "    return(images)"
   ]
  },
  {
   "cell_type": "code",
   "execution_count": 15,
   "metadata": {
    "collapsed": true
   },
   "outputs": [],
   "source": [
    "def vgg16_bottleneck(data, modelPath, fn_train_feats, fn_train_lbls, fn_test_feats, fn_test_lbls):\n",
    "    # Loading data\n",
    "    X_train, X_test, Y_train, Y_test = data\n",
    "    \n",
    "    print('Preparing the Training Data for the VGG_16 Model.')\n",
    "    X_train = VGG_Prep(X_train)\n",
    "    print('Preparing the Test Data for the VGG_16 Model')\n",
    "    X_test = VGG_Prep(X_test)\n",
    "        \n",
    "    print('Loading the VGG_16 Model')\n",
    "    # \"model\" excludes top layer of VGG16:\n",
    "    model = applications.VGG16(include_top=False, weights='imagenet') \n",
    "        \n",
    "    # Generating the bottleneck features for the training data\n",
    "    print('Evaluating the VGG_16 Model on the Training Data')\n",
    "    bottleneck_features_train = model.predict(X_train)\n",
    "    \n",
    "    # Saving the bottleneck features for the training data\n",
    "    featuresTrain = os.path.join(modelPath, fn_train_feats)\n",
    "    labelsTrain = os.path.join(modelPath, fn_train_lbls)\n",
    "    print('Saving the Training Data Bottleneck Features.')\n",
    "    np.save(open(featuresTrain, 'wb'), bottleneck_features_train)\n",
    "    np.save(open(labelsTrain, 'wb'), Y_train)\n",
    "\n",
    "    # Generating the bottleneck features for the test data\n",
    "    print('Evaluating the VGG_16 Model on the Test Data')\n",
    "    bottleneck_features_test = model.predict(X_test)\n",
    "    \n",
    "    # Saving the bottleneck features for the test data\n",
    "    featuresTest = os.path.join(modelPath, fn_test_feats)\n",
    "    labelsTest = os.path.join(modelPath, fn_test_lbls)\n",
    "    print('Saving the Test Data Bottleneck Feaures.')\n",
    "    np.save(open(featuresTest, 'wb'), bottleneck_features_test)\n",
    "    np.save(open(labelsTest, 'wb'), Y_test)"
   ]
  },
  {
   "cell_type": "code",
   "execution_count": 16,
   "metadata": {},
   "outputs": [
    {
     "name": "stdout",
     "output_type": "stream",
     "text": [
      "Preparing the Training Data for the VGG_16 Model.\n",
      "Preparing the Test Data for the VGG_16 Model\n",
      "Loading the VGG_16 Model\n",
      "Evaluating the VGG_16 Model on the Training Data\n",
      "Saving the Training Data Bottleneck Features.\n",
      "Evaluating the VGG_16 Model on the Test Data\n",
      "Saving the Test Data Bottleneck Feaures.\n"
     ]
    }
   ],
   "source": [
    "# Locations for the bottleneck and labels files that we need\n",
    "train_bottleneck = '2Class_VGG16_bottleneck_features_train.npy'\n",
    "train_labels     = '2Class_VGG16_labels_train.npy'\n",
    "test_bottleneck  = '2Class_VGG16_bottleneck_features_test.npy'\n",
    "test_labels      = '2Class_VGG16_labels_test.npy'\n",
    "modelPath = os.getcwd()\n",
    "\n",
    "top_model_weights_path = './weights/'\n",
    "\n",
    "np.random.seed(SEED)\n",
    "vgg16_bottleneck(data, modelPath, train_bottleneck, train_labels, test_bottleneck, test_labels)"
   ]
  },
  {
   "cell_type": "code",
   "execution_count": 17,
   "metadata": {
    "collapsed": true
   },
   "outputs": [],
   "source": [
    "def train_top_model(train_feats, train_lab, test_feats, test_lab, model_path, model_save, epoch = 50, batch = 64):\n",
    "    start_time = time.time()\n",
    "    \n",
    "    train_bottleneck = os.path.join(model_path, train_feats)\n",
    "    train_labels = os.path.join(model_path, train_lab)\n",
    "    test_bottleneck = os.path.join(model_path, test_feats)\n",
    "    test_labels = os.path.join(model_path, test_lab)\n",
    "    \n",
    "    history = bc.LossHistory()\n",
    "    \n",
    "    X_train = np.load(train_bottleneck)\n",
    "    Y_train = np.load(train_labels)\n",
    "    Y_train = np_utils.to_categorical(Y_train, num_classes=2)\n",
    "    \n",
    "    X_test = np.load(test_bottleneck)\n",
    "    Y_test = np.load(test_labels)\n",
    "    Y_test = np_utils.to_categorical(Y_test, num_classes=2)\n",
    "\n",
    "    model = Sequential()\n",
    "    model.add(Flatten(input_shape=X_train.shape[1:]))\n",
    "    model.add( Dropout(0.7))\n",
    "    \n",
    "    model.add( Dense(256, activation='relu', kernel_constraint= maxnorm(3.)) )\n",
    "    model.add( Dropout(0.5))\n",
    "    \n",
    "    # Softmax for probabilities for each class at the output layer\n",
    "    model.add( Dense(2, activation='softmax'))\n",
    "    \n",
    "    model.compile(optimizer='rmsprop',  # adadelta\n",
    "                  loss='binary_crossentropy', \n",
    "                  metrics=['accuracy'])\n",
    "\n",
    "    model.fit(X_train, Y_train,\n",
    "              epochs=epoch,\n",
    "              batch_size=batch,\n",
    "              callbacks=[history],\n",
    "              validation_data=(X_test, Y_test),\n",
    "              verbose=2)\n",
    "    \n",
    "    print \"Training duration : {0}\".format(time.time() - start_time)\n",
    "    score = model.evaluate(X_test, Y_test, batch_size=16, verbose=2)\n",
    "\n",
    "    print \"Network's test score [loss, accuracy]: {0}\".format(score)\n",
    "    print 'CNN Error: {:.2f}%'.format(100 - score[1] * 100)\n",
    "    \n",
    "    bc.save_model(model_save, model, \"jn_VGG16_Detection_top_weights.h5\")\n",
    "    \n",
    "    return model, history.losses, history.acc, score"
   ]
  },
  {
   "cell_type": "code",
   "execution_count": 18,
   "metadata": {},
   "outputs": [
    {
     "name": "stdout",
     "output_type": "stream",
     "text": [
      "Train on 2208 samples, validate on 736 samples\n",
      "Epoch 1/100\n",
      "6s - loss: 2.9987 - acc: 0.8057 - val_loss: 2.3087 - val_acc: 0.8560\n",
      "Epoch 2/100\n",
      "5s - loss: 2.7739 - acc: 0.8256 - val_loss: 2.3087 - val_acc: 0.8560\n",
      "Epoch 3/100\n",
      "5s - loss: 2.7267 - acc: 0.8288 - val_loss: 2.2651 - val_acc: 0.8587\n",
      "Epoch 4/100\n",
      "5s - loss: 2.7205 - acc: 0.8274 - val_loss: 2.1783 - val_acc: 0.8614\n",
      "Epoch 5/100\n",
      "5s - loss: 2.6980 - acc: 0.8284 - val_loss: 2.2881 - val_acc: 0.8560\n",
      "Epoch 6/100\n",
      "5s - loss: 2.6550 - acc: 0.8306 - val_loss: 2.2951 - val_acc: 0.8560\n",
      "Epoch 7/100\n",
      "5s - loss: 2.7126 - acc: 0.8261 - val_loss: 2.1046 - val_acc: 0.8668\n",
      "Epoch 8/100\n",
      "5s - loss: 2.6140 - acc: 0.8329 - val_loss: 2.0790 - val_acc: 0.8682\n",
      "Epoch 9/100\n",
      "5s - loss: 2.6839 - acc: 0.8288 - val_loss: 2.0763 - val_acc: 0.8682\n",
      "Epoch 10/100\n",
      "5s - loss: 2.6625 - acc: 0.8302 - val_loss: 2.0051 - val_acc: 0.8723\n",
      "Epoch 11/100\n",
      "5s - loss: 2.6241 - acc: 0.8333 - val_loss: 2.1224 - val_acc: 0.8655\n",
      "Epoch 12/100\n",
      "5s - loss: 2.6681 - acc: 0.8324 - val_loss: 2.1175 - val_acc: 0.8668\n",
      "Epoch 13/100\n",
      "5s - loss: 2.7134 - acc: 0.8279 - val_loss: 2.0876 - val_acc: 0.8682\n",
      "Epoch 14/100\n",
      "5s - loss: 2.7132 - acc: 0.8288 - val_loss: 2.0634 - val_acc: 0.8696\n",
      "Epoch 15/100\n",
      "6s - loss: 2.6600 - acc: 0.8324 - val_loss: 2.1810 - val_acc: 0.8628\n",
      "Epoch 16/100\n",
      "6s - loss: 2.5416 - acc: 0.8392 - val_loss: 2.0478 - val_acc: 0.8696\n",
      "Epoch 17/100\n",
      "6s - loss: 2.4761 - acc: 0.8438 - val_loss: 2.0503 - val_acc: 0.8668\n",
      "Epoch 18/100\n",
      "6s - loss: 2.4126 - acc: 0.8465 - val_loss: 1.5958 - val_acc: 0.8940\n",
      "Epoch 19/100\n",
      "6s - loss: 2.4407 - acc: 0.8451 - val_loss: 2.0923 - val_acc: 0.8655\n",
      "Epoch 20/100\n",
      "6s - loss: 2.5227 - acc: 0.8392 - val_loss: 1.9883 - val_acc: 0.8709\n",
      "Epoch 21/100\n",
      "6s - loss: 2.5727 - acc: 0.8365 - val_loss: 2.0348 - val_acc: 0.8696\n",
      "Epoch 22/100\n",
      "6s - loss: 2.4986 - acc: 0.8388 - val_loss: 1.8031 - val_acc: 0.8845\n",
      "Epoch 23/100\n",
      "7s - loss: 2.4351 - acc: 0.8451 - val_loss: 1.8696 - val_acc: 0.8764\n",
      "Epoch 24/100\n",
      "7s - loss: 2.3419 - acc: 0.8483 - val_loss: 1.5829 - val_acc: 0.8995\n",
      "Epoch 25/100\n",
      "7s - loss: 2.1962 - acc: 0.8601 - val_loss: 1.7948 - val_acc: 0.8845\n",
      "Epoch 26/100\n",
      "7s - loss: 2.3312 - acc: 0.8492 - val_loss: 1.5235 - val_acc: 0.9008\n",
      "Epoch 27/100\n",
      "7s - loss: 2.3772 - acc: 0.8483 - val_loss: 1.8020 - val_acc: 0.8859\n",
      "Epoch 28/100\n",
      "7s - loss: 2.2959 - acc: 0.8542 - val_loss: 1.8296 - val_acc: 0.8859\n",
      "Epoch 29/100\n",
      "7s - loss: 2.5066 - acc: 0.8392 - val_loss: 1.6263 - val_acc: 0.8954\n",
      "Epoch 30/100\n",
      "7s - loss: 2.2293 - acc: 0.8555 - val_loss: 1.7287 - val_acc: 0.8913\n",
      "Epoch 31/100\n",
      "7s - loss: 2.2632 - acc: 0.8546 - val_loss: 1.4861 - val_acc: 0.9049\n",
      "Epoch 32/100\n",
      "7s - loss: 2.2570 - acc: 0.8569 - val_loss: 1.7870 - val_acc: 0.8872\n",
      "Epoch 33/100\n",
      "7s - loss: 2.4082 - acc: 0.8474 - val_loss: 2.0328 - val_acc: 0.8709\n",
      "Epoch 34/100\n",
      "7s - loss: 2.4258 - acc: 0.8460 - val_loss: 1.8729 - val_acc: 0.8777\n",
      "Epoch 35/100\n",
      "8s - loss: 2.1724 - acc: 0.8623 - val_loss: 1.8092 - val_acc: 0.8872\n",
      "Epoch 36/100\n",
      "8s - loss: 2.2104 - acc: 0.8596 - val_loss: 1.8133 - val_acc: 0.8845\n",
      "Epoch 37/100\n",
      "8s - loss: 2.2610 - acc: 0.8569 - val_loss: 1.9494 - val_acc: 0.8750\n",
      "Epoch 38/100\n",
      "8s - loss: 2.2526 - acc: 0.8569 - val_loss: 1.7664 - val_acc: 0.8859\n",
      "Epoch 39/100\n",
      "8s - loss: 2.2093 - acc: 0.8591 - val_loss: 1.6721 - val_acc: 0.8940\n",
      "Epoch 40/100\n",
      "8s - loss: 2.0834 - acc: 0.8682 - val_loss: 1.6339 - val_acc: 0.8981\n",
      "Epoch 41/100\n",
      "8s - loss: 2.1345 - acc: 0.8632 - val_loss: 1.7311 - val_acc: 0.8899\n",
      "Epoch 42/100\n",
      "8s - loss: 2.1858 - acc: 0.8614 - val_loss: 1.9052 - val_acc: 0.8777\n",
      "Epoch 43/100\n",
      "8s - loss: 2.1487 - acc: 0.8628 - val_loss: 1.6698 - val_acc: 0.8940\n",
      "Epoch 44/100\n",
      "8s - loss: 2.1952 - acc: 0.8610 - val_loss: 1.7062 - val_acc: 0.8913\n",
      "Epoch 45/100\n",
      "8s - loss: 2.1560 - acc: 0.8628 - val_loss: 1.7136 - val_acc: 0.8927\n",
      "Epoch 46/100\n",
      "8s - loss: 2.1335 - acc: 0.8641 - val_loss: 1.6239 - val_acc: 0.8967\n",
      "Epoch 47/100\n",
      "8s - loss: 2.1816 - acc: 0.8628 - val_loss: 1.8369 - val_acc: 0.8845\n",
      "Epoch 48/100\n",
      "8s - loss: 2.1000 - acc: 0.8678 - val_loss: 1.9348 - val_acc: 0.8777\n",
      "Epoch 49/100\n",
      "8s - loss: 1.9796 - acc: 0.8755 - val_loss: 1.6990 - val_acc: 0.8927\n",
      "Epoch 50/100\n",
      "8s - loss: 2.0134 - acc: 0.8727 - val_loss: 1.7216 - val_acc: 0.8913\n",
      "Epoch 51/100\n",
      "8s - loss: 2.0857 - acc: 0.8673 - val_loss: 1.9354 - val_acc: 0.8750\n",
      "Epoch 52/100\n",
      "8s - loss: 2.1014 - acc: 0.8678 - val_loss: 1.6624 - val_acc: 0.8927\n",
      "Epoch 53/100\n",
      "8s - loss: 2.0132 - acc: 0.8723 - val_loss: 1.7055 - val_acc: 0.8899\n",
      "Epoch 54/100\n",
      "8s - loss: 2.0967 - acc: 0.8673 - val_loss: 1.7362 - val_acc: 0.8872\n",
      "Epoch 55/100\n",
      "8s - loss: 2.0408 - acc: 0.8700 - val_loss: 1.8609 - val_acc: 0.8818\n",
      "Epoch 56/100\n",
      "8s - loss: 2.1845 - acc: 0.8619 - val_loss: 1.6771 - val_acc: 0.8954\n",
      "Epoch 57/100\n",
      "8s - loss: 2.0482 - acc: 0.8709 - val_loss: 1.7186 - val_acc: 0.8913\n",
      "Epoch 58/100\n",
      "8s - loss: 2.0073 - acc: 0.8727 - val_loss: 1.6802 - val_acc: 0.8927\n",
      "Epoch 59/100\n",
      "8s - loss: 2.0829 - acc: 0.8687 - val_loss: 1.7949 - val_acc: 0.8845\n",
      "Epoch 60/100\n",
      "8s - loss: 2.1801 - acc: 0.8605 - val_loss: 1.7783 - val_acc: 0.8872\n",
      "Epoch 61/100\n",
      "8s - loss: 2.1488 - acc: 0.8637 - val_loss: 1.7246 - val_acc: 0.8913\n",
      "Epoch 62/100\n",
      "8s - loss: 2.0641 - acc: 0.8696 - val_loss: 1.7425 - val_acc: 0.8913\n",
      "Epoch 63/100\n",
      "9s - loss: 2.0474 - acc: 0.8718 - val_loss: 1.6614 - val_acc: 0.8940\n",
      "Epoch 64/100\n",
      "9s - loss: 2.0518 - acc: 0.8718 - val_loss: 1.6131 - val_acc: 0.8967\n",
      "Epoch 65/100\n",
      "9s - loss: 1.9529 - acc: 0.8759 - val_loss: 1.7043 - val_acc: 0.8927\n",
      "Epoch 66/100\n",
      "9s - loss: 2.2086 - acc: 0.8610 - val_loss: 1.7225 - val_acc: 0.8913\n",
      "Epoch 67/100\n",
      "9s - loss: 2.1418 - acc: 0.8637 - val_loss: 1.8312 - val_acc: 0.8832\n",
      "Epoch 68/100\n",
      "9s - loss: 2.1136 - acc: 0.8673 - val_loss: 1.8754 - val_acc: 0.8791\n",
      "Epoch 69/100\n",
      "9s - loss: 1.9560 - acc: 0.8759 - val_loss: 1.6736 - val_acc: 0.8954\n",
      "Epoch 70/100\n",
      "9s - loss: 2.0797 - acc: 0.8687 - val_loss: 1.8077 - val_acc: 0.8832\n",
      "Epoch 71/100\n",
      "9s - loss: 2.0350 - acc: 0.8709 - val_loss: 1.6668 - val_acc: 0.8927\n",
      "Epoch 72/100\n",
      "9s - loss: 2.0913 - acc: 0.8687 - val_loss: 1.6568 - val_acc: 0.8954\n",
      "Epoch 73/100\n",
      "9s - loss: 1.9867 - acc: 0.8750 - val_loss: 1.6278 - val_acc: 0.8967\n",
      "Epoch 74/100\n",
      "9s - loss: 2.4402 - acc: 0.8447 - val_loss: 1.6800 - val_acc: 0.8927\n",
      "Epoch 75/100\n",
      "9s - loss: 1.9812 - acc: 0.8750 - val_loss: 1.8329 - val_acc: 0.8832\n",
      "Epoch 76/100\n",
      "9s - loss: 2.1068 - acc: 0.8659 - val_loss: 1.7304 - val_acc: 0.8899\n",
      "Epoch 77/100\n",
      "9s - loss: 2.0411 - acc: 0.8696 - val_loss: 1.7181 - val_acc: 0.8859\n",
      "Epoch 78/100\n",
      "9s - loss: 2.0102 - acc: 0.8727 - val_loss: 1.7637 - val_acc: 0.8872\n",
      "Epoch 79/100\n",
      "9s - loss: 2.0525 - acc: 0.8714 - val_loss: 1.6602 - val_acc: 0.8927\n",
      "Epoch 80/100\n",
      "9s - loss: 2.0615 - acc: 0.8705 - val_loss: 1.7200 - val_acc: 0.8927\n",
      "Epoch 81/100\n",
      "9s - loss: 1.9624 - acc: 0.8755 - val_loss: 1.7817 - val_acc: 0.8859\n",
      "Epoch 82/100\n",
      "9s - loss: 2.0516 - acc: 0.8705 - val_loss: 1.6905 - val_acc: 0.8927\n",
      "Epoch 83/100\n",
      "9s - loss: 2.0427 - acc: 0.8714 - val_loss: 1.7253 - val_acc: 0.8886\n",
      "Epoch 84/100\n",
      "9s - loss: 2.1240 - acc: 0.8655 - val_loss: 1.6964 - val_acc: 0.8927\n",
      "Epoch 85/100\n",
      "9s - loss: 1.9781 - acc: 0.8745 - val_loss: 1.5723 - val_acc: 0.9008\n",
      "Epoch 86/100\n",
      "9s - loss: 1.9772 - acc: 0.8745 - val_loss: 1.6030 - val_acc: 0.8995\n",
      "Epoch 87/100\n",
      "9s - loss: 2.0132 - acc: 0.8718 - val_loss: 1.6590 - val_acc: 0.8954\n",
      "Epoch 88/100\n",
      "9s - loss: 1.9904 - acc: 0.8727 - val_loss: 1.8502 - val_acc: 0.8832\n",
      "Epoch 89/100\n",
      "9s - loss: 2.0053 - acc: 0.8732 - val_loss: 1.6827 - val_acc: 0.8940\n",
      "Epoch 90/100\n",
      "9s - loss: 1.9360 - acc: 0.8768 - val_loss: 1.6744 - val_acc: 0.8940\n",
      "Epoch 91/100\n",
      "9s - loss: 2.0913 - acc: 0.8678 - val_loss: 2.0348 - val_acc: 0.8709\n",
      "Epoch 92/100\n",
      "9s - loss: 2.0256 - acc: 0.8723 - val_loss: 1.8922 - val_acc: 0.8804\n",
      "Epoch 93/100\n",
      "9s - loss: 2.0528 - acc: 0.8700 - val_loss: 1.7752 - val_acc: 0.8859\n",
      "Epoch 94/100\n",
      "9s - loss: 1.9756 - acc: 0.8764 - val_loss: 1.7721 - val_acc: 0.8886\n",
      "Epoch 95/100\n",
      "9s - loss: 2.3782 - acc: 0.8487 - val_loss: 2.2865 - val_acc: 0.8519\n",
      "Epoch 96/100\n",
      "9s - loss: 2.1466 - acc: 0.8646 - val_loss: 1.7196 - val_acc: 0.8913\n",
      "Epoch 97/100\n",
      "9s - loss: 1.9464 - acc: 0.8768 - val_loss: 1.7742 - val_acc: 0.8886\n",
      "Epoch 98/100\n",
      "9s - loss: 1.8494 - acc: 0.8836 - val_loss: 1.7250 - val_acc: 0.8899\n",
      "Epoch 99/100\n",
      "9s - loss: 1.8198 - acc: 0.8836 - val_loss: 1.6863 - val_acc: 0.8927\n",
      "Epoch 100/100\n",
      "9s - loss: 2.1122 - acc: 0.8655 - val_loss: 1.7642 - val_acc: 0.8899\n",
      "Training duration : 821.658025026\n"
     ]
    },
    {
     "name": "stdout",
     "output_type": "stream",
     "text": [
      "Network's test score [loss, accuracy]: [1.7641984831665223, 0.88994565217391308]\n",
      "CNN Error: 11.01%\n",
      "Model and Weights Saved to Disk\n"
     ]
    },
    {
     "data": {
      "text/plain": [
       "<matplotlib.figure.Figure at 0x11d1f1510>"
      ]
     },
     "metadata": {},
     "output_type": "display_data"
    },
    {
     "data": {
      "image/png": "[encoded data removed]",
      "text/plain": [
       "<matplotlib.figure.Figure at 0x10f92dcd0>"
      ]
     },
     "metadata": {},
     "output_type": "display_data"
    }
   ],
   "source": [
    "np.random.seed(SEED)\n",
    "(trans_model, loss_cnn, acc_cnn, test_score_cnn) = train_top_model(train_feats=train_bottleneck,\n",
    "                                                                   train_lab=train_labels, \n",
    "                                                                   test_feats=test_bottleneck, \n",
    "                                                                   test_lab=test_labels,\n",
    "                                                                   model_path=modelPath, \n",
    "                                                                   model_save=top_model_weights_path,\n",
    "                                                                   epoch=100)\n",
    "plt.figure(figsize=(10,10))\n",
    "bc.plot_losses(loss_cnn, acc_cnn)\n",
    "plt.savefig('../../figures/epoch_figures/jn_Transfer_Detection_Learning_20170530.png', dpi=100)"
   ]
  },
  {
   "cell_type": "code",
   "execution_count": 19,
   "metadata": {},
   "outputs": [
    {
     "name": "stdout",
     "output_type": "stream",
     "text": [
      "Transfer Learning CNN Accuracy:   88.99%\n",
      "Transfer Learning CNN Error:      11.01%\n",
      "Normalized confusion matrix\n",
      "[[ 0.87  0.13]\n",
      " [ 0.09  0.91]]\n"
     ]
    },
    {
     "data": {
      "image/png": "[encoded data removed]",
      "text/plain": [
       "<matplotlib.figure.Figure at 0x122744610>"
      ]
     },
     "metadata": {},
     "output_type": "display_data"
    }
   ],
   "source": [
    "print 'Transfer Learning CNN Accuracy: {: >7.2f}%'.format(test_score_cnn[1] * 100)\n",
    "print 'Transfer Learning CNN Error: {: >10.2f}%'.format(100 - test_score_cnn[1] * 100)\n",
    "\n",
    "predictOutput = bc.predict(trans_model, np.load(test_bottleneck))\n",
    "trans_matrix = skm.confusion_matrix(y_true=Y_test, y_pred=predictOutput)\n",
    "\n",
    "plt.figure(figsize=(8,6))\n",
    "bc.plot_confusion_matrix(trans_matrix, classes=class_names, normalize=True,\n",
    "                         title='Transfer CNN Normalized Confusion Matrix Using Differencing \\n')\n",
    "plt.tight_layout()\n",
    "plt.savefig('../../figures/jn_Transfer_Detection_CM_20170530.png', dpi=100)"
   ]
  },
  {
   "cell_type": "code",
   "execution_count": 20,
   "metadata": {},
   "outputs": [
    {
     "name": "stdout",
     "output_type": "stream",
     "text": [
      "Confusion matrix, without normalization\n",
      "[[321  47]\n",
      " [ 34 334]]\n"
     ]
    },
    {
     "data": {
      "image/png": "[encoded data removed]",
      "text/plain": [
       "<matplotlib.figure.Figure at 0x11d453350>"
      ]
     },
     "metadata": {},
     "output_type": "display_data"
    }
   ],
   "source": [
    "plt.figure(figsize=(8,6))\n",
    "bc.plot_confusion_matrix(trans_matrix, classes=class_names, normalize=False,\n",
    "                         title='Transfer CNN Raw Confusion Matrix Using Differencing \\n')\n",
    "plt.tight_layout()"
   ]
  },
  {
   "cell_type": "code",
   "execution_count": 21,
   "metadata": {},
   "outputs": [
    {
     "data": {
      "text/plain": [
       "{'Accuracy': 88.99,\n",
       " 'F1': 0.89,\n",
       " 'NPV': 90.42,\n",
       " 'PPV': 87.66,\n",
       " 'Sensitivity': 90.76,\n",
       " 'Specificity': 87.23}"
      ]
     },
     "execution_count": 21,
     "metadata": {},
     "output_type": "execute_result"
    }
   ],
   "source": [
    "bc.cat_stats(trans_matrix)"
   ]
  },
  {
   "cell_type": "markdown",
   "metadata": {},
   "source": [
    "<h2>Core CNN Modelling</h2>"
   ]
  },
  {
   "cell_type": "markdown",
   "metadata": {},
   "source": [
    "**Prep and package the data for Keras processing:**"
   ]
  },
  {
   "cell_type": "code",
   "execution_count": 22,
   "metadata": {},
   "outputs": [
    {
     "name": "stdout",
     "output_type": "stream",
     "text": [
      "Prep data for NNs ...\n",
      "Data Prepped for Neural Nets.\n",
      "(2208, 1, 255, 255)\n",
      "(736, 1, 255, 255)\n",
      "(2208, 2)\n",
      "(736, 2)\n"
     ]
    }
   ],
   "source": [
    "data = [X_train, X_test, Y_train, Y_test]\n",
    "X_train, X_test, Y_train, Y_test = bc.prep_data(data, cats)\n",
    "data = [X_train, X_test, Y_train, Y_test]\n",
    "\n",
    "print X_train.shape\n",
    "print X_test.shape\n",
    "print Y_train.shape\n",
    "print Y_test.shape"
   ]
  },
  {
   "cell_type": "markdown",
   "metadata": {},
   "source": [
    "**Heavy Regularization**"
   ]
  },
  {
   "cell_type": "code",
   "execution_count": 23,
   "metadata": {
    "collapsed": true
   },
   "outputs": [],
   "source": [
    "def diff_model_v7_reg(numClasses, input_shape=(3, 150,150), add_noise=False, noise=0.01, verbose=False):\n",
    "    model = Sequential()\n",
    "    if (add_noise):\n",
    "        model.add( GaussianNoise(noise, input_shape=input_shape))\n",
    "        model.add( Convolution2D(filters=16, \n",
    "                                 kernel_size=(5,5), \n",
    "                                 data_format='channels_first',\n",
    "                                 padding='same',\n",
    "                                 activation='relu'))\n",
    "    else:\n",
    "        model.add( Convolution2D(filters=16, \n",
    "                                 kernel_size=(5,5), \n",
    "                                 data_format='channels_first',\n",
    "                                 padding='same',\n",
    "                                 activation='relu',\n",
    "                                 input_shape=input_shape))\n",
    "    model.add( Dropout(0.7))\n",
    "    \n",
    "    model.add( Convolution2D(filters=32, kernel_size=(3,3), \n",
    "                             data_format='channels_first', padding='same', activation='relu'))\n",
    "    model.add( MaxPooling2D(pool_size= (2,2), data_format='channels_first'))\n",
    "    model.add( Dropout(0.4))\n",
    "    model.add( Convolution2D(filters=32, kernel_size=(3,3), \n",
    "                             data_format='channels_first', activation='relu'))\n",
    "    \n",
    "    model.add( Convolution2D(filters=64, kernel_size=(3,3), \n",
    "                             data_format='channels_first', padding='same', activation='relu',\n",
    "                             kernel_regularizer=regularizers.l2(0.01)))\n",
    "    model.add( MaxPooling2D(pool_size= (2,2), data_format='channels_first'))\n",
    "    model.add( Convolution2D(filters=64, kernel_size=(3,3), \n",
    "                             data_format='channels_first', activation='relu',\n",
    "                             kernel_regularizer=regularizers.l2(0.01)))\n",
    "    model.add( Dropout(0.4))\n",
    "    \n",
    "    model.add( Convolution2D(filters=128, kernel_size=(3,3), \n",
    "                             data_format='channels_first', padding='same', activation='relu',\n",
    "                             kernel_regularizer=regularizers.l2(0.01)))\n",
    "    model.add( MaxPooling2D(pool_size= (2,2), data_format='channels_first'))\n",
    "    \n",
    "    model.add( Convolution2D(filters=128, kernel_size=(3,3), \n",
    "                             data_format='channels_first', activation='relu',\n",
    "                             kernel_regularizer=regularizers.l2(0.01)))\n",
    "    model.add(Dropout(0.4))\n",
    "    \n",
    "    model.add( Flatten())\n",
    "    \n",
    "    model.add( Dense(128, activation='relu', kernel_constraint= maxnorm(3.)) )\n",
    "    model.add( Dropout(0.4))\n",
    "    \n",
    "    model.add( Dense(64, activation='relu', kernel_constraint= maxnorm(3.)) )\n",
    "    model.add( Dropout(0.4))\n",
    "    \n",
    "    # Softmax for probabilities for each class at the output layer\n",
    "    model.add( Dense(numClasses, activation='softmax'))\n",
    "    \n",
    "    if verbose:\n",
    "        print( model.summary() )\n",
    "    \n",
    "    model.compile(loss='binary_crossentropy',\n",
    "                  optimizer='rmsprop',\n",
    "                  metrics=['accuracy'])\n",
    "    return model"
   ]
  },
  {
   "cell_type": "code",
   "execution_count": 24,
   "metadata": {},
   "outputs": [
    {
     "name": "stdout",
     "output_type": "stream",
     "text": [
      "_________________________________________________________________\n",
      "Layer (type)                 Output Shape              Param #   \n",
      "=================================================================\n",
      "gaussian_noise_1 (GaussianNo (None, 1, 255, 255)       0         \n",
      "_________________________________________________________________\n",
      "conv2d_1 (Conv2D)            (None, 16, 255, 255)      416       \n",
      "_________________________________________________________________\n",
      "dropout_3 (Dropout)          (None, 16, 255, 255)      0         \n",
      "_________________________________________________________________\n",
      "conv2d_2 (Conv2D)            (None, 32, 255, 255)      4640      \n",
      "_________________________________________________________________\n",
      "max_pooling2d_1 (MaxPooling2 (None, 32, 127, 127)      0         \n",
      "_________________________________________________________________\n",
      "dropout_4 (Dropout)          (None, 32, 127, 127)      0         \n",
      "_________________________________________________________________\n",
      "conv2d_3 (Conv2D)            (None, 32, 125, 125)      9248      \n",
      "_________________________________________________________________\n",
      "conv2d_4 (Conv2D)            (None, 64, 125, 125)      18496     \n",
      "_________________________________________________________________\n",
      "max_pooling2d_2 (MaxPooling2 (None, 64, 62, 62)        0         \n",
      "_________________________________________________________________\n",
      "conv2d_5 (Conv2D)            (None, 64, 60, 60)        36928     \n",
      "_________________________________________________________________\n",
      "dropout_5 (Dropout)          (None, 64, 60, 60)        0         \n",
      "_________________________________________________________________\n",
      "conv2d_6 (Conv2D)            (None, 128, 60, 60)       73856     \n",
      "_________________________________________________________________\n",
      "max_pooling2d_3 (MaxPooling2 (None, 128, 30, 30)       0         \n",
      "_________________________________________________________________\n",
      "conv2d_7 (Conv2D)            (None, 128, 28, 28)       147584    \n",
      "_________________________________________________________________\n",
      "dropout_6 (Dropout)          (None, 128, 28, 28)       0         \n",
      "_________________________________________________________________\n",
      "flatten_2 (Flatten)          (None, 100352)            0         \n",
      "_________________________________________________________________\n",
      "dense_3 (Dense)              (None, 128)               12845184  \n",
      "_________________________________________________________________\n",
      "dropout_7 (Dropout)          (None, 128)               0         \n",
      "_________________________________________________________________\n",
      "dense_4 (Dense)              (None, 64)                8256      \n",
      "_________________________________________________________________\n",
      "dropout_8 (Dropout)          (None, 64)                0         \n",
      "_________________________________________________________________\n",
      "dense_5 (Dense)              (None, 2)                 130       \n",
      "=================================================================\n",
      "Total params: 13,144,738\n",
      "Trainable params: 13,144,738\n",
      "Non-trainable params: 0\n",
      "_________________________________________________________________\n",
      "None\n"
     ]
    }
   ],
   "source": [
    "diff_model7_noise_reg = diff_model_v7_reg(len(cats),\n",
    "                                          input_shape=(X_train.shape[1], X_train.shape[2], X_train.shape[3]),\n",
    "                                          add_noise=True, verbose=True)"
   ]
  },
  {
   "cell_type": "code",
   "execution_count": 25,
   "metadata": {},
   "outputs": [
    {
     "name": "stdout",
     "output_type": "stream",
     "text": [
      "Training model...\n",
      "Train on 2208 samples, validate on 736 samples\n",
      "Epoch 1/50\n",
      "655s - loss: 2.0236 - acc: 0.7446 - val_loss: 1.0254 - val_acc: 0.8505\n",
      "Epoch 2/50\n",
      "650s - loss: 0.7703 - acc: 0.8166 - val_loss: 0.5096 - val_acc: 0.8519\n",
      "Epoch 3/50\n",
      "653s - loss: 0.5146 - acc: 0.8256 - val_loss: 0.4934 - val_acc: 0.8179\n",
      "Epoch 4/50\n",
      "648s - loss: 0.4750 - acc: 0.8188 - val_loss: 0.3879 - val_acc: 0.8533\n",
      "Epoch 5/50\n",
      "632s - loss: 0.4646 - acc: 0.8288 - val_loss: 0.5748 - val_acc: 0.7201\n",
      "Epoch 6/50\n",
      "637s - loss: 0.4450 - acc: 0.8261 - val_loss: 0.4364 - val_acc: 0.8261\n",
      "Epoch 7/50\n",
      "640s - loss: 0.4383 - acc: 0.8274 - val_loss: 0.4021 - val_acc: 0.8560\n",
      "Epoch 8/50\n",
      "637s - loss: 0.4193 - acc: 0.8311 - val_loss: 0.3678 - val_acc: 0.8696\n",
      "Epoch 9/50\n",
      "638s - loss: 0.4067 - acc: 0.8406 - val_loss: 0.3823 - val_acc: 0.8587\n",
      "Epoch 10/50\n",
      "637s - loss: 0.3966 - acc: 0.8428 - val_loss: 0.4114 - val_acc: 0.8736\n",
      "Epoch 11/50\n",
      "628s - loss: 0.4074 - acc: 0.8374 - val_loss: 0.3495 - val_acc: 0.8696\n",
      "Epoch 12/50\n",
      "627s - loss: 0.3884 - acc: 0.8483 - val_loss: 0.3769 - val_acc: 0.8709\n",
      "Epoch 13/50\n",
      "628s - loss: 0.3760 - acc: 0.8460 - val_loss: 0.3749 - val_acc: 0.8736\n",
      "Epoch 14/50\n",
      "629s - loss: 0.3701 - acc: 0.8578 - val_loss: 0.3615 - val_acc: 0.8696\n",
      "Epoch 15/50\n",
      "630s - loss: 0.3663 - acc: 0.8587 - val_loss: 0.3974 - val_acc: 0.8587\n",
      "Epoch 16/50\n",
      "631s - loss: 0.3556 - acc: 0.8650 - val_loss: 0.3316 - val_acc: 0.8723\n",
      "Epoch 17/50\n",
      "631s - loss: 0.3497 - acc: 0.8714 - val_loss: 0.3765 - val_acc: 0.8668\n",
      "Epoch 18/50\n",
      "633s - loss: 0.3316 - acc: 0.8696 - val_loss: 0.4197 - val_acc: 0.8410\n",
      "Epoch 19/50\n",
      "637s - loss: 0.3274 - acc: 0.8809 - val_loss: 0.3382 - val_acc: 0.8682\n",
      "Epoch 20/50\n",
      "642s - loss: 0.3263 - acc: 0.8736 - val_loss: 0.4060 - val_acc: 0.8533\n",
      "Epoch 21/50\n",
      "644s - loss: 0.3027 - acc: 0.8800 - val_loss: 0.4360 - val_acc: 0.8111\n",
      "Epoch 22/50\n",
      "648s - loss: 0.2979 - acc: 0.8845 - val_loss: 0.4042 - val_acc: 0.8573\n",
      "Epoch 23/50\n",
      "650s - loss: 0.2964 - acc: 0.8895 - val_loss: 0.3391 - val_acc: 0.8682\n",
      "Epoch 24/50\n",
      "653s - loss: 0.2902 - acc: 0.8863 - val_loss: 0.4443 - val_acc: 0.8546\n",
      "Epoch 25/50\n",
      "642s - loss: 0.2745 - acc: 0.8967 - val_loss: 0.4429 - val_acc: 0.8668\n",
      "Epoch 26/50\n",
      "641s - loss: 0.2903 - acc: 0.8931 - val_loss: 0.4458 - val_acc: 0.8451\n",
      "Epoch 27/50\n",
      "642s - loss: 0.2534 - acc: 0.9017 - val_loss: 0.5270 - val_acc: 0.8451\n",
      "Epoch 28/50\n",
      "641s - loss: 0.2704 - acc: 0.9049 - val_loss: 0.3628 - val_acc: 0.8709\n",
      "Epoch 29/50\n",
      "641s - loss: 0.2684 - acc: 0.9035 - val_loss: 0.3737 - val_acc: 0.8614\n",
      "Epoch 30/50\n",
      "641s - loss: 0.2556 - acc: 0.9094 - val_loss: 0.4254 - val_acc: 0.8410\n",
      "Epoch 31/50\n",
      "643s - loss: 0.2384 - acc: 0.9198 - val_loss: 0.3652 - val_acc: 0.8764\n",
      "Epoch 32/50\n",
      "643s - loss: 0.2599 - acc: 0.9085 - val_loss: 0.3878 - val_acc: 0.8465\n",
      "Epoch 33/50\n",
      "645s - loss: 0.2276 - acc: 0.9153 - val_loss: 0.3671 - val_acc: 0.8750\n",
      "Epoch 34/50\n",
      "647s - loss: 0.2253 - acc: 0.9162 - val_loss: 0.3574 - val_acc: 0.8682\n",
      "Epoch 35/50\n",
      "640s - loss: 0.2267 - acc: 0.9180 - val_loss: 0.3862 - val_acc: 0.8641\n",
      "Epoch 36/50\n",
      "642s - loss: 0.2061 - acc: 0.9289 - val_loss: 0.4644 - val_acc: 0.8465\n",
      "Epoch 37/50\n",
      "642s - loss: 0.2242 - acc: 0.9244 - val_loss: 0.4038 - val_acc: 0.8818\n",
      "Epoch 38/50\n",
      "642s - loss: 0.2006 - acc: 0.9316 - val_loss: 0.5509 - val_acc: 0.8478\n",
      "Epoch 39/50\n",
      "641s - loss: 0.2000 - acc: 0.9339 - val_loss: 0.3708 - val_acc: 0.8764\n",
      "Epoch 40/50\n",
      "641s - loss: 0.2348 - acc: 0.9230 - val_loss: 0.3697 - val_acc: 0.8736\n",
      "Epoch 41/50\n",
      "643s - loss: 0.1958 - acc: 0.9325 - val_loss: 0.3463 - val_acc: 0.8940\n",
      "Epoch 42/50\n",
      "645s - loss: 0.2229 - acc: 0.9307 - val_loss: 0.4022 - val_acc: 0.8723\n",
      "Epoch 43/50\n",
      "642s - loss: 0.1917 - acc: 0.9366 - val_loss: 0.4996 - val_acc: 0.8614\n",
      "Epoch 44/50\n",
      "643s - loss: 0.1872 - acc: 0.9348 - val_loss: 0.3808 - val_acc: 0.8750\n",
      "Epoch 45/50\n",
      "642s - loss: 0.2018 - acc: 0.9334 - val_loss: 0.5730 - val_acc: 0.8587\n",
      "Epoch 46/50\n",
      "650s - loss: 0.2102 - acc: 0.9316 - val_loss: 0.3553 - val_acc: 0.8859\n",
      "Epoch 47/50\n",
      "646s - loss: 0.1696 - acc: 0.9497 - val_loss: 0.6868 - val_acc: 0.8438\n",
      "Epoch 48/50\n",
      "647s - loss: 0.1926 - acc: 0.9434 - val_loss: 0.4849 - val_acc: 0.8696\n",
      "Epoch 49/50\n",
      "648s - loss: 0.1660 - acc: 0.9461 - val_loss: 0.4224 - val_acc: 0.8560\n",
      "Epoch 50/50\n",
      "649s - loss: 0.1964 - acc: 0.9402 - val_loss: 0.3717 - val_acc: 0.8791\n",
      "Training duration : 32099.092628\n",
      "Network's test score [loss, accuracy]: [0.37165422000638815, 0.87907608695652173]\n",
      "CNN Error: 12.09%\n"
     ]
    },
    {
     "data": {
      "text/plain": [
       "<matplotlib.figure.Figure at 0x11bd936d0>"
      ]
     },
     "metadata": {},
     "output_type": "display_data"
    },
    {
     "data": {
      "image/png": "[encoded data removed]",
      "text/plain": [
       "<matplotlib.figure.Figure at 0x11d7a4590>"
      ]
     },
     "metadata": {},
     "output_type": "display_data"
    }
   ],
   "source": [
    "np.random.seed(SEED)\n",
    "\n",
    "(cnn_model, loss_cnn, acc_cnn, test_score_cnn) = bc.run_network(model=diff_model7_noise_reg, \n",
    "                                                                data=data, \n",
    "                                                                epochs=50, batch=64)\n",
    "plt.figure(figsize=(10,10))\n",
    "bc.plot_losses(loss_cnn, acc_cnn)\n",
    "plt.savefig('../../figures/epoch_figures/jn_Core_CNN_Detection_Learning_20170530.png', dpi=100)"
   ]
  },
  {
   "cell_type": "code",
   "execution_count": 26,
   "metadata": {},
   "outputs": [
    {
     "name": "stdout",
     "output_type": "stream",
     "text": [
      "Model and Weights Saved to Disk\n"
     ]
    }
   ],
   "source": [
    "bc.save_model(dir_path='./weights/', model=cnn_model, name='jn_Core_CNN_Detection_20170530')"
   ]
  },
  {
   "cell_type": "code",
   "execution_count": 27,
   "metadata": {},
   "outputs": [
    {
     "name": "stdout",
     "output_type": "stream",
     "text": [
      "Core CNN Accuracy:   87.91%\n",
      "Core CNN Error:      12.09%\n",
      "Normalized confusion matrix\n",
      "[[ 0.88  0.12]\n",
      " [ 0.12  0.88]]\n"
     ]
    },
    {
     "data": {
      "image/png": "[encoded data removed]",
      "text/plain": [
       "<matplotlib.figure.Figure at 0x121abc150>"
      ]
     },
     "metadata": {},
     "output_type": "display_data"
    }
   ],
   "source": [
    "print 'Core CNN Accuracy: {: >7.2f}%'.format(test_score_cnn[1] * 100)\n",
    "print 'Core CNN Error: {: >10.2f}%'.format(100 - test_score_cnn[1] * 100)\n",
    "\n",
    "predictOutput = bc.predict(cnn_model, X_test)\n",
    "\n",
    "cnn_matrix = skm.confusion_matrix(y_true=[val.argmax() for val in Y_test], y_pred=predictOutput)\n",
    "\n",
    "plt.figure(figsize=(8,6))\n",
    "bc.plot_confusion_matrix(cnn_matrix, classes=class_names, normalize=True,\n",
    "                         title='CNN Normalized Confusion Matrix Using Differencing \\n')\n",
    "plt.tight_layout()\n",
    "plt.savefig('../../figures/jn_Core_CNN_Detection_CM_20170530.png', dpi=100)"
   ]
  },
  {
   "cell_type": "code",
   "execution_count": 28,
   "metadata": {},
   "outputs": [
    {
     "name": "stdout",
     "output_type": "stream",
     "text": [
      "Confusion matrix, without normalization\n",
      "[[322  46]\n",
      " [ 43 325]]\n"
     ]
    },
    {
     "data": {
      "image/png": "[encoded data removed]",
      "text/plain": [
       "<matplotlib.figure.Figure at 0x121d2d310>"
      ]
     },
     "metadata": {},
     "output_type": "display_data"
    }
   ],
   "source": [
    "plt.figure(figsize=(8,6))\n",
    "bc.plot_confusion_matrix(cnn_matrix, classes=class_names, normalize=False,\n",
    "                         title='CNN Raw Confusion Matrix Using Differencing \\n')\n",
    "plt.tight_layout()"
   ]
  },
  {
   "cell_type": "code",
   "execution_count": 29,
   "metadata": {},
   "outputs": [
    {
     "data": {
      "text/plain": [
       "{'Accuracy': 87.91,\n",
       " 'F1': 0.88,\n",
       " 'NPV': 88.22,\n",
       " 'PPV': 87.6,\n",
       " 'Sensitivity': 88.32,\n",
       " 'Specificity': 87.5}"
      ]
     },
     "execution_count": 29,
     "metadata": {},
     "output_type": "execute_result"
    }
   ],
   "source": [
    "bc.cat_stats(cnn_matrix)"
   ]
  },
  {
   "cell_type": "code",
   "execution_count": null,
   "metadata": {
    "collapsed": true
   },
   "outputs": [],
   "source": []
  }
 ],
 "metadata": {
  "kernelspec": {
   "display_name": "Python 2",
   "language": "python",
   "name": "python2"
  },
  "language_info": {
   "codemirror_mode": {
    "name": "ipython",
    "version": 2
   },
   "file_extension": ".py",
   "mimetype": "text/x-python",
   "name": "python",
   "nbconvert_exporter": "python",
   "pygments_lexer": "ipython2",
   "version": "2.7.13"
  }
 },
 "nbformat": 4,
 "nbformat_minor": 2
}
