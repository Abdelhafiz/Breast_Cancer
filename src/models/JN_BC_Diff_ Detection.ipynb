{
 "cells": [
  {
   "cell_type": "markdown",
   "metadata": {},
   "source": [
    "<hr>\n",
    "<h1>Detecting Abnormalities in Mammograms</h1>\n",
    "\n",
    "<p>Jay Narhan</p>\n",
    "May 2017\n",
    "\n",
    "Screening for breast cancer will often make use of mammography as the primary imaging modality for early detection efforts. However identifying abnormalities is a difficult problem due to large variability in the appearance of normal and abnormal tissue in mammograms and due to the subtlety associated with abnormal manifestations. Indeed, the interpretation of mammography imaging is still a manual process that is prone to human error. The application of automated classification of mammography is <a href=\"http://www.sciencedirect.com/science/article/pii/S0169260715300110\">described</a> as an unsolved problem. As such, this workbook aims to extend research into how machine learning technologies may supplement the <b>detection efforts</b> of radiologists.\n",
    "\n",
    "Presented in this workbook are a number of models that have been developed to classify breast tissue imaging as either normal or abnormal, where abnormality contains benign and/or malignant lesions (masses or calcifications).\n",
    "\n",
    "A number of preprocessing steps have been performed before application of these models. These steps include thresholding and segmentation of hardware artifacts from breast tissue. The preprocessing also includes the generation of difference images for every bilateral pairings of CC and MLO mammogram views for each patient in the data set. The data being used consists of these differenced images.\n",
    "\n",
    "<hr>"
   ]
  },
  {
   "cell_type": "code",
   "execution_count": 1,
   "metadata": {},
   "outputs": [
    {
     "name": "stderr",
     "output_type": "stream",
     "text": [
      "Using Theano backend.\n"
     ]
    }
   ],
   "source": [
    "import os\n",
    "import sys\n",
    "import time\n",
    "import numpy as np\n",
    "\n",
    "import sklearn.metrics as skm\n",
    "from sklearn import metrics\n",
    "from sklearn.svm import SVC\n",
    "from sklearn.model_selection import train_test_split\n",
    "\n",
    "from skimage import color\n",
    "\n",
    "import keras.callbacks as cb\n",
    "import keras.utils.np_utils as np_utils\n",
    "from keras import applications\n",
    "from keras import regularizers\n",
    "from keras.models import Sequential\n",
    "from keras.constraints import maxnorm\n",
    "from keras.preprocessing.image import ImageDataGenerator\n",
    "from keras.layers.convolutional import Convolution2D, MaxPooling2D\n",
    "from keras.layers import Activation, Dense, Dropout, Flatten, GaussianNoise\n",
    "\n",
    "from matplotlib import pyplot as plt\n",
    "%matplotlib inline\n",
    "\n",
    "plt.rcParams['figure.figsize'] = (10,10)\n",
    "np.set_printoptions(precision=2)\n",
    "\n",
    "sys.path.insert(0, '../helper_modules/')\n",
    "import jn_bc_helper as bc"
   ]
  },
  {
   "cell_type": "markdown",
   "metadata": {},
   "source": [
    "<h2>Reproducible Research</h2>"
   ]
  },
  {
   "cell_type": "code",
   "execution_count": 2,
   "metadata": {},
   "outputs": [
    {
     "name": "stdout",
     "output_type": "stream",
     "text": [
      "scipy:           0.19.0\n",
      "numpy:           1.12.1\n",
      "matplotlib:      2.0.0\n",
      "sklearn:         0.18.1\n",
      "skimage:         0.13.0\n",
      "theano:          0.9.0.dev-c697eeab84e5b8a74908da654b66ec9eca4f1291\n",
      "tensorflow:      0.10.0\n",
      "keras:           2.0.3\n"
     ]
    },
    {
     "name": "stderr",
     "output_type": "stream",
     "text": [
      "Python 2.7.13 :: Continuum Analytics, Inc.\n",
      "Using Theano backend.\n"
     ]
    }
   ],
   "source": [
    "%%python\n",
    "import os\n",
    "os.system('python -V')\n",
    "os.system('python ../helper_modules/Package_Versions.py')"
   ]
  },
  {
   "cell_type": "code",
   "execution_count": 3,
   "metadata": {},
   "outputs": [
    {
     "name": "stderr",
     "output_type": "stream",
     "text": [
      "2it [00:00, 15.30it/s]"
     ]
    },
    {
     "name": "stdout",
     "output_type": "stream",
     "text": [
      "----------------\n",
      "Before Balancing\n",
      "----------------\n",
      "abnormal  : 1472\n",
      "normal    : 1072\n",
      "balanceViaRemoval.avgC: 1272\n",
      "balanceViaRemoval.theshold: 1272.0\n",
      "---------------\n",
      "After Balancing\n",
      "---------------\n",
      "abnormal  : 1172\n",
      "normal    : 1072\n",
      "-------------\n",
      "Loading data:\n",
      "-------------\n"
     ]
    },
    {
     "name": "stderr",
     "output_type": "stream",
     "text": [
      "2244it [01:32, 24.34it/s]\n"
     ]
    }
   ],
   "source": [
    "SEED = 7\n",
    "np.random.seed(SEED)\n",
    "\n",
    "DATA_DIR = '/Users/jnarhan/Projects/CUNY_698/Docker-Shared/Data_Diff_Images/ALL_IMGS/'\n",
    "meta_file = '../../Meta_Data_Files/meta_data_detection.csv'\n",
    "PATHO_INX = 3   # Column number of detected label in meta_file\n",
    "FILE_INX = 1    # Column number of File name in meta_file\n",
    "\n",
    "meta_data, cls_cnts = bc.load_meta(meta_file, patho_idx=PATHO_INX, file_idx=FILE_INX,\n",
    "                                   balanceByRemoval=True, verbose=True)\n",
    "\n",
    "bc.pprint('Loading data:')\n",
    "cats = bc.bcLabels(['normal', 'abnormal'])\n",
    "\n",
    "# For smaller images supply tuple argument for a parameter 'imgResize':\n",
    "X_data, Y_data = bc.load_data(meta_data, DATA_DIR, cats, imgResize=(150,150)) \n"
   ]
  },
  {
   "cell_type": "markdown",
   "metadata": {},
   "source": [
    "**Create the Training and Test Datasets**"
   ]
  },
  {
   "cell_type": "code",
   "execution_count": 4,
   "metadata": {},
   "outputs": [
    {
     "name": "stdout",
     "output_type": "stream",
     "text": [
      "Size of X_train:  1683\n",
      "Size of X_test:   561\n",
      "Size of Y_train:  1683\n",
      "Size of Y_test:   561\n",
      "(1683, 150, 150)\n",
      "(561, 150, 150)\n",
      "(1683, 1)\n",
      "(561, 1)\n"
     ]
    }
   ],
   "source": [
    "X_train, X_test, Y_train, Y_test = train_test_split(X_data, Y_data,\n",
    "                                                    test_size=0.25,\n",
    "                                                    random_state=SEED,\n",
    "                                                    stratify=zip(*Y_data)[0])\n",
    "\n",
    "print 'Size of X_train: {:>5}'.format(len(X_train))\n",
    "print 'Size of X_test: {:>5}'.format(len(X_test))\n",
    "print 'Size of Y_train: {:>5}'.format(len(Y_train))\n",
    "print 'Size of Y_test: {:>5}'.format(len(Y_test))\n",
    "\n",
    "print X_train.shape\n",
    "print X_test.shape\n",
    "print Y_train.shape\n",
    "print Y_test.shape\n",
    "\n",
    "data = [X_train, X_test, Y_train, Y_test]"
   ]
  },
  {
   "cell_type": "markdown",
   "metadata": {},
   "source": [
    "<h2>Support Vector Machine Model</h2>"
   ]
  },
  {
   "cell_type": "code",
   "execution_count": 5,
   "metadata": {
    "collapsed": true
   },
   "outputs": [],
   "source": [
    "X_train_svm = X_train.reshape( (X_train.shape[0], -1)) \n",
    "X_test_svm  = X_test.reshape( (X_test.shape[0], -1))"
   ]
  },
  {
   "cell_type": "code",
   "execution_count": 6,
   "metadata": {},
   "outputs": [
    {
     "name": "stderr",
     "output_type": "stream",
     "text": [
      "/Users/jnarhan/miniconda2/envs/bc_venv/lib/python2.7/site-packages/sklearn/utils/validation.py:526: DataConversionWarning: A column-vector y was passed when a 1d array was expected. Please change the shape of y to (n_samples, ), for example using ravel().\n",
      "  y = column_or_1d(y, warn=True)\n"
     ]
    },
    {
     "data": {
      "text/plain": [
       "SVC(C=1.0, cache_size=200, class_weight=None, coef0=0.0,\n",
       "  decision_function_shape=None, degree=3, gamma=0.001, kernel='rbf',\n",
       "  max_iter=-1, probability=False, random_state=None, shrinking=True,\n",
       "  tol=0.001, verbose=False)"
      ]
     },
     "execution_count": 6,
     "metadata": {},
     "output_type": "execute_result"
    }
   ],
   "source": [
    "SVM_model = SVC(gamma=0.001)\n",
    "SVM_model.fit( X_train_svm, Y_train)"
   ]
  },
  {
   "cell_type": "code",
   "execution_count": 7,
   "metadata": {},
   "outputs": [
    {
     "name": "stdout",
     "output_type": "stream",
     "text": [
      "SVM Accuracy:   85.03%\n",
      "SVM Error:      14.97%\n"
     ]
    }
   ],
   "source": [
    "predictOutput = SVM_model.predict(X_test_svm)\n",
    "svm_acc = metrics.accuracy_score(y_true=Y_test, y_pred=predictOutput)\n",
    "\n",
    "print 'SVM Accuracy: {: >7.2f}%'.format(svm_acc * 100)\n",
    "print 'SVM Error: {: >10.2f}%'.format(100 - svm_acc * 100)"
   ]
  },
  {
   "cell_type": "code",
   "execution_count": 8,
   "metadata": {},
   "outputs": [
    {
     "name": "stdout",
     "output_type": "stream",
     "text": [
      "Normalized confusion matrix\n",
      "[[ 0.83  0.17]\n",
      " [ 0.13  0.87]]\n"
     ]
    },
    {
     "data": {
      "image/png": "[encoded data removed]",
      "text/plain": [
       "<matplotlib.figure.Figure at 0x126ac4cd0>"
      ]
     },
     "metadata": {},
     "output_type": "display_data"
    }
   ],
   "source": [
    "svm_matrix = skm.confusion_matrix(y_true=Y_test, y_pred=predictOutput)\n",
    "numBC = bc.reverseDict(cats)\n",
    "class_names = numBC.values()\n",
    "\n",
    "plt.figure(figsize=(8,6))\n",
    "bc.plot_confusion_matrix(svm_matrix, classes=class_names, normalize=True, \n",
    "                         title='SVM Normalized Confusion Matrix Using Differencing \\n')\n",
    "plt.tight_layout()\n",
    "plt.savefig('../../figures/jn_SVM_Detect_CM_20170526.png', dpi=100)"
   ]
  },
  {
   "cell_type": "code",
   "execution_count": 9,
   "metadata": {},
   "outputs": [
    {
     "name": "stdout",
     "output_type": "stream",
     "text": [
      "Confusion matrix, without normalization\n",
      "[[222  46]\n",
      " [ 38 255]]\n"
     ]
    },
    {
     "data": {
      "image/png": "[encoded data removed]",
      "text/plain": [
       "<matplotlib.figure.Figure at 0x123816a50>"
      ]
     },
     "metadata": {},
     "output_type": "display_data"
    }
   ],
   "source": [
    "plt.figure(figsize=(8,6))\n",
    "bc.plot_confusion_matrix(svm_matrix, classes=class_names, normalize=False, \n",
    "                         title='SVM Raw Confusion Matrix Using Differencing \\n')\n",
    "plt.tight_layout()"
   ]
  },
  {
   "cell_type": "code",
   "execution_count": 10,
   "metadata": {},
   "outputs": [
    {
     "data": {
      "text/plain": [
       "{'Accuracy': 85.03,\n",
       " 'F1': 0.86,\n",
       " 'NPV': 85.38,\n",
       " 'PPV': 84.72,\n",
       " 'Sensitivity': 87.03,\n",
       " 'Specificity': 82.84}"
      ]
     },
     "execution_count": 10,
     "metadata": {},
     "output_type": "execute_result"
    }
   ],
   "source": [
    "bc.cat_stats(svm_matrix)"
   ]
  },
  {
   "cell_type": "markdown",
   "metadata": {},
   "source": [
    "<h2>CNN Modelling Using VGG16 in Transfer Learning</h2>"
   ]
  },
  {
   "cell_type": "code",
   "execution_count": 11,
   "metadata": {
    "collapsed": true
   },
   "outputs": [],
   "source": [
    "def VGG_Prep(img_data):\n",
    "    \"\"\"\n",
    "    :param img_data: training or test images of shape [#images, height, width]\n",
    "    :return: the array transformed to the correct shape for the VGG network\n",
    "                shape = [#images, height, width, 3] transforms to rgb and reshapes\n",
    "    \"\"\"\n",
    "    images = np.zeros([len(img_data), img_data.shape[1], img_data.shape[2], 3])\n",
    "    for i in range(0, len(img_data)):\n",
    "        im = (img_data[i] * 255)        # Original imagenet images were not rescaled\n",
    "        im = color.gray2rgb(im)\n",
    "        images[i] = im\n",
    "    return(images)"
   ]
  },
  {
   "cell_type": "code",
   "execution_count": 12,
   "metadata": {
    "collapsed": true
   },
   "outputs": [],
   "source": [
    "def vgg16_bottleneck(data, modelPath, fn_train_feats, fn_train_lbls, fn_test_feats, fn_test_lbls):\n",
    "    # Loading data\n",
    "    X_train, X_test, Y_train, Y_test = data\n",
    "    \n",
    "    print('Preparing the Training Data for the VGG_16 Model.')\n",
    "    X_train = VGG_Prep(X_train)\n",
    "    print('Preparing the Test Data for the VGG_16 Model')\n",
    "    X_test = VGG_Prep(X_test)\n",
    "        \n",
    "    print('Loading the VGG_16 Model')\n",
    "    # \"model\" excludes top layer of VGG16:\n",
    "    model = applications.VGG16(include_top=False, weights='imagenet') \n",
    "        \n",
    "    # Generating the bottleneck features for the training data\n",
    "    print('Evaluating the VGG_16 Model on the Training Data')\n",
    "    bottleneck_features_train = model.predict(X_train)\n",
    "    \n",
    "    # Saving the bottleneck features for the training data\n",
    "    featuresTrain = os.path.join(modelPath, fn_train_feats)\n",
    "    labelsTrain = os.path.join(modelPath, fn_train_lbls)\n",
    "    print('Saving the Training Data Bottleneck Features.')\n",
    "    np.save(open(featuresTrain, 'wb'), bottleneck_features_train)\n",
    "    np.save(open(labelsTrain, 'wb'), Y_train)\n",
    "\n",
    "    # Generating the bottleneck features for the test data\n",
    "    print('Evaluating the VGG_16 Model on the Test Data')\n",
    "    bottleneck_features_test = model.predict(X_test)\n",
    "    \n",
    "    # Saving the bottleneck features for the test data\n",
    "    featuresTest = os.path.join(modelPath, fn_test_feats)\n",
    "    labelsTest = os.path.join(modelPath, fn_test_lbls)\n",
    "    print('Saving the Test Data Bottleneck Feaures.')\n",
    "    np.save(open(featuresTest, 'wb'), bottleneck_features_test)\n",
    "    np.save(open(labelsTest, 'wb'), Y_test)"
   ]
  },
  {
   "cell_type": "code",
   "execution_count": 13,
   "metadata": {},
   "outputs": [
    {
     "name": "stdout",
     "output_type": "stream",
     "text": [
      "Preparing the Training Data for the VGG_16 Model.\n",
      "Preparing the Test Data for the VGG_16 Model\n",
      "Loading the VGG_16 Model\n",
      "Evaluating the VGG_16 Model on the Training Data\n",
      "Saving the Training Data Bottleneck Features.\n",
      "Evaluating the VGG_16 Model on the Test Data\n",
      "Saving the Test Data Bottleneck Feaures.\n"
     ]
    }
   ],
   "source": [
    "# Locations for the bottleneck and labels files that we need\n",
    "train_bottleneck = '2Class_VGG16_bottleneck_features_train.npy'\n",
    "train_labels     = '2Class_VGG16_labels_train.npy'\n",
    "test_bottleneck  = '2Class_VGG16_bottleneck_features_test.npy'\n",
    "test_labels      = '2Class_VGG16_labels_test.npy'\n",
    "modelPath = os.getcwd()\n",
    "\n",
    "top_model_weights_path = './weights/'\n",
    "\n",
    "np.random.seed(SEED)\n",
    "vgg16_bottleneck(data, modelPath, train_bottleneck, train_labels, test_bottleneck, test_labels)"
   ]
  },
  {
   "cell_type": "code",
   "execution_count": 14,
   "metadata": {
    "collapsed": true
   },
   "outputs": [],
   "source": [
    "def train_top_model(train_feats, train_lab, test_feats, test_lab, model_path, model_save, epoch = 50, batch = 64):\n",
    "    start_time = time.time()\n",
    "    \n",
    "    train_bottleneck = os.path.join(model_path, train_feats)\n",
    "    train_labels = os.path.join(model_path, train_lab)\n",
    "    test_bottleneck = os.path.join(model_path, test_feats)\n",
    "    test_labels = os.path.join(model_path, test_lab)\n",
    "    \n",
    "    history = bc.LossHistory()\n",
    "    \n",
    "    X_train = np.load(train_bottleneck)\n",
    "    Y_train = np.load(train_labels)\n",
    "    Y_train = np_utils.to_categorical(Y_train, num_classes=2)\n",
    "    \n",
    "    X_test = np.load(test_bottleneck)\n",
    "    Y_test = np.load(test_labels)\n",
    "    Y_test = np_utils.to_categorical(Y_test, num_classes=2)\n",
    "\n",
    "    model = Sequential()\n",
    "    model.add(Flatten(input_shape=X_train.shape[1:]))\n",
    "    model.add( Dropout(0.7))\n",
    "    \n",
    "    model.add( Dense(256, activation='relu', kernel_constraint= maxnorm(3.)) )\n",
    "    model.add( Dropout(0.5))\n",
    "    \n",
    "    # Softmax for probabilities for each class at the output layer\n",
    "    model.add( Dense(2, activation='softmax'))\n",
    "    \n",
    "    model.compile(optimizer='rmsprop',  # adadelta\n",
    "                  loss='binary_crossentropy', \n",
    "                  metrics=['accuracy'])\n",
    "\n",
    "    model.fit(X_train, Y_train,\n",
    "              epochs=epoch,\n",
    "              batch_size=batch,\n",
    "              callbacks=[history],\n",
    "              validation_data=(X_test, Y_test),\n",
    "              verbose=2)\n",
    "    \n",
    "    print \"Training duration : {0}\".format(time.time() - start_time)\n",
    "    score = model.evaluate(X_test, Y_test, batch_size=16, verbose=2)\n",
    "\n",
    "    print \"Network's test score [loss, accuracy]: {0}\".format(score)\n",
    "    print 'CNN Error: {:.2f}%'.format(100 - score[1] * 100)\n",
    "    \n",
    "    bc.save_model(model_save, model, \"jn_VGG16_Detection_top_weights.h5\")\n",
    "    \n",
    "    return model, history.losses, history.acc, score"
   ]
  },
  {
   "cell_type": "code",
   "execution_count": 15,
   "metadata": {},
   "outputs": [
    {
     "name": "stdout",
     "output_type": "stream",
     "text": [
      "Train on 1683 samples, validate on 561 samples\n",
      "Epoch 1/100\n",
      "1s - loss: 2.8385 - acc: 0.7986 - val_loss: 2.3598 - val_acc: 0.8485\n",
      "Epoch 2/100\n",
      "1s - loss: 2.7036 - acc: 0.8188 - val_loss: 2.3739 - val_acc: 0.8503\n",
      "Epoch 3/100\n",
      "1s - loss: 2.5971 - acc: 0.8265 - val_loss: 2.2746 - val_acc: 0.8503\n",
      "Epoch 4/100\n",
      "1s - loss: 2.5430 - acc: 0.8271 - val_loss: 2.1862 - val_acc: 0.8556\n",
      "Epoch 5/100\n",
      "1s - loss: 2.3917 - acc: 0.8372 - val_loss: 2.2429 - val_acc: 0.8538\n",
      "Epoch 6/100\n",
      "1s - loss: 2.4806 - acc: 0.8372 - val_loss: 2.4047 - val_acc: 0.8431\n",
      "Epoch 7/100\n",
      "1s - loss: 2.5464 - acc: 0.8271 - val_loss: 2.0646 - val_acc: 0.8610\n",
      "Epoch 8/100\n",
      "1s - loss: 2.3199 - acc: 0.8348 - val_loss: 1.9761 - val_acc: 0.8699\n",
      "Epoch 9/100\n",
      "1s - loss: 2.3834 - acc: 0.8324 - val_loss: 1.9468 - val_acc: 0.8627\n",
      "Epoch 10/100\n",
      "1s - loss: 2.3584 - acc: 0.8384 - val_loss: 1.9791 - val_acc: 0.8699\n",
      "Epoch 11/100\n",
      "1s - loss: 2.2034 - acc: 0.8532 - val_loss: 1.9340 - val_acc: 0.8681\n",
      "Epoch 12/100\n",
      "1s - loss: 2.2265 - acc: 0.8491 - val_loss: 1.9066 - val_acc: 0.8681\n",
      "Epoch 13/100\n",
      "1s - loss: 2.2755 - acc: 0.8443 - val_loss: 1.8558 - val_acc: 0.8770\n",
      "Epoch 14/100\n",
      "1s - loss: 2.2936 - acc: 0.8366 - val_loss: 2.7826 - val_acc: 0.8111\n",
      "Epoch 15/100\n",
      "1s - loss: 2.3356 - acc: 0.8408 - val_loss: 2.2387 - val_acc: 0.8538\n",
      "Epoch 16/100\n",
      "1s - loss: 2.1746 - acc: 0.8473 - val_loss: 1.9056 - val_acc: 0.8717\n",
      "Epoch 17/100\n",
      "1s - loss: 2.1306 - acc: 0.8550 - val_loss: 1.9507 - val_acc: 0.8645\n",
      "Epoch 18/100\n",
      "1s - loss: 2.2407 - acc: 0.8449 - val_loss: 1.9644 - val_acc: 0.8663\n",
      "Epoch 19/100\n",
      "1s - loss: 2.1431 - acc: 0.8562 - val_loss: 2.2560 - val_acc: 0.8449\n",
      "Epoch 20/100\n",
      "1s - loss: 2.1437 - acc: 0.8491 - val_loss: 2.3264 - val_acc: 0.8414\n",
      "Epoch 21/100\n",
      "1s - loss: 2.1593 - acc: 0.8485 - val_loss: 1.9963 - val_acc: 0.8645\n",
      "Epoch 22/100\n",
      "1s - loss: 2.0758 - acc: 0.8580 - val_loss: 2.0873 - val_acc: 0.8503\n",
      "Epoch 23/100\n",
      "1s - loss: 2.1336 - acc: 0.8526 - val_loss: 1.9412 - val_acc: 0.8645\n",
      "Epoch 24/100\n",
      "1s - loss: 2.0754 - acc: 0.8598 - val_loss: 1.9785 - val_acc: 0.8592\n",
      "Epoch 25/100\n",
      "1s - loss: 2.1447 - acc: 0.8532 - val_loss: 2.3094 - val_acc: 0.8449\n",
      "Epoch 26/100\n",
      "1s - loss: 2.1443 - acc: 0.8550 - val_loss: 1.9055 - val_acc: 0.8681\n",
      "Epoch 27/100\n",
      "1s - loss: 1.9621 - acc: 0.8645 - val_loss: 1.9297 - val_acc: 0.8645\n",
      "Epoch 28/100\n",
      "1s - loss: 2.0683 - acc: 0.8568 - val_loss: 2.0247 - val_acc: 0.8663\n",
      "Epoch 29/100\n",
      "1s - loss: 2.0526 - acc: 0.8610 - val_loss: 2.0199 - val_acc: 0.8645\n",
      "Epoch 30/100\n",
      "1s - loss: 2.0008 - acc: 0.8633 - val_loss: 1.9753 - val_acc: 0.8627\n",
      "Epoch 31/100\n",
      "1s - loss: 1.9410 - acc: 0.8693 - val_loss: 1.8993 - val_acc: 0.8627\n",
      "Epoch 32/100\n",
      "1s - loss: 2.0557 - acc: 0.8586 - val_loss: 1.8741 - val_acc: 0.8717\n",
      "Epoch 33/100\n",
      "1s - loss: 2.0140 - acc: 0.8616 - val_loss: 2.1382 - val_acc: 0.8556\n",
      "Epoch 34/100\n",
      "1s - loss: 1.9823 - acc: 0.8627 - val_loss: 1.9958 - val_acc: 0.8627\n",
      "Epoch 35/100\n",
      "1s - loss: 1.9254 - acc: 0.8675 - val_loss: 2.0144 - val_acc: 0.8663\n",
      "Epoch 36/100\n",
      "1s - loss: 1.9059 - acc: 0.8711 - val_loss: 1.8959 - val_acc: 0.8627\n",
      "Epoch 37/100\n",
      "1s - loss: 1.9001 - acc: 0.8675 - val_loss: 2.0527 - val_acc: 0.8592\n",
      "Epoch 38/100\n",
      "1s - loss: 1.8049 - acc: 0.8758 - val_loss: 1.9239 - val_acc: 0.8681\n",
      "Epoch 39/100\n",
      "1s - loss: 1.9506 - acc: 0.8675 - val_loss: 1.9933 - val_acc: 0.8681\n",
      "Epoch 40/100\n",
      "1s - loss: 1.9155 - acc: 0.8657 - val_loss: 1.9742 - val_acc: 0.8681\n",
      "Epoch 41/100\n",
      "1s - loss: 2.0498 - acc: 0.8568 - val_loss: 1.9704 - val_acc: 0.8538\n",
      "Epoch 42/100\n",
      "1s - loss: 1.9446 - acc: 0.8645 - val_loss: 2.0351 - val_acc: 0.8663\n",
      "Epoch 43/100\n",
      "1s - loss: 1.8553 - acc: 0.8711 - val_loss: 1.9602 - val_acc: 0.8681\n",
      "Epoch 44/100\n",
      "1s - loss: 1.8597 - acc: 0.8717 - val_loss: 1.8300 - val_acc: 0.8770\n",
      "Epoch 45/100\n",
      "1s - loss: 1.7820 - acc: 0.8752 - val_loss: 1.8537 - val_acc: 0.8717\n",
      "Epoch 46/100\n",
      "1s - loss: 1.7718 - acc: 0.8788 - val_loss: 1.8535 - val_acc: 0.8734\n",
      "Epoch 47/100\n",
      "1s - loss: 1.8005 - acc: 0.8699 - val_loss: 1.9746 - val_acc: 0.8556\n",
      "Epoch 48/100\n",
      "1s - loss: 1.7512 - acc: 0.8681 - val_loss: 1.9626 - val_acc: 0.8538\n",
      "Epoch 49/100\n",
      "1s - loss: 1.7785 - acc: 0.8723 - val_loss: 1.8612 - val_acc: 0.8717\n",
      "Epoch 50/100\n",
      "1s - loss: 1.6387 - acc: 0.8764 - val_loss: 1.7872 - val_acc: 0.8681\n",
      "Epoch 51/100\n",
      "1s - loss: 1.6754 - acc: 0.8788 - val_loss: 1.7514 - val_acc: 0.8717\n",
      "Epoch 52/100\n",
      "1s - loss: 1.7216 - acc: 0.8740 - val_loss: 1.8085 - val_acc: 0.8752\n",
      "Epoch 53/100\n",
      "1s - loss: 1.6292 - acc: 0.8776 - val_loss: 1.6884 - val_acc: 0.8770\n",
      "Epoch 54/100\n",
      "1s - loss: 1.7274 - acc: 0.8734 - val_loss: 1.7929 - val_acc: 0.8610\n",
      "Epoch 55/100\n",
      "1s - loss: 1.6533 - acc: 0.8717 - val_loss: 1.6780 - val_acc: 0.8663\n",
      "Epoch 56/100\n",
      "1s - loss: 1.6953 - acc: 0.8693 - val_loss: 1.7406 - val_acc: 0.8627\n",
      "Epoch 57/100\n",
      "1s - loss: 1.5562 - acc: 0.8764 - val_loss: 1.5165 - val_acc: 0.8627\n",
      "Epoch 58/100\n",
      "1s - loss: 1.4202 - acc: 0.8770 - val_loss: 1.5068 - val_acc: 0.8699\n",
      "Epoch 59/100\n",
      "1s - loss: 1.4541 - acc: 0.8740 - val_loss: 1.3924 - val_acc: 0.8360\n",
      "Epoch 60/100\n",
      "1s - loss: 1.3214 - acc: 0.8651 - val_loss: 1.2871 - val_acc: 0.8770\n",
      "Epoch 61/100\n",
      "1s - loss: 1.2346 - acc: 0.8794 - val_loss: 1.2476 - val_acc: 0.8645\n",
      "Epoch 62/100\n",
      "1s - loss: 1.1506 - acc: 0.8705 - val_loss: 1.2084 - val_acc: 0.8520\n",
      "Epoch 63/100\n",
      "1s - loss: 1.0361 - acc: 0.8800 - val_loss: 1.0873 - val_acc: 0.8663\n",
      "Epoch 64/100\n",
      "1s - loss: 0.9922 - acc: 0.8758 - val_loss: 1.1431 - val_acc: 0.8396\n",
      "Epoch 65/100\n",
      "1s - loss: 0.9423 - acc: 0.8681 - val_loss: 0.9496 - val_acc: 0.8592\n",
      "Epoch 66/100\n",
      "1s - loss: 0.8912 - acc: 0.8758 - val_loss: 0.7755 - val_acc: 0.8449\n",
      "Epoch 67/100\n",
      "1s - loss: 0.7141 - acc: 0.8746 - val_loss: 0.5179 - val_acc: 0.8378\n",
      "Epoch 68/100\n",
      "1s - loss: 0.6769 - acc: 0.8693 - val_loss: 0.4493 - val_acc: 0.8734\n",
      "Epoch 69/100\n",
      "1s - loss: 0.6633 - acc: 0.8633 - val_loss: 0.4580 - val_acc: 0.8627\n",
      "Epoch 70/100\n",
      "1s - loss: 0.6056 - acc: 0.8788 - val_loss: 0.4334 - val_acc: 0.8734\n",
      "Epoch 71/100\n",
      "1s - loss: 0.6184 - acc: 0.8675 - val_loss: 0.4822 - val_acc: 0.8556\n",
      "Epoch 72/100\n",
      "1s - loss: 0.5248 - acc: 0.8800 - val_loss: 0.4589 - val_acc: 0.8752\n",
      "Epoch 73/100\n",
      "1s - loss: 0.5215 - acc: 0.8764 - val_loss: 0.4228 - val_acc: 0.8627\n",
      "Epoch 74/100\n",
      "1s - loss: 0.5211 - acc: 0.8675 - val_loss: 0.4451 - val_acc: 0.8717\n",
      "Epoch 75/100\n",
      "1s - loss: 0.5146 - acc: 0.8829 - val_loss: 0.4753 - val_acc: 0.8574\n",
      "Epoch 76/100\n",
      "1s - loss: 0.4744 - acc: 0.8871 - val_loss: 0.4831 - val_acc: 0.8752\n",
      "Epoch 77/100\n",
      "1s - loss: 0.4771 - acc: 0.8818 - val_loss: 0.4516 - val_acc: 0.8645\n",
      "Epoch 78/100\n",
      "1s - loss: 0.4469 - acc: 0.8841 - val_loss: 0.4330 - val_acc: 0.8699\n",
      "Epoch 79/100\n",
      "1s - loss: 0.4431 - acc: 0.8865 - val_loss: 0.4191 - val_acc: 0.8859\n",
      "Epoch 80/100\n",
      "1s - loss: 0.5090 - acc: 0.8764 - val_loss: 0.4044 - val_acc: 0.8841\n",
      "Epoch 81/100\n",
      "1s - loss: 0.4664 - acc: 0.8829 - val_loss: 0.4966 - val_acc: 0.8592\n",
      "Epoch 82/100\n",
      "1s - loss: 0.4325 - acc: 0.8776 - val_loss: 0.4069 - val_acc: 0.8824\n",
      "Epoch 83/100\n",
      "1s - loss: 0.4093 - acc: 0.8907 - val_loss: 0.3974 - val_acc: 0.8824\n",
      "Epoch 84/100\n",
      "1s - loss: 0.4509 - acc: 0.8812 - val_loss: 0.3954 - val_acc: 0.8752\n",
      "Epoch 85/100\n",
      "1s - loss: 0.3839 - acc: 0.8794 - val_loss: 0.4044 - val_acc: 0.8806\n",
      "Epoch 86/100\n",
      "1s - loss: 0.3887 - acc: 0.8865 - val_loss: 0.4184 - val_acc: 0.8806\n",
      "Epoch 87/100\n",
      "1s - loss: 0.3986 - acc: 0.8930 - val_loss: 0.4133 - val_acc: 0.8859\n",
      "Epoch 88/100\n",
      "1s - loss: 0.3678 - acc: 0.8889 - val_loss: 0.4113 - val_acc: 0.8752\n",
      "Epoch 89/100\n",
      "1s - loss: 0.3493 - acc: 0.8925 - val_loss: 0.4488 - val_acc: 0.8717\n",
      "Epoch 90/100\n",
      "1s - loss: 0.3464 - acc: 0.8907 - val_loss: 0.3947 - val_acc: 0.8681\n",
      "Epoch 91/100\n",
      "1s - loss: 0.3629 - acc: 0.8889 - val_loss: 0.4576 - val_acc: 0.8663\n",
      "Epoch 92/100\n",
      "1s - loss: 0.3166 - acc: 0.9091 - val_loss: 0.4648 - val_acc: 0.8627\n",
      "Epoch 93/100\n",
      "1s - loss: 0.3396 - acc: 0.8907 - val_loss: 0.4226 - val_acc: 0.8699\n",
      "Epoch 94/100\n",
      "1s - loss: 0.3359 - acc: 0.8984 - val_loss: 0.4497 - val_acc: 0.8752\n",
      "Epoch 95/100\n",
      "1s - loss: 0.3227 - acc: 0.9073 - val_loss: 0.4909 - val_acc: 0.8770\n",
      "Epoch 96/100\n",
      "1s - loss: 0.3600 - acc: 0.9020 - val_loss: 0.4476 - val_acc: 0.8824\n",
      "Epoch 97/100\n",
      "1s - loss: 0.3070 - acc: 0.9008 - val_loss: 0.4220 - val_acc: 0.8824\n",
      "Epoch 98/100\n",
      "1s - loss: 0.3514 - acc: 0.8948 - val_loss: 0.4191 - val_acc: 0.8788\n",
      "Epoch 99/100\n",
      "1s - loss: 0.3370 - acc: 0.8942 - val_loss: 0.4283 - val_acc: 0.8770\n",
      "Epoch 100/100\n",
      "1s - loss: 0.3001 - acc: 0.9026 - val_loss: 0.4076 - val_acc: 0.8806\n",
      "Training duration : 152.400952101\n",
      "Network's test score [loss, accuracy]: [0.40761989082662975, 0.88057040998217473]\n",
      "CNN Error: 11.94%\n",
      "Model and Weights Saved to Disk\n"
     ]
    },
    {
     "data": {
      "text/plain": [
       "<matplotlib.figure.Figure at 0x126693d10>"
      ]
     },
     "metadata": {},
     "output_type": "display_data"
    },
    {
     "data": {
      "image/png": "[encoded data removed]",
      "text/plain": [
       "<matplotlib.figure.Figure at 0x124c86490>"
      ]
     },
     "metadata": {},
     "output_type": "display_data"
    }
   ],
   "source": [
    "np.random.seed(SEED)\n",
    "(trans_model, loss_cnn, acc_cnn, test_score_cnn) = train_top_model(train_feats=train_bottleneck,\n",
    "                                                                   train_lab=train_labels, \n",
    "                                                                   test_feats=test_bottleneck, \n",
    "                                                                   test_lab=test_labels,\n",
    "                                                                   model_path=modelPath, \n",
    "                                                                   model_save=top_model_weights_path,\n",
    "                                                                   epoch=100)\n",
    "plt.figure(figsize=(10,10))\n",
    "bc.plot_losses(loss_cnn, acc_cnn)\n",
    "plt.savefig('../../figures/epoch_figures/jn_Transfer_Detection_Learning_20170526.png', dpi=100)"
   ]
  },
  {
   "cell_type": "code",
   "execution_count": 16,
   "metadata": {},
   "outputs": [
    {
     "name": "stdout",
     "output_type": "stream",
     "text": [
      "Transfer Learning CNN Accuracy:   88.06%\n",
      "Transfer Learning CNN Error:      11.94%\n",
      "Normalized confusion matrix\n",
      "[[ 0.88  0.12]\n",
      " [ 0.12  0.88]]\n"
     ]
    },
    {
     "data": {
      "image/png": "[encoded data removed]",
      "text/plain": [
       "<matplotlib.figure.Figure at 0x1345d15d0>"
      ]
     },
     "metadata": {},
     "output_type": "display_data"
    }
   ],
   "source": [
    "print 'Transfer Learning CNN Accuracy: {: >7.2f}%'.format(test_score_cnn[1] * 100)\n",
    "print 'Transfer Learning CNN Error: {: >10.2f}%'.format(100 - test_score_cnn[1] * 100)\n",
    "\n",
    "predictOutput = bc.predict(trans_model, np.load(test_bottleneck))\n",
    "trans_matrix = skm.confusion_matrix(y_true=Y_test, y_pred=predictOutput)\n",
    "\n",
    "plt.figure(figsize=(8,6))\n",
    "bc.plot_confusion_matrix(trans_matrix, classes=class_names, normalize=True,\n",
    "                         title='Transfer CNN Normalized Confusion Matrix Using Differencing \\n')\n",
    "plt.tight_layout()\n",
    "plt.savefig('../../figures/jn_Transfer_Detection_CM_20170526.png', dpi=100)"
   ]
  },
  {
   "cell_type": "code",
   "execution_count": 17,
   "metadata": {},
   "outputs": [
    {
     "name": "stdout",
     "output_type": "stream",
     "text": [
      "Confusion matrix, without normalization\n",
      "[[237  31]\n",
      " [ 36 257]]\n"
     ]
    },
    {
     "data": {
      "image/png": "[encoded data removed]",
      "text/plain": [
       "<matplotlib.figure.Figure at 0x13475ae10>"
      ]
     },
     "metadata": {},
     "output_type": "display_data"
    }
   ],
   "source": [
    "plt.figure(figsize=(8,6))\n",
    "bc.plot_confusion_matrix(trans_matrix, classes=class_names, normalize=False,\n",
    "                         title='Transfer CNN Raw Confusion Matrix Using Differencing \\n')\n",
    "plt.tight_layout()"
   ]
  },
  {
   "cell_type": "code",
   "execution_count": 18,
   "metadata": {},
   "outputs": [
    {
     "data": {
      "text/plain": [
       "{'Accuracy': 88.06,\n",
       " 'F1': 0.88,\n",
       " 'NPV': 86.81,\n",
       " 'PPV': 89.24,\n",
       " 'Sensitivity': 87.71,\n",
       " 'Specificity': 88.43}"
      ]
     },
     "execution_count": 18,
     "metadata": {},
     "output_type": "execute_result"
    }
   ],
   "source": [
    "bc.cat_stats(trans_matrix)"
   ]
  },
  {
   "cell_type": "markdown",
   "metadata": {},
   "source": [
    "<h2>Core CNN Modelling</h2>"
   ]
  },
  {
   "cell_type": "markdown",
   "metadata": {},
   "source": [
    "**Prep and package the data for Keras processing:**"
   ]
  },
  {
   "cell_type": "code",
   "execution_count": 19,
   "metadata": {},
   "outputs": [
    {
     "name": "stdout",
     "output_type": "stream",
     "text": [
      "Prep data for NNs ...\n",
      "Data Prepped for Neural Nets.\n",
      "(1683, 1, 150, 150)\n",
      "(561, 1, 150, 150)\n",
      "(1683, 2)\n",
      "(561, 2)\n"
     ]
    }
   ],
   "source": [
    "data = [X_train, X_test, Y_train, Y_test]\n",
    "X_train, X_test, Y_train, Y_test = bc.prep_data(data, cats)\n",
    "data = [X_train, X_test, Y_train, Y_test]\n",
    "\n",
    "print X_train.shape\n",
    "print X_test.shape\n",
    "print Y_train.shape\n",
    "print Y_test.shape"
   ]
  },
  {
   "cell_type": "markdown",
   "metadata": {},
   "source": [
    "**Heavy Regularization**"
   ]
  },
  {
   "cell_type": "code",
   "execution_count": 20,
   "metadata": {
    "collapsed": true
   },
   "outputs": [],
   "source": [
    "def diff_model_v7_reg(numClasses, input_shape=(3, 150,150), add_noise=False, noise=0.01, verbose=False):\n",
    "    model = Sequential()\n",
    "    if (add_noise):\n",
    "        model.add( GaussianNoise(noise, input_shape=input_shape))\n",
    "        model.add( Convolution2D(filters=16, \n",
    "                                 kernel_size=(5,5), \n",
    "                                 data_format='channels_first',\n",
    "                                 padding='same',\n",
    "                                 activation='relu'))\n",
    "    else:\n",
    "        model.add( Convolution2D(filters=16, \n",
    "                                 kernel_size=(5,5), \n",
    "                                 data_format='channels_first',\n",
    "                                 padding='same',\n",
    "                                 activation='relu',\n",
    "                                 input_shape=input_shape))\n",
    "    model.add( Dropout(0.7))\n",
    "    \n",
    "    model.add( Convolution2D(filters=32, kernel_size=(3,3), \n",
    "                             data_format='channels_first', padding='same', activation='relu'))\n",
    "    model.add( MaxPooling2D(pool_size= (2,2), data_format='channels_first'))\n",
    "    model.add( Dropout(0.4))\n",
    "    model.add( Convolution2D(filters=32, kernel_size=(3,3), \n",
    "                             data_format='channels_first', activation='relu'))\n",
    "    \n",
    "    model.add( Convolution2D(filters=64, kernel_size=(3,3), \n",
    "                             data_format='channels_first', padding='same', activation='relu',\n",
    "                             kernel_regularizer=regularizers.l2(0.01)))\n",
    "    model.add( MaxPooling2D(pool_size= (2,2), data_format='channels_first'))\n",
    "    model.add( Convolution2D(filters=64, kernel_size=(3,3), \n",
    "                             data_format='channels_first', activation='relu',\n",
    "                             kernel_regularizer=regularizers.l2(0.01)))\n",
    "    model.add( Dropout(0.4))\n",
    "    \n",
    "    model.add( Convolution2D(filters=128, kernel_size=(3,3), \n",
    "                             data_format='channels_first', padding='same', activation='relu',\n",
    "                             kernel_regularizer=regularizers.l2(0.01)))\n",
    "    model.add( MaxPooling2D(pool_size= (2,2), data_format='channels_first'))\n",
    "    \n",
    "    model.add( Convolution2D(filters=128, kernel_size=(3,3), \n",
    "                             data_format='channels_first', activation='relu',\n",
    "                             kernel_regularizer=regularizers.l2(0.01)))\n",
    "    model.add(Dropout(0.4))\n",
    "    \n",
    "    model.add( Flatten())\n",
    "    \n",
    "    model.add( Dense(128, activation='relu', kernel_constraint= maxnorm(3.)) )\n",
    "    model.add( Dropout(0.4))\n",
    "    \n",
    "    model.add( Dense(64, activation='relu', kernel_constraint= maxnorm(3.)) )\n",
    "    model.add( Dropout(0.4))\n",
    "    \n",
    "    # Softmax for probabilities for each class at the output layer\n",
    "    model.add( Dense(numClasses, activation='softmax'))\n",
    "    \n",
    "    if verbose:\n",
    "        print( model.summary() )\n",
    "    \n",
    "    model.compile(loss='binary_crossentropy',\n",
    "                  optimizer='rmsprop',\n",
    "                  metrics=['accuracy'])\n",
    "    return model"
   ]
  },
  {
   "cell_type": "code",
   "execution_count": 21,
   "metadata": {},
   "outputs": [
    {
     "name": "stdout",
     "output_type": "stream",
     "text": [
      "_________________________________________________________________\n",
      "Layer (type)                 Output Shape              Param #   \n",
      "=================================================================\n",
      "gaussian_noise_1 (GaussianNo (None, 1, 150, 150)       0         \n",
      "_________________________________________________________________\n",
      "conv2d_1 (Conv2D)            (None, 16, 150, 150)      416       \n",
      "_________________________________________________________________\n",
      "dropout_3 (Dropout)          (None, 16, 150, 150)      0         \n",
      "_________________________________________________________________\n",
      "conv2d_2 (Conv2D)            (None, 32, 150, 150)      4640      \n",
      "_________________________________________________________________\n",
      "max_pooling2d_1 (MaxPooling2 (None, 32, 75, 75)        0         \n",
      "_________________________________________________________________\n",
      "dropout_4 (Dropout)          (None, 32, 75, 75)        0         \n",
      "_________________________________________________________________\n",
      "conv2d_3 (Conv2D)            (None, 32, 73, 73)        9248      \n",
      "_________________________________________________________________\n",
      "conv2d_4 (Conv2D)            (None, 64, 73, 73)        18496     \n",
      "_________________________________________________________________\n",
      "max_pooling2d_2 (MaxPooling2 (None, 64, 36, 36)        0         \n",
      "_________________________________________________________________\n",
      "conv2d_5 (Conv2D)            (None, 64, 34, 34)        36928     \n",
      "_________________________________________________________________\n",
      "dropout_5 (Dropout)          (None, 64, 34, 34)        0         \n",
      "_________________________________________________________________\n",
      "conv2d_6 (Conv2D)            (None, 128, 34, 34)       73856     \n",
      "_________________________________________________________________\n",
      "max_pooling2d_3 (MaxPooling2 (None, 128, 17, 17)       0         \n",
      "_________________________________________________________________\n",
      "conv2d_7 (Conv2D)            (None, 128, 15, 15)       147584    \n",
      "_________________________________________________________________\n",
      "dropout_6 (Dropout)          (None, 128, 15, 15)       0         \n",
      "_________________________________________________________________\n",
      "flatten_2 (Flatten)          (None, 28800)             0         \n",
      "_________________________________________________________________\n",
      "dense_3 (Dense)              (None, 128)               3686528   \n",
      "_________________________________________________________________\n",
      "dropout_7 (Dropout)          (None, 128)               0         \n",
      "_________________________________________________________________\n",
      "dense_4 (Dense)              (None, 64)                8256      \n",
      "_________________________________________________________________\n",
      "dropout_8 (Dropout)          (None, 64)                0         \n",
      "_________________________________________________________________\n",
      "dense_5 (Dense)              (None, 2)                 130       \n",
      "=================================================================\n",
      "Total params: 3,986,082\n",
      "Trainable params: 3,986,082\n",
      "Non-trainable params: 0\n",
      "_________________________________________________________________\n",
      "None\n"
     ]
    }
   ],
   "source": [
    "diff_model7_noise_reg = diff_model_v7_reg(len(cats),\n",
    "                                          input_shape=(X_train.shape[1], X_train.shape[2], X_train.shape[3]),\n",
    "                                          add_noise=True, verbose=True)"
   ]
  },
  {
   "cell_type": "code",
   "execution_count": 22,
   "metadata": {},
   "outputs": [
    {
     "name": "stdout",
     "output_type": "stream",
     "text": [
      "Training model...\n",
      "Train on 1683 samples, validate on 561 samples\n",
      "Epoch 1/50\n",
      "168s - loss: 2.4077 - acc: 0.7540 - val_loss: 1.6150 - val_acc: 0.7291\n",
      "Epoch 2/50\n",
      "169s - loss: 1.1560 - acc: 0.8200 - val_loss: 0.8244 - val_acc: 0.8289\n",
      "Epoch 3/50\n",
      "166s - loss: 0.7422 - acc: 0.8045 - val_loss: 0.6919 - val_acc: 0.7433\n",
      "Epoch 4/50\n",
      "166s - loss: 0.5613 - acc: 0.8182 - val_loss: 0.7176 - val_acc: 0.5526\n",
      "Epoch 5/50\n",
      "166s - loss: 0.5043 - acc: 0.8223 - val_loss: 0.4549 - val_acc: 0.8449\n",
      "Epoch 6/50\n",
      "165s - loss: 0.4852 - acc: 0.8247 - val_loss: 0.4437 - val_acc: 0.8449\n",
      "Epoch 7/50\n",
      "166s - loss: 0.4567 - acc: 0.8313 - val_loss: 0.4280 - val_acc: 0.8324\n",
      "Epoch 8/50\n",
      "165s - loss: 0.4508 - acc: 0.8283 - val_loss: 0.4324 - val_acc: 0.8467\n",
      "Epoch 9/50\n",
      "165s - loss: 0.4485 - acc: 0.8271 - val_loss: 0.4698 - val_acc: 0.8378\n",
      "Epoch 10/50\n",
      "166s - loss: 0.4291 - acc: 0.8336 - val_loss: 0.4306 - val_acc: 0.8449\n",
      "Epoch 11/50\n",
      "165s - loss: 0.4439 - acc: 0.8283 - val_loss: 0.5518 - val_acc: 0.7398\n",
      "Epoch 12/50\n",
      "168s - loss: 0.4156 - acc: 0.8425 - val_loss: 0.4367 - val_acc: 0.8503\n",
      "Epoch 13/50\n",
      "165s - loss: 0.4241 - acc: 0.8348 - val_loss: 0.4363 - val_acc: 0.8342\n",
      "Epoch 14/50\n",
      "165s - loss: 0.4197 - acc: 0.8366 - val_loss: 0.4016 - val_acc: 0.8431\n",
      "Epoch 15/50\n",
      "166s - loss: 0.4239 - acc: 0.8396 - val_loss: 0.4640 - val_acc: 0.8128\n",
      "Epoch 16/50\n",
      "171s - loss: 0.4077 - acc: 0.8396 - val_loss: 0.4553 - val_acc: 0.8503\n",
      "Epoch 17/50\n",
      "171s - loss: 0.4101 - acc: 0.8455 - val_loss: 0.4086 - val_acc: 0.8449\n",
      "Epoch 18/50\n",
      "172s - loss: 0.4023 - acc: 0.8449 - val_loss: 0.4262 - val_acc: 0.8396\n",
      "Epoch 19/50\n",
      "165s - loss: 0.4059 - acc: 0.8515 - val_loss: 0.4056 - val_acc: 0.8520\n",
      "Epoch 20/50\n",
      "165s - loss: 0.3891 - acc: 0.8550 - val_loss: 0.4288 - val_acc: 0.8414\n",
      "Epoch 21/50\n",
      "165s - loss: 0.3820 - acc: 0.8479 - val_loss: 0.4479 - val_acc: 0.8182\n",
      "Epoch 22/50\n",
      "165s - loss: 0.3844 - acc: 0.8610 - val_loss: 0.4061 - val_acc: 0.8449\n",
      "Epoch 23/50\n",
      "166s - loss: 0.3878 - acc: 0.8544 - val_loss: 0.4257 - val_acc: 0.8520\n",
      "Epoch 24/50\n",
      "166s - loss: 0.3790 - acc: 0.8556 - val_loss: 0.4091 - val_acc: 0.8378\n",
      "Epoch 25/50\n",
      "167s - loss: 0.3649 - acc: 0.8627 - val_loss: 0.4357 - val_acc: 0.8503\n",
      "Epoch 26/50\n",
      "167s - loss: 0.3728 - acc: 0.8598 - val_loss: 0.4225 - val_acc: 0.8431\n",
      "Epoch 27/50\n",
      "167s - loss: 0.3602 - acc: 0.8669 - val_loss: 0.4049 - val_acc: 0.8449\n",
      "Epoch 28/50\n",
      "168s - loss: 0.3623 - acc: 0.8622 - val_loss: 0.5144 - val_acc: 0.8556\n",
      "Epoch 29/50\n",
      "167s - loss: 0.3582 - acc: 0.8657 - val_loss: 0.4054 - val_acc: 0.8378\n",
      "Epoch 30/50\n",
      "168s - loss: 0.3521 - acc: 0.8657 - val_loss: 0.4190 - val_acc: 0.8520\n",
      "Epoch 31/50\n",
      "168s - loss: 0.3491 - acc: 0.8657 - val_loss: 0.4776 - val_acc: 0.8467\n",
      "Epoch 32/50\n",
      "168s - loss: 0.3572 - acc: 0.8616 - val_loss: 0.4449 - val_acc: 0.8520\n",
      "Epoch 33/50\n",
      "168s - loss: 0.3500 - acc: 0.8728 - val_loss: 0.4162 - val_acc: 0.8431\n",
      "Epoch 34/50\n",
      "167s - loss: 0.3389 - acc: 0.8752 - val_loss: 0.3935 - val_acc: 0.8396\n",
      "Epoch 35/50\n",
      "168s - loss: 0.3629 - acc: 0.8740 - val_loss: 0.4759 - val_acc: 0.8253\n",
      "Epoch 36/50\n",
      "169s - loss: 0.3194 - acc: 0.8794 - val_loss: 0.4721 - val_acc: 0.8485\n",
      "Epoch 37/50\n",
      "167s - loss: 0.3151 - acc: 0.8824 - val_loss: 0.4349 - val_acc: 0.8449\n",
      "Epoch 38/50\n",
      "168s - loss: 0.3094 - acc: 0.8794 - val_loss: 0.4442 - val_acc: 0.8378\n",
      "Epoch 39/50\n",
      "168s - loss: 0.3066 - acc: 0.8871 - val_loss: 0.5630 - val_acc: 0.8378\n",
      "Epoch 40/50\n",
      "168s - loss: 0.3045 - acc: 0.8829 - val_loss: 0.5275 - val_acc: 0.8467\n",
      "Epoch 41/50\n",
      "167s - loss: 0.2934 - acc: 0.8960 - val_loss: 0.4857 - val_acc: 0.8431\n",
      "Epoch 42/50\n",
      "168s - loss: 0.3007 - acc: 0.8847 - val_loss: 0.4297 - val_acc: 0.8485\n",
      "Epoch 43/50\n",
      "170s - loss: 0.3157 - acc: 0.8871 - val_loss: 0.4392 - val_acc: 0.8431\n",
      "Epoch 44/50\n",
      "167s - loss: 0.2897 - acc: 0.8907 - val_loss: 0.6173 - val_acc: 0.8520\n",
      "Epoch 45/50\n",
      "168s - loss: 0.2791 - acc: 0.8936 - val_loss: 0.4353 - val_acc: 0.8324\n",
      "Epoch 46/50\n",
      "168s - loss: 0.2772 - acc: 0.8984 - val_loss: 0.4105 - val_acc: 0.8467\n",
      "Epoch 47/50\n",
      "168s - loss: 0.2961 - acc: 0.8936 - val_loss: 0.4410 - val_acc: 0.8449\n",
      "Epoch 48/50\n",
      "168s - loss: 0.2830 - acc: 0.8871 - val_loss: 0.4368 - val_acc: 0.8253\n",
      "Epoch 49/50\n",
      "168s - loss: 0.2895 - acc: 0.8913 - val_loss: 0.4759 - val_acc: 0.8111\n",
      "Epoch 50/50\n",
      "168s - loss: 0.2726 - acc: 0.9014 - val_loss: 0.4787 - val_acc: 0.8271\n",
      "Training duration : 8441.08693409\n",
      "Network's test score [loss, accuracy]: [0.47866444717329026, 0.82709447415329773]\n",
      "CNN Error: 17.29%\n"
     ]
    },
    {
     "data": {
      "text/plain": [
       "<matplotlib.figure.Figure at 0x13471b910>"
      ]
     },
     "metadata": {},
     "output_type": "display_data"
    },
    {
     "data": {
      "image/png": "[encoded data removed]",
      "text/plain": [
       "<matplotlib.figure.Figure at 0x123e08c50>"
      ]
     },
     "metadata": {},
     "output_type": "display_data"
    }
   ],
   "source": [
    "np.random.seed(SEED)\n",
    "\n",
    "(cnn_model, loss_cnn, acc_cnn, test_score_cnn) = bc.run_network(model=diff_model7_noise_reg, \n",
    "                                                                data=data, \n",
    "                                                                epochs=50, batch=64)\n",
    "plt.figure(figsize=(10,10))\n",
    "bc.plot_losses(loss_cnn, acc_cnn)\n",
    "plt.savefig('../../figures/epoch_figures/jn_Core_CNN_Detection_Learning_20170526.png', dpi=100)"
   ]
  },
  {
   "cell_type": "code",
   "execution_count": 23,
   "metadata": {},
   "outputs": [
    {
     "name": "stdout",
     "output_type": "stream",
     "text": [
      "Model and Weights Saved to Disk\n"
     ]
    }
   ],
   "source": [
    "bc.save_model(dir_path='./weights/', model=cnn_model, name='jn_Core_CNN_Detection_20170526')"
   ]
  },
  {
   "cell_type": "code",
   "execution_count": 24,
   "metadata": {},
   "outputs": [
    {
     "name": "stdout",
     "output_type": "stream",
     "text": [
      "Core CNN Accuracy:   82.71%\n",
      "Core CNN Error:      17.29%\n",
      "Normalized confusion matrix\n",
      "[[ 0.75  0.25]\n",
      " [ 0.11  0.89]]\n"
     ]
    },
    {
     "data": {
      "image/png": "[encoded data removed]",
      "text/plain": [
       "<matplotlib.figure.Figure at 0x1356717d0>"
      ]
     },
     "metadata": {},
     "output_type": "display_data"
    }
   ],
   "source": [
    "print 'Core CNN Accuracy: {: >7.2f}%'.format(test_score_cnn[1] * 100)\n",
    "print 'Core CNN Error: {: >10.2f}%'.format(100 - test_score_cnn[1] * 100)\n",
    "\n",
    "predictOutput = bc.predict(cnn_model, X_test)\n",
    "\n",
    "cnn_matrix = skm.confusion_matrix(y_true=[val.argmax() for val in Y_test], y_pred=predictOutput)\n",
    "\n",
    "plt.figure(figsize=(8,6))\n",
    "bc.plot_confusion_matrix(cnn_matrix, classes=class_names, normalize=True,\n",
    "                         title='CNN Normalized Confusion Matrix Using Differencing \\n')\n",
    "plt.tight_layout()\n",
    "plt.savefig('../../figures/jn_Core_CNN_Detection_CM_20170526.png', dpi=100)"
   ]
  },
  {
   "cell_type": "code",
   "execution_count": 25,
   "metadata": {},
   "outputs": [
    {
     "name": "stdout",
     "output_type": "stream",
     "text": [
      "Confusion matrix, without normalization\n",
      "[[202  66]\n",
      " [ 31 262]]\n"
     ]
    },
    {
     "data": {
      "image/png": "[encoded data removed]",
      "text/plain": [
       "<matplotlib.figure.Figure at 0x1357544d0>"
      ]
     },
     "metadata": {},
     "output_type": "display_data"
    }
   ],
   "source": [
    "plt.figure(figsize=(8,6))\n",
    "bc.plot_confusion_matrix(cnn_matrix, classes=class_names, normalize=False,\n",
    "                         title='CNN Raw Confusion Matrix Using Differencing \\n')\n",
    "plt.tight_layout()"
   ]
  },
  {
   "cell_type": "code",
   "execution_count": 26,
   "metadata": {},
   "outputs": [
    {
     "data": {
      "text/plain": [
       "{'Accuracy': 82.71,\n",
       " 'F1': 0.84,\n",
       " 'NPV': 86.7,\n",
       " 'PPV': 79.88,\n",
       " 'Sensitivity': 89.42,\n",
       " 'Specificity': 75.37}"
      ]
     },
     "execution_count": 26,
     "metadata": {},
     "output_type": "execute_result"
    }
   ],
   "source": [
    "bc.cat_stats(cnn_matrix)"
   ]
  },
  {
   "cell_type": "code",
   "execution_count": null,
   "metadata": {
    "collapsed": true
   },
   "outputs": [],
   "source": []
  }
 ],
 "metadata": {
  "kernelspec": {
   "display_name": "Python 2",
   "language": "python",
   "name": "python2"
  },
  "language_info": {
   "codemirror_mode": {
    "name": "ipython",
    "version": 2
   },
   "file_extension": ".py",
   "mimetype": "text/x-python",
   "name": "python",
   "nbconvert_exporter": "python",
   "pygments_lexer": "ipython2",
   "version": "2.7.13"
  }
 },
 "nbformat": 4,
 "nbformat_minor": 2
}
