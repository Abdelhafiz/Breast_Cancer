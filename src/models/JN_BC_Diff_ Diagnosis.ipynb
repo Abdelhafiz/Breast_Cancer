{
 "cells": [
  {
   "cell_type": "markdown",
   "metadata": {},
   "source": [
    "<hr>\n",
    "<h1>Predicting Benign and Malignant Classes in Mammograms</h1>\n",
    "\n",
    "<p>Jay Narhan</p>\n",
    "May 2017\n",
    "\n",
    "This is an extension to the detection of abnormalities case (see notebook *JN_BC_Diff_Detection.ipynb*). Here we concern ourselves with a two class problem related to benign and malignant classifications only. The limited data has an impact on performance viz-a-viz the abnormal vs. normal assessment, yet we still achieve accuracy at approximately 75%, positive predictive value at ~73% and critically sensitivity at ~82% (the higher sensitivity, the fewer the patients who were wrongly classified as having a benign lesion when it fact it was malignant).\n",
    "\n",
    "<hr>"
   ]
  },
  {
   "cell_type": "code",
   "execution_count": 1,
   "metadata": {},
   "outputs": [
    {
     "name": "stderr",
     "output_type": "stream",
     "text": [
      "Using Theano backend.\n"
     ]
    }
   ],
   "source": [
    "import os\n",
    "import sys\n",
    "import time\n",
    "import numpy as np\n",
    "\n",
    "import sklearn.metrics as skm\n",
    "from sklearn import metrics\n",
    "from sklearn.svm import SVC\n",
    "from sklearn.model_selection import train_test_split\n",
    "\n",
    "from skimage import color\n",
    "\n",
    "import keras.callbacks as cb\n",
    "import keras.utils.np_utils as np_utils\n",
    "from keras import applications\n",
    "from keras import regularizers\n",
    "from keras.models import Sequential\n",
    "from keras.constraints import maxnorm\n",
    "from keras.preprocessing.image import ImageDataGenerator\n",
    "from keras.layers.convolutional import Convolution2D, MaxPooling2D\n",
    "from keras.layers import Activation, Dense, Dropout, Flatten, GaussianNoise\n",
    "\n",
    "from matplotlib import pyplot as plt\n",
    "%matplotlib inline\n",
    "\n",
    "plt.rcParams['figure.figsize'] = (10,10)\n",
    "np.set_printoptions(precision=2)\n",
    "\n",
    "sys.path.insert(0, '../helper_modules/')\n",
    "import jn_bc_helper as bc"
   ]
  },
  {
   "cell_type": "markdown",
   "metadata": {},
   "source": [
    "<h2>Reproducible Research</h2>"
   ]
  },
  {
   "cell_type": "code",
   "execution_count": 2,
   "metadata": {},
   "outputs": [
    {
     "name": "stdout",
     "output_type": "stream",
     "text": [
      "scipy:           0.19.0\n",
      "numpy:           1.12.1\n",
      "matplotlib:      2.0.0\n",
      "sklearn:         0.18.1\n",
      "skimage:         0.13.0\n",
      "theano:          0.9.0.dev-c697eeab84e5b8a74908da654b66ec9eca4f1291\n",
      "tensorflow:      0.10.0\n",
      "keras:           2.0.3\n"
     ]
    },
    {
     "name": "stderr",
     "output_type": "stream",
     "text": [
      "Python 2.7.13 :: Continuum Analytics, Inc.\n",
      "Using Theano backend.\n"
     ]
    }
   ],
   "source": [
    "%%python\n",
    "import os\n",
    "os.system('python -V')\n",
    "os.system('python ../helper_modules/Package_Versions.py')"
   ]
  },
  {
   "cell_type": "code",
   "execution_count": 3,
   "metadata": {},
   "outputs": [
    {
     "name": "stderr",
     "output_type": "stream",
     "text": [
      "2it [00:00, 14.47it/s]"
     ]
    },
    {
     "name": "stdout",
     "output_type": "stream",
     "text": [
      "----------------\n",
      "Before Balancing\n",
      "----------------\n",
      "benign    : 569\n",
      "malignant : 812\n",
      "balanceViaRemoval.avgC: 690\n",
      "balanceViaRemoval.theshold: 690.0\n",
      "---------------\n",
      "After Balancing\n",
      "---------------\n",
      "benign    : 569\n",
      "malignant : 629\n",
      "-------------\n",
      "Loading data:\n",
      "-------------\n"
     ]
    },
    {
     "name": "stderr",
     "output_type": "stream",
     "text": [
      "1198it [00:49, 23.98it/s]\n"
     ]
    }
   ],
   "source": [
    "SEED = 7\n",
    "np.random.seed(SEED)\n",
    "\n",
    "DATA_DIR = '/Users/jnarhan/Projects/CUNY_698/Docker-Shared/Data_Diff_Images/ALL_IMGS/'\n",
    "meta_file = '../../Meta_Data_Files/meta_data_diagnosis.csv'\n",
    "PATHO_INX = 4    # Column number of pathology label in meta_file\n",
    "FILE_INX  = 1    # Column number of File name in meta_file\n",
    "\n",
    "meta_data, cls_cnts = bc.load_meta(meta_file, patho_idx=PATHO_INX, file_idx=FILE_INX,\n",
    "                                   balanceByRemoval=True, verbose=True)\n",
    "\n",
    "bc.pprint('Loading data:')\n",
    "cats = bc.bcLabels(['benign', 'malignant'])\n",
    "\n",
    "# For smaller images supply tuple argument for a parameter 'imgResize':\n",
    "X_data, Y_data = bc.load_data(meta_data, DATA_DIR, cats, imgResize=(150,150)) \n"
   ]
  },
  {
   "cell_type": "markdown",
   "metadata": {},
   "source": [
    "**Create the Training and Test Datasets**"
   ]
  },
  {
   "cell_type": "code",
   "execution_count": 4,
   "metadata": {},
   "outputs": [
    {
     "name": "stdout",
     "output_type": "stream",
     "text": [
      "Size of X_train:   958\n",
      "Size of X_test:   240\n",
      "Size of Y_train:   958\n",
      "Size of Y_test:   240\n",
      "(958, 150, 150)\n",
      "(240, 150, 150)\n",
      "(958, 1)\n",
      "(240, 1)\n"
     ]
    }
   ],
   "source": [
    "X_train, X_test, Y_train, Y_test = train_test_split(X_data, Y_data,\n",
    "                                                    test_size=0.20, # deviation given small data set\n",
    "                                                    random_state=SEED,\n",
    "                                                    stratify=zip(*Y_data)[0])\n",
    "\n",
    "print 'Size of X_train: {:>5}'.format(len(X_train))\n",
    "print 'Size of X_test: {:>5}'.format(len(X_test))\n",
    "print 'Size of Y_train: {:>5}'.format(len(Y_train))\n",
    "print 'Size of Y_test: {:>5}'.format(len(Y_test))\n",
    "\n",
    "print X_train.shape\n",
    "print X_test.shape\n",
    "print Y_train.shape\n",
    "print Y_test.shape\n",
    "\n",
    "data = [X_train, X_test, Y_train, Y_test]"
   ]
  },
  {
   "cell_type": "markdown",
   "metadata": {},
   "source": [
    "<h2>Support Vector Machine Model</h2>"
   ]
  },
  {
   "cell_type": "code",
   "execution_count": 5,
   "metadata": {
    "collapsed": true
   },
   "outputs": [],
   "source": [
    "X_train_svm = X_train.reshape( (X_train.shape[0], -1)) \n",
    "X_test_svm  = X_test.reshape( (X_test.shape[0], -1))"
   ]
  },
  {
   "cell_type": "code",
   "execution_count": 6,
   "metadata": {},
   "outputs": [
    {
     "name": "stderr",
     "output_type": "stream",
     "text": [
      "/Users/jnarhan/miniconda2/envs/bc_venv/lib/python2.7/site-packages/sklearn/utils/validation.py:526: DataConversionWarning: A column-vector y was passed when a 1d array was expected. Please change the shape of y to (n_samples, ), for example using ravel().\n",
      "  y = column_or_1d(y, warn=True)\n"
     ]
    },
    {
     "data": {
      "text/plain": [
       "SVC(C=1.0, cache_size=200, class_weight=None, coef0=0.0,\n",
       "  decision_function_shape=None, degree=3, gamma=0.001, kernel='rbf',\n",
       "  max_iter=-1, probability=False, random_state=None, shrinking=True,\n",
       "  tol=0.001, verbose=False)"
      ]
     },
     "execution_count": 6,
     "metadata": {},
     "output_type": "execute_result"
    }
   ],
   "source": [
    "SVM_model = SVC(gamma=0.001)\n",
    "SVM_model.fit( X_train_svm, Y_train)"
   ]
  },
  {
   "cell_type": "code",
   "execution_count": 7,
   "metadata": {},
   "outputs": [
    {
     "name": "stdout",
     "output_type": "stream",
     "text": [
      "SVM Accuracy:   67.50%\n",
      "SVM Error:      32.50%\n"
     ]
    }
   ],
   "source": [
    "predictOutput = SVM_model.predict(X_test_svm)\n",
    "svm_acc = metrics.accuracy_score(y_true=Y_test, y_pred=predictOutput)\n",
    "\n",
    "print 'SVM Accuracy: {: >7.2f}%'.format(svm_acc * 100)\n",
    "print 'SVM Error: {: >10.2f}%'.format(100 - svm_acc * 100)"
   ]
  },
  {
   "cell_type": "code",
   "execution_count": 8,
   "metadata": {},
   "outputs": [
    {
     "name": "stdout",
     "output_type": "stream",
     "text": [
      "Normalized confusion matrix\n",
      "[[ 0.69  0.31]\n",
      " [ 0.34  0.66]]\n"
     ]
    },
    {
     "data": {
      "image/png": "[encoded data removed]",
      "text/plain": [
       "<matplotlib.figure.Figure at 0x1264bdd50>"
      ]
     },
     "metadata": {},
     "output_type": "display_data"
    }
   ],
   "source": [
    "svm_matrix = skm.confusion_matrix(y_true=Y_test, y_pred=predictOutput)\n",
    "numBC = bc.reverseDict(cats)\n",
    "class_names = numBC.values()\n",
    "\n",
    "plt.figure(figsize=(8,6))\n",
    "bc.plot_confusion_matrix(svm_matrix, classes=class_names, normalize=True, \n",
    "                         title='SVM Normalized Confusion Matrix Using Differencing \\n')\n",
    "plt.tight_layout()\n",
    "plt.savefig('../../figures/jn_SVM_Diagnosis_CM_20170526.png', dpi=100)"
   ]
  },
  {
   "cell_type": "code",
   "execution_count": 9,
   "metadata": {},
   "outputs": [
    {
     "name": "stdout",
     "output_type": "stream",
     "text": [
      "Confusion matrix, without normalization\n",
      "[[79 35]\n",
      " [43 83]]\n"
     ]
    },
    {
     "data": {
      "image/png": "[encoded data removed]",
      "text/plain": [
       "<matplotlib.figure.Figure at 0x1264e3350>"
      ]
     },
     "metadata": {},
     "output_type": "display_data"
    }
   ],
   "source": [
    "plt.figure(figsize=(8,6))\n",
    "bc.plot_confusion_matrix(svm_matrix, classes=class_names, normalize=False, \n",
    "                         title='SVM Normalized Confusion Matrix Using Differencing \\n')\n",
    "plt.tight_layout()"
   ]
  },
  {
   "cell_type": "code",
   "execution_count": 10,
   "metadata": {},
   "outputs": [
    {
     "data": {
      "text/plain": [
       "{'Accuracy': 67.5,\n",
       " 'F1': 0.68,\n",
       " 'NPV': 64.75,\n",
       " 'PPV': 70.34,\n",
       " 'Sensitivity': 65.87,\n",
       " 'Specificity': 69.3}"
      ]
     },
     "execution_count": 10,
     "metadata": {},
     "output_type": "execute_result"
    }
   ],
   "source": [
    "bc.cat_stats(svm_matrix)"
   ]
  },
  {
   "cell_type": "markdown",
   "metadata": {},
   "source": [
    "<h2>CNN Modelling Using VGG16 in Transfer Learning</h2>"
   ]
  },
  {
   "cell_type": "code",
   "execution_count": 11,
   "metadata": {
    "collapsed": true
   },
   "outputs": [],
   "source": [
    "def VGG_Prep(img_data):\n",
    "    \"\"\"\n",
    "    :param img_data: training or test images of shape [#images, height, width]\n",
    "    :return: the array transformed to the correct shape for the VGG network\n",
    "                shape = [#images, height, width, 3] transforms to rgb and reshapes\n",
    "    \"\"\"\n",
    "    images = np.zeros([len(img_data), img_data.shape[1], img_data.shape[2], 3])\n",
    "    for i in range(0, len(img_data)):\n",
    "        im = (img_data[i] * 255)        # Original imagenet images were not rescaled\n",
    "        im = color.gray2rgb(im)\n",
    "        images[i] = im\n",
    "    return(images)"
   ]
  },
  {
   "cell_type": "code",
   "execution_count": 12,
   "metadata": {
    "collapsed": true
   },
   "outputs": [],
   "source": [
    "def vgg16_bottleneck(data, modelPath, fn_train_feats, fn_train_lbls, fn_test_feats, fn_test_lbls):\n",
    "    # Loading data\n",
    "    X_train, X_test, Y_train, Y_test = data\n",
    "    \n",
    "    print('Preparing the Training Data for the VGG_16 Model.')\n",
    "    X_train = VGG_Prep(X_train)\n",
    "    print('Preparing the Test Data for the VGG_16 Model')\n",
    "    X_test = VGG_Prep(X_test)\n",
    "        \n",
    "    print('Loading the VGG_16 Model')\n",
    "    # \"model\" excludes top layer of VGG16:\n",
    "    model = applications.VGG16(include_top=False, weights='imagenet') \n",
    "        \n",
    "    # Generating the bottleneck features for the training data\n",
    "    print('Evaluating the VGG_16 Model on the Training Data')\n",
    "    bottleneck_features_train = model.predict(X_train)\n",
    "    \n",
    "    # Saving the bottleneck features for the training data\n",
    "    featuresTrain = os.path.join(modelPath, fn_train_feats)\n",
    "    labelsTrain = os.path.join(modelPath, fn_train_lbls)\n",
    "    print('Saving the Training Data Bottleneck Features.')\n",
    "    np.save(open(featuresTrain, 'wb'), bottleneck_features_train)\n",
    "    np.save(open(labelsTrain, 'wb'), Y_train)\n",
    "\n",
    "    # Generating the bottleneck features for the test data\n",
    "    print('Evaluating the VGG_16 Model on the Test Data')\n",
    "    bottleneck_features_test = model.predict(X_test)\n",
    "    \n",
    "    # Saving the bottleneck features for the test data\n",
    "    featuresTest = os.path.join(modelPath, fn_test_feats)\n",
    "    labelsTest = os.path.join(modelPath, fn_test_lbls)\n",
    "    print('Saving the Test Data Bottleneck Feaures.')\n",
    "    np.save(open(featuresTest, 'wb'), bottleneck_features_test)\n",
    "    np.save(open(labelsTest, 'wb'), Y_test)"
   ]
  },
  {
   "cell_type": "code",
   "execution_count": 13,
   "metadata": {},
   "outputs": [
    {
     "name": "stdout",
     "output_type": "stream",
     "text": [
      "Preparing the Training Data for the VGG_16 Model.\n",
      "Preparing the Test Data for the VGG_16 Model\n",
      "Loading the VGG_16 Model\n",
      "Evaluating the VGG_16 Model on the Training Data\n",
      "Saving the Training Data Bottleneck Features.\n",
      "Evaluating the VGG_16 Model on the Test Data\n",
      "Saving the Test Data Bottleneck Feaures.\n"
     ]
    }
   ],
   "source": [
    "# Locations for the bottleneck and labels files that we need\n",
    "train_bottleneck = '2Class_Lesions_VGG16_bottleneck_features_train.npy'\n",
    "train_labels     = '2Class_Lesions_VGG16_labels_train.npy'\n",
    "test_bottleneck  = '2Class_Lesions_VGG16_bottleneck_features_test.npy'\n",
    "test_labels      = '2Class_Lesions_VGG16_labels_test.npy'\n",
    "modelPath = os.getcwd()\n",
    "\n",
    "top_model_weights_path = './weights/'\n",
    "\n",
    "np.random.seed(SEED)\n",
    "vgg16_bottleneck(data, modelPath, train_bottleneck, train_labels, test_bottleneck, test_labels)"
   ]
  },
  {
   "cell_type": "code",
   "execution_count": 14,
   "metadata": {
    "collapsed": true
   },
   "outputs": [],
   "source": [
    "def train_top_model(train_feats, train_lab, test_feats, test_lab, model_path, model_save, epoch = 50, batch = 64):\n",
    "    start_time = time.time()\n",
    "    \n",
    "    train_bottleneck = os.path.join(model_path, train_feats)\n",
    "    train_labels = os.path.join(model_path, train_lab)\n",
    "    test_bottleneck = os.path.join(model_path, test_feats)\n",
    "    test_labels = os.path.join(model_path, test_lab)\n",
    "    \n",
    "    history = bc.LossHistory()\n",
    "    \n",
    "    X_train = np.load(train_bottleneck)\n",
    "    Y_train = np.load(train_labels)\n",
    "    Y_train = np_utils.to_categorical(Y_train, num_classes=2)\n",
    "    \n",
    "    X_test = np.load(test_bottleneck)\n",
    "    Y_test = np.load(test_labels)\n",
    "    Y_test = np_utils.to_categorical(Y_test, num_classes=2)\n",
    "\n",
    "    model = Sequential()\n",
    "    model.add(Flatten(input_shape=X_train.shape[1:]))\n",
    "    model.add( Dropout(0.7))\n",
    "    \n",
    "    model.add( Dense(256, activation='relu', kernel_constraint= maxnorm(3.)) )\n",
    "    model.add( Dropout(0.5))\n",
    "    \n",
    "    # Softmax for probabilities for each class at the output layer\n",
    "    model.add( Dense(2, activation='softmax'))\n",
    "    \n",
    "    model.compile(optimizer='rmsprop',  # adadelta\n",
    "                  loss='binary_crossentropy', \n",
    "                  metrics=['accuracy'])\n",
    "\n",
    "    model.fit(X_train, Y_train,\n",
    "              epochs=epoch,\n",
    "              batch_size=batch,\n",
    "              callbacks=[history],\n",
    "              validation_data=(X_test, Y_test),\n",
    "              verbose=2)\n",
    "    \n",
    "    print \"Training duration : {0}\".format(time.time() - start_time)\n",
    "    score = model.evaluate(X_test, Y_test, batch_size=16, verbose=2)\n",
    "\n",
    "    print \"Network's test score [loss, accuracy]: {0}\".format(score)\n",
    "    print 'CNN Error: {:.2f}%'.format(100 - score[1] * 100)\n",
    "    \n",
    "    bc.save_model(model_save, model, \"jn_VGG16_Diagnosis_top_weights.h5\")\n",
    "    \n",
    "    return model, history.losses, history.acc, score"
   ]
  },
  {
   "cell_type": "code",
   "execution_count": 15,
   "metadata": {},
   "outputs": [
    {
     "name": "stdout",
     "output_type": "stream",
     "text": [
      "Train on 958 samples, validate on 240 samples\n",
      "Epoch 1/100\n",
      "0s - loss: 5.5619 - acc: 0.6002 - val_loss: 4.7151 - val_acc: 0.6458\n",
      "Epoch 2/100\n",
      "0s - loss: 4.8713 - acc: 0.6618 - val_loss: 5.3150 - val_acc: 0.6417\n",
      "Epoch 3/100\n",
      "0s - loss: 4.8759 - acc: 0.6587 - val_loss: 5.4384 - val_acc: 0.6250\n",
      "Epoch 4/100\n",
      "0s - loss: 4.6291 - acc: 0.6775 - val_loss: 4.5548 - val_acc: 0.6958\n",
      "Epoch 5/100\n",
      "0s - loss: 4.1720 - acc: 0.7004 - val_loss: 4.9977 - val_acc: 0.6667\n",
      "Epoch 6/100\n",
      "0s - loss: 4.2748 - acc: 0.6837 - val_loss: 4.3722 - val_acc: 0.6583\n",
      "Epoch 7/100\n",
      "0s - loss: 4.3142 - acc: 0.6816 - val_loss: 4.2738 - val_acc: 0.6833\n",
      "Epoch 8/100\n",
      "0s - loss: 4.4005 - acc: 0.6733 - val_loss: 4.2011 - val_acc: 0.6750\n",
      "Epoch 9/100\n",
      "0s - loss: 3.9751 - acc: 0.7035 - val_loss: 4.3011 - val_acc: 0.7042\n",
      "Epoch 10/100\n",
      "0s - loss: 4.0649 - acc: 0.7067 - val_loss: 4.6168 - val_acc: 0.6667\n",
      "Epoch 11/100\n",
      "0s - loss: 4.0406 - acc: 0.7161 - val_loss: 4.4501 - val_acc: 0.6792\n",
      "Epoch 12/100\n",
      "0s - loss: 4.2260 - acc: 0.6931 - val_loss: 4.0664 - val_acc: 0.7000\n",
      "Epoch 13/100\n",
      "0s - loss: 3.9611 - acc: 0.7109 - val_loss: 4.1873 - val_acc: 0.6917\n",
      "Epoch 14/100\n",
      "0s - loss: 3.5854 - acc: 0.7265 - val_loss: 4.9709 - val_acc: 0.6375\n",
      "Epoch 15/100\n",
      "0s - loss: 3.7475 - acc: 0.7244 - val_loss: 4.2603 - val_acc: 0.6792\n",
      "Epoch 16/100\n",
      "0s - loss: 3.7649 - acc: 0.7140 - val_loss: 4.2368 - val_acc: 0.6792\n",
      "Epoch 17/100\n",
      "0s - loss: 3.6036 - acc: 0.7265 - val_loss: 4.0751 - val_acc: 0.7000\n",
      "Epoch 18/100\n",
      "0s - loss: 3.5705 - acc: 0.7213 - val_loss: 4.2709 - val_acc: 0.6750\n",
      "Epoch 19/100\n",
      "0s - loss: 3.9419 - acc: 0.6983 - val_loss: 4.0111 - val_acc: 0.7083\n",
      "Epoch 20/100\n",
      "0s - loss: 3.6402 - acc: 0.7234 - val_loss: 4.3834 - val_acc: 0.6667\n",
      "Epoch 21/100\n",
      "0s - loss: 3.6069 - acc: 0.7359 - val_loss: 4.0660 - val_acc: 0.6917\n",
      "Epoch 22/100\n",
      "0s - loss: 3.5175 - acc: 0.7370 - val_loss: 5.1408 - val_acc: 0.6167\n",
      "Epoch 23/100\n",
      "0s - loss: 3.6373 - acc: 0.7213 - val_loss: 3.7280 - val_acc: 0.7000\n",
      "Epoch 24/100\n",
      "0s - loss: 3.4179 - acc: 0.7276 - val_loss: 3.7390 - val_acc: 0.6917\n",
      "Epoch 25/100\n",
      "0s - loss: 3.1229 - acc: 0.7578 - val_loss: 3.4328 - val_acc: 0.7125\n",
      "Epoch 26/100\n",
      "0s - loss: 3.0321 - acc: 0.7411 - val_loss: 2.8836 - val_acc: 0.7125\n",
      "Epoch 27/100\n",
      "0s - loss: 2.4057 - acc: 0.7756 - val_loss: 2.5901 - val_acc: 0.7125\n",
      "Epoch 28/100\n",
      "0s - loss: 2.4621 - acc: 0.7474 - val_loss: 2.2712 - val_acc: 0.7125\n",
      "Epoch 29/100\n",
      "0s - loss: 2.1309 - acc: 0.7338 - val_loss: 1.6922 - val_acc: 0.7375\n",
      "Epoch 30/100\n",
      "0s - loss: 1.6054 - acc: 0.7630 - val_loss: 1.1605 - val_acc: 0.7542\n",
      "Epoch 31/100\n",
      "0s - loss: 1.1145 - acc: 0.7756 - val_loss: 1.0755 - val_acc: 0.6708\n",
      "Epoch 32/100\n",
      "0s - loss: 1.0349 - acc: 0.7651 - val_loss: 0.7952 - val_acc: 0.7167\n",
      "Epoch 33/100\n",
      "0s - loss: 0.9261 - acc: 0.7620 - val_loss: 0.7369 - val_acc: 0.6833\n",
      "Epoch 34/100\n",
      "0s - loss: 0.8534 - acc: 0.7850 - val_loss: 0.7610 - val_acc: 0.6792\n",
      "Epoch 35/100\n",
      "0s - loss: 0.7254 - acc: 0.7766 - val_loss: 0.6758 - val_acc: 0.6792\n",
      "Epoch 36/100\n",
      "0s - loss: 0.6450 - acc: 0.7975 - val_loss: 0.6813 - val_acc: 0.6917\n",
      "Epoch 37/100\n",
      "0s - loss: 0.6111 - acc: 0.7756 - val_loss: 0.6923 - val_acc: 0.6417\n",
      "Epoch 38/100\n",
      "0s - loss: 0.6906 - acc: 0.7714 - val_loss: 0.6421 - val_acc: 0.6875\n",
      "Epoch 39/100\n",
      "0s - loss: 0.6406 - acc: 0.7724 - val_loss: 0.6524 - val_acc: 0.7208\n",
      "Epoch 40/100\n",
      "0s - loss: 0.5749 - acc: 0.7902 - val_loss: 0.6347 - val_acc: 0.7125\n",
      "Epoch 41/100\n",
      "0s - loss: 0.5897 - acc: 0.7985 - val_loss: 0.6045 - val_acc: 0.7417\n",
      "Epoch 42/100\n",
      "0s - loss: 0.5916 - acc: 0.7902 - val_loss: 0.6031 - val_acc: 0.7125\n",
      "Epoch 43/100\n",
      "0s - loss: 0.5434 - acc: 0.8006 - val_loss: 0.6572 - val_acc: 0.7167\n",
      "Epoch 44/100\n",
      "0s - loss: 0.5628 - acc: 0.8058 - val_loss: 0.6698 - val_acc: 0.7250\n",
      "Epoch 45/100\n",
      "0s - loss: 0.5636 - acc: 0.8048 - val_loss: 0.6469 - val_acc: 0.7375\n",
      "Epoch 46/100\n",
      "0s - loss: 0.5703 - acc: 0.7923 - val_loss: 0.6373 - val_acc: 0.7417\n",
      "Epoch 47/100\n",
      "0s - loss: 0.4853 - acc: 0.8236 - val_loss: 0.6600 - val_acc: 0.6917\n",
      "Epoch 48/100\n",
      "0s - loss: 0.5076 - acc: 0.8288 - val_loss: 0.6358 - val_acc: 0.7333\n",
      "Epoch 49/100\n",
      "0s - loss: 0.5061 - acc: 0.8152 - val_loss: 0.6709 - val_acc: 0.7167\n",
      "Epoch 50/100\n",
      "0s - loss: 0.4693 - acc: 0.8330 - val_loss: 0.7034 - val_acc: 0.7125\n",
      "Epoch 51/100\n",
      "0s - loss: 0.4993 - acc: 0.8225 - val_loss: 0.7114 - val_acc: 0.7500\n",
      "Epoch 52/100\n",
      "0s - loss: 0.4922 - acc: 0.8267 - val_loss: 0.6863 - val_acc: 0.7500\n",
      "Epoch 53/100\n",
      "0s - loss: 0.4860 - acc: 0.8246 - val_loss: 0.7197 - val_acc: 0.7333\n",
      "Epoch 54/100\n",
      "0s - loss: 0.4146 - acc: 0.8445 - val_loss: 0.7165 - val_acc: 0.7583\n",
      "Epoch 55/100\n",
      "0s - loss: 0.4356 - acc: 0.8664 - val_loss: 0.7281 - val_acc: 0.7542\n",
      "Epoch 56/100\n",
      "0s - loss: 0.4972 - acc: 0.8424 - val_loss: 0.6886 - val_acc: 0.7458\n",
      "Epoch 57/100\n",
      "0s - loss: 0.4760 - acc: 0.8288 - val_loss: 0.6899 - val_acc: 0.7000\n",
      "Epoch 58/100\n",
      "0s - loss: 0.4347 - acc: 0.8403 - val_loss: 0.7163 - val_acc: 0.7292\n",
      "Epoch 59/100\n",
      "0s - loss: 0.4824 - acc: 0.8455 - val_loss: 0.7809 - val_acc: 0.7333\n",
      "Epoch 60/100\n",
      "0s - loss: 0.4094 - acc: 0.8633 - val_loss: 0.7702 - val_acc: 0.7250\n",
      "Epoch 61/100\n",
      "0s - loss: 0.4144 - acc: 0.8549 - val_loss: 0.8184 - val_acc: 0.7250\n",
      "Epoch 62/100\n",
      "0s - loss: 0.4019 - acc: 0.8685 - val_loss: 0.8146 - val_acc: 0.7250\n",
      "Epoch 63/100\n",
      "0s - loss: 0.4379 - acc: 0.8601 - val_loss: 0.7538 - val_acc: 0.7125\n",
      "Epoch 64/100\n",
      "0s - loss: 0.3862 - acc: 0.8633 - val_loss: 0.7485 - val_acc: 0.7500\n",
      "Epoch 65/100\n",
      "0s - loss: 0.4366 - acc: 0.8580 - val_loss: 0.7577 - val_acc: 0.7333\n",
      "Epoch 66/100\n",
      "0s - loss: 0.3051 - acc: 0.8852 - val_loss: 0.8986 - val_acc: 0.6792\n",
      "Epoch 67/100\n",
      "0s - loss: 0.3384 - acc: 0.8852 - val_loss: 0.8226 - val_acc: 0.7125\n",
      "Epoch 68/100\n",
      "0s - loss: 0.3742 - acc: 0.8664 - val_loss: 0.8714 - val_acc: 0.7250\n",
      "Epoch 69/100\n",
      "0s - loss: 0.3745 - acc: 0.8779 - val_loss: 0.8987 - val_acc: 0.7167\n",
      "Epoch 70/100\n",
      "0s - loss: 0.4657 - acc: 0.8570 - val_loss: 0.9384 - val_acc: 0.7250\n",
      "Epoch 71/100\n",
      "0s - loss: 0.3687 - acc: 0.8747 - val_loss: 0.8329 - val_acc: 0.7333\n",
      "Epoch 72/100\n",
      "0s - loss: 0.3075 - acc: 0.8800 - val_loss: 0.8486 - val_acc: 0.7417\n",
      "Epoch 73/100\n",
      "0s - loss: 0.3226 - acc: 0.8894 - val_loss: 0.7960 - val_acc: 0.7542\n",
      "Epoch 74/100\n",
      "0s - loss: 0.3612 - acc: 0.8852 - val_loss: 0.8046 - val_acc: 0.7458\n",
      "Epoch 75/100\n",
      "0s - loss: 0.3470 - acc: 0.8758 - val_loss: 0.7819 - val_acc: 0.7417\n",
      "Epoch 76/100\n",
      "0s - loss: 0.3834 - acc: 0.8758 - val_loss: 0.8576 - val_acc: 0.7417\n",
      "Epoch 77/100\n",
      "0s - loss: 0.3119 - acc: 0.8925 - val_loss: 0.8910 - val_acc: 0.7125\n",
      "Epoch 78/100\n",
      "0s - loss: 0.3564 - acc: 0.8852 - val_loss: 0.8209 - val_acc: 0.7292\n",
      "Epoch 79/100\n",
      "0s - loss: 0.2852 - acc: 0.8998 - val_loss: 0.8362 - val_acc: 0.7500\n",
      "Epoch 80/100\n",
      "0s - loss: 0.2850 - acc: 0.9040 - val_loss: 0.8990 - val_acc: 0.7542\n",
      "Epoch 81/100\n",
      "0s - loss: 0.2936 - acc: 0.8987 - val_loss: 0.9007 - val_acc: 0.7500\n",
      "Epoch 82/100\n",
      "0s - loss: 0.3025 - acc: 0.8977 - val_loss: 0.7970 - val_acc: 0.7583\n",
      "Epoch 83/100\n",
      "0s - loss: 0.3051 - acc: 0.9008 - val_loss: 0.9037 - val_acc: 0.7333\n",
      "Epoch 84/100\n",
      "0s - loss: 0.3080 - acc: 0.8883 - val_loss: 0.8777 - val_acc: 0.7333\n",
      "Epoch 85/100\n",
      "0s - loss: 0.3553 - acc: 0.8862 - val_loss: 0.8594 - val_acc: 0.7500\n",
      "Epoch 86/100\n",
      "0s - loss: 0.3099 - acc: 0.8925 - val_loss: 0.8869 - val_acc: 0.7208\n",
      "Epoch 87/100\n",
      "0s - loss: 0.2709 - acc: 0.9186 - val_loss: 0.8221 - val_acc: 0.7292\n",
      "Epoch 88/100\n",
      "0s - loss: 0.3430 - acc: 0.9040 - val_loss: 0.8528 - val_acc: 0.7583\n",
      "Epoch 89/100\n",
      "0s - loss: 0.2219 - acc: 0.9134 - val_loss: 0.9648 - val_acc: 0.6875\n",
      "Epoch 90/100\n",
      "0s - loss: 0.3061 - acc: 0.8956 - val_loss: 0.9155 - val_acc: 0.7417\n",
      "Epoch 91/100\n",
      "0s - loss: 0.3255 - acc: 0.9029 - val_loss: 0.9933 - val_acc: 0.7583\n",
      "Epoch 92/100\n",
      "0s - loss: 0.3055 - acc: 0.8946 - val_loss: 0.8690 - val_acc: 0.7375\n",
      "Epoch 93/100\n",
      "0s - loss: 0.2958 - acc: 0.9040 - val_loss: 0.8636 - val_acc: 0.7375\n",
      "Epoch 94/100\n",
      "0s - loss: 0.2618 - acc: 0.9061 - val_loss: 0.9830 - val_acc: 0.7542\n",
      "Epoch 95/100\n",
      "0s - loss: 0.2763 - acc: 0.9081 - val_loss: 0.9590 - val_acc: 0.7375\n",
      "Epoch 96/100\n",
      "0s - loss: 0.2951 - acc: 0.9071 - val_loss: 1.0291 - val_acc: 0.6958\n",
      "Epoch 97/100\n",
      "0s - loss: 0.2908 - acc: 0.9134 - val_loss: 1.0004 - val_acc: 0.7417\n",
      "Epoch 98/100\n",
      "0s - loss: 0.2284 - acc: 0.9196 - val_loss: 0.9840 - val_acc: 0.7208\n",
      "Epoch 99/100\n",
      "0s - loss: 0.2587 - acc: 0.9217 - val_loss: 1.1469 - val_acc: 0.7542\n",
      "Epoch 100/100\n",
      "0s - loss: 0.2440 - acc: 0.9259 - val_loss: 1.0387 - val_acc: 0.7458\n",
      "Training duration : 75.977088213\n",
      "Network's test score [loss, accuracy]: [1.0387361576159795, 0.74583333333333335]\n",
      "CNN Error: 25.42%\n",
      "Model and Weights Saved to Disk\n"
     ]
    },
    {
     "data": {
      "text/plain": [
       "<matplotlib.figure.Figure at 0x124c71f10>"
      ]
     },
     "metadata": {},
     "output_type": "display_data"
    },
    {
     "data": {
      "image/png": "[encoded data removed]",
      "text/plain": [
       "<matplotlib.figure.Figure at 0x121f8b290>"
      ]
     },
     "metadata": {},
     "output_type": "display_data"
    }
   ],
   "source": [
    "np.random.seed(SEED)\n",
    "(trans_model, loss_cnn, acc_cnn, test_score_cnn) = train_top_model(train_feats=train_bottleneck,\n",
    "                                                                   train_lab=train_labels, \n",
    "                                                                   test_feats=test_bottleneck, \n",
    "                                                                   test_lab=test_labels,\n",
    "                                                                   model_path=modelPath, \n",
    "                                                                   model_save=top_model_weights_path,\n",
    "                                                                   epoch=100)\n",
    "plt.figure(figsize=(10,10))\n",
    "bc.plot_losses(loss_cnn, acc_cnn)\n",
    "plt.savefig('../../figures/epoch_figures/jn_Transfer_Diagnosis_20170526.png', dpi=100)"
   ]
  },
  {
   "cell_type": "code",
   "execution_count": 16,
   "metadata": {},
   "outputs": [
    {
     "name": "stdout",
     "output_type": "stream",
     "text": [
      "Transfer Learning CNN Accuracy:   74.58%\n",
      "Transfer Learning CNN Error:      25.42%\n",
      "Normalized confusion matrix\n",
      "[[ 0.67  0.33]\n",
      " [ 0.18  0.82]]\n"
     ]
    },
    {
     "data": {
      "image/png": "[encoded data removed]",
      "text/plain": [
       "<matplotlib.figure.Figure at 0x1236ef9d0>"
      ]
     },
     "metadata": {},
     "output_type": "display_data"
    }
   ],
   "source": [
    "print 'Transfer Learning CNN Accuracy: {: >7.2f}%'.format(test_score_cnn[1] * 100)\n",
    "print 'Transfer Learning CNN Error: {: >10.2f}%'.format(100 - test_score_cnn[1] * 100)\n",
    "\n",
    "predictOutput = bc.predict(trans_model, np.load(test_bottleneck))\n",
    "trans_matrix = skm.confusion_matrix(y_true=Y_test, y_pred=predictOutput)\n",
    "\n",
    "plt.figure(figsize=(8,6))\n",
    "bc.plot_confusion_matrix(trans_matrix, classes=class_names, normalize=True,\n",
    "                         title='Transfer CNN Normalized Confusion Matrix Using Differencing \\n')\n",
    "plt.tight_layout()\n",
    "plt.savefig('../../figures/jn_Transfer_Diagnosis_CM_20170526.png', dpi=100)"
   ]
  },
  {
   "cell_type": "code",
   "execution_count": 17,
   "metadata": {},
   "outputs": [
    {
     "name": "stdout",
     "output_type": "stream",
     "text": [
      "Confusion matrix, without normalization\n",
      "[[ 76  38]\n",
      " [ 23 103]]\n"
     ]
    },
    {
     "data": {
      "image/png": "[encoded data removed]",
      "text/plain": [
       "<matplotlib.figure.Figure at 0x1234d1a10>"
      ]
     },
     "metadata": {},
     "output_type": "display_data"
    }
   ],
   "source": [
    "plt.figure(figsize=(8,6))\n",
    "bc.plot_confusion_matrix(trans_matrix, classes=class_names, normalize=False,\n",
    "                         title='Transfer CNN Normalized Confusion Matrix Using Differencing \\n')\n",
    "plt.tight_layout()"
   ]
  },
  {
   "cell_type": "code",
   "execution_count": 18,
   "metadata": {},
   "outputs": [
    {
     "data": {
      "text/plain": [
       "{'Accuracy': 74.58,\n",
       " 'F1': 0.77,\n",
       " 'NPV': 76.77,\n",
       " 'PPV': 73.05,\n",
       " 'Sensitivity': 81.75,\n",
       " 'Specificity': 66.67}"
      ]
     },
     "execution_count": 18,
     "metadata": {},
     "output_type": "execute_result"
    }
   ],
   "source": [
    "bc.cat_stats(trans_matrix)"
   ]
  },
  {
   "cell_type": "markdown",
   "metadata": {
    "collapsed": true
   },
   "source": [
    "<h2>Core CNN Modelling</h2>"
   ]
  },
  {
   "cell_type": "markdown",
   "metadata": {},
   "source": [
    "**Prep and package the data for Keras processing:**"
   ]
  },
  {
   "cell_type": "code",
   "execution_count": 19,
   "metadata": {},
   "outputs": [
    {
     "name": "stdout",
     "output_type": "stream",
     "text": [
      "Prep data for NNs ...\n",
      "Data Prepped for Neural Nets.\n",
      "(958, 1, 150, 150)\n",
      "(240, 1, 150, 150)\n",
      "(958, 2)\n",
      "(240, 2)\n"
     ]
    }
   ],
   "source": [
    "data = [X_train, X_test, Y_train, Y_test]\n",
    "X_train, X_test, Y_train, Y_test = bc.prep_data(data, cats)\n",
    "data = [X_train, X_test, Y_train, Y_test]\n",
    "\n",
    "print X_train.shape\n",
    "print X_test.shape\n",
    "print Y_train.shape\n",
    "print Y_test.shape"
   ]
  },
  {
   "cell_type": "markdown",
   "metadata": {},
   "source": [
    "**Heavy Regularization**"
   ]
  },
  {
   "cell_type": "code",
   "execution_count": 20,
   "metadata": {
    "collapsed": true
   },
   "outputs": [],
   "source": [
    "def diff_model_v7_reg(numClasses, input_shape=(3, 150,150), add_noise=False, noise=0.01, verbose=False):\n",
    "    model = Sequential()\n",
    "    if (add_noise):\n",
    "        model.add( GaussianNoise(noise, input_shape=input_shape))\n",
    "        model.add( Convolution2D(filters=16, \n",
    "                                 kernel_size=(5,5), \n",
    "                                 data_format='channels_first',\n",
    "                                 padding='same',\n",
    "                                 activation='relu'))\n",
    "    else:\n",
    "        model.add( Convolution2D(filters=16, \n",
    "                                 kernel_size=(5,5), \n",
    "                                 data_format='channels_first',\n",
    "                                 padding='same',\n",
    "                                 activation='relu',\n",
    "                                 input_shape=input_shape))\n",
    "    model.add( Dropout(0.7))\n",
    "    \n",
    "    model.add( Convolution2D(filters=32, kernel_size=(3,3), \n",
    "                             data_format='channels_first', padding='same', activation='relu'))\n",
    "    model.add( MaxPooling2D(pool_size= (2,2), data_format='channels_first'))\n",
    "    model.add( Dropout(0.4))\n",
    "    model.add( Convolution2D(filters=32, kernel_size=(3,3), \n",
    "                             data_format='channels_first', activation='relu'))\n",
    "    \n",
    "    model.add( Convolution2D(filters=64, kernel_size=(3,3), \n",
    "                             data_format='channels_first', padding='same', activation='relu',\n",
    "                             kernel_regularizer=regularizers.l2(0.01)))\n",
    "    model.add( MaxPooling2D(pool_size= (2,2), data_format='channels_first'))\n",
    "    model.add( Convolution2D(filters=64, kernel_size=(3,3), \n",
    "                             data_format='channels_first', activation='relu',\n",
    "                             kernel_regularizer=regularizers.l2(0.01)))\n",
    "    model.add( Dropout(0.4))\n",
    "    \n",
    "    model.add( Convolution2D(filters=128, kernel_size=(3,3), \n",
    "                             data_format='channels_first', padding='same', activation='relu',\n",
    "                             kernel_regularizer=regularizers.l2(0.01)))\n",
    "    model.add( MaxPooling2D(pool_size= (2,2), data_format='channels_first'))\n",
    "    \n",
    "    model.add( Convolution2D(filters=128, kernel_size=(3,3), \n",
    "                             data_format='channels_first', activation='relu',\n",
    "                             kernel_regularizer=regularizers.l2(0.01)))\n",
    "    model.add(Dropout(0.4))\n",
    "    \n",
    "    model.add( Flatten())\n",
    "    \n",
    "    model.add( Dense(128, activation='relu', kernel_constraint= maxnorm(3.)) )\n",
    "    model.add( Dropout(0.4))\n",
    "    \n",
    "    model.add( Dense(64, activation='relu', kernel_constraint= maxnorm(3.)) )\n",
    "    model.add( Dropout(0.4))\n",
    "    \n",
    "    # Softmax for probabilities for each class at the output layer\n",
    "    model.add( Dense(numClasses, activation='softmax'))\n",
    "    \n",
    "    if verbose:\n",
    "        print( model.summary() )\n",
    "    \n",
    "    model.compile(loss='binary_crossentropy',\n",
    "                  optimizer='rmsprop',\n",
    "                  metrics=['accuracy'])\n",
    "    return model"
   ]
  },
  {
   "cell_type": "code",
   "execution_count": 21,
   "metadata": {},
   "outputs": [
    {
     "name": "stdout",
     "output_type": "stream",
     "text": [
      "_________________________________________________________________\n",
      "Layer (type)                 Output Shape              Param #   \n",
      "=================================================================\n",
      "gaussian_noise_1 (GaussianNo (None, 1, 150, 150)       0         \n",
      "_________________________________________________________________\n",
      "conv2d_1 (Conv2D)            (None, 16, 150, 150)      416       \n",
      "_________________________________________________________________\n",
      "dropout_3 (Dropout)          (None, 16, 150, 150)      0         \n",
      "_________________________________________________________________\n",
      "conv2d_2 (Conv2D)            (None, 32, 150, 150)      4640      \n",
      "_________________________________________________________________\n",
      "max_pooling2d_1 (MaxPooling2 (None, 32, 75, 75)        0         \n",
      "_________________________________________________________________\n",
      "dropout_4 (Dropout)          (None, 32, 75, 75)        0         \n",
      "_________________________________________________________________\n",
      "conv2d_3 (Conv2D)            (None, 32, 73, 73)        9248      \n",
      "_________________________________________________________________\n",
      "conv2d_4 (Conv2D)            (None, 64, 73, 73)        18496     \n",
      "_________________________________________________________________\n",
      "max_pooling2d_2 (MaxPooling2 (None, 64, 36, 36)        0         \n",
      "_________________________________________________________________\n",
      "conv2d_5 (Conv2D)            (None, 64, 34, 34)        36928     \n",
      "_________________________________________________________________\n",
      "dropout_5 (Dropout)          (None, 64, 34, 34)        0         \n",
      "_________________________________________________________________\n",
      "conv2d_6 (Conv2D)            (None, 128, 34, 34)       73856     \n",
      "_________________________________________________________________\n",
      "max_pooling2d_3 (MaxPooling2 (None, 128, 17, 17)       0         \n",
      "_________________________________________________________________\n",
      "conv2d_7 (Conv2D)            (None, 128, 15, 15)       147584    \n",
      "_________________________________________________________________\n",
      "dropout_6 (Dropout)          (None, 128, 15, 15)       0         \n",
      "_________________________________________________________________\n",
      "flatten_2 (Flatten)          (None, 28800)             0         \n",
      "_________________________________________________________________\n",
      "dense_3 (Dense)              (None, 128)               3686528   \n",
      "_________________________________________________________________\n",
      "dropout_7 (Dropout)          (None, 128)               0         \n",
      "_________________________________________________________________\n",
      "dense_4 (Dense)              (None, 64)                8256      \n",
      "_________________________________________________________________\n",
      "dropout_8 (Dropout)          (None, 64)                0         \n",
      "_________________________________________________________________\n",
      "dense_5 (Dense)              (None, 2)                 130       \n",
      "=================================================================\n",
      "Total params: 3,986,082\n",
      "Trainable params: 3,986,082\n",
      "Non-trainable params: 0\n",
      "_________________________________________________________________\n",
      "None\n"
     ]
    }
   ],
   "source": [
    "diff_model7_noise_reg = diff_model_v7_reg(len(cats),\n",
    "                                          input_shape=(X_train.shape[1], X_train.shape[2], X_train.shape[3]),\n",
    "                                          add_noise=True, verbose=True)"
   ]
  },
  {
   "cell_type": "code",
   "execution_count": 22,
   "metadata": {},
   "outputs": [
    {
     "name": "stdout",
     "output_type": "stream",
     "text": [
      "Training model...\n",
      "Train on 958 samples, validate on 240 samples\n",
      "Epoch 1/30\n",
      "92s - loss: 2.7470 - acc: 0.5031 - val_loss: 1.9812 - val_acc: 0.5250\n",
      "Epoch 2/30\n",
      "92s - loss: 1.6230 - acc: 0.5710 - val_loss: 1.2972 - val_acc: 0.5250\n",
      "Epoch 3/30\n",
      "92s - loss: 1.1110 - acc: 0.5605 - val_loss: 0.9546 - val_acc: 0.5958\n",
      "Epoch 4/30\n",
      "91s - loss: 0.8484 - acc: 0.6106 - val_loss: 0.7812 - val_acc: 0.6417\n",
      "Epoch 5/30\n",
      "91s - loss: 0.7436 - acc: 0.6263 - val_loss: 0.7123 - val_acc: 0.6542\n",
      "Epoch 6/30\n",
      "91s - loss: 0.6979 - acc: 0.6211 - val_loss: 0.6905 - val_acc: 0.6125\n",
      "Epoch 7/30\n",
      "91s - loss: 0.6639 - acc: 0.6378 - val_loss: 0.6602 - val_acc: 0.6458\n",
      "Epoch 8/30\n",
      "91s - loss: 0.6542 - acc: 0.6441 - val_loss: 0.6691 - val_acc: 0.6292\n",
      "Epoch 9/30\n",
      "91s - loss: 0.6423 - acc: 0.6628 - val_loss: 0.6573 - val_acc: 0.6500\n",
      "Epoch 10/30\n",
      "91s - loss: 0.6601 - acc: 0.6273 - val_loss: 0.6880 - val_acc: 0.5792\n",
      "Epoch 11/30\n",
      "91s - loss: 0.6489 - acc: 0.6420 - val_loss: 0.6436 - val_acc: 0.6542\n",
      "Epoch 12/30\n",
      "91s - loss: 0.6446 - acc: 0.6576 - val_loss: 0.6701 - val_acc: 0.6542\n",
      "Epoch 13/30\n",
      "91s - loss: 0.6319 - acc: 0.6482 - val_loss: 0.6617 - val_acc: 0.6542\n",
      "Epoch 14/30\n",
      "91s - loss: 0.6207 - acc: 0.6597 - val_loss: 0.6628 - val_acc: 0.6333\n",
      "Epoch 15/30\n",
      "91s - loss: 0.6279 - acc: 0.6649 - val_loss: 0.6682 - val_acc: 0.5958\n",
      "Epoch 16/30\n",
      "91s - loss: 0.6164 - acc: 0.6701 - val_loss: 0.6747 - val_acc: 0.6042\n",
      "Epoch 17/30\n",
      "91s - loss: 0.6124 - acc: 0.6618 - val_loss: 0.6728 - val_acc: 0.5917\n",
      "Epoch 18/30\n",
      "91s - loss: 0.6122 - acc: 0.6608 - val_loss: 0.6569 - val_acc: 0.6250\n",
      "Epoch 19/30\n",
      "91s - loss: 0.6046 - acc: 0.6858 - val_loss: 0.6452 - val_acc: 0.6583\n",
      "Epoch 20/30\n",
      "91s - loss: 0.6061 - acc: 0.6754 - val_loss: 0.6510 - val_acc: 0.6208\n",
      "Epoch 21/30\n",
      "91s - loss: 0.5839 - acc: 0.6952 - val_loss: 0.6897 - val_acc: 0.5625\n",
      "Epoch 22/30\n",
      "91s - loss: 0.5830 - acc: 0.6858 - val_loss: 0.6559 - val_acc: 0.6208\n",
      "Epoch 23/30\n",
      "91s - loss: 0.5954 - acc: 0.6827 - val_loss: 0.6340 - val_acc: 0.6708\n",
      "Epoch 24/30\n",
      "91s - loss: 0.6019 - acc: 0.6921 - val_loss: 0.6768 - val_acc: 0.5458\n",
      "Epoch 25/30\n",
      "91s - loss: 0.5579 - acc: 0.6952 - val_loss: 0.6340 - val_acc: 0.6750\n",
      "Epoch 26/30\n",
      "91s - loss: 0.5784 - acc: 0.6868 - val_loss: 0.6887 - val_acc: 0.4875\n",
      "Epoch 27/30\n",
      "91s - loss: 0.5631 - acc: 0.6910 - val_loss: 0.6876 - val_acc: 0.5000\n",
      "Epoch 28/30\n",
      "91s - loss: 0.5790 - acc: 0.6837 - val_loss: 0.6664 - val_acc: 0.6500\n",
      "Epoch 29/30\n",
      "91s - loss: 0.5608 - acc: 0.7182 - val_loss: 0.6670 - val_acc: 0.6167\n",
      "Epoch 30/30\n",
      "91s - loss: 0.5473 - acc: 0.7140 - val_loss: 0.6652 - val_acc: 0.6375\n",
      "Training duration : 2748.40827799\n",
      "Network's test score [loss, accuracy]: [0.66516260306040442, 0.63749999999999996]\n",
      "CNN Error: 36.25%\n"
     ]
    },
    {
     "data": {
      "text/plain": [
       "<matplotlib.figure.Figure at 0x11ff6a450>"
      ]
     },
     "metadata": {},
     "output_type": "display_data"
    },
    {
     "data": {
      "image/png": "[encoded data removed]",
      "text/plain": [
       "<matplotlib.figure.Figure at 0x121598d90>"
      ]
     },
     "metadata": {},
     "output_type": "display_data"
    }
   ],
   "source": [
    "np.random.seed(SEED)\n",
    "\n",
    "(cnn_model, loss_cnn, acc_cnn, test_score_cnn) = bc.run_network(model=diff_model7_noise_reg, earlyStop=False,\n",
    "                                                                data=data, \n",
    "                                                                epochs=30, batch=64) # Dropped to 30 epochs for time\n",
    "plt.figure(figsize=(10,10))\n",
    "bc.plot_losses(loss_cnn, acc_cnn)\n",
    "plt.savefig('../../figures/epoch_figures/jn_Core_CNN_Diagnosis_20170526.png', dpi=100)"
   ]
  },
  {
   "cell_type": "code",
   "execution_count": 23,
   "metadata": {},
   "outputs": [
    {
     "name": "stdout",
     "output_type": "stream",
     "text": [
      "Model and Weights Saved to Disk\n"
     ]
    }
   ],
   "source": [
    "bc.save_model(dir_path='./weights/', model=cnn_model, name='jn_Core_CNN_Diagnosis_20170526')"
   ]
  },
  {
   "cell_type": "code",
   "execution_count": 24,
   "metadata": {},
   "outputs": [
    {
     "name": "stdout",
     "output_type": "stream",
     "text": [
      "Core CNN Accuracy:   63.75%\n",
      "Core CNN Error:      36.25%\n",
      "Normalized confusion matrix\n",
      "[[ 0.45  0.55]\n",
      " [ 0.19  0.81]]\n"
     ]
    },
    {
     "data": {
      "image/png": "[encoded data removed]",
      "text/plain": [
       "<matplotlib.figure.Figure at 0x121640450>"
      ]
     },
     "metadata": {},
     "output_type": "display_data"
    }
   ],
   "source": [
    "print 'Core CNN Accuracy: {: >7.2f}%'.format(test_score_cnn[1] * 100)\n",
    "print 'Core CNN Error: {: >10.2f}%'.format(100 - test_score_cnn[1] * 100)\n",
    "\n",
    "predictOutput = bc.predict(cnn_model, X_test)\n",
    "\n",
    "cnn_matrix = skm.confusion_matrix(y_true=[val.argmax() for val in Y_test], y_pred=predictOutput)\n",
    "\n",
    "plt.figure(figsize=(8,6))\n",
    "bc.plot_confusion_matrix(cnn_matrix, classes=class_names, normalize=True,\n",
    "                         title='CNN Normalized Confusion Matrix Using Differencing \\n')\n",
    "plt.tight_layout()\n",
    "plt.savefig('../../figures/jn_Core_CNN_Diagnosis_20170526.png', dpi=100)"
   ]
  },
  {
   "cell_type": "code",
   "execution_count": 25,
   "metadata": {},
   "outputs": [
    {
     "name": "stdout",
     "output_type": "stream",
     "text": [
      "Confusion matrix, without normalization\n",
      "[[ 51  63]\n",
      " [ 24 102]]\n"
     ]
    },
    {
     "data": {
      "image/png": "[encoded data removed]",
      "text/plain": [
       "<matplotlib.figure.Figure at 0x12e8e26d0>"
      ]
     },
     "metadata": {},
     "output_type": "display_data"
    }
   ],
   "source": [
    "plt.figure(figsize=(8,6))\n",
    "bc.plot_confusion_matrix(cnn_matrix, classes=class_names, normalize=False,\n",
    "                         title='CNN Raw Confusion Matrix Using Differencing \\n')\n",
    "plt.tight_layout()"
   ]
  },
  {
   "cell_type": "code",
   "execution_count": 26,
   "metadata": {},
   "outputs": [
    {
     "data": {
      "text/plain": [
       "{'Accuracy': 63.75,\n",
       " 'F1': 0.7,\n",
       " 'NPV': 68.0,\n",
       " 'PPV': 61.82,\n",
       " 'Sensitivity': 80.95,\n",
       " 'Specificity': 44.74}"
      ]
     },
     "execution_count": 26,
     "metadata": {},
     "output_type": "execute_result"
    }
   ],
   "source": [
    "bc.cat_stats(cnn_matrix)"
   ]
  },
  {
   "cell_type": "code",
   "execution_count": null,
   "metadata": {
    "collapsed": true
   },
   "outputs": [],
   "source": []
  }
 ],
 "metadata": {
  "kernelspec": {
   "display_name": "Python 2",
   "language": "python",
   "name": "python2"
  },
  "language_info": {
   "codemirror_mode": {
    "name": "ipython",
    "version": 2
   },
   "file_extension": ".py",
   "mimetype": "text/x-python",
   "name": "python",
   "nbconvert_exporter": "python",
   "pygments_lexer": "ipython2",
   "version": "2.7.13"
  }
 },
 "nbformat": 4,
 "nbformat_minor": 2
}
