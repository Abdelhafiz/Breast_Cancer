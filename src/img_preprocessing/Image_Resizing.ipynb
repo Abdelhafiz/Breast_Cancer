{
 "cells": [
  {
   "cell_type": "markdown",
   "metadata": {},
   "source": [
    "# Image Resizing Functions"
   ]
  },
  {
   "cell_type": "markdown",
   "metadata": {},
   "source": [
    "The VGG-16 and GoogLeNet pretrained networks need the images to be 224x224 pixles the recommendation from comment threads is to start with 255x255 and wither crop or resize the image from there. The first resizing function simply works through a given image directory or list of directories and resizes the images without worry about aspect ratio."
   ]
  },
  {
   "cell_type": "code",
   "execution_count": 1,
   "metadata": {
    "collapsed": true
   },
   "outputs": [],
   "source": [
    "import os\n",
    "from PIL import Image"
   ]
  },
  {
   "cell_type": "code",
   "execution_count": 2,
   "metadata": {
    "collapsed": false
   },
   "outputs": [],
   "source": [
    "in_dir1 = \"E:/erikn/Dropbox (DATA698-S17)/DATA698-S17/data/ddsm/png/0/\"\n",
    "in_dir2 = \"E:/erikn/Dropbox (DATA698-S17)/DATA698-S17/data/ddsm/png/1/\"\n",
    "in_dir3 = \"E:/erikn/Dropbox (DATA698-S17)/DATA698-S17/data/ddsm/png/3/\"\n",
    "\n",
    "img_in = [in_dir1, in_dir2, in_dir3]\n",
    "\n",
    "out_dir = \"E:/erikn/Documents/GitHub/MLProjects/data698_images/small/\""
   ]
  },
  {
   "cell_type": "code",
   "execution_count": 3,
   "metadata": {
    "collapsed": false
   },
   "outputs": [],
   "source": [
    "def basic_resize(height, width, in_dir, out_dir):\n",
    "    # Takes a directory or list of directories containing png images and resizes to the given height and width \n",
    "    for directory in in_dir:\n",
    "        images = os.listdir(directory)\n",
    "        for img in images:\n",
    "            im = Image.open(os.path.join(directory, img))\n",
    "            size = im.resize((width,height), resample=Image.LANCZOS)\n",
    "            size.save(os.path.join(out_dir, img))"
   ]
  },
  {
   "cell_type": "code",
   "execution_count": 5,
   "metadata": {
    "collapsed": false
   },
   "outputs": [],
   "source": [
    "height = 255\n",
    "width = 255\n",
    "img_in = [\"E:/erikn/Documents/GitHub/MLProjects/data698_images/png/\"]\n",
    "basic_resize(height, width, img_in, out_dir)"
   ]
  },
  {
   "cell_type": "markdown",
   "metadata": {},
   "source": [
    "The next resizing function is designed to maintain the aspect ratio of the image while doing the resize. You can selecct the desired height and the function adds in black rows to the edges of the image to make all images the same size then resizes the image to desired size."
   ]
  },
  {
   "cell_type": "code",
   "execution_count": 8,
   "metadata": {
    "collapsed": true
   },
   "outputs": [],
   "source": [
    "from scipy import misc\n",
    "from scipy import ndimage\n",
    "import numpy as np\n",
    "import matplotlib.pyplot as plt\n",
    "%matplotlib inline"
   ]
  }
 ],
 "metadata": {
  "anaconda-cloud": {},
  "kernelspec": {
   "display_name": "Python [conda env:py27]",
   "language": "python",
   "name": "conda-env-py27-py"
  },
  "language_info": {
   "codemirror_mode": {
    "name": "ipython",
    "version": 2
   },
   "file_extension": ".py",
   "mimetype": "text/x-python",
   "name": "python",
   "nbconvert_exporter": "python",
   "pygments_lexer": "ipython2",
   "version": "2.7.12"
  }
 },
 "nbformat": 4,
 "nbformat_minor": 2
}
